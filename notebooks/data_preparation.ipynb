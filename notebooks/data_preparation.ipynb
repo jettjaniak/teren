{
 "cells": [
  {
   "cell_type": "code",
   "execution_count": 2,
   "metadata": {},
   "outputs": [],
   "source": [
    "import pandas as pd\n",
    "import numpy as np\n",
    "from sklearn.model_selection import train_test_split\n",
    "from sklearn.multioutput import MultiOutputRegressor\n",
    "from sklearn.metrics import mean_squared_error, r2_score\n",
    "import xgboost as xgb\n",
    "from scipy import stats"
   ]
  },
  {
   "cell_type": "code",
   "execution_count": 3,
   "metadata": {},
   "outputs": [],
   "source": [
    "df = pd.read_feather(\"data/dataset.feather\")"
   ]
  },
  {
   "cell_type": "code",
   "execution_count": 4,
   "metadata": {},
   "outputs": [],
   "source": [
    "def remove_outliers(X, y, z_threshold=3):\n",
    "    z_scores = np.abs(stats.zscore(y))\n",
    "    mask = (z_scores < z_threshold).all(axis=1)\n",
    "    return X[mask], y[mask]"
   ]
  },
  {
   "cell_type": "code",
   "execution_count": 5,
   "metadata": {},
   "outputs": [],
   "source": [
    "label_cols = [\"kl_div_blowup_step\", \"plateau_length\"]\n",
    "exclude_cols = [\n",
    "    \"id\",\n",
    "    \"start_prompt\",\n",
    "    \"end_prompt\",\n",
    "    \"perturbation_type\",\n",
    "    \"final_kl_div\",\n",
    "    \"perturbation_type\",\n",
    "    \"kl_div_blowup_step\",\n",
    "    \"plateau_length\",\n",
    "]\n",
    "exclude_cols = set(exclude_cols) | set(label_cols)\n",
    "feature_cols = [c for c in df.columns if c not in exclude_cols]"
   ]
  },
  {
   "cell_type": "code",
   "execution_count": 6,
   "metadata": {},
   "outputs": [
    {
     "name": "stdout",
     "output_type": "stream",
     "text": [
      "(20000, 1310) (20000, 2)\n"
     ]
    }
   ],
   "source": [
    "X, y = df[feature_cols].to_numpy(), df[label_cols].to_numpy()\n",
    "print(X.shape, y.shape)"
   ]
  },
  {
   "cell_type": "code",
   "execution_count": 7,
   "metadata": {},
   "outputs": [],
   "source": [
    "X, y = remove_outliers(X, y)"
   ]
  },
  {
   "cell_type": "code",
   "execution_count": 8,
   "metadata": {},
   "outputs": [
    {
     "name": "stdout",
     "output_type": "stream",
     "text": [
      "(17630, 1310) (1959, 1310)\n"
     ]
    }
   ],
   "source": [
    "X_train, X_test, y_train, y_test = train_test_split(\n",
    "    X, y, test_size=0.1, random_state=324592\n",
    ")\n",
    "\n",
    "print(X_train.shape, X_test.shape)"
   ]
  },
  {
   "cell_type": "code",
   "execution_count": 11,
   "metadata": {},
   "outputs": [],
   "source": [
    "from sklearn.feature_selection import SelectFromModel\n",
    "\n",
    "\n",
    "def select_features(X, y, estimator):\n",
    "    selector = SelectFromModel(estimator, threshold=\"median\")\n",
    "    selector.fit(X, y)\n",
    "    return selector\n",
    "\n",
    "\n",
    "# Assuming X_train and y_train are your full training data\n",
    "selector = select_features(X_train, y_train, xgb.XGBRegressor())  # For first target\n",
    "X_train_selected = selector.transform(X_train)\n",
    "X_test_selected = selector.transform(X_test)"
   ]
  },
  {
   "cell_type": "code",
   "execution_count": null,
   "metadata": {},
   "outputs": [],
   "source": []
  }
 ],
 "metadata": {
  "kernelspec": {
   "display_name": "virtualenvs",
   "language": "python",
   "name": "python3"
  },
  "language_info": {
   "codemirror_mode": {
    "name": "ipython",
    "version": 3
   },
   "file_extension": ".py",
   "mimetype": "text/x-python",
   "name": "python",
   "nbconvert_exporter": "python",
   "pygments_lexer": "ipython3",
   "version": "3.10.14"
  }
 },
 "nbformat": 4,
 "nbformat_minor": 2
}
