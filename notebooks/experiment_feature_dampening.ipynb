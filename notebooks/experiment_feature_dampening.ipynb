{
 "cells": [
  {
   "cell_type": "code",
   "execution_count": 1,
   "metadata": {},
   "outputs": [],
   "source": [
    "import pandas as pd\n",
    "import numpy as np\n",
    "from glob import glob\n",
    "from scipy import stats\n",
    "from sae_lens.toolkit.pretrained_saes import get_gpt2_res_jb_saes\n",
    "import json\n",
    "import random\n",
    "import matplotlib.pyplot as plt\n",
    "from typing import List, Dict, Tuple\n",
    "from transformer_lens import HookedTransformer\n",
    "import torch\n",
    "from jaxtyping import Float, Int\n",
    "from collections import defaultdict\n",
    "from sklearn.decomposition import TruncatedSVD\n",
    "import itertools\n",
    "import torch.nn.functional as F\n",
    "import math\n",
    "import seaborn as sns"
   ]
  },
  {
   "cell_type": "markdown",
   "metadata": {},
   "source": [
    "## Setup"
   ]
  },
  {
   "cell_type": "code",
   "execution_count": 2,
   "metadata": {},
   "outputs": [],
   "source": [
    "def get_device_str() -> str:\n",
    "    if torch.backends.mps.is_available():\n",
    "        return \"mps\"\n",
    "    else:\n",
    "        return \"cuda\" if torch.cuda.is_available() else \"cpu\"\n",
    "\n",
    "\n",
    "def comp_js_divergence(\n",
    "    p_logit: Float[torch.Tensor, \"*batch vocab\"],\n",
    "    q_logit: Float[torch.Tensor, \"*batch vocab\"],\n",
    ") -> Float[torch.Tensor, \"*batch\"]:\n",
    "    p_logprob = torch.log_softmax(p_logit, dim=-1)\n",
    "    q_logprob = torch.log_softmax(q_logit, dim=-1)\n",
    "    p = p_logprob.exp()\n",
    "    q = q_logprob.exp()\n",
    "\n",
    "    # convert to log2\n",
    "    p_logprob *= math.log2(math.e)\n",
    "    q_logprob *= math.log2(math.e)\n",
    "\n",
    "    m = 0.5 * (p + q)\n",
    "    m_logprob = m.log2()\n",
    "\n",
    "    p_kl_div = (p * (p_logprob - m_logprob)).sum(-1)\n",
    "    q_kl_div = (q * (q_logprob - m_logprob)).sum(-1)\n",
    "\n",
    "    assert p_kl_div.isfinite().all()\n",
    "    assert q_kl_div.isfinite().all()\n",
    "    return (p_kl_div + q_kl_div) / 2"
   ]
  },
  {
   "cell_type": "code",
   "execution_count": 3,
   "metadata": {},
   "outputs": [
    {
     "name": "stdout",
     "output_type": "stream",
     "text": [
      "Loaded pretrained model gpt2 into HookedTransformer\n",
      "cuda\n"
     ]
    }
   ],
   "source": [
    "model = HookedTransformer.from_pretrained(\"gpt2\")\n",
    "device = get_device_str()\n",
    "\n",
    "print(device)"
   ]
  },
  {
   "cell_type": "code",
   "execution_count": 4,
   "metadata": {},
   "outputs": [
    {
     "name": "stderr",
     "output_type": "stream",
     "text": [
      "100%|██████████| 1/1 [00:00<00:00,  1.39it/s]\n"
     ]
    },
    {
     "data": {
      "text/plain": [
       "SAE(\n",
       "  (activation_fn): ReLU()\n",
       "  (hook_sae_input): HookPoint()\n",
       "  (hook_sae_acts_pre): HookPoint()\n",
       "  (hook_sae_acts_post): HookPoint()\n",
       "  (hook_sae_output): HookPoint()\n",
       "  (hook_sae_recons): HookPoint()\n",
       "  (hook_sae_error): HookPoint()\n",
       ")"
      ]
     },
     "execution_count": 4,
     "metadata": {},
     "output_type": "execute_result"
    }
   ],
   "source": [
    "perturbation_layer = \"blocks.0.hook_resid_pre\"\n",
    "saes, sparsities = get_gpt2_res_jb_saes(perturbation_layer)\n",
    "sae = saes[perturbation_layer].cpu()\n",
    "feature_sparsities = 10 ** sparsities[perturbation_layer].cpu()\n",
    "\n",
    "sae.eval()"
   ]
  },
  {
   "cell_type": "code",
   "execution_count": 5,
   "metadata": {},
   "outputs": [],
   "source": [
    "def load_jsonl(file_path):\n",
    "    data = []\n",
    "    with open(file_path, \"r\") as file:\n",
    "        for line in file:\n",
    "            # Parse each line as a JSON object\n",
    "            json_object = json.loads(line.strip())\n",
    "            data.append(json_object)\n",
    "    return data\n",
    "\n",
    "\n",
    "def find_plateau_length(\n",
    "    steps: List[Dict], threshold: float = 0.005, window_size: int = 5\n",
    ") -> int:\n",
    "    kl_divs = [step[\"kl_div\"] for step in steps]\n",
    "\n",
    "    def calculate_slope(y_values, x_values):\n",
    "        slope, _, _, _, _ = stats.linregress(x_values, y_values)\n",
    "        return slope\n",
    "\n",
    "    for i in range(len(kl_divs) - window_size + 1):\n",
    "        window = kl_divs[i : i + window_size]\n",
    "        x_values = list(range(window_size))\n",
    "        slope = calculate_slope(window, x_values)\n",
    "\n",
    "        if abs(slope) > threshold:\n",
    "            return i\n",
    "\n",
    "    return len(steps) - 1\n",
    "\n",
    "\n",
    "def find_plateau_length_js(\n",
    "    steps: List[Dict], threshold: float = 5e-05, window_size: int = 5\n",
    ") -> int:\n",
    "    js_divs = [step[\"js_div\"] for step in steps]\n",
    "\n",
    "    def calculate_slope(y_values, x_values):\n",
    "        slope, _, _, _, _ = stats.linregress(x_values, y_values)\n",
    "        return slope\n",
    "\n",
    "    for i in range(len(js_divs) - window_size + 1):\n",
    "        window = js_divs[i : i + window_size]\n",
    "        x_values = list(range(window_size))\n",
    "        slope = calculate_slope(window, x_values)\n",
    "\n",
    "        if abs(slope) > threshold:\n",
    "            return i\n",
    "\n",
    "    return len(steps) - 1\n",
    "\n",
    "\n",
    "def get_feature_dir(sae, feature_id, feature_act, norm=False):\n",
    "    feature_acts = torch.zeros(sae.W_enc.shape[1])\n",
    "\n",
    "    # Activate the specified feature\n",
    "    feature_acts[:] = 0\n",
    "    feature_acts[feature_id] = feature_act\n",
    "\n",
    "    # Decode back to the residual stream space\n",
    "    perturbed_act = sae.decode(feature_acts)\n",
    "\n",
    "    if norm:\n",
    "        perturbed_act /= torch.norm(perturbed_act)\n",
    "\n",
    "    return perturbed_act\n",
    "\n",
    "\n",
    "def find_js_dist_blowup(\n",
    "    js_dists: List[float],\n",
    "    slope_threshold: float = 1.25,\n",
    "    min_js_distance: float = 0.1,\n",
    "    min_slope_threshold: float = 0.02,\n",
    ") -> int:\n",
    "    steps = list(range(len(js_dists)))\n",
    "\n",
    "    slopes = []\n",
    "    for i in range(1, len(steps)):\n",
    "        dy = js_dists[i] - js_dists[i - 1]\n",
    "        dx = steps[i] - steps[i - 1]\n",
    "        slopes.append(dy / dx if dx != 0 else 0)\n",
    "\n",
    "    # Pad the beginning of slopes list to match the length of steps\n",
    "    slopes = [slopes[0]] + slopes\n",
    "\n",
    "    for i in range(1, len(steps)):\n",
    "        current_slope = slopes[i]\n",
    "        prev_slope = slopes[i - 1]\n",
    "\n",
    "        # print(f\"step={i}, {current_slope=} {prev_slope=}, {slope_threshold * max(prev_slope, 1e-6)}\")\n",
    "\n",
    "        # Check if we're in an increasing trend and above minimum JS distance\n",
    "        if (\n",
    "            current_slope > (slope_threshold * max(prev_slope, 1e-6))\n",
    "            or current_slope >= min_slope_threshold\n",
    "        ) and js_dists[i] >= min_js_distance:\n",
    "            return i\n",
    "\n",
    "    return len(steps) - 1"
   ]
  },
  {
   "cell_type": "code",
   "execution_count": 6,
   "metadata": {},
   "outputs": [],
   "source": [
    "metadata, activations = [], []\n",
    "\n",
    "for path in glob(\"observations/metadata*\"):\n",
    "    metadata.extend(load_jsonl(path))\n",
    "\n",
    "for path in glob(\"observations/acts*\"):\n",
    "    activations.append(np.load(path))\n",
    "\n",
    "activations = np.concatenate(activations)"
   ]
  },
  {
   "cell_type": "code",
   "execution_count": 7,
   "metadata": {},
   "outputs": [
    {
     "data": {
      "text/plain": [
       "(5000, (5000, 100, 768))"
      ]
     },
     "execution_count": 7,
     "metadata": {},
     "output_type": "execute_result"
    }
   ],
   "source": [
    "len(metadata), activations.shape"
   ]
  },
  {
   "cell_type": "markdown",
   "metadata": {},
   "source": [
    "## Individual feature dampening"
   ]
  },
  {
   "cell_type": "code",
   "execution_count": 9,
   "metadata": {},
   "outputs": [],
   "source": [
    "def process_dampening_step(\n",
    "    fa, feature_act_steps, step, feature_id, start_prompt_gpu, start_logits\n",
    "):\n",
    "    fa_copy = fa.clone()\n",
    "    fa_copy[feature_id] = feature_act_steps[step]\n",
    "    ablation_act = sae.decode(fa_copy)\n",
    "\n",
    "    def hook(act, hook):\n",
    "        # Modify all tokens, not just the last one\n",
    "        act[:, :, :] = ablation_act.unsqueeze(0).unsqueeze(0).expand_as(act)\n",
    "\n",
    "    with model.hooks(fwd_hooks=[(perturbation_layer, hook)]):\n",
    "        pert_logits, _ = model.run_with_cache(start_prompt_gpu)\n",
    "\n",
    "    # Calculate JS divergence for all tokens\n",
    "    js_div = comp_js_divergence(pert_logits, start_logits)\n",
    "    js_dist = torch.sqrt(js_div + 1e-8).mean().item()  # Average over all tokens\n",
    "    return js_dist\n",
    "\n",
    "\n",
    "def get_dampening_by_rank(metadata, n_examples):\n",
    "    js_dist_by_rank = {1: [], 2: [], 3: [], 4: [], 5: []}\n",
    "    acts_by_rank = {1: [], 2: [], 3: [], 4: [], 5: []}\n",
    "\n",
    "    idxs = random.sample(range(len(metadata)), n_examples)\n",
    "\n",
    "    for i, idx in enumerate(idxs):\n",
    "        m = metadata[idx]\n",
    "\n",
    "        start_prompt = m[\"start_prompt\"]\n",
    "\n",
    "        with torch.no_grad():\n",
    "            start_prompt_gpu = torch.tensor(start_prompt).to(device)\n",
    "            start_logits, _ = model.run_with_cache(start_prompt_gpu)\n",
    "\n",
    "        active_feature_ids = m[\"steps_metadata\"][0][\"active_feature_ids\"]\n",
    "        active_feature_acts = m[\"steps_metadata\"][0][\"active_feature_acts\"]\n",
    "\n",
    "        sorted_feature_ids_with_acts = sorted(\n",
    "            zip(active_feature_ids, active_feature_acts),\n",
    "            key=lambda t: t[1],\n",
    "            reverse=True,\n",
    "        )\n",
    "\n",
    "        feature_acts = torch.zeros(sae.W_enc.shape[1])\n",
    "        feature_acts[active_feature_ids] = torch.tensor(active_feature_acts)\n",
    "\n",
    "        for rank, (feature_id, feature_act) in enumerate(\n",
    "            sorted_feature_ids_with_acts[:5], start=1\n",
    "        ):\n",
    "            feature_act_steps = np.linspace(feature_act, 0, 100)\n",
    "\n",
    "            feat_act_by_rank = []\n",
    "            feat_js_dist_by_rank = []\n",
    "\n",
    "            for step in range(100):\n",
    "                js_dist = process_dampening_step(\n",
    "                    feature_acts,\n",
    "                    feature_act_steps,\n",
    "                    step,\n",
    "                    feature_id,\n",
    "                    start_prompt_gpu,\n",
    "                    start_logits,\n",
    "                )\n",
    "\n",
    "                feat_act_by_rank.append(feature_act_steps[step])\n",
    "                feat_js_dist_by_rank.append(js_dist)\n",
    "\n",
    "            js_dist_by_rank[rank].append(feat_js_dist_by_rank)\n",
    "            acts_by_rank[rank].append(feat_act_by_rank)\n",
    "\n",
    "        if i % 10 == 0:\n",
    "            print(f\"Processed {i} perturbations\")\n",
    "\n",
    "    return js_dist_by_rank, acts_by_rank"
   ]
  },
  {
   "cell_type": "code",
   "execution_count": 10,
   "metadata": {},
   "outputs": [
    {
     "name": "stdout",
     "output_type": "stream",
     "text": [
      "Processed 0 perturbations\n",
      "Processed 10 perturbations\n",
      "Processed 20 perturbations\n",
      "Processed 30 perturbations\n",
      "Processed 40 perturbations\n",
      "Processed 50 perturbations\n",
      "Processed 60 perturbations\n",
      "Processed 70 perturbations\n",
      "Processed 80 perturbations\n",
      "Processed 90 perturbations\n"
     ]
    }
   ],
   "source": [
    "js_dist_by_rank, acts_by_rank = get_dampening_by_rank(metadata, n_examples=100)"
   ]
  },
  {
   "cell_type": "code",
   "execution_count": 11,
   "metadata": {},
   "outputs": [],
   "source": [
    "def plot_feature_rank_spread(data_dict):\n",
    "    plt.figure(figsize=(15, 10))\n",
    "\n",
    "    num_ranks_to_plot = len(data_dict.keys())\n",
    "    colors = plt.cm.viridis(np.linspace(0, 1, num_ranks_to_plot))\n",
    "\n",
    "    for rank in range(1, num_ranks_to_plot + 1):\n",
    "        if rank != 2:\n",
    "            continue\n",
    "        rank_data = data_dict[rank]\n",
    "        steps = range(len(rank_data[0]))\n",
    "        values = np.array(rank_data).T\n",
    "\n",
    "        mean_values = values.mean(axis=1)\n",
    "        std_values = values.std(axis=1)\n",
    "\n",
    "        plt.plot(steps, mean_values, label=f\"Rank {rank}\", color=colors[rank - 1])\n",
    "        plt.fill_between(\n",
    "            steps,\n",
    "            [m - s for m, s in zip(mean_values, std_values)],\n",
    "            [m + s for m, s in zip(mean_values, std_values)],\n",
    "            alpha=0.2,\n",
    "            color=colors[rank - 1],\n",
    "        )\n",
    "\n",
    "    plt.xlabel(\"Steps\")\n",
    "    plt.ylabel(\"JS Distance\")\n",
    "    plt.yticks(np.arange(0, 1.2, 0.2))\n",
    "    plt.title(\"Feature Rank Spread Over Dampening Steps\")\n",
    "    plt.legend()\n",
    "    plt.grid(True, alpha=0.3)\n",
    "    plt.show()"
   ]
  },
  {
   "cell_type": "code",
   "execution_count": 16,
   "metadata": {},
   "outputs": [],
   "source": [
    "# plot_feature_rank_spread(js_dist_by_rank)"
   ]
  },
  {
   "cell_type": "code",
   "execution_count": null,
   "metadata": {},
   "outputs": [],
   "source": [
    "# Set up the plot\n",
    "fig, axs = plt.subplots(5, 1, figsize=(15, 25), sharex=True)\n",
    "fig.suptitle(\"JS Distance Distribution by Rank and Step\", fontsize=16)\n",
    "\n",
    "# Colors for each rank\n",
    "colors = [\"blue\", \"green\", \"red\", \"purple\", \"orange\"]\n",
    "\n",
    "for rank, (color, ax) in enumerate(zip(colors, axs), start=1):\n",
    "    data = np.array(js_dist_by_rank[rank])\n",
    "\n",
    "    # Create scatter plot\n",
    "    for step in range(data.shape[1]):\n",
    "        ax.scatter([step] * data.shape[0], data[:, step], color=color, alpha=0.1, s=10)\n",
    "\n",
    "    # Calculate and plot mean line\n",
    "    mean_line = np.mean(data, axis=0)\n",
    "    ax.plot(range(data.shape[1]), mean_line, color=\"black\", linewidth=2)\n",
    "\n",
    "    ax.set_ylabel(f\"Rank {rank}\")\n",
    "    ax.set_ylim(0, 1)  # Assuming JS distance is between 0 and 1\n",
    "    ax.grid(True, linestyle=\"--\", alpha=0.7)\n",
    "\n",
    "# Set common x-label\n",
    "axs[-1].set_xlabel(\"Steps\")\n",
    "\n",
    "plt.tight_layout()\n",
    "plt.show()"
   ]
  },
  {
   "cell_type": "code",
   "execution_count": null,
   "metadata": {},
   "outputs": [],
   "source": []
  },
  {
   "cell_type": "code",
   "execution_count": null,
   "metadata": {},
   "outputs": [],
   "source": []
  },
  {
   "cell_type": "code",
   "execution_count": null,
   "metadata": {},
   "outputs": [],
   "source": []
  },
  {
   "cell_type": "code",
   "execution_count": null,
   "metadata": {},
   "outputs": [],
   "source": []
  }
 ],
 "metadata": {
  "kernelspec": {
   "display_name": "virtualenvs",
   "language": "python",
   "name": "python3"
  },
  "language_info": {
   "codemirror_mode": {
    "name": "ipython",
    "version": 3
   },
   "file_extension": ".py",
   "mimetype": "text/x-python",
   "name": "python",
   "nbconvert_exporter": "python",
   "pygments_lexer": "ipython3",
   "version": "3.10.14"
  }
 },
 "nbformat": 4,
 "nbformat_minor": 2
}
