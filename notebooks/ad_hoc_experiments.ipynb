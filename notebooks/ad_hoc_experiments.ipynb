{
 "cells": [
  {
   "cell_type": "code",
   "execution_count": 1,
   "metadata": {},
   "outputs": [],
   "source": [
    "import pandas as pd\n",
    "import numpy as np\n",
    "from glob import glob\n",
    "from scipy import stats\n",
    "from sae_lens.toolkit.pretrained_saes import get_gpt2_res_jb_saes\n",
    "import json\n",
    "import random\n",
    "import matplotlib.pyplot as plt\n",
    "from typing import List, Dict, Tuple\n",
    "from transformer_lens import HookedTransformer\n",
    "import torch\n",
    "from jaxtyping import Float, Int\n",
    "from collections import defaultdict, Counter\n",
    "from sklearn.decomposition import TruncatedSVD\n",
    "import itertools\n",
    "from scipy.stats import linregress\n",
    "import plotly_express as px\n",
    "import torch.nn.functional as F\n",
    "import math\n",
    "import seaborn as sns"
   ]
  },
  {
   "cell_type": "code",
   "execution_count": 15,
   "metadata": {},
   "outputs": [],
   "source": [
    "def get_device_str() -> str:\n",
    "    if torch.backends.mps.is_available():\n",
    "        return \"mps\"\n",
    "    else:\n",
    "        return \"cuda\" if torch.cuda.is_available() else \"cpu\"\n",
    "\n",
    "\n",
    "def find_js_dist_blowup_max_slope(\n",
    "    js_dists: List[float], min_slope_threshold: float = 0.02\n",
    "):\n",
    "    steps = list(range(len(js_dists)))\n",
    "\n",
    "    slopes = []\n",
    "    for i in range(1, len(steps)):\n",
    "        dy = js_dists[i] - js_dists[i - 1]\n",
    "        dx = steps[i] - steps[i - 1]\n",
    "        slopes.append(dy / dx if dx != 0 else 0)\n",
    "\n",
    "    # Pad the beginning of slopes list to match the length of steps\n",
    "    slopes = [slopes[0]] + slopes\n",
    "\n",
    "    if not any(np.array(slopes) > min_slope_threshold):\n",
    "        return len(steps) - 1\n",
    "\n",
    "    return np.argsort(np.nan_to_num(slopes))[::-1][0]\n",
    "\n",
    "\n",
    "def get_data_for_step(steps):\n",
    "    step_js_dists = [s[\"js_dist\"] for s in steps]\n",
    "    js_blowup_step = find_js_dist_blowup_max_slope(step_js_dists)\n",
    "    sensitivity = 1 - js_blowup_step / len(step_js_dists)\n",
    "    feature_acts = get_feature_activations(steps)\n",
    "    return feature_acts, step_js_dists, js_blowup_step, sensitivity\n",
    "\n",
    "\n",
    "def get_feature_activations(sae, steps):\n",
    "    feature_activations = []\n",
    "    for _, s in enumerate(steps):\n",
    "        active_feature_ids = s[\"active_feature_ids\"]\n",
    "        active_feature_acts = s[\"active_feature_acts\"]\n",
    "        feature_acts = torch.zeros(sae.W_enc.shape[1])\n",
    "        feature_acts[active_feature_ids] = torch.tensor(active_feature_acts)\n",
    "        feature_activations.append(feature_acts)\n",
    "    return torch.stack(feature_activations)"
   ]
  },
  {
   "cell_type": "code",
   "execution_count": 11,
   "metadata": {},
   "outputs": [
    {
     "name": "stdout",
     "output_type": "stream",
     "text": [
      "Loaded pretrained model gpt2 into HookedTransformer\n",
      "cuda\n"
     ]
    }
   ],
   "source": [
    "model = HookedTransformer.from_pretrained(\"gpt2\")\n",
    "device = get_device_str()\n",
    "\n",
    "print(device)"
   ]
  },
  {
   "cell_type": "code",
   "execution_count": 19,
   "metadata": {},
   "outputs": [
    {
     "name": "stderr",
     "output_type": "stream",
     "text": [
      "100%|██████████| 1/1 [00:00<00:00,  1.89it/s]\n"
     ]
    }
   ],
   "source": [
    "perturbation_layer = \"blocks.0.hook_resid_pre\"\n",
    "saes, sparsities = get_gpt2_res_jb_saes(perturbation_layer)\n",
    "sae.eval()\n",
    "\n",
    "sae = saes[perturbation_layer].cpu()\n",
    "feature_sparsities = 10 ** sparsities[perturbation_layer].cpu()"
   ]
  },
  {
   "cell_type": "code",
   "execution_count": null,
   "metadata": {},
   "outputs": [],
   "source": [
    "def interpolate_feature_acts(steps):\n",
    "    pass"
   ]
  },
  {
   "cell_type": "code",
   "execution_count": 5,
   "metadata": {},
   "outputs": [],
   "source": [
    "with open(\"data/clean_metadata.json\", \"r\") as fr:\n",
    "    metadata = json.load(fr)\n",
    "\n",
    "activations = np.load(\"data/clean_activations.npy\")"
   ]
  },
  {
   "cell_type": "code",
   "execution_count": 73,
   "metadata": {},
   "outputs": [],
   "source": []
  },
  {
   "cell_type": "code",
   "execution_count": 125,
   "metadata": {},
   "outputs": [],
   "source": [
    "def interpolate_features(steps):\n",
    "    start_active_ids = steps[0][\"active_feature_ids\"]\n",
    "    start_active_feat_acts = steps[0][\"active_feature_acts\"]\n",
    "\n",
    "    end_active_ids = steps[-1][\"active_feature_ids\"]\n",
    "    end_active_feat_acts = steps[-1][\"active_feature_acts\"]\n",
    "\n",
    "    all_active_feature_ids = list(set(start_active_ids + end_active_ids))\n",
    "    all_active_feats = {k: {\"start\": 0, \"end\": 0} for k in all_active_feature_ids}\n",
    "\n",
    "    for f_id, f_act in zip(start_active_ids, start_active_feat_acts):\n",
    "        all_active_feats[f_id][\"start\"] = f_act\n",
    "\n",
    "    for f_id, f_act in zip(end_active_ids, end_active_feat_acts):\n",
    "        all_active_feats[f_id][\"end\"] = f_act\n",
    "\n",
    "    interpolated_feature_acts = []\n",
    "\n",
    "    for i in range(len(steps)):\n",
    "        f_act = torch.zeros(sae.W_enc.shape[1])\n",
    "        for f_id in all_active_feature_ids:\n",
    "            f_range = all_active_feats[f_id]\n",
    "            step_size = (f_range[\"end\"] - f_range[\"start\"]) / 100\n",
    "            feat_step_act = f_range[\"start\"] + (step_size * i)\n",
    "            f_act[f_id] = feat_step_act\n",
    "        interpolated_feature_acts.append(f_act)\n",
    "    interpolated_feature_acts = torch.stack(interpolated_feature_acts)\n",
    "    return interpolated_feature_acts"
   ]
  },
  {
   "cell_type": "code",
   "execution_count": 120,
   "metadata": {},
   "outputs": [],
   "source": [
    "cos_sim_sae_enc_acts_and_acts = []\n",
    "cos_sim_interp_acts_and_acts = []\n",
    "\n",
    "l2_sae_enc_acts_and_acts = []\n",
    "l2_interp_acts_and_acts = []\n",
    "\n",
    "n_examples = 5000\n",
    "idxs = random.sample(range(len(metadata)), n_examples)\n",
    "\n",
    "for idx in idxs:\n",
    "    steps = metadata[idx][\"steps_metadata\"]\n",
    "    feature_acts = get_feature_activations(sae, steps)\n",
    "    acts = torch.tensor(activations[idx])\n",
    "\n",
    "    start_active_ids = steps[0][\"active_feature_ids\"]\n",
    "    start_active_feat_acts = steps[0][\"active_feature_acts\"]\n",
    "\n",
    "    end_active_ids = steps[-1][\"active_feature_ids\"]\n",
    "    end_active_feat_acts = steps[-1][\"active_feature_acts\"]\n",
    "\n",
    "    all_active_feature_ids = list(set(start_active_ids + end_active_ids))\n",
    "    all_active_feats = {k: {\"start\": 0, \"end\": 0} for k in all_active_feature_ids}\n",
    "\n",
    "    for f_id, f_act in zip(start_active_ids, start_active_feat_acts):\n",
    "        all_active_feats[f_id][\"start\"] = f_act\n",
    "\n",
    "    for f_id, f_act in zip(end_active_ids, end_active_feat_acts):\n",
    "        all_active_feats[f_id][\"end\"] = f_act\n",
    "\n",
    "    interpolated_feature_acts = []\n",
    "\n",
    "    for i in range(100):\n",
    "        f_act = torch.zeros(sae.W_enc.shape[1])\n",
    "        for f_id in all_active_feature_ids:\n",
    "            f_range = all_active_feats[f_id]\n",
    "            step_size = (f_range[\"end\"] - f_range[\"start\"]) / 100\n",
    "            feat_step_act = f_range[\"start\"] + (step_size * i)\n",
    "            f_act[f_id] = feat_step_act\n",
    "        interpolated_feature_acts.append(f_act)\n",
    "    interpolated_feature_acts = torch.stack(interpolated_feature_acts)\n",
    "\n",
    "    decoded_orig_feat_acts = sae.decode(feature_acts)\n",
    "    decoded_interpolated_feat_acts = sae.decode(interpolated_feature_acts)\n",
    "\n",
    "    sim = F.cosine_similarity(decoded_orig_feat_acts, acts).mean().item()\n",
    "    cos_sim_sae_enc_acts_and_acts.append(sim)\n",
    "\n",
    "    sim = F.cosine_similarity(decoded_interpolated_feat_acts, acts).mean().item()\n",
    "    cos_sim_interp_acts_and_acts.append(sim)\n",
    "\n",
    "    l2_score = torch.norm(acts - decoded_orig_feat_acts, dim=1, p=2).sum().item()\n",
    "    l2_sae_enc_acts_and_acts.append(l2_score)\n",
    "\n",
    "    l2_score = (\n",
    "        torch.norm(acts - decoded_interpolated_feat_acts, dim=1, p=2).sum().item()\n",
    "    )\n",
    "    l2_interp_acts_and_acts.append(l2_score)"
   ]
  },
  {
   "cell_type": "code",
   "execution_count": 118,
   "metadata": {},
   "outputs": [
    {
     "data": {
      "image/png": "[encoded data removed]",
      "text/plain": [
       "<Figure size 640x480 with 1 Axes>"
      ]
     },
     "metadata": {},
     "output_type": "display_data"
    }
   ],
   "source": [
    "plt.hist(cos_sim_sae_enc_acts_and_acts, label=\"acts <> decode(encode(acts))\")\n",
    "plt.hist(\n",
    "    cos_sim_interp_acts_and_acts, label=\"acts <> decode(interpolate(encode(acts)))\"\n",
    ")\n",
    "plt.xlabel(\"Cosine similarity\")\n",
    "plt.ylabel(\"Count\")\n",
    "plt.legend()\n",
    "plt.show()"
   ]
  },
  {
   "cell_type": "code",
   "execution_count": 119,
   "metadata": {},
   "outputs": [
    {
     "data": {
      "image/png": "[encoded data removed]",
      "text/plain": [
       "<Figure size 640x480 with 1 Axes>"
      ]
     },
     "metadata": {},
     "output_type": "display_data"
    }
   ],
   "source": [
    "plt.hist(l2_sae_enc_acts_and_acts, label=\"norm(acts - decode(encode(acts)))\")\n",
    "plt.hist(\n",
    "    l2_interp_acts_and_acts, label=\"norm(acts - decode(interpolate(encode(acts))))\"\n",
    ")\n",
    "plt.xlabel(\"L2 norm\")\n",
    "plt.ylabel(\"Count\")\n",
    "plt.legend()\n",
    "plt.show()"
   ]
  },
  {
   "cell_type": "code",
   "execution_count": null,
   "metadata": {},
   "outputs": [],
   "source": []
  },
  {
   "cell_type": "code",
   "execution_count": null,
   "metadata": {},
   "outputs": [],
   "source": []
  }
 ],
 "metadata": {
  "kernelspec": {
   "display_name": "virtualenvs",
   "language": "python",
   "name": "python3"
  },
  "language_info": {
   "codemirror_mode": {
    "name": "ipython",
    "version": 3
   },
   "file_extension": ".py",
   "mimetype": "text/x-python",
   "name": "python",
   "nbconvert_exporter": "python",
   "pygments_lexer": "ipython3",
   "version": "3.10.14"
  }
 },
 "nbformat": 4,
 "nbformat_minor": 2
}
