{
 "cells": [
  {
   "cell_type": "code",
   "execution_count": 1,
   "metadata": {},
   "outputs": [],
   "source": [
    "import pandas as pd\n",
    "import numpy as np\n",
    "from glob import glob\n",
    "from scipy import stats\n",
    "from sae_lens.toolkit.pretrained_saes import get_gpt2_res_jb_saes\n",
    "import json\n",
    "import random\n",
    "import matplotlib.pyplot as plt\n",
    "from typing import List, Dict, Tuple\n",
    "from transformer_lens import HookedTransformer\n",
    "import torch\n",
    "from jaxtyping import Float, Int\n",
    "from collections import defaultdict, Counter\n",
    "from sklearn.decomposition import TruncatedSVD\n",
    "import itertools\n",
    "from scipy.stats import linregress\n",
    "import plotly_express as px\n",
    "import torch.nn.functional as F\n",
    "import math\n",
    "import seaborn as sns"
   ]
  },
  {
   "cell_type": "code",
   "execution_count": 2,
   "metadata": {},
   "outputs": [],
   "source": [
    "def get_device_str() -> str:\n",
    "    if torch.backends.mps.is_available():\n",
    "        return \"mps\"\n",
    "    else:\n",
    "        return \"cuda\" if torch.cuda.is_available() else \"cpu\"\n",
    "\n",
    "\n",
    "def find_js_dist_blowup_max_slope(\n",
    "    js_dists: List[float], min_slope_threshold: float = 0.02\n",
    "):\n",
    "    steps = list(range(len(js_dists)))\n",
    "\n",
    "    slopes = []\n",
    "    for i in range(1, len(steps)):\n",
    "        dy = js_dists[i] - js_dists[i - 1]\n",
    "        dx = steps[i] - steps[i - 1]\n",
    "        slopes.append(dy / dx if dx != 0 else 0)\n",
    "\n",
    "    # Pad the beginning of slopes list to match the length of steps\n",
    "    slopes = [slopes[0]] + slopes\n",
    "\n",
    "    if not any(np.array(slopes) > min_slope_threshold):\n",
    "        return len(steps) - 1\n",
    "\n",
    "    return np.argsort(np.nan_to_num(slopes))[::-1][0]\n",
    "\n",
    "\n",
    "def get_data_for_step(steps):\n",
    "    step_js_dists = [s[\"js_dist\"] for s in steps]\n",
    "    js_blowup_step = find_js_dist_blowup_max_slope(step_js_dists)\n",
    "    sensitivity = 1 - js_blowup_step / len(step_js_dists)\n",
    "    feature_acts = get_feature_activations(steps)\n",
    "    return feature_acts, step_js_dists, js_blowup_step, sensitivity\n",
    "\n",
    "\n",
    "def get_feature_activations(sae, steps):\n",
    "    feature_activations = []\n",
    "    for _, s in enumerate(steps):\n",
    "        active_feature_ids = s[\"active_feature_ids\"]\n",
    "        active_feature_acts = s[\"active_feature_acts\"]\n",
    "        feature_acts = torch.zeros(sae.W_enc.shape[1])\n",
    "        feature_acts[active_feature_ids] = torch.tensor(active_feature_acts)\n",
    "        feature_activations.append(feature_acts)\n",
    "    return torch.stack(feature_activations)"
   ]
  },
  {
   "cell_type": "code",
   "execution_count": 3,
   "metadata": {},
   "outputs": [
    {
     "name": "stdout",
     "output_type": "stream",
     "text": [
      "Loaded pretrained model gpt2 into HookedTransformer\n",
      "cuda\n"
     ]
    }
   ],
   "source": [
    "model = HookedTransformer.from_pretrained(\"gpt2\")\n",
    "device = get_device_str()\n",
    "\n",
    "print(device)"
   ]
  },
  {
   "cell_type": "code",
   "execution_count": 4,
   "metadata": {},
   "outputs": [
    {
     "name": "stderr",
     "output_type": "stream",
     "text": [
      "100%|██████████| 1/1 [00:00<00:00,  1.77it/s]\n"
     ]
    }
   ],
   "source": [
    "perturbation_layer = \"blocks.1.hook_resid_pre\"\n",
    "saes, sparsities = get_gpt2_res_jb_saes(perturbation_layer)\n",
    "sae = saes[perturbation_layer].cpu()\n",
    "sae.eval()\n",
    "feature_sparsities = 10 ** sparsities[perturbation_layer].cpu()"
   ]
  },
  {
   "cell_type": "markdown",
   "metadata": {},
   "source": [
    "## Feature interpolations"
   ]
  },
  {
   "cell_type": "code",
   "execution_count": 125,
   "metadata": {},
   "outputs": [],
   "source": [
    "def interpolate_features(steps):\n",
    "    start_active_ids = steps[0][\"active_feature_ids\"]\n",
    "    start_active_feat_acts = steps[0][\"active_feature_acts\"]\n",
    "\n",
    "    end_active_ids = steps[-1][\"active_feature_ids\"]\n",
    "    end_active_feat_acts = steps[-1][\"active_feature_acts\"]\n",
    "\n",
    "    all_active_feature_ids = list(set(start_active_ids + end_active_ids))\n",
    "    all_active_feats = {k: {\"start\": 0, \"end\": 0} for k in all_active_feature_ids}\n",
    "\n",
    "    for f_id, f_act in zip(start_active_ids, start_active_feat_acts):\n",
    "        all_active_feats[f_id][\"start\"] = f_act\n",
    "\n",
    "    for f_id, f_act in zip(end_active_ids, end_active_feat_acts):\n",
    "        all_active_feats[f_id][\"end\"] = f_act\n",
    "\n",
    "    interpolated_feature_acts = []\n",
    "\n",
    "    for i in range(len(steps)):\n",
    "        f_act = torch.zeros(sae.W_enc.shape[1])\n",
    "        for f_id in all_active_feature_ids:\n",
    "            f_range = all_active_feats[f_id]\n",
    "            step_size = (f_range[\"end\"] - f_range[\"start\"]) / 100\n",
    "            feat_step_act = f_range[\"start\"] + (step_size * i)\n",
    "            f_act[f_id] = feat_step_act\n",
    "        interpolated_feature_acts.append(f_act)\n",
    "    interpolated_feature_acts = torch.stack(interpolated_feature_acts)\n",
    "    return interpolated_feature_acts"
   ]
  },
  {
   "cell_type": "code",
   "execution_count": 120,
   "metadata": {},
   "outputs": [],
   "source": [
    "cos_sim_sae_enc_acts_and_acts = []\n",
    "cos_sim_interp_acts_and_acts = []\n",
    "\n",
    "l2_sae_enc_acts_and_acts = []\n",
    "l2_interp_acts_and_acts = []\n",
    "\n",
    "n_examples = 5000\n",
    "idxs = random.sample(range(len(metadata)), n_examples)\n",
    "\n",
    "for idx in idxs:\n",
    "    steps = metadata[idx][\"steps_metadata\"]\n",
    "    feature_acts = get_feature_activations(sae, steps)\n",
    "    acts = torch.tensor(activations[idx])\n",
    "\n",
    "    start_active_ids = steps[0][\"active_feature_ids\"]\n",
    "    start_active_feat_acts = steps[0][\"active_feature_acts\"]\n",
    "\n",
    "    end_active_ids = steps[-1][\"active_feature_ids\"]\n",
    "    end_active_feat_acts = steps[-1][\"active_feature_acts\"]\n",
    "\n",
    "    all_active_feature_ids = list(set(start_active_ids + end_active_ids))\n",
    "    all_active_feats = {k: {\"start\": 0, \"end\": 0} for k in all_active_feature_ids}\n",
    "\n",
    "    for f_id, f_act in zip(start_active_ids, start_active_feat_acts):\n",
    "        all_active_feats[f_id][\"start\"] = f_act\n",
    "\n",
    "    for f_id, f_act in zip(end_active_ids, end_active_feat_acts):\n",
    "        all_active_feats[f_id][\"end\"] = f_act\n",
    "\n",
    "    interpolated_feature_acts = []\n",
    "\n",
    "    for i in range(100):\n",
    "        f_act = torch.zeros(sae.W_enc.shape[1])\n",
    "        for f_id in all_active_feature_ids:\n",
    "            f_range = all_active_feats[f_id]\n",
    "            step_size = (f_range[\"end\"] - f_range[\"start\"]) / 100\n",
    "            feat_step_act = f_range[\"start\"] + (step_size * i)\n",
    "            f_act[f_id] = feat_step_act\n",
    "        interpolated_feature_acts.append(f_act)\n",
    "    interpolated_feature_acts = torch.stack(interpolated_feature_acts)\n",
    "\n",
    "    decoded_orig_feat_acts = sae.decode(feature_acts)\n",
    "    decoded_interpolated_feat_acts = sae.decode(interpolated_feature_acts)\n",
    "\n",
    "    sim = F.cosine_similarity(decoded_orig_feat_acts, acts).mean().item()\n",
    "    cos_sim_sae_enc_acts_and_acts.append(sim)\n",
    "\n",
    "    sim = F.cosine_similarity(decoded_interpolated_feat_acts, acts).mean().item()\n",
    "    cos_sim_interp_acts_and_acts.append(sim)\n",
    "\n",
    "    l2_score = torch.norm(acts - decoded_orig_feat_acts, dim=1, p=2).sum().item()\n",
    "    l2_sae_enc_acts_and_acts.append(l2_score)\n",
    "\n",
    "    l2_score = (\n",
    "        torch.norm(acts - decoded_interpolated_feat_acts, dim=1, p=2).sum().item()\n",
    "    )\n",
    "    l2_interp_acts_and_acts.append(l2_score)"
   ]
  },
  {
   "cell_type": "code",
   "execution_count": 118,
   "metadata": {},
   "outputs": [
    {
     "data": {
      "image/png": "[encoded data removed]",
      "text/plain": [
       "<Figure size 640x480 with 1 Axes>"
      ]
     },
     "metadata": {},
     "output_type": "display_data"
    }
   ],
   "source": [
    "plt.hist(cos_sim_sae_enc_acts_and_acts, label=\"acts <> decode(encode(acts))\")\n",
    "plt.hist(\n",
    "    cos_sim_interp_acts_and_acts, label=\"acts <> decode(interpolate(encode(acts)))\"\n",
    ")\n",
    "plt.xlabel(\"Cosine similarity\")\n",
    "plt.ylabel(\"Count\")\n",
    "plt.legend()\n",
    "plt.show()"
   ]
  },
  {
   "cell_type": "code",
   "execution_count": 119,
   "metadata": {},
   "outputs": [
    {
     "data": {
      "image/png": "[encoded data removed]",
      "text/plain": [
       "<Figure size 640x480 with 1 Axes>"
      ]
     },
     "metadata": {},
     "output_type": "display_data"
    }
   ],
   "source": [
    "plt.hist(l2_sae_enc_acts_and_acts, label=\"norm(acts - decode(encode(acts)))\")\n",
    "plt.hist(\n",
    "    l2_interp_acts_and_acts, label=\"norm(acts - decode(interpolate(encode(acts))))\"\n",
    ")\n",
    "plt.xlabel(\"L2 norm\")\n",
    "plt.ylabel(\"Count\")\n",
    "plt.legend()\n",
    "plt.show()"
   ]
  },
  {
   "cell_type": "code",
   "execution_count": null,
   "metadata": {},
   "outputs": [],
   "source": []
  },
  {
   "cell_type": "markdown",
   "metadata": {},
   "source": [
    "## Illustration figure for perturbation"
   ]
  },
  {
   "cell_type": "code",
   "execution_count": 1,
   "metadata": {},
   "outputs": [],
   "source": [
    "import matplotlib.pyplot as plt\n",
    "import numpy as np"
   ]
  },
  {
   "cell_type": "code",
   "execution_count": 2,
   "metadata": {},
   "outputs": [
    {
     "name": "stderr",
     "output_type": "stream",
     "text": [
      "findfont: Generic family 'serif' not found because none of the following families were found: Computer Modern Roman\n",
      "findfont: Generic family 'serif' not found because none of the following families were found: Computer Modern Roman\n",
      "findfont: Generic family 'serif' not found because none of the following families were found: Computer Modern Roman\n",
      "findfont: Generic family 'serif' not found because none of the following families were found: Computer Modern Roman\n",
      "findfont: Generic family 'serif' not found because none of the following families were found: Computer Modern Roman\n",
      "findfont: Generic family 'serif' not found because none of the following families were found: Computer Modern Roman\n",
      "findfont: Generic family 'serif' not found because none of the following families were found: Computer Modern Roman\n",
      "findfont: Generic family 'serif' not found because none of the following families were found: Computer Modern Roman\n",
      "findfont: Generic family 'serif' not found because none of the following families were found: Computer Modern Roman\n",
      "findfont: Generic family 'serif' not found because none of the following families were found: Computer Modern Roman\n",
      "findfont: Generic family 'serif' not found because none of the following families were found: Computer Modern Roman\n",
      "findfont: Generic family 'serif' not found because none of the following families were found: Computer Modern Roman\n",
      "findfont: Generic family 'serif' not found because none of the following families were found: Computer Modern Roman\n",
      "findfont: Generic family 'serif' not found because none of the following families were found: Computer Modern Roman\n",
      "findfont: Generic family 'serif' not found because none of the following families were found: Computer Modern Roman\n",
      "findfont: Generic family 'serif' not found because none of the following families were found: Computer Modern Roman\n",
      "findfont: Generic family 'serif' not found because none of the following families were found: Computer Modern Roman\n",
      "findfont: Generic family 'serif' not found because none of the following families were found: Computer Modern Roman\n",
      "findfont: Generic family 'serif' not found because none of the following families were found: Computer Modern Roman\n",
      "findfont: Generic family 'serif' not found because none of the following families were found: Computer Modern Roman\n",
      "findfont: Generic family 'serif' not found because none of the following families were found: Computer Modern Roman\n",
      "findfont: Generic family 'serif' not found because none of the following families were found: Computer Modern Roman\n",
      "findfont: Generic family 'serif' not found because none of the following families were found: Computer Modern Roman\n",
      "findfont: Generic family 'serif' not found because none of the following families were found: Computer Modern Roman\n",
      "findfont: Generic family 'serif' not found because none of the following families were found: Computer Modern Roman\n",
      "findfont: Generic family 'serif' not found because none of the following families were found: Computer Modern Roman\n",
      "findfont: Generic family 'serif' not found because none of the following families were found: Computer Modern Roman\n",
      "findfont: Generic family 'serif' not found because none of the following families were found: Computer Modern Roman\n",
      "findfont: Generic family 'serif' not found because none of the following families were found: Computer Modern Roman\n",
      "findfont: Generic family 'serif' not found because none of the following families were found: Computer Modern Roman\n",
      "findfont: Generic family 'serif' not found because none of the following families were found: Computer Modern Roman\n",
      "findfont: Generic family 'serif' not found because none of the following families were found: Computer Modern Roman\n",
      "findfont: Generic family 'serif' not found because none of the following families were found: Computer Modern Roman\n",
      "findfont: Generic family 'serif' not found because none of the following families were found: Computer Modern Roman\n",
      "findfont: Generic family 'serif' not found because none of the following families were found: Computer Modern Roman\n",
      "findfont: Generic family 'serif' not found because none of the following families were found: Computer Modern Roman\n",
      "findfont: Generic family 'serif' not found because none of the following families were found: Computer Modern Roman\n"
     ]
    },
    {
     "data": {
      "image/png": "[encoded data removed]",
      "text/plain": [
       "<Figure size 400x600 with 1 Axes>"
      ]
     },
     "metadata": {},
     "output_type": "display_data"
    }
   ],
   "source": [
    "plt.rcParams.update(\n",
    "    {\n",
    "        # \"text.usetex\": True,\n",
    "        \"font.family\": \"serif\",\n",
    "        \"font.serif\": [\"Computer Modern Roman\"],\n",
    "        \"axes.labelsize\": 12,\n",
    "        \"font.size\": 10,\n",
    "        \"legend.fontsize\": 8,\n",
    "        \"xtick.labelsize\": 8,\n",
    "        \"ytick.labelsize\": 8,\n",
    "    }\n",
    ")\n",
    "\n",
    "\n",
    "def unit_vector(vector):\n",
    "    return vector / np.linalg.norm(vector)\n",
    "\n",
    "\n",
    "# Create figure and 2D axis\n",
    "fig, ax = plt.subplots(figsize=(4, 6))\n",
    "\n",
    "# Define and plot vector A (above, slightly longer)\n",
    "A = unit_vector(np.array([0.2, 0.7])) * 0.9  # 90% of unit length\n",
    "ax.quiver(\n",
    "    0,\n",
    "    0,\n",
    "    A[0],\n",
    "    A[1],\n",
    "    angles=\"xy\",\n",
    "    scale_units=\"xy\",\n",
    "    scale=1,\n",
    "    color=\"tab:blue\",\n",
    "    width=0.005,\n",
    ")\n",
    "ax.text(\n",
    "    A[0] * 1.05, A[1] * 1.05, \"A\", color=\"tab:blue\", fontsize=12, ha=\"left\", va=\"bottom\"\n",
    ")\n",
    "\n",
    "# Define and plot vector T (below, slightly shorter)\n",
    "T = unit_vector(np.array([0.8, 0.3])) * 0.7  # 70% of unit length\n",
    "ax.quiver(\n",
    "    0,\n",
    "    0,\n",
    "    T[0],\n",
    "    T[1],\n",
    "    angles=\"xy\",\n",
    "    scale_units=\"xy\",\n",
    "    scale=1,\n",
    "    color=\"tab:red\",\n",
    "    width=0.005,\n",
    ")\n",
    "ax.text(\n",
    "    T[0] * 1.05, T[1] * 1.05, \"T\", color=\"tab:red\", fontsize=12, ha=\"left\", va=\"bottom\"\n",
    ")\n",
    "\n",
    "# Plot direct perturbation path\n",
    "steps = 10\n",
    "t_values = np.linspace(0, 1, steps)\n",
    "for i in range(len(t_values) - 1):\n",
    "    start = A + (T - A) * t_values[i]\n",
    "    end = A + (T - A) * t_values[i + 1]\n",
    "    ax.quiver(\n",
    "        start[0],\n",
    "        start[1],\n",
    "        end[0] - start[0],\n",
    "        end[1] - start[1],\n",
    "        angles=\"xy\",\n",
    "        scale_units=\"xy\",\n",
    "        scale=1,\n",
    "        color=\"tab:green\",\n",
    "        width=0.003,\n",
    "    )\n",
    "\n",
    "# Set plot limits to focus on the relevant quadrant\n",
    "ax.set_xlim([0, 1])\n",
    "ax.set_ylim([0, 1])\n",
    "ax.set_aspect(\"equal\")\n",
    "\n",
    "# Set title with increased padding\n",
    "ax.set_title(\"Perturbation from Base Activation (A) to Target (T)\", pad=20)\n",
    "\n",
    "# Remove top and right spines\n",
    "ax.spines[\"top\"].set_visible(False)\n",
    "ax.spines[\"right\"].set_visible(False)\n",
    "\n",
    "# Adjust bottom and left spines\n",
    "ax.spines[\"bottom\"].set_position(\"zero\")\n",
    "ax.spines[\"left\"].set_position(\"zero\")\n",
    "\n",
    "# Adjust layout\n",
    "plt.tight_layout()\n",
    "\n",
    "# Show the plot\n",
    "plt.show()"
   ]
  },
  {
   "cell_type": "code",
   "execution_count": null,
   "metadata": {},
   "outputs": [],
   "source": []
  },
  {
   "cell_type": "markdown",
   "metadata": {},
   "source": [
    "## Illustration figure for steps NL, MS, SF"
   ]
  },
  {
   "cell_type": "code",
   "execution_count": 5,
   "metadata": {},
   "outputs": [],
   "source": [
    "def nl_step(values, start_step=1, end_step=10, threshold=10):\n",
    "    n = len(values)\n",
    "\n",
    "    # Ensure we have enough data points\n",
    "    if end_step >= n:\n",
    "        raise ValueError(\n",
    "            f\"End step {end_step} is out of bounds for the list of length {n}.\"\n",
    "        )\n",
    "\n",
    "    # Calculate the slope (m) using values at start_step and end_step\n",
    "    x1, y1 = start_step - 1, values[start_step - 1]\n",
    "    x2, y2 = end_step - 1, values[end_step - 1]\n",
    "    slope = (y2 - y1) / (x2 - x1)\n",
    "\n",
    "    # Calculate the intercept (b)\n",
    "    intercept = y1 - slope * x1\n",
    "\n",
    "    # Check deviations from step 10 onward\n",
    "    for i in range(end_step, n):\n",
    "        # Calculate the expected y value using the linear approximation\n",
    "        expected_y = slope * i + intercept\n",
    "\n",
    "        # Calculate the actual y value\n",
    "        actual_y = values[i]\n",
    "\n",
    "        # Calculate the percentage deviation\n",
    "        deviation = abs(actual_y - expected_y) / expected_y * 100\n",
    "\n",
    "        # Check if the deviation exceeds the threshold\n",
    "        if deviation > threshold:\n",
    "            return i\n",
    "    return n\n",
    "\n",
    "\n",
    "def calculate_auc(values):\n",
    "    # Create x values corresponding to the indices of the values\n",
    "    x = np.arange(len(values))\n",
    "\n",
    "    # Use numpy's trapezoidal rule to calculate the area under the curve\n",
    "    auc = np.trapz(values, x)\n",
    "\n",
    "    return auc\n",
    "\n",
    "\n",
    "def max_space_ratio_step(values):\n",
    "    aucs = []\n",
    "    for i in range(1, len(values)):\n",
    "        auc = calculate_auc(values[:i])\n",
    "        if auc == 0:\n",
    "            aucs.append(0)\n",
    "            continue\n",
    "        triangle_area = (values[i - 1] * i) / 2\n",
    "        aucs.append(triangle_area / auc)\n",
    "    return np.argmax(aucs[5:]) + 5  # Hacky, but works. Wonky stuff at the start\n",
    "\n",
    "\n",
    "def find_js_dist_blowup_max_slope(\n",
    "    js_dists: List[float], min_slope_threshold: float = 0.02\n",
    "):\n",
    "    steps = list(range(len(js_dists)))\n",
    "\n",
    "    slopes = []\n",
    "    for i in range(1, len(steps)):\n",
    "        dy = js_dists[i] - js_dists[i - 1]\n",
    "        dx = steps[i] - steps[i - 1]\n",
    "        slopes.append(dy / dx if dx != 0 else 0)\n",
    "\n",
    "    # Pad the beginning of slopes list to match the length of steps\n",
    "    slopes = [slopes[0]] + slopes\n",
    "\n",
    "    if not any(np.array(slopes) > min_slope_threshold):\n",
    "        return len(steps) - 1\n",
    "\n",
    "    return np.argsort(np.nan_to_num(slopes))[::-1][0]"
   ]
  },
  {
   "cell_type": "code",
   "execution_count": 6,
   "metadata": {},
   "outputs": [
    {
     "ename": "NameError",
     "evalue": "name 'metadata' is not defined",
     "output_type": "error",
     "traceback": [
      "\u001b[0;31m---------------------------------------------------------------------------\u001b[0m",
      "\u001b[0;31mNameError\u001b[0m                                 Traceback (most recent call last)",
      "Cell \u001b[0;32mIn[6], line 2\u001b[0m\n\u001b[1;32m      1\u001b[0m idx \u001b[38;5;241m=\u001b[39m \u001b[38;5;241m9\u001b[39m\n\u001b[0;32m----> 2\u001b[0m steps \u001b[38;5;241m=\u001b[39m \u001b[43mmetadata\u001b[49m[idx][\u001b[38;5;124m\"\u001b[39m\u001b[38;5;124msteps_metadata\u001b[39m\u001b[38;5;124m\"\u001b[39m]\n\u001b[1;32m      3\u001b[0m pert_l2_dists \u001b[38;5;241m=\u001b[39m [s[\u001b[38;5;124m\"\u001b[39m\u001b[38;5;124mread_layer_l2_norm\u001b[39m\u001b[38;5;124m\"\u001b[39m] \u001b[38;5;28;01mfor\u001b[39;00m s \u001b[38;5;129;01min\u001b[39;00m steps]\n",
      "\u001b[0;31mNameError\u001b[0m: name 'metadata' is not defined"
     ]
    }
   ],
   "source": [
    "idx = 9\n",
    "steps = metadata[idx][\"steps_metadata\"]\n",
    "pert_l2_dists = [s[\"read_layer_l2_norm\"] for s in steps]"
   ]
  },
  {
   "cell_type": "code",
   "execution_count": 68,
   "metadata": {},
   "outputs": [
    {
     "name": "stdout",
     "output_type": "stream",
     "text": [
      "56 20 52\n"
     ]
    },
    {
     "data": {
      "image/png": "[encoded data removed]",
      "text/plain": [
       "<Figure size 500x300 with 1 Axes>"
      ]
     },
     "metadata": {},
     "output_type": "display_data"
    }
   ],
   "source": [
    "auc_blowup_step = max_space_ratio_step(pert_l2_dists)\n",
    "nl_blowup_step = nl_step(pert_l2_dists)\n",
    "ms_blowup_step = find_js_dist_blowup_max_slope(pert_l2_dists)\n",
    "\n",
    "print(auc_blowup_step, nl_blowup_step, ms_blowup_step)\n",
    "\n",
    "\n",
    "# Create the plot with a larger figure size\n",
    "fig, ax = plt.subplots(figsize=(5, 3))\n",
    "\n",
    "# Plot the main line\n",
    "ax.plot(pert_l2_dists, color=\"orange\", linewidth=1)\n",
    "\n",
    "# Add scatter points with different colors\n",
    "ax.scatter(\n",
    "    auc_blowup_step,\n",
    "    pert_l2_dists[auc_blowup_step],\n",
    "    color=\"tab:red\",\n",
    "    s=50,\n",
    "    zorder=3,\n",
    "    label=\"AUC Step\",\n",
    ")\n",
    "ax.scatter(\n",
    "    nl_blowup_step,\n",
    "    pert_l2_dists[nl_blowup_step],\n",
    "    color=\"tab:blue\",\n",
    "    s=50,\n",
    "    zorder=3,\n",
    "    label=\"NL Step\",\n",
    ")\n",
    "ax.scatter(\n",
    "    ms_blowup_step,\n",
    "    pert_l2_dists[ms_blowup_step],\n",
    "    color=\"tab:purple\",\n",
    "    s=50,\n",
    "    zorder=3,\n",
    "    label=\"MS Step\",\n",
    ")\n",
    "\n",
    "# Customize the plot\n",
    "ax.set_title(\"Perturbation L2 Distances with Blowup Steps\")\n",
    "ax.set_xlabel(\"Perturbation Steps\")\n",
    "ax.set_ylabel(\"L2 Distance at Layer 11\")\n",
    "ax.legend(loc=\"upper left\")\n",
    "\n",
    "ax.set_xticks(np.arange(0, 101, 20))\n",
    "\n",
    "# Add grid for better readability\n",
    "# ax.grid(True, linestyle='--', alpha=0.5, color='gray')\n",
    "\n",
    "# Tight layout to use space efficiently\n",
    "plt.tight_layout()\n",
    "\n",
    "# Show the plot\n",
    "plt.show()"
   ]
  },
  {
   "cell_type": "code",
   "execution_count": null,
   "metadata": {},
   "outputs": [],
   "source": []
  },
  {
   "cell_type": "markdown",
   "metadata": {},
   "source": [
    "## Feature activations distribution"
   ]
  },
  {
   "cell_type": "code",
   "execution_count": 27,
   "metadata": {},
   "outputs": [],
   "source": [
    "import numpy as np\n",
    "import torch\n",
    "from sklearn.covariance import EmpiricalCovariance\n",
    "from torch.distributions import MultivariateNormal\n",
    "from sklearn.decomposition import PCA\n",
    "import numpy as np\n",
    "from scipy import stats\n",
    "from scipy.stats import wasserstein_distance\n",
    "from sklearn.metrics import mean_squared_error\n",
    "from sklearn.neighbors import KernelDensity"
   ]
  },
  {
   "cell_type": "code",
   "execution_count": 39,
   "metadata": {},
   "outputs": [],
   "source": [
    "def load_jsonl(file_path):\n",
    "    data = []\n",
    "    with open(file_path, \"r\") as file:\n",
    "        for line in file:\n",
    "            # Parse each line as a JSON object\n",
    "            json_object = json.loads(line.strip())\n",
    "            data.append(json_object)\n",
    "    return data\n",
    "\n",
    "\n",
    "def generate_mean_cov(data, cov_method=\"full\"):\n",
    "    \"\"\"\n",
    "    Generate mean and covariance matrix for MultivariateNormal distribution.\n",
    "\n",
    "    Args:\n",
    "    data (numpy.ndarray): Input data of shape (n_samples, n_features)\n",
    "    cov_method (str): Method to compute covariance. Options:\n",
    "                      'full' - Full covariance matrix\n",
    "                      'diag' - Diagonal covariance matrix\n",
    "                      'sparse' - Sparse covariance matrix\n",
    "\n",
    "    Returns:\n",
    "    tuple: (data_mean, data_cov) as torch tensors\n",
    "    \"\"\"\n",
    "    # Compute mean\n",
    "    data_mean = torch.mean(data, dim=0)\n",
    "\n",
    "    # Compute covariance\n",
    "    if cov_method == \"full\":\n",
    "        # Full covariance matrix\n",
    "        data_cov = np.cov(data, rowvar=False)\n",
    "    elif cov_method == \"diag\":\n",
    "        # Diagonal covariance matrix\n",
    "        data_cov = np.diag(np.var(data, axis=0))\n",
    "    elif cov_method == \"sparse\":\n",
    "        # Sparse covariance matrix\n",
    "        ec = EmpiricalCovariance(assume_centered=False)\n",
    "        ec.fit(data)\n",
    "        data_cov = ec.covariance_\n",
    "    else:\n",
    "        raise ValueError(\"Invalid cov_method. Choose 'full', 'diag', or 'sparse'.\")\n",
    "\n",
    "    # Convert to torch tensors\n",
    "    data_cov = torch.tensor(data_cov, dtype=torch.float32)\n",
    "\n",
    "    return data_mean, data_cov\n",
    "\n",
    "\n",
    "def kl_divergence(p, q):\n",
    "    return np.sum(np.where(p != 0, p * np.log(p / q), 0))\n",
    "\n",
    "\n",
    "def evaluate_samples(original_data, generated_samples):\n",
    "    results = {}\n",
    "\n",
    "    # 1. Statistical Moments\n",
    "    moment_functions = {\n",
    "        \"mean\": np.mean,\n",
    "        \"std\": np.std,\n",
    "    }\n",
    "\n",
    "    for moment, func in moment_functions.items():\n",
    "        orig_moment = func(original_data, axis=0)\n",
    "        gen_moment = func(generated_samples, axis=0)\n",
    "        results[f\"{moment}_mse\"] = mean_squared_error(orig_moment, gen_moment)\n",
    "\n",
    "    # 2. Wasserstein Distance\n",
    "    results[\"wasserstein\"] = np.mean(\n",
    "        [\n",
    "            wasserstein_distance(original_data[:, i], generated_samples[:, i])\n",
    "            for i in range(original_data.shape[1])\n",
    "        ]\n",
    "    )\n",
    "\n",
    "    # 3. KL Divergence (using KDE for estimation)\n",
    "    kde_orig = KernelDensity().fit(original_data)\n",
    "    kde_gen = KernelDensity().fit(generated_samples)\n",
    "\n",
    "    log_dens_orig = kde_orig.score_samples(original_data)\n",
    "    log_dens_gen = kde_gen.score_samples(original_data)\n",
    "\n",
    "    results[\"kl_divergence\"] = kl_divergence(\n",
    "        np.exp(log_dens_orig), np.exp(log_dens_gen)\n",
    "    )\n",
    "\n",
    "    # 4. Sparsity\n",
    "    orig_sparsity = np.mean(original_data == 0)\n",
    "    gen_sparsity = np.mean(generated_samples == 0)\n",
    "    results[\"sparsity_diff\"] = abs(orig_sparsity - gen_sparsity)\n",
    "\n",
    "    return results"
   ]
  },
  {
   "cell_type": "code",
   "execution_count": 9,
   "metadata": {},
   "outputs": [],
   "source": [
    "metadata, activations = [], []\n",
    "\n",
    "pert_type = \"other_act\"\n",
    "n_files = 100\n",
    "\n",
    "for path in sorted(glob(f\"observations_layer1/metadata*\"))[:n_files]:\n",
    "    metadata.extend(load_jsonl(path))\n",
    "\n",
    "for path in sorted(glob(f\"observations_layer1/acts*\"))[:n_files]:\n",
    "    activations.append(np.load(path))\n",
    "\n",
    "activations = np.concatenate(activations)"
   ]
  },
  {
   "cell_type": "code",
   "execution_count": 10,
   "metadata": {},
   "outputs": [
    {
     "data": {
      "text/plain": [
       "(32000, 100, 768)"
      ]
     },
     "execution_count": 10,
     "metadata": {},
     "output_type": "execute_result"
    }
   ],
   "source": [
    "activations.shape"
   ]
  },
  {
   "cell_type": "code",
   "execution_count": 46,
   "metadata": {},
   "outputs": [],
   "source": [
    "all_feature_acts = []\n",
    "\n",
    "for m in metadata[:10_000]:\n",
    "    feature_acts = torch.zeros(sae.W_dec.shape[0])\n",
    "    active_feature_ids = m[\"steps_metadata\"][0][\"active_feature_ids\"]\n",
    "    active_feature_acts = m[\"steps_metadata\"][0][\"active_feature_acts\"]\n",
    "    feature_acts[active_feature_ids] = torch.tensor(active_feature_acts)\n",
    "    all_feature_acts.append(feature_acts)\n",
    "\n",
    "all_feature_acts = torch.stack(all_feature_acts)"
   ]
  },
  {
   "cell_type": "code",
   "execution_count": 47,
   "metadata": {},
   "outputs": [
    {
     "data": {
      "text/plain": [
       "torch.Size([10000, 24576])"
      ]
     },
     "execution_count": 47,
     "metadata": {},
     "output_type": "execute_result"
    }
   ],
   "source": [
    "all_feature_acts.shape"
   ]
  },
  {
   "cell_type": "code",
   "execution_count": 48,
   "metadata": {},
   "outputs": [],
   "source": [
    "pca = PCA(n_components=0.95)  # Capture 95% of variance\n",
    "transformed_data = torch.tensor(pca.fit_transform(all_feature_acts))\n",
    "\n",
    "# Sample in reduced space\n",
    "distrib = MultivariateNormal(\n",
    "    torch.mean(transformed_data, dim=0), torch.cov(transformed_data.T)\n",
    ")\n",
    "samples = distrib.sample([10])\n",
    "\n",
    "# Transform back to original space\n",
    "original_space_samples = pca.inverse_transform(samples)"
   ]
  },
  {
   "cell_type": "code",
   "execution_count": 37,
   "metadata": {},
   "outputs": [
    {
     "data": {
      "text/plain": [
       "torch.Size([10, 551])"
      ]
     },
     "execution_count": 37,
     "metadata": {},
     "output_type": "execute_result"
    }
   ],
   "source": [
    "samples.shape"
   ]
  },
  {
   "cell_type": "code",
   "execution_count": 40,
   "metadata": {},
   "outputs": [
    {
     "name": "stdout",
     "output_type": "stream",
     "text": [
      "{'mean_mse': 0.002336642129205098, 'std_mse': 0.0022766319086058163, 'wasserstein': 0.02352722515224498, 'kl_divergence': 0.0, 'sparsity_diff': 0.1835206298828126}\n"
     ]
    },
    {
     "name": "stderr",
     "output_type": "stream",
     "text": [
      "/tmp/ipykernel_4891/153261314.py:50: RuntimeWarning: invalid value encountered in divide\n",
      "  return np.sum(np.where(p != 0, p * np.log(p / q), 0))\n"
     ]
    }
   ],
   "source": [
    "eval_results = evaluate_samples(\n",
    "    all_feature_acts.numpy(), original_space_samples.numpy()\n",
    ")\n",
    "print(eval_results)"
   ]
  },
  {
   "cell_type": "code",
   "execution_count": null,
   "metadata": {},
   "outputs": [],
   "source": []
  },
  {
   "cell_type": "markdown",
   "metadata": {},
   "source": [
    "## Graph of feature interactions"
   ]
  },
  {
   "cell_type": "code",
   "execution_count": 5,
   "metadata": {},
   "outputs": [],
   "source": [
    "import numpy as np\n",
    "import networkx as nx\n",
    "from sklearn.cluster import SpectralClustering\n",
    "import matplotlib.pyplot as plt\n",
    "from collections import defaultdict"
   ]
  },
  {
   "cell_type": "code",
   "execution_count": 6,
   "metadata": {},
   "outputs": [],
   "source": [
    "def load_jsonl(file_path):\n",
    "    data = []\n",
    "    with open(file_path, \"r\") as file:\n",
    "        for line in file:\n",
    "            # Parse each line as a JSON object\n",
    "            json_object = json.loads(line.strip())\n",
    "            data.append(json_object)\n",
    "    return data"
   ]
  },
  {
   "cell_type": "code",
   "execution_count": 7,
   "metadata": {},
   "outputs": [],
   "source": [
    "metadata, activations = [], []\n",
    "\n",
    "n_files = 100\n",
    "\n",
    "for path in sorted(glob(f\"observations_layer1/metadata*\"))[:n_files]:\n",
    "    metadata.extend(load_jsonl(path))\n",
    "\n",
    "for path in sorted(glob(f\"observations_layer1/acts*\"))[:n_files]:\n",
    "    activations.append(np.load(path))\n",
    "\n",
    "activations = np.concatenate(activations)"
   ]
  },
  {
   "cell_type": "code",
   "execution_count": 12,
   "metadata": {},
   "outputs": [],
   "source": [
    "all_active_feature_ids = []\n",
    "all_active_feature_acts = []\n",
    "num_features = sae.W_dec.shape[0]\n",
    "\n",
    "for m in metadata:\n",
    "    feature_acts = torch.zeros(sae.W_dec.shape[0])\n",
    "    active_feature_ids = m[\"steps_metadata\"][0][\"active_feature_ids\"]\n",
    "    active_feature_acts = m[\"steps_metadata\"][0][\"active_feature_acts\"]\n",
    "    all_active_feature_ids.append(active_feature_ids)\n",
    "    all_active_feature_acts.append(active_feature_acts)\n",
    "\n",
    "    active_feature_ids = m[\"steps_metadata\"][-1][\"active_feature_ids\"]\n",
    "    active_feature_acts = m[\"steps_metadata\"][-1][\"active_feature_acts\"]\n",
    "    all_active_feature_ids.append(active_feature_ids)\n",
    "    all_active_feature_acts.append(active_feature_acts)"
   ]
  },
  {
   "cell_type": "code",
   "execution_count": 34,
   "metadata": {},
   "outputs": [],
   "source": [
    "import networkx as nx\n",
    "import numpy as np\n",
    "from collections import defaultdict\n",
    "\n",
    "\n",
    "def create_feature_graph(\n",
    "    active_feature_ids,\n",
    "    active_feature_acts,\n",
    "    num_features,\n",
    "    threshold=0.0,\n",
    "    weight_by_activation=False,\n",
    "    normalize_weights=True,\n",
    "):\n",
    "    \"\"\"\n",
    "    Create a graph of feature relationships based on co-activation.\n",
    "\n",
    "    Args:\n",
    "    active_feature_ids (list of lists): List of active feature IDs for each sample\n",
    "    active_feature_acts (list of lists): List of activation strengths for each sample\n",
    "    num_features (int): Total number of features\n",
    "    threshold (float): Minimum weight for an edge to be included in the graph\n",
    "    weight_by_activation (bool): If True, weight edges by the product of feature activations\n",
    "    normalize_weights (bool): If True, normalize edge weights by the number of samples\n",
    "\n",
    "    Returns:\n",
    "    networkx.Graph: Graph of feature relationships\n",
    "    dict: Average activation strength for each feature\n",
    "    dict: Edge weights before thresholding\n",
    "    \"\"\"\n",
    "    G = nx.Graph()\n",
    "    G.add_nodes_from(range(num_features))\n",
    "\n",
    "    edge_weights = defaultdict(float)\n",
    "    feature_strengths = defaultdict(list)\n",
    "    num_samples = len(active_feature_ids)\n",
    "\n",
    "    for sample_ids, sample_acts in zip(active_feature_ids, active_feature_acts):\n",
    "        for i, (id1, act1) in enumerate(zip(sample_ids, sample_acts)):\n",
    "            feature_strengths[id1].append(act1)\n",
    "            for id2, act2 in zip(sample_ids[i + 1 :], sample_acts[i + 1 :]):\n",
    "                if weight_by_activation:\n",
    "                    edge_weights[(min(id1, id2), max(id1, id2))] += act1 * act2\n",
    "                else:\n",
    "                    # edge_weights[(min(id1, id2), max(id1, id2))] += 1\n",
    "                    edge_weights[(id1, id2)] += 1\n",
    "                    edge_weights[(id2, id1)] += 1\n",
    "\n",
    "    if normalize_weights:\n",
    "        edge_weights = {k: v / num_samples for k, v in edge_weights.items()}\n",
    "\n",
    "    for (id1, id2), weight in edge_weights.items():\n",
    "        if weight > threshold:\n",
    "            G.add_edge(id1, id2, weight=weight)\n",
    "\n",
    "    avg_strengths = {\n",
    "        f: np.mean(strengths) for f, strengths in feature_strengths.items()\n",
    "    }\n",
    "\n",
    "    return G, avg_strengths, edge_weights\n",
    "\n",
    "\n",
    "def analyze_graph(G):\n",
    "    \"\"\"\n",
    "    Analyze the feature relationship graph.\n",
    "\n",
    "    Args:\n",
    "    G (networkx.Graph): Graph of feature relationships\n",
    "\n",
    "    Returns:\n",
    "    dict: Analysis results\n",
    "    \"\"\"\n",
    "    results = {}\n",
    "\n",
    "    results[\"num_nodes\"] = G.number_of_nodes()\n",
    "    results[\"num_edges\"] = G.number_of_edges()\n",
    "    results[\"avg_degree\"] = sum(dict(G.degree()).values()) / float(G.number_of_nodes())\n",
    "\n",
    "    components = list(nx.connected_components(G))\n",
    "    results[\"num_components\"] = len(components)\n",
    "    results[\"largest_component_size\"] = len(max(components, key=len))\n",
    "\n",
    "    results[\"avg_clustering_coefficient\"] = nx.average_clustering(G)\n",
    "\n",
    "    adj_matrix = nx.to_numpy_array(G)\n",
    "    sc = SpectralClustering(\n",
    "        n_clusters=5, affinity=\"precomputed\", n_init=100, assign_labels=\"discretize\"\n",
    "    )\n",
    "    results[\"spectral_clusters\"] = sc.fit_predict(adj_matrix)\n",
    "\n",
    "    return results\n",
    "\n",
    "\n",
    "def get_degree_stats(G):\n",
    "    \"\"\"\n",
    "    Calculate degree statistics for the graph.\n",
    "\n",
    "    Args:\n",
    "    G (networkx.Graph): Graph of feature relationships\n",
    "\n",
    "    Returns:\n",
    "    dict: Degree statistics\n",
    "    \"\"\"\n",
    "    degrees = [d for n, d in G.degree()]\n",
    "    return {\n",
    "        \"min_degree\": np.min(degrees),\n",
    "        \"max_degree\": np.max(degrees),\n",
    "        \"mean_degree\": np.mean(degrees),\n",
    "        \"median_degree\": np.median(degrees),\n",
    "        \"std_degree\": np.std(degrees),\n",
    "    }\n",
    "\n",
    "\n",
    "def analyze_threshold_impact(edge_weights, num_features, thresholds):\n",
    "    \"\"\"\n",
    "    Analyze the impact of different thresholds on the graph.\n",
    "\n",
    "    Args:\n",
    "    edge_weights (dict): Edge weights before thresholding\n",
    "    num_features (int): Total number of features\n",
    "    thresholds (list): List of thresholds to analyze\n",
    "\n",
    "    Returns:\n",
    "    dict: Analysis results for each threshold\n",
    "    \"\"\"\n",
    "    results = {}\n",
    "    for threshold in thresholds:\n",
    "        G = nx.Graph()\n",
    "        G.add_nodes_from(range(num_features))\n",
    "        for (id1, id2), weight in edge_weights.items():\n",
    "            if weight > threshold:\n",
    "                G.add_edge(id1, id2, weight=weight)\n",
    "\n",
    "        results[threshold] = {\n",
    "            \"num_edges\": G.number_of_edges(),\n",
    "            \"num_connected_components\": nx.number_connected_components(G),\n",
    "            \"largest_component_size\": len(max(nx.connected_components(G), key=len)),\n",
    "            **get_degree_stats(G),\n",
    "        }\n",
    "\n",
    "    return results\n",
    "\n",
    "\n",
    "def visualize_degree_distribution(G):\n",
    "    \"\"\"\n",
    "    Visualize the degree distribution of the graph.\n",
    "\n",
    "    Args:\n",
    "    G (networkx.Graph): Graph of feature relationships\n",
    "    \"\"\"\n",
    "    degrees = [d for n, d in G.degree()]\n",
    "    plt.figure(figsize=(10, 6))\n",
    "    plt.hist(degrees, bins=50)\n",
    "    plt.title(\"Degree Distribution\")\n",
    "    plt.xlabel(\"Degree\")\n",
    "    plt.ylabel(\"Frequency\")\n",
    "    plt.show()\n",
    "\n",
    "\n",
    "def generate_activations(G, avg_strengths, num_samples, activation_probability):\n",
    "    \"\"\"\n",
    "    Generate realistic feature activations based on the graph structure.\n",
    "\n",
    "    Args:\n",
    "    G (networkx.Graph): Graph of feature relationships\n",
    "    avg_strengths (dict): Average activation strength for each feature\n",
    "    num_samples (int): Number of samples to generate\n",
    "    activation_probability (float): Probability of a feature being active\n",
    "\n",
    "    Returns:\n",
    "    list of lists: Generated active feature IDs for each sample\n",
    "    list of lists: Generated activation strengths for each sample\n",
    "    \"\"\"\n",
    "    num_features = G.number_of_nodes()\n",
    "    generated_ids = []\n",
    "    generated_acts = []\n",
    "\n",
    "    for _ in range(num_samples):\n",
    "        # Initialize with the expected number of active features\n",
    "        expected_active = int(num_features * activation_probability)\n",
    "        active_ids = set(\n",
    "            np.random.choice(num_features, size=expected_active, replace=False)\n",
    "        )\n",
    "\n",
    "        # Propagate activations through the graph\n",
    "        for _ in range(2):  # Number of propagation steps\n",
    "            new_activations = set()\n",
    "            for node in active_ids:\n",
    "                for neighbor in G.neighbors(node):\n",
    "                    if (\n",
    "                        neighbor not in active_ids\n",
    "                        and np.random.random() < activation_probability\n",
    "                    ):\n",
    "                        new_activations.add(neighbor)\n",
    "\n",
    "            # Add new activations, but maintain sparsity\n",
    "            remaining_slots = expected_active - len(active_ids)\n",
    "            new_activations = list(new_activations)[:remaining_slots]\n",
    "            active_ids.update(new_activations)\n",
    "\n",
    "        active_ids = list(active_ids)\n",
    "        active_acts = [\n",
    "            avg_strengths.get(id, 1.0) * (0.5 + np.random.random()) for id in active_ids\n",
    "        ]\n",
    "\n",
    "        generated_ids.append(active_ids)\n",
    "        generated_acts.append(active_acts)\n",
    "\n",
    "    return generated_ids, generated_acts\n",
    "\n",
    "\n",
    "def analyze_generated_activations(\n",
    "    original_ids, original_acts, generated_ids, generated_acts\n",
    "):\n",
    "    \"\"\"\n",
    "    Analyze and compare the statistics of original and generated activations.\n",
    "\n",
    "    Args:\n",
    "    original_ids (list of lists): Original active feature IDs\n",
    "    original_acts (list of lists): Original activation strengths\n",
    "    generated_ids (list of lists): Generated active feature IDs\n",
    "    generated_acts (list of lists): Generated activation strengths\n",
    "\n",
    "    Returns:\n",
    "    dict: Comparison statistics\n",
    "    \"\"\"\n",
    "    stats = {}\n",
    "\n",
    "    # Number of active features per sample\n",
    "    orig_active_counts = [len(ids) for ids in original_ids]\n",
    "    gen_active_counts = [len(ids) for ids in generated_ids]\n",
    "    stats[\"orig_mean_active\"] = np.mean(orig_active_counts)\n",
    "    stats[\"gen_mean_active\"] = np.mean(gen_active_counts)\n",
    "\n",
    "    # Activation strength statistics\n",
    "    orig_strengths = [act for acts in original_acts for act in acts]\n",
    "    gen_strengths = [act for acts in generated_acts for act in acts]\n",
    "    stats[\"orig_mean_strength\"] = np.mean(orig_strengths)\n",
    "    stats[\"gen_mean_strength\"] = np.mean(gen_strengths)\n",
    "\n",
    "    # Feature activation frequency\n",
    "    orig_freq = defaultdict(int)\n",
    "    gen_freq = defaultdict(int)\n",
    "    for ids in original_ids:\n",
    "        for id in ids:\n",
    "            orig_freq[id] += 1\n",
    "    for ids in generated_ids:\n",
    "        for id in ids:\n",
    "            gen_freq[id] += 1\n",
    "\n",
    "    stats[\"orig_unique_features\"] = len(orig_freq)\n",
    "    stats[\"gen_unique_features\"] = len(gen_freq)\n",
    "\n",
    "    # Top 10 most frequent features\n",
    "    stats[\"orig_top_features\"] = sorted(\n",
    "        orig_freq.items(), key=lambda x: x[1], reverse=True\n",
    "    )[:10]\n",
    "    stats[\"gen_top_features\"] = sorted(\n",
    "        gen_freq.items(), key=lambda x: x[1], reverse=True\n",
    "    )[:10]\n",
    "\n",
    "    return stats"
   ]
  },
  {
   "cell_type": "code",
   "execution_count": 35,
   "metadata": {},
   "outputs": [],
   "source": [
    "G, avg_strengths, edge_weights = create_feature_graph(\n",
    "    all_active_feature_ids, all_active_feature_acts, num_features\n",
    ")"
   ]
  },
  {
   "cell_type": "code",
   "execution_count": 20,
   "metadata": {},
   "outputs": [],
   "source": [
    "import pickle\n",
    "\n",
    "\n",
    "def save_graph_pickle(G, filename):\n",
    "    \"\"\"Save the graph using pickle.\"\"\"\n",
    "    with open(filename, \"wb\") as f:\n",
    "        pickle.dump(G, f)\n",
    "\n",
    "\n",
    "def load_graph_pickle(filename):\n",
    "    \"\"\"Load the graph using pickle.\"\"\"\n",
    "    with open(filename, \"rb\") as f:\n",
    "        return pickle.load(f)"
   ]
  },
  {
   "cell_type": "code",
   "execution_count": 36,
   "metadata": {},
   "outputs": [],
   "source": [
    "graph = {\"G\": G, \"avg_strengths\": avg_strengths, \"edge_weights\": edge_weights}\n",
    "save_graph_pickle(graph, \"replications/graph.pkl\")"
   ]
  },
  {
   "cell_type": "code",
   "execution_count": 24,
   "metadata": {},
   "outputs": [],
   "source": [
    "graph = load_graph_pickle(\"replications/graph.pkl\")"
   ]
  },
  {
   "cell_type": "code",
   "execution_count": 11,
   "metadata": {},
   "outputs": [],
   "source": [
    "G, avg_strengths, edge_weights = create_feature_graph(\n",
    "    all_active_feature_ids, all_active_feature_acts, num_features, threshold=5\n",
    ")"
   ]
  },
  {
   "cell_type": "code",
   "execution_count": 12,
   "metadata": {},
   "outputs": [
    {
     "name": "stdout",
     "output_type": "stream",
     "text": [
      "Degree statistics: {'min_degree': 0, 'max_degree': 5931, 'mean_degree': 14.444091796875, 'median_degree': 0.0, 'std_degree': 113.40238874627538}\n"
     ]
    }
   ],
   "source": [
    "degree_stats = get_degree_stats(G)\n",
    "print(\"Degree statistics:\", degree_stats)"
   ]
  },
  {
   "cell_type": "code",
   "execution_count": 37,
   "metadata": {},
   "outputs": [],
   "source": [
    "# thresholds_to_analyze = [1, 5, 10, 20, 50, 100]\n",
    "# threshold_impact = analyze_threshold_impact(edge_weights, num_features, thresholds_to_analyze)\n",
    "# for threshold, stats in threshold_impact.items():\n",
    "#     print(f\"\\nThreshold: {threshold}\")\n",
    "#     for key, value in stats.items():\n",
    "#         print(f\"  {key}: {value}\")"
   ]
  },
  {
   "cell_type": "code",
   "execution_count": 36,
   "metadata": {},
   "outputs": [],
   "source": [
    "# Visualize the degree distribution\n",
    "# visualize_degree_distribution(G)"
   ]
  },
  {
   "cell_type": "code",
   "execution_count": 13,
   "metadata": {},
   "outputs": [
    {
     "name": "stderr",
     "output_type": "stream",
     "text": [
      "/home/paperspace/virtualenvs/lib/python3.10/site-packages/sklearn/manifold/_spectral_embedding.py:329: UserWarning: Graph is not fully connected, spectral embedding may not work as expected.\n",
      "  warnings.warn(\n"
     ]
    },
    {
     "name": "stdout",
     "output_type": "stream",
     "text": [
      "\n",
      "Final graph analysis: {'num_nodes': 24576, 'num_edges': 177489, 'avg_degree': 14.444091796875, 'num_components': 18216, 'largest_component_size': 6361, 'avg_clustering_coefficient': 0.23613480536783418, 'spectral_clusters': array([1, 4, 3, ..., 0, 1, 4])}\n"
     ]
    }
   ],
   "source": [
    "analysis_results = analyze_graph(G)\n",
    "print(\"\\nFinal graph analysis:\", analysis_results)"
   ]
  },
  {
   "cell_type": "code",
   "execution_count": 16,
   "metadata": {},
   "outputs": [],
   "source": [
    "# visualize_graph(G, clusters=analysis_results['spectral_clusters'])"
   ]
  },
  {
   "cell_type": "code",
   "execution_count": 43,
   "metadata": {},
   "outputs": [
    {
     "name": "stdout",
     "output_type": "stream",
     "text": [
      "Comparison of original and generated activations:\n",
      "Original mean active features: 21.71\n",
      "Generated mean active features: 14.00\n",
      "Original mean activation strength: 2.4137\n",
      "Generated mean activation strength: 5.2045\n",
      "Original unique features: 18573\n",
      "Generated unique features: 10644\n",
      "Top 10 most frequent features (original): [(24149, 27016), (21958, 25955), (17742, 21417), (9487, 18335), (5601, 16051), (17359, 15541), (22119, 15115), (15017, 13680), (8614, 11284), (3626, 10945)]\n",
      "Top 10 most frequent features (generated): [(17949, 6), (7829, 5), (24497, 5), (762, 5), (2080, 5), (24057, 5), (6225, 5), (19910, 5), (12665, 5), (10019, 4)]\n"
     ]
    }
   ],
   "source": [
    "# Assuming you have already created your graph G and have the original data\n",
    "mean_sparsity = feature_sparsities.mean().item()\n",
    "new_ids, new_acts = generate_activations(\n",
    "    G, avg_strengths, num_samples=1000, activation_probability=mean_sparsity\n",
    ")\n",
    "\n",
    "# Analyze and compare the generated activations with the original ones\n",
    "comparison_stats = analyze_generated_activations(\n",
    "    all_active_feature_ids, all_active_feature_acts, new_ids, new_acts\n",
    ")\n",
    "\n",
    "print(\"Comparison of original and generated activations:\")\n",
    "print(f\"Original mean active features: {comparison_stats['orig_mean_active']:.2f}\")\n",
    "print(f\"Generated mean active features: {comparison_stats['gen_mean_active']:.2f}\")\n",
    "print(\n",
    "    f\"Original mean activation strength: {comparison_stats['orig_mean_strength']:.4f}\"\n",
    ")\n",
    "print(\n",
    "    f\"Generated mean activation strength: {comparison_stats['gen_mean_strength']:.4f}\"\n",
    ")\n",
    "print(f\"Original unique features: {comparison_stats['orig_unique_features']}\")\n",
    "print(f\"Generated unique features: {comparison_stats['gen_unique_features']}\")\n",
    "print(\n",
    "    \"Top 10 most frequent features (original):\", comparison_stats[\"orig_top_features\"]\n",
    ")\n",
    "print(\n",
    "    \"Top 10 most frequent features (generated):\", comparison_stats[\"gen_top_features\"]\n",
    ")"
   ]
  },
  {
   "cell_type": "code",
   "execution_count": null,
   "metadata": {},
   "outputs": [],
   "source": []
  },
  {
   "cell_type": "code",
   "execution_count": null,
   "metadata": {},
   "outputs": [],
   "source": []
  },
  {
   "cell_type": "code",
   "execution_count": null,
   "metadata": {},
   "outputs": [],
   "source": []
  }
 ],
 "metadata": {
  "kernelspec": {
   "display_name": "virtualenvs",
   "language": "python",
   "name": "python3"
  },
  "language_info": {
   "codemirror_mode": {
    "name": "ipython",
    "version": 3
   },
   "file_extension": ".py",
   "mimetype": "text/x-python",
   "name": "python",
   "nbconvert_exporter": "python",
   "pygments_lexer": "ipython3",
   "version": "3.10.14"
  }
 },
 "nbformat": 4,
 "nbformat_minor": 2
}
