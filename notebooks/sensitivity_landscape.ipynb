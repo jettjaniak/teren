{
 "cells": [
  {
   "cell_type": "code",
   "execution_count": 1,
   "metadata": {},
   "outputs": [
    {
     "name": "stdout",
     "output_type": "stream",
     "text": [
      "device='cuda'\n"
     ]
    }
   ],
   "source": [
    "%load_ext autoreload\n",
    "%autoreload 2\n",
    "\n",
    "import torch\n",
    "from teren import utils as teren_utils\n",
    "import seaborn as sns\n",
    "import plotly_express as px\n",
    "\n",
    "device = teren_utils.get_device_str()\n",
    "print(f\"{device=}\")"
   ]
  },
  {
   "cell_type": "code",
   "execution_count": 2,
   "metadata": {},
   "outputs": [
    {
     "name": "stdout",
     "output_type": "stream",
     "text": [
      "Loaded pretrained model gpt2-small into HookedTransformer\n"
     ]
    }
   ],
   "source": [
    "from transformer_lens import HookedTransformer\n",
    "\n",
    "model = HookedTransformer.from_pretrained(\"gpt2-small\", device=device)"
   ]
  },
  {
   "cell_type": "code",
   "execution_count": 3,
   "metadata": {},
   "outputs": [
    {
     "name": "stdout",
     "output_type": "stream",
     "text": [
      "INFERENCE_BATCH_SIZE=10\n"
     ]
    }
   ],
   "source": [
    "# each layer is kind of independent experiment, but we save a lot of time by\n",
    "# collecting dataset examples and residual stream activation for many layers at once\n",
    "\n",
    "LAYERS = list(range(model.cfg.n_layers))\n",
    "# LAYERS = 0, 5, 10\n",
    "\n",
    "# pre-trained SAE model availavle in SAELens\n",
    "SAE_RELEASE = \"gpt2-small-res-jb\"\n",
    "LAYER_TO_SAE_ID = lambda layer: f\"blocks.{layer}.hook_resid_pre\"\n",
    "\n",
    "# HF text  dataset\n",
    "DATASET_PATH = \"NeelNanda/c4-10k\"\n",
    "DATASET_SPLIT = \"train[:1%]\"\n",
    "\n",
    "# how long each tokenized prompt should be\n",
    "CONTEXT_SIZE = 32\n",
    "\n",
    "# how many tokens can be forwarded through the transformer at once\n",
    "# tune to your VRAM, 12_800 works well with 16GB\n",
    "INFERENCE_TOKENS = 320 # 12_800\n",
    "INFERENCE_BATCH_SIZE = INFERENCE_TOKENS // CONTEXT_SIZE\n",
    "print(f\"{INFERENCE_BATCH_SIZE=}\")\n",
    "\n",
    "# what is the minimum activation for a feature to be considered active\n",
    "MIN_FEATURE_ACTIVATION = 0.0\n",
    "# minimum number of tokenized prompts that should have a feature active\n",
    "# for the feature to be included in the experiment\n",
    "MIN_EXAMPLES_PER_FEATURE = 30\n",
    "# ids of feature to consider in the experiment\n",
    "# we can't consider all the features, because of compute & memory constraints\n",
    "CONSIDER_FEATURE_IDS = range(30)"
   ]
  },
  {
   "cell_type": "code",
   "execution_count": 4,
   "metadata": {},
   "outputs": [],
   "source": [
    "from sae_lens import SAE\n",
    "\n",
    "saes = [\n",
    "    # ignore other things it returns\n",
    "    SAE.from_pretrained(\n",
    "        release=SAE_RELEASE, sae_id=LAYER_TO_SAE_ID(layer), device=device\n",
    "    )[0]\n",
    "    for layer in LAYERS\n",
    "]"
   ]
  },
  {
   "cell_type": "code",
   "execution_count": 5,
   "metadata": {},
   "outputs": [
    {
     "name": "stdout",
     "output_type": "stream",
     "text": [
      "all_input_ids (tokenized dataset) shape: (1582, 32)\n"
     ]
    }
   ],
   "source": [
    "all_input_ids = teren_utils.load_and_tokenize_dataset(\n",
    "    path=DATASET_PATH,\n",
    "    split=DATASET_SPLIT,\n",
    "    column_name=\"text\",\n",
    "    tokenizer=model.tokenizer,\n",
    "    max_length=CONTEXT_SIZE,\n",
    ")\n",
    "print(f\"all_input_ids (tokenized dataset) shape: {tuple(all_input_ids.shape)}\")"
   ]
  },
  {
   "cell_type": "code",
   "execution_count": 6,
   "metadata": {},
   "outputs": [
    {
     "name": "stdout",
     "output_type": "stream",
     "text": [
      "Layer: 0\n",
      "Number of selected features: 1\n",
      "Active feature ids: [9]\n",
      "\n",
      "Layer: 1\n",
      "Number of selected features: 1\n",
      "Active feature ids: [11]\n",
      "\n",
      "Layer: 2\n",
      "Number of selected features: 1\n",
      "Active feature ids: [0]\n",
      "\n",
      "Layer: 3\n",
      "Number of selected features: 2\n",
      "Active feature ids: [6, 24]\n",
      "\n",
      "Layer: 4\n",
      "Number of selected features: 5\n",
      "Active feature ids: [7, 8, 12, 15, 19]\n",
      "\n",
      "Layer: 5\n",
      "Number of selected features: 14\n",
      "Active feature ids: [0, 2, 4, 5, 9, 10, 13, 15, 19, 24, 25, 26, 27, 28]\n",
      "\n",
      "Layer: 6\n",
      "Number of selected features: 10\n",
      "Active feature ids: [5, 7, 9, 13, 14, 16, 17, 18, 20, 27]\n",
      "\n",
      "Layer: 7\n",
      "Number of selected features: 15\n",
      "Active feature ids: [0, 3, 4, 5, 6, 10, 14, 17, 18, 20, 21, 22, 23, 26, 29]\n",
      "\n",
      "Layer: 8\n",
      "Number of selected features: 19\n",
      "Active feature ids: [0, 2, 4, 5, 6, 7, 8, 9, 10, 11, 13, 15, 16, 21, 22, 24, 25, 26, 29]\n",
      "\n",
      "Layer: 9\n",
      "Number of selected features: 22\n",
      "Active feature ids: [0, 2, 4, 5, 8, 9, 10, 12, 13, 14, 15, 17, 18, 19, 20, 21, 22, 23, 24, 27, 28, 29]\n",
      "\n",
      "Layer: 10\n",
      "Number of selected features: 15\n",
      "Active feature ids: [0, 1, 2, 7, 13, 15, 17, 20, 22, 23, 24, 25, 26, 27, 28]\n",
      "\n",
      "Layer: 11\n",
      "Number of selected features: 18\n",
      "Active feature ids: [0, 1, 2, 4, 7, 9, 11, 13, 15, 16, 17, 21, 24, 25, 26, 27, 28, 29]\n",
      "\n"
     ]
    }
   ],
   "source": [
    "from teren.sae_examples import get_examples_by_feature_by_sae, SAEExamplesByFeature\n",
    "\n",
    "examples_by_feature_by_sae: list[SAEExamplesByFeature] = get_examples_by_feature_by_sae(\n",
    "    input_ids=all_input_ids,\n",
    "    model=model,\n",
    "    saes=saes,\n",
    "    feature_ids=CONSIDER_FEATURE_IDS,\n",
    "    n_examples=MIN_EXAMPLES_PER_FEATURE,\n",
    "    batch_size=INFERENCE_BATCH_SIZE,\n",
    "    min_activation=MIN_FEATURE_ACTIVATION,\n",
    ")\n",
    "\n",
    "# display high-level summary of the data\n",
    "for layer, examples_by_feature in zip(LAYERS, examples_by_feature_by_sae):\n",
    "    print(f\"Layer: {layer}\")\n",
    "    active_feature_ids = examples_by_feature.active_feature_ids\n",
    "    print(f\"Number of selected features: {len(active_feature_ids)}\")\n",
    "    print(f\"Active feature ids: {active_feature_ids}\")\n",
    "    print()"
   ]
  },
  {
   "cell_type": "code",
   "execution_count": 7,
   "metadata": {},
   "outputs": [
    {
     "name": "stdout",
     "output_type": "stream",
     "text": [
      "Layer: 0\n",
      "input_ids shape: (1, 30, 32) (n_features, n_examples, context_size)\n",
      "resid_acts shape: (1, 30, 32, 768) (n_features, n_examples, context_size, d_model)\n",
      "clean_loss shape: (1, 30, 31) (n_features, n_examples, context_size - 1)\n"
     ]
    }
   ],
   "source": [
    "def print_examples_shapes(idx):\n",
    "    print(f\"Layer: {LAYERS[idx]}\")\n",
    "    examples_by_feature = examples_by_feature_by_sae[idx]\n",
    "    print(f\"input_ids shape: {tuple(examples_by_feature.input_ids.shape)} (n_features, n_examples, context_size)\")\n",
    "    print(f\"resid_acts shape: {tuple(examples_by_feature.resid_acts.shape)} (n_features, n_examples, context_size, d_model)\")\n",
    "    print(f\"clean_loss shape: {tuple(examples_by_feature.clean_loss.shape)} (n_features, n_examples, context_size - 1)\")\n",
    "\n",
    "print_examples_shapes(0)"
   ]
  },
  {
   "cell_type": "code",
   "execution_count": 8,
   "metadata": {},
   "outputs": [],
   "source": [
    "import torch\n",
    "from dataclasses import dataclass\n",
    "from typing import Any\n",
    "import matplotlib.pyplot as plt\n",
    "import numpy as np\n",
    "from teren.perturbations import Perturbation\n",
    "import torch.nn.functional as F\n",
    "from jaxtyping import Float, Int\n",
    "from contextlib import contextmanager\n",
    "from sklearn.decomposition import PCA\n",
    "\n",
    "import umap\n",
    "\n",
    "import plotly.express as px\n",
    "import plotly.graph_objects as go\n",
    "import pandas as pd\n"
   ]
  },
  {
   "cell_type": "code",
   "execution_count": 9,
   "metadata": {},
   "outputs": [],
   "source": [
    "def plot_kl_divergence_trajectories_plotly(kl_divs_by_direction, sae_idx, feature_id):\n",
    "    # Prepare data for plotting\n",
    "    data = []\n",
    "    max_kl_div = max([kl_divs.max().item() for kl_divs in kl_divs_by_direction])\n",
    "    for direction_idx, kl_divs in enumerate(kl_divs_by_direction):\n",
    "        angle = 2 * np.pi * direction_idx / len(kl_divs_by_direction)\n",
    "        x = [step * np.cos(angle) for step in range(len(kl_divs))]\n",
    "        y = [step * np.sin(angle) for step in range(len(kl_divs))]\n",
    "        \n",
    "        for step, (xi, yi, kl) in enumerate(zip(x, y, kl_divs)):\n",
    "            data.append({\n",
    "                'x': xi,\n",
    "                'y': yi,\n",
    "                'kl_div': round(kl.item(), 4),\n",
    "                'direction': f'Direction {direction_idx}',\n",
    "                'step': step,\n",
    "                'size': round(kl.item() / max_kl_div, 4)\n",
    "            })\n",
    "    \n",
    "    # Convert to DataFrame\n",
    "    df = pd.DataFrame(data)\n",
    "    \n",
    "    # Create the scatter plot\n",
    "    fig = px.scatter(df, x='x', y='y', color='direction', size='size',\n",
    "                     hover_data=['step', 'kl_div'],\n",
    "                     labels={'x': 'Direction 1', 'y': 'Direction 2'},\n",
    "                     title=f'KL Divergence Trajectories - SAE {sae_idx}, Feature {feature_id}',\n",
    "                     size_max=5)  # Adjust the maximum size of the points\n",
    "    \n",
    "    \n",
    "    # Calculate the plot bounds\n",
    "    max_abs_coord = df[['x', 'y']].abs().max().max()\n",
    "    axis_range = [-max_abs_coord * 1.1, max_abs_coord * 1.1]\n",
    "    \n",
    "    # Update layout for better appearance\n",
    "    fig.update_layout(\n",
    "        xaxis=dict(showticklabels=False, showgrid=False, zeroline=False, range=axis_range),\n",
    "        yaxis=dict(showticklabels=False, showgrid=False, zeroline=False, range=axis_range, scaleanchor=\"x\", scaleratio=1),\n",
    "        showlegend=True,\n",
    "        legend_title_text='Directions',\n",
    "        hovermode='closest',\n",
    "        width=800,  # Set width\n",
    "        height=800  # Set height to be equal to width for a square plot\n",
    "    )\n",
    "    \n",
    "    # Show the plot\n",
    "    fig.show()"
   ]
  },
  {
   "cell_type": "code",
   "execution_count": 10,
   "metadata": {},
   "outputs": [],
   "source": [
    "def is_normalized(vector, tolerance=1e-6):\n",
    "    return torch.isclose(vector.norm(), torch.tensor(1.0), atol=tolerance)\n",
    "\n",
    "\n",
    "@dataclass\n",
    "class FeatureToRandomPerturbation:\n",
    "    sae: SAE\n",
    "    feature_idx: int\n",
    "    random_direction: torch.Tensor\n",
    "    num_steps: int\n",
    "    scale_factor: float = 1.0\n",
    "\n",
    "    def __post_init__(self):\n",
    "        assert is_normalized(self.random_direction.norm()), \"Random direction is not normalised\"\n",
    "        self.feature_direction = self.sae.W_dec[self.feature_idx]\n",
    "        self.feature_norm = self.feature_direction.norm()\n",
    "        self.scaled_random_direction = self.random_direction * self.feature_norm\n",
    "        print(f\"Feature direction norm: {self.feature_norm.item()}\")\n",
    "        print(f\"Scaled random direction norm: {self.scaled_random_direction.norm().item()}\")\n",
    "        sim = F.cosine_similarity(self.feature_direction.flatten(), self.scaled_random_direction.flatten(), dim=0).item()\n",
    "        print(f\"Cosine similarity between feature and random: {sim}\")\n",
    "\n",
    "    def generate(self, step):\n",
    "        alpha = step / self.num_steps\n",
    "        \n",
    "        # Interpolate between feature direction and random direction\n",
    "        perturb_direction = (1 - alpha) * self.feature_direction + alpha * self.scaled_random_direction\n",
    "\n",
    "        print(f\"Step {step}, Perturbation norm: {perturb_direction.norm().item()}\")\n",
    "\n",
    "        # Scale the perturbation by the feature norm\n",
    "        return perturb_direction * self.scale_factor\n",
    "\n",
    "\n",
    "@dataclass\n",
    "class SphericalFeatureToRandomPerturbation:\n",
    "    sae: SAE\n",
    "    feature_idx: int\n",
    "    normalised_random_direction: torch.Tensor\n",
    "    num_steps: int\n",
    "    scale_factor: float = 1.0\n",
    "\n",
    "    def __post_init__(self):\n",
    "        assert is_normalized(self.normalised_random_direction.norm()), \"Random direction is not normalised\"\n",
    "        self.feature_direction = self.sae.W_dec[self.feature_idx]\n",
    "        self.feature_norm = self.feature_direction.norm()\n",
    "        self.normalized_feature_direction = self.feature_direction / self.feature_norm\n",
    "\n",
    "    def slerp(self, start, end, t):\n",
    "        omega = torch.acos((start * end).sum())\n",
    "        so = torch.sin(omega)\n",
    "        return torch.sin((1.0 - t) * omega) / so * start + torch.sin(t * omega) / so * end\n",
    "\n",
    "    def generate(self, step):\n",
    "        alpha = step / self.num_steps\n",
    "\n",
    "        interpolated_direction = self.slerp(self.normalized_feature_direction, \n",
    "                                            self.normalised_random_direction, \n",
    "                                            alpha)\n",
    "        \n",
    "        # Scale the interpolated direction and apply scale factor\n",
    "        return interpolated_direction * self.feature_norm * self.scale_factor"
   ]
  },
  {
   "cell_type": "code",
   "execution_count": 11,
   "metadata": {},
   "outputs": [],
   "source": [
    "@contextmanager\n",
    "def torch_gc():\n",
    "    try:\n",
    "        yield\n",
    "    finally:\n",
    "        torch.cuda.empty_cache()\n",
    "\n",
    "\n",
    "def cosine_similarity_matrix(vectors):\n",
    "    # Normalize the vectors\n",
    "    normalized = F.normalize(vectors, p=2, dim=1)\n",
    "    # Compute the cosine similarity matrix\n",
    "    cosine_sim = torch.mm(normalized, normalized.t())\n",
    "    return cosine_sim\n",
    "\n",
    "def check_orthogonality(random_directions, threshold=0.1):\n",
    "    cosine_sim = cosine_similarity_matrix(random_directions)\n",
    "    \n",
    "    # Set diagonal to 0 (ignore self-similarity)\n",
    "    cosine_sim.fill_diagonal_(0)\n",
    "    \n",
    "    # Check if any off-diagonal element exceeds the threshold\n",
    "    max_similarity = cosine_sim.abs().max().item()\n",
    "    is_orthogonal = max_similarity <= threshold\n",
    "    \n",
    "    # print(f\"Maximum absolute cosine similarity: {max_similarity:.4f}\")\n",
    "    # print(f\"Directions are {'approximately orthogonal' if is_orthogonal else 'not orthogonal'}\")\n",
    "    \n",
    "    # # Optionally, print the full similarity matrix\n",
    "    # print(\"\\nCosine similarity matrix:\")\n",
    "    # print(cosine_sim)\n",
    "    \n",
    "    return is_orthogonal, cosine_sim\n",
    "\n",
    "\n",
    "def get_feature_to_random_perturbations(sae, feature_idx, num_directions, num_steps, scale_factor=1.0, use_slerp=False):\n",
    "    random_directions = torch.randn(num_directions, sae.W_dec.shape[1], device=device)\n",
    "    random_directions = random_directions / random_directions.norm(p=2, dim=1, keepdim=True)\n",
    "\n",
    "    is_orthogonal, cosine_sim = check_orthogonality(random_directions)\n",
    "    if not is_orthogonal:\n",
    "        print(f\"Warning: Random directions are not approximately orthogonal. {cosine_sim}\")\n",
    "    \n",
    "    PerturbationClass = SphericalFeatureToRandomPerturbation if use_slerp else FeatureToRandomPerturbation\n",
    "    \n",
    "    return [PerturbationClass(sae, feature_idx, random_direction, num_steps, scale_factor)\n",
    "            for random_direction in random_directions]\n",
    "\n",
    "\n",
    "def compute_kl_div(logits_ref: torch.Tensor, logits_pert: torch.Tensor) -> torch.Tensor:\n",
    "    logprobs_ref = F.log_softmax(logits_ref, dim=-1)\n",
    "    logprobs_pert = F.log_softmax(logits_pert, dim=-1)\n",
    "    temp_output = F.kl_div(logprobs_pert, logprobs_ref, log_target=True, reduction=\"none\")\n",
    "    return temp_output.sum(dim=-1)\n",
    "\n",
    "def compute_pert_vectors(\n",
    "    pert_by_feature_id: dict[int, dict[int, Perturbation]],\n",
    "    examples_by_feature: SAEExamplesByFeature,\n",
    "    current_step: int\n",
    "):\n",
    "    # (feature, batch, n_ctx, d_model)\n",
    "    pert_vectors = torch.empty_like(examples_by_feature.resid_acts, device=device)\n",
    "    \n",
    "    for idx, feature_id in enumerate(examples_by_feature.active_feature_ids):\n",
    "        if feature_id in pert_by_feature_id:\n",
    "            pert = pert_by_feature_id[feature_id][current_step]\n",
    "            resid_acts = examples_by_feature.resid_acts[idx]\n",
    "            perturb = pert(resid_acts)\n",
    "            pert_vectors[idx] = perturb\n",
    "        else:\n",
    "            # If no perturbation is defined for this feature, use zeros\n",
    "            pert_vectors[idx] = torch.zeros_like(examples_by_feature.resid_acts[idx])\n",
    "    \n",
    "    return pert_vectors\n",
    "\n",
    "\n",
    "def compute_logits(\n",
    "    model: HookedTransformer,\n",
    "    input_ids: Int[torch.Tensor, \"*batch seq\"],\n",
    "    resid_acts: Float[torch.Tensor, \"*batch seq d_model\"],\n",
    "    start_at_layer: int,\n",
    "    batch_size: int,\n",
    ") -> Float[torch.Tensor, \"*batch seq vocab\"]:\n",
    "    assert input_ids.shape == resid_acts.shape[:-1], f\"{input_ids.shape=} {resid_acts.shape=}\"\n",
    "\n",
    "    batch_shape = input_ids.shape[:-1]\n",
    "    d_seq, d_model = resid_acts.shape[-2:]\n",
    "    resid_acts_flat = resid_acts.view(-1, d_seq, d_model)\n",
    "\n",
    "    logits_list = []\n",
    "\n",
    "    for i in range(0, resid_acts_flat.shape[0], batch_size):\n",
    "        batch_resid_acts_flat = resid_acts_flat[i : i + batch_size].to(device)\n",
    "\n",
    "        logits = model(\n",
    "            batch_resid_acts_flat,\n",
    "            start_at_layer=start_at_layer,\n",
    "        )\n",
    "        logits_list.append(logits)  # Remove .cpu() to keep tensors on the same device\n",
    "    logits_flat = torch.cat(logits_list, dim=0)\n",
    "    logits_shape = batch_shape + (d_seq, -1)  # -1 for vocab size\n",
    "    \n",
    "    return logits_flat.view(logits_shape)\n",
    "\n",
    "\n",
    "def get_pert_kl_div(\n",
    "    sae: SAE, \n",
    "    examples_by_feature: SAEExamplesByFeature, \n",
    "    pert_vec: torch.Tensor,\n",
    "    base_logits: torch.Tensor\n",
    ") -> torch.Tensor:\n",
    "\n",
    "    with torch_gc():\n",
    "        device = pert_vec.device\n",
    "        resid_acts = examples_by_feature.resid_acts.to(device)\n",
    "        \n",
    "        perturbed_logits = compute_logits(\n",
    "            model=model,\n",
    "            input_ids=examples_by_feature.input_ids.to(device),\n",
    "            resid_acts=resid_acts + pert_vec,\n",
    "            start_at_layer=sae.cfg.hook_layer,\n",
    "            batch_size=INFERENCE_BATCH_SIZE,\n",
    "        )\n",
    "\n",
    "        # base_probs = F.softmax(base_logits, dim=-1)\n",
    "        # pert_probs = F.softmax(perturbed_logits, dim=-1)\n",
    "        # print(f\"Base logits max/min: {base_logits.max().item():.4f}/{base_logits.min().item():.4f}\")\n",
    "        # print(f\"Pert logits max/min: {perturbed_logits.max().item():.4f}/{perturbed_logits.min().item():.4f}\")\n",
    "        # print(f\"Base probs max/min: {base_probs.max().item():.4f}/{base_probs.min().item():.4f}\")\n",
    "        # print(f\"Pert probs max/min: {pert_probs.max().item():.4f}/{pert_probs.min().item():.4f}\")\n",
    "\n",
    "        \n",
    "        # Move to CPU for KL divergence computation\n",
    "        kl_div = compute_kl_div(base_logits.cpu(), perturbed_logits.cpu())\n",
    "        \n",
    "        # Average over all dimensions except the first (feature dimension)\n",
    "        return kl_div.mean(dim=tuple(range(1, kl_div.dim())))\n",
    "    \n",
    "def compute_trajectory_kl_divs(\n",
    "    sae: SAE, \n",
    "    examples_by_feature: SAEExamplesByFeature, \n",
    "    perturbations: list,\n",
    "    num_steps: int\n",
    "):\n",
    "    with torch_gc():\n",
    "        input_ids = examples_by_feature.input_ids.to(device)\n",
    "        resid_acts = examples_by_feature.resid_acts.to(device)\n",
    "        \n",
    "        base_logits = compute_logits(\n",
    "            model=model,\n",
    "            input_ids=input_ids,\n",
    "            resid_acts=resid_acts,\n",
    "            start_at_layer=sae.cfg.hook_layer,\n",
    "            batch_size=INFERENCE_BATCH_SIZE,\n",
    "        ).cpu()\n",
    "\n",
    "        kl_divs_by_direction = []\n",
    "        trajectories_by_direction = []\n",
    "\n",
    "        for pert in perturbations:\n",
    "            kl_divs = []\n",
    "            trajectory = []\n",
    "            \n",
    "            for step in range(num_steps + 1):  # +1 to include the starting point\n",
    "                with torch_gc():\n",
    "                    pert_vec = pert.generate(step)\n",
    "                    \n",
    "                    perturbed_vector = resid_acts + pert_vec\n",
    "                    kl_div = get_pert_kl_div(sae, examples_by_feature, pert_vec, base_logits)\n",
    "                    # print(f\"Step {step}, KL div: {kl_div.item()}, Perturbation norm: {pert_vec.norm().item()}\")\n",
    "\n",
    "                    kl_divs.append(kl_div)\n",
    "                    trajectory.append(perturbed_vector.cpu())\n",
    "                    \n",
    "                    del pert_vec\n",
    "                    torch.cuda.empty_cache()\n",
    "            \n",
    "            kl_divs_by_direction.append(torch.stack(kl_divs))\n",
    "            trajectories_by_direction.append(torch.stack(trajectory))\n",
    "\n",
    "        return kl_divs_by_direction, trajectories_by_direction"
   ]
  },
  {
   "cell_type": "code",
   "execution_count": 12,
   "metadata": {},
   "outputs": [],
   "source": [
    "# Choose the first SAE and its corresponding examples\n",
    "sae_idx = 0\n",
    "sae = saes[sae_idx]\n",
    "examples_by_feature = examples_by_feature_by_sae[sae_idx]\n",
    "\n",
    "# Choose a single feature (e.g., the first active feature)\n",
    "feature_id = examples_by_feature.active_feature_ids[0]\n",
    "\n",
    "# Create a new examples_by_feature with only one feature\n",
    "single_feature_examples = SAEExamplesByFeature(\n",
    "    active_feature_ids=[feature_id],\n",
    "    input_ids=examples_by_feature.input_ids[:1],\n",
    "    resid_acts=examples_by_feature.resid_acts[:1],\n",
    "    clean_loss=examples_by_feature.clean_loss[:1] if examples_by_feature.clean_loss is not None else None\n",
    ")"
   ]
  },
  {
   "cell_type": "code",
   "execution_count": 13,
   "metadata": {},
   "outputs": [],
   "source": [
    "# def check_model_response(sae, examples_by_feature, perturbation_scale=0.1):\n",
    "#     resid_acts = examples_by_feature.resid_acts.to(device)\n",
    "#     base_logits = compute_logits(model, examples_by_feature.input_ids.to(device), resid_acts, sae.cfg.hook_layer, INFERENCE_BATCH_SIZE)\n",
    "    \n",
    "#     # No perturbation\n",
    "#     print(\"No perturbation:\")\n",
    "#     print_logits_info(base_logits)\n",
    "    \n",
    "#     # Constant perturbation\n",
    "#     const_pert = torch.randn_like(resid_acts) * perturbation_scale\n",
    "#     pert_logits = compute_logits(model, examples_by_feature.input_ids.to(device), resid_acts + const_pert, sae.cfg.hook_layer, INFERENCE_BATCH_SIZE)\n",
    "#     print(f\"\\nConstant perturbation (scale {perturbation_scale}):\")\n",
    "#     print_logits_info(pert_logits)\n",
    "    \n",
    "#     kl_div = compute_kl_div(base_logits, pert_logits)\n",
    "#     print(f\"KL divergence: {kl_div.mean().item():.6f}\")\n",
    "\n",
    "# def print_logits_info(logits):\n",
    "#     probs = F.softmax(logits, dim=-1)\n",
    "#     print(f\"Logits max/min: {logits.max().item():.4f}/{logits.min().item():.4f}\")\n",
    "#     print(f\"Probs max/min: {probs.max().item():.4f}/{probs.min().item():.4f}\")\n",
    "\n",
    "# check_model_response(sae, single_feature_examples)"
   ]
  },
  {
   "cell_type": "code",
   "execution_count": 14,
   "metadata": {},
   "outputs": [],
   "source": [
    "# # Set up parameters\n",
    "# num_directions = 5\n",
    "# num_steps = 10\n",
    "# scale_factors = [1.0, 2.0, 5.0]  # Different scale factors to try\n",
    "# use_slerp_options = [False, True]  # Try both regular and spherical interpolation\n",
    "\n",
    "\n",
    "# for scale_factor in scale_factors:\n",
    "#     for use_slerp in use_slerp_options:\n",
    "#         print(f\"\\nExperiment with scale_factor={scale_factor}, use_slerp={use_slerp}\")\n",
    "        \n",
    "#         # Generate perturbations\n",
    "#         perturbations = get_feature_to_random_perturbations(sae, feature_id, num_directions, num_steps, scale_factor, use_slerp)\n",
    "        \n",
    "#         # Compute KL divergences\n",
    "#         kl_divs, trajectories = compute_trajectory_kl_divs(sae, single_feature_examples, perturbations, num_steps)\n",
    "        \n",
    "#         # Print summary statistics\n",
    "#         for direction_idx, direction_kl_divs in enumerate(kl_divs):\n",
    "#             print(f\"Direction {direction_idx}:\")\n",
    "#             print(f\"  Initial KL div: {direction_kl_divs[0].item():.6f}\")\n",
    "#             print(f\"  Min KL div: {direction_kl_divs.min().item():.6f}\")\n",
    "#             print(f\"  Max KL div: {direction_kl_divs.max().item():.6f}\")\n",
    "#             print(f\"  Final KL div: {direction_kl_divs[-1].item():.6f}\")"
   ]
  },
  {
   "cell_type": "markdown",
   "metadata": {},
   "source": [
    "## Generating Random Directions & Finding Interesting Directions"
   ]
  },
  {
   "cell_type": "code",
   "execution_count": 291,
   "metadata": {},
   "outputs": [
    {
     "name": "stdout",
     "output_type": "stream",
     "text": [
      "Warning: Random directions are not approximately orthogonal. tensor([[ 0.0000,  0.0282,  0.0065,  ..., -0.0128, -0.0295,  0.0836],\n",
      "        [ 0.0282,  0.0000,  0.0016,  ...,  0.0449, -0.0261,  0.0686],\n",
      "        [ 0.0065,  0.0016,  0.0000,  ..., -0.0140, -0.0200, -0.0144],\n",
      "        ...,\n",
      "        [-0.0128,  0.0449, -0.0140,  ...,  0.0000,  0.0194, -0.0079],\n",
      "        [-0.0295, -0.0261, -0.0200,  ...,  0.0194,  0.0000, -0.0194],\n",
      "        [ 0.0836,  0.0686, -0.0144,  ..., -0.0079, -0.0194,  0.0000]],\n",
      "       device='cuda:0')\n"
     ]
    }
   ],
   "source": [
    "num_directions = 50\n",
    "num_steps = 10\n",
    "scale_factor = 2.0\n",
    "use_slerp = True\n",
    "\n",
    "# Choose the first SAE and its corresponding examples\n",
    "sae_idx = 11\n",
    "sae = saes[sae_idx]\n",
    "examples_by_feature = examples_by_feature_by_sae[sae_idx]\n",
    "\n",
    "# Choose a single feature (e.g., the first active feature)\n",
    "feature_id = examples_by_feature.active_feature_ids[0]\n",
    "\n",
    "# Create a new examples_by_feature with only one feature\n",
    "single_feature_examples = SAEExamplesByFeature(\n",
    "    active_feature_ids=[feature_id],\n",
    "    input_ids=examples_by_feature.input_ids[:1],\n",
    "    resid_acts=examples_by_feature.resid_acts[:1],\n",
    "    clean_loss=examples_by_feature.clean_loss[:1] if examples_by_feature.clean_loss is not None else None\n",
    ")\n",
    "\n",
    "perturbations = get_feature_to_random_perturbations(sae, feature_id, num_directions, num_steps, scale_factor, use_slerp)\n",
    "\n",
    "# Compute KL divergences\n",
    "kl_divs, trajectories = compute_trajectory_kl_divs(sae, single_feature_examples, perturbations, num_steps)"
   ]
  },
  {
   "cell_type": "code",
   "execution_count": 283,
   "metadata": {},
   "outputs": [],
   "source": [
    "# kl_name = f\"kl_divs_sae{sae_idx}_f{feature_id}_dirs{num_directions}_steps{num_steps}_scale{scale_factor}.npy\"\n",
    "# traj_name = f\"trajectories_sae{sae_idx}_f{feature_id}_dirs{num_directions}_steps{num_steps}_scale{scale_factor}.npy\"\n",
    "\n",
    "# np.save(kl_name, np.array(kl_divs))\n",
    "# np.save(traj_name, np.array(trajectories))"
   ]
  },
  {
   "cell_type": "code",
   "execution_count": 292,
   "metadata": {},
   "outputs": [
    {
     "name": "stdout",
     "output_type": "stream",
     "text": [
      "Indices of top directions: [20 43 37  3 30]\n",
      "Max KL divergences: [0.0001908  0.00018499 0.00017754 0.00017694 0.00017613]\n"
     ]
    }
   ],
   "source": [
    "def find_interesting_directions(kl_divs_by_direction, top_k=5):\n",
    "    # Convert to numpy array if it's not already\n",
    "    kl_divs = np.array(kl_divs_by_direction)\n",
    "\n",
    "    final_kl_div_per_dir = kl_divs[:, -1].squeeze()\n",
    "    \n",
    "    # Get the indices of the top k directions\n",
    "    top_indices = np.argsort(final_kl_div_per_dir)[-top_k:][::-1]\n",
    "    \n",
    "    return top_indices, final_kl_div_per_dir[top_indices]\n",
    "\n",
    "# Usage\n",
    "top_indices, top_kl_divs = find_interesting_directions(kl_divs, top_k=5)\n",
    "print(\"Indices of top directions:\", top_indices)\n",
    "print(\"Max KL divergences:\", top_kl_divs)"
   ]
  },
  {
   "cell_type": "code",
   "execution_count": 293,
   "metadata": {},
   "outputs": [],
   "source": [
    "def get_interesting_directions(random_directions, top_indices):\n",
    "    return [random_directions[i] for i in top_indices]\n",
    "\n",
    "random_directions = [p.normalised_random_direction for p in perturbations]\n",
    "interesting_directions = get_interesting_directions(random_directions, top_indices)"
   ]
  },
  {
   "cell_type": "code",
   "execution_count": 294,
   "metadata": {},
   "outputs": [],
   "source": [
    "def analyze_activation_patterns(sae, feature_id, interesting_direction, num_steps=10):\n",
    "    # Get the original feature direction\n",
    "    original_feature = sae.W_dec[feature_id]\n",
    "    \n",
    "    # Generate perturbations along the interesting direction\n",
    "    perturbations = [interesting_direction * step for step in torch.linspace(0, 1, num_steps)]\n",
    "    \n",
    "    # Compute activations\n",
    "    activations = [sae.encode(original_feature + pert) for pert in perturbations]\n",
    "    activations = [act.detach().cpu().numpy().flatten() for act in activations]\n",
    "    \n",
    "    # Find top k features across all steps\n",
    "    top_k = 10\n",
    "    all_activations = np.vstack(activations)\n",
    "    top_k_indices = np.argsort(np.max(all_activations, axis=0))[-top_k:][::-1]\n",
    "    \n",
    "   # Plot the change in top k activations\n",
    "    fig, (ax1, ax2) = plt.subplots(2, 1, figsize=(12, 10))\n",
    "    for i, idx in enumerate(top_k_indices):\n",
    "        ax1.plot([act[idx] for act in activations], label=f'Feature {idx}')\n",
    "    \n",
    "    ax1.set_title(f'Top {top_k} Activation Changes Along Interesting Direction')\n",
    "    ax1.set_xlabel('Steps')\n",
    "    ax1.set_ylabel('Activation Strength')\n",
    "    ax1.legend()\n",
    "\n",
    "    # Plot L1 norm of activation vector\n",
    "    l1_norms = [np.linalg.norm(act, ord=1) for act in activations]\n",
    "    ax2.plot(l1_norms)\n",
    "    ax2.set_title('L1 Norm of Activation Vector')\n",
    "    ax2.set_xlabel('Steps')\n",
    "    ax2.set_ylabel('L1 Norm')\n",
    "\n",
    "    plt.tight_layout()\n",
    "    plt.show()\n",
    "\n",
    "\n",
    "def compare_with_sae_features(sae, interesting_direction, top_k=5):\n",
    "    # Normalize the interesting direction\n",
    "    interesting_direction_norm = interesting_direction / torch.norm(interesting_direction)\n",
    "    \n",
    "    # Compute cosine similarities with all SAE features\n",
    "    similarities = torch.nn.functional.cosine_similarity(\n",
    "        interesting_direction_norm.unsqueeze(0),\n",
    "        sae.W_dec,\n",
    "        dim=1\n",
    "    )\n",
    "    \n",
    "    # Get top k similar features\n",
    "    top_k_values, top_k_indices = torch.topk(similarities, top_k)\n",
    "    \n",
    "    print(f\"Top {top_k} similar SAE features:\")\n",
    "    for i, (value, index) in enumerate(zip(top_k_values, top_k_indices)):\n",
    "        print(f\"Rank {i+1}: Feature {index.item()}, Similarity: {value.item():.4f}\")"
   ]
  },
  {
   "cell_type": "code",
   "execution_count": 295,
   "metadata": {},
   "outputs": [],
   "source": [
    "def visualize_trajectories(sae, feature_id, directions, top_indices=None, num_steps=10):\n",
    "    # Get the original feature direction\n",
    "    original_feature = sae.W_dec[feature_id]\n",
    "    \n",
    "    # Generate trajectories\n",
    "    trajectories = []\n",
    "    for direction in directions:\n",
    "        trajectory = [original_feature + direction * step for step in torch.linspace(0, 1, num_steps)]\n",
    "        trajectories.append(torch.stack(trajectory))\n",
    "    \n",
    "    # Flatten and concatenate all trajectories\n",
    "    all_points = torch.cat([traj.view(-1, traj.shape[-1]) for traj in trajectories])\n",
    "    \n",
    "    # Perform PCA\n",
    "    pca = PCA(n_components=2)\n",
    "    points_2d = pca.fit_transform(all_points.detach().cpu().numpy())\n",
    "    \n",
    "    # Split back into separate trajectories\n",
    "    trajectories_2d = np.split(points_2d, len(directions))\n",
    "    \n",
    "    # Plot\n",
    "    plt.figure(figsize=(12, 8))\n",
    "\n",
    "    for i, traj in enumerate(trajectories_2d):\n",
    "        if top_indices:\n",
    "            plt.plot(traj[:, 0], traj[:, 1], '-o', label=f'Direction {top_indices[i]}')\n",
    "        else:\n",
    "            plt.plot(traj[:, 0], traj[:, 1], '-o')\n",
    "    \n",
    "    plt.title('Trajectories in 2D PCA Space')\n",
    "    plt.xlabel('PC1')\n",
    "    plt.ylabel('PC2')\n",
    "    plt.legend()\n",
    "    plt.show()"
   ]
  },
  {
   "cell_type": "code",
   "execution_count": 296,
   "metadata": {},
   "outputs": [],
   "source": [
    "# # Compare with SAE features\n",
    "# for i, direction in enumerate(interesting_directions):\n",
    "#     print(f\"Comparing direction {i} (original index {top_indices[i]}) with SAE features:\")\n",
    "#     compare_with_sae_features(sae, direction)\n",
    "\n",
    "# # Visualize trajectories\n",
    "# visualize_trajectories(sae, feature_id, interesting_directions, top_indices)"
   ]
  },
  {
   "cell_type": "code",
   "execution_count": 297,
   "metadata": {},
   "outputs": [
    {
     "data": {
      "application/vnd.plotly.v1+json": {
       "config": {
        "plotlyServerURL": "https://plot.ly"
       },
       "data": [
        {
         "customdata": [
          [
           0,
           0.0003
          ],
          [
           1,
           0.0003
          ],
          [
           2,
           0.0003
          ],
          [
           3,
           0.0003
          ],
          [
           4,
           0.0002
          ],
          [
           5,
           0.0002
          ],
          [
           6,
           0.0002
          ],
          [
           7,
           0.0002
          ],
          [
           8,
           0.0002
          ],
          [
           9,
           0.0002
          ],
          [
           10,
           0.0002
          ]
         ],
         "hovertemplate": "direction=Direction 0<br>Direction 1=%{x}<br>Direction 2=%{y}<br>size=%{marker.size}<br>step=%{customdata[0]}<br>kl_div=%{customdata[1]}<extra></extra>",
         "legendgroup": "Direction 0",
         "marker": {
          "color": "#636efa",
          "size": [
           0.9825,
           0.9517,
           0.9003,
           0.8332,
           0.757,
           0.6788,
           0.6065,
           0.5468,
           0.5054,
           0.4863,
           0.4913
          ],
          "sizemode": "area",
          "sizeref": 0.01,
          "symbol": "circle"
         },
         "mode": "markers",
         "name": "Direction 0",
         "orientation": "v",
         "showlegend": true,
         "type": "scatter",
         "x": [
          0,
          1,
          2,
          3,
          4,
          5,
          6,
          7,
          8,
          9,
          10
         ],
         "xaxis": "x",
         "y": [
          0,
          0,
          0,
          0,
          0,
          0,
          0,
          0,
          0,
          0,
          0
         ],
         "yaxis": "y"
        },
        {
         "customdata": [
          [
           0,
           0.0003
          ],
          [
           1,
           0.0003
          ],
          [
           2,
           0.0003
          ],
          [
           3,
           0.0003
          ],
          [
           4,
           0.0002
          ],
          [
           5,
           0.0002
          ],
          [
           6,
           0.0002
          ],
          [
           7,
           0.0002
          ],
          [
           8,
           0.0002
          ],
          [
           9,
           0.0002
          ],
          [
           10,
           0.0002
          ]
         ],
         "hovertemplate": "direction=Direction 1<br>Direction 1=%{x}<br>Direction 2=%{y}<br>size=%{marker.size}<br>step=%{customdata[0]}<br>kl_div=%{customdata[1]}<extra></extra>",
         "legendgroup": "Direction 1",
         "marker": {
          "color": "#EF553B",
          "size": [
           0.9825,
           0.944,
           0.8858,
           0.8136,
           0.7341,
           0.6545,
           0.5825,
           0.5248,
           0.4863,
           0.4712,
           0.4805
          ],
          "sizemode": "area",
          "sizeref": 0.01,
          "symbol": "circle"
         },
         "mode": "markers",
         "name": "Direction 1",
         "orientation": "v",
         "showlegend": true,
         "type": "scatter",
         "x": [
          0,
          0.9921147013144779,
          1.9842294026289558,
          2.9763441039434335,
          3.9684588052579115,
          4.9605735065723895,
          5.952688207886867,
          6.9448029092013455,
          7.936917610515823,
          8.929032311830301,
          9.921147013144779
         ],
         "xaxis": "x",
         "y": [
          0,
          0.12533323356430426,
          0.2506664671286085,
          0.3759997006929128,
          0.501332934257217,
          0.6266661678215213,
          0.7519994013858255,
          0.8773326349501298,
          1.002665868514434,
          1.1279991020787383,
          1.2533323356430426
         ],
         "yaxis": "y"
        },
        {
         "customdata": [
          [
           0,
           0.0003
          ],
          [
           1,
           0.0003
          ],
          [
           2,
           0.0003
          ],
          [
           3,
           0.0003
          ],
          [
           4,
           0.0002
          ],
          [
           5,
           0.0002
          ],
          [
           6,
           0.0002
          ],
          [
           7,
           0.0002
          ],
          [
           8,
           0.0002
          ],
          [
           9,
           0.0002
          ],
          [
           10,
           0.0002
          ]
         ],
         "hovertemplate": "direction=Direction 2<br>Direction 1=%{x}<br>Direction 2=%{y}<br>size=%{marker.size}<br>step=%{customdata[0]}<br>kl_div=%{customdata[1]}<extra></extra>",
         "legendgroup": "Direction 2",
         "marker": {
          "color": "#00cc96",
          "size": [
           0.9825,
           0.9482,
           0.8924,
           0.8206,
           0.7401,
           0.6591,
           0.5851,
           0.5264,
           0.4879,
           0.4736,
           0.4854
          ],
          "sizemode": "area",
          "sizeref": 0.01,
          "symbol": "circle"
         },
         "mode": "markers",
         "name": "Direction 2",
         "orientation": "v",
         "showlegend": true,
         "type": "scatter",
         "x": [
          0,
          0.9685831611286311,
          1.9371663222572622,
          2.9057494833858932,
          3.8743326445145243,
          4.842915805643155,
          5.8114989667717865,
          6.7800821279004175,
          7.748665289029049,
          8.71724845015768,
          9.68583161128631
         ],
         "xaxis": "x",
         "y": [
          0,
          0.2486898871648548,
          0.4973797743297096,
          0.7460696614945643,
          0.9947595486594192,
          1.243449435824274,
          1.4921393229891287,
          1.7408292101539835,
          1.9895190973188384,
          2.238208984483693,
          2.486898871648548
         ],
         "yaxis": "y"
        },
        {
         "customdata": [
          [
           0,
           0.0003
          ],
          [
           1,
           0.0003
          ],
          [
           2,
           0.0003
          ],
          [
           3,
           0.0003
          ],
          [
           4,
           0.0003
          ],
          [
           5,
           0.0003
          ],
          [
           6,
           0.0002
          ],
          [
           7,
           0.0002
          ],
          [
           8,
           0.0002
          ],
          [
           9,
           0.0002
          ],
          [
           10,
           0.0002
          ]
         ],
         "hovertemplate": "direction=Direction 3<br>Direction 1=%{x}<br>Direction 2=%{y}<br>size=%{marker.size}<br>step=%{customdata[0]}<br>kl_div=%{customdata[1]}<extra></extra>",
         "legendgroup": "Direction 3",
         "marker": {
          "color": "#ab63fa",
          "size": [
           0.9825,
           0.9893,
           0.9736,
           0.937,
           0.8833,
           0.8179,
           0.7471,
           0.6781,
           0.6179,
           0.5722,
           0.5456
          ],
          "sizemode": "area",
          "sizeref": 0.01,
          "symbol": "circle"
         },
         "mode": "markers",
         "name": "Direction 3",
         "orientation": "v",
         "showlegend": true,
         "type": "scatter",
         "x": [
          0,
          0.9297764858882515,
          1.859552971776503,
          2.7893294576647545,
          3.719105943553006,
          4.648882429441257,
          5.578658915329509,
          6.50843540121776,
          7.438211887106012,
          8.367988372994263,
          9.297764858882514
         ],
         "xaxis": "x",
         "y": [
          0,
          0.3681245526846779,
          0.7362491053693558,
          1.1043736580540338,
          1.4724982107387117,
          1.8406227634233896,
          2.2087473161080675,
          2.5768718687927454,
          2.9449964214774234,
          3.3131209741621013,
          3.681245526846779
         ],
         "yaxis": "y"
        },
        {
         "customdata": [
          [
           0,
           0.0003
          ],
          [
           1,
           0.0003
          ],
          [
           2,
           0.0003
          ],
          [
           3,
           0.0003
          ],
          [
           4,
           0.0003
          ],
          [
           5,
           0.0002
          ],
          [
           6,
           0.0002
          ],
          [
           7,
           0.0002
          ],
          [
           8,
           0.0002
          ],
          [
           9,
           0.0002
          ],
          [
           10,
           0.0002
          ]
         ],
         "hovertemplate": "direction=Direction 4<br>Direction 1=%{x}<br>Direction 2=%{y}<br>size=%{marker.size}<br>step=%{customdata[0]}<br>kl_div=%{customdata[1]}<extra></extra>",
         "legendgroup": "Direction 4",
         "marker": {
          "color": "#FFA15A",
          "size": [
           0.9825,
           0.9769,
           0.9465,
           0.8946,
           0.8265,
           0.7488,
           0.6694,
           0.5966,
           0.5373,
           0.4978,
           0.4819
          ],
          "sizemode": "area",
          "sizeref": 0.01,
          "symbol": "circle"
         },
         "mode": "markers",
         "name": "Direction 4",
         "orientation": "v",
         "showlegend": true,
         "type": "scatter",
         "x": [
          0,
          0.8763066800438636,
          1.7526133600877272,
          2.628920040131591,
          3.5052267201754543,
          4.381533400219318,
          5.257840080263182,
          6.134146760307045,
          7.010453440350909,
          7.886760120394772,
          8.763066800438637
         ],
         "xaxis": "x",
         "y": [
          0,
          0.4817536741017153,
          0.9635073482034306,
          1.445261022305146,
          1.9270146964068613,
          2.4087683705085765,
          2.890522044610292,
          3.3722757187120074,
          3.8540293928137226,
          4.335783066915438,
          4.817536741017153
         ],
         "yaxis": "y"
        },
        {
         "customdata": [
          [
           0,
           0.0003
          ],
          [
           1,
           0.0003
          ],
          [
           2,
           0.0003
          ],
          [
           3,
           0.0003
          ],
          [
           4,
           0.0003
          ],
          [
           5,
           0.0002
          ],
          [
           6,
           0.0002
          ],
          [
           7,
           0.0002
          ],
          [
           8,
           0.0002
          ],
          [
           9,
           0.0002
          ],
          [
           10,
           0.0002
          ]
         ],
         "hovertemplate": "direction=Direction 5<br>Direction 1=%{x}<br>Direction 2=%{y}<br>size=%{marker.size}<br>step=%{customdata[0]}<br>kl_div=%{customdata[1]}<extra></extra>",
         "legendgroup": "Direction 5",
         "marker": {
          "color": "#19d3f3",
          "size": [
           0.9825,
           0.9641,
           0.9223,
           0.861,
           0.7862,
           0.7053,
           0.6263,
           0.5566,
           0.503,
           0.471,
           0.4634
          ],
          "sizemode": "area",
          "sizeref": 0.01,
          "symbol": "circle"
         },
         "mode": "markers",
         "name": "Direction 5",
         "orientation": "v",
         "showlegend": true,
         "type": "scatter",
         "x": [
          0,
          0.8090169943749475,
          1.618033988749895,
          2.4270509831248424,
          3.23606797749979,
          4.045084971874737,
          4.854101966249685,
          5.663118960624632,
          6.47213595499958,
          7.281152949374527,
          8.090169943749475
         ],
         "xaxis": "x",
         "y": [
          0,
          0.5877852522924731,
          1.1755705045849463,
          1.7633557568774194,
          2.3511410091698925,
          2.938926261462366,
          3.526711513754839,
          4.114496766047312,
          4.702282018339785,
          5.2900672706322585,
          5.877852522924732
         ],
         "yaxis": "y"
        },
        {
         "customdata": [
          [
           0,
           0.0003
          ],
          [
           1,
           0.0003
          ],
          [
           2,
           0.0003
          ],
          [
           3,
           0.0003
          ],
          [
           4,
           0.0003
          ],
          [
           5,
           0.0002
          ],
          [
           6,
           0.0002
          ],
          [
           7,
           0.0002
          ],
          [
           8,
           0.0002
          ],
          [
           9,
           0.0002
          ],
          [
           10,
           0.0002
          ]
         ],
         "hovertemplate": "direction=Direction 6<br>Direction 1=%{x}<br>Direction 2=%{y}<br>size=%{marker.size}<br>step=%{customdata[0]}<br>kl_div=%{customdata[1]}<extra></extra>",
         "legendgroup": "Direction 6",
         "marker": {
          "color": "#FF6692",
          "size": [
           0.9825,
           0.9717,
           0.9364,
           0.8807,
           0.8098,
           0.7304,
           0.6509,
           0.5786,
           0.5209,
           0.4833,
           0.4692
          ],
          "sizemode": "area",
          "sizeref": 0.01,
          "symbol": "circle"
         },
         "mode": "markers",
         "name": "Direction 6",
         "orientation": "v",
         "showlegend": true,
         "type": "scatter",
         "x": [
          0,
          0.7289686274214116,
          1.457937254842823,
          2.1869058822642344,
          2.915874509685646,
          3.644843137107058,
          4.373811764528469,
          5.102780391949881,
          5.831749019371292,
          6.560717646792704,
          7.289686274214116
         ],
         "xaxis": "x",
         "y": [
          0,
          0.6845471059286886,
          1.3690942118573772,
          2.0536413177860657,
          2.7381884237147545,
          3.422735529643443,
          4.1072826355721315,
          4.791829741500821,
          5.476376847429509,
          6.160923953358197,
          6.845471059286886
         ],
         "yaxis": "y"
        },
        {
         "customdata": [
          [
           0,
           0.0003
          ],
          [
           1,
           0.0003
          ],
          [
           2,
           0.0003
          ],
          [
           3,
           0.0003
          ],
          [
           4,
           0.0003
          ],
          [
           5,
           0.0003
          ],
          [
           6,
           0.0002
          ],
          [
           7,
           0.0002
          ],
          [
           8,
           0.0002
          ],
          [
           9,
           0.0002
          ],
          [
           10,
           0.0002
          ]
         ],
         "hovertemplate": "direction=Direction 7<br>Direction 1=%{x}<br>Direction 2=%{y}<br>size=%{marker.size}<br>step=%{customdata[0]}<br>kl_div=%{customdata[1]}<extra></extra>",
         "legendgroup": "Direction 7",
         "marker": {
          "color": "#B6E880",
          "size": [
           0.9825,
           0.9894,
           0.9704,
           0.9275,
           0.8649,
           0.7888,
           0.7064,
           0.6261,
           0.5557,
           0.5021,
           0.4705
          ],
          "sizemode": "area",
          "sizeref": 0.01,
          "symbol": "circle"
         },
         "mode": "markers",
         "name": "Direction 7",
         "orientation": "v",
         "showlegend": true,
         "type": "scatter",
         "x": [
          0,
          0.6374239897486897,
          1.2748479794973795,
          1.9122719692460692,
          2.549695958994759,
          3.1871199487434487,
          3.8245439384921385,
          4.461967928240828,
          5.099391917989518,
          5.736815907738208,
          6.3742398974868975
         ],
         "xaxis": "x",
         "y": [
          0,
          0.7705132427757893,
          1.5410264855515785,
          2.311539728327368,
          3.082052971103157,
          3.852566213878946,
          4.623079456654736,
          5.393592699430525,
          6.164105942206314,
          6.934619184982103,
          7.705132427757892
         ],
         "yaxis": "y"
        },
        {
         "customdata": [
          [
           0,
           0.0003
          ],
          [
           1,
           0.0003
          ],
          [
           2,
           0.0003
          ],
          [
           3,
           0.0003
          ],
          [
           4,
           0.0003
          ],
          [
           5,
           0.0002
          ],
          [
           6,
           0.0002
          ],
          [
           7,
           0.0002
          ],
          [
           8,
           0.0002
          ],
          [
           9,
           0.0001
          ],
          [
           10,
           0.0001
          ]
         ],
         "hovertemplate": "direction=Direction 8<br>Direction 1=%{x}<br>Direction 2=%{y}<br>size=%{marker.size}<br>step=%{customdata[0]}<br>kl_div=%{customdata[1]}<extra></extra>",
         "legendgroup": "Direction 8",
         "marker": {
          "color": "#FF97FF",
          "size": [
           0.9825,
           0.9676,
           0.9287,
           0.8698,
           0.7963,
           0.7153,
           0.634,
           0.5602,
           0.501,
           0.4618,
           0.4463
          ],
          "sizemode": "area",
          "sizeref": 0.01,
          "symbol": "circle"
         },
         "mode": "markers",
         "name": "Direction 8",
         "orientation": "v",
         "showlegend": true,
         "type": "scatter",
         "x": [
          0,
          0.5358267949789965,
          1.071653589957993,
          1.6074803849369896,
          2.143307179915986,
          2.6791339748949827,
          3.2149607698739793,
          3.750787564852976,
          4.286614359831972,
          4.822441154810969,
          5.3582679497899655
         ],
         "xaxis": "x",
         "y": [
          0,
          0.8443279255020151,
          1.6886558510040302,
          2.532983776506045,
          3.3773117020080603,
          4.221639627510076,
          5.06596755301209,
          5.910295478514105,
          6.754623404016121,
          7.598951329518136,
          8.443279255020151
         ],
         "yaxis": "y"
        },
        {
         "customdata": [
          [
           0,
           0.0003
          ],
          [
           1,
           0.0003
          ],
          [
           2,
           0.0003
          ],
          [
           3,
           0.0003
          ],
          [
           4,
           0.0003
          ],
          [
           5,
           0.0003
          ],
          [
           6,
           0.0002
          ],
          [
           7,
           0.0002
          ],
          [
           8,
           0.0002
          ],
          [
           9,
           0.0002
          ],
          [
           10,
           0.0002
          ]
         ],
         "hovertemplate": "direction=Direction 9<br>Direction 1=%{x}<br>Direction 2=%{y}<br>size=%{marker.size}<br>step=%{customdata[0]}<br>kl_div=%{customdata[1]}<extra></extra>",
         "legendgroup": "Direction 9",
         "marker": {
          "color": "#FECB52",
          "size": [
           0.9825,
           0.9848,
           0.9639,
           0.9215,
           0.8616,
           0.7898,
           0.712,
           0.6359,
           0.5679,
           0.5145,
           0.4804
          ],
          "sizemode": "area",
          "sizeref": 0.01,
          "symbol": "circle"
         },
         "mode": "markers",
         "name": "Direction 9",
         "orientation": "v",
         "showlegend": true,
         "type": "scatter",
         "x": [
          0,
          0.42577929156507266,
          0.8515585831301453,
          1.277337874695218,
          1.7031171662602906,
          2.1288964578253635,
          2.554675749390436,
          2.9804550409555084,
          3.4062343325205813,
          3.832013624085654,
          4.257792915650727
         ],
         "xaxis": "x",
         "y": [
          0,
          0.9048270524660196,
          1.8096541049320392,
          2.7144811573980587,
          3.6193082098640783,
          4.524135262330098,
          5.4289623147961175,
          6.333789367262137,
          7.238616419728157,
          8.143443472194177,
          9.048270524660197
         ],
         "yaxis": "y"
        },
        {
         "customdata": [
          [
           0,
           0.0003
          ],
          [
           1,
           0.0003
          ],
          [
           2,
           0.0003
          ],
          [
           3,
           0.0003
          ],
          [
           4,
           0.0003
          ],
          [
           5,
           0.0003
          ],
          [
           6,
           0.0002
          ],
          [
           7,
           0.0002
          ],
          [
           8,
           0.0002
          ],
          [
           9,
           0.0002
          ],
          [
           10,
           0.0002
          ]
         ],
         "hovertemplate": "direction=Direction 10<br>Direction 1=%{x}<br>Direction 2=%{y}<br>size=%{marker.size}<br>step=%{customdata[0]}<br>kl_div=%{customdata[1]}<extra></extra>",
         "legendgroup": "Direction 10",
         "marker": {
          "color": "#636efa",
          "size": [
           0.9825,
           0.9859,
           0.9653,
           0.9229,
           0.8626,
           0.7902,
           0.7131,
           0.638,
           0.5726,
           0.5229,
           0.4939
          ],
          "sizemode": "area",
          "sizeref": 0.01,
          "symbol": "circle"
         },
         "mode": "markers",
         "name": "Direction 10",
         "orientation": "v",
         "showlegend": true,
         "type": "scatter",
         "x": [
          0,
          0.30901699437494745,
          0.6180339887498949,
          0.9270509831248424,
          1.2360679774997898,
          1.5450849718747373,
          1.8541019662496847,
          2.163118960624632,
          2.4721359549995796,
          2.781152949374527,
          3.0901699437494745
         ],
         "xaxis": "x",
         "y": [
          0,
          0.9510565162951535,
          1.902113032590307,
          2.8531695488854605,
          3.804226065180614,
          4.755282581475767,
          5.706339097770921,
          6.657395614066075,
          7.608452130361228,
          8.559508646656381,
          9.510565162951535
         ],
         "yaxis": "y"
        },
        {
         "customdata": [
          [
           0,
           0.0003
          ],
          [
           1,
           0.0003
          ],
          [
           2,
           0.0003
          ],
          [
           3,
           0.0003
          ],
          [
           4,
           0.0003
          ],
          [
           5,
           0.0002
          ],
          [
           6,
           0.0002
          ],
          [
           7,
           0.0002
          ],
          [
           8,
           0.0002
          ],
          [
           9,
           0.0002
          ],
          [
           10,
           0.0002
          ]
         ],
         "hovertemplate": "direction=Direction 11<br>Direction 1=%{x}<br>Direction 2=%{y}<br>size=%{marker.size}<br>step=%{customdata[0]}<br>kl_div=%{customdata[1]}<extra></extra>",
         "legendgroup": "Direction 11",
         "marker": {
          "color": "#EF553B",
          "size": [
           0.9825,
           0.9716,
           0.9378,
           0.8844,
           0.817,
           0.7422,
           0.6676,
           0.6006,
           0.5478,
           0.5147,
           0.5038
          ],
          "sizemode": "area",
          "sizeref": 0.01,
          "symbol": "circle"
         },
         "mode": "markers",
         "name": "Direction 11",
         "orientation": "v",
         "showlegend": true,
         "type": "scatter",
         "x": [
          0,
          0.18738131458572474,
          0.3747626291714495,
          0.5621439437571742,
          0.749525258342899,
          0.9369065729286237,
          1.1242878875143485,
          1.311669202100073,
          1.499050516685798,
          1.6864318312715227,
          1.8738131458572473
         ],
         "xaxis": "x",
         "y": [
          0,
          0.9822872507286886,
          1.9645745014573772,
          2.9468617521860656,
          3.9291490029147544,
          4.911436253643443,
          5.893723504372131,
          6.87601075510082,
          7.858298005829509,
          8.840585256558198,
          9.822872507286887
         ],
         "yaxis": "y"
        },
        {
         "customdata": [
          [
           0,
           0.0003
          ],
          [
           1,
           0.0003
          ],
          [
           2,
           0.0003
          ],
          [
           3,
           0.0003
          ],
          [
           4,
           0.0003
          ],
          [
           5,
           0.0002
          ],
          [
           6,
           0.0002
          ],
          [
           7,
           0.0002
          ],
          [
           8,
           0.0002
          ],
          [
           9,
           0.0001
          ],
          [
           10,
           0.0001
          ]
         ],
         "hovertemplate": "direction=Direction 12<br>Direction 1=%{x}<br>Direction 2=%{y}<br>size=%{marker.size}<br>step=%{customdata[0]}<br>kl_div=%{customdata[1]}<extra></extra>",
         "legendgroup": "Direction 12",
         "marker": {
          "color": "#00cc96",
          "size": [
           0.9825,
           0.9655,
           0.9224,
           0.8583,
           0.7796,
           0.6945,
           0.6123,
           0.5412,
           0.4887,
           0.4604,
           0.459
          ],
          "sizemode": "area",
          "sizeref": 0.01,
          "symbol": "circle"
         },
         "mode": "markers",
         "name": "Direction 12",
         "orientation": "v",
         "showlegend": true,
         "type": "scatter",
         "x": [
          0,
          0.06279051952931353,
          0.12558103905862705,
          0.18837155858794058,
          0.2511620781172541,
          0.31395259764656763,
          0.37674311717588116,
          0.4395336367051947,
          0.5023241562345082,
          0.5651146757638217,
          0.6279051952931353
         ],
         "xaxis": "x",
         "y": [
          0,
          0.9980267284282716,
          1.9960534568565431,
          2.9940801852848145,
          3.9921069137130862,
          4.990133642141358,
          5.988160370569629,
          6.986187098997901,
          7.9842138274261725,
          8.982240555854444,
          9.980267284282716
         ],
         "yaxis": "y"
        },
        {
         "customdata": [
          [
           0,
           0.0003
          ],
          [
           1,
           0.0003
          ],
          [
           2,
           0.0003
          ],
          [
           3,
           0.0003
          ],
          [
           4,
           0.0003
          ],
          [
           5,
           0.0002
          ],
          [
           6,
           0.0002
          ],
          [
           7,
           0.0002
          ],
          [
           8,
           0.0002
          ],
          [
           9,
           0.0002
          ],
          [
           10,
           0.0002
          ]
         ],
         "hovertemplate": "direction=Direction 13<br>Direction 1=%{x}<br>Direction 2=%{y}<br>size=%{marker.size}<br>step=%{customdata[0]}<br>kl_div=%{customdata[1]}<extra></extra>",
         "legendgroup": "Direction 13",
         "marker": {
          "color": "#ab63fa",
          "size": [
           0.9825,
           0.9623,
           0.9195,
           0.8587,
           0.7854,
           0.7066,
           0.63,
           0.5626,
           0.5111,
           0.48,
           0.4724
          ],
          "sizemode": "area",
          "sizeref": 0.01,
          "symbol": "circle"
         },
         "mode": "markers",
         "name": "Direction 13",
         "orientation": "v",
         "showlegend": true,
         "type": "scatter",
         "x": [
          0,
          -0.0627905195293134,
          -0.1255810390586268,
          -0.1883715585879402,
          -0.2511620781172536,
          -0.313952597646567,
          -0.3767431171758804,
          -0.4395336367051938,
          -0.5023241562345072,
          -0.5651146757638206,
          -0.627905195293134
         ],
         "xaxis": "x",
         "y": [
          0,
          0.9980267284282716,
          1.9960534568565431,
          2.9940801852848145,
          3.9921069137130862,
          4.990133642141358,
          5.988160370569629,
          6.986187098997901,
          7.9842138274261725,
          8.982240555854444,
          9.980267284282716
         ],
         "yaxis": "y"
        },
        {
         "customdata": [
          [
           0,
           0.0003
          ],
          [
           1,
           0.0003
          ],
          [
           2,
           0.0003
          ],
          [
           3,
           0.0003
          ],
          [
           4,
           0.0003
          ],
          [
           5,
           0.0003
          ],
          [
           6,
           0.0002
          ],
          [
           7,
           0.0002
          ],
          [
           8,
           0.0002
          ],
          [
           9,
           0.0002
          ],
          [
           10,
           0.0002
          ]
         ],
         "hovertemplate": "direction=Direction 14<br>Direction 1=%{x}<br>Direction 2=%{y}<br>size=%{marker.size}<br>step=%{customdata[0]}<br>kl_div=%{customdata[1]}<extra></extra>",
         "legendgroup": "Direction 14",
         "marker": {
          "color": "#FFA15A",
          "size": [
           0.9825,
           0.9872,
           0.9663,
           0.9218,
           0.8586,
           0.7827,
           0.7016,
           0.6233,
           0.5555,
           0.5052,
           0.477
          ],
          "sizemode": "area",
          "sizeref": 0.01,
          "symbol": "circle"
         },
         "mode": "markers",
         "name": "Direction 14",
         "orientation": "v",
         "showlegend": true,
         "type": "scatter",
         "x": [
          0,
          -0.1873813145857246,
          -0.3747626291714492,
          -0.5621439437571738,
          -0.7495252583428984,
          -0.936906572928623,
          -1.1242878875143476,
          -1.3116692021000722,
          -1.4990505166857968,
          -1.6864318312715214,
          -1.873813145857246
         ],
         "xaxis": "x",
         "y": [
          0,
          0.9822872507286887,
          1.9645745014573774,
          2.946861752186066,
          3.929149002914755,
          4.911436253643443,
          5.893723504372132,
          6.876010755100821,
          7.85829800582951,
          8.840585256558198,
          9.822872507286887
         ],
         "yaxis": "y"
        },
        {
         "customdata": [
          [
           0,
           0.0003
          ],
          [
           1,
           0.0003
          ],
          [
           2,
           0.0003
          ],
          [
           3,
           0.0003
          ],
          [
           4,
           0.0002
          ],
          [
           5,
           0.0002
          ],
          [
           6,
           0.0002
          ],
          [
           7,
           0.0002
          ],
          [
           8,
           0.0002
          ],
          [
           9,
           0.0002
          ],
          [
           10,
           0.0002
          ]
         ],
         "hovertemplate": "direction=Direction 15<br>Direction 1=%{x}<br>Direction 2=%{y}<br>size=%{marker.size}<br>step=%{customdata[0]}<br>kl_div=%{customdata[1]}<extra></extra>",
         "legendgroup": "Direction 15",
         "marker": {
          "color": "#19d3f3",
          "size": [
           0.9825,
           0.9561,
           0.9074,
           0.8412,
           0.7642,
           0.684,
           0.6085,
           0.5455,
           0.5006,
           0.4783,
           0.4812
          ],
          "sizemode": "area",
          "sizeref": 0.01,
          "symbol": "circle"
         },
         "mode": "markers",
         "name": "Direction 15",
         "orientation": "v",
         "showlegend": true,
         "type": "scatter",
         "x": [
          0,
          -0.3090169943749471,
          -0.6180339887498942,
          -0.9270509831248414,
          -1.2360679774997885,
          -1.5450849718747355,
          -1.8541019662496827,
          -2.16311896062463,
          -2.472135954999577,
          -2.781152949374524,
          -3.090169943749471
         ],
         "xaxis": "x",
         "y": [
          0,
          0.9510565162951536,
          1.9021130325903073,
          2.853169548885461,
          3.8042260651806146,
          4.755282581475768,
          5.706339097770922,
          6.6573956140660755,
          7.608452130361229,
          8.559508646656383,
          9.510565162951536
         ],
         "yaxis": "y"
        },
        {
         "customdata": [
          [
           0,
           0.0003
          ],
          [
           1,
           0.0003
          ],
          [
           2,
           0.0003
          ],
          [
           3,
           0.0003
          ],
          [
           4,
           0.0002
          ],
          [
           5,
           0.0002
          ],
          [
           6,
           0.0002
          ],
          [
           7,
           0.0002
          ],
          [
           8,
           0.0002
          ],
          [
           9,
           0.0001
          ],
          [
           10,
           0.0001
          ]
         ],
         "hovertemplate": "direction=Direction 16<br>Direction 1=%{x}<br>Direction 2=%{y}<br>size=%{marker.size}<br>step=%{customdata[0]}<br>kl_div=%{customdata[1]}<extra></extra>",
         "legendgroup": "Direction 16",
         "marker": {
          "color": "#FF6692",
          "size": [
           0.9825,
           0.9559,
           0.9068,
           0.8397,
           0.7609,
           0.6777,
           0.5981,
           0.5294,
           0.4781,
           0.4486,
           0.444
          ],
          "sizemode": "area",
          "sizeref": 0.01,
          "symbol": "circle"
         },
         "mode": "markers",
         "name": "Direction 16",
         "orientation": "v",
         "showlegend": true,
         "type": "scatter",
         "x": [
          0,
          -0.4257792915650727,
          -0.8515585831301454,
          -1.2773378746952182,
          -1.7031171662602909,
          -2.1288964578253635,
          -2.5546757493904364,
          -2.980455040955509,
          -3.4062343325205817,
          -3.8320136240856546,
          -4.257792915650727
         ],
         "xaxis": "x",
         "y": [
          0,
          0.9048270524660195,
          1.809654104932039,
          2.7144811573980583,
          3.619308209864078,
          4.524135262330097,
          5.428962314796117,
          6.333789367262137,
          7.238616419728156,
          8.143443472194175,
          9.048270524660195
         ],
         "yaxis": "y"
        },
        {
         "customdata": [
          [
           0,
           0.0003
          ],
          [
           1,
           0.0003
          ],
          [
           2,
           0.0003
          ],
          [
           3,
           0.0003
          ],
          [
           4,
           0.0003
          ],
          [
           5,
           0.0002
          ],
          [
           6,
           0.0002
          ],
          [
           7,
           0.0002
          ],
          [
           8,
           0.0002
          ],
          [
           9,
           0.0002
          ],
          [
           10,
           0.0001
          ]
         ],
         "hovertemplate": "direction=Direction 17<br>Direction 1=%{x}<br>Direction 2=%{y}<br>size=%{marker.size}<br>step=%{customdata[0]}<br>kl_div=%{customdata[1]}<extra></extra>",
         "legendgroup": "Direction 17",
         "marker": {
          "color": "#B6E880",
          "size": [
           0.9825,
           0.9712,
           0.9349,
           0.8771,
           0.8038,
           0.722,
           0.6403,
           0.5664,
           0.5081,
           0.4709,
           0.4583
          ],
          "sizemode": "area",
          "sizeref": 0.01,
          "symbol": "circle"
         },
         "mode": "markers",
         "name": "Direction 17",
         "orientation": "v",
         "showlegend": true,
         "type": "scatter",
         "x": [
          0,
          -0.5358267949789969,
          -1.0716535899579938,
          -1.6074803849369905,
          -2.1433071799159875,
          -2.6791339748949845,
          -3.214960769873981,
          -3.750787564852978,
          -4.286614359831975,
          -4.822441154810972,
          -5.358267949789969
         ],
         "xaxis": "x",
         "y": [
          0,
          0.844327925502015,
          1.68865585100403,
          2.532983776506045,
          3.37731170200806,
          4.221639627510075,
          5.06596755301209,
          5.910295478514104,
          6.75462340401612,
          7.598951329518135,
          8.44327925502015
         ],
         "yaxis": "y"
        },
        {
         "customdata": [
          [
           0,
           0.0003
          ],
          [
           1,
           0.0003
          ],
          [
           2,
           0.0003
          ],
          [
           3,
           0.0003
          ],
          [
           4,
           0.0003
          ],
          [
           5,
           0.0002
          ],
          [
           6,
           0.0002
          ],
          [
           7,
           0.0002
          ],
          [
           8,
           0.0002
          ],
          [
           9,
           0.0002
          ],
          [
           10,
           0.0001
          ]
         ],
         "hovertemplate": "direction=Direction 18<br>Direction 1=%{x}<br>Direction 2=%{y}<br>size=%{marker.size}<br>step=%{customdata[0]}<br>kl_div=%{customdata[1]}<extra></extra>",
         "legendgroup": "Direction 18",
         "marker": {
          "color": "#FF97FF",
          "size": [
           0.9825,
           0.9719,
           0.9362,
           0.8791,
           0.8065,
           0.7254,
           0.6437,
           0.5697,
           0.511,
           0.4731,
           0.4597
          ],
          "sizemode": "area",
          "sizeref": 0.01,
          "symbol": "circle"
         },
         "mode": "markers",
         "name": "Direction 18",
         "orientation": "v",
         "showlegend": true,
         "type": "scatter",
         "x": [
          0,
          -0.6374239897486897,
          -1.2748479794973795,
          -1.9122719692460692,
          -2.549695958994759,
          -3.1871199487434487,
          -3.8245439384921385,
          -4.461967928240828,
          -5.099391917989518,
          -5.736815907738208,
          -6.3742398974868975
         ],
         "xaxis": "x",
         "y": [
          0,
          0.7705132427757893,
          1.5410264855515785,
          2.311539728327368,
          3.082052971103157,
          3.852566213878946,
          4.623079456654736,
          5.393592699430525,
          6.164105942206314,
          6.934619184982103,
          7.705132427757892
         ],
         "yaxis": "y"
        },
        {
         "customdata": [
          [
           0,
           0.0003
          ],
          [
           1,
           0.0003
          ],
          [
           2,
           0.0003
          ],
          [
           3,
           0.0003
          ],
          [
           4,
           0.0002
          ],
          [
           5,
           0.0002
          ],
          [
           6,
           0.0002
          ],
          [
           7,
           0.0002
          ],
          [
           8,
           0.0002
          ],
          [
           9,
           0.0001
          ],
          [
           10,
           0.0001
          ]
         ],
         "hovertemplate": "direction=Direction 19<br>Direction 1=%{x}<br>Direction 2=%{y}<br>size=%{marker.size}<br>step=%{customdata[0]}<br>kl_div=%{customdata[1]}<extra></extra>",
         "legendgroup": "Direction 19",
         "marker": {
          "color": "#FECB52",
          "size": [
           0.9825,
           0.9553,
           0.9047,
           0.8357,
           0.7554,
           0.6717,
           0.5929,
           0.5268,
           0.4797,
           0.4565,
           0.4593
          ],
          "sizemode": "area",
          "sizeref": 0.01,
          "symbol": "circle"
         },
         "mode": "markers",
         "name": "Direction 19",
         "orientation": "v",
         "showlegend": true,
         "type": "scatter",
         "x": [
          0,
          -0.7289686274214113,
          -1.4579372548428227,
          -2.186905882264234,
          -2.9158745096856453,
          -3.6448431371070567,
          -4.373811764528468,
          -5.10278039194988,
          -5.831749019371291,
          -6.5607176467927015,
          -7.289686274214113
         ],
         "xaxis": "x",
         "y": [
          0,
          0.6845471059286888,
          1.3690942118573777,
          2.0536413177860666,
          2.7381884237147553,
          3.422735529643444,
          4.107282635572133,
          4.7918297415008215,
          5.476376847429511,
          6.1609239533582,
          6.845471059286888
         ],
         "yaxis": "y"
        },
        {
         "customdata": [
          [
           0,
           0.0003
          ],
          [
           1,
           0.0003
          ],
          [
           2,
           0.0003
          ],
          [
           3,
           0.0003
          ],
          [
           4,
           0.0003
          ],
          [
           5,
           0.0003
          ],
          [
           6,
           0.0003
          ],
          [
           7,
           0.0002
          ],
          [
           8,
           0.0002
          ],
          [
           9,
           0.0002
          ],
          [
           10,
           0.0002
          ]
         ],
         "hovertemplate": "direction=Direction 20<br>Direction 1=%{x}<br>Direction 2=%{y}<br>size=%{marker.size}<br>step=%{customdata[0]}<br>kl_div=%{customdata[1]}<extra></extra>",
         "legendgroup": "Direction 20",
         "marker": {
          "color": "#636efa",
          "size": [
           0.9825,
           0.9904,
           0.9788,
           0.9491,
           0.9038,
           0.847,
           0.7843,
           0.7218,
           0.6649,
           0.619,
           0.5883
          ],
          "sizemode": "area",
          "sizeref": 0.01,
          "symbol": "circle"
         },
         "mode": "markers",
         "name": "Direction 20",
         "orientation": "v",
         "showlegend": true,
         "type": "scatter",
         "x": [
          0,
          -0.8090169943749473,
          -1.6180339887498947,
          -2.427050983124842,
          -3.2360679774997894,
          -4.045084971874736,
          -4.854101966249684,
          -5.663118960624631,
          -6.472135954999579,
          -7.281152949374526,
          -8.090169943749473
         ],
         "xaxis": "x",
         "y": [
          0,
          0.5877852522924732,
          1.1755705045849465,
          1.7633557568774196,
          2.351141009169893,
          2.9389262614623664,
          3.5267115137548393,
          4.114496766047313,
          4.702282018339786,
          5.290067270632259,
          5.877852522924733
         ],
         "yaxis": "y"
        },
        {
         "customdata": [
          [
           0,
           0.0003
          ],
          [
           1,
           0.0003
          ],
          [
           2,
           0.0003
          ],
          [
           3,
           0.0003
          ],
          [
           4,
           0.0003
          ],
          [
           5,
           0.0002
          ],
          [
           6,
           0.0002
          ],
          [
           7,
           0.0002
          ],
          [
           8,
           0.0002
          ],
          [
           9,
           0.0002
          ],
          [
           10,
           0.0002
          ]
         ],
         "hovertemplate": "direction=Direction 21<br>Direction 1=%{x}<br>Direction 2=%{y}<br>size=%{marker.size}<br>step=%{customdata[0]}<br>kl_div=%{customdata[1]}<extra></extra>",
         "legendgroup": "Direction 21",
         "marker": {
          "color": "#EF553B",
          "size": [
           0.9825,
           0.9803,
           0.9532,
           0.9041,
           0.8379,
           0.7611,
           0.6815,
           0.6068,
           0.5447,
           0.501,
           0.4805
          ],
          "sizemode": "area",
          "sizeref": 0.01,
          "symbol": "circle"
         },
         "mode": "markers",
         "name": "Direction 21",
         "orientation": "v",
         "showlegend": true,
         "type": "scatter",
         "x": [
          0,
          -0.8763066800438636,
          -1.7526133600877272,
          -2.628920040131591,
          -3.5052267201754543,
          -4.381533400219318,
          -5.257840080263182,
          -6.134146760307045,
          -7.010453440350909,
          -7.886760120394772,
          -8.763066800438637
         ],
         "xaxis": "x",
         "y": [
          0,
          0.4817536741017152,
          0.9635073482034304,
          1.4452610223051456,
          1.9270146964068608,
          2.408768370508576,
          2.8905220446102913,
          3.3722757187120065,
          3.8540293928137217,
          4.335783066915437,
          4.817536741017152
         ],
         "yaxis": "y"
        },
        {
         "customdata": [
          [
           0,
           0.0003
          ],
          [
           1,
           0.0003
          ],
          [
           2,
           0.0003
          ],
          [
           3,
           0.0003
          ],
          [
           4,
           0.0003
          ],
          [
           5,
           0.0002
          ],
          [
           6,
           0.0002
          ],
          [
           7,
           0.0002
          ],
          [
           8,
           0.0002
          ],
          [
           9,
           0.0002
          ],
          [
           10,
           0.0002
          ]
         ],
         "hovertemplate": "direction=Direction 22<br>Direction 1=%{x}<br>Direction 2=%{y}<br>size=%{marker.size}<br>step=%{customdata[0]}<br>kl_div=%{customdata[1]}<extra></extra>",
         "legendgroup": "Direction 22",
         "marker": {
          "color": "#00cc96",
          "size": [
           0.9825,
           0.9692,
           0.9335,
           0.8784,
           0.8096,
           0.7338,
           0.6584,
           0.5907,
           0.5374,
           0.5034,
           0.4922
          ],
          "sizemode": "area",
          "sizeref": 0.01,
          "symbol": "circle"
         },
         "mode": "markers",
         "name": "Direction 22",
         "orientation": "v",
         "showlegend": true,
         "type": "scatter",
         "x": [
          0,
          -0.9297764858882513,
          -1.8595529717765027,
          -2.789329457664754,
          -3.7191059435530054,
          -4.648882429441256,
          -5.578658915329508,
          -6.50843540121776,
          -7.438211887106011,
          -8.367988372994262,
          -9.297764858882513
         ],
         "xaxis": "x",
         "y": [
          0,
          0.36812455268467814,
          0.7362491053693563,
          1.1043736580540344,
          1.4724982107387126,
          1.8406227634233907,
          2.208747316108069,
          2.5768718687927468,
          2.944996421477425,
          3.3131209741621035,
          3.6812455268467814
         ],
         "yaxis": "y"
        },
        {
         "customdata": [
          [
           0,
           0.0003
          ],
          [
           1,
           0.0003
          ],
          [
           2,
           0.0003
          ],
          [
           3,
           0.0003
          ],
          [
           4,
           0.0003
          ],
          [
           5,
           0.0002
          ],
          [
           6,
           0.0002
          ],
          [
           7,
           0.0002
          ],
          [
           8,
           0.0002
          ],
          [
           9,
           0.0002
          ],
          [
           10,
           0.0002
          ]
         ],
         "hovertemplate": "direction=Direction 23<br>Direction 1=%{x}<br>Direction 2=%{y}<br>size=%{marker.size}<br>step=%{customdata[0]}<br>kl_div=%{customdata[1]}<extra></extra>",
         "legendgroup": "Direction 23",
         "marker": {
          "color": "#ab63fa",
          "size": [
           0.9825,
           0.9619,
           0.9189,
           0.8576,
           0.7849,
           0.7076,
           0.634,
           0.5712,
           0.5256,
           0.5019,
           0.5021
          ],
          "sizemode": "area",
          "sizeref": 0.01,
          "symbol": "circle"
         },
         "mode": "markers",
         "name": "Direction 23",
         "orientation": "v",
         "showlegend": true,
         "type": "scatter",
         "x": [
          0,
          -0.968583161128631,
          -1.937166322257262,
          -2.905749483385893,
          -3.874332644514524,
          -4.8429158056431545,
          -5.811498966771786,
          -6.780082127900417,
          -7.748665289029048,
          -8.717248450157678,
          -9.685831611286309
         ],
         "xaxis": "x",
         "y": [
          0,
          0.24868988716485524,
          0.4973797743297105,
          0.7460696614945657,
          0.994759548659421,
          1.2434494358242763,
          1.4921393229891313,
          1.7408292101539866,
          1.989519097318842,
          2.238208984483697,
          2.4868988716485525
         ],
         "yaxis": "y"
        },
        {
         "customdata": [
          [
           0,
           0.0003
          ],
          [
           1,
           0.0003
          ],
          [
           2,
           0.0003
          ],
          [
           3,
           0.0003
          ],
          [
           4,
           0.0003
          ],
          [
           5,
           0.0002
          ],
          [
           6,
           0.0002
          ],
          [
           7,
           0.0002
          ],
          [
           8,
           0.0002
          ],
          [
           9,
           0.0002
          ],
          [
           10,
           0.0002
          ]
         ],
         "hovertemplate": "direction=Direction 24<br>Direction 1=%{x}<br>Direction 2=%{y}<br>size=%{marker.size}<br>step=%{customdata[0]}<br>kl_div=%{customdata[1]}<extra></extra>",
         "legendgroup": "Direction 24",
         "marker": {
          "color": "#FFA15A",
          "size": [
           0.9825,
           0.96,
           0.9147,
           0.8516,
           0.7774,
           0.7001,
           0.6282,
           0.5694,
           0.5297,
           0.5135,
           0.5225
          ],
          "sizemode": "area",
          "sizeref": 0.01,
          "symbol": "circle"
         },
         "mode": "markers",
         "name": "Direction 24",
         "orientation": "v",
         "showlegend": true,
         "type": "scatter",
         "x": [
          0,
          -0.9921147013144778,
          -1.9842294026289555,
          -2.9763441039434335,
          -3.968458805257911,
          -4.960573506572389,
          -5.952688207886867,
          -6.944802909201345,
          -7.936917610515822,
          -8.9290323118303,
          -9.921147013144777
         ],
         "xaxis": "x",
         "y": [
          0,
          0.12533323356430454,
          0.25066646712860907,
          0.3759997006929136,
          0.5013329342572181,
          0.6266661678215226,
          0.7519994013858272,
          0.8773326349501318,
          1.0026658685144363,
          1.1279991020787408,
          1.2533323356430452
         ],
         "yaxis": "y"
        },
        {
         "customdata": [
          [
           0,
           0.0003
          ],
          [
           1,
           0.0003
          ],
          [
           2,
           0.0003
          ],
          [
           3,
           0.0003
          ],
          [
           4,
           0.0003
          ],
          [
           5,
           0.0002
          ],
          [
           6,
           0.0002
          ],
          [
           7,
           0.0002
          ],
          [
           8,
           0.0002
          ],
          [
           9,
           0.0002
          ],
          [
           10,
           0.0002
          ]
         ],
         "hovertemplate": "direction=Direction 25<br>Direction 1=%{x}<br>Direction 2=%{y}<br>size=%{marker.size}<br>step=%{customdata[0]}<br>kl_div=%{customdata[1]}<extra></extra>",
         "legendgroup": "Direction 25",
         "marker": {
          "color": "#19d3f3",
          "size": [
           0.9825,
           0.9712,
           0.9399,
           0.8917,
           0.8307,
           0.763,
           0.6942,
           0.6309,
           0.5785,
           0.542,
           0.5245
          ],
          "sizemode": "area",
          "sizeref": 0.01,
          "symbol": "circle"
         },
         "mode": "markers",
         "name": "Direction 25",
         "orientation": "v",
         "showlegend": true,
         "type": "scatter",
         "x": [
          0,
          -1,
          -2,
          -3,
          -4,
          -5,
          -6,
          -7,
          -8,
          -9,
          -10
         ],
         "xaxis": "x",
         "y": [
          0,
          1.2246467991473532e-16,
          2.4492935982947064e-16,
          3.6739403974420594e-16,
          4.898587196589413e-16,
          6.123233995736766e-16,
          7.347880794884119e-16,
          8.572527594031472e-16,
          9.797174393178826e-16,
          1.102182119232618e-15,
          1.2246467991473533e-15
         ],
         "yaxis": "y"
        },
        {
         "customdata": [
          [
           0,
           0.0003
          ],
          [
           1,
           0.0003
          ],
          [
           2,
           0.0003
          ],
          [
           3,
           0.0003
          ],
          [
           4,
           0.0003
          ],
          [
           5,
           0.0002
          ],
          [
           6,
           0.0002
          ],
          [
           7,
           0.0002
          ],
          [
           8,
           0.0002
          ],
          [
           9,
           0.0002
          ],
          [
           10,
           0.0002
          ]
         ],
         "hovertemplate": "direction=Direction 26<br>Direction 1=%{x}<br>Direction 2=%{y}<br>size=%{marker.size}<br>step=%{customdata[0]}<br>kl_div=%{customdata[1]}<extra></extra>",
         "legendgroup": "Direction 26",
         "marker": {
          "color": "#FF6692",
          "size": [
           0.9825,
           0.9683,
           0.9317,
           0.876,
           0.8066,
           0.7302,
           0.6539,
           0.5849,
           0.5299,
           0.494,
           0.4806
          ],
          "sizemode": "area",
          "sizeref": 0.01,
          "symbol": "circle"
         },
         "mode": "markers",
         "name": "Direction 26",
         "orientation": "v",
         "showlegend": true,
         "type": "scatter",
         "x": [
          0,
          -0.9921147013144779,
          -1.9842294026289558,
          -2.9763441039434335,
          -3.9684588052579115,
          -4.9605735065723895,
          -5.952688207886867,
          -6.9448029092013455,
          -7.936917610515823,
          -8.929032311830301,
          -9.921147013144779
         ],
         "xaxis": "x",
         "y": [
          0,
          -0.12533323356430429,
          -0.25066646712860857,
          -0.3759997006929129,
          -0.5013329342572171,
          -0.6266661678215214,
          -0.7519994013858258,
          -0.87733263495013,
          -1.0026658685144343,
          -1.1279991020787385,
          -1.2533323356430428
         ],
         "yaxis": "y"
        },
        {
         "customdata": [
          [
           0,
           0.0003
          ],
          [
           1,
           0.0003
          ],
          [
           2,
           0.0003
          ],
          [
           3,
           0.0003
          ],
          [
           4,
           0.0003
          ],
          [
           5,
           0.0002
          ],
          [
           6,
           0.0002
          ],
          [
           7,
           0.0002
          ],
          [
           8,
           0.0002
          ],
          [
           9,
           0.0002
          ],
          [
           10,
           0.0002
          ]
         ],
         "hovertemplate": "direction=Direction 27<br>Direction 1=%{x}<br>Direction 2=%{y}<br>size=%{marker.size}<br>step=%{customdata[0]}<br>kl_div=%{customdata[1]}<extra></extra>",
         "legendgroup": "Direction 27",
         "marker": {
          "color": "#B6E880",
          "size": [
           0.9825,
           0.9661,
           0.9286,
           0.8733,
           0.8056,
           0.7317,
           0.6587,
           0.5932,
           0.5419,
           0.509,
           0.4978
          ],
          "sizemode": "area",
          "sizeref": 0.01,
          "symbol": "circle"
         },
         "mode": "markers",
         "name": "Direction 27",
         "orientation": "v",
         "showlegend": true,
         "type": "scatter",
         "x": [
          0,
          -0.9685831611286312,
          -1.9371663222572624,
          -2.9057494833858937,
          -3.8743326445145247,
          -4.842915805643156,
          -5.811498966771787,
          -6.780082127900418,
          -7.7486652890290495,
          -8.717248450157681,
          -9.685831611286313
         ],
         "xaxis": "x",
         "y": [
          0,
          -0.24868988716485457,
          -0.49737977432970915,
          -0.7460696614945637,
          -0.9947595486594183,
          -1.243449435824273,
          -1.4921393229891273,
          -1.740829210153982,
          -1.9895190973188366,
          -2.238208984483691,
          -2.486898871648546
         ],
         "yaxis": "y"
        },
        {
         "customdata": [
          [
           0,
           0.0003
          ],
          [
           1,
           0.0003
          ],
          [
           2,
           0.0003
          ],
          [
           3,
           0.0003
          ],
          [
           4,
           0.0003
          ],
          [
           5,
           0.0003
          ],
          [
           6,
           0.0002
          ],
          [
           7,
           0.0002
          ],
          [
           8,
           0.0002
          ],
          [
           9,
           0.0002
          ],
          [
           10,
           0.0001
          ]
         ],
         "hovertemplate": "direction=Direction 28<br>Direction 1=%{x}<br>Direction 2=%{y}<br>size=%{marker.size}<br>step=%{customdata[0]}<br>kl_div=%{customdata[1]}<extra></extra>",
         "legendgroup": "Direction 28",
         "marker": {
          "color": "#FF97FF",
          "size": [
           0.9825,
           0.9866,
           0.9652,
           0.9205,
           0.8565,
           0.7796,
           0.6966,
           0.6152,
           0.5434,
           0.4877,
           0.453
          ],
          "sizemode": "area",
          "sizeref": 0.01,
          "symbol": "circle"
         },
         "mode": "markers",
         "name": "Direction 28",
         "orientation": "v",
         "showlegend": true,
         "type": "scatter",
         "x": [
          0,
          -0.9297764858882515,
          -1.859552971776503,
          -2.7893294576647545,
          -3.719105943553006,
          -4.648882429441257,
          -5.578658915329509,
          -6.50843540121776,
          -7.438211887106012,
          -8.367988372994263,
          -9.297764858882514
         ],
         "xaxis": "x",
         "y": [
          0,
          -0.3681245526846779,
          -0.7362491053693558,
          -1.1043736580540338,
          -1.4724982107387117,
          -1.8406227634233896,
          -2.2087473161080675,
          -2.5768718687927454,
          -2.9449964214774234,
          -3.3131209741621013,
          -3.681245526846779
         ],
         "yaxis": "y"
        },
        {
         "customdata": [
          [
           0,
           0.0003
          ],
          [
           1,
           0.0003
          ],
          [
           2,
           0.0003
          ],
          [
           3,
           0.0003
          ],
          [
           4,
           0.0003
          ],
          [
           5,
           0.0003
          ],
          [
           6,
           0.0002
          ],
          [
           7,
           0.0002
          ],
          [
           8,
           0.0002
          ],
          [
           9,
           0.0002
          ],
          [
           10,
           0.0002
          ]
         ],
         "hovertemplate": "direction=Direction 29<br>Direction 1=%{x}<br>Direction 2=%{y}<br>size=%{marker.size}<br>step=%{customdata[0]}<br>kl_div=%{customdata[1]}<extra></extra>",
         "legendgroup": "Direction 29",
         "marker": {
          "color": "#FECB52",
          "size": [
           0.9825,
           0.9857,
           0.9645,
           0.9214,
           0.8602,
           0.7872,
           0.7092,
           0.6338,
           0.5686,
           0.5195,
           0.4914
          ],
          "sizemode": "area",
          "sizeref": 0.01,
          "symbol": "circle"
         },
         "mode": "markers",
         "name": "Direction 29",
         "orientation": "v",
         "showlegend": true,
         "type": "scatter",
         "x": [
          0,
          -0.8763066800438635,
          -1.752613360087727,
          -2.6289200401315904,
          -3.505226720175454,
          -4.381533400219317,
          -5.257840080263181,
          -6.134146760307044,
          -7.010453440350908,
          -7.886760120394771,
          -8.763066800438635
         ],
         "xaxis": "x",
         "y": [
          0,
          -0.4817536741017154,
          -0.9635073482034308,
          -1.445261022305146,
          -1.9270146964068615,
          -2.408768370508577,
          -2.890522044610292,
          -3.372275718712008,
          -3.854029392813723,
          -4.335783066915439,
          -4.817536741017154
         ],
         "yaxis": "y"
        },
        {
         "customdata": [
          [
           0,
           0.0003
          ],
          [
           1,
           0.0003
          ],
          [
           2,
           0.0003
          ],
          [
           3,
           0.0003
          ],
          [
           4,
           0.0003
          ],
          [
           5,
           0.0003
          ],
          [
           6,
           0.0002
          ],
          [
           7,
           0.0002
          ],
          [
           8,
           0.0002
          ],
          [
           9,
           0.0002
          ],
          [
           10,
           0.0002
          ]
         ],
         "hovertemplate": "direction=Direction 30<br>Direction 1=%{x}<br>Direction 2=%{y}<br>size=%{marker.size}<br>step=%{customdata[0]}<br>kl_div=%{customdata[1]}<extra></extra>",
         "legendgroup": "Direction 30",
         "marker": {
          "color": "#636efa",
          "size": [
           0.9825,
           0.9816,
           0.9591,
           0.9171,
           0.8597,
           0.7927,
           0.723,
           0.6571,
           0.6019,
           0.5626,
           0.5431
          ],
          "sizemode": "area",
          "sizeref": 0.01,
          "symbol": "circle"
         },
         "mode": "markers",
         "name": "Direction 30",
         "orientation": "v",
         "showlegend": true,
         "type": "scatter",
         "x": [
          0,
          -0.8090169943749478,
          -1.6180339887498956,
          -2.4270509831248432,
          -3.236067977499791,
          -4.045084971874739,
          -4.8541019662496865,
          -5.663118960624635,
          -6.472135954999582,
          -7.28115294937453,
          -8.090169943749478
         ],
         "xaxis": "x",
         "y": [
          0,
          -0.5877852522924727,
          -1.1755705045849454,
          -1.763355756877418,
          -2.3511410091698908,
          -2.9389262614623632,
          -3.526711513754836,
          -4.114496766047309,
          -4.7022820183397815,
          -5.290067270632254,
          -5.8778525229247265
         ],
         "yaxis": "y"
        },
        {
         "customdata": [
          [
           0,
           0.0003
          ],
          [
           1,
           0.0003
          ],
          [
           2,
           0.0003
          ],
          [
           3,
           0.0003
          ],
          [
           4,
           0.0003
          ],
          [
           5,
           0.0002
          ],
          [
           6,
           0.0002
          ],
          [
           7,
           0.0002
          ],
          [
           8,
           0.0002
          ],
          [
           9,
           0.0002
          ],
          [
           10,
           0.0002
          ]
         ],
         "hovertemplate": "direction=Direction 31<br>Direction 1=%{x}<br>Direction 2=%{y}<br>size=%{marker.size}<br>step=%{customdata[0]}<br>kl_div=%{customdata[1]}<extra></extra>",
         "legendgroup": "Direction 31",
         "marker": {
          "color": "#EF553B",
          "size": [
           0.9825,
           0.9721,
           0.9389,
           0.8859,
           0.8182,
           0.7424,
           0.666,
           0.5962,
           0.5397,
           0.502,
           0.4868
          ],
          "sizemode": "area",
          "sizeref": 0.01,
          "symbol": "circle"
         },
         "mode": "markers",
         "name": "Direction 31",
         "orientation": "v",
         "showlegend": true,
         "type": "scatter",
         "x": [
          0,
          -0.7289686274214118,
          -1.4579372548428235,
          -2.1869058822642353,
          -2.915874509685647,
          -3.644843137107059,
          -4.373811764528471,
          -5.102780391949882,
          -5.831749019371294,
          -6.560717646792706,
          -7.289686274214118
         ],
         "xaxis": "x",
         "y": [
          0,
          -0.6845471059286884,
          -1.3690942118573768,
          -2.0536413177860653,
          -2.7381884237147536,
          -3.422735529643442,
          -4.107282635572131,
          -4.791829741500819,
          -5.476376847429507,
          -6.160923953358195,
          -6.845471059286884
         ],
         "yaxis": "y"
        },
        {
         "customdata": [
          [
           0,
           0.0003
          ],
          [
           1,
           0.0003
          ],
          [
           2,
           0.0003
          ],
          [
           3,
           0.0003
          ],
          [
           4,
           0.0003
          ],
          [
           5,
           0.0003
          ],
          [
           6,
           0.0002
          ],
          [
           7,
           0.0002
          ],
          [
           8,
           0.0002
          ],
          [
           9,
           0.0002
          ],
          [
           10,
           0.0002
          ]
         ],
         "hovertemplate": "direction=Direction 32<br>Direction 1=%{x}<br>Direction 2=%{y}<br>size=%{marker.size}<br>step=%{customdata[0]}<br>kl_div=%{customdata[1]}<extra></extra>",
         "legendgroup": "Direction 32",
         "marker": {
          "color": "#00cc96",
          "size": [
           0.9825,
           0.9799,
           0.9565,
           0.9145,
           0.8577,
           0.7913,
           0.7214,
           0.6547,
           0.5972,
           0.554,
           0.5294
          ],
          "sizemode": "area",
          "sizeref": 0.01,
          "symbol": "circle"
         },
         "mode": "markers",
         "name": "Direction 32",
         "orientation": "v",
         "showlegend": true,
         "type": "scatter",
         "x": [
          0,
          -0.6374239897486895,
          -1.274847979497379,
          -1.9122719692460686,
          -2.549695958994758,
          -3.1871199487434474,
          -3.824543938492137,
          -4.461967928240827,
          -5.099391917989516,
          -5.7368159077382055,
          -6.374239897486895
         ],
         "xaxis": "x",
         "y": [
          0,
          -0.7705132427757894,
          -1.5410264855515787,
          -2.311539728327368,
          -3.0820529711031575,
          -3.852566213878947,
          -4.623079456654736,
          -5.393592699430526,
          -6.164105942206315,
          -6.934619184982104,
          -7.705132427757894
         ],
         "yaxis": "y"
        },
        {
         "customdata": [
          [
           0,
           0.0003
          ],
          [
           1,
           0.0003
          ],
          [
           2,
           0.0003
          ],
          [
           3,
           0.0003
          ],
          [
           4,
           0.0003
          ],
          [
           5,
           0.0002
          ],
          [
           6,
           0.0002
          ],
          [
           7,
           0.0002
          ],
          [
           8,
           0.0002
          ],
          [
           9,
           0.0001
          ],
          [
           10,
           0.0001
          ]
         ],
         "hovertemplate": "direction=Direction 33<br>Direction 1=%{x}<br>Direction 2=%{y}<br>size=%{marker.size}<br>step=%{customdata[0]}<br>kl_div=%{customdata[1]}<extra></extra>",
         "legendgroup": "Direction 33",
         "marker": {
          "color": "#ab63fa",
          "size": [
           0.9825,
           0.9637,
           0.9206,
           0.8576,
           0.7808,
           0.6976,
           0.6163,
           0.5444,
           0.4892,
           0.456,
           0.4477
          ],
          "sizemode": "area",
          "sizeref": 0.01,
          "symbol": "circle"
         },
         "mode": "markers",
         "name": "Direction 33",
         "orientation": "v",
         "showlegend": true,
         "type": "scatter",
         "x": [
          0,
          -0.5358267949789963,
          -1.0716535899579926,
          -1.607480384936989,
          -2.1433071799159853,
          -2.679133974894982,
          -3.214960769873978,
          -3.750787564852974,
          -4.286614359831971,
          -4.822441154810967,
          -5.358267949789964
         ],
         "xaxis": "x",
         "y": [
          0,
          -0.8443279255020153,
          -1.6886558510040306,
          -2.532983776506046,
          -3.377311702008061,
          -4.2216396275100765,
          -5.065967553012092,
          -5.910295478514107,
          -6.754623404016122,
          -7.598951329518138,
          -8.443279255020153
         ],
         "yaxis": "y"
        },
        {
         "customdata": [
          [
           0,
           0.0003
          ],
          [
           1,
           0.0003
          ],
          [
           2,
           0.0003
          ],
          [
           3,
           0.0003
          ],
          [
           4,
           0.0003
          ],
          [
           5,
           0.0002
          ],
          [
           6,
           0.0002
          ],
          [
           7,
           0.0002
          ],
          [
           8,
           0.0002
          ],
          [
           9,
           0.0002
          ],
          [
           10,
           0.0002
          ]
         ],
         "hovertemplate": "direction=Direction 34<br>Direction 1=%{x}<br>Direction 2=%{y}<br>size=%{marker.size}<br>step=%{customdata[0]}<br>kl_div=%{customdata[1]}<extra></extra>",
         "legendgroup": "Direction 34",
         "marker": {
          "color": "#FFA15A",
          "size": [
           0.9825,
           0.9633,
           0.9231,
           0.8653,
           0.7953,
           0.7189,
           0.6435,
           0.5751,
           0.5201,
           0.4836,
           0.4684
          ],
          "sizemode": "area",
          "sizeref": 0.01,
          "symbol": "circle"
         },
         "mode": "markers",
         "name": "Direction 34",
         "orientation": "v",
         "showlegend": true,
         "type": "scatter",
         "x": [
          0,
          -0.42577929156507216,
          -0.8515585831301443,
          -1.2773378746952164,
          -1.7031171662602886,
          -2.128896457825361,
          -2.554675749390433,
          -2.9804550409555053,
          -3.4062343325205773,
          -3.8320136240856493,
          -4.257792915650722
         ],
         "xaxis": "x",
         "y": [
          0,
          -0.9048270524660198,
          -1.8096541049320396,
          -2.714481157398059,
          -3.619308209864079,
          -4.524135262330099,
          -5.428962314796118,
          -6.333789367262138,
          -7.238616419728158,
          -8.143443472194178,
          -9.048270524660198
         ],
         "yaxis": "y"
        },
        {
         "customdata": [
          [
           0,
           0.0003
          ],
          [
           1,
           0.0003
          ],
          [
           2,
           0.0003
          ],
          [
           3,
           0.0003
          ],
          [
           4,
           0.0003
          ],
          [
           5,
           0.0002
          ],
          [
           6,
           0.0002
          ],
          [
           7,
           0.0002
          ],
          [
           8,
           0.0002
          ],
          [
           9,
           0.0002
          ],
          [
           10,
           0.0002
          ]
         ],
         "hovertemplate": "direction=Direction 35<br>Direction 1=%{x}<br>Direction 2=%{y}<br>size=%{marker.size}<br>step=%{customdata[0]}<br>kl_div=%{customdata[1]}<extra></extra>",
         "legendgroup": "Direction 35",
         "marker": {
          "color": "#19d3f3",
          "size": [
           0.9825,
           0.9601,
           0.9179,
           0.8604,
           0.793,
           0.7223,
           0.6548,
           0.5973,
           0.5551,
           0.5325,
           0.5314
          ],
          "sizemode": "area",
          "sizeref": 0.01,
          "symbol": "circle"
         },
         "mode": "markers",
         "name": "Direction 35",
         "orientation": "v",
         "showlegend": true,
         "type": "scatter",
         "x": [
          0,
          -0.30901699437494756,
          -0.6180339887498951,
          -0.9270509831248427,
          -1.2360679774997902,
          -1.5450849718747377,
          -1.8541019662496854,
          -2.163118960624633,
          -2.4721359549995805,
          -2.781152949374528,
          -3.0901699437494754
         ],
         "xaxis": "x",
         "y": [
          0,
          -0.9510565162951535,
          -1.902113032590307,
          -2.8531695488854605,
          -3.804226065180614,
          -4.755282581475767,
          -5.706339097770921,
          -6.657395614066075,
          -7.608452130361228,
          -8.559508646656381,
          -9.510565162951535
         ],
         "yaxis": "y"
        },
        {
         "customdata": [
          [
           0,
           0.0003
          ],
          [
           1,
           0.0003
          ],
          [
           2,
           0.0003
          ],
          [
           3,
           0.0003
          ],
          [
           4,
           0.0003
          ],
          [
           5,
           0.0002
          ],
          [
           6,
           0.0002
          ],
          [
           7,
           0.0002
          ],
          [
           8,
           0.0002
          ],
          [
           9,
           0.0002
          ],
          [
           10,
           0.0002
          ]
         ],
         "hovertemplate": "direction=Direction 36<br>Direction 1=%{x}<br>Direction 2=%{y}<br>size=%{marker.size}<br>step=%{customdata[0]}<br>kl_div=%{customdata[1]}<extra></extra>",
         "legendgroup": "Direction 36",
         "marker": {
          "color": "#FF6692",
          "size": [
           0.9825,
           0.9804,
           0.9526,
           0.9021,
           0.8342,
           0.7556,
           0.6745,
           0.5987,
           0.5364,
           0.4936,
           0.4742
          ],
          "sizemode": "area",
          "sizeref": 0.01,
          "symbol": "circle"
         },
         "mode": "markers",
         "name": "Direction 36",
         "orientation": "v",
         "showlegend": true,
         "type": "scatter",
         "x": [
          0,
          -0.18738131458572463,
          -0.37476262917144926,
          -0.5621439437571739,
          -0.7495252583428985,
          -0.9369065729286231,
          -1.1242878875143478,
          -1.3116692021000724,
          -1.499050516685797,
          -1.6864318312715216,
          -1.8738131458572462
         ],
         "xaxis": "x",
         "y": [
          0,
          -0.9822872507286887,
          -1.9645745014573774,
          -2.946861752186066,
          -3.929149002914755,
          -4.911436253643443,
          -5.893723504372132,
          -6.876010755100821,
          -7.85829800582951,
          -8.840585256558198,
          -9.822872507286887
         ],
         "yaxis": "y"
        },
        {
         "customdata": [
          [
           0,
           0.0003
          ],
          [
           1,
           0.0003
          ],
          [
           2,
           0.0003
          ],
          [
           3,
           0.0003
          ],
          [
           4,
           0.0003
          ],
          [
           5,
           0.0002
          ],
          [
           6,
           0.0002
          ],
          [
           7,
           0.0002
          ],
          [
           8,
           0.0002
          ],
          [
           9,
           0.0002
          ],
          [
           10,
           0.0002
          ]
         ],
         "hovertemplate": "direction=Direction 37<br>Direction 1=%{x}<br>Direction 2=%{y}<br>size=%{marker.size}<br>step=%{customdata[0]}<br>kl_div=%{customdata[1]}<extra></extra>",
         "legendgroup": "Direction 37",
         "marker": {
          "color": "#B6E880",
          "size": [
           0.9825,
           0.9637,
           0.9271,
           0.8766,
           0.8161,
           0.7513,
           0.6877,
           0.6312,
           0.5864,
           0.5577,
           0.5474
          ],
          "sizemode": "area",
          "sizeref": 0.01,
          "symbol": "circle"
         },
         "mode": "markers",
         "name": "Direction 37",
         "orientation": "v",
         "showlegend": true,
         "type": "scatter",
         "x": [
          0,
          -0.06279051952931321,
          -0.12558103905862641,
          -0.18837155858793964,
          -0.25116207811725283,
          -0.313952597646566,
          -0.37674311717587927,
          -0.43953363670519247,
          -0.5023241562345057,
          -0.5651146757638189,
          -0.627905195293132
         ],
         "xaxis": "x",
         "y": [
          0,
          -0.9980267284282716,
          -1.9960534568565431,
          -2.9940801852848145,
          -3.9921069137130862,
          -4.990133642141358,
          -5.988160370569629,
          -6.986187098997901,
          -7.9842138274261725,
          -8.982240555854444,
          -9.980267284282716
         ],
         "yaxis": "y"
        },
        {
         "customdata": [
          [
           0,
           0.0003
          ],
          [
           1,
           0.0003
          ],
          [
           2,
           0.0003
          ],
          [
           3,
           0.0003
          ],
          [
           4,
           0.0003
          ],
          [
           5,
           0.0003
          ],
          [
           6,
           0.0002
          ],
          [
           7,
           0.0002
          ],
          [
           8,
           0.0002
          ],
          [
           9,
           0.0002
          ],
          [
           10,
           0.0002
          ]
         ],
         "hovertemplate": "direction=Direction 38<br>Direction 1=%{x}<br>Direction 2=%{y}<br>size=%{marker.size}<br>step=%{customdata[0]}<br>kl_div=%{customdata[1]}<extra></extra>",
         "legendgroup": "Direction 38",
         "marker": {
          "color": "#FF97FF",
          "size": [
           0.9825,
           0.9943,
           0.9785,
           0.9368,
           0.8737,
           0.7955,
           0.7109,
           0.6283,
           0.556,
           0.502,
           0.4713
          ],
          "sizemode": "area",
          "sizeref": 0.01,
          "symbol": "circle"
         },
         "mode": "markers",
         "name": "Direction 38",
         "orientation": "v",
         "showlegend": true,
         "type": "scatter",
         "x": [
          0,
          0.06279051952931283,
          0.12558103905862567,
          0.1883715585879385,
          0.25116207811725133,
          0.31395259764656414,
          0.376743117175877,
          0.43953363670518986,
          0.5023241562345027,
          0.5651146757638155,
          0.6279051952931283
         ],
         "xaxis": "x",
         "y": [
          0,
          -0.9980267284282716,
          -1.9960534568565431,
          -2.9940801852848145,
          -3.9921069137130862,
          -4.990133642141358,
          -5.988160370569629,
          -6.986187098997901,
          -7.9842138274261725,
          -8.982240555854444,
          -9.980267284282716
         ],
         "yaxis": "y"
        },
        {
         "customdata": [
          [
           0,
           0.0003
          ],
          [
           1,
           0.0003
          ],
          [
           2,
           0.0003
          ],
          [
           3,
           0.0003
          ],
          [
           4,
           0.0003
          ],
          [
           5,
           0.0002
          ],
          [
           6,
           0.0002
          ],
          [
           7,
           0.0002
          ],
          [
           8,
           0.0002
          ],
          [
           9,
           0.0002
          ],
          [
           10,
           0.0002
          ]
         ],
         "hovertemplate": "direction=Direction 39<br>Direction 1=%{x}<br>Direction 2=%{y}<br>size=%{marker.size}<br>step=%{customdata[0]}<br>kl_div=%{customdata[1]}<extra></extra>",
         "legendgroup": "Direction 39",
         "marker": {
          "color": "#FECB52",
          "size": [
           0.9825,
           0.9746,
           0.9444,
           0.8951,
           0.8318,
           0.7604,
           0.688,
           0.6217,
           0.5678,
           0.5319,
           0.517
          ],
          "sizemode": "area",
          "sizeref": 0.01,
          "symbol": "circle"
         },
         "mode": "markers",
         "name": "Direction 39",
         "orientation": "v",
         "showlegend": true,
         "type": "scatter",
         "x": [
          0,
          0.18738131458572427,
          0.37476262917144854,
          0.5621439437571728,
          0.7495252583428971,
          0.9369065729286213,
          1.1242878875143456,
          1.3116692021000698,
          1.4990505166857941,
          1.6864318312715185,
          1.8738131458572427
         ],
         "xaxis": "x",
         "y": [
          0,
          -0.9822872507286887,
          -1.9645745014573774,
          -2.946861752186066,
          -3.929149002914755,
          -4.911436253643443,
          -5.893723504372132,
          -6.876010755100821,
          -7.85829800582951,
          -8.840585256558198,
          -9.822872507286887
         ],
         "yaxis": "y"
        },
        {
         "customdata": [
          [
           0,
           0.0003
          ],
          [
           1,
           0.0003
          ],
          [
           2,
           0.0003
          ],
          [
           3,
           0.0003
          ],
          [
           4,
           0.0003
          ],
          [
           5,
           0.0003
          ],
          [
           6,
           0.0002
          ],
          [
           7,
           0.0002
          ],
          [
           8,
           0.0002
          ],
          [
           9,
           0.0002
          ],
          [
           10,
           0.0002
          ]
         ],
         "hovertemplate": "direction=Direction 40<br>Direction 1=%{x}<br>Direction 2=%{y}<br>size=%{marker.size}<br>step=%{customdata[0]}<br>kl_div=%{customdata[1]}<extra></extra>",
         "legendgroup": "Direction 40",
         "marker": {
          "color": "#636efa",
          "size": [
           0.9825,
           1,
           0.9935,
           0.9629,
           0.9122,
           0.8455,
           0.7699,
           0.6928,
           0.6216,
           0.5629,
           0.5228
          ],
          "sizemode": "area",
          "sizeref": 0.01,
          "symbol": "circle"
         },
         "mode": "markers",
         "name": "Direction 40",
         "orientation": "v",
         "showlegend": true,
         "type": "scatter",
         "x": [
          0,
          0.30901699437494723,
          0.6180339887498945,
          0.9270509831248417,
          1.236067977499789,
          1.5450849718747361,
          1.8541019662496834,
          2.1631189606246304,
          2.472135954999578,
          2.7811529493745253,
          3.0901699437494723
         ],
         "xaxis": "x",
         "y": [
          0,
          -0.9510565162951536,
          -1.9021130325903073,
          -2.853169548885461,
          -3.8042260651806146,
          -4.755282581475768,
          -5.706339097770922,
          -6.6573956140660755,
          -7.608452130361229,
          -8.559508646656383,
          -9.510565162951536
         ],
         "yaxis": "y"
        },
        {
         "customdata": [
          [
           0,
           0.0003
          ],
          [
           1,
           0.0003
          ],
          [
           2,
           0.0003
          ],
          [
           3,
           0.0003
          ],
          [
           4,
           0.0003
          ],
          [
           5,
           0.0002
          ],
          [
           6,
           0.0002
          ],
          [
           7,
           0.0002
          ],
          [
           8,
           0.0002
          ],
          [
           9,
           0.0002
          ],
          [
           10,
           0.0002
          ]
         ],
         "hovertemplate": "direction=Direction 41<br>Direction 1=%{x}<br>Direction 2=%{y}<br>size=%{marker.size}<br>step=%{customdata[0]}<br>kl_div=%{customdata[1]}<extra></extra>",
         "legendgroup": "Direction 41",
         "marker": {
          "color": "#EF553B",
          "size": [
           0.9825,
           0.9706,
           0.9346,
           0.8787,
           0.8078,
           0.7299,
           0.6521,
           0.5826,
           0.5283,
           0.4945,
           0.4847
          ],
          "sizemode": "area",
          "sizeref": 0.01,
          "symbol": "circle"
         },
         "mode": "markers",
         "name": "Direction 41",
         "orientation": "v",
         "showlegend": true,
         "type": "scatter",
         "x": [
          0,
          0.4257792915650718,
          0.8515585831301437,
          1.2773378746952155,
          1.7031171662602873,
          2.128896457825359,
          2.554675749390431,
          2.9804550409555026,
          3.4062343325205746,
          3.8320136240856466,
          4.257792915650718
         ],
         "xaxis": "x",
         "y": [
          0,
          -0.9048270524660199,
          -1.8096541049320398,
          -2.7144811573980596,
          -3.6193082098640796,
          -4.524135262330099,
          -5.428962314796119,
          -6.333789367262139,
          -7.238616419728159,
          -8.143443472194178,
          -9.048270524660198
         ],
         "yaxis": "y"
        },
        {
         "customdata": [
          [
           0,
           0.0003
          ],
          [
           1,
           0.0003
          ],
          [
           2,
           0.0003
          ],
          [
           3,
           0.0003
          ],
          [
           4,
           0.0003
          ],
          [
           5,
           0.0002
          ],
          [
           6,
           0.0002
          ],
          [
           7,
           0.0002
          ],
          [
           8,
           0.0002
          ],
          [
           9,
           0.0002
          ],
          [
           10,
           0.0002
          ]
         ],
         "hovertemplate": "direction=Direction 42<br>Direction 1=%{x}<br>Direction 2=%{y}<br>size=%{marker.size}<br>step=%{customdata[0]}<br>kl_div=%{customdata[1]}<extra></extra>",
         "legendgroup": "Direction 42",
         "marker": {
          "color": "#00cc96",
          "size": [
           0.9825,
           0.9665,
           0.9285,
           0.8721,
           0.8027,
           0.7269,
           0.6519,
           0.585,
           0.5324,
           0.499,
           0.4882
          ],
          "sizemode": "area",
          "sizeref": 0.01,
          "symbol": "circle"
         },
         "mode": "markers",
         "name": "Direction 42",
         "orientation": "v",
         "showlegend": true,
         "type": "scatter",
         "x": [
          0,
          0.5358267949789968,
          1.0716535899579935,
          1.6074803849369903,
          2.143307179915987,
          2.6791339748949836,
          3.2149607698739806,
          3.7507875648529776,
          4.286614359831974,
          4.822441154810971,
          5.358267949789967
         ],
         "xaxis": "x",
         "y": [
          0,
          -0.844327925502015,
          -1.68865585100403,
          -2.532983776506045,
          -3.37731170200806,
          -4.221639627510075,
          -5.06596755301209,
          -5.910295478514104,
          -6.75462340401612,
          -7.598951329518135,
          -8.44327925502015
         ],
         "yaxis": "y"
        },
        {
         "customdata": [
          [
           0,
           0.0003
          ],
          [
           1,
           0.0003
          ],
          [
           2,
           0.0003
          ],
          [
           3,
           0.0003
          ],
          [
           4,
           0.0003
          ],
          [
           5,
           0.0002
          ],
          [
           6,
           0.0002
          ],
          [
           7,
           0.0002
          ],
          [
           8,
           0.0002
          ],
          [
           9,
           0.0002
          ],
          [
           10,
           0.0002
          ]
         ],
         "hovertemplate": "direction=Direction 43<br>Direction 1=%{x}<br>Direction 2=%{y}<br>size=%{marker.size}<br>step=%{customdata[0]}<br>kl_div=%{customdata[1]}<extra></extra>",
         "legendgroup": "Direction 43",
         "marker": {
          "color": "#ab63fa",
          "size": [
           0.9825,
           0.9631,
           0.9275,
           0.8791,
           0.8221,
           0.7612,
           0.7019,
           0.649,
           0.6074,
           0.5805,
           0.5704
          ],
          "sizemode": "area",
          "sizeref": 0.01,
          "symbol": "circle"
         },
         "mode": "markers",
         "name": "Direction 43",
         "orientation": "v",
         "showlegend": true,
         "type": "scatter",
         "x": [
          0,
          0.6374239897486893,
          1.2748479794973786,
          1.912271969246068,
          2.549695958994757,
          3.1871199487434465,
          3.824543938492136,
          4.461967928240825,
          5.099391917989514,
          5.736815907738204,
          6.374239897486893
         ],
         "xaxis": "x",
         "y": [
          0,
          -0.7705132427757896,
          -1.5410264855515792,
          -2.311539728327369,
          -3.0820529711031583,
          -3.852566213878948,
          -4.623079456654738,
          -5.393592699430527,
          -6.164105942206317,
          -6.934619184982107,
          -7.705132427757896
         ],
         "yaxis": "y"
        },
        {
         "customdata": [
          [
           0,
           0.0003
          ],
          [
           1,
           0.0003
          ],
          [
           2,
           0.0003
          ],
          [
           3,
           0.0003
          ],
          [
           4,
           0.0003
          ],
          [
           5,
           0.0002
          ],
          [
           6,
           0.0002
          ],
          [
           7,
           0.0002
          ],
          [
           8,
           0.0002
          ],
          [
           9,
           0.0002
          ],
          [
           10,
           0.0001
          ]
         ],
         "hovertemplate": "direction=Direction 44<br>Direction 1=%{x}<br>Direction 2=%{y}<br>size=%{marker.size}<br>step=%{customdata[0]}<br>kl_div=%{customdata[1]}<extra></extra>",
         "legendgroup": "Direction 44",
         "marker": {
          "color": "#FFA15A",
          "size": [
           0.9825,
           0.9711,
           0.9357,
           0.8793,
           0.8076,
           0.7276,
           0.6468,
           0.573,
           0.5131,
           0.4731,
           0.4564
          ],
          "sizemode": "area",
          "sizeref": 0.01,
          "symbol": "circle"
         },
         "mode": "markers",
         "name": "Direction 44",
         "orientation": "v",
         "showlegend": true,
         "type": "scatter",
         "x": [
          0,
          0.7289686274214112,
          1.4579372548428224,
          2.1869058822642335,
          2.915874509685645,
          3.644843137107056,
          4.373811764528467,
          5.102780391949879,
          5.83174901937129,
          6.560717646792701,
          7.289686274214112
         ],
         "xaxis": "x",
         "y": [
          0,
          -0.684547105928689,
          -1.369094211857378,
          -2.0536413177860666,
          -2.738188423714756,
          -3.422735529643445,
          -4.107282635572133,
          -4.791829741500822,
          -5.476376847429512,
          -6.160923953358201,
          -6.84547105928689
         ],
         "yaxis": "y"
        },
        {
         "customdata": [
          [
           0,
           0.0003
          ],
          [
           1,
           0.0003
          ],
          [
           2,
           0.0003
          ],
          [
           3,
           0.0003
          ],
          [
           4,
           0.0002
          ],
          [
           5,
           0.0002
          ],
          [
           6,
           0.0002
          ],
          [
           7,
           0.0002
          ],
          [
           8,
           0.0002
          ],
          [
           9,
           0.0002
          ],
          [
           10,
           0.0002
          ]
         ],
         "hovertemplate": "direction=Direction 45<br>Direction 1=%{x}<br>Direction 2=%{y}<br>size=%{marker.size}<br>step=%{customdata[0]}<br>kl_div=%{customdata[1]}<extra></extra>",
         "legendgroup": "Direction 45",
         "marker": {
          "color": "#19d3f3",
          "size": [
           0.9825,
           0.9532,
           0.9019,
           0.8339,
           0.7561,
           0.6766,
           0.6031,
           0.5433,
           0.503,
           0.4868,
           0.4956
          ],
          "sizemode": "area",
          "sizeref": 0.01,
          "symbol": "circle"
         },
         "mode": "markers",
         "name": "Direction 45",
         "orientation": "v",
         "showlegend": true,
         "type": "scatter",
         "x": [
          0,
          0.8090169943749473,
          1.6180339887498947,
          2.427050983124842,
          3.2360679774997894,
          4.045084971874736,
          4.854101966249684,
          5.663118960624631,
          6.472135954999579,
          7.281152949374526,
          8.090169943749473
         ],
         "xaxis": "x",
         "y": [
          0,
          -0.5877852522924734,
          -1.1755705045849467,
          -1.76335575687742,
          -2.3511410091698934,
          -2.938926261462367,
          -3.52671151375484,
          -4.1144967660473135,
          -4.702282018339787,
          -5.29006727063226,
          -5.877852522924734
         ],
         "yaxis": "y"
        },
        {
         "customdata": [
          [
           0,
           0.0003
          ],
          [
           1,
           0.0003
          ],
          [
           2,
           0.0003
          ],
          [
           3,
           0.0003
          ],
          [
           4,
           0.0003
          ],
          [
           5,
           0.0002
          ],
          [
           6,
           0.0002
          ],
          [
           7,
           0.0002
          ],
          [
           8,
           0.0002
          ],
          [
           9,
           0.0002
          ],
          [
           10,
           0.0002
          ]
         ],
         "hovertemplate": "direction=Direction 46<br>Direction 1=%{x}<br>Direction 2=%{y}<br>size=%{marker.size}<br>step=%{customdata[0]}<br>kl_div=%{customdata[1]}<extra></extra>",
         "legendgroup": "Direction 46",
         "marker": {
          "color": "#FF6692",
          "size": [
           0.9825,
           0.9694,
           0.9341,
           0.8802,
           0.8128,
           0.7384,
           0.6643,
           0.5979,
           0.5454,
           0.5121,
           0.5011
          ],
          "sizemode": "area",
          "sizeref": 0.01,
          "symbol": "circle"
         },
         "mode": "markers",
         "name": "Direction 46",
         "orientation": "v",
         "showlegend": true,
         "type": "scatter",
         "x": [
          0,
          0.8763066800438631,
          1.7526133600877263,
          2.6289200401315895,
          3.5052267201754526,
          4.381533400219316,
          5.257840080263179,
          6.134146760307042,
          7.010453440350905,
          7.886760120394769,
          8.763066800438631
         ],
         "xaxis": "x",
         "y": [
          0,
          -0.4817536741017161,
          -0.9635073482034322,
          -1.4452610223051483,
          -1.9270146964068644,
          -2.4087683705085805,
          -2.8905220446102966,
          -3.3722757187120127,
          -3.854029392813729,
          -4.335783066915445,
          -4.817536741017161
         ],
         "yaxis": "y"
        },
        {
         "customdata": [
          [
           0,
           0.0003
          ],
          [
           1,
           0.0003
          ],
          [
           2,
           0.0003
          ],
          [
           3,
           0.0003
          ],
          [
           4,
           0.0003
          ],
          [
           5,
           0.0002
          ],
          [
           6,
           0.0002
          ],
          [
           7,
           0.0002
          ],
          [
           8,
           0.0002
          ],
          [
           9,
           0.0002
          ],
          [
           10,
           0.0002
          ]
         ],
         "hovertemplate": "direction=Direction 47<br>Direction 1=%{x}<br>Direction 2=%{y}<br>size=%{marker.size}<br>step=%{customdata[0]}<br>kl_div=%{customdata[1]}<extra></extra>",
         "legendgroup": "Direction 47",
         "marker": {
          "color": "#B6E880",
          "size": [
           0.9825,
           0.9736,
           0.944,
           0.8958,
           0.8343,
           0.7649,
           0.6942,
           0.6295,
           0.5763,
           0.5401,
           0.5243
          ],
          "sizemode": "area",
          "sizeref": 0.01,
          "symbol": "circle"
         },
         "mode": "markers",
         "name": "Direction 47",
         "orientation": "v",
         "showlegend": true,
         "type": "scatter",
         "x": [
          0,
          0.9297764858882515,
          1.859552971776503,
          2.7893294576647545,
          3.719105943553006,
          4.648882429441257,
          5.578658915329509,
          6.50843540121776,
          7.438211887106012,
          8.367988372994263,
          9.297764858882514
         ],
         "xaxis": "x",
         "y": [
          0,
          -0.36812455268467786,
          -0.7362491053693557,
          -1.1043736580540335,
          -1.4724982107387115,
          -1.8406227634233894,
          -2.208747316108067,
          -2.576871868792745,
          -2.944996421477423,
          -3.313120974162101,
          -3.6812455268467787
         ],
         "yaxis": "y"
        },
        {
         "customdata": [
          [
           0,
           0.0003
          ],
          [
           1,
           0.0003
          ],
          [
           2,
           0.0003
          ],
          [
           3,
           0.0003
          ],
          [
           4,
           0.0003
          ],
          [
           5,
           0.0002
          ],
          [
           6,
           0.0002
          ],
          [
           7,
           0.0002
          ],
          [
           8,
           0.0002
          ],
          [
           9,
           0.0002
          ],
          [
           10,
           0.0002
          ]
         ],
         "hovertemplate": "direction=Direction 48<br>Direction 1=%{x}<br>Direction 2=%{y}<br>size=%{marker.size}<br>step=%{customdata[0]}<br>kl_div=%{customdata[1]}<extra></extra>",
         "legendgroup": "Direction 48",
         "marker": {
          "color": "#FF97FF",
          "size": [
           0.9825,
           0.9665,
           0.927,
           0.8673,
           0.7939,
           0.7133,
           0.6337,
           0.5629,
           0.5076,
           0.4731,
           0.4626
          ],
          "sizemode": "area",
          "sizeref": 0.01,
          "symbol": "circle"
         },
         "mode": "markers",
         "name": "Direction 48",
         "orientation": "v",
         "showlegend": true,
         "type": "scatter",
         "x": [
          0,
          0.968583161128631,
          1.937166322257262,
          2.905749483385893,
          3.874332644514524,
          4.8429158056431545,
          5.811498966771786,
          6.780082127900417,
          7.748665289029048,
          8.717248450157678,
          9.685831611286309
         ],
         "xaxis": "x",
         "y": [
          0,
          -0.24868988716485535,
          -0.4973797743297107,
          -0.7460696614945661,
          -0.9947595486594214,
          -1.2434494358242767,
          -1.4921393229891322,
          -1.7408292101539875,
          -1.9895190973188428,
          -2.2382089844836983,
          -2.4868988716485534
         ],
         "yaxis": "y"
        },
        {
         "customdata": [
          [
           0,
           0.0003
          ],
          [
           1,
           0.0003
          ],
          [
           2,
           0.0003
          ],
          [
           3,
           0.0003
          ],
          [
           4,
           0.0003
          ],
          [
           5,
           0.0002
          ],
          [
           6,
           0.0002
          ],
          [
           7,
           0.0002
          ],
          [
           8,
           0.0002
          ],
          [
           9,
           0.0002
          ],
          [
           10,
           0.0002
          ]
         ],
         "hovertemplate": "direction=Direction 49<br>Direction 1=%{x}<br>Direction 2=%{y}<br>size=%{marker.size}<br>step=%{customdata[0]}<br>kl_div=%{customdata[1]}<extra></extra>",
         "legendgroup": "Direction 49",
         "marker": {
          "color": "#FECB52",
          "size": [
           0.9825,
           0.967,
           0.9294,
           0.8733,
           0.8046,
           0.7296,
           0.6562,
           0.5914,
           0.5418,
           0.5119,
           0.5051
          ],
          "sizemode": "area",
          "sizeref": 0.01,
          "symbol": "circle"
         },
         "mode": "markers",
         "name": "Direction 49",
         "orientation": "v",
         "showlegend": true,
         "type": "scatter",
         "x": [
          0,
          0.9921147013144778,
          1.9842294026289555,
          2.9763441039434335,
          3.968458805257911,
          4.960573506572389,
          5.952688207886867,
          6.944802909201345,
          7.936917610515822,
          8.9290323118303,
          9.921147013144777
         ],
         "xaxis": "x",
         "y": [
          0,
          -0.12533323356430465,
          -0.2506664671286093,
          -0.37599970069291394,
          -0.5013329342572186,
          -0.6266661678215233,
          -0.7519994013858279,
          -0.8773326349501325,
          -1.0026658685144372,
          -1.1279991020787419,
          -1.2533323356430466
         ],
         "yaxis": "y"
        }
       ],
       "layout": {
        "height": 800,
        "hovermode": "closest",
        "legend": {
         "itemsizing": "constant",
         "title": {
          "text": "Directions"
         },
         "tracegroupgap": 0
        },
        "showlegend": true,
        "template": {
         "data": {
          "bar": [
           {
            "error_x": {
             "color": "#2a3f5f"
            },
            "error_y": {
             "color": "#2a3f5f"
            },
            "marker": {
             "line": {
              "color": "#E5ECF6",
              "width": 0.5
             },
             "pattern": {
              "fillmode": "overlay",
              "size": 10,
              "solidity": 0.2
             }
            },
            "type": "bar"
           }
          ],
          "barpolar": [
           {
            "marker": {
             "line": {
              "color": "#E5ECF6",
              "width": 0.5
             },
             "pattern": {
              "fillmode": "overlay",
              "size": 10,
              "solidity": 0.2
             }
            },
            "type": "barpolar"
           }
          ],
          "carpet": [
           {
            "aaxis": {
             "endlinecolor": "#2a3f5f",
             "gridcolor": "white",
             "linecolor": "white",
             "minorgridcolor": "white",
             "startlinecolor": "#2a3f5f"
            },
            "baxis": {
             "endlinecolor": "#2a3f5f",
             "gridcolor": "white",
             "linecolor": "white",
             "minorgridcolor": "white",
             "startlinecolor": "#2a3f5f"
            },
            "type": "carpet"
           }
          ],
          "choropleth": [
           {
            "colorbar": {
             "outlinewidth": 0,
             "ticks": ""
            },
            "type": "choropleth"
           }
          ],
          "contour": [
           {
            "colorbar": {
             "outlinewidth": 0,
             "ticks": ""
            },
            "colorscale": [
             [
              0,
              "#0d0887"
             ],
             [
              0.1111111111111111,
              "#46039f"
             ],
             [
              0.2222222222222222,
              "#7201a8"
             ],
             [
              0.3333333333333333,
              "#9c179e"
             ],
             [
              0.4444444444444444,
              "#bd3786"
             ],
             [
              0.5555555555555556,
              "#d8576b"
             ],
             [
              0.6666666666666666,
              "#ed7953"
             ],
             [
              0.7777777777777778,
              "#fb9f3a"
             ],
             [
              0.8888888888888888,
              "#fdca26"
             ],
             [
              1,
              "#f0f921"
             ]
            ],
            "type": "contour"
           }
          ],
          "contourcarpet": [
           {
            "colorbar": {
             "outlinewidth": 0,
             "ticks": ""
            },
            "type": "contourcarpet"
           }
          ],
          "heatmap": [
           {
            "colorbar": {
             "outlinewidth": 0,
             "ticks": ""
            },
            "colorscale": [
             [
              0,
              "#0d0887"
             ],
             [
              0.1111111111111111,
              "#46039f"
             ],
             [
              0.2222222222222222,
              "#7201a8"
             ],
             [
              0.3333333333333333,
              "#9c179e"
             ],
             [
              0.4444444444444444,
              "#bd3786"
             ],
             [
              0.5555555555555556,
              "#d8576b"
             ],
             [
              0.6666666666666666,
              "#ed7953"
             ],
             [
              0.7777777777777778,
              "#fb9f3a"
             ],
             [
              0.8888888888888888,
              "#fdca26"
             ],
             [
              1,
              "#f0f921"
             ]
            ],
            "type": "heatmap"
           }
          ],
          "heatmapgl": [
           {
            "colorbar": {
             "outlinewidth": 0,
             "ticks": ""
            },
            "colorscale": [
             [
              0,
              "#0d0887"
             ],
             [
              0.1111111111111111,
              "#46039f"
             ],
             [
              0.2222222222222222,
              "#7201a8"
             ],
             [
              0.3333333333333333,
              "#9c179e"
             ],
             [
              0.4444444444444444,
              "#bd3786"
             ],
             [
              0.5555555555555556,
              "#d8576b"
             ],
             [
              0.6666666666666666,
              "#ed7953"
             ],
             [
              0.7777777777777778,
              "#fb9f3a"
             ],
             [
              0.8888888888888888,
              "#fdca26"
             ],
             [
              1,
              "#f0f921"
             ]
            ],
            "type": "heatmapgl"
           }
          ],
          "histogram": [
           {
            "marker": {
             "pattern": {
              "fillmode": "overlay",
              "size": 10,
              "solidity": 0.2
             }
            },
            "type": "histogram"
           }
          ],
          "histogram2d": [
           {
            "colorbar": {
             "outlinewidth": 0,
             "ticks": ""
            },
            "colorscale": [
             [
              0,
              "#0d0887"
             ],
             [
              0.1111111111111111,
              "#46039f"
             ],
             [
              0.2222222222222222,
              "#7201a8"
             ],
             [
              0.3333333333333333,
              "#9c179e"
             ],
             [
              0.4444444444444444,
              "#bd3786"
             ],
             [
              0.5555555555555556,
              "#d8576b"
             ],
             [
              0.6666666666666666,
              "#ed7953"
             ],
             [
              0.7777777777777778,
              "#fb9f3a"
             ],
             [
              0.8888888888888888,
              "#fdca26"
             ],
             [
              1,
              "#f0f921"
             ]
            ],
            "type": "histogram2d"
           }
          ],
          "histogram2dcontour": [
           {
            "colorbar": {
             "outlinewidth": 0,
             "ticks": ""
            },
            "colorscale": [
             [
              0,
              "#0d0887"
             ],
             [
              0.1111111111111111,
              "#46039f"
             ],
             [
              0.2222222222222222,
              "#7201a8"
             ],
             [
              0.3333333333333333,
              "#9c179e"
             ],
             [
              0.4444444444444444,
              "#bd3786"
             ],
             [
              0.5555555555555556,
              "#d8576b"
             ],
             [
              0.6666666666666666,
              "#ed7953"
             ],
             [
              0.7777777777777778,
              "#fb9f3a"
             ],
             [
              0.8888888888888888,
              "#fdca26"
             ],
             [
              1,
              "#f0f921"
             ]
            ],
            "type": "histogram2dcontour"
           }
          ],
          "mesh3d": [
           {
            "colorbar": {
             "outlinewidth": 0,
             "ticks": ""
            },
            "type": "mesh3d"
           }
          ],
          "parcoords": [
           {
            "line": {
             "colorbar": {
              "outlinewidth": 0,
              "ticks": ""
             }
            },
            "type": "parcoords"
           }
          ],
          "pie": [
           {
            "automargin": true,
            "type": "pie"
           }
          ],
          "scatter": [
           {
            "fillpattern": {
             "fillmode": "overlay",
             "size": 10,
             "solidity": 0.2
            },
            "type": "scatter"
           }
          ],
          "scatter3d": [
           {
            "line": {
             "colorbar": {
              "outlinewidth": 0,
              "ticks": ""
             }
            },
            "marker": {
             "colorbar": {
              "outlinewidth": 0,
              "ticks": ""
             }
            },
            "type": "scatter3d"
           }
          ],
          "scattercarpet": [
           {
            "marker": {
             "colorbar": {
              "outlinewidth": 0,
              "ticks": ""
             }
            },
            "type": "scattercarpet"
           }
          ],
          "scattergeo": [
           {
            "marker": {
             "colorbar": {
              "outlinewidth": 0,
              "ticks": ""
             }
            },
            "type": "scattergeo"
           }
          ],
          "scattergl": [
           {
            "marker": {
             "colorbar": {
              "outlinewidth": 0,
              "ticks": ""
             }
            },
            "type": "scattergl"
           }
          ],
          "scattermapbox": [
           {
            "marker": {
             "colorbar": {
              "outlinewidth": 0,
              "ticks": ""
             }
            },
            "type": "scattermapbox"
           }
          ],
          "scatterpolar": [
           {
            "marker": {
             "colorbar": {
              "outlinewidth": 0,
              "ticks": ""
             }
            },
            "type": "scatterpolar"
           }
          ],
          "scatterpolargl": [
           {
            "marker": {
             "colorbar": {
              "outlinewidth": 0,
              "ticks": ""
             }
            },
            "type": "scatterpolargl"
           }
          ],
          "scatterternary": [
           {
            "marker": {
             "colorbar": {
              "outlinewidth": 0,
              "ticks": ""
             }
            },
            "type": "scatterternary"
           }
          ],
          "surface": [
           {
            "colorbar": {
             "outlinewidth": 0,
             "ticks": ""
            },
            "colorscale": [
             [
              0,
              "#0d0887"
             ],
             [
              0.1111111111111111,
              "#46039f"
             ],
             [
              0.2222222222222222,
              "#7201a8"
             ],
             [
              0.3333333333333333,
              "#9c179e"
             ],
             [
              0.4444444444444444,
              "#bd3786"
             ],
             [
              0.5555555555555556,
              "#d8576b"
             ],
             [
              0.6666666666666666,
              "#ed7953"
             ],
             [
              0.7777777777777778,
              "#fb9f3a"
             ],
             [
              0.8888888888888888,
              "#fdca26"
             ],
             [
              1,
              "#f0f921"
             ]
            ],
            "type": "surface"
           }
          ],
          "table": [
           {
            "cells": {
             "fill": {
              "color": "#EBF0F8"
             },
             "line": {
              "color": "white"
             }
            },
            "header": {
             "fill": {
              "color": "#C8D4E3"
             },
             "line": {
              "color": "white"
             }
            },
            "type": "table"
           }
          ]
         },
         "layout": {
          "annotationdefaults": {
           "arrowcolor": "#2a3f5f",
           "arrowhead": 0,
           "arrowwidth": 1
          },
          "autotypenumbers": "strict",
          "coloraxis": {
           "colorbar": {
            "outlinewidth": 0,
            "ticks": ""
           }
          },
          "colorscale": {
           "diverging": [
            [
             0,
             "#8e0152"
            ],
            [
             0.1,
             "#c51b7d"
            ],
            [
             0.2,
             "#de77ae"
            ],
            [
             0.3,
             "#f1b6da"
            ],
            [
             0.4,
             "#fde0ef"
            ],
            [
             0.5,
             "#f7f7f7"
            ],
            [
             0.6,
             "#e6f5d0"
            ],
            [
             0.7,
             "#b8e186"
            ],
            [
             0.8,
             "#7fbc41"
            ],
            [
             0.9,
             "#4d9221"
            ],
            [
             1,
             "#276419"
            ]
           ],
           "sequential": [
            [
             0,
             "#0d0887"
            ],
            [
             0.1111111111111111,
             "#46039f"
            ],
            [
             0.2222222222222222,
             "#7201a8"
            ],
            [
             0.3333333333333333,
             "#9c179e"
            ],
            [
             0.4444444444444444,
             "#bd3786"
            ],
            [
             0.5555555555555556,
             "#d8576b"
            ],
            [
             0.6666666666666666,
             "#ed7953"
            ],
            [
             0.7777777777777778,
             "#fb9f3a"
            ],
            [
             0.8888888888888888,
             "#fdca26"
            ],
            [
             1,
             "#f0f921"
            ]
           ],
           "sequentialminus": [
            [
             0,
             "#0d0887"
            ],
            [
             0.1111111111111111,
             "#46039f"
            ],
            [
             0.2222222222222222,
             "#7201a8"
            ],
            [
             0.3333333333333333,
             "#9c179e"
            ],
            [
             0.4444444444444444,
             "#bd3786"
            ],
            [
             0.5555555555555556,
             "#d8576b"
            ],
            [
             0.6666666666666666,
             "#ed7953"
            ],
            [
             0.7777777777777778,
             "#fb9f3a"
            ],
            [
             0.8888888888888888,
             "#fdca26"
            ],
            [
             1,
             "#f0f921"
            ]
           ]
          },
          "colorway": [
           "#636efa",
           "#EF553B",
           "#00cc96",
           "#ab63fa",
           "#FFA15A",
           "#19d3f3",
           "#FF6692",
           "#B6E880",
           "#FF97FF",
           "#FECB52"
          ],
          "font": {
           "color": "#2a3f5f"
          },
          "geo": {
           "bgcolor": "white",
           "lakecolor": "white",
           "landcolor": "#E5ECF6",
           "showlakes": true,
           "showland": true,
           "subunitcolor": "white"
          },
          "hoverlabel": {
           "align": "left"
          },
          "hovermode": "closest",
          "mapbox": {
           "style": "light"
          },
          "paper_bgcolor": "white",
          "plot_bgcolor": "#E5ECF6",
          "polar": {
           "angularaxis": {
            "gridcolor": "white",
            "linecolor": "white",
            "ticks": ""
           },
           "bgcolor": "#E5ECF6",
           "radialaxis": {
            "gridcolor": "white",
            "linecolor": "white",
            "ticks": ""
           }
          },
          "scene": {
           "xaxis": {
            "backgroundcolor": "#E5ECF6",
            "gridcolor": "white",
            "gridwidth": 2,
            "linecolor": "white",
            "showbackground": true,
            "ticks": "",
            "zerolinecolor": "white"
           },
           "yaxis": {
            "backgroundcolor": "#E5ECF6",
            "gridcolor": "white",
            "gridwidth": 2,
            "linecolor": "white",
            "showbackground": true,
            "ticks": "",
            "zerolinecolor": "white"
           },
           "zaxis": {
            "backgroundcolor": "#E5ECF6",
            "gridcolor": "white",
            "gridwidth": 2,
            "linecolor": "white",
            "showbackground": true,
            "ticks": "",
            "zerolinecolor": "white"
           }
          },
          "shapedefaults": {
           "line": {
            "color": "#2a3f5f"
           }
          },
          "ternary": {
           "aaxis": {
            "gridcolor": "white",
            "linecolor": "white",
            "ticks": ""
           },
           "baxis": {
            "gridcolor": "white",
            "linecolor": "white",
            "ticks": ""
           },
           "bgcolor": "#E5ECF6",
           "caxis": {
            "gridcolor": "white",
            "linecolor": "white",
            "ticks": ""
           }
          },
          "title": {
           "x": 0.05
          },
          "xaxis": {
           "automargin": true,
           "gridcolor": "white",
           "linecolor": "white",
           "ticks": "",
           "title": {
            "standoff": 15
           },
           "zerolinecolor": "white",
           "zerolinewidth": 2
          },
          "yaxis": {
           "automargin": true,
           "gridcolor": "white",
           "linecolor": "white",
           "ticks": "",
           "title": {
            "standoff": 15
           },
           "zerolinecolor": "white",
           "zerolinewidth": 2
          }
         }
        },
        "title": {
         "text": "KL Divergence Trajectories - SAE 11, Feature 0"
        },
        "width": 800,
        "xaxis": {
         "anchor": "y",
         "domain": [
          0,
          1
         ],
         "range": [
          -11,
          11
         ],
         "showgrid": false,
         "showticklabels": false,
         "title": {
          "text": "Direction 1"
         },
         "zeroline": false
        },
        "yaxis": {
         "anchor": "x",
         "domain": [
          0,
          1
         ],
         "range": [
          -11,
          11
         ],
         "scaleanchor": "x",
         "scaleratio": 1,
         "showgrid": false,
         "showticklabels": false,
         "title": {
          "text": "Direction 2"
         },
         "zeroline": false
        }
       }
      },
      "text/html": [
       "<div>                            <div id=\"0bf86961-c43b-4667-b12a-ad19d7b050ad\" class=\"plotly-graph-div\" style=\"height:800px; width:800px;\"></div>            <script type=\"text/javascript\">                require([\"plotly\"], function(Plotly) {                    window.PLOTLYENV=window.PLOTLYENV || {};                                    if (document.getElementById(\"0bf86961-c43b-4667-b12a-ad19d7b050ad\")) {                    Plotly.newPlot(                        \"0bf86961-c43b-4667-b12a-ad19d7b050ad\",                        [{\"customdata\":[[0.0,0.0003],[1.0,0.0003],[2.0,0.0003],[3.0,0.0003],[4.0,0.0002],[5.0,0.0002],[6.0,0.0002],[7.0,0.0002],[8.0,0.0002],[9.0,0.0002],[10.0,0.0002]],\"hovertemplate\":\"direction=Direction 0\\u003cbr\\u003eDirection 1=%{x}\\u003cbr\\u003eDirection 2=%{y}\\u003cbr\\u003esize=%{marker.size}\\u003cbr\\u003estep=%{customdata[0]}\\u003cbr\\u003ekl_div=%{customdata[1]}\\u003cextra\\u003e\\u003c\\u002fextra\\u003e\",\"legendgroup\":\"Direction 0\",\"marker\":{\"color\":\"#636efa\",\"size\":[0.9825,0.9517,0.9003,0.8332,0.757,0.6788,0.6065,0.5468,0.5054,0.4863,0.4913],\"sizemode\":\"area\",\"sizeref\":0.01,\"symbol\":\"circle\"},\"mode\":\"markers\",\"name\":\"Direction 0\",\"orientation\":\"v\",\"showlegend\":true,\"x\":[0.0,1.0,2.0,3.0,4.0,5.0,6.0,7.0,8.0,9.0,10.0],\"xaxis\":\"x\",\"y\":[0.0,0.0,0.0,0.0,0.0,0.0,0.0,0.0,0.0,0.0,0.0],\"yaxis\":\"y\",\"type\":\"scatter\"},{\"customdata\":[[0.0,0.0003],[1.0,0.0003],[2.0,0.0003],[3.0,0.0003],[4.0,0.0002],[5.0,0.0002],[6.0,0.0002],[7.0,0.0002],[8.0,0.0002],[9.0,0.0002],[10.0,0.0002]],\"hovertemplate\":\"direction=Direction 1\\u003cbr\\u003eDirection 1=%{x}\\u003cbr\\u003eDirection 2=%{y}\\u003cbr\\u003esize=%{marker.size}\\u003cbr\\u003estep=%{customdata[0]}\\u003cbr\\u003ekl_div=%{customdata[1]}\\u003cextra\\u003e\\u003c\\u002fextra\\u003e\",\"legendgroup\":\"Direction 1\",\"marker\":{\"color\":\"#EF553B\",\"size\":[0.9825,0.944,0.8858,0.8136,0.7341,0.6545,0.5825,0.5248,0.4863,0.4712,0.4805],\"sizemode\":\"area\",\"sizeref\":0.01,\"symbol\":\"circle\"},\"mode\":\"markers\",\"name\":\"Direction 1\",\"orientation\":\"v\",\"showlegend\":true,\"x\":[0.0,0.9921147013144779,1.9842294026289558,2.9763441039434335,3.9684588052579115,4.9605735065723895,5.952688207886867,6.9448029092013455,7.936917610515823,8.929032311830301,9.921147013144779],\"xaxis\":\"x\",\"y\":[0.0,0.12533323356430426,0.2506664671286085,0.3759997006929128,0.501332934257217,0.6266661678215213,0.7519994013858255,0.8773326349501298,1.002665868514434,1.1279991020787383,1.2533323356430426],\"yaxis\":\"y\",\"type\":\"scatter\"},{\"customdata\":[[0.0,0.0003],[1.0,0.0003],[2.0,0.0003],[3.0,0.0003],[4.0,0.0002],[5.0,0.0002],[6.0,0.0002],[7.0,0.0002],[8.0,0.0002],[9.0,0.0002],[10.0,0.0002]],\"hovertemplate\":\"direction=Direction 2\\u003cbr\\u003eDirection 1=%{x}\\u003cbr\\u003eDirection 2=%{y}\\u003cbr\\u003esize=%{marker.size}\\u003cbr\\u003estep=%{customdata[0]}\\u003cbr\\u003ekl_div=%{customdata[1]}\\u003cextra\\u003e\\u003c\\u002fextra\\u003e\",\"legendgroup\":\"Direction 2\",\"marker\":{\"color\":\"#00cc96\",\"size\":[0.9825,0.9482,0.8924,0.8206,0.7401,0.6591,0.5851,0.5264,0.4879,0.4736,0.4854],\"sizemode\":\"area\",\"sizeref\":0.01,\"symbol\":\"circle\"},\"mode\":\"markers\",\"name\":\"Direction 2\",\"orientation\":\"v\",\"showlegend\":true,\"x\":[0.0,0.9685831611286311,1.9371663222572622,2.9057494833858932,3.8743326445145243,4.842915805643155,5.8114989667717865,6.7800821279004175,7.748665289029049,8.71724845015768,9.68583161128631],\"xaxis\":\"x\",\"y\":[0.0,0.2486898871648548,0.4973797743297096,0.7460696614945643,0.9947595486594192,1.243449435824274,1.4921393229891287,1.7408292101539835,1.9895190973188384,2.238208984483693,2.486898871648548],\"yaxis\":\"y\",\"type\":\"scatter\"},{\"customdata\":[[0.0,0.0003],[1.0,0.0003],[2.0,0.0003],[3.0,0.0003],[4.0,0.0003],[5.0,0.0003],[6.0,0.0002],[7.0,0.0002],[8.0,0.0002],[9.0,0.0002],[10.0,0.0002]],\"hovertemplate\":\"direction=Direction 3\\u003cbr\\u003eDirection 1=%{x}\\u003cbr\\u003eDirection 2=%{y}\\u003cbr\\u003esize=%{marker.size}\\u003cbr\\u003estep=%{customdata[0]}\\u003cbr\\u003ekl_div=%{customdata[1]}\\u003cextra\\u003e\\u003c\\u002fextra\\u003e\",\"legendgroup\":\"Direction 3\",\"marker\":{\"color\":\"#ab63fa\",\"size\":[0.9825,0.9893,0.9736,0.937,0.8833,0.8179,0.7471,0.6781,0.6179,0.5722,0.5456],\"sizemode\":\"area\",\"sizeref\":0.01,\"symbol\":\"circle\"},\"mode\":\"markers\",\"name\":\"Direction 3\",\"orientation\":\"v\",\"showlegend\":true,\"x\":[0.0,0.9297764858882515,1.859552971776503,2.7893294576647545,3.719105943553006,4.648882429441257,5.578658915329509,6.50843540121776,7.438211887106012,8.367988372994263,9.297764858882514],\"xaxis\":\"x\",\"y\":[0.0,0.3681245526846779,0.7362491053693558,1.1043736580540338,1.4724982107387117,1.8406227634233896,2.2087473161080675,2.5768718687927454,2.9449964214774234,3.3131209741621013,3.681245526846779],\"yaxis\":\"y\",\"type\":\"scatter\"},{\"customdata\":[[0.0,0.0003],[1.0,0.0003],[2.0,0.0003],[3.0,0.0003],[4.0,0.0003],[5.0,0.0002],[6.0,0.0002],[7.0,0.0002],[8.0,0.0002],[9.0,0.0002],[10.0,0.0002]],\"hovertemplate\":\"direction=Direction 4\\u003cbr\\u003eDirection 1=%{x}\\u003cbr\\u003eDirection 2=%{y}\\u003cbr\\u003esize=%{marker.size}\\u003cbr\\u003estep=%{customdata[0]}\\u003cbr\\u003ekl_div=%{customdata[1]}\\u003cextra\\u003e\\u003c\\u002fextra\\u003e\",\"legendgroup\":\"Direction 4\",\"marker\":{\"color\":\"#FFA15A\",\"size\":[0.9825,0.9769,0.9465,0.8946,0.8265,0.7488,0.6694,0.5966,0.5373,0.4978,0.4819],\"sizemode\":\"area\",\"sizeref\":0.01,\"symbol\":\"circle\"},\"mode\":\"markers\",\"name\":\"Direction 4\",\"orientation\":\"v\",\"showlegend\":true,\"x\":[0.0,0.8763066800438636,1.7526133600877272,2.628920040131591,3.5052267201754543,4.381533400219318,5.257840080263182,6.134146760307045,7.010453440350909,7.886760120394772,8.763066800438637],\"xaxis\":\"x\",\"y\":[0.0,0.4817536741017153,0.9635073482034306,1.445261022305146,1.9270146964068613,2.4087683705085765,2.890522044610292,3.3722757187120074,3.8540293928137226,4.335783066915438,4.817536741017153],\"yaxis\":\"y\",\"type\":\"scatter\"},{\"customdata\":[[0.0,0.0003],[1.0,0.0003],[2.0,0.0003],[3.0,0.0003],[4.0,0.0003],[5.0,0.0002],[6.0,0.0002],[7.0,0.0002],[8.0,0.0002],[9.0,0.0002],[10.0,0.0002]],\"hovertemplate\":\"direction=Direction 5\\u003cbr\\u003eDirection 1=%{x}\\u003cbr\\u003eDirection 2=%{y}\\u003cbr\\u003esize=%{marker.size}\\u003cbr\\u003estep=%{customdata[0]}\\u003cbr\\u003ekl_div=%{customdata[1]}\\u003cextra\\u003e\\u003c\\u002fextra\\u003e\",\"legendgroup\":\"Direction 5\",\"marker\":{\"color\":\"#19d3f3\",\"size\":[0.9825,0.9641,0.9223,0.861,0.7862,0.7053,0.6263,0.5566,0.503,0.471,0.4634],\"sizemode\":\"area\",\"sizeref\":0.01,\"symbol\":\"circle\"},\"mode\":\"markers\",\"name\":\"Direction 5\",\"orientation\":\"v\",\"showlegend\":true,\"x\":[0.0,0.8090169943749475,1.618033988749895,2.4270509831248424,3.23606797749979,4.045084971874737,4.854101966249685,5.663118960624632,6.47213595499958,7.281152949374527,8.090169943749475],\"xaxis\":\"x\",\"y\":[0.0,0.5877852522924731,1.1755705045849463,1.7633557568774194,2.3511410091698925,2.938926261462366,3.526711513754839,4.114496766047312,4.702282018339785,5.2900672706322585,5.877852522924732],\"yaxis\":\"y\",\"type\":\"scatter\"},{\"customdata\":[[0.0,0.0003],[1.0,0.0003],[2.0,0.0003],[3.0,0.0003],[4.0,0.0003],[5.0,0.0002],[6.0,0.0002],[7.0,0.0002],[8.0,0.0002],[9.0,0.0002],[10.0,0.0002]],\"hovertemplate\":\"direction=Direction 6\\u003cbr\\u003eDirection 1=%{x}\\u003cbr\\u003eDirection 2=%{y}\\u003cbr\\u003esize=%{marker.size}\\u003cbr\\u003estep=%{customdata[0]}\\u003cbr\\u003ekl_div=%{customdata[1]}\\u003cextra\\u003e\\u003c\\u002fextra\\u003e\",\"legendgroup\":\"Direction 6\",\"marker\":{\"color\":\"#FF6692\",\"size\":[0.9825,0.9717,0.9364,0.8807,0.8098,0.7304,0.6509,0.5786,0.5209,0.4833,0.4692],\"sizemode\":\"area\",\"sizeref\":0.01,\"symbol\":\"circle\"},\"mode\":\"markers\",\"name\":\"Direction 6\",\"orientation\":\"v\",\"showlegend\":true,\"x\":[0.0,0.7289686274214116,1.457937254842823,2.1869058822642344,2.915874509685646,3.644843137107058,4.373811764528469,5.102780391949881,5.831749019371292,6.560717646792704,7.289686274214116],\"xaxis\":\"x\",\"y\":[0.0,0.6845471059286886,1.3690942118573772,2.0536413177860657,2.7381884237147545,3.422735529643443,4.1072826355721315,4.791829741500821,5.476376847429509,6.160923953358197,6.845471059286886],\"yaxis\":\"y\",\"type\":\"scatter\"},{\"customdata\":[[0.0,0.0003],[1.0,0.0003],[2.0,0.0003],[3.0,0.0003],[4.0,0.0003],[5.0,0.0003],[6.0,0.0002],[7.0,0.0002],[8.0,0.0002],[9.0,0.0002],[10.0,0.0002]],\"hovertemplate\":\"direction=Direction 7\\u003cbr\\u003eDirection 1=%{x}\\u003cbr\\u003eDirection 2=%{y}\\u003cbr\\u003esize=%{marker.size}\\u003cbr\\u003estep=%{customdata[0]}\\u003cbr\\u003ekl_div=%{customdata[1]}\\u003cextra\\u003e\\u003c\\u002fextra\\u003e\",\"legendgroup\":\"Direction 7\",\"marker\":{\"color\":\"#B6E880\",\"size\":[0.9825,0.9894,0.9704,0.9275,0.8649,0.7888,0.7064,0.6261,0.5557,0.5021,0.4705],\"sizemode\":\"area\",\"sizeref\":0.01,\"symbol\":\"circle\"},\"mode\":\"markers\",\"name\":\"Direction 7\",\"orientation\":\"v\",\"showlegend\":true,\"x\":[0.0,0.6374239897486897,1.2748479794973795,1.9122719692460692,2.549695958994759,3.1871199487434487,3.8245439384921385,4.461967928240828,5.099391917989518,5.736815907738208,6.3742398974868975],\"xaxis\":\"x\",\"y\":[0.0,0.7705132427757893,1.5410264855515785,2.311539728327368,3.082052971103157,3.852566213878946,4.623079456654736,5.393592699430525,6.164105942206314,6.934619184982103,7.705132427757892],\"yaxis\":\"y\",\"type\":\"scatter\"},{\"customdata\":[[0.0,0.0003],[1.0,0.0003],[2.0,0.0003],[3.0,0.0003],[4.0,0.0003],[5.0,0.0002],[6.0,0.0002],[7.0,0.0002],[8.0,0.0002],[9.0,0.0001],[10.0,0.0001]],\"hovertemplate\":\"direction=Direction 8\\u003cbr\\u003eDirection 1=%{x}\\u003cbr\\u003eDirection 2=%{y}\\u003cbr\\u003esize=%{marker.size}\\u003cbr\\u003estep=%{customdata[0]}\\u003cbr\\u003ekl_div=%{customdata[1]}\\u003cextra\\u003e\\u003c\\u002fextra\\u003e\",\"legendgroup\":\"Direction 8\",\"marker\":{\"color\":\"#FF97FF\",\"size\":[0.9825,0.9676,0.9287,0.8698,0.7963,0.7153,0.634,0.5602,0.501,0.4618,0.4463],\"sizemode\":\"area\",\"sizeref\":0.01,\"symbol\":\"circle\"},\"mode\":\"markers\",\"name\":\"Direction 8\",\"orientation\":\"v\",\"showlegend\":true,\"x\":[0.0,0.5358267949789965,1.071653589957993,1.6074803849369896,2.143307179915986,2.6791339748949827,3.2149607698739793,3.750787564852976,4.286614359831972,4.822441154810969,5.3582679497899655],\"xaxis\":\"x\",\"y\":[0.0,0.8443279255020151,1.6886558510040302,2.532983776506045,3.3773117020080603,4.221639627510076,5.06596755301209,5.910295478514105,6.754623404016121,7.598951329518136,8.443279255020151],\"yaxis\":\"y\",\"type\":\"scatter\"},{\"customdata\":[[0.0,0.0003],[1.0,0.0003],[2.0,0.0003],[3.0,0.0003],[4.0,0.0003],[5.0,0.0003],[6.0,0.0002],[7.0,0.0002],[8.0,0.0002],[9.0,0.0002],[10.0,0.0002]],\"hovertemplate\":\"direction=Direction 9\\u003cbr\\u003eDirection 1=%{x}\\u003cbr\\u003eDirection 2=%{y}\\u003cbr\\u003esize=%{marker.size}\\u003cbr\\u003estep=%{customdata[0]}\\u003cbr\\u003ekl_div=%{customdata[1]}\\u003cextra\\u003e\\u003c\\u002fextra\\u003e\",\"legendgroup\":\"Direction 9\",\"marker\":{\"color\":\"#FECB52\",\"size\":[0.9825,0.9848,0.9639,0.9215,0.8616,0.7898,0.712,0.6359,0.5679,0.5145,0.4804],\"sizemode\":\"area\",\"sizeref\":0.01,\"symbol\":\"circle\"},\"mode\":\"markers\",\"name\":\"Direction 9\",\"orientation\":\"v\",\"showlegend\":true,\"x\":[0.0,0.42577929156507266,0.8515585831301453,1.277337874695218,1.7031171662602906,2.1288964578253635,2.554675749390436,2.9804550409555084,3.4062343325205813,3.832013624085654,4.257792915650727],\"xaxis\":\"x\",\"y\":[0.0,0.9048270524660196,1.8096541049320392,2.7144811573980587,3.6193082098640783,4.524135262330098,5.4289623147961175,6.333789367262137,7.238616419728157,8.143443472194177,9.048270524660197],\"yaxis\":\"y\",\"type\":\"scatter\"},{\"customdata\":[[0.0,0.0003],[1.0,0.0003],[2.0,0.0003],[3.0,0.0003],[4.0,0.0003],[5.0,0.0003],[6.0,0.0002],[7.0,0.0002],[8.0,0.0002],[9.0,0.0002],[10.0,0.0002]],\"hovertemplate\":\"direction=Direction 10\\u003cbr\\u003eDirection 1=%{x}\\u003cbr\\u003eDirection 2=%{y}\\u003cbr\\u003esize=%{marker.size}\\u003cbr\\u003estep=%{customdata[0]}\\u003cbr\\u003ekl_div=%{customdata[1]}\\u003cextra\\u003e\\u003c\\u002fextra\\u003e\",\"legendgroup\":\"Direction 10\",\"marker\":{\"color\":\"#636efa\",\"size\":[0.9825,0.9859,0.9653,0.9229,0.8626,0.7902,0.7131,0.638,0.5726,0.5229,0.4939],\"sizemode\":\"area\",\"sizeref\":0.01,\"symbol\":\"circle\"},\"mode\":\"markers\",\"name\":\"Direction 10\",\"orientation\":\"v\",\"showlegend\":true,\"x\":[0.0,0.30901699437494745,0.6180339887498949,0.9270509831248424,1.2360679774997898,1.5450849718747373,1.8541019662496847,2.163118960624632,2.4721359549995796,2.781152949374527,3.0901699437494745],\"xaxis\":\"x\",\"y\":[0.0,0.9510565162951535,1.902113032590307,2.8531695488854605,3.804226065180614,4.755282581475767,5.706339097770921,6.657395614066075,7.608452130361228,8.559508646656381,9.510565162951535],\"yaxis\":\"y\",\"type\":\"scatter\"},{\"customdata\":[[0.0,0.0003],[1.0,0.0003],[2.0,0.0003],[3.0,0.0003],[4.0,0.0003],[5.0,0.0002],[6.0,0.0002],[7.0,0.0002],[8.0,0.0002],[9.0,0.0002],[10.0,0.0002]],\"hovertemplate\":\"direction=Direction 11\\u003cbr\\u003eDirection 1=%{x}\\u003cbr\\u003eDirection 2=%{y}\\u003cbr\\u003esize=%{marker.size}\\u003cbr\\u003estep=%{customdata[0]}\\u003cbr\\u003ekl_div=%{customdata[1]}\\u003cextra\\u003e\\u003c\\u002fextra\\u003e\",\"legendgroup\":\"Direction 11\",\"marker\":{\"color\":\"#EF553B\",\"size\":[0.9825,0.9716,0.9378,0.8844,0.817,0.7422,0.6676,0.6006,0.5478,0.5147,0.5038],\"sizemode\":\"area\",\"sizeref\":0.01,\"symbol\":\"circle\"},\"mode\":\"markers\",\"name\":\"Direction 11\",\"orientation\":\"v\",\"showlegend\":true,\"x\":[0.0,0.18738131458572474,0.3747626291714495,0.5621439437571742,0.749525258342899,0.9369065729286237,1.1242878875143485,1.311669202100073,1.499050516685798,1.6864318312715227,1.8738131458572473],\"xaxis\":\"x\",\"y\":[0.0,0.9822872507286886,1.9645745014573772,2.9468617521860656,3.9291490029147544,4.911436253643443,5.893723504372131,6.87601075510082,7.858298005829509,8.840585256558198,9.822872507286887],\"yaxis\":\"y\",\"type\":\"scatter\"},{\"customdata\":[[0.0,0.0003],[1.0,0.0003],[2.0,0.0003],[3.0,0.0003],[4.0,0.0003],[5.0,0.0002],[6.0,0.0002],[7.0,0.0002],[8.0,0.0002],[9.0,0.0001],[10.0,0.0001]],\"hovertemplate\":\"direction=Direction 12\\u003cbr\\u003eDirection 1=%{x}\\u003cbr\\u003eDirection 2=%{y}\\u003cbr\\u003esize=%{marker.size}\\u003cbr\\u003estep=%{customdata[0]}\\u003cbr\\u003ekl_div=%{customdata[1]}\\u003cextra\\u003e\\u003c\\u002fextra\\u003e\",\"legendgroup\":\"Direction 12\",\"marker\":{\"color\":\"#00cc96\",\"size\":[0.9825,0.9655,0.9224,0.8583,0.7796,0.6945,0.6123,0.5412,0.4887,0.4604,0.459],\"sizemode\":\"area\",\"sizeref\":0.01,\"symbol\":\"circle\"},\"mode\":\"markers\",\"name\":\"Direction 12\",\"orientation\":\"v\",\"showlegend\":true,\"x\":[0.0,0.06279051952931353,0.12558103905862705,0.18837155858794058,0.2511620781172541,0.31395259764656763,0.37674311717588116,0.4395336367051947,0.5023241562345082,0.5651146757638217,0.6279051952931353],\"xaxis\":\"x\",\"y\":[0.0,0.9980267284282716,1.9960534568565431,2.9940801852848145,3.9921069137130862,4.990133642141358,5.988160370569629,6.986187098997901,7.9842138274261725,8.982240555854444,9.980267284282716],\"yaxis\":\"y\",\"type\":\"scatter\"},{\"customdata\":[[0.0,0.0003],[1.0,0.0003],[2.0,0.0003],[3.0,0.0003],[4.0,0.0003],[5.0,0.0002],[6.0,0.0002],[7.0,0.0002],[8.0,0.0002],[9.0,0.0002],[10.0,0.0002]],\"hovertemplate\":\"direction=Direction 13\\u003cbr\\u003eDirection 1=%{x}\\u003cbr\\u003eDirection 2=%{y}\\u003cbr\\u003esize=%{marker.size}\\u003cbr\\u003estep=%{customdata[0]}\\u003cbr\\u003ekl_div=%{customdata[1]}\\u003cextra\\u003e\\u003c\\u002fextra\\u003e\",\"legendgroup\":\"Direction 13\",\"marker\":{\"color\":\"#ab63fa\",\"size\":[0.9825,0.9623,0.9195,0.8587,0.7854,0.7066,0.63,0.5626,0.5111,0.48,0.4724],\"sizemode\":\"area\",\"sizeref\":0.01,\"symbol\":\"circle\"},\"mode\":\"markers\",\"name\":\"Direction 13\",\"orientation\":\"v\",\"showlegend\":true,\"x\":[-0.0,-0.0627905195293134,-0.1255810390586268,-0.1883715585879402,-0.2511620781172536,-0.313952597646567,-0.3767431171758804,-0.4395336367051938,-0.5023241562345072,-0.5651146757638206,-0.627905195293134],\"xaxis\":\"x\",\"y\":[0.0,0.9980267284282716,1.9960534568565431,2.9940801852848145,3.9921069137130862,4.990133642141358,5.988160370569629,6.986187098997901,7.9842138274261725,8.982240555854444,9.980267284282716],\"yaxis\":\"y\",\"type\":\"scatter\"},{\"customdata\":[[0.0,0.0003],[1.0,0.0003],[2.0,0.0003],[3.0,0.0003],[4.0,0.0003],[5.0,0.0003],[6.0,0.0002],[7.0,0.0002],[8.0,0.0002],[9.0,0.0002],[10.0,0.0002]],\"hovertemplate\":\"direction=Direction 14\\u003cbr\\u003eDirection 1=%{x}\\u003cbr\\u003eDirection 2=%{y}\\u003cbr\\u003esize=%{marker.size}\\u003cbr\\u003estep=%{customdata[0]}\\u003cbr\\u003ekl_div=%{customdata[1]}\\u003cextra\\u003e\\u003c\\u002fextra\\u003e\",\"legendgroup\":\"Direction 14\",\"marker\":{\"color\":\"#FFA15A\",\"size\":[0.9825,0.9872,0.9663,0.9218,0.8586,0.7827,0.7016,0.6233,0.5555,0.5052,0.477],\"sizemode\":\"area\",\"sizeref\":0.01,\"symbol\":\"circle\"},\"mode\":\"markers\",\"name\":\"Direction 14\",\"orientation\":\"v\",\"showlegend\":true,\"x\":[-0.0,-0.1873813145857246,-0.3747626291714492,-0.5621439437571738,-0.7495252583428984,-0.936906572928623,-1.1242878875143476,-1.3116692021000722,-1.4990505166857968,-1.6864318312715214,-1.873813145857246],\"xaxis\":\"x\",\"y\":[0.0,0.9822872507286887,1.9645745014573774,2.946861752186066,3.929149002914755,4.911436253643443,5.893723504372132,6.876010755100821,7.85829800582951,8.840585256558198,9.822872507286887],\"yaxis\":\"y\",\"type\":\"scatter\"},{\"customdata\":[[0.0,0.0003],[1.0,0.0003],[2.0,0.0003],[3.0,0.0003],[4.0,0.0002],[5.0,0.0002],[6.0,0.0002],[7.0,0.0002],[8.0,0.0002],[9.0,0.0002],[10.0,0.0002]],\"hovertemplate\":\"direction=Direction 15\\u003cbr\\u003eDirection 1=%{x}\\u003cbr\\u003eDirection 2=%{y}\\u003cbr\\u003esize=%{marker.size}\\u003cbr\\u003estep=%{customdata[0]}\\u003cbr\\u003ekl_div=%{customdata[1]}\\u003cextra\\u003e\\u003c\\u002fextra\\u003e\",\"legendgroup\":\"Direction 15\",\"marker\":{\"color\":\"#19d3f3\",\"size\":[0.9825,0.9561,0.9074,0.8412,0.7642,0.684,0.6085,0.5455,0.5006,0.4783,0.4812],\"sizemode\":\"area\",\"sizeref\":0.01,\"symbol\":\"circle\"},\"mode\":\"markers\",\"name\":\"Direction 15\",\"orientation\":\"v\",\"showlegend\":true,\"x\":[-0.0,-0.3090169943749471,-0.6180339887498942,-0.9270509831248414,-1.2360679774997885,-1.5450849718747355,-1.8541019662496827,-2.16311896062463,-2.472135954999577,-2.781152949374524,-3.090169943749471],\"xaxis\":\"x\",\"y\":[0.0,0.9510565162951536,1.9021130325903073,2.853169548885461,3.8042260651806146,4.755282581475768,5.706339097770922,6.6573956140660755,7.608452130361229,8.559508646656383,9.510565162951536],\"yaxis\":\"y\",\"type\":\"scatter\"},{\"customdata\":[[0.0,0.0003],[1.0,0.0003],[2.0,0.0003],[3.0,0.0003],[4.0,0.0002],[5.0,0.0002],[6.0,0.0002],[7.0,0.0002],[8.0,0.0002],[9.0,0.0001],[10.0,0.0001]],\"hovertemplate\":\"direction=Direction 16\\u003cbr\\u003eDirection 1=%{x}\\u003cbr\\u003eDirection 2=%{y}\\u003cbr\\u003esize=%{marker.size}\\u003cbr\\u003estep=%{customdata[0]}\\u003cbr\\u003ekl_div=%{customdata[1]}\\u003cextra\\u003e\\u003c\\u002fextra\\u003e\",\"legendgroup\":\"Direction 16\",\"marker\":{\"color\":\"#FF6692\",\"size\":[0.9825,0.9559,0.9068,0.8397,0.7609,0.6777,0.5981,0.5294,0.4781,0.4486,0.444],\"sizemode\":\"area\",\"sizeref\":0.01,\"symbol\":\"circle\"},\"mode\":\"markers\",\"name\":\"Direction 16\",\"orientation\":\"v\",\"showlegend\":true,\"x\":[-0.0,-0.4257792915650727,-0.8515585831301454,-1.2773378746952182,-1.7031171662602909,-2.1288964578253635,-2.5546757493904364,-2.980455040955509,-3.4062343325205817,-3.8320136240856546,-4.257792915650727],\"xaxis\":\"x\",\"y\":[0.0,0.9048270524660195,1.809654104932039,2.7144811573980583,3.619308209864078,4.524135262330097,5.428962314796117,6.333789367262137,7.238616419728156,8.143443472194175,9.048270524660195],\"yaxis\":\"y\",\"type\":\"scatter\"},{\"customdata\":[[0.0,0.0003],[1.0,0.0003],[2.0,0.0003],[3.0,0.0003],[4.0,0.0003],[5.0,0.0002],[6.0,0.0002],[7.0,0.0002],[8.0,0.0002],[9.0,0.0002],[10.0,0.0001]],\"hovertemplate\":\"direction=Direction 17\\u003cbr\\u003eDirection 1=%{x}\\u003cbr\\u003eDirection 2=%{y}\\u003cbr\\u003esize=%{marker.size}\\u003cbr\\u003estep=%{customdata[0]}\\u003cbr\\u003ekl_div=%{customdata[1]}\\u003cextra\\u003e\\u003c\\u002fextra\\u003e\",\"legendgroup\":\"Direction 17\",\"marker\":{\"color\":\"#B6E880\",\"size\":[0.9825,0.9712,0.9349,0.8771,0.8038,0.722,0.6403,0.5664,0.5081,0.4709,0.4583],\"sizemode\":\"area\",\"sizeref\":0.01,\"symbol\":\"circle\"},\"mode\":\"markers\",\"name\":\"Direction 17\",\"orientation\":\"v\",\"showlegend\":true,\"x\":[-0.0,-0.5358267949789969,-1.0716535899579938,-1.6074803849369905,-2.1433071799159875,-2.6791339748949845,-3.214960769873981,-3.750787564852978,-4.286614359831975,-4.822441154810972,-5.358267949789969],\"xaxis\":\"x\",\"y\":[0.0,0.844327925502015,1.68865585100403,2.532983776506045,3.37731170200806,4.221639627510075,5.06596755301209,5.910295478514104,6.75462340401612,7.598951329518135,8.44327925502015],\"yaxis\":\"y\",\"type\":\"scatter\"},{\"customdata\":[[0.0,0.0003],[1.0,0.0003],[2.0,0.0003],[3.0,0.0003],[4.0,0.0003],[5.0,0.0002],[6.0,0.0002],[7.0,0.0002],[8.0,0.0002],[9.0,0.0002],[10.0,0.0001]],\"hovertemplate\":\"direction=Direction 18\\u003cbr\\u003eDirection 1=%{x}\\u003cbr\\u003eDirection 2=%{y}\\u003cbr\\u003esize=%{marker.size}\\u003cbr\\u003estep=%{customdata[0]}\\u003cbr\\u003ekl_div=%{customdata[1]}\\u003cextra\\u003e\\u003c\\u002fextra\\u003e\",\"legendgroup\":\"Direction 18\",\"marker\":{\"color\":\"#FF97FF\",\"size\":[0.9825,0.9719,0.9362,0.8791,0.8065,0.7254,0.6437,0.5697,0.511,0.4731,0.4597],\"sizemode\":\"area\",\"sizeref\":0.01,\"symbol\":\"circle\"},\"mode\":\"markers\",\"name\":\"Direction 18\",\"orientation\":\"v\",\"showlegend\":true,\"x\":[-0.0,-0.6374239897486897,-1.2748479794973795,-1.9122719692460692,-2.549695958994759,-3.1871199487434487,-3.8245439384921385,-4.461967928240828,-5.099391917989518,-5.736815907738208,-6.3742398974868975],\"xaxis\":\"x\",\"y\":[0.0,0.7705132427757893,1.5410264855515785,2.311539728327368,3.082052971103157,3.852566213878946,4.623079456654736,5.393592699430525,6.164105942206314,6.934619184982103,7.705132427757892],\"yaxis\":\"y\",\"type\":\"scatter\"},{\"customdata\":[[0.0,0.0003],[1.0,0.0003],[2.0,0.0003],[3.0,0.0003],[4.0,0.0002],[5.0,0.0002],[6.0,0.0002],[7.0,0.0002],[8.0,0.0002],[9.0,0.0001],[10.0,0.0001]],\"hovertemplate\":\"direction=Direction 19\\u003cbr\\u003eDirection 1=%{x}\\u003cbr\\u003eDirection 2=%{y}\\u003cbr\\u003esize=%{marker.size}\\u003cbr\\u003estep=%{customdata[0]}\\u003cbr\\u003ekl_div=%{customdata[1]}\\u003cextra\\u003e\\u003c\\u002fextra\\u003e\",\"legendgroup\":\"Direction 19\",\"marker\":{\"color\":\"#FECB52\",\"size\":[0.9825,0.9553,0.9047,0.8357,0.7554,0.6717,0.5929,0.5268,0.4797,0.4565,0.4593],\"sizemode\":\"area\",\"sizeref\":0.01,\"symbol\":\"circle\"},\"mode\":\"markers\",\"name\":\"Direction 19\",\"orientation\":\"v\",\"showlegend\":true,\"x\":[-0.0,-0.7289686274214113,-1.4579372548428227,-2.186905882264234,-2.9158745096856453,-3.6448431371070567,-4.373811764528468,-5.10278039194988,-5.831749019371291,-6.5607176467927015,-7.289686274214113],\"xaxis\":\"x\",\"y\":[0.0,0.6845471059286888,1.3690942118573777,2.0536413177860666,2.7381884237147553,3.422735529643444,4.107282635572133,4.7918297415008215,5.476376847429511,6.1609239533582,6.845471059286888],\"yaxis\":\"y\",\"type\":\"scatter\"},{\"customdata\":[[0.0,0.0003],[1.0,0.0003],[2.0,0.0003],[3.0,0.0003],[4.0,0.0003],[5.0,0.0003],[6.0,0.0003],[7.0,0.0002],[8.0,0.0002],[9.0,0.0002],[10.0,0.0002]],\"hovertemplate\":\"direction=Direction 20\\u003cbr\\u003eDirection 1=%{x}\\u003cbr\\u003eDirection 2=%{y}\\u003cbr\\u003esize=%{marker.size}\\u003cbr\\u003estep=%{customdata[0]}\\u003cbr\\u003ekl_div=%{customdata[1]}\\u003cextra\\u003e\\u003c\\u002fextra\\u003e\",\"legendgroup\":\"Direction 20\",\"marker\":{\"color\":\"#636efa\",\"size\":[0.9825,0.9904,0.9788,0.9491,0.9038,0.847,0.7843,0.7218,0.6649,0.619,0.5883],\"sizemode\":\"area\",\"sizeref\":0.01,\"symbol\":\"circle\"},\"mode\":\"markers\",\"name\":\"Direction 20\",\"orientation\":\"v\",\"showlegend\":true,\"x\":[-0.0,-0.8090169943749473,-1.6180339887498947,-2.427050983124842,-3.2360679774997894,-4.045084971874736,-4.854101966249684,-5.663118960624631,-6.472135954999579,-7.281152949374526,-8.090169943749473],\"xaxis\":\"x\",\"y\":[0.0,0.5877852522924732,1.1755705045849465,1.7633557568774196,2.351141009169893,2.9389262614623664,3.5267115137548393,4.114496766047313,4.702282018339786,5.290067270632259,5.877852522924733],\"yaxis\":\"y\",\"type\":\"scatter\"},{\"customdata\":[[0.0,0.0003],[1.0,0.0003],[2.0,0.0003],[3.0,0.0003],[4.0,0.0003],[5.0,0.0002],[6.0,0.0002],[7.0,0.0002],[8.0,0.0002],[9.0,0.0002],[10.0,0.0002]],\"hovertemplate\":\"direction=Direction 21\\u003cbr\\u003eDirection 1=%{x}\\u003cbr\\u003eDirection 2=%{y}\\u003cbr\\u003esize=%{marker.size}\\u003cbr\\u003estep=%{customdata[0]}\\u003cbr\\u003ekl_div=%{customdata[1]}\\u003cextra\\u003e\\u003c\\u002fextra\\u003e\",\"legendgroup\":\"Direction 21\",\"marker\":{\"color\":\"#EF553B\",\"size\":[0.9825,0.9803,0.9532,0.9041,0.8379,0.7611,0.6815,0.6068,0.5447,0.501,0.4805],\"sizemode\":\"area\",\"sizeref\":0.01,\"symbol\":\"circle\"},\"mode\":\"markers\",\"name\":\"Direction 21\",\"orientation\":\"v\",\"showlegend\":true,\"x\":[-0.0,-0.8763066800438636,-1.7526133600877272,-2.628920040131591,-3.5052267201754543,-4.381533400219318,-5.257840080263182,-6.134146760307045,-7.010453440350909,-7.886760120394772,-8.763066800438637],\"xaxis\":\"x\",\"y\":[0.0,0.4817536741017152,0.9635073482034304,1.4452610223051456,1.9270146964068608,2.408768370508576,2.8905220446102913,3.3722757187120065,3.8540293928137217,4.335783066915437,4.817536741017152],\"yaxis\":\"y\",\"type\":\"scatter\"},{\"customdata\":[[0.0,0.0003],[1.0,0.0003],[2.0,0.0003],[3.0,0.0003],[4.0,0.0003],[5.0,0.0002],[6.0,0.0002],[7.0,0.0002],[8.0,0.0002],[9.0,0.0002],[10.0,0.0002]],\"hovertemplate\":\"direction=Direction 22\\u003cbr\\u003eDirection 1=%{x}\\u003cbr\\u003eDirection 2=%{y}\\u003cbr\\u003esize=%{marker.size}\\u003cbr\\u003estep=%{customdata[0]}\\u003cbr\\u003ekl_div=%{customdata[1]}\\u003cextra\\u003e\\u003c\\u002fextra\\u003e\",\"legendgroup\":\"Direction 22\",\"marker\":{\"color\":\"#00cc96\",\"size\":[0.9825,0.9692,0.9335,0.8784,0.8096,0.7338,0.6584,0.5907,0.5374,0.5034,0.4922],\"sizemode\":\"area\",\"sizeref\":0.01,\"symbol\":\"circle\"},\"mode\":\"markers\",\"name\":\"Direction 22\",\"orientation\":\"v\",\"showlegend\":true,\"x\":[-0.0,-0.9297764858882513,-1.8595529717765027,-2.789329457664754,-3.7191059435530054,-4.648882429441256,-5.578658915329508,-6.50843540121776,-7.438211887106011,-8.367988372994262,-9.297764858882513],\"xaxis\":\"x\",\"y\":[0.0,0.36812455268467814,0.7362491053693563,1.1043736580540344,1.4724982107387126,1.8406227634233907,2.208747316108069,2.5768718687927468,2.944996421477425,3.3131209741621035,3.6812455268467814],\"yaxis\":\"y\",\"type\":\"scatter\"},{\"customdata\":[[0.0,0.0003],[1.0,0.0003],[2.0,0.0003],[3.0,0.0003],[4.0,0.0003],[5.0,0.0002],[6.0,0.0002],[7.0,0.0002],[8.0,0.0002],[9.0,0.0002],[10.0,0.0002]],\"hovertemplate\":\"direction=Direction 23\\u003cbr\\u003eDirection 1=%{x}\\u003cbr\\u003eDirection 2=%{y}\\u003cbr\\u003esize=%{marker.size}\\u003cbr\\u003estep=%{customdata[0]}\\u003cbr\\u003ekl_div=%{customdata[1]}\\u003cextra\\u003e\\u003c\\u002fextra\\u003e\",\"legendgroup\":\"Direction 23\",\"marker\":{\"color\":\"#ab63fa\",\"size\":[0.9825,0.9619,0.9189,0.8576,0.7849,0.7076,0.634,0.5712,0.5256,0.5019,0.5021],\"sizemode\":\"area\",\"sizeref\":0.01,\"symbol\":\"circle\"},\"mode\":\"markers\",\"name\":\"Direction 23\",\"orientation\":\"v\",\"showlegend\":true,\"x\":[-0.0,-0.968583161128631,-1.937166322257262,-2.905749483385893,-3.874332644514524,-4.8429158056431545,-5.811498966771786,-6.780082127900417,-7.748665289029048,-8.717248450157678,-9.685831611286309],\"xaxis\":\"x\",\"y\":[0.0,0.24868988716485524,0.4973797743297105,0.7460696614945657,0.994759548659421,1.2434494358242763,1.4921393229891313,1.7408292101539866,1.989519097318842,2.238208984483697,2.4868988716485525],\"yaxis\":\"y\",\"type\":\"scatter\"},{\"customdata\":[[0.0,0.0003],[1.0,0.0003],[2.0,0.0003],[3.0,0.0003],[4.0,0.0003],[5.0,0.0002],[6.0,0.0002],[7.0,0.0002],[8.0,0.0002],[9.0,0.0002],[10.0,0.0002]],\"hovertemplate\":\"direction=Direction 24\\u003cbr\\u003eDirection 1=%{x}\\u003cbr\\u003eDirection 2=%{y}\\u003cbr\\u003esize=%{marker.size}\\u003cbr\\u003estep=%{customdata[0]}\\u003cbr\\u003ekl_div=%{customdata[1]}\\u003cextra\\u003e\\u003c\\u002fextra\\u003e\",\"legendgroup\":\"Direction 24\",\"marker\":{\"color\":\"#FFA15A\",\"size\":[0.9825,0.96,0.9147,0.8516,0.7774,0.7001,0.6282,0.5694,0.5297,0.5135,0.5225],\"sizemode\":\"area\",\"sizeref\":0.01,\"symbol\":\"circle\"},\"mode\":\"markers\",\"name\":\"Direction 24\",\"orientation\":\"v\",\"showlegend\":true,\"x\":[-0.0,-0.9921147013144778,-1.9842294026289555,-2.9763441039434335,-3.968458805257911,-4.960573506572389,-5.952688207886867,-6.944802909201345,-7.936917610515822,-8.9290323118303,-9.921147013144777],\"xaxis\":\"x\",\"y\":[0.0,0.12533323356430454,0.25066646712860907,0.3759997006929136,0.5013329342572181,0.6266661678215226,0.7519994013858272,0.8773326349501318,1.0026658685144363,1.1279991020787408,1.2533323356430452],\"yaxis\":\"y\",\"type\":\"scatter\"},{\"customdata\":[[0.0,0.0003],[1.0,0.0003],[2.0,0.0003],[3.0,0.0003],[4.0,0.0003],[5.0,0.0002],[6.0,0.0002],[7.0,0.0002],[8.0,0.0002],[9.0,0.0002],[10.0,0.0002]],\"hovertemplate\":\"direction=Direction 25\\u003cbr\\u003eDirection 1=%{x}\\u003cbr\\u003eDirection 2=%{y}\\u003cbr\\u003esize=%{marker.size}\\u003cbr\\u003estep=%{customdata[0]}\\u003cbr\\u003ekl_div=%{customdata[1]}\\u003cextra\\u003e\\u003c\\u002fextra\\u003e\",\"legendgroup\":\"Direction 25\",\"marker\":{\"color\":\"#19d3f3\",\"size\":[0.9825,0.9712,0.9399,0.8917,0.8307,0.763,0.6942,0.6309,0.5785,0.542,0.5245],\"sizemode\":\"area\",\"sizeref\":0.01,\"symbol\":\"circle\"},\"mode\":\"markers\",\"name\":\"Direction 25\",\"orientation\":\"v\",\"showlegend\":true,\"x\":[-0.0,-1.0,-2.0,-3.0,-4.0,-5.0,-6.0,-7.0,-8.0,-9.0,-10.0],\"xaxis\":\"x\",\"y\":[0.0,1.2246467991473532e-16,2.4492935982947064e-16,3.6739403974420594e-16,4.898587196589413e-16,6.123233995736766e-16,7.347880794884119e-16,8.572527594031472e-16,9.797174393178826e-16,1.102182119232618e-15,1.2246467991473533e-15],\"yaxis\":\"y\",\"type\":\"scatter\"},{\"customdata\":[[0.0,0.0003],[1.0,0.0003],[2.0,0.0003],[3.0,0.0003],[4.0,0.0003],[5.0,0.0002],[6.0,0.0002],[7.0,0.0002],[8.0,0.0002],[9.0,0.0002],[10.0,0.0002]],\"hovertemplate\":\"direction=Direction 26\\u003cbr\\u003eDirection 1=%{x}\\u003cbr\\u003eDirection 2=%{y}\\u003cbr\\u003esize=%{marker.size}\\u003cbr\\u003estep=%{customdata[0]}\\u003cbr\\u003ekl_div=%{customdata[1]}\\u003cextra\\u003e\\u003c\\u002fextra\\u003e\",\"legendgroup\":\"Direction 26\",\"marker\":{\"color\":\"#FF6692\",\"size\":[0.9825,0.9683,0.9317,0.876,0.8066,0.7302,0.6539,0.5849,0.5299,0.494,0.4806],\"sizemode\":\"area\",\"sizeref\":0.01,\"symbol\":\"circle\"},\"mode\":\"markers\",\"name\":\"Direction 26\",\"orientation\":\"v\",\"showlegend\":true,\"x\":[-0.0,-0.9921147013144779,-1.9842294026289558,-2.9763441039434335,-3.9684588052579115,-4.9605735065723895,-5.952688207886867,-6.9448029092013455,-7.936917610515823,-8.929032311830301,-9.921147013144779],\"xaxis\":\"x\",\"y\":[-0.0,-0.12533323356430429,-0.25066646712860857,-0.3759997006929129,-0.5013329342572171,-0.6266661678215214,-0.7519994013858258,-0.87733263495013,-1.0026658685144343,-1.1279991020787385,-1.2533323356430428],\"yaxis\":\"y\",\"type\":\"scatter\"},{\"customdata\":[[0.0,0.0003],[1.0,0.0003],[2.0,0.0003],[3.0,0.0003],[4.0,0.0003],[5.0,0.0002],[6.0,0.0002],[7.0,0.0002],[8.0,0.0002],[9.0,0.0002],[10.0,0.0002]],\"hovertemplate\":\"direction=Direction 27\\u003cbr\\u003eDirection 1=%{x}\\u003cbr\\u003eDirection 2=%{y}\\u003cbr\\u003esize=%{marker.size}\\u003cbr\\u003estep=%{customdata[0]}\\u003cbr\\u003ekl_div=%{customdata[1]}\\u003cextra\\u003e\\u003c\\u002fextra\\u003e\",\"legendgroup\":\"Direction 27\",\"marker\":{\"color\":\"#B6E880\",\"size\":[0.9825,0.9661,0.9286,0.8733,0.8056,0.7317,0.6587,0.5932,0.5419,0.509,0.4978],\"sizemode\":\"area\",\"sizeref\":0.01,\"symbol\":\"circle\"},\"mode\":\"markers\",\"name\":\"Direction 27\",\"orientation\":\"v\",\"showlegend\":true,\"x\":[-0.0,-0.9685831611286312,-1.9371663222572624,-2.9057494833858937,-3.8743326445145247,-4.842915805643156,-5.811498966771787,-6.780082127900418,-7.7486652890290495,-8.717248450157681,-9.685831611286313],\"xaxis\":\"x\",\"y\":[-0.0,-0.24868988716485457,-0.49737977432970915,-0.7460696614945637,-0.9947595486594183,-1.243449435824273,-1.4921393229891273,-1.740829210153982,-1.9895190973188366,-2.238208984483691,-2.486898871648546],\"yaxis\":\"y\",\"type\":\"scatter\"},{\"customdata\":[[0.0,0.0003],[1.0,0.0003],[2.0,0.0003],[3.0,0.0003],[4.0,0.0003],[5.0,0.0003],[6.0,0.0002],[7.0,0.0002],[8.0,0.0002],[9.0,0.0002],[10.0,0.0001]],\"hovertemplate\":\"direction=Direction 28\\u003cbr\\u003eDirection 1=%{x}\\u003cbr\\u003eDirection 2=%{y}\\u003cbr\\u003esize=%{marker.size}\\u003cbr\\u003estep=%{customdata[0]}\\u003cbr\\u003ekl_div=%{customdata[1]}\\u003cextra\\u003e\\u003c\\u002fextra\\u003e\",\"legendgroup\":\"Direction 28\",\"marker\":{\"color\":\"#FF97FF\",\"size\":[0.9825,0.9866,0.9652,0.9205,0.8565,0.7796,0.6966,0.6152,0.5434,0.4877,0.453],\"sizemode\":\"area\",\"sizeref\":0.01,\"symbol\":\"circle\"},\"mode\":\"markers\",\"name\":\"Direction 28\",\"orientation\":\"v\",\"showlegend\":true,\"x\":[-0.0,-0.9297764858882515,-1.859552971776503,-2.7893294576647545,-3.719105943553006,-4.648882429441257,-5.578658915329509,-6.50843540121776,-7.438211887106012,-8.367988372994263,-9.297764858882514],\"xaxis\":\"x\",\"y\":[-0.0,-0.3681245526846779,-0.7362491053693558,-1.1043736580540338,-1.4724982107387117,-1.8406227634233896,-2.2087473161080675,-2.5768718687927454,-2.9449964214774234,-3.3131209741621013,-3.681245526846779],\"yaxis\":\"y\",\"type\":\"scatter\"},{\"customdata\":[[0.0,0.0003],[1.0,0.0003],[2.0,0.0003],[3.0,0.0003],[4.0,0.0003],[5.0,0.0003],[6.0,0.0002],[7.0,0.0002],[8.0,0.0002],[9.0,0.0002],[10.0,0.0002]],\"hovertemplate\":\"direction=Direction 29\\u003cbr\\u003eDirection 1=%{x}\\u003cbr\\u003eDirection 2=%{y}\\u003cbr\\u003esize=%{marker.size}\\u003cbr\\u003estep=%{customdata[0]}\\u003cbr\\u003ekl_div=%{customdata[1]}\\u003cextra\\u003e\\u003c\\u002fextra\\u003e\",\"legendgroup\":\"Direction 29\",\"marker\":{\"color\":\"#FECB52\",\"size\":[0.9825,0.9857,0.9645,0.9214,0.8602,0.7872,0.7092,0.6338,0.5686,0.5195,0.4914],\"sizemode\":\"area\",\"sizeref\":0.01,\"symbol\":\"circle\"},\"mode\":\"markers\",\"name\":\"Direction 29\",\"orientation\":\"v\",\"showlegend\":true,\"x\":[-0.0,-0.8763066800438635,-1.752613360087727,-2.6289200401315904,-3.505226720175454,-4.381533400219317,-5.257840080263181,-6.134146760307044,-7.010453440350908,-7.886760120394771,-8.763066800438635],\"xaxis\":\"x\",\"y\":[-0.0,-0.4817536741017154,-0.9635073482034308,-1.445261022305146,-1.9270146964068615,-2.408768370508577,-2.890522044610292,-3.372275718712008,-3.854029392813723,-4.335783066915439,-4.817536741017154],\"yaxis\":\"y\",\"type\":\"scatter\"},{\"customdata\":[[0.0,0.0003],[1.0,0.0003],[2.0,0.0003],[3.0,0.0003],[4.0,0.0003],[5.0,0.0003],[6.0,0.0002],[7.0,0.0002],[8.0,0.0002],[9.0,0.0002],[10.0,0.0002]],\"hovertemplate\":\"direction=Direction 30\\u003cbr\\u003eDirection 1=%{x}\\u003cbr\\u003eDirection 2=%{y}\\u003cbr\\u003esize=%{marker.size}\\u003cbr\\u003estep=%{customdata[0]}\\u003cbr\\u003ekl_div=%{customdata[1]}\\u003cextra\\u003e\\u003c\\u002fextra\\u003e\",\"legendgroup\":\"Direction 30\",\"marker\":{\"color\":\"#636efa\",\"size\":[0.9825,0.9816,0.9591,0.9171,0.8597,0.7927,0.723,0.6571,0.6019,0.5626,0.5431],\"sizemode\":\"area\",\"sizeref\":0.01,\"symbol\":\"circle\"},\"mode\":\"markers\",\"name\":\"Direction 30\",\"orientation\":\"v\",\"showlegend\":true,\"x\":[-0.0,-0.8090169943749478,-1.6180339887498956,-2.4270509831248432,-3.236067977499791,-4.045084971874739,-4.8541019662496865,-5.663118960624635,-6.472135954999582,-7.28115294937453,-8.090169943749478],\"xaxis\":\"x\",\"y\":[-0.0,-0.5877852522924727,-1.1755705045849454,-1.763355756877418,-2.3511410091698908,-2.9389262614623632,-3.526711513754836,-4.114496766047309,-4.7022820183397815,-5.290067270632254,-5.8778525229247265],\"yaxis\":\"y\",\"type\":\"scatter\"},{\"customdata\":[[0.0,0.0003],[1.0,0.0003],[2.0,0.0003],[3.0,0.0003],[4.0,0.0003],[5.0,0.0002],[6.0,0.0002],[7.0,0.0002],[8.0,0.0002],[9.0,0.0002],[10.0,0.0002]],\"hovertemplate\":\"direction=Direction 31\\u003cbr\\u003eDirection 1=%{x}\\u003cbr\\u003eDirection 2=%{y}\\u003cbr\\u003esize=%{marker.size}\\u003cbr\\u003estep=%{customdata[0]}\\u003cbr\\u003ekl_div=%{customdata[1]}\\u003cextra\\u003e\\u003c\\u002fextra\\u003e\",\"legendgroup\":\"Direction 31\",\"marker\":{\"color\":\"#EF553B\",\"size\":[0.9825,0.9721,0.9389,0.8859,0.8182,0.7424,0.666,0.5962,0.5397,0.502,0.4868],\"sizemode\":\"area\",\"sizeref\":0.01,\"symbol\":\"circle\"},\"mode\":\"markers\",\"name\":\"Direction 31\",\"orientation\":\"v\",\"showlegend\":true,\"x\":[-0.0,-0.7289686274214118,-1.4579372548428235,-2.1869058822642353,-2.915874509685647,-3.644843137107059,-4.373811764528471,-5.102780391949882,-5.831749019371294,-6.560717646792706,-7.289686274214118],\"xaxis\":\"x\",\"y\":[-0.0,-0.6845471059286884,-1.3690942118573768,-2.0536413177860653,-2.7381884237147536,-3.422735529643442,-4.107282635572131,-4.791829741500819,-5.476376847429507,-6.160923953358195,-6.845471059286884],\"yaxis\":\"y\",\"type\":\"scatter\"},{\"customdata\":[[0.0,0.0003],[1.0,0.0003],[2.0,0.0003],[3.0,0.0003],[4.0,0.0003],[5.0,0.0003],[6.0,0.0002],[7.0,0.0002],[8.0,0.0002],[9.0,0.0002],[10.0,0.0002]],\"hovertemplate\":\"direction=Direction 32\\u003cbr\\u003eDirection 1=%{x}\\u003cbr\\u003eDirection 2=%{y}\\u003cbr\\u003esize=%{marker.size}\\u003cbr\\u003estep=%{customdata[0]}\\u003cbr\\u003ekl_div=%{customdata[1]}\\u003cextra\\u003e\\u003c\\u002fextra\\u003e\",\"legendgroup\":\"Direction 32\",\"marker\":{\"color\":\"#00cc96\",\"size\":[0.9825,0.9799,0.9565,0.9145,0.8577,0.7913,0.7214,0.6547,0.5972,0.554,0.5294],\"sizemode\":\"area\",\"sizeref\":0.01,\"symbol\":\"circle\"},\"mode\":\"markers\",\"name\":\"Direction 32\",\"orientation\":\"v\",\"showlegend\":true,\"x\":[-0.0,-0.6374239897486895,-1.274847979497379,-1.9122719692460686,-2.549695958994758,-3.1871199487434474,-3.824543938492137,-4.461967928240827,-5.099391917989516,-5.7368159077382055,-6.374239897486895],\"xaxis\":\"x\",\"y\":[-0.0,-0.7705132427757894,-1.5410264855515787,-2.311539728327368,-3.0820529711031575,-3.852566213878947,-4.623079456654736,-5.393592699430526,-6.164105942206315,-6.934619184982104,-7.705132427757894],\"yaxis\":\"y\",\"type\":\"scatter\"},{\"customdata\":[[0.0,0.0003],[1.0,0.0003],[2.0,0.0003],[3.0,0.0003],[4.0,0.0003],[5.0,0.0002],[6.0,0.0002],[7.0,0.0002],[8.0,0.0002],[9.0,0.0001],[10.0,0.0001]],\"hovertemplate\":\"direction=Direction 33\\u003cbr\\u003eDirection 1=%{x}\\u003cbr\\u003eDirection 2=%{y}\\u003cbr\\u003esize=%{marker.size}\\u003cbr\\u003estep=%{customdata[0]}\\u003cbr\\u003ekl_div=%{customdata[1]}\\u003cextra\\u003e\\u003c\\u002fextra\\u003e\",\"legendgroup\":\"Direction 33\",\"marker\":{\"color\":\"#ab63fa\",\"size\":[0.9825,0.9637,0.9206,0.8576,0.7808,0.6976,0.6163,0.5444,0.4892,0.456,0.4477],\"sizemode\":\"area\",\"sizeref\":0.01,\"symbol\":\"circle\"},\"mode\":\"markers\",\"name\":\"Direction 33\",\"orientation\":\"v\",\"showlegend\":true,\"x\":[-0.0,-0.5358267949789963,-1.0716535899579926,-1.607480384936989,-2.1433071799159853,-2.679133974894982,-3.214960769873978,-3.750787564852974,-4.286614359831971,-4.822441154810967,-5.358267949789964],\"xaxis\":\"x\",\"y\":[-0.0,-0.8443279255020153,-1.6886558510040306,-2.532983776506046,-3.377311702008061,-4.2216396275100765,-5.065967553012092,-5.910295478514107,-6.754623404016122,-7.598951329518138,-8.443279255020153],\"yaxis\":\"y\",\"type\":\"scatter\"},{\"customdata\":[[0.0,0.0003],[1.0,0.0003],[2.0,0.0003],[3.0,0.0003],[4.0,0.0003],[5.0,0.0002],[6.0,0.0002],[7.0,0.0002],[8.0,0.0002],[9.0,0.0002],[10.0,0.0002]],\"hovertemplate\":\"direction=Direction 34\\u003cbr\\u003eDirection 1=%{x}\\u003cbr\\u003eDirection 2=%{y}\\u003cbr\\u003esize=%{marker.size}\\u003cbr\\u003estep=%{customdata[0]}\\u003cbr\\u003ekl_div=%{customdata[1]}\\u003cextra\\u003e\\u003c\\u002fextra\\u003e\",\"legendgroup\":\"Direction 34\",\"marker\":{\"color\":\"#FFA15A\",\"size\":[0.9825,0.9633,0.9231,0.8653,0.7953,0.7189,0.6435,0.5751,0.5201,0.4836,0.4684],\"sizemode\":\"area\",\"sizeref\":0.01,\"symbol\":\"circle\"},\"mode\":\"markers\",\"name\":\"Direction 34\",\"orientation\":\"v\",\"showlegend\":true,\"x\":[-0.0,-0.42577929156507216,-0.8515585831301443,-1.2773378746952164,-1.7031171662602886,-2.128896457825361,-2.554675749390433,-2.9804550409555053,-3.4062343325205773,-3.8320136240856493,-4.257792915650722],\"xaxis\":\"x\",\"y\":[-0.0,-0.9048270524660198,-1.8096541049320396,-2.714481157398059,-3.619308209864079,-4.524135262330099,-5.428962314796118,-6.333789367262138,-7.238616419728158,-8.143443472194178,-9.048270524660198],\"yaxis\":\"y\",\"type\":\"scatter\"},{\"customdata\":[[0.0,0.0003],[1.0,0.0003],[2.0,0.0003],[3.0,0.0003],[4.0,0.0003],[5.0,0.0002],[6.0,0.0002],[7.0,0.0002],[8.0,0.0002],[9.0,0.0002],[10.0,0.0002]],\"hovertemplate\":\"direction=Direction 35\\u003cbr\\u003eDirection 1=%{x}\\u003cbr\\u003eDirection 2=%{y}\\u003cbr\\u003esize=%{marker.size}\\u003cbr\\u003estep=%{customdata[0]}\\u003cbr\\u003ekl_div=%{customdata[1]}\\u003cextra\\u003e\\u003c\\u002fextra\\u003e\",\"legendgroup\":\"Direction 35\",\"marker\":{\"color\":\"#19d3f3\",\"size\":[0.9825,0.9601,0.9179,0.8604,0.793,0.7223,0.6548,0.5973,0.5551,0.5325,0.5314],\"sizemode\":\"area\",\"sizeref\":0.01,\"symbol\":\"circle\"},\"mode\":\"markers\",\"name\":\"Direction 35\",\"orientation\":\"v\",\"showlegend\":true,\"x\":[-0.0,-0.30901699437494756,-0.6180339887498951,-0.9270509831248427,-1.2360679774997902,-1.5450849718747377,-1.8541019662496854,-2.163118960624633,-2.4721359549995805,-2.781152949374528,-3.0901699437494754],\"xaxis\":\"x\",\"y\":[-0.0,-0.9510565162951535,-1.902113032590307,-2.8531695488854605,-3.804226065180614,-4.755282581475767,-5.706339097770921,-6.657395614066075,-7.608452130361228,-8.559508646656381,-9.510565162951535],\"yaxis\":\"y\",\"type\":\"scatter\"},{\"customdata\":[[0.0,0.0003],[1.0,0.0003],[2.0,0.0003],[3.0,0.0003],[4.0,0.0003],[5.0,0.0002],[6.0,0.0002],[7.0,0.0002],[8.0,0.0002],[9.0,0.0002],[10.0,0.0002]],\"hovertemplate\":\"direction=Direction 36\\u003cbr\\u003eDirection 1=%{x}\\u003cbr\\u003eDirection 2=%{y}\\u003cbr\\u003esize=%{marker.size}\\u003cbr\\u003estep=%{customdata[0]}\\u003cbr\\u003ekl_div=%{customdata[1]}\\u003cextra\\u003e\\u003c\\u002fextra\\u003e\",\"legendgroup\":\"Direction 36\",\"marker\":{\"color\":\"#FF6692\",\"size\":[0.9825,0.9804,0.9526,0.9021,0.8342,0.7556,0.6745,0.5987,0.5364,0.4936,0.4742],\"sizemode\":\"area\",\"sizeref\":0.01,\"symbol\":\"circle\"},\"mode\":\"markers\",\"name\":\"Direction 36\",\"orientation\":\"v\",\"showlegend\":true,\"x\":[-0.0,-0.18738131458572463,-0.37476262917144926,-0.5621439437571739,-0.7495252583428985,-0.9369065729286231,-1.1242878875143478,-1.3116692021000724,-1.499050516685797,-1.6864318312715216,-1.8738131458572462],\"xaxis\":\"x\",\"y\":[-0.0,-0.9822872507286887,-1.9645745014573774,-2.946861752186066,-3.929149002914755,-4.911436253643443,-5.893723504372132,-6.876010755100821,-7.85829800582951,-8.840585256558198,-9.822872507286887],\"yaxis\":\"y\",\"type\":\"scatter\"},{\"customdata\":[[0.0,0.0003],[1.0,0.0003],[2.0,0.0003],[3.0,0.0003],[4.0,0.0003],[5.0,0.0002],[6.0,0.0002],[7.0,0.0002],[8.0,0.0002],[9.0,0.0002],[10.0,0.0002]],\"hovertemplate\":\"direction=Direction 37\\u003cbr\\u003eDirection 1=%{x}\\u003cbr\\u003eDirection 2=%{y}\\u003cbr\\u003esize=%{marker.size}\\u003cbr\\u003estep=%{customdata[0]}\\u003cbr\\u003ekl_div=%{customdata[1]}\\u003cextra\\u003e\\u003c\\u002fextra\\u003e\",\"legendgroup\":\"Direction 37\",\"marker\":{\"color\":\"#B6E880\",\"size\":[0.9825,0.9637,0.9271,0.8766,0.8161,0.7513,0.6877,0.6312,0.5864,0.5577,0.5474],\"sizemode\":\"area\",\"sizeref\":0.01,\"symbol\":\"circle\"},\"mode\":\"markers\",\"name\":\"Direction 37\",\"orientation\":\"v\",\"showlegend\":true,\"x\":[-0.0,-0.06279051952931321,-0.12558103905862641,-0.18837155858793964,-0.25116207811725283,-0.313952597646566,-0.37674311717587927,-0.43953363670519247,-0.5023241562345057,-0.5651146757638189,-0.627905195293132],\"xaxis\":\"x\",\"y\":[-0.0,-0.9980267284282716,-1.9960534568565431,-2.9940801852848145,-3.9921069137130862,-4.990133642141358,-5.988160370569629,-6.986187098997901,-7.9842138274261725,-8.982240555854444,-9.980267284282716],\"yaxis\":\"y\",\"type\":\"scatter\"},{\"customdata\":[[0.0,0.0003],[1.0,0.0003],[2.0,0.0003],[3.0,0.0003],[4.0,0.0003],[5.0,0.0003],[6.0,0.0002],[7.0,0.0002],[8.0,0.0002],[9.0,0.0002],[10.0,0.0002]],\"hovertemplate\":\"direction=Direction 38\\u003cbr\\u003eDirection 1=%{x}\\u003cbr\\u003eDirection 2=%{y}\\u003cbr\\u003esize=%{marker.size}\\u003cbr\\u003estep=%{customdata[0]}\\u003cbr\\u003ekl_div=%{customdata[1]}\\u003cextra\\u003e\\u003c\\u002fextra\\u003e\",\"legendgroup\":\"Direction 38\",\"marker\":{\"color\":\"#FF97FF\",\"size\":[0.9825,0.9943,0.9785,0.9368,0.8737,0.7955,0.7109,0.6283,0.556,0.502,0.4713],\"sizemode\":\"area\",\"sizeref\":0.01,\"symbol\":\"circle\"},\"mode\":\"markers\",\"name\":\"Direction 38\",\"orientation\":\"v\",\"showlegend\":true,\"x\":[0.0,0.06279051952931283,0.12558103905862567,0.1883715585879385,0.25116207811725133,0.31395259764656414,0.376743117175877,0.43953363670518986,0.5023241562345027,0.5651146757638155,0.6279051952931283],\"xaxis\":\"x\",\"y\":[-0.0,-0.9980267284282716,-1.9960534568565431,-2.9940801852848145,-3.9921069137130862,-4.990133642141358,-5.988160370569629,-6.986187098997901,-7.9842138274261725,-8.982240555854444,-9.980267284282716],\"yaxis\":\"y\",\"type\":\"scatter\"},{\"customdata\":[[0.0,0.0003],[1.0,0.0003],[2.0,0.0003],[3.0,0.0003],[4.0,0.0003],[5.0,0.0002],[6.0,0.0002],[7.0,0.0002],[8.0,0.0002],[9.0,0.0002],[10.0,0.0002]],\"hovertemplate\":\"direction=Direction 39\\u003cbr\\u003eDirection 1=%{x}\\u003cbr\\u003eDirection 2=%{y}\\u003cbr\\u003esize=%{marker.size}\\u003cbr\\u003estep=%{customdata[0]}\\u003cbr\\u003ekl_div=%{customdata[1]}\\u003cextra\\u003e\\u003c\\u002fextra\\u003e\",\"legendgroup\":\"Direction 39\",\"marker\":{\"color\":\"#FECB52\",\"size\":[0.9825,0.9746,0.9444,0.8951,0.8318,0.7604,0.688,0.6217,0.5678,0.5319,0.517],\"sizemode\":\"area\",\"sizeref\":0.01,\"symbol\":\"circle\"},\"mode\":\"markers\",\"name\":\"Direction 39\",\"orientation\":\"v\",\"showlegend\":true,\"x\":[0.0,0.18738131458572427,0.37476262917144854,0.5621439437571728,0.7495252583428971,0.9369065729286213,1.1242878875143456,1.3116692021000698,1.4990505166857941,1.6864318312715185,1.8738131458572427],\"xaxis\":\"x\",\"y\":[-0.0,-0.9822872507286887,-1.9645745014573774,-2.946861752186066,-3.929149002914755,-4.911436253643443,-5.893723504372132,-6.876010755100821,-7.85829800582951,-8.840585256558198,-9.822872507286887],\"yaxis\":\"y\",\"type\":\"scatter\"},{\"customdata\":[[0.0,0.0003],[1.0,0.0003],[2.0,0.0003],[3.0,0.0003],[4.0,0.0003],[5.0,0.0003],[6.0,0.0002],[7.0,0.0002],[8.0,0.0002],[9.0,0.0002],[10.0,0.0002]],\"hovertemplate\":\"direction=Direction 40\\u003cbr\\u003eDirection 1=%{x}\\u003cbr\\u003eDirection 2=%{y}\\u003cbr\\u003esize=%{marker.size}\\u003cbr\\u003estep=%{customdata[0]}\\u003cbr\\u003ekl_div=%{customdata[1]}\\u003cextra\\u003e\\u003c\\u002fextra\\u003e\",\"legendgroup\":\"Direction 40\",\"marker\":{\"color\":\"#636efa\",\"size\":[0.9825,1.0,0.9935,0.9629,0.9122,0.8455,0.7699,0.6928,0.6216,0.5629,0.5228],\"sizemode\":\"area\",\"sizeref\":0.01,\"symbol\":\"circle\"},\"mode\":\"markers\",\"name\":\"Direction 40\",\"orientation\":\"v\",\"showlegend\":true,\"x\":[0.0,0.30901699437494723,0.6180339887498945,0.9270509831248417,1.236067977499789,1.5450849718747361,1.8541019662496834,2.1631189606246304,2.472135954999578,2.7811529493745253,3.0901699437494723],\"xaxis\":\"x\",\"y\":[-0.0,-0.9510565162951536,-1.9021130325903073,-2.853169548885461,-3.8042260651806146,-4.755282581475768,-5.706339097770922,-6.6573956140660755,-7.608452130361229,-8.559508646656383,-9.510565162951536],\"yaxis\":\"y\",\"type\":\"scatter\"},{\"customdata\":[[0.0,0.0003],[1.0,0.0003],[2.0,0.0003],[3.0,0.0003],[4.0,0.0003],[5.0,0.0002],[6.0,0.0002],[7.0,0.0002],[8.0,0.0002],[9.0,0.0002],[10.0,0.0002]],\"hovertemplate\":\"direction=Direction 41\\u003cbr\\u003eDirection 1=%{x}\\u003cbr\\u003eDirection 2=%{y}\\u003cbr\\u003esize=%{marker.size}\\u003cbr\\u003estep=%{customdata[0]}\\u003cbr\\u003ekl_div=%{customdata[1]}\\u003cextra\\u003e\\u003c\\u002fextra\\u003e\",\"legendgroup\":\"Direction 41\",\"marker\":{\"color\":\"#EF553B\",\"size\":[0.9825,0.9706,0.9346,0.8787,0.8078,0.7299,0.6521,0.5826,0.5283,0.4945,0.4847],\"sizemode\":\"area\",\"sizeref\":0.01,\"symbol\":\"circle\"},\"mode\":\"markers\",\"name\":\"Direction 41\",\"orientation\":\"v\",\"showlegend\":true,\"x\":[0.0,0.4257792915650718,0.8515585831301437,1.2773378746952155,1.7031171662602873,2.128896457825359,2.554675749390431,2.9804550409555026,3.4062343325205746,3.8320136240856466,4.257792915650718],\"xaxis\":\"x\",\"y\":[-0.0,-0.9048270524660199,-1.8096541049320398,-2.7144811573980596,-3.6193082098640796,-4.524135262330099,-5.428962314796119,-6.333789367262139,-7.238616419728159,-8.143443472194178,-9.048270524660198],\"yaxis\":\"y\",\"type\":\"scatter\"},{\"customdata\":[[0.0,0.0003],[1.0,0.0003],[2.0,0.0003],[3.0,0.0003],[4.0,0.0003],[5.0,0.0002],[6.0,0.0002],[7.0,0.0002],[8.0,0.0002],[9.0,0.0002],[10.0,0.0002]],\"hovertemplate\":\"direction=Direction 42\\u003cbr\\u003eDirection 1=%{x}\\u003cbr\\u003eDirection 2=%{y}\\u003cbr\\u003esize=%{marker.size}\\u003cbr\\u003estep=%{customdata[0]}\\u003cbr\\u003ekl_div=%{customdata[1]}\\u003cextra\\u003e\\u003c\\u002fextra\\u003e\",\"legendgroup\":\"Direction 42\",\"marker\":{\"color\":\"#00cc96\",\"size\":[0.9825,0.9665,0.9285,0.8721,0.8027,0.7269,0.6519,0.585,0.5324,0.499,0.4882],\"sizemode\":\"area\",\"sizeref\":0.01,\"symbol\":\"circle\"},\"mode\":\"markers\",\"name\":\"Direction 42\",\"orientation\":\"v\",\"showlegend\":true,\"x\":[0.0,0.5358267949789968,1.0716535899579935,1.6074803849369903,2.143307179915987,2.6791339748949836,3.2149607698739806,3.7507875648529776,4.286614359831974,4.822441154810971,5.358267949789967],\"xaxis\":\"x\",\"y\":[-0.0,-0.844327925502015,-1.68865585100403,-2.532983776506045,-3.37731170200806,-4.221639627510075,-5.06596755301209,-5.910295478514104,-6.75462340401612,-7.598951329518135,-8.44327925502015],\"yaxis\":\"y\",\"type\":\"scatter\"},{\"customdata\":[[0.0,0.0003],[1.0,0.0003],[2.0,0.0003],[3.0,0.0003],[4.0,0.0003],[5.0,0.0002],[6.0,0.0002],[7.0,0.0002],[8.0,0.0002],[9.0,0.0002],[10.0,0.0002]],\"hovertemplate\":\"direction=Direction 43\\u003cbr\\u003eDirection 1=%{x}\\u003cbr\\u003eDirection 2=%{y}\\u003cbr\\u003esize=%{marker.size}\\u003cbr\\u003estep=%{customdata[0]}\\u003cbr\\u003ekl_div=%{customdata[1]}\\u003cextra\\u003e\\u003c\\u002fextra\\u003e\",\"legendgroup\":\"Direction 43\",\"marker\":{\"color\":\"#ab63fa\",\"size\":[0.9825,0.9631,0.9275,0.8791,0.8221,0.7612,0.7019,0.649,0.6074,0.5805,0.5704],\"sizemode\":\"area\",\"sizeref\":0.01,\"symbol\":\"circle\"},\"mode\":\"markers\",\"name\":\"Direction 43\",\"orientation\":\"v\",\"showlegend\":true,\"x\":[0.0,0.6374239897486893,1.2748479794973786,1.912271969246068,2.549695958994757,3.1871199487434465,3.824543938492136,4.461967928240825,5.099391917989514,5.736815907738204,6.374239897486893],\"xaxis\":\"x\",\"y\":[-0.0,-0.7705132427757896,-1.5410264855515792,-2.311539728327369,-3.0820529711031583,-3.852566213878948,-4.623079456654738,-5.393592699430527,-6.164105942206317,-6.934619184982107,-7.705132427757896],\"yaxis\":\"y\",\"type\":\"scatter\"},{\"customdata\":[[0.0,0.0003],[1.0,0.0003],[2.0,0.0003],[3.0,0.0003],[4.0,0.0003],[5.0,0.0002],[6.0,0.0002],[7.0,0.0002],[8.0,0.0002],[9.0,0.0002],[10.0,0.0001]],\"hovertemplate\":\"direction=Direction 44\\u003cbr\\u003eDirection 1=%{x}\\u003cbr\\u003eDirection 2=%{y}\\u003cbr\\u003esize=%{marker.size}\\u003cbr\\u003estep=%{customdata[0]}\\u003cbr\\u003ekl_div=%{customdata[1]}\\u003cextra\\u003e\\u003c\\u002fextra\\u003e\",\"legendgroup\":\"Direction 44\",\"marker\":{\"color\":\"#FFA15A\",\"size\":[0.9825,0.9711,0.9357,0.8793,0.8076,0.7276,0.6468,0.573,0.5131,0.4731,0.4564],\"sizemode\":\"area\",\"sizeref\":0.01,\"symbol\":\"circle\"},\"mode\":\"markers\",\"name\":\"Direction 44\",\"orientation\":\"v\",\"showlegend\":true,\"x\":[0.0,0.7289686274214112,1.4579372548428224,2.1869058822642335,2.915874509685645,3.644843137107056,4.373811764528467,5.102780391949879,5.83174901937129,6.560717646792701,7.289686274214112],\"xaxis\":\"x\",\"y\":[-0.0,-0.684547105928689,-1.369094211857378,-2.0536413177860666,-2.738188423714756,-3.422735529643445,-4.107282635572133,-4.791829741500822,-5.476376847429512,-6.160923953358201,-6.84547105928689],\"yaxis\":\"y\",\"type\":\"scatter\"},{\"customdata\":[[0.0,0.0003],[1.0,0.0003],[2.0,0.0003],[3.0,0.0003],[4.0,0.0002],[5.0,0.0002],[6.0,0.0002],[7.0,0.0002],[8.0,0.0002],[9.0,0.0002],[10.0,0.0002]],\"hovertemplate\":\"direction=Direction 45\\u003cbr\\u003eDirection 1=%{x}\\u003cbr\\u003eDirection 2=%{y}\\u003cbr\\u003esize=%{marker.size}\\u003cbr\\u003estep=%{customdata[0]}\\u003cbr\\u003ekl_div=%{customdata[1]}\\u003cextra\\u003e\\u003c\\u002fextra\\u003e\",\"legendgroup\":\"Direction 45\",\"marker\":{\"color\":\"#19d3f3\",\"size\":[0.9825,0.9532,0.9019,0.8339,0.7561,0.6766,0.6031,0.5433,0.503,0.4868,0.4956],\"sizemode\":\"area\",\"sizeref\":0.01,\"symbol\":\"circle\"},\"mode\":\"markers\",\"name\":\"Direction 45\",\"orientation\":\"v\",\"showlegend\":true,\"x\":[0.0,0.8090169943749473,1.6180339887498947,2.427050983124842,3.2360679774997894,4.045084971874736,4.854101966249684,5.663118960624631,6.472135954999579,7.281152949374526,8.090169943749473],\"xaxis\":\"x\",\"y\":[-0.0,-0.5877852522924734,-1.1755705045849467,-1.76335575687742,-2.3511410091698934,-2.938926261462367,-3.52671151375484,-4.1144967660473135,-4.702282018339787,-5.29006727063226,-5.877852522924734],\"yaxis\":\"y\",\"type\":\"scatter\"},{\"customdata\":[[0.0,0.0003],[1.0,0.0003],[2.0,0.0003],[3.0,0.0003],[4.0,0.0003],[5.0,0.0002],[6.0,0.0002],[7.0,0.0002],[8.0,0.0002],[9.0,0.0002],[10.0,0.0002]],\"hovertemplate\":\"direction=Direction 46\\u003cbr\\u003eDirection 1=%{x}\\u003cbr\\u003eDirection 2=%{y}\\u003cbr\\u003esize=%{marker.size}\\u003cbr\\u003estep=%{customdata[0]}\\u003cbr\\u003ekl_div=%{customdata[1]}\\u003cextra\\u003e\\u003c\\u002fextra\\u003e\",\"legendgroup\":\"Direction 46\",\"marker\":{\"color\":\"#FF6692\",\"size\":[0.9825,0.9694,0.9341,0.8802,0.8128,0.7384,0.6643,0.5979,0.5454,0.5121,0.5011],\"sizemode\":\"area\",\"sizeref\":0.01,\"symbol\":\"circle\"},\"mode\":\"markers\",\"name\":\"Direction 46\",\"orientation\":\"v\",\"showlegend\":true,\"x\":[0.0,0.8763066800438631,1.7526133600877263,2.6289200401315895,3.5052267201754526,4.381533400219316,5.257840080263179,6.134146760307042,7.010453440350905,7.886760120394769,8.763066800438631],\"xaxis\":\"x\",\"y\":[-0.0,-0.4817536741017161,-0.9635073482034322,-1.4452610223051483,-1.9270146964068644,-2.4087683705085805,-2.8905220446102966,-3.3722757187120127,-3.854029392813729,-4.335783066915445,-4.817536741017161],\"yaxis\":\"y\",\"type\":\"scatter\"},{\"customdata\":[[0.0,0.0003],[1.0,0.0003],[2.0,0.0003],[3.0,0.0003],[4.0,0.0003],[5.0,0.0002],[6.0,0.0002],[7.0,0.0002],[8.0,0.0002],[9.0,0.0002],[10.0,0.0002]],\"hovertemplate\":\"direction=Direction 47\\u003cbr\\u003eDirection 1=%{x}\\u003cbr\\u003eDirection 2=%{y}\\u003cbr\\u003esize=%{marker.size}\\u003cbr\\u003estep=%{customdata[0]}\\u003cbr\\u003ekl_div=%{customdata[1]}\\u003cextra\\u003e\\u003c\\u002fextra\\u003e\",\"legendgroup\":\"Direction 47\",\"marker\":{\"color\":\"#B6E880\",\"size\":[0.9825,0.9736,0.944,0.8958,0.8343,0.7649,0.6942,0.6295,0.5763,0.5401,0.5243],\"sizemode\":\"area\",\"sizeref\":0.01,\"symbol\":\"circle\"},\"mode\":\"markers\",\"name\":\"Direction 47\",\"orientation\":\"v\",\"showlegend\":true,\"x\":[0.0,0.9297764858882515,1.859552971776503,2.7893294576647545,3.719105943553006,4.648882429441257,5.578658915329509,6.50843540121776,7.438211887106012,8.367988372994263,9.297764858882514],\"xaxis\":\"x\",\"y\":[-0.0,-0.36812455268467786,-0.7362491053693557,-1.1043736580540335,-1.4724982107387115,-1.8406227634233894,-2.208747316108067,-2.576871868792745,-2.944996421477423,-3.313120974162101,-3.6812455268467787],\"yaxis\":\"y\",\"type\":\"scatter\"},{\"customdata\":[[0.0,0.0003],[1.0,0.0003],[2.0,0.0003],[3.0,0.0003],[4.0,0.0003],[5.0,0.0002],[6.0,0.0002],[7.0,0.0002],[8.0,0.0002],[9.0,0.0002],[10.0,0.0002]],\"hovertemplate\":\"direction=Direction 48\\u003cbr\\u003eDirection 1=%{x}\\u003cbr\\u003eDirection 2=%{y}\\u003cbr\\u003esize=%{marker.size}\\u003cbr\\u003estep=%{customdata[0]}\\u003cbr\\u003ekl_div=%{customdata[1]}\\u003cextra\\u003e\\u003c\\u002fextra\\u003e\",\"legendgroup\":\"Direction 48\",\"marker\":{\"color\":\"#FF97FF\",\"size\":[0.9825,0.9665,0.927,0.8673,0.7939,0.7133,0.6337,0.5629,0.5076,0.4731,0.4626],\"sizemode\":\"area\",\"sizeref\":0.01,\"symbol\":\"circle\"},\"mode\":\"markers\",\"name\":\"Direction 48\",\"orientation\":\"v\",\"showlegend\":true,\"x\":[0.0,0.968583161128631,1.937166322257262,2.905749483385893,3.874332644514524,4.8429158056431545,5.811498966771786,6.780082127900417,7.748665289029048,8.717248450157678,9.685831611286309],\"xaxis\":\"x\",\"y\":[-0.0,-0.24868988716485535,-0.4973797743297107,-0.7460696614945661,-0.9947595486594214,-1.2434494358242767,-1.4921393229891322,-1.7408292101539875,-1.9895190973188428,-2.2382089844836983,-2.4868988716485534],\"yaxis\":\"y\",\"type\":\"scatter\"},{\"customdata\":[[0.0,0.0003],[1.0,0.0003],[2.0,0.0003],[3.0,0.0003],[4.0,0.0003],[5.0,0.0002],[6.0,0.0002],[7.0,0.0002],[8.0,0.0002],[9.0,0.0002],[10.0,0.0002]],\"hovertemplate\":\"direction=Direction 49\\u003cbr\\u003eDirection 1=%{x}\\u003cbr\\u003eDirection 2=%{y}\\u003cbr\\u003esize=%{marker.size}\\u003cbr\\u003estep=%{customdata[0]}\\u003cbr\\u003ekl_div=%{customdata[1]}\\u003cextra\\u003e\\u003c\\u002fextra\\u003e\",\"legendgroup\":\"Direction 49\",\"marker\":{\"color\":\"#FECB52\",\"size\":[0.9825,0.967,0.9294,0.8733,0.8046,0.7296,0.6562,0.5914,0.5418,0.5119,0.5051],\"sizemode\":\"area\",\"sizeref\":0.01,\"symbol\":\"circle\"},\"mode\":\"markers\",\"name\":\"Direction 49\",\"orientation\":\"v\",\"showlegend\":true,\"x\":[0.0,0.9921147013144778,1.9842294026289555,2.9763441039434335,3.968458805257911,4.960573506572389,5.952688207886867,6.944802909201345,7.936917610515822,8.9290323118303,9.921147013144777],\"xaxis\":\"x\",\"y\":[-0.0,-0.12533323356430465,-0.2506664671286093,-0.37599970069291394,-0.5013329342572186,-0.6266661678215233,-0.7519994013858279,-0.8773326349501325,-1.0026658685144372,-1.1279991020787419,-1.2533323356430466],\"yaxis\":\"y\",\"type\":\"scatter\"}],                        {\"template\":{\"data\":{\"histogram2dcontour\":[{\"type\":\"histogram2dcontour\",\"colorbar\":{\"outlinewidth\":0,\"ticks\":\"\"},\"colorscale\":[[0.0,\"#0d0887\"],[0.1111111111111111,\"#46039f\"],[0.2222222222222222,\"#7201a8\"],[0.3333333333333333,\"#9c179e\"],[0.4444444444444444,\"#bd3786\"],[0.5555555555555556,\"#d8576b\"],[0.6666666666666666,\"#ed7953\"],[0.7777777777777778,\"#fb9f3a\"],[0.8888888888888888,\"#fdca26\"],[1.0,\"#f0f921\"]]}],\"choropleth\":[{\"type\":\"choropleth\",\"colorbar\":{\"outlinewidth\":0,\"ticks\":\"\"}}],\"histogram2d\":[{\"type\":\"histogram2d\",\"colorbar\":{\"outlinewidth\":0,\"ticks\":\"\"},\"colorscale\":[[0.0,\"#0d0887\"],[0.1111111111111111,\"#46039f\"],[0.2222222222222222,\"#7201a8\"],[0.3333333333333333,\"#9c179e\"],[0.4444444444444444,\"#bd3786\"],[0.5555555555555556,\"#d8576b\"],[0.6666666666666666,\"#ed7953\"],[0.7777777777777778,\"#fb9f3a\"],[0.8888888888888888,\"#fdca26\"],[1.0,\"#f0f921\"]]}],\"heatmap\":[{\"type\":\"heatmap\",\"colorbar\":{\"outlinewidth\":0,\"ticks\":\"\"},\"colorscale\":[[0.0,\"#0d0887\"],[0.1111111111111111,\"#46039f\"],[0.2222222222222222,\"#7201a8\"],[0.3333333333333333,\"#9c179e\"],[0.4444444444444444,\"#bd3786\"],[0.5555555555555556,\"#d8576b\"],[0.6666666666666666,\"#ed7953\"],[0.7777777777777778,\"#fb9f3a\"],[0.8888888888888888,\"#fdca26\"],[1.0,\"#f0f921\"]]}],\"heatmapgl\":[{\"type\":\"heatmapgl\",\"colorbar\":{\"outlinewidth\":0,\"ticks\":\"\"},\"colorscale\":[[0.0,\"#0d0887\"],[0.1111111111111111,\"#46039f\"],[0.2222222222222222,\"#7201a8\"],[0.3333333333333333,\"#9c179e\"],[0.4444444444444444,\"#bd3786\"],[0.5555555555555556,\"#d8576b\"],[0.6666666666666666,\"#ed7953\"],[0.7777777777777778,\"#fb9f3a\"],[0.8888888888888888,\"#fdca26\"],[1.0,\"#f0f921\"]]}],\"contourcarpet\":[{\"type\":\"contourcarpet\",\"colorbar\":{\"outlinewidth\":0,\"ticks\":\"\"}}],\"contour\":[{\"type\":\"contour\",\"colorbar\":{\"outlinewidth\":0,\"ticks\":\"\"},\"colorscale\":[[0.0,\"#0d0887\"],[0.1111111111111111,\"#46039f\"],[0.2222222222222222,\"#7201a8\"],[0.3333333333333333,\"#9c179e\"],[0.4444444444444444,\"#bd3786\"],[0.5555555555555556,\"#d8576b\"],[0.6666666666666666,\"#ed7953\"],[0.7777777777777778,\"#fb9f3a\"],[0.8888888888888888,\"#fdca26\"],[1.0,\"#f0f921\"]]}],\"surface\":[{\"type\":\"surface\",\"colorbar\":{\"outlinewidth\":0,\"ticks\":\"\"},\"colorscale\":[[0.0,\"#0d0887\"],[0.1111111111111111,\"#46039f\"],[0.2222222222222222,\"#7201a8\"],[0.3333333333333333,\"#9c179e\"],[0.4444444444444444,\"#bd3786\"],[0.5555555555555556,\"#d8576b\"],[0.6666666666666666,\"#ed7953\"],[0.7777777777777778,\"#fb9f3a\"],[0.8888888888888888,\"#fdca26\"],[1.0,\"#f0f921\"]]}],\"mesh3d\":[{\"type\":\"mesh3d\",\"colorbar\":{\"outlinewidth\":0,\"ticks\":\"\"}}],\"scatter\":[{\"fillpattern\":{\"fillmode\":\"overlay\",\"size\":10,\"solidity\":0.2},\"type\":\"scatter\"}],\"parcoords\":[{\"type\":\"parcoords\",\"line\":{\"colorbar\":{\"outlinewidth\":0,\"ticks\":\"\"}}}],\"scatterpolargl\":[{\"type\":\"scatterpolargl\",\"marker\":{\"colorbar\":{\"outlinewidth\":0,\"ticks\":\"\"}}}],\"bar\":[{\"error_x\":{\"color\":\"#2a3f5f\"},\"error_y\":{\"color\":\"#2a3f5f\"},\"marker\":{\"line\":{\"color\":\"#E5ECF6\",\"width\":0.5},\"pattern\":{\"fillmode\":\"overlay\",\"size\":10,\"solidity\":0.2}},\"type\":\"bar\"}],\"scattergeo\":[{\"type\":\"scattergeo\",\"marker\":{\"colorbar\":{\"outlinewidth\":0,\"ticks\":\"\"}}}],\"scatterpolar\":[{\"type\":\"scatterpolar\",\"marker\":{\"colorbar\":{\"outlinewidth\":0,\"ticks\":\"\"}}}],\"histogram\":[{\"marker\":{\"pattern\":{\"fillmode\":\"overlay\",\"size\":10,\"solidity\":0.2}},\"type\":\"histogram\"}],\"scattergl\":[{\"type\":\"scattergl\",\"marker\":{\"colorbar\":{\"outlinewidth\":0,\"ticks\":\"\"}}}],\"scatter3d\":[{\"type\":\"scatter3d\",\"line\":{\"colorbar\":{\"outlinewidth\":0,\"ticks\":\"\"}},\"marker\":{\"colorbar\":{\"outlinewidth\":0,\"ticks\":\"\"}}}],\"scattermapbox\":[{\"type\":\"scattermapbox\",\"marker\":{\"colorbar\":{\"outlinewidth\":0,\"ticks\":\"\"}}}],\"scatterternary\":[{\"type\":\"scatterternary\",\"marker\":{\"colorbar\":{\"outlinewidth\":0,\"ticks\":\"\"}}}],\"scattercarpet\":[{\"type\":\"scattercarpet\",\"marker\":{\"colorbar\":{\"outlinewidth\":0,\"ticks\":\"\"}}}],\"carpet\":[{\"aaxis\":{\"endlinecolor\":\"#2a3f5f\",\"gridcolor\":\"white\",\"linecolor\":\"white\",\"minorgridcolor\":\"white\",\"startlinecolor\":\"#2a3f5f\"},\"baxis\":{\"endlinecolor\":\"#2a3f5f\",\"gridcolor\":\"white\",\"linecolor\":\"white\",\"minorgridcolor\":\"white\",\"startlinecolor\":\"#2a3f5f\"},\"type\":\"carpet\"}],\"table\":[{\"cells\":{\"fill\":{\"color\":\"#EBF0F8\"},\"line\":{\"color\":\"white\"}},\"header\":{\"fill\":{\"color\":\"#C8D4E3\"},\"line\":{\"color\":\"white\"}},\"type\":\"table\"}],\"barpolar\":[{\"marker\":{\"line\":{\"color\":\"#E5ECF6\",\"width\":0.5},\"pattern\":{\"fillmode\":\"overlay\",\"size\":10,\"solidity\":0.2}},\"type\":\"barpolar\"}],\"pie\":[{\"automargin\":true,\"type\":\"pie\"}]},\"layout\":{\"autotypenumbers\":\"strict\",\"colorway\":[\"#636efa\",\"#EF553B\",\"#00cc96\",\"#ab63fa\",\"#FFA15A\",\"#19d3f3\",\"#FF6692\",\"#B6E880\",\"#FF97FF\",\"#FECB52\"],\"font\":{\"color\":\"#2a3f5f\"},\"hovermode\":\"closest\",\"hoverlabel\":{\"align\":\"left\"},\"paper_bgcolor\":\"white\",\"plot_bgcolor\":\"#E5ECF6\",\"polar\":{\"bgcolor\":\"#E5ECF6\",\"angularaxis\":{\"gridcolor\":\"white\",\"linecolor\":\"white\",\"ticks\":\"\"},\"radialaxis\":{\"gridcolor\":\"white\",\"linecolor\":\"white\",\"ticks\":\"\"}},\"ternary\":{\"bgcolor\":\"#E5ECF6\",\"aaxis\":{\"gridcolor\":\"white\",\"linecolor\":\"white\",\"ticks\":\"\"},\"baxis\":{\"gridcolor\":\"white\",\"linecolor\":\"white\",\"ticks\":\"\"},\"caxis\":{\"gridcolor\":\"white\",\"linecolor\":\"white\",\"ticks\":\"\"}},\"coloraxis\":{\"colorbar\":{\"outlinewidth\":0,\"ticks\":\"\"}},\"colorscale\":{\"sequential\":[[0.0,\"#0d0887\"],[0.1111111111111111,\"#46039f\"],[0.2222222222222222,\"#7201a8\"],[0.3333333333333333,\"#9c179e\"],[0.4444444444444444,\"#bd3786\"],[0.5555555555555556,\"#d8576b\"],[0.6666666666666666,\"#ed7953\"],[0.7777777777777778,\"#fb9f3a\"],[0.8888888888888888,\"#fdca26\"],[1.0,\"#f0f921\"]],\"sequentialminus\":[[0.0,\"#0d0887\"],[0.1111111111111111,\"#46039f\"],[0.2222222222222222,\"#7201a8\"],[0.3333333333333333,\"#9c179e\"],[0.4444444444444444,\"#bd3786\"],[0.5555555555555556,\"#d8576b\"],[0.6666666666666666,\"#ed7953\"],[0.7777777777777778,\"#fb9f3a\"],[0.8888888888888888,\"#fdca26\"],[1.0,\"#f0f921\"]],\"diverging\":[[0,\"#8e0152\"],[0.1,\"#c51b7d\"],[0.2,\"#de77ae\"],[0.3,\"#f1b6da\"],[0.4,\"#fde0ef\"],[0.5,\"#f7f7f7\"],[0.6,\"#e6f5d0\"],[0.7,\"#b8e186\"],[0.8,\"#7fbc41\"],[0.9,\"#4d9221\"],[1,\"#276419\"]]},\"xaxis\":{\"gridcolor\":\"white\",\"linecolor\":\"white\",\"ticks\":\"\",\"title\":{\"standoff\":15},\"zerolinecolor\":\"white\",\"automargin\":true,\"zerolinewidth\":2},\"yaxis\":{\"gridcolor\":\"white\",\"linecolor\":\"white\",\"ticks\":\"\",\"title\":{\"standoff\":15},\"zerolinecolor\":\"white\",\"automargin\":true,\"zerolinewidth\":2},\"scene\":{\"xaxis\":{\"backgroundcolor\":\"#E5ECF6\",\"gridcolor\":\"white\",\"linecolor\":\"white\",\"showbackground\":true,\"ticks\":\"\",\"zerolinecolor\":\"white\",\"gridwidth\":2},\"yaxis\":{\"backgroundcolor\":\"#E5ECF6\",\"gridcolor\":\"white\",\"linecolor\":\"white\",\"showbackground\":true,\"ticks\":\"\",\"zerolinecolor\":\"white\",\"gridwidth\":2},\"zaxis\":{\"backgroundcolor\":\"#E5ECF6\",\"gridcolor\":\"white\",\"linecolor\":\"white\",\"showbackground\":true,\"ticks\":\"\",\"zerolinecolor\":\"white\",\"gridwidth\":2}},\"shapedefaults\":{\"line\":{\"color\":\"#2a3f5f\"}},\"annotationdefaults\":{\"arrowcolor\":\"#2a3f5f\",\"arrowhead\":0,\"arrowwidth\":1},\"geo\":{\"bgcolor\":\"white\",\"landcolor\":\"#E5ECF6\",\"subunitcolor\":\"white\",\"showland\":true,\"showlakes\":true,\"lakecolor\":\"white\"},\"title\":{\"x\":0.05},\"mapbox\":{\"style\":\"light\"}}},\"xaxis\":{\"anchor\":\"y\",\"domain\":[0.0,1.0],\"title\":{\"text\":\"Direction 1\"},\"showticklabels\":false,\"showgrid\":false,\"zeroline\":false,\"range\":[-11.0,11.0]},\"yaxis\":{\"anchor\":\"x\",\"domain\":[0.0,1.0],\"title\":{\"text\":\"Direction 2\"},\"showticklabels\":false,\"showgrid\":false,\"zeroline\":false,\"range\":[-11.0,11.0],\"scaleanchor\":\"x\",\"scaleratio\":1},\"legend\":{\"title\":{\"text\":\"Directions\"},\"tracegroupgap\":0,\"itemsizing\":\"constant\"},\"title\":{\"text\":\"KL Divergence Trajectories - SAE 11, Feature 0\"},\"showlegend\":true,\"hovermode\":\"closest\",\"width\":800,\"height\":800},                        {\"responsive\": true}                    ).then(function(){\n",
       "                            \n",
       "var gd = document.getElementById('0bf86961-c43b-4667-b12a-ad19d7b050ad');\n",
       "var x = new MutationObserver(function (mutations, observer) {{\n",
       "        var display = window.getComputedStyle(gd).display;\n",
       "        if (!display || display === 'none') {{\n",
       "            console.log([gd, 'removed!']);\n",
       "            Plotly.purge(gd);\n",
       "            observer.disconnect();\n",
       "        }}\n",
       "}});\n",
       "\n",
       "// Listen for the removal of the full notebook cells\n",
       "var notebookContainer = gd.closest('#notebook-container');\n",
       "if (notebookContainer) {{\n",
       "    x.observe(notebookContainer, {childList: true});\n",
       "}}\n",
       "\n",
       "// Listen for the clearing of the current output cell\n",
       "var outputEl = gd.closest('.output');\n",
       "if (outputEl) {{\n",
       "    x.observe(outputEl, {childList: true});\n",
       "}}\n",
       "\n",
       "                        })                };                });            </script>        </div>"
      ]
     },
     "metadata": {},
     "output_type": "display_data"
    }
   ],
   "source": [
    "plot_kl_divergence_trajectories_plotly(kl_divs, sae_idx, feature_id)"
   ]
  },
  {
   "cell_type": "code",
   "execution_count": 298,
   "metadata": {},
   "outputs": [],
   "source": [
    "def compare_all_directions_with_sae_features(sae, directions, kl_divs, top_k=3):\n",
    "    # Compute cosine similarities with all SAE features for each direction\n",
    "    similarities = torch.stack([\n",
    "        torch.nn.functional.cosine_similarity(d.unsqueeze(0), sae.W_dec, dim=1)\n",
    "        for d in directions\n",
    "    ])\n",
    "    \n",
    "    # Get top k similar features for each direction\n",
    "    top_k_values, top_k_indices = torch.topk(similarities, top_k, dim=1)\n",
    "    \n",
    "    # Compute average of top k similarities for each direction\n",
    "    avg_top_k_similarities = top_k_values.mean(dim=1)\n",
    "    \n",
    "    # Get final KL divergence for each direction\n",
    "    final_kl_divs = [kd[-1].item() if torch.is_tensor(kd) else kd[-1] for kd in kl_divs]\n",
    "    \n",
    "    # Create a DataFrame for easier plotting\n",
    "    df = pd.DataFrame({\n",
    "        'Direction': range(len(directions)),\n",
    "        'Avg Top-k Similarity': avg_top_k_similarities.cpu().numpy(),\n",
    "        'Final KL Divergence': final_kl_divs\n",
    "    })\n",
    "    \n",
    "    # Sort by Final KL Divergence\n",
    "    df = df.sort_values('Final KL Divergence', ascending=False)\n",
    "    \n",
    "    # Plot\n",
    "    plt.figure(figsize=(12, 6))\n",
    "    sns.scatterplot(data=df, x='Final KL Divergence', y='Avg Top-k Similarity', hue='Direction', palette='viridis')\n",
    "    plt.title(f'Correlation between Final KL Divergence and Similarity to Top {top_k} SAE Features')\n",
    "    plt.xlabel('Final KL Divergence')\n",
    "    plt.ylabel(f'Average Similarity to Top {top_k} SAE Features')\n",
    "    plt.show()\n",
    "    \n",
    "    # Print top similar features for top 5 directions by KL divergence\n",
    "    print(\"\\nTop similar SAE features for directions with highest final KL divergence:\")\n",
    "    for i in df['Direction'].head():\n",
    "        print(f\"\\nDirection {i}:\")\n",
    "        for j, (value, index) in enumerate(zip(top_k_values[i], top_k_indices[i])):\n",
    "            print(f\"  Rank {j+1}: Feature {index.item()}, Similarity: {value.item():.4f}\")\n",
    "    \n",
    "    return df, similarities"
   ]
  },
  {
   "cell_type": "code",
   "execution_count": 299,
   "metadata": {},
   "outputs": [
    {
     "data": {
      "image/png": "[encoded data removed]",
      "text/plain": [
       "<Figure size 1200x600 with 1 Axes>"
      ]
     },
     "metadata": {},
     "output_type": "display_data"
    },
    {
     "name": "stdout",
     "output_type": "stream",
     "text": [
      "\n",
      "Top similar SAE features for directions with highest final KL divergence:\n",
      "\n",
      "Direction 20:\n",
      "  Rank 1: Feature 24233, Similarity: 0.1442\n",
      "  Rank 2: Feature 1431, Similarity: 0.1441\n",
      "  Rank 3: Feature 16771, Similarity: 0.1358\n",
      "\n",
      "Direction 43:\n",
      "  Rank 1: Feature 2136, Similarity: 0.1432\n",
      "  Rank 2: Feature 5412, Similarity: 0.1319\n",
      "  Rank 3: Feature 16536, Similarity: 0.1238\n",
      "\n",
      "Direction 37:\n",
      "  Rank 1: Feature 7419, Similarity: 0.1506\n",
      "  Rank 2: Feature 9695, Similarity: 0.1323\n",
      "  Rank 3: Feature 13801, Similarity: 0.1321\n",
      "\n",
      "Direction 3:\n",
      "  Rank 1: Feature 8439, Similarity: 0.1558\n",
      "  Rank 2: Feature 23758, Similarity: 0.1512\n",
      "  Rank 3: Feature 4980, Similarity: 0.1471\n",
      "\n",
      "Direction 30:\n",
      "  Rank 1: Feature 8715, Similarity: 0.1544\n",
      "  Rank 2: Feature 20851, Similarity: 0.1249\n",
      "  Rank 3: Feature 4151, Similarity: 0.1190\n"
     ]
    }
   ],
   "source": [
    "df, similarities = compare_all_directions_with_sae_features(sae, random_directions, kl_divs)"
   ]
  },
  {
   "cell_type": "code",
   "execution_count": 290,
   "metadata": {},
   "outputs": [
    {
     "data": {
      "text/html": [
       "<div>\n",
       "<style scoped>\n",
       "    .dataframe tbody tr th:only-of-type {\n",
       "        vertical-align: middle;\n",
       "    }\n",
       "\n",
       "    .dataframe tbody tr th {\n",
       "        vertical-align: top;\n",
       "    }\n",
       "\n",
       "    .dataframe thead th {\n",
       "        text-align: right;\n",
       "    }\n",
       "</style>\n",
       "<table border=\"1\" class=\"dataframe\">\n",
       "  <thead>\n",
       "    <tr style=\"text-align: right;\">\n",
       "      <th></th>\n",
       "      <th>Direction</th>\n",
       "      <th>Avg Top-k Similarity</th>\n",
       "      <th>Final KL Divergence</th>\n",
       "    </tr>\n",
       "  </thead>\n",
       "  <tbody>\n",
       "    <tr>\n",
       "      <th>15</th>\n",
       "      <td>15</td>\n",
       "      <td>0.139194</td>\n",
       "      <td>0.001200</td>\n",
       "    </tr>\n",
       "    <tr>\n",
       "      <th>5</th>\n",
       "      <td>5</td>\n",
       "      <td>0.136014</td>\n",
       "      <td>0.001140</td>\n",
       "    </tr>\n",
       "    <tr>\n",
       "      <th>34</th>\n",
       "      <td>34</td>\n",
       "      <td>0.135007</td>\n",
       "      <td>0.001100</td>\n",
       "    </tr>\n",
       "    <tr>\n",
       "      <th>47</th>\n",
       "      <td>47</td>\n",
       "      <td>0.136790</td>\n",
       "      <td>0.001068</td>\n",
       "    </tr>\n",
       "    <tr>\n",
       "      <th>30</th>\n",
       "      <td>30</td>\n",
       "      <td>0.155656</td>\n",
       "      <td>0.001066</td>\n",
       "    </tr>\n",
       "  </tbody>\n",
       "</table>\n",
       "</div>"
      ],
      "text/plain": [
       "    Direction  Avg Top-k Similarity  Final KL Divergence\n",
       "15         15              0.139194             0.001200\n",
       "5           5              0.136014             0.001140\n",
       "34         34              0.135007             0.001100\n",
       "47         47              0.136790             0.001068\n",
       "30         30              0.155656             0.001066"
      ]
     },
     "execution_count": 290,
     "metadata": {},
     "output_type": "execute_result"
    }
   ],
   "source": [
    "df.sort_values(by='Final KL Divergence', ascending=False).head()"
   ]
  },
  {
   "cell_type": "markdown",
   "metadata": {},
   "source": [
    "## Using SGD to find directions of high KL divergence"
   ]
  },
  {
   "cell_type": "code",
   "execution_count": 92,
   "metadata": {},
   "outputs": [],
   "source": [
    "import torch\n",
    "import torch.nn.functional as F\n",
    "\n",
    "def compute_kl_div(logits_p, logits_q):\n",
    "    p = F.softmax(logits_p, dim=-1)\n",
    "    log_p = F.log_softmax(logits_p, dim=-1)\n",
    "    log_q = F.log_softmax(logits_q, dim=-1)\n",
    "    return (p * (log_p - log_q)).sum(-1).mean()\n",
    "\n",
    "def optimize_direction(sae, model, examples_by_feature, feature_id, num_steps=100, lr=0.01, batch_size=4):\n",
    "    device = next(model.parameters()).device\n",
    "    \n",
    "    original_feature = sae.W_dec[feature_id].to(device)\n",
    "    direction = torch.zeros_like(original_feature, requires_grad=True, device=device)\n",
    "    \n",
    "    optimizer = torch.optim.Adam([direction], lr=lr)\n",
    "    \n",
    "    resid_acts = examples_by_feature.resid_acts.to(device)\n",
    "    \n",
    "    print(f\"resid_acts shape: {resid_acts.shape}\")\n",
    "    print(f\"original_feature shape: {original_feature.shape}\")\n",
    "    print(f\"direction shape: {direction.shape}\")\n",
    "    \n",
    "    kl_divs_history = []\n",
    "    \n",
    "    for step in range(num_steps):\n",
    "        optimizer.zero_grad()\n",
    "        total_kl_div = 0\n",
    "        \n",
    "        for i in range(0, resid_acts.shape[1], batch_size):\n",
    "            batch_resid_acts = resid_acts[:, i:i+batch_size].reshape(-1, resid_acts.shape[-1])\n",
    "            \n",
    "            # Compute logits for original feature\n",
    "            with torch.no_grad():\n",
    "                logits_original = model.forward(\n",
    "                    batch_resid_acts + original_feature.unsqueeze(0),\n",
    "                    start_at_layer=sae.cfg.hook_layer,\n",
    "                    return_type=\"logits\"\n",
    "                )\n",
    "            \n",
    "            # Compute logits for optimized direction\n",
    "            logits_optimized = model.forward(\n",
    "                batch_resid_acts + direction.unsqueeze(0),\n",
    "                start_at_layer=sae.cfg.hook_layer,\n",
    "                return_type=\"logits\"\n",
    "            )\n",
    "            \n",
    "            # Compute KL divergence\n",
    "            kl_div = compute_kl_div(logits_original, logits_optimized)\n",
    "            total_kl_div += kl_div\n",
    "        \n",
    "        # Maximize KL divergence\n",
    "        loss = -total_kl_div\n",
    "        loss.backward()\n",
    "        \n",
    "        print(f\"Step {step}\")\n",
    "        print(f\"direction.grad: {direction.grad is not None}\")\n",
    "        print(f\"KL Divergence: {total_kl_div.item():.4f}\")\n",
    "        \n",
    "        optimizer.step()\n",
    "        \n",
    "        kl_divs_history.append(total_kl_div.item())\n",
    "        \n",
    "        if step % 10 == 0:\n",
    "            print(f\"Step {step}, KL Divergence: {total_kl_div.item():.4f}\")\n",
    "    \n",
    "    return direction.detach().cpu(), kl_divs_history"
   ]
  },
  {
   "cell_type": "code",
   "execution_count": 93,
   "metadata": {},
   "outputs": [],
   "source": [
    "torch.cuda.empty_cache()"
   ]
  },
  {
   "cell_type": "code",
   "execution_count": 94,
   "metadata": {},
   "outputs": [
    {
     "name": "stdout",
     "output_type": "stream",
     "text": [
      "resid_acts shape: torch.Size([1, 30, 32, 768])\n",
      "original_feature shape: torch.Size([768])\n",
      "direction shape: torch.Size([768])\n"
     ]
    },
    {
     "ename": "RuntimeError",
     "evalue": "shape '[128, 768, 12, 64]' is invalid for input of size 98304",
     "output_type": "error",
     "traceback": [
      "\u001b[0;31m---------------------------------------------------------------------------\u001b[0m",
      "\u001b[0;31mRuntimeError\u001b[0m                              Traceback (most recent call last)",
      "Cell \u001b[0;32mIn[94], line 2\u001b[0m\n\u001b[1;32m      1\u001b[0m torch\u001b[38;5;241m.\u001b[39mset_grad_enabled(\u001b[38;5;28;01mTrue\u001b[39;00m) \n\u001b[0;32m----> 2\u001b[0m optimized_direction, kl_divs_history \u001b[38;5;241m=\u001b[39m \u001b[43moptimize_direction\u001b[49m\u001b[43m(\u001b[49m\n\u001b[1;32m      3\u001b[0m \u001b[43m    \u001b[49m\u001b[43msae\u001b[49m\u001b[43m,\u001b[49m\u001b[43m \u001b[49m\u001b[43mmodel\u001b[49m\u001b[43m,\u001b[49m\u001b[43m \u001b[49m\u001b[43mexamples_by_feature\u001b[49m\u001b[43m,\u001b[49m\u001b[43m \u001b[49m\u001b[43mfeature_id\u001b[49m\n\u001b[1;32m      4\u001b[0m \u001b[43m)\u001b[49m\n",
      "Cell \u001b[0;32mIn[92], line 35\u001b[0m, in \u001b[0;36moptimize_direction\u001b[0;34m(sae, model, examples_by_feature, feature_id, num_steps, lr, batch_size)\u001b[0m\n\u001b[1;32m     33\u001b[0m \u001b[38;5;66;03m# Compute logits for original feature\u001b[39;00m\n\u001b[1;32m     34\u001b[0m \u001b[38;5;28;01mwith\u001b[39;00m torch\u001b[38;5;241m.\u001b[39mno_grad():\n\u001b[0;32m---> 35\u001b[0m     logits_original \u001b[38;5;241m=\u001b[39m \u001b[43mmodel\u001b[49m\u001b[38;5;241;43m.\u001b[39;49m\u001b[43mforward\u001b[49m\u001b[43m(\u001b[49m\n\u001b[1;32m     36\u001b[0m \u001b[43m        \u001b[49m\u001b[43mbatch_resid_acts\u001b[49m\u001b[43m \u001b[49m\u001b[38;5;241;43m+\u001b[39;49m\u001b[43m \u001b[49m\u001b[43moriginal_feature\u001b[49m\u001b[38;5;241;43m.\u001b[39;49m\u001b[43munsqueeze\u001b[49m\u001b[43m(\u001b[49m\u001b[38;5;241;43m0\u001b[39;49m\u001b[43m)\u001b[49m\u001b[43m,\u001b[49m\n\u001b[1;32m     37\u001b[0m \u001b[43m        \u001b[49m\u001b[43mstart_at_layer\u001b[49m\u001b[38;5;241;43m=\u001b[39;49m\u001b[43msae\u001b[49m\u001b[38;5;241;43m.\u001b[39;49m\u001b[43mcfg\u001b[49m\u001b[38;5;241;43m.\u001b[39;49m\u001b[43mhook_layer\u001b[49m\u001b[43m,\u001b[49m\n\u001b[1;32m     38\u001b[0m \u001b[43m        \u001b[49m\u001b[43mreturn_type\u001b[49m\u001b[38;5;241;43m=\u001b[39;49m\u001b[38;5;124;43m\"\u001b[39;49m\u001b[38;5;124;43mlogits\u001b[39;49m\u001b[38;5;124;43m\"\u001b[39;49m\n\u001b[1;32m     39\u001b[0m \u001b[43m    \u001b[49m\u001b[43m)\u001b[49m\n\u001b[1;32m     41\u001b[0m \u001b[38;5;66;03m# Compute logits for optimized direction\u001b[39;00m\n\u001b[1;32m     42\u001b[0m logits_optimized \u001b[38;5;241m=\u001b[39m model\u001b[38;5;241m.\u001b[39mforward(\n\u001b[1;32m     43\u001b[0m     batch_resid_acts \u001b[38;5;241m+\u001b[39m direction\u001b[38;5;241m.\u001b[39munsqueeze(\u001b[38;5;241m0\u001b[39m),\n\u001b[1;32m     44\u001b[0m     start_at_layer\u001b[38;5;241m=\u001b[39msae\u001b[38;5;241m.\u001b[39mcfg\u001b[38;5;241m.\u001b[39mhook_layer,\n\u001b[1;32m     45\u001b[0m     return_type\u001b[38;5;241m=\u001b[39m\u001b[38;5;124m\"\u001b[39m\u001b[38;5;124mlogits\u001b[39m\u001b[38;5;124m\"\u001b[39m\n\u001b[1;32m     46\u001b[0m )\n",
      "File \u001b[0;32m~/virtualenvs/lib/python3.10/site-packages/transformer_lens/HookedTransformer.py:550\u001b[0m, in \u001b[0;36mHookedTransformer.forward\u001b[0;34m(self, input, return_type, loss_per_token, prepend_bos, padding_side, start_at_layer, tokens, shortformer_pos_embed, attention_mask, stop_at_layer, past_kv_cache)\u001b[0m\n\u001b[1;32m    545\u001b[0m     \u001b[38;5;28;01mif\u001b[39;00m shortformer_pos_embed \u001b[38;5;129;01mis\u001b[39;00m \u001b[38;5;129;01mnot\u001b[39;00m \u001b[38;5;28;01mNone\u001b[39;00m:\n\u001b[1;32m    546\u001b[0m         shortformer_pos_embed \u001b[38;5;241m=\u001b[39m shortformer_pos_embed\u001b[38;5;241m.\u001b[39mto(\n\u001b[1;32m    547\u001b[0m             devices\u001b[38;5;241m.\u001b[39mget_device_for_block_index(i, \u001b[38;5;28mself\u001b[39m\u001b[38;5;241m.\u001b[39mcfg)\n\u001b[1;32m    548\u001b[0m         )\n\u001b[0;32m--> 550\u001b[0m     residual \u001b[38;5;241m=\u001b[39m \u001b[43mblock\u001b[49m\u001b[43m(\u001b[49m\n\u001b[1;32m    551\u001b[0m \u001b[43m        \u001b[49m\u001b[43mresidual\u001b[49m\u001b[43m,\u001b[49m\n\u001b[1;32m    552\u001b[0m \u001b[43m        \u001b[49m\u001b[38;5;66;43;03m# Cache contains a list of HookedTransformerKeyValueCache objects, one for each\u001b[39;49;00m\n\u001b[1;32m    553\u001b[0m \u001b[43m        \u001b[49m\u001b[38;5;66;43;03m# block\u001b[39;49;00m\n\u001b[1;32m    554\u001b[0m \u001b[43m        \u001b[49m\u001b[43mpast_kv_cache_entry\u001b[49m\u001b[38;5;241;43m=\u001b[39;49m\u001b[43mpast_kv_cache\u001b[49m\u001b[43m[\u001b[49m\u001b[43mi\u001b[49m\u001b[43m]\u001b[49m\u001b[43m \u001b[49m\u001b[38;5;28;43;01mif\u001b[39;49;00m\u001b[43m \u001b[49m\u001b[43mpast_kv_cache\u001b[49m\u001b[43m \u001b[49m\u001b[38;5;129;43;01mis\u001b[39;49;00m\u001b[43m \u001b[49m\u001b[38;5;129;43;01mnot\u001b[39;49;00m\u001b[43m \u001b[49m\u001b[38;5;28;43;01mNone\u001b[39;49;00m\u001b[43m \u001b[49m\u001b[38;5;28;43;01melse\u001b[39;49;00m\u001b[43m \u001b[49m\u001b[38;5;28;43;01mNone\u001b[39;49;00m\u001b[43m,\u001b[49m\n\u001b[1;32m    555\u001b[0m \u001b[43m        \u001b[49m\u001b[43mshortformer_pos_embed\u001b[49m\u001b[38;5;241;43m=\u001b[39;49m\u001b[43mshortformer_pos_embed\u001b[49m\u001b[43m,\u001b[49m\n\u001b[1;32m    556\u001b[0m \u001b[43m        \u001b[49m\u001b[43mattention_mask\u001b[49m\u001b[38;5;241;43m=\u001b[39;49m\u001b[43mattention_mask\u001b[49m\u001b[43m,\u001b[49m\n\u001b[1;32m    557\u001b[0m \u001b[43m    \u001b[49m\u001b[43m)\u001b[49m  \u001b[38;5;66;03m# [batch, pos, d_model]\u001b[39;00m\n\u001b[1;32m    559\u001b[0m \u001b[38;5;28;01mif\u001b[39;00m stop_at_layer \u001b[38;5;129;01mis\u001b[39;00m \u001b[38;5;129;01mnot\u001b[39;00m \u001b[38;5;28;01mNone\u001b[39;00m:\n\u001b[1;32m    560\u001b[0m     \u001b[38;5;66;03m# When we stop at an early layer, we end here rather than doing further computation\u001b[39;00m\n\u001b[1;32m    561\u001b[0m     \u001b[38;5;28;01mreturn\u001b[39;00m residual\n",
      "File \u001b[0;32m~/virtualenvs/lib/python3.10/site-packages/torch/nn/modules/module.py:1532\u001b[0m, in \u001b[0;36mModule._wrapped_call_impl\u001b[0;34m(self, *args, **kwargs)\u001b[0m\n\u001b[1;32m   1530\u001b[0m     \u001b[38;5;28;01mreturn\u001b[39;00m \u001b[38;5;28mself\u001b[39m\u001b[38;5;241m.\u001b[39m_compiled_call_impl(\u001b[38;5;241m*\u001b[39margs, \u001b[38;5;241m*\u001b[39m\u001b[38;5;241m*\u001b[39mkwargs)  \u001b[38;5;66;03m# type: ignore[misc]\u001b[39;00m\n\u001b[1;32m   1531\u001b[0m \u001b[38;5;28;01melse\u001b[39;00m:\n\u001b[0;32m-> 1532\u001b[0m     \u001b[38;5;28;01mreturn\u001b[39;00m \u001b[38;5;28;43mself\u001b[39;49m\u001b[38;5;241;43m.\u001b[39;49m\u001b[43m_call_impl\u001b[49m\u001b[43m(\u001b[49m\u001b[38;5;241;43m*\u001b[39;49m\u001b[43margs\u001b[49m\u001b[43m,\u001b[49m\u001b[43m \u001b[49m\u001b[38;5;241;43m*\u001b[39;49m\u001b[38;5;241;43m*\u001b[39;49m\u001b[43mkwargs\u001b[49m\u001b[43m)\u001b[49m\n",
      "File \u001b[0;32m~/virtualenvs/lib/python3.10/site-packages/torch/nn/modules/module.py:1541\u001b[0m, in \u001b[0;36mModule._call_impl\u001b[0;34m(self, *args, **kwargs)\u001b[0m\n\u001b[1;32m   1536\u001b[0m \u001b[38;5;66;03m# If we don't have any hooks, we want to skip the rest of the logic in\u001b[39;00m\n\u001b[1;32m   1537\u001b[0m \u001b[38;5;66;03m# this function, and just call forward.\u001b[39;00m\n\u001b[1;32m   1538\u001b[0m \u001b[38;5;28;01mif\u001b[39;00m \u001b[38;5;129;01mnot\u001b[39;00m (\u001b[38;5;28mself\u001b[39m\u001b[38;5;241m.\u001b[39m_backward_hooks \u001b[38;5;129;01mor\u001b[39;00m \u001b[38;5;28mself\u001b[39m\u001b[38;5;241m.\u001b[39m_backward_pre_hooks \u001b[38;5;129;01mor\u001b[39;00m \u001b[38;5;28mself\u001b[39m\u001b[38;5;241m.\u001b[39m_forward_hooks \u001b[38;5;129;01mor\u001b[39;00m \u001b[38;5;28mself\u001b[39m\u001b[38;5;241m.\u001b[39m_forward_pre_hooks\n\u001b[1;32m   1539\u001b[0m         \u001b[38;5;129;01mor\u001b[39;00m _global_backward_pre_hooks \u001b[38;5;129;01mor\u001b[39;00m _global_backward_hooks\n\u001b[1;32m   1540\u001b[0m         \u001b[38;5;129;01mor\u001b[39;00m _global_forward_hooks \u001b[38;5;129;01mor\u001b[39;00m _global_forward_pre_hooks):\n\u001b[0;32m-> 1541\u001b[0m     \u001b[38;5;28;01mreturn\u001b[39;00m \u001b[43mforward_call\u001b[49m\u001b[43m(\u001b[49m\u001b[38;5;241;43m*\u001b[39;49m\u001b[43margs\u001b[49m\u001b[43m,\u001b[49m\u001b[43m \u001b[49m\u001b[38;5;241;43m*\u001b[39;49m\u001b[38;5;241;43m*\u001b[39;49m\u001b[43mkwargs\u001b[49m\u001b[43m)\u001b[49m\n\u001b[1;32m   1543\u001b[0m \u001b[38;5;28;01mtry\u001b[39;00m:\n\u001b[1;32m   1544\u001b[0m     result \u001b[38;5;241m=\u001b[39m \u001b[38;5;28;01mNone\u001b[39;00m\n",
      "File \u001b[0;32m~/virtualenvs/lib/python3.10/site-packages/transformer_lens/components/transformer_block.py:159\u001b[0m, in \u001b[0;36mTransformerBlock.forward\u001b[0;34m(self, resid_pre, shortformer_pos_embed, past_kv_cache_entry, attention_mask)\u001b[0m\n\u001b[1;32m    152\u001b[0m     key_input \u001b[38;5;241m=\u001b[39m attn_in\n\u001b[1;32m    153\u001b[0m     value_input \u001b[38;5;241m=\u001b[39m attn_in\n\u001b[1;32m    155\u001b[0m attn_out \u001b[38;5;241m=\u001b[39m (\n\u001b[1;32m    156\u001b[0m     \u001b[38;5;66;03m# hook the residual stream states that are used to calculate the\u001b[39;00m\n\u001b[1;32m    157\u001b[0m     \u001b[38;5;66;03m# queries, keys and values, independently.\u001b[39;00m\n\u001b[1;32m    158\u001b[0m     \u001b[38;5;66;03m# Then take the layer norm of these inputs, and pass these to the attention module.\u001b[39;00m\n\u001b[0;32m--> 159\u001b[0m     \u001b[38;5;28;43mself\u001b[39;49m\u001b[38;5;241;43m.\u001b[39;49m\u001b[43mattn\u001b[49m\u001b[43m(\u001b[49m\n\u001b[1;32m    160\u001b[0m \u001b[43m        \u001b[49m\u001b[43mquery_input\u001b[49m\u001b[38;5;241;43m=\u001b[39;49m\u001b[38;5;28;43mself\u001b[39;49m\u001b[38;5;241;43m.\u001b[39;49m\u001b[43mln1\u001b[49m\u001b[43m(\u001b[49m\u001b[43mquery_input\u001b[49m\u001b[43m)\u001b[49m\n\u001b[1;32m    161\u001b[0m \u001b[43m        \u001b[49m\u001b[38;5;241;43m+\u001b[39;49m\u001b[43m \u001b[49m\u001b[43m(\u001b[49m\u001b[38;5;241;43m0.0\u001b[39;49m\u001b[43m \u001b[49m\u001b[38;5;28;43;01mif\u001b[39;49;00m\u001b[43m \u001b[49m\u001b[43mshortformer_pos_embed\u001b[49m\u001b[43m \u001b[49m\u001b[38;5;129;43;01mis\u001b[39;49;00m\u001b[43m \u001b[49m\u001b[38;5;28;43;01mNone\u001b[39;49;00m\u001b[43m \u001b[49m\u001b[38;5;28;43;01melse\u001b[39;49;00m\u001b[43m \u001b[49m\u001b[43mshortformer_pos_embed\u001b[49m\u001b[43m)\u001b[49m\u001b[43m,\u001b[49m\n\u001b[1;32m    162\u001b[0m \u001b[43m        \u001b[49m\u001b[43mkey_input\u001b[49m\u001b[38;5;241;43m=\u001b[39;49m\u001b[38;5;28;43mself\u001b[39;49m\u001b[38;5;241;43m.\u001b[39;49m\u001b[43mln1\u001b[49m\u001b[43m(\u001b[49m\u001b[43mkey_input\u001b[49m\u001b[43m)\u001b[49m\n\u001b[1;32m    163\u001b[0m \u001b[43m        \u001b[49m\u001b[38;5;241;43m+\u001b[39;49m\u001b[43m \u001b[49m\u001b[43m(\u001b[49m\u001b[38;5;241;43m0.0\u001b[39;49m\u001b[43m \u001b[49m\u001b[38;5;28;43;01mif\u001b[39;49;00m\u001b[43m \u001b[49m\u001b[43mshortformer_pos_embed\u001b[49m\u001b[43m \u001b[49m\u001b[38;5;129;43;01mis\u001b[39;49;00m\u001b[43m \u001b[49m\u001b[38;5;28;43;01mNone\u001b[39;49;00m\u001b[43m \u001b[49m\u001b[38;5;28;43;01melse\u001b[39;49;00m\u001b[43m \u001b[49m\u001b[43mshortformer_pos_embed\u001b[49m\u001b[43m)\u001b[49m\u001b[43m,\u001b[49m\n\u001b[1;32m    164\u001b[0m \u001b[43m        \u001b[49m\u001b[43mvalue_input\u001b[49m\u001b[38;5;241;43m=\u001b[39;49m\u001b[38;5;28;43mself\u001b[39;49m\u001b[38;5;241;43m.\u001b[39;49m\u001b[43mln1\u001b[49m\u001b[43m(\u001b[49m\u001b[43mvalue_input\u001b[49m\u001b[43m)\u001b[49m\u001b[43m,\u001b[49m\n\u001b[1;32m    165\u001b[0m \u001b[43m        \u001b[49m\u001b[43mpast_kv_cache_entry\u001b[49m\u001b[38;5;241;43m=\u001b[39;49m\u001b[43mpast_kv_cache_entry\u001b[49m\u001b[43m,\u001b[49m\n\u001b[1;32m    166\u001b[0m \u001b[43m        \u001b[49m\u001b[43mattention_mask\u001b[49m\u001b[38;5;241;43m=\u001b[39;49m\u001b[43mattention_mask\u001b[49m\u001b[43m,\u001b[49m\n\u001b[1;32m    167\u001b[0m \u001b[43m    \u001b[49m\u001b[43m)\u001b[49m\n\u001b[1;32m    168\u001b[0m )  \u001b[38;5;66;03m# [batch, pos, d_model]\u001b[39;00m\n\u001b[1;32m    169\u001b[0m \u001b[38;5;28;01mif\u001b[39;00m \u001b[38;5;28mself\u001b[39m\u001b[38;5;241m.\u001b[39mcfg\u001b[38;5;241m.\u001b[39muse_normalization_before_and_after:\n\u001b[1;32m    170\u001b[0m     \u001b[38;5;66;03m# If we use LayerNorm both before and after, then apply the second LN after the layer\u001b[39;00m\n\u001b[1;32m    171\u001b[0m     \u001b[38;5;66;03m# and before the hook. We do it before the hook so hook_attn_out captures \"that which\u001b[39;00m\n\u001b[1;32m    172\u001b[0m     \u001b[38;5;66;03m# is added to the residual stream\"\u001b[39;00m\n\u001b[1;32m    173\u001b[0m     attn_out \u001b[38;5;241m=\u001b[39m \u001b[38;5;28mself\u001b[39m\u001b[38;5;241m.\u001b[39mln1_post(attn_out)\n",
      "File \u001b[0;32m~/virtualenvs/lib/python3.10/site-packages/torch/nn/modules/module.py:1532\u001b[0m, in \u001b[0;36mModule._wrapped_call_impl\u001b[0;34m(self, *args, **kwargs)\u001b[0m\n\u001b[1;32m   1530\u001b[0m     \u001b[38;5;28;01mreturn\u001b[39;00m \u001b[38;5;28mself\u001b[39m\u001b[38;5;241m.\u001b[39m_compiled_call_impl(\u001b[38;5;241m*\u001b[39margs, \u001b[38;5;241m*\u001b[39m\u001b[38;5;241m*\u001b[39mkwargs)  \u001b[38;5;66;03m# type: ignore[misc]\u001b[39;00m\n\u001b[1;32m   1531\u001b[0m \u001b[38;5;28;01melse\u001b[39;00m:\n\u001b[0;32m-> 1532\u001b[0m     \u001b[38;5;28;01mreturn\u001b[39;00m \u001b[38;5;28;43mself\u001b[39;49m\u001b[38;5;241;43m.\u001b[39;49m\u001b[43m_call_impl\u001b[49m\u001b[43m(\u001b[49m\u001b[38;5;241;43m*\u001b[39;49m\u001b[43margs\u001b[49m\u001b[43m,\u001b[49m\u001b[43m \u001b[49m\u001b[38;5;241;43m*\u001b[39;49m\u001b[38;5;241;43m*\u001b[39;49m\u001b[43mkwargs\u001b[49m\u001b[43m)\u001b[49m\n",
      "File \u001b[0;32m~/virtualenvs/lib/python3.10/site-packages/torch/nn/modules/module.py:1541\u001b[0m, in \u001b[0;36mModule._call_impl\u001b[0;34m(self, *args, **kwargs)\u001b[0m\n\u001b[1;32m   1536\u001b[0m \u001b[38;5;66;03m# If we don't have any hooks, we want to skip the rest of the logic in\u001b[39;00m\n\u001b[1;32m   1537\u001b[0m \u001b[38;5;66;03m# this function, and just call forward.\u001b[39;00m\n\u001b[1;32m   1538\u001b[0m \u001b[38;5;28;01mif\u001b[39;00m \u001b[38;5;129;01mnot\u001b[39;00m (\u001b[38;5;28mself\u001b[39m\u001b[38;5;241m.\u001b[39m_backward_hooks \u001b[38;5;129;01mor\u001b[39;00m \u001b[38;5;28mself\u001b[39m\u001b[38;5;241m.\u001b[39m_backward_pre_hooks \u001b[38;5;129;01mor\u001b[39;00m \u001b[38;5;28mself\u001b[39m\u001b[38;5;241m.\u001b[39m_forward_hooks \u001b[38;5;129;01mor\u001b[39;00m \u001b[38;5;28mself\u001b[39m\u001b[38;5;241m.\u001b[39m_forward_pre_hooks\n\u001b[1;32m   1539\u001b[0m         \u001b[38;5;129;01mor\u001b[39;00m _global_backward_pre_hooks \u001b[38;5;129;01mor\u001b[39;00m _global_backward_hooks\n\u001b[1;32m   1540\u001b[0m         \u001b[38;5;129;01mor\u001b[39;00m _global_forward_hooks \u001b[38;5;129;01mor\u001b[39;00m _global_forward_pre_hooks):\n\u001b[0;32m-> 1541\u001b[0m     \u001b[38;5;28;01mreturn\u001b[39;00m \u001b[43mforward_call\u001b[49m\u001b[43m(\u001b[49m\u001b[38;5;241;43m*\u001b[39;49m\u001b[43margs\u001b[49m\u001b[43m,\u001b[49m\u001b[43m \u001b[49m\u001b[38;5;241;43m*\u001b[39;49m\u001b[38;5;241;43m*\u001b[39;49m\u001b[43mkwargs\u001b[49m\u001b[43m)\u001b[49m\n\u001b[1;32m   1543\u001b[0m \u001b[38;5;28;01mtry\u001b[39;00m:\n\u001b[1;32m   1544\u001b[0m     result \u001b[38;5;241m=\u001b[39m \u001b[38;5;28;01mNone\u001b[39;00m\n",
      "File \u001b[0;32m~/virtualenvs/lib/python3.10/site-packages/transformer_lens/components/abstract_attention.py:195\u001b[0m, in \u001b[0;36mAbstractAttention.forward\u001b[0;34m(self, query_input, key_input, value_input, past_kv_cache_entry, additive_attention_mask, attention_mask, position_bias)\u001b[0m\n\u001b[1;32m    167\u001b[0m \u001b[38;5;28;01mdef\u001b[39;00m \u001b[38;5;21mforward\u001b[39m(\n\u001b[1;32m    168\u001b[0m     \u001b[38;5;28mself\u001b[39m,\n\u001b[1;32m    169\u001b[0m     query_input: Union[\n\u001b[0;32m   (...)\u001b[0m\n\u001b[1;32m    186\u001b[0m     position_bias: Optional[Float[torch\u001b[38;5;241m.\u001b[39mTensor, \u001b[38;5;124m\"\u001b[39m\u001b[38;5;124m1 head_index pos kv_pos\u001b[39m\u001b[38;5;124m\"\u001b[39m]] \u001b[38;5;241m=\u001b[39m \u001b[38;5;28;01mNone\u001b[39;00m,\n\u001b[1;32m    187\u001b[0m ) \u001b[38;5;241m-\u001b[39m\u001b[38;5;241m>\u001b[39m Float[torch\u001b[38;5;241m.\u001b[39mTensor, \u001b[38;5;124m\"\u001b[39m\u001b[38;5;124mbatch pos d_model\u001b[39m\u001b[38;5;124m\"\u001b[39m]:\n\u001b[1;32m    188\u001b[0m \u001b[38;5;250m    \u001b[39m\u001b[38;5;124;03m\"\"\"\u001b[39;00m\n\u001b[1;32m    189\u001b[0m \u001b[38;5;124;03m    shortformer_pos_embed is only used if self.cfg.positional_embedding_type == \"shortformer\", else defaults to None and is irrelevant. See HookedTransformerConfig for more details\u001b[39;00m\n\u001b[1;32m    190\u001b[0m \u001b[38;5;124;03m    past_kv_cache_entry is an optional entry of past keys and values for this layer, only relevant if generating text. Defaults to None\u001b[39;00m\n\u001b[1;32m    191\u001b[0m \u001b[38;5;124;03m    additive_attention_mask is an optional mask to add to the attention weights. Defaults to None.\u001b[39;00m\n\u001b[1;32m    192\u001b[0m \u001b[38;5;124;03m    attention_mask is the attention mask for padded tokens. Defaults to None.\u001b[39;00m\n\u001b[1;32m    193\u001b[0m \u001b[38;5;124;03m    \"\"\"\u001b[39;00m\n\u001b[0;32m--> 195\u001b[0m     q, k, v \u001b[38;5;241m=\u001b[39m \u001b[38;5;28;43mself\u001b[39;49m\u001b[38;5;241;43m.\u001b[39;49m\u001b[43mcalculate_qkv_matrices\u001b[49m\u001b[43m(\u001b[49m\u001b[43mquery_input\u001b[49m\u001b[43m,\u001b[49m\u001b[43m \u001b[49m\u001b[43mkey_input\u001b[49m\u001b[43m,\u001b[49m\u001b[43m \u001b[49m\u001b[43mvalue_input\u001b[49m\u001b[43m)\u001b[49m\n\u001b[1;32m    197\u001b[0m     \u001b[38;5;28;01mif\u001b[39;00m past_kv_cache_entry \u001b[38;5;129;01mis\u001b[39;00m \u001b[38;5;129;01mnot\u001b[39;00m \u001b[38;5;28;01mNone\u001b[39;00m:\n\u001b[1;32m    198\u001b[0m         \u001b[38;5;66;03m# Appends the new keys and values to the cached values, and automatically updates the cache\u001b[39;00m\n\u001b[1;32m    199\u001b[0m         kv_cache_pos_offset \u001b[38;5;241m=\u001b[39m past_kv_cache_entry\u001b[38;5;241m.\u001b[39mpast_keys\u001b[38;5;241m.\u001b[39msize(\u001b[38;5;241m1\u001b[39m)\n",
      "File \u001b[0;32m~/virtualenvs/lib/python3.10/site-packages/transformer_lens/components/abstract_attention.py:356\u001b[0m, in \u001b[0;36mAbstractAttention.calculate_qkv_matrices\u001b[0;34m(self, query_input, key_input, value_input)\u001b[0m\n\u001b[1;32m    340\u001b[0m     q \u001b[38;5;241m=\u001b[39m \u001b[38;5;28mself\u001b[39m\u001b[38;5;241m.\u001b[39mhook_q(\n\u001b[1;32m    341\u001b[0m         \u001b[38;5;66;03m# call bitsandbytes method to dequantize and multiply\u001b[39;00m\n\u001b[1;32m    342\u001b[0m         bnb\u001b[38;5;241m.\u001b[39mmatmul_4bit(\n\u001b[0;32m   (...)\u001b[0m\n\u001b[1;32m    353\u001b[0m         \u001b[38;5;241m+\u001b[39m \u001b[38;5;28mself\u001b[39m\u001b[38;5;241m.\u001b[39mb_Q\n\u001b[1;32m    354\u001b[0m     )\n\u001b[1;32m    355\u001b[0m \u001b[38;5;28;01melse\u001b[39;00m:\n\u001b[0;32m--> 356\u001b[0m     q \u001b[38;5;241m=\u001b[39m \u001b[38;5;28mself\u001b[39m\u001b[38;5;241m.\u001b[39mhook_q(\u001b[43mattn_fn\u001b[49m\u001b[43m(\u001b[49m\u001b[43mquery_input\u001b[49m\u001b[43m,\u001b[49m\u001b[43m \u001b[49m\u001b[38;5;28;43mself\u001b[39;49m\u001b[38;5;241;43m.\u001b[39;49m\u001b[43mW_Q\u001b[49m\u001b[43m,\u001b[49m\u001b[43m \u001b[49m\u001b[38;5;28;43mself\u001b[39;49m\u001b[38;5;241;43m.\u001b[39;49m\u001b[43mb_Q\u001b[49m\u001b[43m)\u001b[49m)\n\u001b[1;32m    357\u001b[0m \u001b[38;5;28;01mif\u001b[39;00m \u001b[38;5;28mself\u001b[39m\u001b[38;5;241m.\u001b[39mcfg\u001b[38;5;241m.\u001b[39mload_in_4bit:\n\u001b[1;32m    358\u001b[0m     \u001b[38;5;28;01mif\u001b[39;00m \u001b[38;5;129;01mnot\u001b[39;00m \u001b[38;5;28misinstance\u001b[39m(\u001b[38;5;28mself\u001b[39m\u001b[38;5;241m.\u001b[39mW_K, Params4bit):\n",
      "File \u001b[0;32m~/virtualenvs/lib/python3.10/site-packages/transformer_lens/utilities/attention.py:19\u001b[0m, in \u001b[0;36msimple_attn_linear\u001b[0;34m(input, w, b)\u001b[0m\n\u001b[1;32m     17\u001b[0m w \u001b[38;5;241m=\u001b[39m einops\u001b[38;5;241m.\u001b[39mrearrange(w, \u001b[38;5;124m\"\u001b[39m\u001b[38;5;124mhead_index d_model d_head -> (head_index d_head) d_model\u001b[39m\u001b[38;5;124m\"\u001b[39m)\n\u001b[1;32m     18\u001b[0m b_ \u001b[38;5;241m=\u001b[39m einops\u001b[38;5;241m.\u001b[39mrearrange(b, \u001b[38;5;124m\"\u001b[39m\u001b[38;5;124mhead_index d_head -> (head_index d_head)\u001b[39m\u001b[38;5;124m\"\u001b[39m)\n\u001b[0;32m---> 19\u001b[0m \u001b[38;5;28;01mreturn\u001b[39;00m \u001b[43mF\u001b[49m\u001b[38;5;241;43m.\u001b[39;49m\u001b[43mlinear\u001b[49m\u001b[43m(\u001b[49m\u001b[38;5;28;43minput\u001b[39;49m\u001b[43m,\u001b[49m\u001b[43m \u001b[49m\u001b[43mw\u001b[49m\u001b[43m,\u001b[49m\u001b[43m \u001b[49m\u001b[43mb_\u001b[49m\u001b[43m)\u001b[49m\u001b[38;5;241;43m.\u001b[39;49m\u001b[43mreshape\u001b[49m\u001b[43m(\u001b[49m\u001b[38;5;28;43minput\u001b[39;49m\u001b[38;5;241;43m.\u001b[39;49m\u001b[43mshape\u001b[49m\u001b[43m[\u001b[49m\u001b[38;5;241;43m0\u001b[39;49m\u001b[43m]\u001b[49m\u001b[43m,\u001b[49m\u001b[43m \u001b[49m\u001b[38;5;28;43minput\u001b[39;49m\u001b[38;5;241;43m.\u001b[39;49m\u001b[43mshape\u001b[49m\u001b[43m[\u001b[49m\u001b[38;5;241;43m1\u001b[39;49m\u001b[43m]\u001b[49m\u001b[43m,\u001b[49m\u001b[43m \u001b[49m\u001b[43mb\u001b[49m\u001b[38;5;241;43m.\u001b[39;49m\u001b[43mshape\u001b[49m\u001b[43m[\u001b[49m\u001b[38;5;241;43m0\u001b[39;49m\u001b[43m]\u001b[49m\u001b[43m,\u001b[49m\u001b[43m \u001b[49m\u001b[43mb\u001b[49m\u001b[38;5;241;43m.\u001b[39;49m\u001b[43mshape\u001b[49m\u001b[43m[\u001b[49m\u001b[38;5;241;43m1\u001b[39;49m\u001b[43m]\u001b[49m\u001b[43m)\u001b[49m\n",
      "\u001b[0;31mRuntimeError\u001b[0m: shape '[128, 768, 12, 64]' is invalid for input of size 98304"
     ]
    }
   ],
   "source": [
    "torch.set_grad_enabled(True) \n",
    "optimized_direction, kl_divs_history = optimize_direction(\n",
    "    sae, model, examples_by_feature, feature_id\n",
    ")"
   ]
  },
  {
   "cell_type": "code",
   "execution_count": 21,
   "metadata": {},
   "outputs": [],
   "source": [
    "torch.cuda.empty_cache()"
   ]
  },
  {
   "cell_type": "code",
   "execution_count": null,
   "metadata": {},
   "outputs": [],
   "source": [
    "plt.figure(figsize=(10, 6))\n",
    "plt.plot(kl_divs_history)\n",
    "plt.title('Average KL Divergence During Optimization')\n",
    "plt.xlabel('Optimization Step')\n",
    "plt.ylabel('Average KL Divergence')\n",
    "plt.show()"
   ]
  },
  {
   "cell_type": "code",
   "execution_count": null,
   "metadata": {},
   "outputs": [],
   "source": []
  },
  {
   "cell_type": "code",
   "execution_count": null,
   "metadata": {},
   "outputs": [],
   "source": []
  },
  {
   "cell_type": "code",
   "execution_count": null,
   "metadata": {},
   "outputs": [],
   "source": []
  },
  {
   "cell_type": "code",
   "execution_count": null,
   "metadata": {},
   "outputs": [],
   "source": []
  }
 ],
 "metadata": {
  "kernelspec": {
   "display_name": ".venv",
   "language": "python",
   "name": "python3"
  },
  "language_info": {
   "codemirror_mode": {
    "name": "ipython",
    "version": 3
   },
   "file_extension": ".py",
   "mimetype": "text/x-python",
   "name": "python",
   "nbconvert_exporter": "python",
   "pygments_lexer": "ipython3",
   "version": "3.10.14"
  }
 },
 "nbformat": 4,
 "nbformat_minor": 2
}
