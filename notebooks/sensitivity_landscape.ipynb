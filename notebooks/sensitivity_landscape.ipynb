{
 "cells": [
  {
   "cell_type": "code",
   "execution_count": 1,
   "metadata": {},
   "outputs": [
    {
     "name": "stdout",
     "output_type": "stream",
     "text": [
      "device='cuda'\n"
     ]
    }
   ],
   "source": [
    "%load_ext autoreload\n",
    "%autoreload 2\n",
    "import torch\n",
    "from teren import utils as teren_utils\n",
    "import seaborn as sns\n",
    "import plotly_express as px\n",
    "\n",
    "device = teren_utils.get_device_str()\n",
    "print(f\"{device=}\")"
   ]
  },
  {
   "cell_type": "code",
   "execution_count": 2,
   "metadata": {},
   "outputs": [
    {
     "name": "stdout",
     "output_type": "stream",
     "text": [
      "Loaded pretrained model gpt2-small into HookedTransformer\n"
     ]
    }
   ],
   "source": [
    "from transformer_lens import HookedTransformer\n",
    "\n",
    "model = HookedTransformer.from_pretrained(\"gpt2-small\", device=device)"
   ]
  },
  {
   "cell_type": "code",
   "execution_count": 3,
   "metadata": {},
   "outputs": [
    {
     "name": "stdout",
     "output_type": "stream",
     "text": [
      "INFERENCE_BATCH_SIZE=10\n"
     ]
    }
   ],
   "source": [
    "# each layer is kind of independent experiment, but we save a lot of time by\n",
    "# collecting dataset examples and residual stream activation for many layers at once\n",
    "\n",
    "LAYERS = list(range(model.cfg.n_layers))\n",
    "# LAYERS = 0, 5, 10\n",
    "\n",
    "# pre-trained SAE model availavle in SAELens\n",
    "SAE_RELEASE = \"gpt2-small-res-jb\"\n",
    "LAYER_TO_SAE_ID = lambda layer: f\"blocks.{layer}.hook_resid_pre\"\n",
    "\n",
    "# HF text  dataset\n",
    "DATASET_PATH = \"NeelNanda/c4-10k\"\n",
    "DATASET_SPLIT = \"train[:1%]\"\n",
    "\n",
    "# how long each tokenized prompt should be\n",
    "CONTEXT_SIZE = 32\n",
    "\n",
    "# how many tokens can be forwarded through the transformer at once\n",
    "# tune to your VRAM, 12_800 works well with 16GB\n",
    "INFERENCE_TOKENS = 320 # 12_800\n",
    "INFERENCE_BATCH_SIZE = INFERENCE_TOKENS // CONTEXT_SIZE\n",
    "print(f\"{INFERENCE_BATCH_SIZE=}\")\n",
    "\n",
    "# what is the minimum activation for a feature to be considered active\n",
    "MIN_FEATURE_ACTIVATION = 0.0\n",
    "# minimum number of tokenized prompts that should have a feature active\n",
    "# for the feature to be included in the experiment\n",
    "MIN_EXAMPLES_PER_FEATURE = 30\n",
    "# ids of feature to consider in the experiment\n",
    "# we can't consider all the features, because of compute & memory constraints\n",
    "CONSIDER_FEATURE_IDS = range(30)"
   ]
  },
  {
   "cell_type": "code",
   "execution_count": 4,
   "metadata": {},
   "outputs": [],
   "source": [
    "from sae_lens import SAE\n",
    "\n",
    "saes = [\n",
    "    # ignore other things it returns\n",
    "    SAE.from_pretrained(\n",
    "        release=SAE_RELEASE, sae_id=LAYER_TO_SAE_ID(layer), device=device\n",
    "    )[0]\n",
    "    for layer in LAYERS\n",
    "]"
   ]
  },
  {
   "cell_type": "code",
   "execution_count": 5,
   "metadata": {},
   "outputs": [
    {
     "name": "stdout",
     "output_type": "stream",
     "text": [
      "all_input_ids (tokenized dataset) shape: (1582, 32)\n"
     ]
    }
   ],
   "source": [
    "all_input_ids = teren_utils.load_and_tokenize_dataset(\n",
    "    path=DATASET_PATH,\n",
    "    split=DATASET_SPLIT,\n",
    "    column_name=\"text\",\n",
    "    tokenizer=model.tokenizer,  # type: ignore\n",
    "    max_length=CONTEXT_SIZE,\n",
    ")\n",
    "print(f\"all_input_ids (tokenized dataset) shape: {tuple(all_input_ids.shape)}\")"
   ]
  },
  {
   "cell_type": "code",
   "execution_count": 6,
   "metadata": {},
   "outputs": [
    {
     "name": "stdout",
     "output_type": "stream",
     "text": [
      "Layer: 0\n",
      "Number of selected features: 1\n",
      "Active feature ids: [9]\n",
      "\n",
      "Layer: 1\n",
      "Number of selected features: 1\n",
      "Active feature ids: [11]\n",
      "\n",
      "Layer: 2\n",
      "Number of selected features: 1\n",
      "Active feature ids: [0]\n",
      "\n",
      "Layer: 3\n",
      "Number of selected features: 2\n",
      "Active feature ids: [6, 24]\n",
      "\n",
      "Layer: 4\n",
      "Number of selected features: 5\n",
      "Active feature ids: [7, 8, 12, 15, 19]\n",
      "\n",
      "Layer: 5\n",
      "Number of selected features: 14\n",
      "Active feature ids: [0, 2, 4, 5, 9, 10, 13, 15, 19, 24, 25, 26, 27, 28]\n",
      "\n",
      "Layer: 6\n",
      "Number of selected features: 10\n",
      "Active feature ids: [5, 7, 9, 13, 14, 16, 17, 18, 20, 27]\n",
      "\n",
      "Layer: 7\n",
      "Number of selected features: 15\n",
      "Active feature ids: [0, 3, 4, 5, 6, 10, 14, 17, 18, 20, 21, 22, 23, 26, 29]\n",
      "\n",
      "Layer: 8\n",
      "Number of selected features: 19\n",
      "Active feature ids: [0, 2, 4, 5, 6, 7, 8, 9, 10, 11, 13, 15, 16, 21, 22, 24, 25, 26, 29]\n",
      "\n",
      "Layer: 9\n",
      "Number of selected features: 22\n",
      "Active feature ids: [0, 2, 4, 5, 8, 9, 10, 12, 13, 14, 15, 17, 18, 19, 20, 21, 22, 23, 24, 27, 28, 29]\n",
      "\n",
      "Layer: 10\n",
      "Number of selected features: 15\n",
      "Active feature ids: [0, 1, 2, 7, 13, 15, 17, 20, 22, 23, 24, 25, 26, 27, 28]\n",
      "\n",
      "Layer: 11\n",
      "Number of selected features: 18\n",
      "Active feature ids: [0, 1, 2, 4, 7, 9, 11, 13, 15, 16, 17, 21, 24, 25, 26, 27, 28, 29]\n",
      "\n"
     ]
    }
   ],
   "source": [
    "from teren.sae_examples import get_examples_by_feature_by_sae, SAEExamplesByFeature\n",
    "\n",
    "examples_by_feature_by_sae: list[SAEExamplesByFeature] = get_examples_by_feature_by_sae(\n",
    "    input_ids=all_input_ids,\n",
    "    model=model,\n",
    "    saes=saes,\n",
    "    feature_ids=CONSIDER_FEATURE_IDS,\n",
    "    n_examples=MIN_EXAMPLES_PER_FEATURE,\n",
    "    batch_size=INFERENCE_BATCH_SIZE,\n",
    "    min_activation=MIN_FEATURE_ACTIVATION,\n",
    ")\n",
    "# display high-level summary of the data\n",
    "for layer, examples_by_feature in zip(LAYERS, examples_by_feature_by_sae):\n",
    "    print(f\"Layer: {layer}\")\n",
    "    active_feature_ids = examples_by_feature.active_feature_ids\n",
    "    print(f\"Number of selected features: {len(active_feature_ids)}\")\n",
    "    print(f\"Active feature ids: {active_feature_ids}\")\n",
    "    print()"
   ]
  },
  {
   "cell_type": "code",
   "execution_count": 7,
   "metadata": {},
   "outputs": [
    {
     "name": "stdout",
     "output_type": "stream",
     "text": [
      "Layer: 0\n",
      "input_ids shape: (1, 30, 32) (n_features, n_examples, context_size)\n",
      "resid_acts shape: (1, 30, 32, 768) (n_features, n_examples, context_size, d_model)\n",
      "clean_loss shape: (1, 30, 31) (n_features, n_examples, context_size - 1)\n"
     ]
    }
   ],
   "source": [
    "def print_examples_shapes(idx):\n",
    "    print(f\"Layer: {LAYERS[idx]}\")\n",
    "    examples_by_feature = examples_by_feature_by_sae[idx]\n",
    "    print(\n",
    "        f\"input_ids shape: {tuple(examples_by_feature.input_ids.shape)} (n_features, n_examples, context_size)\"\n",
    "    )\n",
    "    print(\n",
    "        f\"resid_acts shape: {tuple(examples_by_feature.resid_acts.shape)} (n_features, n_examples, context_size, d_model)\"\n",
    "    )\n",
    "    print(\n",
    "        f\"clean_loss shape: {tuple(examples_by_feature.clean_loss.shape)} (n_features, n_examples, context_size - 1)\"\n",
    "    )\n",
    "\n",
    "\n",
    "print_examples_shapes(0)"
   ]
  },
  {
   "cell_type": "code",
   "execution_count": 26,
   "metadata": {},
   "outputs": [],
   "source": [
    "import torch\n",
    "from dataclasses import dataclass\n",
    "from typing import Any\n",
    "import matplotlib.pyplot as plt\n",
    "import numpy as np\n",
    "from teren.perturbations import Perturbation, NaiveRandomPerturbation\n",
    "import torch.nn.functional as F\n",
    "from jaxtyping import Float, Int\n",
    "from contextlib import contextmanager\n",
    "import umap\n",
    "\n"
   ]
  },
  {
   "cell_type": "code",
   "execution_count": 74,
   "metadata": {},
   "outputs": [],
   "source": [
    "@contextmanager\n",
    "def torch_gc():\n",
    "    try:\n",
    "        yield\n",
    "    finally:\n",
    "        torch.cuda.empty_cache()\n",
    "\n",
    "def get_random_direction_perturbations(num_directions, num_steps, feature_ids):\n",
    "    return [\n",
    "        {feature_id: {i: NaiveRandomPerturbation() for i in range(num_steps)} for feature_id in feature_ids}\n",
    "        for _ in range(num_directions)\n",
    "    ]\n",
    "\n",
    "def compute_kl_div(logits_ref: torch.Tensor, logits_pert: torch.Tensor) -> torch.Tensor:\n",
    "    # Move computation to CPU\n",
    "    logits_ref = logits_ref.cpu()\n",
    "    logits_pert = logits_pert.cpu()\n",
    "    \n",
    "    logprobs_ref = F.log_softmax(logits_ref, dim=-1)\n",
    "    logprobs_pert = F.log_softmax(logits_pert, dim=-1)\n",
    "    temp_output = F.kl_div(logprobs_pert, logprobs_ref, log_target=True, reduction=\"none\")\n",
    "    return temp_output.sum(dim=-1)\n",
    "\n",
    "def compute_pert_vectors(\n",
    "    pert_by_feature_id: dict[int, dict[int, Perturbation]],\n",
    "    examples_by_feature: SAEExamplesByFeature,\n",
    "    current_step: int\n",
    "):\n",
    "    # (feature, batch, n_ctx, d_model)\n",
    "    pert_vectors = torch.empty_like(examples_by_feature.resid_acts, device=device)\n",
    "    \n",
    "    for idx, feature_id in enumerate(examples_by_feature.active_feature_ids):\n",
    "        if feature_id in pert_by_feature_id:\n",
    "            pert = pert_by_feature_id[feature_id][current_step]\n",
    "            resid_acts = examples_by_feature.resid_acts[idx]\n",
    "            perturb = pert(resid_acts)\n",
    "            pert_vectors[idx] = perturb\n",
    "        else:\n",
    "            # If no perturbation is defined for this feature, use zeros\n",
    "            pert_vectors[idx] = torch.zeros_like(examples_by_feature.resid_acts[idx])\n",
    "    \n",
    "    return pert_vectors\n",
    "\n",
    "\n",
    "def compute_logits(\n",
    "    model: HookedTransformer,\n",
    "    input_ids: Int[torch.Tensor, \"*batch seq\"],\n",
    "    resid_acts: Float[torch.Tensor, \"*batch seq d_model\"],\n",
    "    start_at_layer: int,\n",
    "    batch_size: int,\n",
    ") -> Float[torch.Tensor, \"*batch seq vocab\"]:\n",
    "    assert input_ids.shape == resid_acts.shape[:-1], f\"{input_ids.shape=} {resid_acts.shape=}\"\n",
    "\n",
    "    batch_shape = input_ids.shape[:-1]\n",
    "    d_seq, d_model = resid_acts.shape[-2:]\n",
    "    resid_acts_flat = resid_acts.view(-1, d_seq, d_model)\n",
    "\n",
    "    logits_list = []\n",
    "\n",
    "    device = model.cfg.device\n",
    "    for i in range(0, resid_acts_flat.shape[0], batch_size):\n",
    "        batch_resid_acts_flat = resid_acts_flat[i : i + batch_size].to(device)\n",
    "\n",
    "        logits = model(\n",
    "            batch_resid_acts_flat,\n",
    "            start_at_layer=start_at_layer,\n",
    "        )\n",
    "        logits_list.append(logits.cpu())\n",
    "    logits_flat = torch.cat(logits_list, dim=0)\n",
    "    logits_shape = batch_shape + (d_seq, -1)  # -1 for vocab size\n",
    "    \n",
    "    return logits_flat.view(logits_shape)\n",
    "\n",
    "\n",
    "def get_pert_kl_div(\n",
    "    sae: SAE, \n",
    "    examples_by_feature: SAEExamplesByFeature, \n",
    "    pert_vec: torch.Tensor,\n",
    "    base_logits: torch.Tensor\n",
    ") -> torch.Tensor:\n",
    "    with torch_gc():\n",
    "        device = pert_vec.device\n",
    "        resid_acts = examples_by_feature.resid_acts.to(device)\n",
    "        \n",
    "        perturbed_logits = compute_logits(\n",
    "            model=model,\n",
    "            input_ids=examples_by_feature.input_ids.to(device),\n",
    "            resid_acts=resid_acts + pert_vec,\n",
    "            start_at_layer=sae.cfg.hook_layer,\n",
    "            batch_size=INFERENCE_BATCH_SIZE,\n",
    "        )\n",
    "        \n",
    "        # Move to CPU for KL divergence computation\n",
    "        kl_div = compute_kl_div(base_logits.cpu(), perturbed_logits.cpu())\n",
    "        \n",
    "        # Average over all dimensions except the first (feature dimension)\n",
    "        return kl_div.mean(dim=tuple(range(1, kl_div.dim())))\n",
    "\n",
    "def compute_trajectory_kl_divs(\n",
    "    sae: SAE, \n",
    "    examples_by_feature: SAEExamplesByFeature, \n",
    "    pert_by_feature_id_by_direction: list,\n",
    "    step_size: float\n",
    "):\n",
    "    with torch_gc():\n",
    "        input_ids = examples_by_feature.input_ids.to(device)\n",
    "        resid_acts = examples_by_feature.resid_acts.to(device)\n",
    "        \n",
    "        base_logits = compute_logits(\n",
    "            model=model,\n",
    "            input_ids=input_ids,\n",
    "            resid_acts=resid_acts,\n",
    "            start_at_layer=sae.cfg.hook_layer,\n",
    "            batch_size=INFERENCE_BATCH_SIZE,\n",
    "        ).cpu()\n",
    "\n",
    "        kl_divs_by_direction = []\n",
    "        trajectories_by_direction = []\n",
    "        start_vector = resid_acts.cpu()\n",
    "\n",
    "        # print(f\"Number of directions: {len(pert_by_feature_id_by_direction)}\")\n",
    "        \n",
    "        for dir_idx, pert_by_feature_id in enumerate(pert_by_feature_id_by_direction):\n",
    "            kl_divs = [torch.tensor(0.0)]  # Start with 0 KL divergence for initial point\n",
    "            trajectory = [start_vector]\n",
    "            \n",
    "            if not pert_by_feature_id:\n",
    "                print(f\"Direction {dir_idx}: Empty perturbation dict\")\n",
    "                continue\n",
    "            \n",
    "            num_steps = len(next(iter(pert_by_feature_id.values())))\n",
    "            # print(f\"Direction {dir_idx}: Number of steps = {num_steps}\")\n",
    "            \n",
    "            for current_step in range(1, num_steps + 1):  # Start from 1 to skip initial point\n",
    "                with torch_gc():\n",
    "                    pert_vec = compute_pert_vectors(pert_by_feature_id, examples_by_feature, current_step - 1).to(device)\n",
    "                    pert_vec = pert_vec * step_size * (current_step)\n",
    "                    \n",
    "                    perturbed_vector = start_vector + pert_vec.cpu()\n",
    "                    kl_div = get_pert_kl_div(sae, examples_by_feature, pert_vec, base_logits)\n",
    "                    \n",
    "                    # print(f\"Direction {dir_idx}, Step {current_step}: KL div shape = {kl_div.shape}, value = {kl_div.item():.4f}\")\n",
    "                    \n",
    "                    kl_divs.append(kl_div)\n",
    "                    trajectory.append(perturbed_vector)\n",
    "                    \n",
    "                    del pert_vec\n",
    "                    torch.cuda.empty_cache()\n",
    "            \n",
    "            # print(f\"Direction {dir_idx}: KL divs length = {len(kl_divs)}\")\n",
    "            # print(f\"Direction {dir_idx}: KL divs shapes = {[kl.shape for kl in kl_divs]}\")\n",
    "            \n",
    "            # Instead of stacking, we'll just convert to a tensor\n",
    "            kl_divs_tensor = torch.tensor([kl.item() for kl in kl_divs])\n",
    "            kl_divs_by_direction.append(kl_divs_tensor)\n",
    "            trajectories_by_direction.append(torch.stack(trajectory))\n",
    "\n",
    "        return kl_divs_by_direction, trajectories_by_direction"
   ]
  },
  {
   "cell_type": "code",
   "execution_count": 71,
   "metadata": {},
   "outputs": [],
   "source": [
    "num_directions = 5\n",
    "num_steps = 10\n",
    "step_size = 0.1\n",
    "feature_ids = examples_by_feature_by_sae[0].active_feature_ids\n",
    "\n",
    "pert_by_feature_id_by_direction = get_random_direction_perturbations(num_directions, num_steps, feature_ids)"
   ]
  },
  {
   "cell_type": "code",
   "execution_count": 92,
   "metadata": {},
   "outputs": [],
   "source": [
    "import plotly.express as px\n",
    "import plotly.graph_objects as go\n",
    "import numpy as np\n",
    "import pandas as pd\n",
    "\n",
    "def plot_kl_divergence_trajectories_plotly(kl_divs_by_direction, sae_idx, feature_id, num_steps):\n",
    "    # Prepare data for plotting\n",
    "    data = []\n",
    "    max_kl_div = max([kl_divs.max().item() for kl_divs in kl_divs_by_direction])\n",
    "    for direction_idx, kl_divs in enumerate(kl_divs_by_direction):\n",
    "        angle = 2 * np.pi * direction_idx / len(kl_divs_by_direction)\n",
    "        x = [step * np.cos(angle) for step in range(len(kl_divs))]\n",
    "        y = [step * np.sin(angle) for step in range(len(kl_divs))]\n",
    "        \n",
    "        for step, (xi, yi, kl) in enumerate(zip(x, y, kl_divs)):\n",
    "            data.append({\n",
    "                'x': xi,\n",
    "                'y': yi,\n",
    "                'kl_div': round(kl.item(), 4),\n",
    "                'direction': f'Direction {direction_idx}',\n",
    "                'step': step\n",
    "            })\n",
    "    \n",
    "    # Convert to DataFrame\n",
    "    df = pd.DataFrame(data)\n",
    "    \n",
    "    # Create the scatter plot\n",
    "    fig = px.scatter(df, x='x', y='y', color='direction', size='kl_div',\n",
    "                     hover_data=['step', 'kl_div'],\n",
    "                     labels={'x': 'Direction 1', 'y': 'Direction 2'},\n",
    "                     title=f'KL Divergence Trajectories - SAE {sae_idx}, Feature {feature_id}',\n",
    "                     size_max=10)  # Adjust the maximum size of the points\n",
    "    \n",
    "    # Add lines connecting points in each direction\n",
    "    for direction in df['direction'].unique():\n",
    "        direction_data = df[df['direction'] == direction].sort_values('step')\n",
    "        fig.add_trace(go.Scatter(x=direction_data['x'], y=direction_data['y'],\n",
    "                                 mode='lines', showlegend=False,\n",
    "                                 line=dict(color='rgba(0,0,0,0.3)', width=1)))\n",
    "    \n",
    "    # Add starting point\n",
    "    fig.add_trace(go.Scatter(x=[0], y=[0], mode='markers',\n",
    "                             marker=dict(color='black', size=15, symbol='square'),\n",
    "                             name='Start'))\n",
    "    \n",
    "    # Calculate the plot bounds\n",
    "    max_abs_coord = df[['x', 'y']].abs().max().max()\n",
    "    axis_range = [-max_abs_coord * 1.1, max_abs_coord * 1.1]\n",
    "    \n",
    "    # Update layout for better appearance\n",
    "    fig.update_layout(\n",
    "        xaxis=dict(showticklabels=False, showgrid=False, zeroline=False, range=axis_range),\n",
    "        yaxis=dict(showticklabels=False, showgrid=False, zeroline=False, range=axis_range, scaleanchor=\"x\", scaleratio=1),\n",
    "        showlegend=True,\n",
    "        legend_title_text='Directions',\n",
    "        hovermode='closest',\n",
    "        width=800,  # Set width\n",
    "        height=800  # Set height to be equal to width for a square plot\n",
    "    )\n",
    "    \n",
    "    # Show the plot\n",
    "    fig.show()"
   ]
  },
  {
   "cell_type": "code",
   "execution_count": 94,
   "metadata": {},
   "outputs": [
    {
     "name": "stdout",
     "output_type": "stream",
     "text": [
      "KL divergences shape: 10xtorch.Size([21])\n",
      "KL divergences:\n",
      "Direction 0:\n",
      "tensor([0.0000e+00, 7.9713e-04, 3.3899e-03, 6.3430e-03, 1.2528e-02, 2.1031e-02,\n",
      "        2.7742e-02, 4.7599e-02, 6.3532e-02, 7.4351e-02, 1.0227e-01, 1.3088e-01,\n",
      "        1.9712e-01, 2.3081e-01, 3.3413e-01, 4.2425e-01, 6.9776e-01, 9.8177e-01,\n",
      "        1.3584e+00, 1.7899e+00, 2.3067e+00])\n",
      "Direction 1:\n",
      "tensor([0.0000e+00, 7.6170e-04, 2.8191e-03, 7.0368e-03, 1.4715e-02, 1.9455e-02,\n",
      "        3.4691e-02, 4.3873e-02, 5.3520e-02, 7.3310e-02, 9.4539e-02, 1.3544e-01,\n",
      "        1.8176e-01, 2.4105e-01, 3.1055e-01, 4.8589e-01, 6.2440e-01, 1.0604e+00,\n",
      "        1.3442e+00, 1.8934e+00, 2.2537e+00])\n",
      "Direction 2:\n",
      "tensor([0.0000e+00, 7.5021e-04, 3.0316e-03, 6.0261e-03, 1.3848e-02, 2.0206e-02,\n",
      "        3.2759e-02, 4.0307e-02, 5.7861e-02, 8.2572e-02, 1.0558e-01, 1.3552e-01,\n",
      "        1.7059e-01, 2.3241e-01, 3.1288e-01, 4.3885e-01, 6.1410e-01, 8.8282e-01,\n",
      "        1.2889e+00, 1.8078e+00, 2.2909e+00])\n",
      "Direction 3:\n",
      "tensor([0.0000e+00, 7.2102e-04, 2.9452e-03, 6.5522e-03, 1.2578e-02, 2.0097e-02,\n",
      "        2.6136e-02, 4.0032e-02, 6.2693e-02, 8.5415e-02, 1.0161e-01, 1.3701e-01,\n",
      "        2.0099e-01, 2.3199e-01, 3.3232e-01, 4.4145e-01, 6.6240e-01, 9.0096e-01,\n",
      "        1.4249e+00, 1.8550e+00, 2.1597e+00])\n",
      "Direction 4:\n",
      "tensor([0.0000e+00, 7.8463e-04, 3.0693e-03, 6.6280e-03, 1.1687e-02, 1.8857e-02,\n",
      "        2.7668e-02, 4.5017e-02, 5.5153e-02, 8.6643e-02, 1.1202e-01, 1.2907e-01,\n",
      "        1.7977e-01, 2.4727e-01, 3.3373e-01, 4.7787e-01, 6.5913e-01, 8.8719e-01,\n",
      "        1.3757e+00, 1.7907e+00, 2.1650e+00])\n",
      "Direction 5:\n",
      "tensor([0.0000e+00, 7.3033e-04, 2.7250e-03, 7.2886e-03, 1.2333e-02, 2.1382e-02,\n",
      "        2.9042e-02, 4.3842e-02, 5.9209e-02, 8.2511e-02, 1.0207e-01, 1.5047e-01,\n",
      "        1.7475e-01, 2.4508e-01, 3.1273e-01, 4.4863e-01, 6.6052e-01, 9.6870e-01,\n",
      "        1.3795e+00, 1.7736e+00, 2.2095e+00])\n",
      "Direction 6:\n",
      "tensor([0.0000e+00, 6.7853e-04, 3.0669e-03, 6.7103e-03, 1.2685e-02, 2.0525e-02,\n",
      "        2.6894e-02, 4.1907e-02, 6.6046e-02, 7.9614e-02, 1.0608e-01, 1.5005e-01,\n",
      "        1.8117e-01, 2.3906e-01, 3.2185e-01, 4.3401e-01, 6.8756e-01, 9.5778e-01,\n",
      "        1.4324e+00, 1.7805e+00, 2.1500e+00])\n",
      "Direction 7:\n",
      "tensor([0.0000e+00, 7.0801e-04, 2.8020e-03, 6.9006e-03, 1.1496e-02, 2.0108e-02,\n",
      "        3.3175e-02, 4.0636e-02, 5.0603e-02, 8.0430e-02, 9.1054e-02, 1.2965e-01,\n",
      "        1.8315e-01, 2.4764e-01, 3.0742e-01, 4.4140e-01, 6.3449e-01, 1.0097e+00,\n",
      "        1.3265e+00, 1.8518e+00, 2.2243e+00])\n",
      "Direction 8:\n",
      "tensor([0.0000e+00, 6.8079e-04, 2.6008e-03, 7.0274e-03, 1.3200e-02, 1.9718e-02,\n",
      "        2.9965e-02, 4.2556e-02, 5.6516e-02, 7.4347e-02, 9.7692e-02, 1.3352e-01,\n",
      "        1.8450e-01, 2.4687e-01, 3.2098e-01, 4.2135e-01, 5.7831e-01, 8.9971e-01,\n",
      "        1.2395e+00, 1.9574e+00, 2.2997e+00])\n",
      "Direction 9:\n",
      "tensor([0.0000e+00, 7.8273e-04, 3.0181e-03, 6.8240e-03, 1.2297e-02, 2.2805e-02,\n",
      "        2.8364e-02, 4.1148e-02, 6.2616e-02, 7.8284e-02, 9.6435e-02, 1.3329e-01,\n",
      "        2.0020e-01, 2.1820e-01, 3.2554e-01, 4.5006e-01, 6.4762e-01, 9.8801e-01,\n",
      "        1.3107e+00, 1.7947e+00, 2.1971e+00])\n"
     ]
    }
   ],
   "source": [
    "# Choose the first SAE and its corresponding examples\n",
    "sae_idx = 0\n",
    "sae = saes[sae_idx]\n",
    "\n",
    "examples_by_feature = examples_by_feature_by_sae[sae_idx]\n",
    "\n",
    "# Choose a single feature (e.g., the first active feature)\n",
    "feature_id = examples_by_feature.active_feature_ids[0]\n",
    "\n",
    "# Create a new examples_by_feature with only one feature\n",
    "single_feature_examples = SAEExamplesByFeature(\n",
    "    active_feature_ids=[feature_id],\n",
    "    input_ids=examples_by_feature.input_ids[:1],  # Take only the first feature's data\n",
    "    resid_acts=examples_by_feature.resid_acts[:1],  # Take only the first feature's data\n",
    "    clean_loss=examples_by_feature.clean_loss[:1] if examples_by_feature.clean_loss is not None else None\n",
    ")\n",
    "\n",
    "# Reduce the number of directions and steps for quicker computation\n",
    "num_directions = 10\n",
    "num_steps = 20\n",
    "step_size = 0.01\n",
    "\n",
    "# Generate perturbations for the single feature\n",
    "pert_by_feature_id_by_direction = get_random_direction_perturbations(num_directions, num_steps, [feature_id])\n",
    "\n",
    "# Compute KL divergences for the single SAE and feature\n",
    "kl_divs, trajectories = compute_trajectory_kl_divs(sae, single_feature_examples, pert_by_feature_id_by_direction, step_size)\n",
    "\n",
    "print(f\"KL divergences shape: {len(kl_divs)}x{kl_divs[0].shape}\")\n",
    "print(\"KL divergences:\")\n",
    "for direction_idx, direction_kl_divs in enumerate(kl_divs):\n",
    "    print(f\"Direction {direction_idx}:\")\n",
    "    print(direction_kl_divs)"
   ]
  },
  {
   "cell_type": "code",
   "execution_count": 95,
   "metadata": {},
   "outputs": [
    {
     "data": {
      "application/vnd.plotly.v1+json": {
       "config": {
        "plotlyServerURL": "https://plot.ly"
       },
       "data": [
        {
         "customdata": [
          [
           0,
           0
          ],
          [
           1,
           0.0008
          ],
          [
           2,
           0.0034
          ],
          [
           3,
           0.0063
          ],
          [
           4,
           0.0125
          ],
          [
           5,
           0.021
          ],
          [
           6,
           0.0277
          ],
          [
           7,
           0.0476
          ],
          [
           8,
           0.0635
          ],
          [
           9,
           0.0744
          ],
          [
           10,
           0.1023
          ],
          [
           11,
           0.1309
          ],
          [
           12,
           0.1971
          ],
          [
           13,
           0.2308
          ],
          [
           14,
           0.3341
          ],
          [
           15,
           0.4242
          ],
          [
           16,
           0.6978
          ],
          [
           17,
           0.9818
          ],
          [
           18,
           1.3584
          ],
          [
           19,
           1.7899
          ],
          [
           20,
           2.3067
          ]
         ],
         "hovertemplate": "direction=Direction 0<br>Direction 1=%{x}<br>Direction 2=%{y}<br>kl_div=%{customdata[1]}<br>step=%{customdata[0]}<extra></extra>",
         "legendgroup": "Direction 0",
         "marker": {
          "color": "#636efa",
          "size": [
           0,
           0.0008,
           0.0034,
           0.0063,
           0.0125,
           0.021,
           0.0277,
           0.0476,
           0.0635,
           0.0744,
           0.1023,
           0.1309,
           0.1971,
           0.2308,
           0.3341,
           0.4242,
           0.6978,
           0.9818,
           1.3584,
           1.7899,
           2.3067
          ],
          "sizemode": "area",
          "sizeref": 0.023067,
          "symbol": "circle"
         },
         "mode": "markers",
         "name": "Direction 0",
         "orientation": "v",
         "showlegend": true,
         "type": "scatter",
         "x": [
          0,
          1,
          2,
          3,
          4,
          5,
          6,
          7,
          8,
          9,
          10,
          11,
          12,
          13,
          14,
          15,
          16,
          17,
          18,
          19,
          20
         ],
         "xaxis": "x",
         "y": [
          0,
          0,
          0,
          0,
          0,
          0,
          0,
          0,
          0,
          0,
          0,
          0,
          0,
          0,
          0,
          0,
          0,
          0,
          0,
          0,
          0
         ],
         "yaxis": "y"
        },
        {
         "customdata": [
          [
           0,
           0
          ],
          [
           1,
           0.0008
          ],
          [
           2,
           0.0028
          ],
          [
           3,
           0.007
          ],
          [
           4,
           0.0147
          ],
          [
           5,
           0.0195
          ],
          [
           6,
           0.0347
          ],
          [
           7,
           0.0439
          ],
          [
           8,
           0.0535
          ],
          [
           9,
           0.0733
          ],
          [
           10,
           0.0945
          ],
          [
           11,
           0.1354
          ],
          [
           12,
           0.1818
          ],
          [
           13,
           0.241
          ],
          [
           14,
           0.3106
          ],
          [
           15,
           0.4859
          ],
          [
           16,
           0.6244
          ],
          [
           17,
           1.0604
          ],
          [
           18,
           1.3442
          ],
          [
           19,
           1.8934
          ],
          [
           20,
           2.2537
          ]
         ],
         "hovertemplate": "direction=Direction 1<br>Direction 1=%{x}<br>Direction 2=%{y}<br>kl_div=%{customdata[1]}<br>step=%{customdata[0]}<extra></extra>",
         "legendgroup": "Direction 1",
         "marker": {
          "color": "#EF553B",
          "size": [
           0,
           0.0008,
           0.0028,
           0.007,
           0.0147,
           0.0195,
           0.0347,
           0.0439,
           0.0535,
           0.0733,
           0.0945,
           0.1354,
           0.1818,
           0.241,
           0.3106,
           0.4859,
           0.6244,
           1.0604,
           1.3442,
           1.8934,
           2.2537
          ],
          "sizemode": "area",
          "sizeref": 0.023067,
          "symbol": "circle"
         },
         "mode": "markers",
         "name": "Direction 1",
         "orientation": "v",
         "showlegend": true,
         "type": "scatter",
         "x": [
          0,
          0.8090169943749475,
          1.618033988749895,
          2.4270509831248424,
          3.23606797749979,
          4.045084971874737,
          4.854101966249685,
          5.663118960624632,
          6.47213595499958,
          7.281152949374527,
          8.090169943749475,
          8.899186938124423,
          9.70820393249937,
          10.517220926874316,
          11.326237921249264,
          12.135254915624213,
          12.94427190999916,
          13.753288904374106,
          14.562305898749054,
          15.371322893124002,
          16.18033988749895
         ],
         "xaxis": "x",
         "y": [
          0,
          0.5877852522924731,
          1.1755705045849463,
          1.7633557568774194,
          2.3511410091698925,
          2.938926261462366,
          3.526711513754839,
          4.114496766047312,
          4.702282018339785,
          5.2900672706322585,
          5.877852522924732,
          6.465637775217204,
          7.053423027509678,
          7.641208279802151,
          8.228993532094623,
          8.816778784387097,
          9.40456403667957,
          9.992349288972044,
          10.580134541264517,
          11.16791979355699,
          11.755705045849464
         ],
         "yaxis": "y"
        },
        {
         "customdata": [
          [
           0,
           0
          ],
          [
           1,
           0.0008
          ],
          [
           2,
           0.003
          ],
          [
           3,
           0.006
          ],
          [
           4,
           0.0138
          ],
          [
           5,
           0.0202
          ],
          [
           6,
           0.0328
          ],
          [
           7,
           0.0403
          ],
          [
           8,
           0.0579
          ],
          [
           9,
           0.0826
          ],
          [
           10,
           0.1056
          ],
          [
           11,
           0.1355
          ],
          [
           12,
           0.1706
          ],
          [
           13,
           0.2324
          ],
          [
           14,
           0.3129
          ],
          [
           15,
           0.4388
          ],
          [
           16,
           0.6141
          ],
          [
           17,
           0.8828
          ],
          [
           18,
           1.2889
          ],
          [
           19,
           1.8078
          ],
          [
           20,
           2.2909
          ]
         ],
         "hovertemplate": "direction=Direction 2<br>Direction 1=%{x}<br>Direction 2=%{y}<br>kl_div=%{customdata[1]}<br>step=%{customdata[0]}<extra></extra>",
         "legendgroup": "Direction 2",
         "marker": {
          "color": "#00cc96",
          "size": [
           0,
           0.0008,
           0.003,
           0.006,
           0.0138,
           0.0202,
           0.0328,
           0.0403,
           0.0579,
           0.0826,
           0.1056,
           0.1355,
           0.1706,
           0.2324,
           0.3129,
           0.4388,
           0.6141,
           0.8828,
           1.2889,
           1.8078,
           2.2909
          ],
          "sizemode": "area",
          "sizeref": 0.023067,
          "symbol": "circle"
         },
         "mode": "markers",
         "name": "Direction 2",
         "orientation": "v",
         "showlegend": true,
         "type": "scatter",
         "x": [
          0,
          0.30901699437494745,
          0.6180339887498949,
          0.9270509831248424,
          1.2360679774997898,
          1.5450849718747373,
          1.8541019662496847,
          2.163118960624632,
          2.4721359549995796,
          2.781152949374527,
          3.0901699437494745,
          3.399186938124422,
          3.7082039324993694,
          4.017220926874317,
          4.326237921249264,
          4.635254915624212,
          4.944271909999159,
          5.253288904374107,
          5.562305898749054,
          5.871322893124002,
          6.180339887498949
         ],
         "xaxis": "x",
         "y": [
          0,
          0.9510565162951535,
          1.902113032590307,
          2.8531695488854605,
          3.804226065180614,
          4.755282581475767,
          5.706339097770921,
          6.657395614066075,
          7.608452130361228,
          8.559508646656381,
          9.510565162951535,
          10.461621679246688,
          11.412678195541842,
          12.363734711836996,
          13.31479122813215,
          14.265847744427303,
          15.216904260722456,
          16.16796077701761,
          17.119017293312762,
          18.070073809607916,
          19.02113032590307
         ],
         "yaxis": "y"
        },
        {
         "customdata": [
          [
           0,
           0
          ],
          [
           1,
           0.0007
          ],
          [
           2,
           0.0029
          ],
          [
           3,
           0.0066
          ],
          [
           4,
           0.0126
          ],
          [
           5,
           0.0201
          ],
          [
           6,
           0.0261
          ],
          [
           7,
           0.04
          ],
          [
           8,
           0.0627
          ],
          [
           9,
           0.0854
          ],
          [
           10,
           0.1016
          ],
          [
           11,
           0.137
          ],
          [
           12,
           0.201
          ],
          [
           13,
           0.232
          ],
          [
           14,
           0.3323
          ],
          [
           15,
           0.4415
          ],
          [
           16,
           0.6624
          ],
          [
           17,
           0.901
          ],
          [
           18,
           1.4249
          ],
          [
           19,
           1.855
          ],
          [
           20,
           2.1597
          ]
         ],
         "hovertemplate": "direction=Direction 3<br>Direction 1=%{x}<br>Direction 2=%{y}<br>kl_div=%{customdata[1]}<br>step=%{customdata[0]}<extra></extra>",
         "legendgroup": "Direction 3",
         "marker": {
          "color": "#ab63fa",
          "size": [
           0,
           0.0007,
           0.0029,
           0.0066,
           0.0126,
           0.0201,
           0.0261,
           0.04,
           0.0627,
           0.0854,
           0.1016,
           0.137,
           0.201,
           0.232,
           0.3323,
           0.4415,
           0.6624,
           0.901,
           1.4249,
           1.855,
           2.1597
          ],
          "sizemode": "area",
          "sizeref": 0.023067,
          "symbol": "circle"
         },
         "mode": "markers",
         "name": "Direction 3",
         "orientation": "v",
         "showlegend": true,
         "type": "scatter",
         "x": [
          0,
          -0.30901699437494734,
          -0.6180339887498947,
          -0.927050983124842,
          -1.2360679774997894,
          -1.5450849718747368,
          -1.854101966249684,
          -2.1631189606246313,
          -2.4721359549995787,
          -2.781152949374526,
          -3.0901699437494736,
          -3.3991869381244206,
          -3.708203932499368,
          -4.017220926874315,
          -4.3262379212492625,
          -4.63525491562421,
          -4.944271909999157,
          -5.253288904374105,
          -5.562305898749052,
          -5.871322893124,
          -6.180339887498947
         ],
         "xaxis": "x",
         "y": [
          0,
          0.9510565162951536,
          1.9021130325903073,
          2.853169548885461,
          3.8042260651806146,
          4.755282581475768,
          5.706339097770922,
          6.6573956140660755,
          7.608452130361229,
          8.559508646656383,
          9.510565162951536,
          10.46162167924669,
          11.412678195541844,
          12.363734711836997,
          13.314791228132151,
          14.265847744427305,
          15.216904260722458,
          16.167960777017612,
          17.119017293312766,
          18.07007380960792,
          19.021130325903073
         ],
         "yaxis": "y"
        },
        {
         "customdata": [
          [
           0,
           0
          ],
          [
           1,
           0.0008
          ],
          [
           2,
           0.0031
          ],
          [
           3,
           0.0066
          ],
          [
           4,
           0.0117
          ],
          [
           5,
           0.0189
          ],
          [
           6,
           0.0277
          ],
          [
           7,
           0.045
          ],
          [
           8,
           0.0552
          ],
          [
           9,
           0.0866
          ],
          [
           10,
           0.112
          ],
          [
           11,
           0.1291
          ],
          [
           12,
           0.1798
          ],
          [
           13,
           0.2473
          ],
          [
           14,
           0.3337
          ],
          [
           15,
           0.4779
          ],
          [
           16,
           0.6591
          ],
          [
           17,
           0.8872
          ],
          [
           18,
           1.3757
          ],
          [
           19,
           1.7907
          ],
          [
           20,
           2.165
          ]
         ],
         "hovertemplate": "direction=Direction 4<br>Direction 1=%{x}<br>Direction 2=%{y}<br>kl_div=%{customdata[1]}<br>step=%{customdata[0]}<extra></extra>",
         "legendgroup": "Direction 4",
         "marker": {
          "color": "#FFA15A",
          "size": [
           0,
           0.0008,
           0.0031,
           0.0066,
           0.0117,
           0.0189,
           0.0277,
           0.045,
           0.0552,
           0.0866,
           0.112,
           0.1291,
           0.1798,
           0.2473,
           0.3337,
           0.4779,
           0.6591,
           0.8872,
           1.3757,
           1.7907,
           2.165
          ],
          "sizemode": "area",
          "sizeref": 0.023067,
          "symbol": "circle"
         },
         "mode": "markers",
         "name": "Direction 4",
         "orientation": "v",
         "showlegend": true,
         "type": "scatter",
         "x": [
          0,
          -0.8090169943749473,
          -1.6180339887498947,
          -2.427050983124842,
          -3.2360679774997894,
          -4.045084971874736,
          -4.854101966249684,
          -5.663118960624631,
          -6.472135954999579,
          -7.281152949374526,
          -8.090169943749473,
          -8.899186938124421,
          -9.708203932499368,
          -10.517220926874316,
          -11.326237921249263,
          -12.13525491562421,
          -12.944271909999157,
          -13.753288904374104,
          -14.562305898749052,
          -15.371322893123999,
          -16.180339887498945
         ],
         "xaxis": "x",
         "y": [
          0,
          0.5877852522924732,
          1.1755705045849465,
          1.7633557568774196,
          2.351141009169893,
          2.9389262614623664,
          3.5267115137548393,
          4.114496766047313,
          4.702282018339786,
          5.290067270632259,
          5.877852522924733,
          6.465637775217206,
          7.0534230275096785,
          7.641208279802152,
          8.228993532094625,
          8.816778784387099,
          9.404564036679572,
          9.992349288972045,
          10.580134541264519,
          11.167919793556992,
          11.755705045849465
         ],
         "yaxis": "y"
        },
        {
         "customdata": [
          [
           0,
           0
          ],
          [
           1,
           0.0007
          ],
          [
           2,
           0.0027
          ],
          [
           3,
           0.0073
          ],
          [
           4,
           0.0123
          ],
          [
           5,
           0.0214
          ],
          [
           6,
           0.029
          ],
          [
           7,
           0.0438
          ],
          [
           8,
           0.0592
          ],
          [
           9,
           0.0825
          ],
          [
           10,
           0.1021
          ],
          [
           11,
           0.1505
          ],
          [
           12,
           0.1747
          ],
          [
           13,
           0.2451
          ],
          [
           14,
           0.3127
          ],
          [
           15,
           0.4486
          ],
          [
           16,
           0.6605
          ],
          [
           17,
           0.9687
          ],
          [
           18,
           1.3795
          ],
          [
           19,
           1.7736
          ],
          [
           20,
           2.2095
          ]
         ],
         "hovertemplate": "direction=Direction 5<br>Direction 1=%{x}<br>Direction 2=%{y}<br>kl_div=%{customdata[1]}<br>step=%{customdata[0]}<extra></extra>",
         "legendgroup": "Direction 5",
         "marker": {
          "color": "#19d3f3",
          "size": [
           0,
           0.0007,
           0.0027,
           0.0073,
           0.0123,
           0.0214,
           0.029,
           0.0438,
           0.0592,
           0.0825,
           0.1021,
           0.1505,
           0.1747,
           0.2451,
           0.3127,
           0.4486,
           0.6605,
           0.9687,
           1.3795,
           1.7736,
           2.2095
          ],
          "sizemode": "area",
          "sizeref": 0.023067,
          "symbol": "circle"
         },
         "mode": "markers",
         "name": "Direction 5",
         "orientation": "v",
         "showlegend": true,
         "type": "scatter",
         "x": [
          0,
          -1,
          -2,
          -3,
          -4,
          -5,
          -6,
          -7,
          -8,
          -9,
          -10,
          -11,
          -12,
          -13,
          -14,
          -15,
          -16,
          -17,
          -18,
          -19,
          -20
         ],
         "xaxis": "x",
         "y": [
          0,
          1.2246467991473532e-16,
          2.4492935982947064e-16,
          3.6739403974420594e-16,
          4.898587196589413e-16,
          6.123233995736766e-16,
          7.347880794884119e-16,
          8.572527594031472e-16,
          9.797174393178826e-16,
          1.102182119232618e-15,
          1.2246467991473533e-15,
          1.3471114790620886e-15,
          1.4695761589768238e-15,
          1.592040838891559e-15,
          1.7145055188062944e-15,
          1.83697019872103e-15,
          1.959434878635765e-15,
          2.0818995585505003e-15,
          2.204364238465236e-15,
          2.326828918379971e-15,
          2.4492935982947065e-15
         ],
         "yaxis": "y"
        },
        {
         "customdata": [
          [
           0,
           0
          ],
          [
           1,
           0.0007
          ],
          [
           2,
           0.0031
          ],
          [
           3,
           0.0067
          ],
          [
           4,
           0.0127
          ],
          [
           5,
           0.0205
          ],
          [
           6,
           0.0269
          ],
          [
           7,
           0.0419
          ],
          [
           8,
           0.066
          ],
          [
           9,
           0.0796
          ],
          [
           10,
           0.1061
          ],
          [
           11,
           0.1501
          ],
          [
           12,
           0.1812
          ],
          [
           13,
           0.2391
          ],
          [
           14,
           0.3218
          ],
          [
           15,
           0.434
          ],
          [
           16,
           0.6876
          ],
          [
           17,
           0.9578
          ],
          [
           18,
           1.4324
          ],
          [
           19,
           1.7805
          ],
          [
           20,
           2.15
          ]
         ],
         "hovertemplate": "direction=Direction 6<br>Direction 1=%{x}<br>Direction 2=%{y}<br>kl_div=%{customdata[1]}<br>step=%{customdata[0]}<extra></extra>",
         "legendgroup": "Direction 6",
         "marker": {
          "color": "#FF6692",
          "size": [
           0,
           0.0007,
           0.0031,
           0.0067,
           0.0127,
           0.0205,
           0.0269,
           0.0419,
           0.066,
           0.0796,
           0.1061,
           0.1501,
           0.1812,
           0.2391,
           0.3218,
           0.434,
           0.6876,
           0.9578,
           1.4324,
           1.7805,
           2.15
          ],
          "sizemode": "area",
          "sizeref": 0.023067,
          "symbol": "circle"
         },
         "mode": "markers",
         "name": "Direction 6",
         "orientation": "v",
         "showlegend": true,
         "type": "scatter",
         "x": [
          0,
          -0.8090169943749476,
          -1.6180339887498951,
          -2.427050983124843,
          -3.2360679774997902,
          -4.045084971874738,
          -4.854101966249686,
          -5.663118960624633,
          -6.4721359549995805,
          -7.281152949374528,
          -8.090169943749476,
          -8.899186938124423,
          -9.708203932499371,
          -10.517220926874318,
          -11.326237921249266,
          -12.135254915624213,
          -12.944271909999161,
          -13.75328890437411,
          -14.562305898749056,
          -15.371322893124004,
          -16.180339887498953
         ],
         "xaxis": "x",
         "y": [
          0,
          -0.587785252292473,
          -1.175570504584946,
          -1.7633557568774192,
          -2.351141009169892,
          -2.938926261462365,
          -3.5267115137548384,
          -4.114496766047311,
          -4.702282018339784,
          -5.290067270632258,
          -5.87785252292473,
          -6.465637775217203,
          -7.053423027509677,
          -7.641208279802149,
          -8.228993532094622,
          -8.816778784387095,
          -9.404564036679568,
          -9.992349288972042,
          -10.580134541264515,
          -11.167919793556987,
          -11.75570504584946
         ],
         "yaxis": "y"
        },
        {
         "customdata": [
          [
           0,
           0
          ],
          [
           1,
           0.0007
          ],
          [
           2,
           0.0028
          ],
          [
           3,
           0.0069
          ],
          [
           4,
           0.0115
          ],
          [
           5,
           0.0201
          ],
          [
           6,
           0.0332
          ],
          [
           7,
           0.0406
          ],
          [
           8,
           0.0506
          ],
          [
           9,
           0.0804
          ],
          [
           10,
           0.0911
          ],
          [
           11,
           0.1296
          ],
          [
           12,
           0.1832
          ],
          [
           13,
           0.2476
          ],
          [
           14,
           0.3074
          ],
          [
           15,
           0.4414
          ],
          [
           16,
           0.6345
          ],
          [
           17,
           1.0097
          ],
          [
           18,
           1.3265
          ],
          [
           19,
           1.8518
          ],
          [
           20,
           2.2243
          ]
         ],
         "hovertemplate": "direction=Direction 7<br>Direction 1=%{x}<br>Direction 2=%{y}<br>kl_div=%{customdata[1]}<br>step=%{customdata[0]}<extra></extra>",
         "legendgroup": "Direction 7",
         "marker": {
          "color": "#B6E880",
          "size": [
           0,
           0.0007,
           0.0028,
           0.0069,
           0.0115,
           0.0201,
           0.0332,
           0.0406,
           0.0506,
           0.0804,
           0.0911,
           0.1296,
           0.1832,
           0.2476,
           0.3074,
           0.4414,
           0.6345,
           1.0097,
           1.3265,
           1.8518,
           2.2243
          ],
          "sizemode": "area",
          "sizeref": 0.023067,
          "symbol": "circle"
         },
         "mode": "markers",
         "name": "Direction 7",
         "orientation": "v",
         "showlegend": true,
         "type": "scatter",
         "x": [
          0,
          -0.30901699437494756,
          -0.6180339887498951,
          -0.9270509831248427,
          -1.2360679774997902,
          -1.5450849718747377,
          -1.8541019662496854,
          -2.163118960624633,
          -2.4721359549995805,
          -2.781152949374528,
          -3.0901699437494754,
          -3.3991869381244233,
          -3.7082039324993707,
          -4.017220926874319,
          -4.326237921249266,
          -4.6352549156242135,
          -4.944271909999161,
          -5.2532889043741084,
          -5.562305898749056,
          -5.871322893124003,
          -6.180339887498951
         ],
         "xaxis": "x",
         "y": [
          0,
          -0.9510565162951535,
          -1.902113032590307,
          -2.8531695488854605,
          -3.804226065180614,
          -4.755282581475767,
          -5.706339097770921,
          -6.657395614066075,
          -7.608452130361228,
          -8.559508646656381,
          -9.510565162951535,
          -10.461621679246688,
          -11.412678195541842,
          -12.363734711836996,
          -13.31479122813215,
          -14.265847744427303,
          -15.216904260722456,
          -16.16796077701761,
          -17.119017293312762,
          -18.070073809607916,
          -19.02113032590307
         ],
         "yaxis": "y"
        },
        {
         "customdata": [
          [
           0,
           0
          ],
          [
           1,
           0.0007
          ],
          [
           2,
           0.0026
          ],
          [
           3,
           0.007
          ],
          [
           4,
           0.0132
          ],
          [
           5,
           0.0197
          ],
          [
           6,
           0.03
          ],
          [
           7,
           0.0426
          ],
          [
           8,
           0.0565
          ],
          [
           9,
           0.0743
          ],
          [
           10,
           0.0977
          ],
          [
           11,
           0.1335
          ],
          [
           12,
           0.1845
          ],
          [
           13,
           0.2469
          ],
          [
           14,
           0.321
          ],
          [
           15,
           0.4213
          ],
          [
           16,
           0.5783
          ],
          [
           17,
           0.8997
          ],
          [
           18,
           1.2395
          ],
          [
           19,
           1.9574
          ],
          [
           20,
           2.2997
          ]
         ],
         "hovertemplate": "direction=Direction 8<br>Direction 1=%{x}<br>Direction 2=%{y}<br>kl_div=%{customdata[1]}<br>step=%{customdata[0]}<extra></extra>",
         "legendgroup": "Direction 8",
         "marker": {
          "color": "#FF97FF",
          "size": [
           0,
           0.0007,
           0.0026,
           0.007,
           0.0132,
           0.0197,
           0.03,
           0.0426,
           0.0565,
           0.0743,
           0.0977,
           0.1335,
           0.1845,
           0.2469,
           0.321,
           0.4213,
           0.5783,
           0.8997,
           1.2395,
           1.9574,
           2.2997
          ],
          "sizemode": "area",
          "sizeref": 0.023067,
          "symbol": "circle"
         },
         "mode": "markers",
         "name": "Direction 8",
         "orientation": "v",
         "showlegend": true,
         "type": "scatter",
         "x": [
          0,
          0.30901699437494723,
          0.6180339887498945,
          0.9270509831248417,
          1.236067977499789,
          1.5450849718747361,
          1.8541019662496834,
          2.1631189606246304,
          2.472135954999578,
          2.7811529493745253,
          3.0901699437494723,
          3.3991869381244193,
          3.7082039324993668,
          4.017220926874314,
          4.326237921249261,
          4.635254915624208,
          4.944271909999156,
          5.253288904374103,
          5.562305898749051,
          5.871322893123997,
          6.180339887498945
         ],
         "xaxis": "x",
         "y": [
          0,
          -0.9510565162951536,
          -1.9021130325903073,
          -2.853169548885461,
          -3.8042260651806146,
          -4.755282581475768,
          -5.706339097770922,
          -6.6573956140660755,
          -7.608452130361229,
          -8.559508646656383,
          -9.510565162951536,
          -10.46162167924669,
          -11.412678195541844,
          -12.363734711836997,
          -13.314791228132151,
          -14.265847744427305,
          -15.216904260722458,
          -16.167960777017612,
          -17.119017293312766,
          -18.07007380960792,
          -19.021130325903073
         ],
         "yaxis": "y"
        },
        {
         "customdata": [
          [
           0,
           0
          ],
          [
           1,
           0.0008
          ],
          [
           2,
           0.003
          ],
          [
           3,
           0.0068
          ],
          [
           4,
           0.0123
          ],
          [
           5,
           0.0228
          ],
          [
           6,
           0.0284
          ],
          [
           7,
           0.0411
          ],
          [
           8,
           0.0626
          ],
          [
           9,
           0.0783
          ],
          [
           10,
           0.0964
          ],
          [
           11,
           0.1333
          ],
          [
           12,
           0.2002
          ],
          [
           13,
           0.2182
          ],
          [
           14,
           0.3255
          ],
          [
           15,
           0.4501
          ],
          [
           16,
           0.6476
          ],
          [
           17,
           0.988
          ],
          [
           18,
           1.3107
          ],
          [
           19,
           1.7947
          ],
          [
           20,
           2.1971
          ]
         ],
         "hovertemplate": "direction=Direction 9<br>Direction 1=%{x}<br>Direction 2=%{y}<br>kl_div=%{customdata[1]}<br>step=%{customdata[0]}<extra></extra>",
         "legendgroup": "Direction 9",
         "marker": {
          "color": "#FECB52",
          "size": [
           0,
           0.0008,
           0.003,
           0.0068,
           0.0123,
           0.0228,
           0.0284,
           0.0411,
           0.0626,
           0.0783,
           0.0964,
           0.1333,
           0.2002,
           0.2182,
           0.3255,
           0.4501,
           0.6476,
           0.988,
           1.3107,
           1.7947,
           2.1971
          ],
          "sizemode": "area",
          "sizeref": 0.023067,
          "symbol": "circle"
         },
         "mode": "markers",
         "name": "Direction 9",
         "orientation": "v",
         "showlegend": true,
         "type": "scatter",
         "x": [
          0,
          0.8090169943749473,
          1.6180339887498947,
          2.427050983124842,
          3.2360679774997894,
          4.045084971874736,
          4.854101966249684,
          5.663118960624631,
          6.472135954999579,
          7.281152949374526,
          8.090169943749473,
          8.899186938124421,
          9.708203932499368,
          10.517220926874316,
          11.326237921249263,
          12.13525491562421,
          12.944271909999157,
          13.753288904374104,
          14.562305898749052,
          15.371322893123999,
          16.180339887498945
         ],
         "xaxis": "x",
         "y": [
          0,
          -0.5877852522924734,
          -1.1755705045849467,
          -1.76335575687742,
          -2.3511410091698934,
          -2.938926261462367,
          -3.52671151375484,
          -4.1144967660473135,
          -4.702282018339787,
          -5.29006727063226,
          -5.877852522924734,
          -6.465637775217207,
          -7.05342302750968,
          -7.641208279802154,
          -8.228993532094627,
          -8.8167787843871,
          -9.404564036679574,
          -9.992349288972047,
          -10.58013454126452,
          -11.167919793556994,
          -11.755705045849467
         ],
         "yaxis": "y"
        },
        {
         "line": {
          "color": "rgba(0,0,0,0.3)",
          "width": 1
         },
         "mode": "lines",
         "showlegend": false,
         "type": "scatter",
         "x": [
          0,
          1,
          2,
          3,
          4,
          5,
          6,
          7,
          8,
          9,
          10,
          11,
          12,
          13,
          14,
          15,
          16,
          17,
          18,
          19,
          20
         ],
         "y": [
          0,
          0,
          0,
          0,
          0,
          0,
          0,
          0,
          0,
          0,
          0,
          0,
          0,
          0,
          0,
          0,
          0,
          0,
          0,
          0,
          0
         ]
        },
        {
         "line": {
          "color": "rgba(0,0,0,0.3)",
          "width": 1
         },
         "mode": "lines",
         "showlegend": false,
         "type": "scatter",
         "x": [
          0,
          0.8090169943749475,
          1.618033988749895,
          2.4270509831248424,
          3.23606797749979,
          4.045084971874737,
          4.854101966249685,
          5.663118960624632,
          6.47213595499958,
          7.281152949374527,
          8.090169943749475,
          8.899186938124423,
          9.70820393249937,
          10.517220926874316,
          11.326237921249264,
          12.135254915624213,
          12.94427190999916,
          13.753288904374106,
          14.562305898749054,
          15.371322893124002,
          16.18033988749895
         ],
         "y": [
          0,
          0.5877852522924731,
          1.1755705045849463,
          1.7633557568774194,
          2.3511410091698925,
          2.938926261462366,
          3.526711513754839,
          4.114496766047312,
          4.702282018339785,
          5.2900672706322585,
          5.877852522924732,
          6.465637775217204,
          7.053423027509678,
          7.641208279802151,
          8.228993532094623,
          8.816778784387097,
          9.40456403667957,
          9.992349288972044,
          10.580134541264517,
          11.16791979355699,
          11.755705045849464
         ]
        },
        {
         "line": {
          "color": "rgba(0,0,0,0.3)",
          "width": 1
         },
         "mode": "lines",
         "showlegend": false,
         "type": "scatter",
         "x": [
          0,
          0.30901699437494745,
          0.6180339887498949,
          0.9270509831248424,
          1.2360679774997898,
          1.5450849718747373,
          1.8541019662496847,
          2.163118960624632,
          2.4721359549995796,
          2.781152949374527,
          3.0901699437494745,
          3.399186938124422,
          3.7082039324993694,
          4.017220926874317,
          4.326237921249264,
          4.635254915624212,
          4.944271909999159,
          5.253288904374107,
          5.562305898749054,
          5.871322893124002,
          6.180339887498949
         ],
         "y": [
          0,
          0.9510565162951535,
          1.902113032590307,
          2.8531695488854605,
          3.804226065180614,
          4.755282581475767,
          5.706339097770921,
          6.657395614066075,
          7.608452130361228,
          8.559508646656381,
          9.510565162951535,
          10.461621679246688,
          11.412678195541842,
          12.363734711836996,
          13.31479122813215,
          14.265847744427303,
          15.216904260722456,
          16.16796077701761,
          17.119017293312762,
          18.070073809607916,
          19.02113032590307
         ]
        },
        {
         "line": {
          "color": "rgba(0,0,0,0.3)",
          "width": 1
         },
         "mode": "lines",
         "showlegend": false,
         "type": "scatter",
         "x": [
          0,
          -0.30901699437494734,
          -0.6180339887498947,
          -0.927050983124842,
          -1.2360679774997894,
          -1.5450849718747368,
          -1.854101966249684,
          -2.1631189606246313,
          -2.4721359549995787,
          -2.781152949374526,
          -3.0901699437494736,
          -3.3991869381244206,
          -3.708203932499368,
          -4.017220926874315,
          -4.3262379212492625,
          -4.63525491562421,
          -4.944271909999157,
          -5.253288904374105,
          -5.562305898749052,
          -5.871322893124,
          -6.180339887498947
         ],
         "y": [
          0,
          0.9510565162951536,
          1.9021130325903073,
          2.853169548885461,
          3.8042260651806146,
          4.755282581475768,
          5.706339097770922,
          6.6573956140660755,
          7.608452130361229,
          8.559508646656383,
          9.510565162951536,
          10.46162167924669,
          11.412678195541844,
          12.363734711836997,
          13.314791228132151,
          14.265847744427305,
          15.216904260722458,
          16.167960777017612,
          17.119017293312766,
          18.07007380960792,
          19.021130325903073
         ]
        },
        {
         "line": {
          "color": "rgba(0,0,0,0.3)",
          "width": 1
         },
         "mode": "lines",
         "showlegend": false,
         "type": "scatter",
         "x": [
          0,
          -0.8090169943749473,
          -1.6180339887498947,
          -2.427050983124842,
          -3.2360679774997894,
          -4.045084971874736,
          -4.854101966249684,
          -5.663118960624631,
          -6.472135954999579,
          -7.281152949374526,
          -8.090169943749473,
          -8.899186938124421,
          -9.708203932499368,
          -10.517220926874316,
          -11.326237921249263,
          -12.13525491562421,
          -12.944271909999157,
          -13.753288904374104,
          -14.562305898749052,
          -15.371322893123999,
          -16.180339887498945
         ],
         "y": [
          0,
          0.5877852522924732,
          1.1755705045849465,
          1.7633557568774196,
          2.351141009169893,
          2.9389262614623664,
          3.5267115137548393,
          4.114496766047313,
          4.702282018339786,
          5.290067270632259,
          5.877852522924733,
          6.465637775217206,
          7.0534230275096785,
          7.641208279802152,
          8.228993532094625,
          8.816778784387099,
          9.404564036679572,
          9.992349288972045,
          10.580134541264519,
          11.167919793556992,
          11.755705045849465
         ]
        },
        {
         "line": {
          "color": "rgba(0,0,0,0.3)",
          "width": 1
         },
         "mode": "lines",
         "showlegend": false,
         "type": "scatter",
         "x": [
          0,
          -1,
          -2,
          -3,
          -4,
          -5,
          -6,
          -7,
          -8,
          -9,
          -10,
          -11,
          -12,
          -13,
          -14,
          -15,
          -16,
          -17,
          -18,
          -19,
          -20
         ],
         "y": [
          0,
          1.2246467991473532e-16,
          2.4492935982947064e-16,
          3.6739403974420594e-16,
          4.898587196589413e-16,
          6.123233995736766e-16,
          7.347880794884119e-16,
          8.572527594031472e-16,
          9.797174393178826e-16,
          1.102182119232618e-15,
          1.2246467991473533e-15,
          1.3471114790620886e-15,
          1.4695761589768238e-15,
          1.592040838891559e-15,
          1.7145055188062944e-15,
          1.83697019872103e-15,
          1.959434878635765e-15,
          2.0818995585505003e-15,
          2.204364238465236e-15,
          2.326828918379971e-15,
          2.4492935982947065e-15
         ]
        },
        {
         "line": {
          "color": "rgba(0,0,0,0.3)",
          "width": 1
         },
         "mode": "lines",
         "showlegend": false,
         "type": "scatter",
         "x": [
          0,
          -0.8090169943749476,
          -1.6180339887498951,
          -2.427050983124843,
          -3.2360679774997902,
          -4.045084971874738,
          -4.854101966249686,
          -5.663118960624633,
          -6.4721359549995805,
          -7.281152949374528,
          -8.090169943749476,
          -8.899186938124423,
          -9.708203932499371,
          -10.517220926874318,
          -11.326237921249266,
          -12.135254915624213,
          -12.944271909999161,
          -13.75328890437411,
          -14.562305898749056,
          -15.371322893124004,
          -16.180339887498953
         ],
         "y": [
          0,
          -0.587785252292473,
          -1.175570504584946,
          -1.7633557568774192,
          -2.351141009169892,
          -2.938926261462365,
          -3.5267115137548384,
          -4.114496766047311,
          -4.702282018339784,
          -5.290067270632258,
          -5.87785252292473,
          -6.465637775217203,
          -7.053423027509677,
          -7.641208279802149,
          -8.228993532094622,
          -8.816778784387095,
          -9.404564036679568,
          -9.992349288972042,
          -10.580134541264515,
          -11.167919793556987,
          -11.75570504584946
         ]
        },
        {
         "line": {
          "color": "rgba(0,0,0,0.3)",
          "width": 1
         },
         "mode": "lines",
         "showlegend": false,
         "type": "scatter",
         "x": [
          0,
          -0.30901699437494756,
          -0.6180339887498951,
          -0.9270509831248427,
          -1.2360679774997902,
          -1.5450849718747377,
          -1.8541019662496854,
          -2.163118960624633,
          -2.4721359549995805,
          -2.781152949374528,
          -3.0901699437494754,
          -3.3991869381244233,
          -3.7082039324993707,
          -4.017220926874319,
          -4.326237921249266,
          -4.6352549156242135,
          -4.944271909999161,
          -5.2532889043741084,
          -5.562305898749056,
          -5.871322893124003,
          -6.180339887498951
         ],
         "y": [
          0,
          -0.9510565162951535,
          -1.902113032590307,
          -2.8531695488854605,
          -3.804226065180614,
          -4.755282581475767,
          -5.706339097770921,
          -6.657395614066075,
          -7.608452130361228,
          -8.559508646656381,
          -9.510565162951535,
          -10.461621679246688,
          -11.412678195541842,
          -12.363734711836996,
          -13.31479122813215,
          -14.265847744427303,
          -15.216904260722456,
          -16.16796077701761,
          -17.119017293312762,
          -18.070073809607916,
          -19.02113032590307
         ]
        },
        {
         "line": {
          "color": "rgba(0,0,0,0.3)",
          "width": 1
         },
         "mode": "lines",
         "showlegend": false,
         "type": "scatter",
         "x": [
          0,
          0.30901699437494723,
          0.6180339887498945,
          0.9270509831248417,
          1.236067977499789,
          1.5450849718747361,
          1.8541019662496834,
          2.1631189606246304,
          2.472135954999578,
          2.7811529493745253,
          3.0901699437494723,
          3.3991869381244193,
          3.7082039324993668,
          4.017220926874314,
          4.326237921249261,
          4.635254915624208,
          4.944271909999156,
          5.253288904374103,
          5.562305898749051,
          5.871322893123997,
          6.180339887498945
         ],
         "y": [
          0,
          -0.9510565162951536,
          -1.9021130325903073,
          -2.853169548885461,
          -3.8042260651806146,
          -4.755282581475768,
          -5.706339097770922,
          -6.6573956140660755,
          -7.608452130361229,
          -8.559508646656383,
          -9.510565162951536,
          -10.46162167924669,
          -11.412678195541844,
          -12.363734711836997,
          -13.314791228132151,
          -14.265847744427305,
          -15.216904260722458,
          -16.167960777017612,
          -17.119017293312766,
          -18.07007380960792,
          -19.021130325903073
         ]
        },
        {
         "line": {
          "color": "rgba(0,0,0,0.3)",
          "width": 1
         },
         "mode": "lines",
         "showlegend": false,
         "type": "scatter",
         "x": [
          0,
          0.8090169943749473,
          1.6180339887498947,
          2.427050983124842,
          3.2360679774997894,
          4.045084971874736,
          4.854101966249684,
          5.663118960624631,
          6.472135954999579,
          7.281152949374526,
          8.090169943749473,
          8.899186938124421,
          9.708203932499368,
          10.517220926874316,
          11.326237921249263,
          12.13525491562421,
          12.944271909999157,
          13.753288904374104,
          14.562305898749052,
          15.371322893123999,
          16.180339887498945
         ],
         "y": [
          0,
          -0.5877852522924734,
          -1.1755705045849467,
          -1.76335575687742,
          -2.3511410091698934,
          -2.938926261462367,
          -3.52671151375484,
          -4.1144967660473135,
          -4.702282018339787,
          -5.29006727063226,
          -5.877852522924734,
          -6.465637775217207,
          -7.05342302750968,
          -7.641208279802154,
          -8.228993532094627,
          -8.8167787843871,
          -9.404564036679574,
          -9.992349288972047,
          -10.58013454126452,
          -11.167919793556994,
          -11.755705045849467
         ]
        },
        {
         "marker": {
          "color": "black",
          "size": 15,
          "symbol": "square"
         },
         "mode": "markers",
         "name": "Start",
         "type": "scatter",
         "x": [
          0
         ],
         "y": [
          0
         ]
        }
       ],
       "layout": {
        "height": 800,
        "hovermode": "closest",
        "legend": {
         "itemsizing": "constant",
         "title": {
          "text": "Directions"
         },
         "tracegroupgap": 0
        },
        "showlegend": true,
        "template": {
         "data": {
          "bar": [
           {
            "error_x": {
             "color": "#2a3f5f"
            },
            "error_y": {
             "color": "#2a3f5f"
            },
            "marker": {
             "line": {
              "color": "#E5ECF6",
              "width": 0.5
             },
             "pattern": {
              "fillmode": "overlay",
              "size": 10,
              "solidity": 0.2
             }
            },
            "type": "bar"
           }
          ],
          "barpolar": [
           {
            "marker": {
             "line": {
              "color": "#E5ECF6",
              "width": 0.5
             },
             "pattern": {
              "fillmode": "overlay",
              "size": 10,
              "solidity": 0.2
             }
            },
            "type": "barpolar"
           }
          ],
          "carpet": [
           {
            "aaxis": {
             "endlinecolor": "#2a3f5f",
             "gridcolor": "white",
             "linecolor": "white",
             "minorgridcolor": "white",
             "startlinecolor": "#2a3f5f"
            },
            "baxis": {
             "endlinecolor": "#2a3f5f",
             "gridcolor": "white",
             "linecolor": "white",
             "minorgridcolor": "white",
             "startlinecolor": "#2a3f5f"
            },
            "type": "carpet"
           }
          ],
          "choropleth": [
           {
            "colorbar": {
             "outlinewidth": 0,
             "ticks": ""
            },
            "type": "choropleth"
           }
          ],
          "contour": [
           {
            "colorbar": {
             "outlinewidth": 0,
             "ticks": ""
            },
            "colorscale": [
             [
              0,
              "#0d0887"
             ],
             [
              0.1111111111111111,
              "#46039f"
             ],
             [
              0.2222222222222222,
              "#7201a8"
             ],
             [
              0.3333333333333333,
              "#9c179e"
             ],
             [
              0.4444444444444444,
              "#bd3786"
             ],
             [
              0.5555555555555556,
              "#d8576b"
             ],
             [
              0.6666666666666666,
              "#ed7953"
             ],
             [
              0.7777777777777778,
              "#fb9f3a"
             ],
             [
              0.8888888888888888,
              "#fdca26"
             ],
             [
              1,
              "#f0f921"
             ]
            ],
            "type": "contour"
           }
          ],
          "contourcarpet": [
           {
            "colorbar": {
             "outlinewidth": 0,
             "ticks": ""
            },
            "type": "contourcarpet"
           }
          ],
          "heatmap": [
           {
            "colorbar": {
             "outlinewidth": 0,
             "ticks": ""
            },
            "colorscale": [
             [
              0,
              "#0d0887"
             ],
             [
              0.1111111111111111,
              "#46039f"
             ],
             [
              0.2222222222222222,
              "#7201a8"
             ],
             [
              0.3333333333333333,
              "#9c179e"
             ],
             [
              0.4444444444444444,
              "#bd3786"
             ],
             [
              0.5555555555555556,
              "#d8576b"
             ],
             [
              0.6666666666666666,
              "#ed7953"
             ],
             [
              0.7777777777777778,
              "#fb9f3a"
             ],
             [
              0.8888888888888888,
              "#fdca26"
             ],
             [
              1,
              "#f0f921"
             ]
            ],
            "type": "heatmap"
           }
          ],
          "heatmapgl": [
           {
            "colorbar": {
             "outlinewidth": 0,
             "ticks": ""
            },
            "colorscale": [
             [
              0,
              "#0d0887"
             ],
             [
              0.1111111111111111,
              "#46039f"
             ],
             [
              0.2222222222222222,
              "#7201a8"
             ],
             [
              0.3333333333333333,
              "#9c179e"
             ],
             [
              0.4444444444444444,
              "#bd3786"
             ],
             [
              0.5555555555555556,
              "#d8576b"
             ],
             [
              0.6666666666666666,
              "#ed7953"
             ],
             [
              0.7777777777777778,
              "#fb9f3a"
             ],
             [
              0.8888888888888888,
              "#fdca26"
             ],
             [
              1,
              "#f0f921"
             ]
            ],
            "type": "heatmapgl"
           }
          ],
          "histogram": [
           {
            "marker": {
             "pattern": {
              "fillmode": "overlay",
              "size": 10,
              "solidity": 0.2
             }
            },
            "type": "histogram"
           }
          ],
          "histogram2d": [
           {
            "colorbar": {
             "outlinewidth": 0,
             "ticks": ""
            },
            "colorscale": [
             [
              0,
              "#0d0887"
             ],
             [
              0.1111111111111111,
              "#46039f"
             ],
             [
              0.2222222222222222,
              "#7201a8"
             ],
             [
              0.3333333333333333,
              "#9c179e"
             ],
             [
              0.4444444444444444,
              "#bd3786"
             ],
             [
              0.5555555555555556,
              "#d8576b"
             ],
             [
              0.6666666666666666,
              "#ed7953"
             ],
             [
              0.7777777777777778,
              "#fb9f3a"
             ],
             [
              0.8888888888888888,
              "#fdca26"
             ],
             [
              1,
              "#f0f921"
             ]
            ],
            "type": "histogram2d"
           }
          ],
          "histogram2dcontour": [
           {
            "colorbar": {
             "outlinewidth": 0,
             "ticks": ""
            },
            "colorscale": [
             [
              0,
              "#0d0887"
             ],
             [
              0.1111111111111111,
              "#46039f"
             ],
             [
              0.2222222222222222,
              "#7201a8"
             ],
             [
              0.3333333333333333,
              "#9c179e"
             ],
             [
              0.4444444444444444,
              "#bd3786"
             ],
             [
              0.5555555555555556,
              "#d8576b"
             ],
             [
              0.6666666666666666,
              "#ed7953"
             ],
             [
              0.7777777777777778,
              "#fb9f3a"
             ],
             [
              0.8888888888888888,
              "#fdca26"
             ],
             [
              1,
              "#f0f921"
             ]
            ],
            "type": "histogram2dcontour"
           }
          ],
          "mesh3d": [
           {
            "colorbar": {
             "outlinewidth": 0,
             "ticks": ""
            },
            "type": "mesh3d"
           }
          ],
          "parcoords": [
           {
            "line": {
             "colorbar": {
              "outlinewidth": 0,
              "ticks": ""
             }
            },
            "type": "parcoords"
           }
          ],
          "pie": [
           {
            "automargin": true,
            "type": "pie"
           }
          ],
          "scatter": [
           {
            "fillpattern": {
             "fillmode": "overlay",
             "size": 10,
             "solidity": 0.2
            },
            "type": "scatter"
           }
          ],
          "scatter3d": [
           {
            "line": {
             "colorbar": {
              "outlinewidth": 0,
              "ticks": ""
             }
            },
            "marker": {
             "colorbar": {
              "outlinewidth": 0,
              "ticks": ""
             }
            },
            "type": "scatter3d"
           }
          ],
          "scattercarpet": [
           {
            "marker": {
             "colorbar": {
              "outlinewidth": 0,
              "ticks": ""
             }
            },
            "type": "scattercarpet"
           }
          ],
          "scattergeo": [
           {
            "marker": {
             "colorbar": {
              "outlinewidth": 0,
              "ticks": ""
             }
            },
            "type": "scattergeo"
           }
          ],
          "scattergl": [
           {
            "marker": {
             "colorbar": {
              "outlinewidth": 0,
              "ticks": ""
             }
            },
            "type": "scattergl"
           }
          ],
          "scattermapbox": [
           {
            "marker": {
             "colorbar": {
              "outlinewidth": 0,
              "ticks": ""
             }
            },
            "type": "scattermapbox"
           }
          ],
          "scatterpolar": [
           {
            "marker": {
             "colorbar": {
              "outlinewidth": 0,
              "ticks": ""
             }
            },
            "type": "scatterpolar"
           }
          ],
          "scatterpolargl": [
           {
            "marker": {
             "colorbar": {
              "outlinewidth": 0,
              "ticks": ""
             }
            },
            "type": "scatterpolargl"
           }
          ],
          "scatterternary": [
           {
            "marker": {
             "colorbar": {
              "outlinewidth": 0,
              "ticks": ""
             }
            },
            "type": "scatterternary"
           }
          ],
          "surface": [
           {
            "colorbar": {
             "outlinewidth": 0,
             "ticks": ""
            },
            "colorscale": [
             [
              0,
              "#0d0887"
             ],
             [
              0.1111111111111111,
              "#46039f"
             ],
             [
              0.2222222222222222,
              "#7201a8"
             ],
             [
              0.3333333333333333,
              "#9c179e"
             ],
             [
              0.4444444444444444,
              "#bd3786"
             ],
             [
              0.5555555555555556,
              "#d8576b"
             ],
             [
              0.6666666666666666,
              "#ed7953"
             ],
             [
              0.7777777777777778,
              "#fb9f3a"
             ],
             [
              0.8888888888888888,
              "#fdca26"
             ],
             [
              1,
              "#f0f921"
             ]
            ],
            "type": "surface"
           }
          ],
          "table": [
           {
            "cells": {
             "fill": {
              "color": "#EBF0F8"
             },
             "line": {
              "color": "white"
             }
            },
            "header": {
             "fill": {
              "color": "#C8D4E3"
             },
             "line": {
              "color": "white"
             }
            },
            "type": "table"
           }
          ]
         },
         "layout": {
          "annotationdefaults": {
           "arrowcolor": "#2a3f5f",
           "arrowhead": 0,
           "arrowwidth": 1
          },
          "autotypenumbers": "strict",
          "coloraxis": {
           "colorbar": {
            "outlinewidth": 0,
            "ticks": ""
           }
          },
          "colorscale": {
           "diverging": [
            [
             0,
             "#8e0152"
            ],
            [
             0.1,
             "#c51b7d"
            ],
            [
             0.2,
             "#de77ae"
            ],
            [
             0.3,
             "#f1b6da"
            ],
            [
             0.4,
             "#fde0ef"
            ],
            [
             0.5,
             "#f7f7f7"
            ],
            [
             0.6,
             "#e6f5d0"
            ],
            [
             0.7,
             "#b8e186"
            ],
            [
             0.8,
             "#7fbc41"
            ],
            [
             0.9,
             "#4d9221"
            ],
            [
             1,
             "#276419"
            ]
           ],
           "sequential": [
            [
             0,
             "#0d0887"
            ],
            [
             0.1111111111111111,
             "#46039f"
            ],
            [
             0.2222222222222222,
             "#7201a8"
            ],
            [
             0.3333333333333333,
             "#9c179e"
            ],
            [
             0.4444444444444444,
             "#bd3786"
            ],
            [
             0.5555555555555556,
             "#d8576b"
            ],
            [
             0.6666666666666666,
             "#ed7953"
            ],
            [
             0.7777777777777778,
             "#fb9f3a"
            ],
            [
             0.8888888888888888,
             "#fdca26"
            ],
            [
             1,
             "#f0f921"
            ]
           ],
           "sequentialminus": [
            [
             0,
             "#0d0887"
            ],
            [
             0.1111111111111111,
             "#46039f"
            ],
            [
             0.2222222222222222,
             "#7201a8"
            ],
            [
             0.3333333333333333,
             "#9c179e"
            ],
            [
             0.4444444444444444,
             "#bd3786"
            ],
            [
             0.5555555555555556,
             "#d8576b"
            ],
            [
             0.6666666666666666,
             "#ed7953"
            ],
            [
             0.7777777777777778,
             "#fb9f3a"
            ],
            [
             0.8888888888888888,
             "#fdca26"
            ],
            [
             1,
             "#f0f921"
            ]
           ]
          },
          "colorway": [
           "#636efa",
           "#EF553B",
           "#00cc96",
           "#ab63fa",
           "#FFA15A",
           "#19d3f3",
           "#FF6692",
           "#B6E880",
           "#FF97FF",
           "#FECB52"
          ],
          "font": {
           "color": "#2a3f5f"
          },
          "geo": {
           "bgcolor": "white",
           "lakecolor": "white",
           "landcolor": "#E5ECF6",
           "showlakes": true,
           "showland": true,
           "subunitcolor": "white"
          },
          "hoverlabel": {
           "align": "left"
          },
          "hovermode": "closest",
          "mapbox": {
           "style": "light"
          },
          "paper_bgcolor": "white",
          "plot_bgcolor": "#E5ECF6",
          "polar": {
           "angularaxis": {
            "gridcolor": "white",
            "linecolor": "white",
            "ticks": ""
           },
           "bgcolor": "#E5ECF6",
           "radialaxis": {
            "gridcolor": "white",
            "linecolor": "white",
            "ticks": ""
           }
          },
          "scene": {
           "xaxis": {
            "backgroundcolor": "#E5ECF6",
            "gridcolor": "white",
            "gridwidth": 2,
            "linecolor": "white",
            "showbackground": true,
            "ticks": "",
            "zerolinecolor": "white"
           },
           "yaxis": {
            "backgroundcolor": "#E5ECF6",
            "gridcolor": "white",
            "gridwidth": 2,
            "linecolor": "white",
            "showbackground": true,
            "ticks": "",
            "zerolinecolor": "white"
           },
           "zaxis": {
            "backgroundcolor": "#E5ECF6",
            "gridcolor": "white",
            "gridwidth": 2,
            "linecolor": "white",
            "showbackground": true,
            "ticks": "",
            "zerolinecolor": "white"
           }
          },
          "shapedefaults": {
           "line": {
            "color": "#2a3f5f"
           }
          },
          "ternary": {
           "aaxis": {
            "gridcolor": "white",
            "linecolor": "white",
            "ticks": ""
           },
           "baxis": {
            "gridcolor": "white",
            "linecolor": "white",
            "ticks": ""
           },
           "bgcolor": "#E5ECF6",
           "caxis": {
            "gridcolor": "white",
            "linecolor": "white",
            "ticks": ""
           }
          },
          "title": {
           "x": 0.05
          },
          "xaxis": {
           "automargin": true,
           "gridcolor": "white",
           "linecolor": "white",
           "ticks": "",
           "title": {
            "standoff": 15
           },
           "zerolinecolor": "white",
           "zerolinewidth": 2
          },
          "yaxis": {
           "automargin": true,
           "gridcolor": "white",
           "linecolor": "white",
           "ticks": "",
           "title": {
            "standoff": 15
           },
           "zerolinecolor": "white",
           "zerolinewidth": 2
          }
         }
        },
        "title": {
         "text": "KL Divergence Trajectories - SAE 0, Feature 9"
        },
        "width": 800,
        "xaxis": {
         "anchor": "y",
         "domain": [
          0,
          1
         ],
         "range": [
          -22,
          22
         ],
         "showgrid": false,
         "showticklabels": false,
         "title": {
          "text": "Direction 1"
         },
         "zeroline": false
        },
        "yaxis": {
         "anchor": "x",
         "domain": [
          0,
          1
         ],
         "range": [
          -22,
          22
         ],
         "scaleanchor": "x",
         "scaleratio": 1,
         "showgrid": false,
         "showticklabels": false,
         "title": {
          "text": "Direction 2"
         },
         "zeroline": false
        }
       }
      },
      "text/html": [
       "<div>                            <div id=\"d5194a5a-b285-4391-8e2c-1143f01aedee\" class=\"plotly-graph-div\" style=\"height:800px; width:800px;\"></div>            <script type=\"text/javascript\">                require([\"plotly\"], function(Plotly) {                    window.PLOTLYENV=window.PLOTLYENV || {};                                    if (document.getElementById(\"d5194a5a-b285-4391-8e2c-1143f01aedee\")) {                    Plotly.newPlot(                        \"d5194a5a-b285-4391-8e2c-1143f01aedee\",                        [{\"customdata\":[[0.0,0.0],[1.0,0.0008],[2.0,0.0034],[3.0,0.0063],[4.0,0.0125],[5.0,0.021],[6.0,0.0277],[7.0,0.0476],[8.0,0.0635],[9.0,0.0744],[10.0,0.1023],[11.0,0.1309],[12.0,0.1971],[13.0,0.2308],[14.0,0.3341],[15.0,0.4242],[16.0,0.6978],[17.0,0.9818],[18.0,1.3584],[19.0,1.7899],[20.0,2.3067]],\"hovertemplate\":\"direction=Direction 0\\u003cbr\\u003eDirection 1=%{x}\\u003cbr\\u003eDirection 2=%{y}\\u003cbr\\u003ekl_div=%{customdata[1]}\\u003cbr\\u003estep=%{customdata[0]}\\u003cextra\\u003e\\u003c\\u002fextra\\u003e\",\"legendgroup\":\"Direction 0\",\"marker\":{\"color\":\"#636efa\",\"size\":[0.0,0.0008,0.0034,0.0063,0.0125,0.021,0.0277,0.0476,0.0635,0.0744,0.1023,0.1309,0.1971,0.2308,0.3341,0.4242,0.6978,0.9818,1.3584,1.7899,2.3067],\"sizemode\":\"area\",\"sizeref\":0.023067,\"symbol\":\"circle\"},\"mode\":\"markers\",\"name\":\"Direction 0\",\"orientation\":\"v\",\"showlegend\":true,\"x\":[0.0,1.0,2.0,3.0,4.0,5.0,6.0,7.0,8.0,9.0,10.0,11.0,12.0,13.0,14.0,15.0,16.0,17.0,18.0,19.0,20.0],\"xaxis\":\"x\",\"y\":[0.0,0.0,0.0,0.0,0.0,0.0,0.0,0.0,0.0,0.0,0.0,0.0,0.0,0.0,0.0,0.0,0.0,0.0,0.0,0.0,0.0],\"yaxis\":\"y\",\"type\":\"scatter\"},{\"customdata\":[[0.0,0.0],[1.0,0.0008],[2.0,0.0028],[3.0,0.007],[4.0,0.0147],[5.0,0.0195],[6.0,0.0347],[7.0,0.0439],[8.0,0.0535],[9.0,0.0733],[10.0,0.0945],[11.0,0.1354],[12.0,0.1818],[13.0,0.241],[14.0,0.3106],[15.0,0.4859],[16.0,0.6244],[17.0,1.0604],[18.0,1.3442],[19.0,1.8934],[20.0,2.2537]],\"hovertemplate\":\"direction=Direction 1\\u003cbr\\u003eDirection 1=%{x}\\u003cbr\\u003eDirection 2=%{y}\\u003cbr\\u003ekl_div=%{customdata[1]}\\u003cbr\\u003estep=%{customdata[0]}\\u003cextra\\u003e\\u003c\\u002fextra\\u003e\",\"legendgroup\":\"Direction 1\",\"marker\":{\"color\":\"#EF553B\",\"size\":[0.0,0.0008,0.0028,0.007,0.0147,0.0195,0.0347,0.0439,0.0535,0.0733,0.0945,0.1354,0.1818,0.241,0.3106,0.4859,0.6244,1.0604,1.3442,1.8934,2.2537],\"sizemode\":\"area\",\"sizeref\":0.023067,\"symbol\":\"circle\"},\"mode\":\"markers\",\"name\":\"Direction 1\",\"orientation\":\"v\",\"showlegend\":true,\"x\":[0.0,0.8090169943749475,1.618033988749895,2.4270509831248424,3.23606797749979,4.045084971874737,4.854101966249685,5.663118960624632,6.47213595499958,7.281152949374527,8.090169943749475,8.899186938124423,9.70820393249937,10.517220926874316,11.326237921249264,12.135254915624213,12.94427190999916,13.753288904374106,14.562305898749054,15.371322893124002,16.18033988749895],\"xaxis\":\"x\",\"y\":[0.0,0.5877852522924731,1.1755705045849463,1.7633557568774194,2.3511410091698925,2.938926261462366,3.526711513754839,4.114496766047312,4.702282018339785,5.2900672706322585,5.877852522924732,6.465637775217204,7.053423027509678,7.641208279802151,8.228993532094623,8.816778784387097,9.40456403667957,9.992349288972044,10.580134541264517,11.16791979355699,11.755705045849464],\"yaxis\":\"y\",\"type\":\"scatter\"},{\"customdata\":[[0.0,0.0],[1.0,0.0008],[2.0,0.003],[3.0,0.006],[4.0,0.0138],[5.0,0.0202],[6.0,0.0328],[7.0,0.0403],[8.0,0.0579],[9.0,0.0826],[10.0,0.1056],[11.0,0.1355],[12.0,0.1706],[13.0,0.2324],[14.0,0.3129],[15.0,0.4388],[16.0,0.6141],[17.0,0.8828],[18.0,1.2889],[19.0,1.8078],[20.0,2.2909]],\"hovertemplate\":\"direction=Direction 2\\u003cbr\\u003eDirection 1=%{x}\\u003cbr\\u003eDirection 2=%{y}\\u003cbr\\u003ekl_div=%{customdata[1]}\\u003cbr\\u003estep=%{customdata[0]}\\u003cextra\\u003e\\u003c\\u002fextra\\u003e\",\"legendgroup\":\"Direction 2\",\"marker\":{\"color\":\"#00cc96\",\"size\":[0.0,0.0008,0.003,0.006,0.0138,0.0202,0.0328,0.0403,0.0579,0.0826,0.1056,0.1355,0.1706,0.2324,0.3129,0.4388,0.6141,0.8828,1.2889,1.8078,2.2909],\"sizemode\":\"area\",\"sizeref\":0.023067,\"symbol\":\"circle\"},\"mode\":\"markers\",\"name\":\"Direction 2\",\"orientation\":\"v\",\"showlegend\":true,\"x\":[0.0,0.30901699437494745,0.6180339887498949,0.9270509831248424,1.2360679774997898,1.5450849718747373,1.8541019662496847,2.163118960624632,2.4721359549995796,2.781152949374527,3.0901699437494745,3.399186938124422,3.7082039324993694,4.017220926874317,4.326237921249264,4.635254915624212,4.944271909999159,5.253288904374107,5.562305898749054,5.871322893124002,6.180339887498949],\"xaxis\":\"x\",\"y\":[0.0,0.9510565162951535,1.902113032590307,2.8531695488854605,3.804226065180614,4.755282581475767,5.706339097770921,6.657395614066075,7.608452130361228,8.559508646656381,9.510565162951535,10.461621679246688,11.412678195541842,12.363734711836996,13.31479122813215,14.265847744427303,15.216904260722456,16.16796077701761,17.119017293312762,18.070073809607916,19.02113032590307],\"yaxis\":\"y\",\"type\":\"scatter\"},{\"customdata\":[[0.0,0.0],[1.0,0.0007],[2.0,0.0029],[3.0,0.0066],[4.0,0.0126],[5.0,0.0201],[6.0,0.0261],[7.0,0.04],[8.0,0.0627],[9.0,0.0854],[10.0,0.1016],[11.0,0.137],[12.0,0.201],[13.0,0.232],[14.0,0.3323],[15.0,0.4415],[16.0,0.6624],[17.0,0.901],[18.0,1.4249],[19.0,1.855],[20.0,2.1597]],\"hovertemplate\":\"direction=Direction 3\\u003cbr\\u003eDirection 1=%{x}\\u003cbr\\u003eDirection 2=%{y}\\u003cbr\\u003ekl_div=%{customdata[1]}\\u003cbr\\u003estep=%{customdata[0]}\\u003cextra\\u003e\\u003c\\u002fextra\\u003e\",\"legendgroup\":\"Direction 3\",\"marker\":{\"color\":\"#ab63fa\",\"size\":[0.0,0.0007,0.0029,0.0066,0.0126,0.0201,0.0261,0.04,0.0627,0.0854,0.1016,0.137,0.201,0.232,0.3323,0.4415,0.6624,0.901,1.4249,1.855,2.1597],\"sizemode\":\"area\",\"sizeref\":0.023067,\"symbol\":\"circle\"},\"mode\":\"markers\",\"name\":\"Direction 3\",\"orientation\":\"v\",\"showlegend\":true,\"x\":[-0.0,-0.30901699437494734,-0.6180339887498947,-0.927050983124842,-1.2360679774997894,-1.5450849718747368,-1.854101966249684,-2.1631189606246313,-2.4721359549995787,-2.781152949374526,-3.0901699437494736,-3.3991869381244206,-3.708203932499368,-4.017220926874315,-4.3262379212492625,-4.63525491562421,-4.944271909999157,-5.253288904374105,-5.562305898749052,-5.871322893124,-6.180339887498947],\"xaxis\":\"x\",\"y\":[0.0,0.9510565162951536,1.9021130325903073,2.853169548885461,3.8042260651806146,4.755282581475768,5.706339097770922,6.6573956140660755,7.608452130361229,8.559508646656383,9.510565162951536,10.46162167924669,11.412678195541844,12.363734711836997,13.314791228132151,14.265847744427305,15.216904260722458,16.167960777017612,17.119017293312766,18.07007380960792,19.021130325903073],\"yaxis\":\"y\",\"type\":\"scatter\"},{\"customdata\":[[0.0,0.0],[1.0,0.0008],[2.0,0.0031],[3.0,0.0066],[4.0,0.0117],[5.0,0.0189],[6.0,0.0277],[7.0,0.045],[8.0,0.0552],[9.0,0.0866],[10.0,0.112],[11.0,0.1291],[12.0,0.1798],[13.0,0.2473],[14.0,0.3337],[15.0,0.4779],[16.0,0.6591],[17.0,0.8872],[18.0,1.3757],[19.0,1.7907],[20.0,2.165]],\"hovertemplate\":\"direction=Direction 4\\u003cbr\\u003eDirection 1=%{x}\\u003cbr\\u003eDirection 2=%{y}\\u003cbr\\u003ekl_div=%{customdata[1]}\\u003cbr\\u003estep=%{customdata[0]}\\u003cextra\\u003e\\u003c\\u002fextra\\u003e\",\"legendgroup\":\"Direction 4\",\"marker\":{\"color\":\"#FFA15A\",\"size\":[0.0,0.0008,0.0031,0.0066,0.0117,0.0189,0.0277,0.045,0.0552,0.0866,0.112,0.1291,0.1798,0.2473,0.3337,0.4779,0.6591,0.8872,1.3757,1.7907,2.165],\"sizemode\":\"area\",\"sizeref\":0.023067,\"symbol\":\"circle\"},\"mode\":\"markers\",\"name\":\"Direction 4\",\"orientation\":\"v\",\"showlegend\":true,\"x\":[-0.0,-0.8090169943749473,-1.6180339887498947,-2.427050983124842,-3.2360679774997894,-4.045084971874736,-4.854101966249684,-5.663118960624631,-6.472135954999579,-7.281152949374526,-8.090169943749473,-8.899186938124421,-9.708203932499368,-10.517220926874316,-11.326237921249263,-12.13525491562421,-12.944271909999157,-13.753288904374104,-14.562305898749052,-15.371322893123999,-16.180339887498945],\"xaxis\":\"x\",\"y\":[0.0,0.5877852522924732,1.1755705045849465,1.7633557568774196,2.351141009169893,2.9389262614623664,3.5267115137548393,4.114496766047313,4.702282018339786,5.290067270632259,5.877852522924733,6.465637775217206,7.0534230275096785,7.641208279802152,8.228993532094625,8.816778784387099,9.404564036679572,9.992349288972045,10.580134541264519,11.167919793556992,11.755705045849465],\"yaxis\":\"y\",\"type\":\"scatter\"},{\"customdata\":[[0.0,0.0],[1.0,0.0007],[2.0,0.0027],[3.0,0.0073],[4.0,0.0123],[5.0,0.0214],[6.0,0.029],[7.0,0.0438],[8.0,0.0592],[9.0,0.0825],[10.0,0.1021],[11.0,0.1505],[12.0,0.1747],[13.0,0.2451],[14.0,0.3127],[15.0,0.4486],[16.0,0.6605],[17.0,0.9687],[18.0,1.3795],[19.0,1.7736],[20.0,2.2095]],\"hovertemplate\":\"direction=Direction 5\\u003cbr\\u003eDirection 1=%{x}\\u003cbr\\u003eDirection 2=%{y}\\u003cbr\\u003ekl_div=%{customdata[1]}\\u003cbr\\u003estep=%{customdata[0]}\\u003cextra\\u003e\\u003c\\u002fextra\\u003e\",\"legendgroup\":\"Direction 5\",\"marker\":{\"color\":\"#19d3f3\",\"size\":[0.0,0.0007,0.0027,0.0073,0.0123,0.0214,0.029,0.0438,0.0592,0.0825,0.1021,0.1505,0.1747,0.2451,0.3127,0.4486,0.6605,0.9687,1.3795,1.7736,2.2095],\"sizemode\":\"area\",\"sizeref\":0.023067,\"symbol\":\"circle\"},\"mode\":\"markers\",\"name\":\"Direction 5\",\"orientation\":\"v\",\"showlegend\":true,\"x\":[-0.0,-1.0,-2.0,-3.0,-4.0,-5.0,-6.0,-7.0,-8.0,-9.0,-10.0,-11.0,-12.0,-13.0,-14.0,-15.0,-16.0,-17.0,-18.0,-19.0,-20.0],\"xaxis\":\"x\",\"y\":[0.0,1.2246467991473532e-16,2.4492935982947064e-16,3.6739403974420594e-16,4.898587196589413e-16,6.123233995736766e-16,7.347880794884119e-16,8.572527594031472e-16,9.797174393178826e-16,1.102182119232618e-15,1.2246467991473533e-15,1.3471114790620886e-15,1.4695761589768238e-15,1.592040838891559e-15,1.7145055188062944e-15,1.83697019872103e-15,1.959434878635765e-15,2.0818995585505003e-15,2.204364238465236e-15,2.326828918379971e-15,2.4492935982947065e-15],\"yaxis\":\"y\",\"type\":\"scatter\"},{\"customdata\":[[0.0,0.0],[1.0,0.0007],[2.0,0.0031],[3.0,0.0067],[4.0,0.0127],[5.0,0.0205],[6.0,0.0269],[7.0,0.0419],[8.0,0.066],[9.0,0.0796],[10.0,0.1061],[11.0,0.1501],[12.0,0.1812],[13.0,0.2391],[14.0,0.3218],[15.0,0.434],[16.0,0.6876],[17.0,0.9578],[18.0,1.4324],[19.0,1.7805],[20.0,2.15]],\"hovertemplate\":\"direction=Direction 6\\u003cbr\\u003eDirection 1=%{x}\\u003cbr\\u003eDirection 2=%{y}\\u003cbr\\u003ekl_div=%{customdata[1]}\\u003cbr\\u003estep=%{customdata[0]}\\u003cextra\\u003e\\u003c\\u002fextra\\u003e\",\"legendgroup\":\"Direction 6\",\"marker\":{\"color\":\"#FF6692\",\"size\":[0.0,0.0007,0.0031,0.0067,0.0127,0.0205,0.0269,0.0419,0.066,0.0796,0.1061,0.1501,0.1812,0.2391,0.3218,0.434,0.6876,0.9578,1.4324,1.7805,2.15],\"sizemode\":\"area\",\"sizeref\":0.023067,\"symbol\":\"circle\"},\"mode\":\"markers\",\"name\":\"Direction 6\",\"orientation\":\"v\",\"showlegend\":true,\"x\":[-0.0,-0.8090169943749476,-1.6180339887498951,-2.427050983124843,-3.2360679774997902,-4.045084971874738,-4.854101966249686,-5.663118960624633,-6.4721359549995805,-7.281152949374528,-8.090169943749476,-8.899186938124423,-9.708203932499371,-10.517220926874318,-11.326237921249266,-12.135254915624213,-12.944271909999161,-13.75328890437411,-14.562305898749056,-15.371322893124004,-16.180339887498953],\"xaxis\":\"x\",\"y\":[-0.0,-0.587785252292473,-1.175570504584946,-1.7633557568774192,-2.351141009169892,-2.938926261462365,-3.5267115137548384,-4.114496766047311,-4.702282018339784,-5.290067270632258,-5.87785252292473,-6.465637775217203,-7.053423027509677,-7.641208279802149,-8.228993532094622,-8.816778784387095,-9.404564036679568,-9.992349288972042,-10.580134541264515,-11.167919793556987,-11.75570504584946],\"yaxis\":\"y\",\"type\":\"scatter\"},{\"customdata\":[[0.0,0.0],[1.0,0.0007],[2.0,0.0028],[3.0,0.0069],[4.0,0.0115],[5.0,0.0201],[6.0,0.0332],[7.0,0.0406],[8.0,0.0506],[9.0,0.0804],[10.0,0.0911],[11.0,0.1296],[12.0,0.1832],[13.0,0.2476],[14.0,0.3074],[15.0,0.4414],[16.0,0.6345],[17.0,1.0097],[18.0,1.3265],[19.0,1.8518],[20.0,2.2243]],\"hovertemplate\":\"direction=Direction 7\\u003cbr\\u003eDirection 1=%{x}\\u003cbr\\u003eDirection 2=%{y}\\u003cbr\\u003ekl_div=%{customdata[1]}\\u003cbr\\u003estep=%{customdata[0]}\\u003cextra\\u003e\\u003c\\u002fextra\\u003e\",\"legendgroup\":\"Direction 7\",\"marker\":{\"color\":\"#B6E880\",\"size\":[0.0,0.0007,0.0028,0.0069,0.0115,0.0201,0.0332,0.0406,0.0506,0.0804,0.0911,0.1296,0.1832,0.2476,0.3074,0.4414,0.6345,1.0097,1.3265,1.8518,2.2243],\"sizemode\":\"area\",\"sizeref\":0.023067,\"symbol\":\"circle\"},\"mode\":\"markers\",\"name\":\"Direction 7\",\"orientation\":\"v\",\"showlegend\":true,\"x\":[-0.0,-0.30901699437494756,-0.6180339887498951,-0.9270509831248427,-1.2360679774997902,-1.5450849718747377,-1.8541019662496854,-2.163118960624633,-2.4721359549995805,-2.781152949374528,-3.0901699437494754,-3.3991869381244233,-3.7082039324993707,-4.017220926874319,-4.326237921249266,-4.6352549156242135,-4.944271909999161,-5.2532889043741084,-5.562305898749056,-5.871322893124003,-6.180339887498951],\"xaxis\":\"x\",\"y\":[-0.0,-0.9510565162951535,-1.902113032590307,-2.8531695488854605,-3.804226065180614,-4.755282581475767,-5.706339097770921,-6.657395614066075,-7.608452130361228,-8.559508646656381,-9.510565162951535,-10.461621679246688,-11.412678195541842,-12.363734711836996,-13.31479122813215,-14.265847744427303,-15.216904260722456,-16.16796077701761,-17.119017293312762,-18.070073809607916,-19.02113032590307],\"yaxis\":\"y\",\"type\":\"scatter\"},{\"customdata\":[[0.0,0.0],[1.0,0.0007],[2.0,0.0026],[3.0,0.007],[4.0,0.0132],[5.0,0.0197],[6.0,0.03],[7.0,0.0426],[8.0,0.0565],[9.0,0.0743],[10.0,0.0977],[11.0,0.1335],[12.0,0.1845],[13.0,0.2469],[14.0,0.321],[15.0,0.4213],[16.0,0.5783],[17.0,0.8997],[18.0,1.2395],[19.0,1.9574],[20.0,2.2997]],\"hovertemplate\":\"direction=Direction 8\\u003cbr\\u003eDirection 1=%{x}\\u003cbr\\u003eDirection 2=%{y}\\u003cbr\\u003ekl_div=%{customdata[1]}\\u003cbr\\u003estep=%{customdata[0]}\\u003cextra\\u003e\\u003c\\u002fextra\\u003e\",\"legendgroup\":\"Direction 8\",\"marker\":{\"color\":\"#FF97FF\",\"size\":[0.0,0.0007,0.0026,0.007,0.0132,0.0197,0.03,0.0426,0.0565,0.0743,0.0977,0.1335,0.1845,0.2469,0.321,0.4213,0.5783,0.8997,1.2395,1.9574,2.2997],\"sizemode\":\"area\",\"sizeref\":0.023067,\"symbol\":\"circle\"},\"mode\":\"markers\",\"name\":\"Direction 8\",\"orientation\":\"v\",\"showlegend\":true,\"x\":[0.0,0.30901699437494723,0.6180339887498945,0.9270509831248417,1.236067977499789,1.5450849718747361,1.8541019662496834,2.1631189606246304,2.472135954999578,2.7811529493745253,3.0901699437494723,3.3991869381244193,3.7082039324993668,4.017220926874314,4.326237921249261,4.635254915624208,4.944271909999156,5.253288904374103,5.562305898749051,5.871322893123997,6.180339887498945],\"xaxis\":\"x\",\"y\":[-0.0,-0.9510565162951536,-1.9021130325903073,-2.853169548885461,-3.8042260651806146,-4.755282581475768,-5.706339097770922,-6.6573956140660755,-7.608452130361229,-8.559508646656383,-9.510565162951536,-10.46162167924669,-11.412678195541844,-12.363734711836997,-13.314791228132151,-14.265847744427305,-15.216904260722458,-16.167960777017612,-17.119017293312766,-18.07007380960792,-19.021130325903073],\"yaxis\":\"y\",\"type\":\"scatter\"},{\"customdata\":[[0.0,0.0],[1.0,0.0008],[2.0,0.003],[3.0,0.0068],[4.0,0.0123],[5.0,0.0228],[6.0,0.0284],[7.0,0.0411],[8.0,0.0626],[9.0,0.0783],[10.0,0.0964],[11.0,0.1333],[12.0,0.2002],[13.0,0.2182],[14.0,0.3255],[15.0,0.4501],[16.0,0.6476],[17.0,0.988],[18.0,1.3107],[19.0,1.7947],[20.0,2.1971]],\"hovertemplate\":\"direction=Direction 9\\u003cbr\\u003eDirection 1=%{x}\\u003cbr\\u003eDirection 2=%{y}\\u003cbr\\u003ekl_div=%{customdata[1]}\\u003cbr\\u003estep=%{customdata[0]}\\u003cextra\\u003e\\u003c\\u002fextra\\u003e\",\"legendgroup\":\"Direction 9\",\"marker\":{\"color\":\"#FECB52\",\"size\":[0.0,0.0008,0.003,0.0068,0.0123,0.0228,0.0284,0.0411,0.0626,0.0783,0.0964,0.1333,0.2002,0.2182,0.3255,0.4501,0.6476,0.988,1.3107,1.7947,2.1971],\"sizemode\":\"area\",\"sizeref\":0.023067,\"symbol\":\"circle\"},\"mode\":\"markers\",\"name\":\"Direction 9\",\"orientation\":\"v\",\"showlegend\":true,\"x\":[0.0,0.8090169943749473,1.6180339887498947,2.427050983124842,3.2360679774997894,4.045084971874736,4.854101966249684,5.663118960624631,6.472135954999579,7.281152949374526,8.090169943749473,8.899186938124421,9.708203932499368,10.517220926874316,11.326237921249263,12.13525491562421,12.944271909999157,13.753288904374104,14.562305898749052,15.371322893123999,16.180339887498945],\"xaxis\":\"x\",\"y\":[-0.0,-0.5877852522924734,-1.1755705045849467,-1.76335575687742,-2.3511410091698934,-2.938926261462367,-3.52671151375484,-4.1144967660473135,-4.702282018339787,-5.29006727063226,-5.877852522924734,-6.465637775217207,-7.05342302750968,-7.641208279802154,-8.228993532094627,-8.8167787843871,-9.404564036679574,-9.992349288972047,-10.58013454126452,-11.167919793556994,-11.755705045849467],\"yaxis\":\"y\",\"type\":\"scatter\"},{\"line\":{\"color\":\"rgba(0,0,0,0.3)\",\"width\":1},\"mode\":\"lines\",\"showlegend\":false,\"x\":[0.0,1.0,2.0,3.0,4.0,5.0,6.0,7.0,8.0,9.0,10.0,11.0,12.0,13.0,14.0,15.0,16.0,17.0,18.0,19.0,20.0],\"y\":[0.0,0.0,0.0,0.0,0.0,0.0,0.0,0.0,0.0,0.0,0.0,0.0,0.0,0.0,0.0,0.0,0.0,0.0,0.0,0.0,0.0],\"type\":\"scatter\"},{\"line\":{\"color\":\"rgba(0,0,0,0.3)\",\"width\":1},\"mode\":\"lines\",\"showlegend\":false,\"x\":[0.0,0.8090169943749475,1.618033988749895,2.4270509831248424,3.23606797749979,4.045084971874737,4.854101966249685,5.663118960624632,6.47213595499958,7.281152949374527,8.090169943749475,8.899186938124423,9.70820393249937,10.517220926874316,11.326237921249264,12.135254915624213,12.94427190999916,13.753288904374106,14.562305898749054,15.371322893124002,16.18033988749895],\"y\":[0.0,0.5877852522924731,1.1755705045849463,1.7633557568774194,2.3511410091698925,2.938926261462366,3.526711513754839,4.114496766047312,4.702282018339785,5.2900672706322585,5.877852522924732,6.465637775217204,7.053423027509678,7.641208279802151,8.228993532094623,8.816778784387097,9.40456403667957,9.992349288972044,10.580134541264517,11.16791979355699,11.755705045849464],\"type\":\"scatter\"},{\"line\":{\"color\":\"rgba(0,0,0,0.3)\",\"width\":1},\"mode\":\"lines\",\"showlegend\":false,\"x\":[0.0,0.30901699437494745,0.6180339887498949,0.9270509831248424,1.2360679774997898,1.5450849718747373,1.8541019662496847,2.163118960624632,2.4721359549995796,2.781152949374527,3.0901699437494745,3.399186938124422,3.7082039324993694,4.017220926874317,4.326237921249264,4.635254915624212,4.944271909999159,5.253288904374107,5.562305898749054,5.871322893124002,6.180339887498949],\"y\":[0.0,0.9510565162951535,1.902113032590307,2.8531695488854605,3.804226065180614,4.755282581475767,5.706339097770921,6.657395614066075,7.608452130361228,8.559508646656381,9.510565162951535,10.461621679246688,11.412678195541842,12.363734711836996,13.31479122813215,14.265847744427303,15.216904260722456,16.16796077701761,17.119017293312762,18.070073809607916,19.02113032590307],\"type\":\"scatter\"},{\"line\":{\"color\":\"rgba(0,0,0,0.3)\",\"width\":1},\"mode\":\"lines\",\"showlegend\":false,\"x\":[-0.0,-0.30901699437494734,-0.6180339887498947,-0.927050983124842,-1.2360679774997894,-1.5450849718747368,-1.854101966249684,-2.1631189606246313,-2.4721359549995787,-2.781152949374526,-3.0901699437494736,-3.3991869381244206,-3.708203932499368,-4.017220926874315,-4.3262379212492625,-4.63525491562421,-4.944271909999157,-5.253288904374105,-5.562305898749052,-5.871322893124,-6.180339887498947],\"y\":[0.0,0.9510565162951536,1.9021130325903073,2.853169548885461,3.8042260651806146,4.755282581475768,5.706339097770922,6.6573956140660755,7.608452130361229,8.559508646656383,9.510565162951536,10.46162167924669,11.412678195541844,12.363734711836997,13.314791228132151,14.265847744427305,15.216904260722458,16.167960777017612,17.119017293312766,18.07007380960792,19.021130325903073],\"type\":\"scatter\"},{\"line\":{\"color\":\"rgba(0,0,0,0.3)\",\"width\":1},\"mode\":\"lines\",\"showlegend\":false,\"x\":[-0.0,-0.8090169943749473,-1.6180339887498947,-2.427050983124842,-3.2360679774997894,-4.045084971874736,-4.854101966249684,-5.663118960624631,-6.472135954999579,-7.281152949374526,-8.090169943749473,-8.899186938124421,-9.708203932499368,-10.517220926874316,-11.326237921249263,-12.13525491562421,-12.944271909999157,-13.753288904374104,-14.562305898749052,-15.371322893123999,-16.180339887498945],\"y\":[0.0,0.5877852522924732,1.1755705045849465,1.7633557568774196,2.351141009169893,2.9389262614623664,3.5267115137548393,4.114496766047313,4.702282018339786,5.290067270632259,5.877852522924733,6.465637775217206,7.0534230275096785,7.641208279802152,8.228993532094625,8.816778784387099,9.404564036679572,9.992349288972045,10.580134541264519,11.167919793556992,11.755705045849465],\"type\":\"scatter\"},{\"line\":{\"color\":\"rgba(0,0,0,0.3)\",\"width\":1},\"mode\":\"lines\",\"showlegend\":false,\"x\":[-0.0,-1.0,-2.0,-3.0,-4.0,-5.0,-6.0,-7.0,-8.0,-9.0,-10.0,-11.0,-12.0,-13.0,-14.0,-15.0,-16.0,-17.0,-18.0,-19.0,-20.0],\"y\":[0.0,1.2246467991473532e-16,2.4492935982947064e-16,3.6739403974420594e-16,4.898587196589413e-16,6.123233995736766e-16,7.347880794884119e-16,8.572527594031472e-16,9.797174393178826e-16,1.102182119232618e-15,1.2246467991473533e-15,1.3471114790620886e-15,1.4695761589768238e-15,1.592040838891559e-15,1.7145055188062944e-15,1.83697019872103e-15,1.959434878635765e-15,2.0818995585505003e-15,2.204364238465236e-15,2.326828918379971e-15,2.4492935982947065e-15],\"type\":\"scatter\"},{\"line\":{\"color\":\"rgba(0,0,0,0.3)\",\"width\":1},\"mode\":\"lines\",\"showlegend\":false,\"x\":[-0.0,-0.8090169943749476,-1.6180339887498951,-2.427050983124843,-3.2360679774997902,-4.045084971874738,-4.854101966249686,-5.663118960624633,-6.4721359549995805,-7.281152949374528,-8.090169943749476,-8.899186938124423,-9.708203932499371,-10.517220926874318,-11.326237921249266,-12.135254915624213,-12.944271909999161,-13.75328890437411,-14.562305898749056,-15.371322893124004,-16.180339887498953],\"y\":[-0.0,-0.587785252292473,-1.175570504584946,-1.7633557568774192,-2.351141009169892,-2.938926261462365,-3.5267115137548384,-4.114496766047311,-4.702282018339784,-5.290067270632258,-5.87785252292473,-6.465637775217203,-7.053423027509677,-7.641208279802149,-8.228993532094622,-8.816778784387095,-9.404564036679568,-9.992349288972042,-10.580134541264515,-11.167919793556987,-11.75570504584946],\"type\":\"scatter\"},{\"line\":{\"color\":\"rgba(0,0,0,0.3)\",\"width\":1},\"mode\":\"lines\",\"showlegend\":false,\"x\":[-0.0,-0.30901699437494756,-0.6180339887498951,-0.9270509831248427,-1.2360679774997902,-1.5450849718747377,-1.8541019662496854,-2.163118960624633,-2.4721359549995805,-2.781152949374528,-3.0901699437494754,-3.3991869381244233,-3.7082039324993707,-4.017220926874319,-4.326237921249266,-4.6352549156242135,-4.944271909999161,-5.2532889043741084,-5.562305898749056,-5.871322893124003,-6.180339887498951],\"y\":[-0.0,-0.9510565162951535,-1.902113032590307,-2.8531695488854605,-3.804226065180614,-4.755282581475767,-5.706339097770921,-6.657395614066075,-7.608452130361228,-8.559508646656381,-9.510565162951535,-10.461621679246688,-11.412678195541842,-12.363734711836996,-13.31479122813215,-14.265847744427303,-15.216904260722456,-16.16796077701761,-17.119017293312762,-18.070073809607916,-19.02113032590307],\"type\":\"scatter\"},{\"line\":{\"color\":\"rgba(0,0,0,0.3)\",\"width\":1},\"mode\":\"lines\",\"showlegend\":false,\"x\":[0.0,0.30901699437494723,0.6180339887498945,0.9270509831248417,1.236067977499789,1.5450849718747361,1.8541019662496834,2.1631189606246304,2.472135954999578,2.7811529493745253,3.0901699437494723,3.3991869381244193,3.7082039324993668,4.017220926874314,4.326237921249261,4.635254915624208,4.944271909999156,5.253288904374103,5.562305898749051,5.871322893123997,6.180339887498945],\"y\":[-0.0,-0.9510565162951536,-1.9021130325903073,-2.853169548885461,-3.8042260651806146,-4.755282581475768,-5.706339097770922,-6.6573956140660755,-7.608452130361229,-8.559508646656383,-9.510565162951536,-10.46162167924669,-11.412678195541844,-12.363734711836997,-13.314791228132151,-14.265847744427305,-15.216904260722458,-16.167960777017612,-17.119017293312766,-18.07007380960792,-19.021130325903073],\"type\":\"scatter\"},{\"line\":{\"color\":\"rgba(0,0,0,0.3)\",\"width\":1},\"mode\":\"lines\",\"showlegend\":false,\"x\":[0.0,0.8090169943749473,1.6180339887498947,2.427050983124842,3.2360679774997894,4.045084971874736,4.854101966249684,5.663118960624631,6.472135954999579,7.281152949374526,8.090169943749473,8.899186938124421,9.708203932499368,10.517220926874316,11.326237921249263,12.13525491562421,12.944271909999157,13.753288904374104,14.562305898749052,15.371322893123999,16.180339887498945],\"y\":[-0.0,-0.5877852522924734,-1.1755705045849467,-1.76335575687742,-2.3511410091698934,-2.938926261462367,-3.52671151375484,-4.1144967660473135,-4.702282018339787,-5.29006727063226,-5.877852522924734,-6.465637775217207,-7.05342302750968,-7.641208279802154,-8.228993532094627,-8.8167787843871,-9.404564036679574,-9.992349288972047,-10.58013454126452,-11.167919793556994,-11.755705045849467],\"type\":\"scatter\"},{\"marker\":{\"color\":\"black\",\"size\":15,\"symbol\":\"square\"},\"mode\":\"markers\",\"name\":\"Start\",\"x\":[0],\"y\":[0],\"type\":\"scatter\"}],                        {\"template\":{\"data\":{\"histogram2dcontour\":[{\"type\":\"histogram2dcontour\",\"colorbar\":{\"outlinewidth\":0,\"ticks\":\"\"},\"colorscale\":[[0.0,\"#0d0887\"],[0.1111111111111111,\"#46039f\"],[0.2222222222222222,\"#7201a8\"],[0.3333333333333333,\"#9c179e\"],[0.4444444444444444,\"#bd3786\"],[0.5555555555555556,\"#d8576b\"],[0.6666666666666666,\"#ed7953\"],[0.7777777777777778,\"#fb9f3a\"],[0.8888888888888888,\"#fdca26\"],[1.0,\"#f0f921\"]]}],\"choropleth\":[{\"type\":\"choropleth\",\"colorbar\":{\"outlinewidth\":0,\"ticks\":\"\"}}],\"histogram2d\":[{\"type\":\"histogram2d\",\"colorbar\":{\"outlinewidth\":0,\"ticks\":\"\"},\"colorscale\":[[0.0,\"#0d0887\"],[0.1111111111111111,\"#46039f\"],[0.2222222222222222,\"#7201a8\"],[0.3333333333333333,\"#9c179e\"],[0.4444444444444444,\"#bd3786\"],[0.5555555555555556,\"#d8576b\"],[0.6666666666666666,\"#ed7953\"],[0.7777777777777778,\"#fb9f3a\"],[0.8888888888888888,\"#fdca26\"],[1.0,\"#f0f921\"]]}],\"heatmap\":[{\"type\":\"heatmap\",\"colorbar\":{\"outlinewidth\":0,\"ticks\":\"\"},\"colorscale\":[[0.0,\"#0d0887\"],[0.1111111111111111,\"#46039f\"],[0.2222222222222222,\"#7201a8\"],[0.3333333333333333,\"#9c179e\"],[0.4444444444444444,\"#bd3786\"],[0.5555555555555556,\"#d8576b\"],[0.6666666666666666,\"#ed7953\"],[0.7777777777777778,\"#fb9f3a\"],[0.8888888888888888,\"#fdca26\"],[1.0,\"#f0f921\"]]}],\"heatmapgl\":[{\"type\":\"heatmapgl\",\"colorbar\":{\"outlinewidth\":0,\"ticks\":\"\"},\"colorscale\":[[0.0,\"#0d0887\"],[0.1111111111111111,\"#46039f\"],[0.2222222222222222,\"#7201a8\"],[0.3333333333333333,\"#9c179e\"],[0.4444444444444444,\"#bd3786\"],[0.5555555555555556,\"#d8576b\"],[0.6666666666666666,\"#ed7953\"],[0.7777777777777778,\"#fb9f3a\"],[0.8888888888888888,\"#fdca26\"],[1.0,\"#f0f921\"]]}],\"contourcarpet\":[{\"type\":\"contourcarpet\",\"colorbar\":{\"outlinewidth\":0,\"ticks\":\"\"}}],\"contour\":[{\"type\":\"contour\",\"colorbar\":{\"outlinewidth\":0,\"ticks\":\"\"},\"colorscale\":[[0.0,\"#0d0887\"],[0.1111111111111111,\"#46039f\"],[0.2222222222222222,\"#7201a8\"],[0.3333333333333333,\"#9c179e\"],[0.4444444444444444,\"#bd3786\"],[0.5555555555555556,\"#d8576b\"],[0.6666666666666666,\"#ed7953\"],[0.7777777777777778,\"#fb9f3a\"],[0.8888888888888888,\"#fdca26\"],[1.0,\"#f0f921\"]]}],\"surface\":[{\"type\":\"surface\",\"colorbar\":{\"outlinewidth\":0,\"ticks\":\"\"},\"colorscale\":[[0.0,\"#0d0887\"],[0.1111111111111111,\"#46039f\"],[0.2222222222222222,\"#7201a8\"],[0.3333333333333333,\"#9c179e\"],[0.4444444444444444,\"#bd3786\"],[0.5555555555555556,\"#d8576b\"],[0.6666666666666666,\"#ed7953\"],[0.7777777777777778,\"#fb9f3a\"],[0.8888888888888888,\"#fdca26\"],[1.0,\"#f0f921\"]]}],\"mesh3d\":[{\"type\":\"mesh3d\",\"colorbar\":{\"outlinewidth\":0,\"ticks\":\"\"}}],\"scatter\":[{\"fillpattern\":{\"fillmode\":\"overlay\",\"size\":10,\"solidity\":0.2},\"type\":\"scatter\"}],\"parcoords\":[{\"type\":\"parcoords\",\"line\":{\"colorbar\":{\"outlinewidth\":0,\"ticks\":\"\"}}}],\"scatterpolargl\":[{\"type\":\"scatterpolargl\",\"marker\":{\"colorbar\":{\"outlinewidth\":0,\"ticks\":\"\"}}}],\"bar\":[{\"error_x\":{\"color\":\"#2a3f5f\"},\"error_y\":{\"color\":\"#2a3f5f\"},\"marker\":{\"line\":{\"color\":\"#E5ECF6\",\"width\":0.5},\"pattern\":{\"fillmode\":\"overlay\",\"size\":10,\"solidity\":0.2}},\"type\":\"bar\"}],\"scattergeo\":[{\"type\":\"scattergeo\",\"marker\":{\"colorbar\":{\"outlinewidth\":0,\"ticks\":\"\"}}}],\"scatterpolar\":[{\"type\":\"scatterpolar\",\"marker\":{\"colorbar\":{\"outlinewidth\":0,\"ticks\":\"\"}}}],\"histogram\":[{\"marker\":{\"pattern\":{\"fillmode\":\"overlay\",\"size\":10,\"solidity\":0.2}},\"type\":\"histogram\"}],\"scattergl\":[{\"type\":\"scattergl\",\"marker\":{\"colorbar\":{\"outlinewidth\":0,\"ticks\":\"\"}}}],\"scatter3d\":[{\"type\":\"scatter3d\",\"line\":{\"colorbar\":{\"outlinewidth\":0,\"ticks\":\"\"}},\"marker\":{\"colorbar\":{\"outlinewidth\":0,\"ticks\":\"\"}}}],\"scattermapbox\":[{\"type\":\"scattermapbox\",\"marker\":{\"colorbar\":{\"outlinewidth\":0,\"ticks\":\"\"}}}],\"scatterternary\":[{\"type\":\"scatterternary\",\"marker\":{\"colorbar\":{\"outlinewidth\":0,\"ticks\":\"\"}}}],\"scattercarpet\":[{\"type\":\"scattercarpet\",\"marker\":{\"colorbar\":{\"outlinewidth\":0,\"ticks\":\"\"}}}],\"carpet\":[{\"aaxis\":{\"endlinecolor\":\"#2a3f5f\",\"gridcolor\":\"white\",\"linecolor\":\"white\",\"minorgridcolor\":\"white\",\"startlinecolor\":\"#2a3f5f\"},\"baxis\":{\"endlinecolor\":\"#2a3f5f\",\"gridcolor\":\"white\",\"linecolor\":\"white\",\"minorgridcolor\":\"white\",\"startlinecolor\":\"#2a3f5f\"},\"type\":\"carpet\"}],\"table\":[{\"cells\":{\"fill\":{\"color\":\"#EBF0F8\"},\"line\":{\"color\":\"white\"}},\"header\":{\"fill\":{\"color\":\"#C8D4E3\"},\"line\":{\"color\":\"white\"}},\"type\":\"table\"}],\"barpolar\":[{\"marker\":{\"line\":{\"color\":\"#E5ECF6\",\"width\":0.5},\"pattern\":{\"fillmode\":\"overlay\",\"size\":10,\"solidity\":0.2}},\"type\":\"barpolar\"}],\"pie\":[{\"automargin\":true,\"type\":\"pie\"}]},\"layout\":{\"autotypenumbers\":\"strict\",\"colorway\":[\"#636efa\",\"#EF553B\",\"#00cc96\",\"#ab63fa\",\"#FFA15A\",\"#19d3f3\",\"#FF6692\",\"#B6E880\",\"#FF97FF\",\"#FECB52\"],\"font\":{\"color\":\"#2a3f5f\"},\"hovermode\":\"closest\",\"hoverlabel\":{\"align\":\"left\"},\"paper_bgcolor\":\"white\",\"plot_bgcolor\":\"#E5ECF6\",\"polar\":{\"bgcolor\":\"#E5ECF6\",\"angularaxis\":{\"gridcolor\":\"white\",\"linecolor\":\"white\",\"ticks\":\"\"},\"radialaxis\":{\"gridcolor\":\"white\",\"linecolor\":\"white\",\"ticks\":\"\"}},\"ternary\":{\"bgcolor\":\"#E5ECF6\",\"aaxis\":{\"gridcolor\":\"white\",\"linecolor\":\"white\",\"ticks\":\"\"},\"baxis\":{\"gridcolor\":\"white\",\"linecolor\":\"white\",\"ticks\":\"\"},\"caxis\":{\"gridcolor\":\"white\",\"linecolor\":\"white\",\"ticks\":\"\"}},\"coloraxis\":{\"colorbar\":{\"outlinewidth\":0,\"ticks\":\"\"}},\"colorscale\":{\"sequential\":[[0.0,\"#0d0887\"],[0.1111111111111111,\"#46039f\"],[0.2222222222222222,\"#7201a8\"],[0.3333333333333333,\"#9c179e\"],[0.4444444444444444,\"#bd3786\"],[0.5555555555555556,\"#d8576b\"],[0.6666666666666666,\"#ed7953\"],[0.7777777777777778,\"#fb9f3a\"],[0.8888888888888888,\"#fdca26\"],[1.0,\"#f0f921\"]],\"sequentialminus\":[[0.0,\"#0d0887\"],[0.1111111111111111,\"#46039f\"],[0.2222222222222222,\"#7201a8\"],[0.3333333333333333,\"#9c179e\"],[0.4444444444444444,\"#bd3786\"],[0.5555555555555556,\"#d8576b\"],[0.6666666666666666,\"#ed7953\"],[0.7777777777777778,\"#fb9f3a\"],[0.8888888888888888,\"#fdca26\"],[1.0,\"#f0f921\"]],\"diverging\":[[0,\"#8e0152\"],[0.1,\"#c51b7d\"],[0.2,\"#de77ae\"],[0.3,\"#f1b6da\"],[0.4,\"#fde0ef\"],[0.5,\"#f7f7f7\"],[0.6,\"#e6f5d0\"],[0.7,\"#b8e186\"],[0.8,\"#7fbc41\"],[0.9,\"#4d9221\"],[1,\"#276419\"]]},\"xaxis\":{\"gridcolor\":\"white\",\"linecolor\":\"white\",\"ticks\":\"\",\"title\":{\"standoff\":15},\"zerolinecolor\":\"white\",\"automargin\":true,\"zerolinewidth\":2},\"yaxis\":{\"gridcolor\":\"white\",\"linecolor\":\"white\",\"ticks\":\"\",\"title\":{\"standoff\":15},\"zerolinecolor\":\"white\",\"automargin\":true,\"zerolinewidth\":2},\"scene\":{\"xaxis\":{\"backgroundcolor\":\"#E5ECF6\",\"gridcolor\":\"white\",\"linecolor\":\"white\",\"showbackground\":true,\"ticks\":\"\",\"zerolinecolor\":\"white\",\"gridwidth\":2},\"yaxis\":{\"backgroundcolor\":\"#E5ECF6\",\"gridcolor\":\"white\",\"linecolor\":\"white\",\"showbackground\":true,\"ticks\":\"\",\"zerolinecolor\":\"white\",\"gridwidth\":2},\"zaxis\":{\"backgroundcolor\":\"#E5ECF6\",\"gridcolor\":\"white\",\"linecolor\":\"white\",\"showbackground\":true,\"ticks\":\"\",\"zerolinecolor\":\"white\",\"gridwidth\":2}},\"shapedefaults\":{\"line\":{\"color\":\"#2a3f5f\"}},\"annotationdefaults\":{\"arrowcolor\":\"#2a3f5f\",\"arrowhead\":0,\"arrowwidth\":1},\"geo\":{\"bgcolor\":\"white\",\"landcolor\":\"#E5ECF6\",\"subunitcolor\":\"white\",\"showland\":true,\"showlakes\":true,\"lakecolor\":\"white\"},\"title\":{\"x\":0.05},\"mapbox\":{\"style\":\"light\"}}},\"xaxis\":{\"anchor\":\"y\",\"domain\":[0.0,1.0],\"title\":{\"text\":\"Direction 1\"},\"showticklabels\":false,\"showgrid\":false,\"zeroline\":false,\"range\":[-22.0,22.0]},\"yaxis\":{\"anchor\":\"x\",\"domain\":[0.0,1.0],\"title\":{\"text\":\"Direction 2\"},\"showticklabels\":false,\"showgrid\":false,\"zeroline\":false,\"range\":[-22.0,22.0],\"scaleanchor\":\"x\",\"scaleratio\":1},\"legend\":{\"title\":{\"text\":\"Directions\"},\"tracegroupgap\":0,\"itemsizing\":\"constant\"},\"title\":{\"text\":\"KL Divergence Trajectories - SAE 0, Feature 9\"},\"showlegend\":true,\"hovermode\":\"closest\",\"width\":800,\"height\":800},                        {\"responsive\": true}                    ).then(function(){\n",
       "                            \n",
       "var gd = document.getElementById('d5194a5a-b285-4391-8e2c-1143f01aedee');\n",
       "var x = new MutationObserver(function (mutations, observer) {{\n",
       "        var display = window.getComputedStyle(gd).display;\n",
       "        if (!display || display === 'none') {{\n",
       "            console.log([gd, 'removed!']);\n",
       "            Plotly.purge(gd);\n",
       "            observer.disconnect();\n",
       "        }}\n",
       "}});\n",
       "\n",
       "// Listen for the removal of the full notebook cells\n",
       "var notebookContainer = gd.closest('#notebook-container');\n",
       "if (notebookContainer) {{\n",
       "    x.observe(notebookContainer, {childList: true});\n",
       "}}\n",
       "\n",
       "// Listen for the clearing of the current output cell\n",
       "var outputEl = gd.closest('.output');\n",
       "if (outputEl) {{\n",
       "    x.observe(outputEl, {childList: true});\n",
       "}}\n",
       "\n",
       "                        })                };                });            </script>        </div>"
      ]
     },
     "metadata": {},
     "output_type": "display_data"
    }
   ],
   "source": [
    "plot_kl_divergence_trajectories_plotly(kl_divs, sae_idx, feature_id, num_steps)"
   ]
  },
  {
   "cell_type": "code",
   "execution_count": 65,
   "metadata": {},
   "outputs": [],
   "source": [
    "# def plot_kl_divergences_line(kl_divs, title=\"KL Divergences for Different Directions\"):\n",
    "#     plt.figure(figsize=(10, 6))\n",
    "#     for i, direction_kl_divs in enumerate(kl_divs):\n",
    "#         plt.plot(direction_kl_divs.squeeze(), label=f'Direction {i}')\n",
    "    \n",
    "#     plt.xlabel('Steps')\n",
    "#     plt.ylabel('KL Divergence')\n",
    "#     plt.title(title)\n",
    "#     plt.legend()\n",
    "#     plt.grid(True)\n",
    "#     plt.show()\n",
    "\n",
    "# plot_kl_divergences_line(kl_divs, \"KL Divergences for SAE X, Feature Y\")"
   ]
  },
  {
   "cell_type": "code",
   "execution_count": 18,
   "metadata": {},
   "outputs": [],
   "source": []
  },
  {
   "cell_type": "code",
   "execution_count": null,
   "metadata": {},
   "outputs": [],
   "source": []
  },
  {
   "cell_type": "code",
   "execution_count": null,
   "metadata": {},
   "outputs": [],
   "source": []
  },
  {
   "cell_type": "code",
   "execution_count": 12,
   "metadata": {},
   "outputs": [],
   "source": [
    "# When running the main computation:\n",
    "kl_divs_by_direction_by_sae = []\n",
    "\n",
    "for sae, examples_by_feature in zip(saes, examples_by_feature_by_sae):\n",
    "    with torch_gc():\n",
    "        result = compute_trajectory_kl_divs(sae, examples_by_feature, pert_by_feature_id_by_direction, step_size)\n",
    "        kl_divs_by_direction_by_sae.append(result)\n",
    "        torch.cuda.empty_cache()  # Clear CUDA cache after each SAE computation"
   ]
  },
  {
   "cell_type": "code",
   "execution_count": 12,
   "metadata": {},
   "outputs": [],
   "source": [
    "def plot_trajectories(kl_divs_by_direction, sae_idx):\n",
    "    fig, ax = plt.subplots(figsize=(10, 10))\n",
    "    \n",
    "    # Plot the starting point\n",
    "    ax.scatter([0], [0], c='red', s=100, label='Start')\n",
    "    \n",
    "    # Plot trajectories\n",
    "    for direction_idx, kl_divs in enumerate(kl_divs_by_direction):\n",
    "        x = [step * np.cos(2 * np.pi * direction_idx / len(kl_divs_by_direction)) for step in range(num_steps)]\n",
    "        y = [step * np.sin(2 * np.pi * direction_idx / len(kl_divs_by_direction)) for step in range(num_steps)]\n",
    "        points = ax.scatter(x, y, c=kl_divs.mean(dim=1).cpu(), cmap='viridis', s=20)\n",
    "    \n",
    "    plt.colorbar(points, label='KL Divergence')\n",
    "    ax.set_xlabel('Direction 1')\n",
    "    ax.set_ylabel('Direction 2')\n",
    "    ax.set_title(f'Trajectories from Real Activation - SAE {sae_idx}')\n",
    "    plt.legend()\n",
    "    plt.show()\n"
   ]
  },
  {
   "cell_type": "code",
   "execution_count": null,
   "metadata": {},
   "outputs": [],
   "source": []
  },
  {
   "cell_type": "code",
   "execution_count": null,
   "metadata": {},
   "outputs": [],
   "source": []
  }
 ],
 "metadata": {
  "kernelspec": {
   "display_name": ".venv",
   "language": "python",
   "name": "python3"
  },
  "language_info": {
   "codemirror_mode": {
    "name": "ipython",
    "version": 3
   },
   "file_extension": ".py",
   "mimetype": "text/x-python",
   "name": "python",
   "nbconvert_exporter": "python",
   "pygments_lexer": "ipython3",
   "version": "3.10.14"
  }
 },
 "nbformat": 4,
 "nbformat_minor": 2
}
