{
 "cells": [
  {
   "cell_type": "code",
   "execution_count": 1,
   "metadata": {},
   "outputs": [],
   "source": [
    "import pandas as pd\n",
    "import numpy as np\n",
    "from glob import glob\n",
    "from scipy import stats\n",
    "from sae_lens.toolkit.pretrained_saes import get_gpt2_res_jb_saes\n",
    "import json\n",
    "import random\n",
    "import matplotlib.pyplot as plt\n",
    "from typing import List, Dict, Tuple\n",
    "from transformer_lens import HookedTransformer\n",
    "import torch\n",
    "from jaxtyping import Float, Int\n",
    "from collections import defaultdict\n",
    "from sklearn.decomposition import TruncatedSVD\n",
    "import itertools\n",
    "import torch.nn.functional as F\n",
    "import math\n",
    "import seaborn as sns"
   ]
  },
  {
   "cell_type": "markdown",
   "metadata": {},
   "source": [
    "## Setup"
   ]
  },
  {
   "cell_type": "code",
   "execution_count": 74,
   "metadata": {},
   "outputs": [],
   "source": [
    "def get_device_str() -> str:\n",
    "    if torch.backends.mps.is_available():\n",
    "        return \"mps\"\n",
    "    else:\n",
    "        return \"cuda\" if torch.cuda.is_available() else \"cpu\"\n",
    "\n",
    "\n",
    "def comp_js_divergence(\n",
    "    p_logit: Float[torch.Tensor, \"*batch vocab\"],\n",
    "    q_logit: Float[torch.Tensor, \"*batch vocab\"],\n",
    ") -> Float[torch.Tensor, \"*batch\"]:\n",
    "    p_logprob = torch.log_softmax(p_logit, dim=-1)\n",
    "    q_logprob = torch.log_softmax(q_logit, dim=-1)\n",
    "    p = p_logprob.exp()\n",
    "    q = q_logprob.exp()\n",
    "\n",
    "    # convert to log2\n",
    "    p_logprob *= math.log2(math.e)\n",
    "    q_logprob *= math.log2(math.e)\n",
    "\n",
    "    m = 0.5 * (p + q)\n",
    "    m_logprob = m.log2()\n",
    "\n",
    "    p_kl_div = (p * (p_logprob - m_logprob)).sum(-1)\n",
    "    q_kl_div = (q * (q_logprob - m_logprob)).sum(-1)\n",
    "\n",
    "    assert p_kl_div.isfinite().all()\n",
    "    assert q_kl_div.isfinite().all()\n",
    "    return (p_kl_div + q_kl_div) / 2\n",
    "\n",
    "\n",
    "def find_js_dist_blowup_max_slope(js_dists: List[float]):\n",
    "    steps = list(range(len(js_dists)))\n",
    "\n",
    "    slopes = []\n",
    "    for i in range(1, len(steps)):\n",
    "        dy = js_dists[i] - js_dists[i - 1]\n",
    "        dx = steps[i] - steps[i - 1]\n",
    "        slopes.append(dy / dx if dx != 0 else 0)\n",
    "\n",
    "    # Pad the beginning of slopes list to match the length of steps\n",
    "    slopes = [slopes[0]] + slopes\n",
    "    return np.argsort(np.nan_to_num(slopes))[::-1][0]\n",
    "\n",
    "\n",
    "def find_js_dist_blowup(\n",
    "    js_dists: List[float],\n",
    "    slope_threshold: float = 1.25,\n",
    "    min_js_distance: float = 0.1,\n",
    "    min_slope_threshold: float = 0.02,\n",
    ") -> int:\n",
    "    steps = list(range(len(js_dists)))\n",
    "\n",
    "    slopes = []\n",
    "    for i in range(1, len(steps)):\n",
    "        dy = js_dists[i] - js_dists[i - 1]\n",
    "        dx = steps[i] - steps[i - 1]\n",
    "        slopes.append(dy / dx if dx != 0 else 0)\n",
    "\n",
    "    # Pad the beginning of slopes list to match the length of steps\n",
    "    slopes = [slopes[0]] + slopes\n",
    "\n",
    "    for i in range(1, len(steps)):\n",
    "        current_slope = slopes[i]\n",
    "        prev_slope = slopes[i - 1]\n",
    "\n",
    "        # print(f\"step={i}, {current_slope=} {prev_slope=}, {slope_threshold * max(prev_slope, 1e-6)}\")\n",
    "\n",
    "        # Check if we're in an increasing trend and above minimum JS distance\n",
    "        if (\n",
    "            current_slope > (slope_threshold * max(prev_slope, 1e-6))\n",
    "            or current_slope >= min_slope_threshold\n",
    "        ) and js_dists[i] >= min_js_distance:\n",
    "            return i\n",
    "\n",
    "    return len(steps) - 1\n",
    "\n",
    "\n",
    "def find_plateau_length_js(\n",
    "    js_dists: List[float], threshold: float = 5e-03, window_size: int = 5\n",
    ") -> int:\n",
    "\n",
    "    def calculate_slope(y_values, x_values):\n",
    "        slope, _, _, _, _ = stats.linregress(x_values, y_values)\n",
    "        return slope\n",
    "\n",
    "    for i in range(len(js_dists) - window_size + 1):\n",
    "        window = js_dists[i : i + window_size]\n",
    "        x_values = list(range(window_size))\n",
    "        slope = calculate_slope(window, x_values)\n",
    "\n",
    "        if abs(slope) > threshold:\n",
    "            return i\n",
    "\n",
    "    return len(js_dists) - 1\n",
    "\n",
    "\n",
    "def load_jsonl(file_path):\n",
    "    data = []\n",
    "    with open(file_path, \"r\") as file:\n",
    "        for line in file:\n",
    "            # Parse each line as a JSON object\n",
    "            json_object = json.loads(line.strip())\n",
    "            data.append(json_object)\n",
    "    return data\n",
    "\n",
    "\n",
    "def get_feature_dir(sae, feature_id, feature_act, norm=False):\n",
    "    feature_acts = torch.zeros(sae.W_enc.shape[1])\n",
    "\n",
    "    # Activate the specified feature\n",
    "    feature_acts[:] = 0\n",
    "    feature_acts[feature_id] = feature_act\n",
    "\n",
    "    # Decode back to the residual stream space\n",
    "    perturbed_act = sae.decode(feature_acts)\n",
    "\n",
    "    if norm:\n",
    "        perturbed_act /= torch.norm(perturbed_act)\n",
    "\n",
    "    return perturbed_act\n",
    "\n",
    "\n",
    "def plot_heatmap_feature_acts(feature_activations, js_dists):\n",
    "    # Assuming feature_activations is a PyTorch tensor\n",
    "    feature_acts_np = (\n",
    "        feature_activations.numpy()\n",
    "    )  # Convert to numpy if it's not already\n",
    "\n",
    "    # Identify top features from start and end\n",
    "    n_top = 10\n",
    "    start_top_features = np.argsort(feature_acts_np[0])[-n_top:][::-1]\n",
    "    end_top_features = np.argsort(feature_acts_np[-1])[-n_top:][::-1]\n",
    "\n",
    "    # Assume js_blowup_step is the time step where JS distance starts increasing rapidly\n",
    "    js_blowup_step = find_js_dist_blowup(js_dists)  # Replace with your actual step\n",
    "\n",
    "    # Combine and get unique features\n",
    "    combined_features = np.unique(\n",
    "        np.concatenate([start_top_features, end_top_features])\n",
    "    )\n",
    "\n",
    "    # Create labels for y-axis\n",
    "    y_labels = []\n",
    "\n",
    "    feature_ranks = []\n",
    "\n",
    "    for feat in combined_features:\n",
    "        start_rank = np.where(start_top_features == feat)[0]\n",
    "        end_rank = np.where(end_top_features == feat)[0]\n",
    "        feature_rank = 0\n",
    "\n",
    "        label = f\"F{feat}\"\n",
    "        if len(start_rank) > 0:\n",
    "            label += f\" (S-{start_rank[0]+1})\"\n",
    "            feature_rank += start_rank[0]\n",
    "        else:\n",
    "            feature_rank += n_top\n",
    "\n",
    "        if len(end_rank) > 0:\n",
    "            label += f\" (E-{end_rank[0]+1})\"\n",
    "            if len(start_rank) == 0:\n",
    "                feature_rank += 10 + end_rank[0]\n",
    "\n",
    "        y_labels.append(label)\n",
    "        feature_ranks.append(feature_rank)\n",
    "\n",
    "    sorted_feature_ranks = np.argsort(feature_ranks)\n",
    "    sorted_y_labels = [y_labels[idx] for idx in sorted_feature_ranks]\n",
    "\n",
    "    # Create heatmap\n",
    "    fig, ax = plt.subplots(figsize=(20, len(combined_features) / 2 + 2))\n",
    "    sns.heatmap(\n",
    "        feature_acts_np[:, combined_features[sorted_feature_ranks]].T,\n",
    "        cmap=\"coolwarm\",\n",
    "        cbar_kws={\"label\": \"Activation\"},\n",
    "        yticklabels=sorted_y_labels,\n",
    "        ax=ax,\n",
    "    )\n",
    "\n",
    "    # Add vertical line for JS distance blowup\n",
    "    ax.axvline(x=js_blowup_step, color=\"white\", linestyle=\"--\", linewidth=2)\n",
    "\n",
    "    # Add text annotation for the JS blowup line\n",
    "    ax.text(\n",
    "        js_blowup_step,\n",
    "        len(combined_features) - 0.25,\n",
    "        \"JS Dist Blowup\",\n",
    "        rotation=90,\n",
    "        va=\"bottom\",\n",
    "        ha=\"right\",\n",
    "        color=\"white\",\n",
    "        fontweight=\"normal\",\n",
    "    )\n",
    "\n",
    "    # Assuming js_distances is your array of JS distances over time\n",
    "    ax2 = ax.twinx()\n",
    "    ax2.plot(js_dists, color=\"white\", linewidth=2)\n",
    "    ax2.set_ylabel(\"JS Distance\", color=\"white\")\n",
    "    ax2.tick_params(axis=\"y\", labelcolor=\"white\")\n",
    "\n",
    "    plt.title(\"Top Feature Activations Over Time (Start and End)\")\n",
    "    plt.xlabel(\"Time Steps\")\n",
    "    plt.ylabel(\"Feature ID (Start Rank, End Rank)\")\n",
    "    plt.tight_layout()\n",
    "    plt.show()"
   ]
  },
  {
   "cell_type": "code",
   "execution_count": 3,
   "metadata": {},
   "outputs": [
    {
     "name": "stdout",
     "output_type": "stream",
     "text": [
      "Loaded pretrained model gpt2 into HookedTransformer\n",
      "cuda\n"
     ]
    }
   ],
   "source": [
    "model = HookedTransformer.from_pretrained(\"gpt2\")\n",
    "device = get_device_str()\n",
    "\n",
    "print(device)"
   ]
  },
  {
   "cell_type": "code",
   "execution_count": 4,
   "metadata": {},
   "outputs": [
    {
     "name": "stderr",
     "output_type": "stream",
     "text": [
      "100%|██████████| 1/1 [00:26<00:00, 26.66s/it]\n"
     ]
    },
    {
     "data": {
      "text/plain": [
       "SAE(\n",
       "  (activation_fn): ReLU()\n",
       "  (hook_sae_input): HookPoint()\n",
       "  (hook_sae_acts_pre): HookPoint()\n",
       "  (hook_sae_acts_post): HookPoint()\n",
       "  (hook_sae_output): HookPoint()\n",
       "  (hook_sae_recons): HookPoint()\n",
       "  (hook_sae_error): HookPoint()\n",
       ")"
      ]
     },
     "execution_count": 4,
     "metadata": {},
     "output_type": "execute_result"
    }
   ],
   "source": [
    "perturbation_layer = \"blocks.0.hook_resid_pre\"\n",
    "saes, sparsities = get_gpt2_res_jb_saes(perturbation_layer)\n",
    "sae = saes[perturbation_layer].cpu()\n",
    "feature_sparsities = 10 ** sparsities[perturbation_layer].cpu()\n",
    "\n",
    "sae.eval()"
   ]
  },
  {
   "cell_type": "markdown",
   "metadata": {},
   "source": [
    "## Load & Clean data"
   ]
  },
  {
   "cell_type": "code",
   "execution_count": 57,
   "metadata": {},
   "outputs": [],
   "source": [
    "metadata, activations = [], []\n",
    "\n",
    "n_files = 5\n",
    "\n",
    "for path in sorted(glob(\"observations/metadata*\"))[:n_files]:\n",
    "    metadata.extend(load_jsonl(path))\n",
    "\n",
    "for path in sorted(glob(\"observations/acts*\"))[:n_files]:\n",
    "    activations.append(np.load(path))\n",
    "\n",
    "activations = np.concatenate(activations)"
   ]
  },
  {
   "cell_type": "code",
   "execution_count": 58,
   "metadata": {},
   "outputs": [
    {
     "data": {
      "text/plain": [
       "(5000, (5000, 100, 768))"
      ]
     },
     "execution_count": 58,
     "metadata": {},
     "output_type": "execute_result"
    }
   ],
   "source": [
    "len(metadata), activations.shape"
   ]
  },
  {
   "cell_type": "code",
   "execution_count": 59,
   "metadata": {},
   "outputs": [
    {
     "name": "stdout",
     "output_type": "stream",
     "text": [
      "500\n",
      "1000\n",
      "1500\n",
      "2000\n",
      "2500\n",
      "3000\n"
     ]
    }
   ],
   "source": [
    "# Clean data\n",
    "clean_metadata = []\n",
    "clean_activations = []\n",
    "\n",
    "n_examples = 5000\n",
    "idxs = random.sample(range(len(metadata)), n_examples)\n",
    "\n",
    "max_recon_error = 3.0\n",
    "c = 0\n",
    "\n",
    "for idx in idxs:\n",
    "    m = metadata[idx]\n",
    "    acts = activations[idx]\n",
    "    js_dists = [s[\"js_dist\"] for s in m[\"steps_metadata\"]]\n",
    "\n",
    "    if js_dists[-1] - js_dists[0] < 0.1:\n",
    "        continue\n",
    "\n",
    "    if np.isnan(js_dists).sum() > 1:\n",
    "        continue\n",
    "\n",
    "    act_recon = sae.decode(sae.encode(torch.tensor(acts[0])))\n",
    "    recon_error = torch.tensor(acts[0]) - act_recon\n",
    "    recon_error = recon_error.abs().sum(dim=-1).detach().numpy()\n",
    "\n",
    "    if recon_error > max_recon_error:\n",
    "        continue\n",
    "\n",
    "    clean_metadata.append(m)\n",
    "    clean_activations.append(acts)\n",
    "\n",
    "    c += 1\n",
    "\n",
    "    if c % 500 == 0:\n",
    "        print(c)\n",
    "\n",
    "clean_activations = np.stack(clean_activations)"
   ]
  },
  {
   "cell_type": "code",
   "execution_count": 60,
   "metadata": {},
   "outputs": [
    {
     "data": {
      "text/plain": [
       "(3392, (3392, 100, 768))"
      ]
     },
     "execution_count": 60,
     "metadata": {},
     "output_type": "execute_result"
    }
   ],
   "source": [
    "len(clean_metadata), clean_activations.shape"
   ]
  },
  {
   "cell_type": "code",
   "execution_count": 61,
   "metadata": {},
   "outputs": [],
   "source": [
    "metadata = clean_metadata\n",
    "activations = clean_activations"
   ]
  },
  {
   "cell_type": "markdown",
   "metadata": {},
   "source": [
    "## Prediction Function"
   ]
  },
  {
   "cell_type": "code",
   "execution_count": 62,
   "metadata": {},
   "outputs": [],
   "source": [
    "from sklearn.metrics import mean_squared_error, r2_score\n",
    "from scipy.stats import entropy"
   ]
  },
  {
   "cell_type": "code",
   "execution_count": 235,
   "metadata": {},
   "outputs": [],
   "source": [
    "def find_crossover_point(feature_acts):\n",
    "    start_feature = feature_acts[:, 0]\n",
    "    end_feature = feature_acts[:, 1]\n",
    "\n",
    "    # Compare absolute values\n",
    "    mask = torch.abs(end_feature) > torch.abs(start_feature)\n",
    "\n",
    "    # Find the first True value in the mask\n",
    "    crossover_indices = torch.nonzero(mask)\n",
    "\n",
    "    if crossover_indices.numel() > 0:\n",
    "        return crossover_indices[0].item()\n",
    "    else:\n",
    "        return feature_acts.shape[0] // 2\n",
    "\n",
    "\n",
    "def extract_crossover_point(feature_acts):\n",
    "    top_features_start = torch.argsort(feature_acts[0])[-5:].flip(dims=(0,))\n",
    "    top_features_end = torch.argsort(feature_acts[-1])[-5:].flip(dims=(0,))\n",
    "    feature_ids = [top_features_start[0].item(), top_features_end[0].item()]\n",
    "    crossover_point = find_crossover_point(feature_acts[:, feature_ids])\n",
    "    return crossover_point\n",
    "\n",
    "\n",
    "def get_data_for_step(steps):\n",
    "    step_js_dists = [s[\"js_dist\"] for s in steps]\n",
    "    js_blowup_step = find_js_dist_blowup_max_slope(step_js_dists)\n",
    "    sensitivity = 1 - js_blowup_step / len(step_js_dists)\n",
    "    feature_acts = get_feature_activations(steps)\n",
    "    return feature_acts, step_js_dists, js_blowup_step, sensitivity\n",
    "\n",
    "\n",
    "def get_feature_activations(steps):\n",
    "    feature_activations = []\n",
    "    for _, s in enumerate(steps):\n",
    "        active_feature_ids = s[\"active_feature_ids\"]\n",
    "        active_feature_acts = s[\"active_feature_acts\"]\n",
    "        feature_acts = torch.zeros(sae.W_enc.shape[1])\n",
    "        feature_acts[active_feature_ids] = torch.tensor(active_feature_acts)\n",
    "        feature_activations.append(feature_acts)\n",
    "    return torch.stack(feature_activations)\n",
    "\n",
    "\n",
    "def find_crossover_point_between_vectors(v1, v2):\n",
    "    for i, (n1, n2) in enumerate(zip(v1, v2)):\n",
    "        if n1 < n2:\n",
    "            return i\n",
    "    return len(v1)\n",
    "\n",
    "\n",
    "def get_feature_dir(sae, feature_id, feature_act, norm=False):\n",
    "    feature_acts = torch.zeros(sae.W_enc.shape[1])\n",
    "\n",
    "    # Activate the specified feature\n",
    "    feature_acts[:] = 0\n",
    "    feature_acts[feature_id] = feature_act\n",
    "\n",
    "    # Decode back to the residual stream space\n",
    "    perturbed_act = sae.decode(feature_acts)\n",
    "\n",
    "    if norm:\n",
    "        perturbed_act /= torch.norm(perturbed_act)\n",
    "\n",
    "    return perturbed_act"
   ]
  },
  {
   "cell_type": "code",
   "execution_count": 165,
   "metadata": {},
   "outputs": [],
   "source": [
    "labels = []\n",
    "preds = []\n",
    "ind_preds = defaultdict(list)\n",
    "\n",
    "n_examples = min(100, len(metadata))\n",
    "idxs = random.sample(range(len(metadata)), n_examples)\n",
    "# idxs = range(n_examples)\n",
    "\n",
    "for i, idx in enumerate(idxs):\n",
    "    steps = metadata[idx][\"steps_metadata\"]\n",
    "    feature_acts, step_js_dists, js_blowup_step, sensitivity = get_data_for_step(steps)\n",
    "    labels.append(sensitivity)\n",
    "\n",
    "    # # Find crossover point\n",
    "    # cp_point = extract_crossover_point(feature_acts)\n",
    "    # pred_sensitivity_cp = 1 - cp_point / len(steps)\n",
    "\n",
    "    # Find crossover point\n",
    "    top_feature_ids_start = torch.argsort(feature_acts[0]).numpy()[::-1][:5].tolist()\n",
    "    top_feature_acts_start = feature_acts[:, top_feature_ids_start]\n",
    "    top_feature_acts_norm_start = (\n",
    "        top_feature_acts_start / top_feature_acts_start.max(dim=0).values\n",
    "    )\n",
    "    top_feature_acts_start_mean = top_feature_acts_norm_start.mean(dim=-1)\n",
    "\n",
    "    top_feature_ids_end = torch.argsort(feature_acts[-1]).numpy()[::-1][:5].tolist()\n",
    "    top_feature_acts_end = feature_acts[:, top_feature_ids_end]\n",
    "    top_feature_acts_norm_end = (\n",
    "        top_feature_acts_end / top_feature_acts_end.max(dim=0).values\n",
    "    )\n",
    "    top_feature_acts_end_mean = top_feature_acts_norm_end.mean(dim=-1)\n",
    "\n",
    "    cp_point_mean_feats = find_crossover_point_between_vectors(\n",
    "        top_feature_acts_start_mean, top_feature_acts_end_mean\n",
    "    )\n",
    "    pred_sensitivity_cp_mean = 1 - cp_point_mean_feats / len(steps)\n",
    "\n",
    "    # # Find max acceleration\n",
    "    # row_indices = np.arange(feature_acts.shape[0])[:, np.newaxis]\n",
    "    # top_features_per_step = np.argsort(feature_acts)[:, -5:]\n",
    "    # top_features_acts = feature_acts[row_indices, top_features_per_step]\n",
    "\n",
    "    # gradients = np.gradient(top_features_acts, axis=0)\n",
    "    # accelerations = np.gradient(gradients, axis=0)\n",
    "\n",
    "    # max_gradient = np.max(np.abs(accelerations), axis=1)\n",
    "    # pred_step = np.argsort(max_gradient)[::-1][0]\n",
    "    # pred_sensitivity_acc = 1 - pred_step / len(steps)\n",
    "\n",
    "    # pred_sensitivity = np.mean([pred_sensitivity_cp, pred_sensitivity_acc])\n",
    "    pred_sensitivity = pred_sensitivity_cp_mean\n",
    "\n",
    "    # ind_preds['pred_sensitivity_cp'].append(pred_sensitivity_cp)\n",
    "    # ind_preds['pred_sensitivity_acc'].append(pred_sensitivity_acc)\n",
    "\n",
    "    preds.append(pred_sensitivity)"
   ]
  },
  {
   "cell_type": "code",
   "execution_count": 166,
   "metadata": {},
   "outputs": [
    {
     "name": "stdout",
     "output_type": "stream",
     "text": [
      "Corr=-0.2184\n",
      "P-Value: 0.0290\n"
     ]
    }
   ],
   "source": [
    "corr, p_value = stats.spearmanr(labels, preds)\n",
    "print(f\"Corr={corr:.4f}\\nP-Value: {p_value:.4f}\")"
   ]
  },
  {
   "cell_type": "code",
   "execution_count": 17,
   "metadata": {},
   "outputs": [],
   "source": [
    "# plt.plot(labels)\n",
    "# plt.plot(preds)"
   ]
  },
  {
   "cell_type": "code",
   "execution_count": 167,
   "metadata": {},
   "outputs": [
    {
     "name": "stdout",
     "output_type": "stream",
     "text": [
      "MSE: 0.0268\n",
      "R-squared: -7.4886\n"
     ]
    }
   ],
   "source": [
    "# Predict results\n",
    "mse = mean_squared_error(labels, preds)\n",
    "r2 = r2_score(labels, preds)\n",
    "\n",
    "print(f\"MSE: {mse:.4f}\")\n",
    "print(f\"R-squared: {r2:.4f}\")"
   ]
  },
  {
   "cell_type": "markdown",
   "metadata": {},
   "source": [
    "## Modelling"
   ]
  },
  {
   "cell_type": "code",
   "execution_count": 401,
   "metadata": {},
   "outputs": [],
   "source": [
    "from sklearn.model_selection import train_test_split\n",
    "from sklearn.preprocessing import StandardScaler\n",
    "from sklearn.metrics import mean_squared_error, r2_score, mean_absolute_error\n",
    "from sklearn.svm import SVR\n",
    "from sklearn.model_selection import GridSearchCV\n",
    "import xgboost as xgb\n",
    "from scipy.stats import entropy\n",
    "import cupy as cp\n",
    "from sklearn.model_selection import KFold"
   ]
  },
  {
   "cell_type": "code",
   "execution_count": 472,
   "metadata": {},
   "outputs": [],
   "source": [
    "def gpu_cross_validate(model, X, y, n_splits=5):\n",
    "    kf = KFold(n_splits=n_splits, shuffle=True, random_state=42)\n",
    "    mae_scores = []\n",
    "    r2_scores = []\n",
    "\n",
    "    for train_index, test_index in kf.split(X):\n",
    "        # Split the data\n",
    "        X_train, X_test = X[train_index], X[test_index]\n",
    "        y_train, y_test = y[train_index], y[test_index]\n",
    "\n",
    "        # Convert to GPU arrays\n",
    "        X_train_gpu = cp.array(X_train)\n",
    "        y_train_gpu = cp.array(y_train)\n",
    "        X_test_gpu = cp.array(X_test)\n",
    "\n",
    "        # Train the model\n",
    "        model.fit(X_train_gpu, y_train_gpu)\n",
    "\n",
    "        # Predict\n",
    "        y_pred_gpu = model.predict(X_test_gpu)\n",
    "\n",
    "        # Convert predictions back to CPU for evaluation\n",
    "        y_pred = cp.asnumpy(y_pred_gpu)\n",
    "\n",
    "        # Compute metrics\n",
    "        mae = mean_absolute_error(y_test, y_pred)\n",
    "        r2 = r2_score(y_test, y_pred)\n",
    "\n",
    "        mae_scores.append(mae)\n",
    "        r2_scores.append(r2)\n",
    "\n",
    "    return mae_scores, r2_scores\n",
    "\n",
    "\n",
    "def construct_features_and_label(steps, acts):\n",
    "    feature_acts, step_js_dists, js_blowup_step, sensitivity = get_data_for_step(steps)\n",
    "    n_steps = len(steps)\n",
    "\n",
    "    # Find crossover point\n",
    "    cp_point = extract_crossover_point(feature_acts)\n",
    "    pred_sensitivity_cp = 1 - cp_point / len(steps)\n",
    "\n",
    "    # Find max acceleration\n",
    "    # row_indices = np.arange(feature_acts.shape[0])[:, np.newaxis]\n",
    "    # top_features_per_step = np.argsort(feature_acts)[:, -5:]\n",
    "    # top_features_acts = feature_acts[row_indices, top_features_per_step]\n",
    "\n",
    "    # gradients = np.gradient(top_features_acts, axis=0)\n",
    "    # accelerations = np.gradient(gradients, axis=0)\n",
    "\n",
    "    # max_gradient = np.max(np.abs(gradients), axis=1)\n",
    "    # pred_step_grad = np.argsort(max_gradient)[::-1][0]\n",
    "    # pred_sensitivity_grad = 1 - pred_step_grad / len(steps)\n",
    "\n",
    "    # Find top features start relevant info\n",
    "    top_feature_ids_start = torch.argsort(feature_acts[0]).numpy()[::-1][:3].tolist()\n",
    "    top_feature_acts_start = feature_acts[:, top_feature_ids_start]\n",
    "    top_feature_acts_norm_start = (\n",
    "        top_feature_acts_start / top_feature_acts_start.max(dim=0).values\n",
    "    )\n",
    "    top_feature_acts_start_mean = top_feature_acts_norm_start.mean(dim=-1)\n",
    "\n",
    "    top_features_acts_start_slopes = (\n",
    "        ((top_feature_acts_norm_start[-1] - top_feature_acts_norm_start[0]) / n_steps)\n",
    "        .numpy()\n",
    "        .tolist()\n",
    "    )\n",
    "    top_feature_acts_start_mean_slope = (\n",
    "        (top_feature_acts_start_mean[-1] - top_feature_acts_start_mean[0]) / n_steps\n",
    "    ).item()\n",
    "\n",
    "    # Find top features end relevant info\n",
    "    top_feature_ids_end = torch.argsort(feature_acts[-1]).numpy()[::-1][:3].tolist()\n",
    "    top_feature_acts_end = feature_acts[:, top_feature_ids_end]\n",
    "    top_feature_acts_norm_end = (\n",
    "        top_feature_acts_end / top_feature_acts_end.max(dim=0).values\n",
    "    )\n",
    "    top_feature_acts_end_mean = top_feature_acts_norm_end.mean(dim=-1)\n",
    "\n",
    "    top_features_acts_end_slopes = (\n",
    "        ((top_feature_acts_norm_end[-1] - top_feature_acts_norm_end[0]) / n_steps)\n",
    "        .numpy()\n",
    "        .tolist()\n",
    "    )\n",
    "    top_feature_acts_end_mean_slope = (\n",
    "        (top_feature_acts_end_mean[-1] - top_feature_acts_end_mean[0]) / n_steps\n",
    "    ).item()\n",
    "\n",
    "    # Crossover point between feature acts mean\n",
    "    cp_point_mean_feats = find_crossover_point_between_vectors(\n",
    "        top_feature_acts_start_mean, top_feature_acts_end_mean\n",
    "    )\n",
    "\n",
    "    # Feature dirs cosine\n",
    "    start_act = torch.tensor(acts[0]).unsqueeze(0)\n",
    "    end_act = torch.tensor(acts[-1]).unsqueeze(0)\n",
    "\n",
    "    top_feature_dirs_start = torch.stack(\n",
    "        [\n",
    "            get_feature_dir(sae, fid, feature_acts[0, fid].item(), norm=False)\n",
    "            for fid in top_feature_ids_start\n",
    "        ]\n",
    "    )\n",
    "    top_feature_dirs_end = torch.stack(\n",
    "        [\n",
    "            get_feature_dir(sae, fid, feature_acts[-1, fid].item(), norm=False)\n",
    "            for fid in top_feature_ids_end\n",
    "        ]\n",
    "    )\n",
    "\n",
    "    # Cosine similarity between top features from A with A\n",
    "    top_features_a_a_sim = (\n",
    "        torch.cosine_similarity(start_act, top_feature_dirs_start)\n",
    "        .detach()\n",
    "        .numpy()\n",
    "        .tolist()\n",
    "    )\n",
    "\n",
    "    # Cosine similarity between top features from A with T\n",
    "    top_features_a_t_sim = (\n",
    "        torch.cosine_similarity(end_act, top_feature_dirs_start)\n",
    "        .detach()\n",
    "        .numpy()\n",
    "        .tolist()\n",
    "    )\n",
    "\n",
    "    # Cosine similarity between top features from T with A\n",
    "    top_features_t_a_sim = (\n",
    "        torch.cosine_similarity(start_act, top_feature_dirs_end)\n",
    "        .detach()\n",
    "        .numpy()\n",
    "        .tolist()\n",
    "    )\n",
    "\n",
    "    # Cosine similarity between top features from T with T\n",
    "    top_features_t_t_sim = (\n",
    "        torch.cosine_similarity(end_act, top_feature_dirs_end).detach().numpy().tolist()\n",
    "    )\n",
    "\n",
    "    # Cosine sim between top feature in A with top features in T\n",
    "    top_feature1_start_t_sim = torch.cosine_similarity(\n",
    "        top_feature_dirs_start[0, :], top_feature_dirs_end\n",
    "    ).tolist()\n",
    "\n",
    "    # Cosine sim between top feature in A with top features in T\n",
    "    top_feature2_start_t_sim = torch.cosine_similarity(\n",
    "        top_feature_dirs_start[1, :], top_feature_dirs_end\n",
    "    ).tolist()\n",
    "\n",
    "    # Cosine sim between top feature in A with top features in T\n",
    "    top_feature3_start_t_sim = torch.cosine_similarity(\n",
    "        top_feature_dirs_start[2, :], top_feature_dirs_end\n",
    "    ).tolist()\n",
    "\n",
    "    features = [\n",
    "        pred_sensitivity_cp,\n",
    "        *top_features_acts_start_slopes,\n",
    "        top_feature_acts_start_mean_slope,\n",
    "        *top_features_acts_end_slopes,\n",
    "        top_feature_acts_end_mean_slope,\n",
    "        cp_point_mean_feats,\n",
    "        *top_features_a_a_sim,\n",
    "        *top_features_a_t_sim,\n",
    "        *top_features_t_a_sim,\n",
    "        *top_features_t_t_sim,\n",
    "        *top_feature1_start_t_sim,\n",
    "        *top_feature2_start_t_sim,\n",
    "        *top_feature3_start_t_sim,\n",
    "    ]\n",
    "\n",
    "    return features, sensitivity, step_js_dists, js_blowup_step"
   ]
  },
  {
   "cell_type": "code",
   "execution_count": 396,
   "metadata": {},
   "outputs": [
    {
     "data": {
      "text/plain": [
       "(31, 0.52)"
      ]
     },
     "execution_count": 396,
     "metadata": {},
     "output_type": "execute_result"
    }
   ],
   "source": [
    "# steps = metadata[0][\"steps_metadata\"]\n",
    "# acts = activations[0]\n",
    "# features, label = construct_features_and_label(steps, acts)\n",
    "# len(features), label"
   ]
  },
  {
   "cell_type": "code",
   "execution_count": 431,
   "metadata": {},
   "outputs": [
    {
     "data": {
      "text/plain": [
       "31"
      ]
     },
     "execution_count": 431,
     "metadata": {},
     "output_type": "execute_result"
    }
   ],
   "source": [
    "feature_names = [\n",
    "    \"crossover_point_sens\",\n",
    "    \"top_1_feat_start_slope\",\n",
    "    \"top_2_feat_start_slope\",\n",
    "    \"top_3_feat_start_slope\",\n",
    "    \"top_feats_start_mean_slope\",\n",
    "    \"top_1_feat_end_slope\",\n",
    "    \"top_2_feat_end_slope\",\n",
    "    \"top_3_feat_end_slope\",\n",
    "    \"top_feats_end_mean_slope\",\n",
    "    \"crossover_point_mean_feat_acts\",\n",
    "    \"top_1_feat_start_sim_a\",\n",
    "    \"top_2_feat_start_sim_a\",\n",
    "    \"top_3_feat_start_sim_a\",\n",
    "    \"top_1_feat_start_sim_t\",\n",
    "    \"top_2_feat_start_sim_t\",\n",
    "    \"top_3_feat_start_sim_t\",\n",
    "    \"top_1_feat_end_sim_a\",\n",
    "    \"top_2_feat_end_sim_a\",\n",
    "    \"top_3_feat_end_sim_a\",\n",
    "    \"top_1_feat_end_sim_t\",\n",
    "    \"top_2_feat_end_sim_t\",\n",
    "    \"top_3_feat_end_sim_t\",\n",
    "    \"top_1_feat_start_sim_top_1_feat_end\",\n",
    "    \"top_1_feat_start_sim_top_2_feat_end\",\n",
    "    \"top_1_feat_start_sim_top_3_feat_end\",\n",
    "    \"top_2_feat_start_sim_top_1_feat_end\",\n",
    "    \"top_2_feat_start_sim_top_2_feat_end\",\n",
    "    \"top_2_feat_start_sim_top_3_feat_end\",\n",
    "    \"top_3_feat_start_sim_top_1_feat_end\",\n",
    "    \"top_3_feat_start_sim_top_2_feat_end\",\n",
    "    \"top_3_feat_start_sim_top_3_feat_end\",\n",
    "]\n",
    "\n",
    "len(feature_names)"
   ]
  },
  {
   "cell_type": "code",
   "execution_count": 660,
   "metadata": {},
   "outputs": [],
   "source": [
    "n_examples = 3000\n",
    "idxs = random.sample(range(len(metadata)), n_examples)\n",
    "\n",
    "features, labels = [], []\n",
    "js_dists, js_blowup_steps = [], []\n",
    "\n",
    "for idx in idxs:\n",
    "    steps = metadata[idx][\"steps_metadata\"]\n",
    "    acts = activations[idx]\n",
    "    pert_features, pert_label, pert_js_dists, pert_js_blowup_step = (\n",
    "        construct_features_and_label(steps, acts)\n",
    "    )\n",
    "    features.append(pert_features)\n",
    "    # labels.append(pert_label)\n",
    "    labels.append(pert_js_blowup_step)\n",
    "    js_dists.append(pert_js_dists)\n",
    "    js_blowup_steps.append(pert_js_blowup_step)"
   ]
  },
  {
   "cell_type": "code",
   "execution_count": 661,
   "metadata": {},
   "outputs": [],
   "source": [
    "X = np.array(features)\n",
    "y = np.array(labels)"
   ]
  },
  {
   "cell_type": "code",
   "execution_count": 662,
   "metadata": {},
   "outputs": [
    {
     "name": "stdout",
     "output_type": "stream",
     "text": [
      "(2700, 31) (300, 31)\n"
     ]
    }
   ],
   "source": [
    "X_train, X_test, y_train, y_test = train_test_split(\n",
    "    X, y, test_size=0.1, random_state=665\n",
    ")\n",
    "\n",
    "print(X_train.shape, X_test.shape)"
   ]
  },
  {
   "cell_type": "code",
   "execution_count": 663,
   "metadata": {},
   "outputs": [],
   "source": [
    "# Convert your data to GPU\n",
    "X_train_gpu = cp.array(X_train)\n",
    "y_train_gpu = cp.array(y_train)"
   ]
  },
  {
   "cell_type": "code",
   "execution_count": 664,
   "metadata": {},
   "outputs": [],
   "source": [
    "reg_model = xgb.XGBRegressor(\n",
    "    n_estimators=300,\n",
    "    max_depth=10,\n",
    "    learning_rate=0.01,\n",
    "    min_child_weight=2,\n",
    "    # subsample=0.5,\n",
    "    # colsample_bytree=0.8,\n",
    "    reg_alpha=0.5,\n",
    "    reg_lambda=0.5,\n",
    "    # gamma=0.1,\n",
    "    random_state=3525,\n",
    "    device=\"cuda\",\n",
    ")\n",
    "\n",
    "# reg_model = SVR(kernel='rbf', C=97, epsilon=0.0043, gamma=0.0008)"
   ]
  },
  {
   "cell_type": "code",
   "execution_count": 675,
   "metadata": {},
   "outputs": [
    {
     "name": "stdout",
     "output_type": "stream",
     "text": [
      "Baseline MAE: 4.6433\n",
      "Baseline R-squared: -0.0616\n"
     ]
    }
   ],
   "source": [
    "y_pred = [50] * len(y_test)\n",
    "mse = mean_absolute_error(y_test, y_pred, multioutput=\"raw_values\")[0]\n",
    "r2 = r2_score(y_test, y_pred, multioutput=\"raw_values\")[0]\n",
    "\n",
    "print(f\"Baseline MAE: {mse:.4f}\")\n",
    "print(f\"Baseline R-squared: {r2:.4f}\")"
   ]
  },
  {
   "cell_type": "code",
   "execution_count": 666,
   "metadata": {},
   "outputs": [
    {
     "name": "stdout",
     "output_type": "stream",
     "text": [
      "Train MAE: 1.4148\n",
      "Train R-squared: 0.9005\n"
     ]
    }
   ],
   "source": [
    "reg_model.fit(X_train_gpu, y_train_gpu)\n",
    "\n",
    "y_pred = reg_model.predict(X_train_gpu)\n",
    "mse = mean_absolute_error(y_train, y_pred, multioutput=\"raw_values\")[0]\n",
    "r2 = r2_score(y_train, y_pred, multioutput=\"raw_values\")[0]\n",
    "\n",
    "print(f\"Train MAE: {mse:.4f}\")\n",
    "print(f\"Train R-squared: {r2:.4f}\")"
   ]
  },
  {
   "cell_type": "code",
   "execution_count": 667,
   "metadata": {},
   "outputs": [
    {
     "name": "stdout",
     "output_type": "stream",
     "text": [
      "MAE: 3.4034\n",
      "R-squared: 0.3199\n"
     ]
    }
   ],
   "source": [
    "# X_test_selected = selector.transform(X_test)\n",
    "X_test_gpu = cp.array(X_test)\n",
    "y_pred_test = reg_model.predict(X_test_gpu)\n",
    "\n",
    "mse = mean_absolute_error(y_test, y_pred_test)\n",
    "r2 = r2_score(y_test, y_pred_test)\n",
    "\n",
    "print(f\"MAE: {mse:.4f}\")\n",
    "print(f\"R-squared: {r2:.4f}\")"
   ]
  },
  {
   "cell_type": "code",
   "execution_count": 668,
   "metadata": {},
   "outputs": [
    {
     "data": {
      "text/plain": [
       "(3000,)"
      ]
     },
     "execution_count": 668,
     "metadata": {},
     "output_type": "execute_result"
    }
   ],
   "source": [
    "preds = np.concatenate([y_pred, y_pred_test])\n",
    "preds.shape"
   ]
  },
  {
   "cell_type": "code",
   "execution_count": null,
   "metadata": {},
   "outputs": [],
   "source": [
    "# # Usage\n",
    "# n_splits = 5\n",
    "# mae_scores, r2_scores = gpu_cross_validate(reg_model, X, y, n_splits)\n",
    "\n",
    "# print(f\"Mean MAE: {np.mean(mae_scores):.4f} (+/- {np.std(mae_scores) * 2:.4f})\")\n",
    "# print(f\"Mean R-squared: {np.mean(r2_scores):.4f} (+/- {np.std(r2_scores) * 2:.4f})\")\n",
    "\n",
    "# # If you want to see individual fold scores:\n",
    "# for i in range(n_splits):\n",
    "#     print(f\"Fold {i+1} - MAE: {mae_scores[i]:.4f}, R-squared: {r2_scores[i]:.4f}\")"
   ]
  },
  {
   "cell_type": "code",
   "execution_count": 669,
   "metadata": {},
   "outputs": [
    {
     "name": "stdout",
     "output_type": "stream",
     "text": [
      "Feature top_3_feat_start_sim_t: 0.192\n",
      "Feature top_2_feat_start_sim_a: 0.090\n",
      "Feature top_3_feat_end_sim_a: 0.070\n",
      "Feature top_1_feat_start_sim_a: 0.047\n",
      "Feature top_1_feat_end_sim_t: 0.034\n",
      "Feature top_3_feat_start_sim_a: 0.032\n",
      "Feature top_2_feat_end_sim_t: 0.031\n",
      "Feature top_1_feat_start_sim_top_3_feat_end: 0.030\n",
      "Feature top_3_feat_end_sim_t: 0.030\n",
      "Feature top_1_feat_start_sim_top_1_feat_end: 0.029\n"
     ]
    }
   ],
   "source": [
    "# Get feature importance\n",
    "importance = reg_model.feature_importances_\n",
    "\n",
    "fn_with_imp = sorted(list(zip(feature_names, importance)), key=lambda t: t[1])[::-1]\n",
    "\n",
    "# Print feature importance\n",
    "for fn, v in fn_with_imp[:10]:\n",
    "    print(f\"Feature {fn}: {v:.3f}\")"
   ]
  },
  {
   "cell_type": "markdown",
   "metadata": {},
   "source": [
    "## Exploring predictions"
   ]
  },
  {
   "cell_type": "code",
   "execution_count": 676,
   "metadata": {},
   "outputs": [],
   "source": [
    "diffs = np.abs(np.array(y_test) - np.array(y_pred_test))\n",
    "\n",
    "# diffs = np.abs(np.array(labels) - np.array(preds))\n",
    "min_diff_idxs = np.argsort(-diffs).tolist()[-10:][::-1]\n",
    "max_diff_idxs = np.argsort(diffs).tolist()[-10:][::-1]\n",
    "max_diffs = diffs[max_diff_idxs]"
   ]
  },
  {
   "cell_type": "code",
   "execution_count": 698,
   "metadata": {},
   "outputs": [
    {
     "data": {
      "text/plain": [
       "array([23.25178146, 18.88102722, 17.42992401, 13.77625275, 12.51036835,\n",
       "       12.11772537, 11.54722977, 11.09409332, 10.5263443 , 10.35970306])"
      ]
     },
     "execution_count": 698,
     "metadata": {},
     "output_type": "execute_result"
    }
   ],
   "source": [
    "max_diffs"
   ]
  },
  {
   "cell_type": "code",
   "execution_count": 700,
   "metadata": {},
   "outputs": [
    {
     "data": {
      "text/plain": [
       "[262, 168, 149, 33, 114, 129, 187, 178, 281, 278]"
      ]
     },
     "execution_count": 700,
     "metadata": {},
     "output_type": "execute_result"
    }
   ],
   "source": [
    "max_diff_idxs"
   ]
  },
  {
   "cell_type": "code",
   "execution_count": 699,
   "metadata": {},
   "outputs": [
    {
     "data": {
      "text/plain": [
       "array([0.00118256, 0.0292778 , 0.03247833, 0.03744507, 0.0416069 ,\n",
       "       0.07975006, 0.09449768, 0.09932709, 0.10493851, 0.10713577])"
      ]
     },
     "execution_count": 699,
     "metadata": {},
     "output_type": "execute_result"
    }
   ],
   "source": [
    "diffs[min_diff_idxs]"
   ]
  },
  {
   "cell_type": "code",
   "execution_count": 703,
   "metadata": {},
   "outputs": [],
   "source": [
    "idx = max_diff_idxs[0]\n",
    "\n",
    "step_js_dists = js_dists[idx]\n",
    "js_blowup_step = js_blowup_steps[idx]\n",
    "pred = preds[idx]"
   ]
  },
  {
   "cell_type": "code",
   "execution_count": 704,
   "metadata": {},
   "outputs": [
    {
     "data": {
      "text/plain": [
       "7.2623748779296875"
      ]
     },
     "execution_count": 704,
     "metadata": {},
     "output_type": "execute_result"
    }
   ],
   "source": [
    "abs(pred - js_blowup_step)"
   ]
  },
  {
   "cell_type": "code",
   "execution_count": 705,
   "metadata": {},
   "outputs": [
    {
     "data": {
      "image/png": "[encoded data removed]",
      "text/plain": [
       "<Figure size 1500x800 with 1 Axes>"
      ]
     },
     "metadata": {},
     "output_type": "display_data"
    }
   ],
   "source": [
    "plt.figure(figsize=(15, 8))\n",
    "plt.plot(step_js_dists)\n",
    "plt.axvline(x=pred, color=\"tab:green\", linestyle=\"--\", linewidth=1, label=\"pred\")\n",
    "\n",
    "plt.axvline(\n",
    "    x=js_blowup_step, color=\"tab:red\", linestyle=\"--\", linewidth=1, label=\"blowup\"\n",
    ")\n",
    "\n",
    "plt.yticks(np.arange(0, 1.05, 0.05))\n",
    "plt.xticks(np.arange(0, 105, 5))\n",
    "plt.xlabel(\"Steps\")\n",
    "plt.ylabel(\"JS Distance\")\n",
    "plt.legend(loc=\"lower right\")\n",
    "plt.grid()\n",
    "plt.show()"
   ]
  },
  {
   "cell_type": "code",
   "execution_count": null,
   "metadata": {},
   "outputs": [],
   "source": [
    "# plot_heatmap_feature_acts(feature_acts, step_js_dists)"
   ]
  },
  {
   "cell_type": "code",
   "execution_count": null,
   "metadata": {},
   "outputs": [],
   "source": []
  },
  {
   "cell_type": "code",
   "execution_count": null,
   "metadata": {},
   "outputs": [],
   "source": []
  }
 ],
 "metadata": {
  "kernelspec": {
   "display_name": "virtualenvs",
   "language": "python",
   "name": "python3"
  },
  "language_info": {
   "codemirror_mode": {
    "name": "ipython",
    "version": 3
   },
   "file_extension": ".py",
   "mimetype": "text/x-python",
   "name": "python",
   "nbconvert_exporter": "python",
   "pygments_lexer": "ipython3",
   "version": "3.10.14"
  }
 },
 "nbformat": 4,
 "nbformat_minor": 2
}
