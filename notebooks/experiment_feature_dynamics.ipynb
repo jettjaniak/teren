{
 "cells": [
  {
   "cell_type": "code",
   "execution_count": 1,
   "metadata": {},
   "outputs": [],
   "source": [
    "import pandas as pd\n",
    "import numpy as np\n",
    "from glob import glob\n",
    "from scipy import stats\n",
    "from sae_lens.toolkit.pretrained_saes import get_gpt2_res_jb_saes\n",
    "import json\n",
    "import random\n",
    "import matplotlib.pyplot as plt\n",
    "from typing import List, Dict, Tuple\n",
    "from transformer_lens import HookedTransformer\n",
    "import torch\n",
    "from jaxtyping import Float, Int\n",
    "from collections import defaultdict\n",
    "from sklearn.decomposition import TruncatedSVD\n",
    "import itertools\n",
    "import torch.nn.functional as F\n",
    "import math\n",
    "import seaborn as sns"
   ]
  },
  {
   "cell_type": "markdown",
   "metadata": {},
   "source": [
    "## Setup"
   ]
  },
  {
   "cell_type": "code",
   "execution_count": 2,
   "metadata": {},
   "outputs": [],
   "source": [
    "def get_device_str() -> str:\n",
    "    if torch.backends.mps.is_available():\n",
    "        return \"mps\"\n",
    "    else:\n",
    "        return \"cuda\" if torch.cuda.is_available() else \"cpu\"\n",
    "\n",
    "\n",
    "def comp_js_divergence(\n",
    "    p_logit: Float[torch.Tensor, \"*batch vocab\"],\n",
    "    q_logit: Float[torch.Tensor, \"*batch vocab\"],\n",
    ") -> Float[torch.Tensor, \"*batch\"]:\n",
    "    p_logprob = torch.log_softmax(p_logit, dim=-1)\n",
    "    q_logprob = torch.log_softmax(q_logit, dim=-1)\n",
    "    p = p_logprob.exp()\n",
    "    q = q_logprob.exp()\n",
    "\n",
    "    # convert to log2\n",
    "    p_logprob *= math.log2(math.e)\n",
    "    q_logprob *= math.log2(math.e)\n",
    "\n",
    "    m = 0.5 * (p + q)\n",
    "    m_logprob = m.log2()\n",
    "\n",
    "    p_kl_div = (p * (p_logprob - m_logprob)).sum(-1)\n",
    "    q_kl_div = (q * (q_logprob - m_logprob)).sum(-1)\n",
    "\n",
    "    assert p_kl_div.isfinite().all()\n",
    "    assert q_kl_div.isfinite().all()\n",
    "    return (p_kl_div + q_kl_div) / 2\n",
    "\n",
    "\n",
    "def find_js_dist_blowup_max_slope(js_dists: List[float]):\n",
    "    steps = list(range(len(js_dists)))\n",
    "\n",
    "    slopes = []\n",
    "    for i in range(1, len(steps)):\n",
    "        dy = js_dists[i] - js_dists[i - 1]\n",
    "        dx = steps[i] - steps[i - 1]\n",
    "        slopes.append(dy / dx if dx != 0 else 0)\n",
    "\n",
    "    # Pad the beginning of slopes list to match the length of steps\n",
    "    slopes = [slopes[0]] + slopes\n",
    "    return np.argsort(np.nan_to_num(slopes))[::-1][0]\n",
    "\n",
    "\n",
    "def find_js_dist_blowup(\n",
    "    js_dists: List[float],\n",
    "    slope_threshold: float = 1.25,\n",
    "    min_js_distance: float = 0.1,\n",
    "    min_slope_threshold: float = 0.02,\n",
    ") -> int:\n",
    "    steps = list(range(len(js_dists)))\n",
    "\n",
    "    slopes = []\n",
    "    for i in range(1, len(steps)):\n",
    "        dy = js_dists[i] - js_dists[i - 1]\n",
    "        dx = steps[i] - steps[i - 1]\n",
    "        slopes.append(dy / dx if dx != 0 else 0)\n",
    "\n",
    "    # Pad the beginning of slopes list to match the length of steps\n",
    "    slopes = [slopes[0]] + slopes\n",
    "\n",
    "    for i in range(1, len(steps)):\n",
    "        current_slope = slopes[i]\n",
    "        prev_slope = slopes[i - 1]\n",
    "\n",
    "        # print(f\"step={i}, {current_slope=} {prev_slope=}, {slope_threshold * max(prev_slope, 1e-6)}\")\n",
    "\n",
    "        # Check if we're in an increasing trend and above minimum JS distance\n",
    "        if (\n",
    "            current_slope > (slope_threshold * max(prev_slope, 1e-6))\n",
    "            or current_slope >= min_slope_threshold\n",
    "        ) and js_dists[i] >= min_js_distance:\n",
    "            return i\n",
    "\n",
    "    return len(steps) - 1\n",
    "\n",
    "\n",
    "def find_plateau_length_js(\n",
    "    js_dists: List[float], threshold: float = 5e-03, window_size: int = 5\n",
    ") -> int:\n",
    "\n",
    "    def calculate_slope(y_values, x_values):\n",
    "        slope, _, _, _, _ = stats.linregress(x_values, y_values)\n",
    "        return slope\n",
    "\n",
    "    for i in range(len(js_dists) - window_size + 1):\n",
    "        window = js_dists[i : i + window_size]\n",
    "        x_values = list(range(window_size))\n",
    "        slope = calculate_slope(window, x_values)\n",
    "\n",
    "        if abs(slope) > threshold:\n",
    "            return i\n",
    "\n",
    "    return len(js_dists) - 1\n",
    "\n",
    "\n",
    "def load_jsonl(file_path):\n",
    "    data = []\n",
    "    with open(file_path, \"r\") as file:\n",
    "        for line in file:\n",
    "            # Parse each line as a JSON object\n",
    "            json_object = json.loads(line.strip())\n",
    "            data.append(json_object)\n",
    "    return data\n",
    "\n",
    "\n",
    "def get_feature_dir(sae, feature_id, feature_act, norm=False):\n",
    "    feature_acts = torch.zeros(sae.W_enc.shape[1])\n",
    "\n",
    "    # Activate the specified feature\n",
    "    feature_acts[:] = 0\n",
    "    feature_acts[feature_id] = feature_act\n",
    "\n",
    "    # Decode back to the residual stream space\n",
    "    perturbed_act = sae.decode(feature_acts)\n",
    "\n",
    "    if norm:\n",
    "        perturbed_act /= torch.norm(perturbed_act)\n",
    "\n",
    "    return perturbed_act"
   ]
  },
  {
   "cell_type": "code",
   "execution_count": 3,
   "metadata": {},
   "outputs": [
    {
     "name": "stdout",
     "output_type": "stream",
     "text": [
      "Loaded pretrained model gpt2 into HookedTransformer\n",
      "cuda\n"
     ]
    }
   ],
   "source": [
    "model = HookedTransformer.from_pretrained(\"gpt2\")\n",
    "device = get_device_str()\n",
    "\n",
    "print(device)"
   ]
  },
  {
   "cell_type": "code",
   "execution_count": 4,
   "metadata": {},
   "outputs": [
    {
     "name": "stderr",
     "output_type": "stream",
     "text": [
      "100%|██████████| 1/1 [00:00<00:00,  1.04it/s]\n"
     ]
    },
    {
     "data": {
      "text/plain": [
       "SAE(\n",
       "  (activation_fn): ReLU()\n",
       "  (hook_sae_input): HookPoint()\n",
       "  (hook_sae_acts_pre): HookPoint()\n",
       "  (hook_sae_acts_post): HookPoint()\n",
       "  (hook_sae_output): HookPoint()\n",
       "  (hook_sae_recons): HookPoint()\n",
       "  (hook_sae_error): HookPoint()\n",
       ")"
      ]
     },
     "execution_count": 4,
     "metadata": {},
     "output_type": "execute_result"
    }
   ],
   "source": [
    "perturbation_layer = \"blocks.0.hook_resid_pre\"\n",
    "saes, sparsities = get_gpt2_res_jb_saes(perturbation_layer)\n",
    "sae = saes[perturbation_layer].cpu()\n",
    "feature_sparsities = 10 ** sparsities[perturbation_layer].cpu()\n",
    "\n",
    "sae.eval()"
   ]
  },
  {
   "cell_type": "markdown",
   "metadata": {},
   "source": [
    "## Load & Clean data"
   ]
  },
  {
   "cell_type": "code",
   "execution_count": 5,
   "metadata": {},
   "outputs": [],
   "source": [
    "metadata, activations = [], []\n",
    "\n",
    "for path in glob(\"observations/metadata*\"):\n",
    "    metadata.extend(load_jsonl(path))\n",
    "\n",
    "for path in glob(\"observations/acts*\"):\n",
    "    activations.append(np.load(path))\n",
    "\n",
    "activations = np.concatenate(activations)"
   ]
  },
  {
   "cell_type": "code",
   "execution_count": 6,
   "metadata": {},
   "outputs": [
    {
     "data": {
      "text/plain": [
       "(25000, (25000, 100, 768))"
      ]
     },
     "execution_count": 6,
     "metadata": {},
     "output_type": "execute_result"
    }
   ],
   "source": [
    "len(metadata), activations.shape"
   ]
  },
  {
   "cell_type": "code",
   "execution_count": null,
   "metadata": {},
   "outputs": [],
   "source": [
    "# Clean data\n",
    "clean_metadata = []\n",
    "clean_activations = []\n",
    "\n",
    "n_examples = 5000\n",
    "idxs = random.sample(range(len(metadata)), n_examples)\n",
    "\n",
    "max_recon_error = 3.0  # throws away roughly bottom 20%\n",
    "c = 0\n",
    "\n",
    "for idx in idxs:\n",
    "    m = metadata[idx]\n",
    "    acts = activations[idx]\n",
    "    js_dists = [s[\"js_dist\"] for s in m[\"steps_metadata\"]]\n",
    "    if np.isnan(js_dists).sum() > 1:\n",
    "        continue\n",
    "\n",
    "    act_recon = sae.decode(sae.encode(torch.tensor(acts[0])))\n",
    "    recon_error = torch.tensor(acts[0]) - act_recon\n",
    "    recon_error = recon_error.abs().sum(dim=-1).detach().numpy()\n",
    "\n",
    "    if recon_error > max_recon_error:\n",
    "        continue\n",
    "\n",
    "    clean_metadata.append(m)\n",
    "    clean_activations.append(acts)\n",
    "\n",
    "    c += 1\n",
    "\n",
    "    if c % 500 == 0:\n",
    "        print(c)\n",
    "\n",
    "clean_activations = np.stack(clean_activations)"
   ]
  },
  {
   "cell_type": "code",
   "execution_count": 9,
   "metadata": {},
   "outputs": [
    {
     "data": {
      "text/plain": [
       "(3479, (3479, 100, 768))"
      ]
     },
     "execution_count": 9,
     "metadata": {},
     "output_type": "execute_result"
    }
   ],
   "source": [
    "len(clean_metadata), clean_activations.shape"
   ]
  },
  {
   "cell_type": "code",
   "execution_count": 10,
   "metadata": {},
   "outputs": [],
   "source": [
    "metadata = clean_metadata\n",
    "activations = clean_activations"
   ]
  },
  {
   "cell_type": "markdown",
   "metadata": {},
   "source": [
    "## Feature Dynamics"
   ]
  },
  {
   "cell_type": "code",
   "execution_count": 75,
   "metadata": {},
   "outputs": [],
   "source": [
    "feature_activations = []\n",
    "js_dists = []\n",
    "\n",
    "example_idx = 0\n",
    "\n",
    "for i, s in enumerate(metadata[example_idx][\"steps_metadata\"]):\n",
    "    active_feature_ids = s[\"active_feature_ids\"]\n",
    "    active_feature_acts = s[\"active_feature_acts\"]\n",
    "    feature_acts = torch.zeros(sae.W_enc.shape[1])\n",
    "    feature_acts[active_feature_ids] = torch.tensor(active_feature_acts)\n",
    "    feature_activations.append(feature_acts)\n",
    "    js_dists.append(s[\"js_dist\"])\n",
    "\n",
    "feature_activations = torch.stack(feature_activations)"
   ]
  },
  {
   "cell_type": "markdown",
   "metadata": {},
   "source": [
    "### Gradients and acceleration"
   ]
  },
  {
   "cell_type": "code",
   "execution_count": 46,
   "metadata": {},
   "outputs": [],
   "source": [
    "row_indices = np.arange(feature_activations.shape[0])[:, np.newaxis]\n",
    "top_features_per_step = np.argsort(feature_activations)[:, -5:]\n",
    "top_features_acts = feature_activations[row_indices, top_features_per_step]\n",
    "\n",
    "gradients = np.gradient(top_features_acts, axis=0)\n",
    "accelerations = np.gradient(gradients, axis=0)"
   ]
  },
  {
   "cell_type": "code",
   "execution_count": 47,
   "metadata": {},
   "outputs": [
    {
     "data": {
      "image/png": "[encoded data removed]",
      "text/plain": [
       "<Figure size 1200x800 with 1 Axes>"
      ]
     },
     "metadata": {},
     "output_type": "display_data"
    }
   ],
   "source": [
    "plt.figure(figsize=(12, 8))\n",
    "\n",
    "for feature_idx in range(5):\n",
    "    plt.plot(gradients[:, feature_idx], label=5 - feature_idx)\n",
    "\n",
    "plt.legend()\n",
    "plt.show()"
   ]
  },
  {
   "cell_type": "markdown",
   "metadata": {},
   "source": [
    "### Heatmap of feature activations"
   ]
  },
  {
   "cell_type": "code",
   "execution_count": 116,
   "metadata": {},
   "outputs": [],
   "source": [
    "def plot_heatmap_feature_acts(feature_activations, js_dists):\n",
    "    # Assuming feature_activations is a PyTorch tensor\n",
    "    feature_acts_np = (\n",
    "        feature_activations.numpy()\n",
    "    )  # Convert to numpy if it's not already\n",
    "\n",
    "    # Identify top features from start and end\n",
    "    n_top = 10\n",
    "    start_top_features = np.argsort(feature_acts_np[0])[-n_top:][::-1]\n",
    "    end_top_features = np.argsort(feature_acts_np[-1])[-n_top:][::-1]\n",
    "\n",
    "    # Assume js_blowup_step is the time step where JS distance starts increasing rapidly\n",
    "    js_blowup_step = find_js_dist_blowup(js_dists)  # Replace with your actual step\n",
    "\n",
    "    # Combine and get unique features\n",
    "    combined_features = np.unique(\n",
    "        np.concatenate([start_top_features, end_top_features])\n",
    "    )\n",
    "\n",
    "    # Create labels for y-axis\n",
    "    y_labels = []\n",
    "\n",
    "    feature_ranks = []\n",
    "\n",
    "    for feat in combined_features:\n",
    "        start_rank = np.where(start_top_features == feat)[0]\n",
    "        end_rank = np.where(end_top_features == feat)[0]\n",
    "        feature_rank = 0\n",
    "\n",
    "        label = f\"F{feat}\"\n",
    "        if len(start_rank) > 0:\n",
    "            label += f\" (S-{start_rank[0]+1})\"\n",
    "            feature_rank += start_rank[0]\n",
    "        else:\n",
    "            feature_rank += n_top\n",
    "\n",
    "        if len(end_rank) > 0:\n",
    "            label += f\" (E-{end_rank[0]+1})\"\n",
    "            if len(start_rank) == 0:\n",
    "                feature_rank += 10 + end_rank[0]\n",
    "\n",
    "        y_labels.append(label)\n",
    "        feature_ranks.append(feature_rank)\n",
    "\n",
    "    sorted_feature_ranks = np.argsort(feature_ranks)\n",
    "    sorted_y_labels = [y_labels[idx] for idx in sorted_feature_ranks]\n",
    "\n",
    "    # Create heatmap\n",
    "    fig, ax = plt.subplots(figsize=(20, len(combined_features) / 2 + 2))\n",
    "    sns.heatmap(\n",
    "        feature_acts_np[:, combined_features[sorted_feature_ranks]].T,\n",
    "        cmap=\"coolwarm\",\n",
    "        cbar_kws={\"label\": \"Activation\"},\n",
    "        yticklabels=sorted_y_labels,\n",
    "        ax=ax,\n",
    "    )\n",
    "\n",
    "    # Add vertical line for JS distance blowup\n",
    "    ax.axvline(x=js_blowup_step, color=\"white\", linestyle=\"--\", linewidth=2)\n",
    "\n",
    "    # Add text annotation for the JS blowup line\n",
    "    ax.text(\n",
    "        js_blowup_step,\n",
    "        len(combined_features) - 0.25,\n",
    "        \"JS Dist Blowup\",\n",
    "        rotation=90,\n",
    "        va=\"bottom\",\n",
    "        ha=\"right\",\n",
    "        color=\"white\",\n",
    "        fontweight=\"normal\",\n",
    "    )\n",
    "\n",
    "    # Assuming js_distances is your array of JS distances over time\n",
    "    ax2 = ax.twinx()\n",
    "    ax2.plot(js_dists, color=\"white\", linewidth=2)\n",
    "    ax2.set_ylabel(\"JS Distance\", color=\"white\")\n",
    "    ax2.tick_params(axis=\"y\", labelcolor=\"white\")\n",
    "\n",
    "    plt.title(\"Top Feature Activations Over Time (Start and End)\")\n",
    "    plt.xlabel(\"Time Steps\")\n",
    "    plt.ylabel(\"Feature ID (Start Rank, End Rank)\")\n",
    "    plt.tight_layout()\n",
    "    plt.show()"
   ]
  },
  {
   "cell_type": "markdown",
   "metadata": {},
   "source": [
    "### Entropy analysis of feature activations"
   ]
  },
  {
   "cell_type": "code",
   "execution_count": 78,
   "metadata": {},
   "outputs": [],
   "source": [
    "from scipy.stats import entropy"
   ]
  },
  {
   "cell_type": "code",
   "execution_count": 79,
   "metadata": {},
   "outputs": [],
   "source": [
    "sae_recon_errors = []\n",
    "\n",
    "for i, fa in enumerate(feature_activations):\n",
    "    act = torch.tensor(activations[example_idx][i])\n",
    "    act_recon = sae.decode(sae.encode(act))\n",
    "    recon_error = (act - act_recon).abs().sum()\n",
    "    sae_recon_errors.append(recon_error.item())"
   ]
  },
  {
   "cell_type": "code",
   "execution_count": 80,
   "metadata": {},
   "outputs": [],
   "source": [
    "js_blowup_step = find_js_dist_blowup(js_dists)"
   ]
  },
  {
   "cell_type": "code",
   "execution_count": 94,
   "metadata": {},
   "outputs": [],
   "source": [
    "js_plateau_len = find_plateau_length_js(js_dists)"
   ]
  },
  {
   "cell_type": "code",
   "execution_count": 96,
   "metadata": {},
   "outputs": [
    {
     "data": {
      "text/plain": [
       "<matplotlib.lines.Line2D at 0x7f5568ca6f80>"
      ]
     },
     "execution_count": 96,
     "metadata": {},
     "output_type": "execute_result"
    },
    {
     "data": {
      "image/png": "[encoded data removed]",
      "text/plain": [
       "<Figure size 640x480 with 1 Axes>"
      ]
     },
     "metadata": {},
     "output_type": "display_data"
    }
   ],
   "source": [
    "plt.plot(js_dists)\n",
    "plt.axvline(x=js_plateau_len, color=\"tab:green\", linestyle=\"--\", linewidth=2)\n",
    "plt.axvline(x=js_blowup_step, color=\"tab:pink\", linestyle=\"--\", linewidth=2)"
   ]
  },
  {
   "cell_type": "code",
   "execution_count": 59,
   "metadata": {},
   "outputs": [],
   "source": [
    "feature_acts_distr = F.softmax(feature_activations, dim=-1)\n",
    "entropies = [entropy(f, base=2) for f in feature_acts_distr]"
   ]
  },
  {
   "cell_type": "code",
   "execution_count": 60,
   "metadata": {},
   "outputs": [
    {
     "name": "stdout",
     "output_type": "stream",
     "text": [
      "0.5837623762376236 1.8343523450261075e-10\n"
     ]
    }
   ],
   "source": [
    "corr, p_value = stats.spearmanr(entropies, sae_recon_errors)\n",
    "print(corr, p_value)"
   ]
  },
  {
   "cell_type": "code",
   "execution_count": 98,
   "metadata": {},
   "outputs": [
    {
     "data": {
      "image/png": "[encoded data removed]",
      "text/plain": [
       "<Figure size 640x480 with 1 Axes>"
      ]
     },
     "metadata": {},
     "output_type": "display_data"
    },
    {
     "data": {
      "image/png": "[encoded data removed]",
      "text/plain": [
       "<Figure size 640x480 with 1 Axes>"
      ]
     },
     "metadata": {},
     "output_type": "display_data"
    }
   ],
   "source": [
    "plt.plot(entropies)\n",
    "plt.title(\"Entropy of feature acts vs Step\")\n",
    "plt.xlabel(\"Step\")\n",
    "plt.ylabel(\"Entropy of feature acts\")\n",
    "plt.axvline(x=js_plateau_len, color=\"tab:green\", linestyle=\"--\", linewidth=2)\n",
    "plt.axvline(x=js_blowup_step, color=\"tab:pink\", linestyle=\"--\", linewidth=2)\n",
    "plt.show()\n",
    "\n",
    "\n",
    "plt.plot(sae_recon_errors)\n",
    "plt.title(\"SAE recon error vs Step\")\n",
    "plt.xlabel(\"Step\")\n",
    "plt.ylabel(\"SAE recon error\")\n",
    "plt.axvline(x=js_plateau_len, color=\"tab:green\", linestyle=\"--\", linewidth=2)\n",
    "plt.axvline(x=js_blowup_step, color=\"tab:pink\", linestyle=\"--\", linewidth=2)\n",
    "plt.show()"
   ]
  },
  {
   "cell_type": "markdown",
   "metadata": {},
   "source": [
    "### SAE reconstruction error correlation with blowup/plateau"
   ]
  },
  {
   "cell_type": "code",
   "execution_count": 174,
   "metadata": {},
   "outputs": [
    {
     "name": "stdout",
     "output_type": "stream",
     "text": [
      "0\n"
     ]
    },
    {
     "name": "stdout",
     "output_type": "stream",
     "text": [
      "50\n"
     ]
    }
   ],
   "source": [
    "js_dists = []\n",
    "js_blowups = []\n",
    "js_plateaus = []\n",
    "sae_recon_errors = []\n",
    "max_sae_recon_errors = []\n",
    "\n",
    "for i, (m, acts) in enumerate(zip(metadata[:100], activations[:100])):\n",
    "    act_recon = sae.decode(sae.encode(torch.tensor(acts)))\n",
    "    recon_error = torch.tensor(acts) - act_recon\n",
    "    sae_recon_errors.append(recon_error.abs().sum(dim=-1).detach().numpy())\n",
    "\n",
    "    max_sae_recon_errors.append(recon_error.abs().sum(dim=-1).max(dim=-1)[1].item())\n",
    "    m_js_dists = [\n",
    "        0 if pd.isna(s[\"js_dist\"]) else s[\"js_dist\"] for s in m[\"steps_metadata\"]\n",
    "    ]\n",
    "    js_dists.append(m_js_dists)\n",
    "    js_blowup_step = find_js_dist_blowup(m_js_dists)\n",
    "    js_plateau_len = find_plateau_length_js(m_js_dists)\n",
    "    js_blowups.append(js_blowup_step)\n",
    "    js_plateaus.append(js_plateau_len)\n",
    "\n",
    "    if i % 50 == 0:\n",
    "        print(i)"
   ]
  },
  {
   "cell_type": "code",
   "execution_count": 167,
   "metadata": {},
   "outputs": [],
   "source": [
    "js_dists_flat = [v for j in js_dists for v in j]\n",
    "sae_recon_errors_flat = [v for j in sae_recon_errors for v in j]"
   ]
  },
  {
   "cell_type": "code",
   "execution_count": 163,
   "metadata": {},
   "outputs": [
    {
     "name": "stdout",
     "output_type": "stream",
     "text": [
      "Corr=0.1405\n",
      "P-Value: 0.0000\n"
     ]
    }
   ],
   "source": [
    "corr, p_value = stats.spearmanr(sae_recon_errors_flat, js_dists_flat)\n",
    "print(f\"Corr={corr:.4f}\\nP-Value: {p_value:.4f}\")"
   ]
  },
  {
   "cell_type": "code",
   "execution_count": 178,
   "metadata": {},
   "outputs": [
    {
     "name": "stdout",
     "output_type": "stream",
     "text": [
      "Corr=0.1340\n",
      "P-Value: 0.1839\n"
     ]
    }
   ],
   "source": [
    "corr, p_value = stats.spearmanr(max_sae_recon_errors, js_blowups)\n",
    "print(f\"Corr={corr:.4f}\\nP-Value: {p_value:.4f}\")"
   ]
  },
  {
   "cell_type": "markdown",
   "metadata": {},
   "source": [
    "## Feature Engineering"
   ]
  },
  {
   "cell_type": "code",
   "execution_count": 55,
   "metadata": {},
   "outputs": [],
   "source": [
    "def get_feature_activations(steps):\n",
    "    feature_activations = []\n",
    "    for _, s in enumerate(steps):\n",
    "        active_feature_ids = s[\"active_feature_ids\"]\n",
    "        active_feature_acts = s[\"active_feature_acts\"]\n",
    "        feature_acts = torch.zeros(sae.W_enc.shape[1])\n",
    "        feature_acts[active_feature_ids] = torch.tensor(active_feature_acts)\n",
    "        feature_activations.append(feature_acts)\n",
    "    return torch.stack(feature_activations)\n",
    "\n",
    "\n",
    "def find_crossover_point(feature_acts):\n",
    "    start_feature = feature_acts[:, 0]\n",
    "    end_feature = feature_acts[:, 1]\n",
    "\n",
    "    # Compare absolute values\n",
    "    mask = torch.abs(end_feature) > torch.abs(start_feature)\n",
    "\n",
    "    # Find the first True value in the mask\n",
    "    crossover_indices = torch.nonzero(mask)\n",
    "\n",
    "    if crossover_indices.numel() > 0:\n",
    "        return crossover_indices[0].item()\n",
    "    else:\n",
    "        return 0\n",
    "\n",
    "\n",
    "def extract_crossover_features():\n",
    "    pass"
   ]
  },
  {
   "cell_type": "code",
   "execution_count": 101,
   "metadata": {},
   "outputs": [
    {
     "name": "stdout",
     "output_type": "stream",
     "text": [
      "0\n"
     ]
    }
   ],
   "source": [
    "js_dists = []\n",
    "js_blowups = []\n",
    "crossover_points = []\n",
    "\n",
    "for i, (m, acts) in enumerate(zip(metadata[:100], activations[:100])):\n",
    "    steps = m[\"steps_metadata\"]\n",
    "    m_js_dists = [0 if pd.isna(s[\"js_dist\"]) else s[\"js_dist\"] for s in steps]\n",
    "    js_dists.append(m_js_dists)\n",
    "    js_blowup_step = find_js_dist_blowup(m_js_dists)\n",
    "    js_blowups.append(js_blowup_step)\n",
    "\n",
    "    feature_acts = get_feature_activations(steps)\n",
    "    top_features_start = torch.argsort(feature_acts[0])[-5:].flip(dims=(0,))\n",
    "    top_features_start_acts = feature_acts[0, top_features_start]\n",
    "\n",
    "    top_features_end = torch.argsort(feature_acts[-1])[-5:].flip(dims=(0,))\n",
    "    top_features_end_acts_at_start = feature_acts[0, top_features_end]\n",
    "\n",
    "    feature_ids = [top_features_start[0].item(), top_features_end[0].item()]\n",
    "\n",
    "    crossover_point = find_crossover_point(feature_acts[:, feature_ids])\n",
    "    crossover_points.append(crossover_point)\n",
    "\n",
    "    if i % 1000 == 0:\n",
    "        print(i)"
   ]
  },
  {
   "cell_type": "code",
   "execution_count": 48,
   "metadata": {},
   "outputs": [],
   "source": [
    "# # Quick test to see where the cross over point is and where the blowup happens\n",
    "# idx = 1149\n",
    "\n",
    "# steps = metadata[idx]['steps_metadata']\n",
    "# m_js_dists = [0 if pd.isna(s[\"js_dist\"]) else s[\"js_dist\"] for s in steps]\n",
    "# m_js_blowup_step = find_js_dist_blowup_max_slope(m_js_dists)\n",
    "\n",
    "# plt.plot(m_js_dists)\n",
    "# plt.yticks(np.arange(0, 1, 0.1))\n",
    "# plt.axvline(x=m_js_blowup_step, color=\"tab:green\", linestyle=\"--\", linewidth=2)\n",
    "# # plt.axvline(x=crossover_points[idx], color=\"tab:pink\", linestyle=\"--\", linewidth=2)\n",
    "\n",
    "\n",
    "# # plot_heatmap_feature_acts(feature_acts, m_js_dists)"
   ]
  },
  {
   "cell_type": "code",
   "execution_count": 77,
   "metadata": {},
   "outputs": [
    {
     "name": "stdout",
     "output_type": "stream",
     "text": [
      "Corr=-0.3489\n",
      "P-Value: 0.0000\n"
     ]
    }
   ],
   "source": [
    "corr, p_value = stats.pearsonr(crossover_points, js_blowups)\n",
    "print(f\"Corr={corr:.4f}\\nP-Value: {p_value:.4f}\")"
   ]
  },
  {
   "cell_type": "markdown",
   "metadata": {},
   "source": [
    "## Prediction function"
   ]
  },
  {
   "cell_type": "code",
   "execution_count": 19,
   "metadata": {},
   "outputs": [],
   "source": [
    "from sklearn.metrics import mean_squared_error, r2_score\n",
    "from scipy.stats import entropy"
   ]
  },
  {
   "cell_type": "code",
   "execution_count": 23,
   "metadata": {},
   "outputs": [],
   "source": [
    "def find_crossover_point(feature_acts):\n",
    "    start_feature = feature_acts[:, 0]\n",
    "    end_feature = feature_acts[:, 1]\n",
    "\n",
    "    # Compare absolute values\n",
    "    mask = torch.abs(end_feature) > torch.abs(start_feature)\n",
    "\n",
    "    # Find the first True value in the mask\n",
    "    crossover_indices = torch.nonzero(mask)\n",
    "\n",
    "    if crossover_indices.numel() > 0:\n",
    "        return crossover_indices[0].item()\n",
    "    else:\n",
    "        return feature_acts.shape[0] // 2\n",
    "\n",
    "\n",
    "def extract_crossover_point(feature_acts):\n",
    "    top_features_start = torch.argsort(feature_acts[0])[-5:].flip(dims=(0,))\n",
    "    top_features_end = torch.argsort(feature_acts[-1])[-5:].flip(dims=(0,))\n",
    "    feature_ids = [top_features_start[0].item(), top_features_end[0].item()]\n",
    "    crossover_point = find_crossover_point(feature_acts[:, feature_ids])\n",
    "    return crossover_point\n",
    "\n",
    "\n",
    "def get_data_for_step(steps):\n",
    "    step_js_dists = [s[\"js_dist\"] for s in steps]\n",
    "    js_blowup_step = find_js_dist_blowup_max_slope(step_js_dists)\n",
    "    sensitivity = 1 - js_blowup_step / len(step_js_dists)\n",
    "    feature_acts = get_feature_activations(steps)\n",
    "    return feature_acts, step_js_dists, js_blowup_step, sensitivity\n",
    "\n",
    "\n",
    "def get_feature_activations(steps):\n",
    "    feature_activations = []\n",
    "    for _, s in enumerate(steps):\n",
    "        active_feature_ids = s[\"active_feature_ids\"]\n",
    "        active_feature_acts = s[\"active_feature_acts\"]\n",
    "        feature_acts = torch.zeros(sae.W_enc.shape[1])\n",
    "        feature_acts[active_feature_ids] = torch.tensor(active_feature_acts)\n",
    "        feature_activations.append(feature_acts)\n",
    "    return torch.stack(feature_activations)"
   ]
  },
  {
   "cell_type": "code",
   "execution_count": 25,
   "metadata": {},
   "outputs": [],
   "source": [
    "labels = []\n",
    "preds = []\n",
    "max_acts = []\n",
    "\n",
    "n_examples = min(1500, len(metadata))\n",
    "idxs = random.sample(range(len(metadata)), n_examples)\n",
    "# idxs = range(n_examples)\n",
    "\n",
    "for i, idx in enumerate(idxs):\n",
    "    steps = metadata[idx][\"steps_metadata\"]\n",
    "    feature_acts, step_js_dists, js_blowup_step, sensitivity = get_data_for_step(steps)\n",
    "    labels.append(sensitivity)\n",
    "\n",
    "    max_acts.append(feature_acts[js_blowup_step].max().item())\n",
    "\n",
    "    # row_indices = np.arange(feature_acts.shape[0])[:, np.newaxis]\n",
    "    # top_features_per_step = np.argsort(feature_acts)[:, -3:].flip(dims=(1,))\n",
    "    # top_features_acts = feature_acts[row_indices, top_features_per_step]\n",
    "\n",
    "    # # Find crossover point\n",
    "    # cp_point = extract_crossover_point(feature_acts)\n",
    "    # pred_sensitivity_cp = 1 - cp_point / len(steps)\n",
    "\n",
    "    # # Find max acceleration\n",
    "    # row_indices = np.arange(feature_acts.shape[0])[:, np.newaxis]\n",
    "    # top_features_per_step = np.argsort(feature_acts)[:, -5:]\n",
    "    # top_features_acts = feature_acts[row_indices, top_features_per_step]\n",
    "\n",
    "    # gradients = np.gradient(top_features_acts, axis=0)\n",
    "    # accelerations = np.gradient(gradients, axis=0)\n",
    "\n",
    "    # max_gradient = np.max(np.abs(accelerations), axis=1)\n",
    "    # pred_step = np.argsort(max_gradient)[::-1][0]\n",
    "    # pred_sensitivity_acc = 1 - pred_step / len(steps)\n",
    "\n",
    "    # pred_sensitivity = np.mean([pred_sensitivity_cp, pred_sensitivity_acc])\n",
    "\n",
    "    # print(f\"{pred_sensitivity_cp=}, {pred_sensitivity_acc=}, {pred_sensitivity=}, {sensitivity=}\")\n",
    "\n",
    "    # preds.append(pred_sensitivity)"
   ]
  },
  {
   "cell_type": "code",
   "execution_count": null,
   "metadata": {},
   "outputs": [],
   "source": []
  },
  {
   "cell_type": "markdown",
   "metadata": {},
   "source": [
    "### Finding bad predictions"
   ]
  },
  {
   "cell_type": "code",
   "execution_count": 534,
   "metadata": {},
   "outputs": [
    {
     "data": {
      "text/plain": [
       "tensor(1.3124)"
      ]
     },
     "execution_count": 534,
     "metadata": {},
     "output_type": "execute_result"
    }
   ],
   "source": [
    "feature_activations[60].max()"
   ]
  },
  {
   "cell_type": "code",
   "execution_count": 463,
   "metadata": {},
   "outputs": [],
   "source": [
    "diff = np.array(preds) - np.array(labels)\n",
    "max_diff_idxs = np.argsort(-diff)[:10]"
   ]
  },
  {
   "cell_type": "code",
   "execution_count": 532,
   "metadata": {},
   "outputs": [
    {
     "data": {
      "text/plain": [
       "tensor(59)"
      ]
     },
     "execution_count": 532,
     "metadata": {},
     "output_type": "execute_result"
    }
   ],
   "source": [
    "max_acts, _ = feature_acts.max(dim=-1)\n",
    "np.argmax(max_acts > 2.0)"
   ]
  },
  {
   "cell_type": "code",
   "execution_count": 514,
   "metadata": {},
   "outputs": [
    {
     "name": "stdout",
     "output_type": "stream",
     "text": [
      "0.37 63\n"
     ]
    },
    {
     "data": {
      "image/png": "[encoded data removed]",
      "text/plain": [
       "<Figure size 640x480 with 1 Axes>"
      ]
     },
     "metadata": {},
     "output_type": "display_data"
    }
   ],
   "source": [
    "idx = max_diff_idxs[0]\n",
    "steps = metadata[idx][\"steps_metadata\"]\n",
    "feature_acts, step_js_dists, js_blowup_step, sensitivity = get_data_for_step(steps)\n",
    "\n",
    "plt.plot(step_js_dists)\n",
    "plt.axvline(x=js_blowup_step, color=\"tab:red\", linestyle=\"--\", linewidth=2)\n",
    "plt.axvline(x=preds[idx] * 100, color=\"tab:green\", linestyle=\"--\", linewidth=2)\n",
    "\n",
    "print(sensitivity, js_blowup_step)\n",
    "\n",
    "row_indices = np.arange(feature_acts.shape[0])[:, np.newaxis]\n",
    "top_features_per_step = np.argsort(feature_acts)[:, -10:]\n",
    "top_features_acts = feature_acts[row_indices, top_features_per_step]\n",
    "\n",
    "gradients = np.gradient(top_features_acts, axis=0)\n",
    "accelerations = np.gradient(gradients, axis=0)\n",
    "\n",
    "max_acc = np.max(np.abs(accelerations), axis=1)\n",
    "plt.plot(max_acc)\n",
    "plt.show()\n",
    "\n",
    "# plot_heatmap_feature_acts(feature_activations, js_dists)"
   ]
  },
  {
   "cell_type": "code",
   "execution_count": 512,
   "metadata": {},
   "outputs": [],
   "source": [
    "# sns.heatmap(accelerations, cmap='coolwarm')"
   ]
  },
  {
   "cell_type": "code",
   "execution_count": null,
   "metadata": {},
   "outputs": [],
   "source": []
  },
  {
   "cell_type": "code",
   "execution_count": null,
   "metadata": {},
   "outputs": [],
   "source": []
  },
  {
   "cell_type": "code",
   "execution_count": null,
   "metadata": {},
   "outputs": [],
   "source": []
  },
  {
   "cell_type": "code",
   "execution_count": null,
   "metadata": {},
   "outputs": [],
   "source": []
  },
  {
   "cell_type": "markdown",
   "metadata": {},
   "source": [
    "### Evaluation"
   ]
  },
  {
   "cell_type": "code",
   "execution_count": 553,
   "metadata": {},
   "outputs": [
    {
     "name": "stdout",
     "output_type": "stream",
     "text": [
      "Corr=-0.2416\n",
      "P-Value: 0.0000\n"
     ]
    }
   ],
   "source": [
    "corr, p_value = stats.spearmanr(labels, preds)\n",
    "print(f\"Corr={corr:.4f}\\nP-Value: {p_value:.4f}\")"
   ]
  },
  {
   "cell_type": "code",
   "execution_count": 554,
   "metadata": {},
   "outputs": [
    {
     "data": {
      "text/plain": [
       "[<matplotlib.lines.Line2D at 0x7f07e6c912d0>]"
      ]
     },
     "execution_count": 554,
     "metadata": {},
     "output_type": "execute_result"
    },
    {
     "data": {
      "image/png": "[encoded data removed]",
      "text/plain": [
       "<Figure size 640x480 with 1 Axes>"
      ]
     },
     "metadata": {},
     "output_type": "display_data"
    }
   ],
   "source": [
    "plt.plot(labels)\n",
    "plt.plot(preds)"
   ]
  },
  {
   "cell_type": "code",
   "execution_count": 539,
   "metadata": {},
   "outputs": [
    {
     "name": "stdout",
     "output_type": "stream",
     "text": [
      "MSE: 0.5306\n",
      "R-squared: -2.5805\n"
     ]
    }
   ],
   "source": [
    "# Predict results\n",
    "mse = mean_squared_error(labels, preds)\n",
    "r2 = r2_score(labels, preds)\n",
    "\n",
    "print(f\"MSE: {mse:.4f}\")\n",
    "print(f\"R-squared: {r2:.4f}\")"
   ]
  },
  {
   "cell_type": "code",
   "execution_count": null,
   "metadata": {},
   "outputs": [],
   "source": []
  },
  {
   "cell_type": "code",
   "execution_count": null,
   "metadata": {},
   "outputs": [],
   "source": []
  },
  {
   "cell_type": "code",
   "execution_count": null,
   "metadata": {},
   "outputs": [],
   "source": []
  },
  {
   "cell_type": "markdown",
   "metadata": {},
   "source": [
    "## Modelling"
   ]
  },
  {
   "cell_type": "code",
   "execution_count": 11,
   "metadata": {},
   "outputs": [],
   "source": [
    "from sklearn.model_selection import train_test_split\n",
    "from sklearn.preprocessing import StandardScaler\n",
    "from sklearn.metrics import mean_squared_error, r2_score, mean_absolute_error\n",
    "from sklearn.svm import SVR\n",
    "from sklearn.model_selection import GridSearchCV\n",
    "import xgboost as xgb\n",
    "from scipy.stats import entropy\n",
    "import cupy as cp"
   ]
  },
  {
   "cell_type": "code",
   "execution_count": 104,
   "metadata": {},
   "outputs": [],
   "source": [
    "def get_feature_activations(steps):\n",
    "    feature_activations = []\n",
    "    for i, s in enumerate(steps):\n",
    "        active_feature_ids = s[\"active_feature_ids\"]\n",
    "        active_feature_acts = s[\"active_feature_acts\"]\n",
    "        feature_acts = torch.zeros(sae.W_enc.shape[1])\n",
    "        feature_acts[active_feature_ids] = torch.tensor(active_feature_acts)\n",
    "        feature_activations.append(feature_acts)\n",
    "    return torch.stack(feature_activations)\n",
    "\n",
    "\n",
    "def find_crossover_point(feature_acts):\n",
    "    start_feature = feature_acts[:, 0]\n",
    "    end_feature = feature_acts[:, 1]\n",
    "\n",
    "    # Compare absolute values\n",
    "    mask = torch.abs(end_feature) > torch.abs(start_feature)\n",
    "\n",
    "    # Find the first True value in the mask\n",
    "    crossover_indices = torch.nonzero(mask)\n",
    "\n",
    "    if crossover_indices.numel() > 0:\n",
    "        return crossover_indices[0].item()\n",
    "    else:\n",
    "        return 0\n",
    "\n",
    "\n",
    "def extract_crossover_point(feature_acts):\n",
    "    top_features_start = torch.argsort(feature_acts[0])[-5:].flip(dims=(0,))\n",
    "    top_features_end = torch.argsort(feature_acts[-1])[-5:].flip(dims=(0,))\n",
    "    feature_ids = [top_features_start[0].item(), top_features_end[0].item()]\n",
    "    crossover_point = find_crossover_point(feature_acts[:, feature_ids])\n",
    "    return crossover_point\n",
    "\n",
    "\n",
    "def compute_stats_in_buckets(data, n_buckets=5, split_point=None):\n",
    "    # Calculate the size of each bucket\n",
    "    if split_point is None:\n",
    "        bucket_sizes = [data.shape[0] // n_buckets] * n_buckets\n",
    "    else:\n",
    "        bucket_sizes = [split_point, data.shape[0] - split_point]\n",
    "\n",
    "    # Initialize arrays to store the computed statistics\n",
    "    means = []\n",
    "    stds = []\n",
    "    medians = []\n",
    "    max_vals = []\n",
    "    min_vals = []\n",
    "\n",
    "    # Compute statistics for each bucket\n",
    "    for i in range(n_buckets):\n",
    "        start_idx = i * bucket_sizes[i]\n",
    "        end_idx = (i + 1) * bucket_sizes[i] if i < n_buckets - 1 else data.shape[0]\n",
    "\n",
    "        bucket_data = data[start_idx:end_idx, :]\n",
    "\n",
    "        means.extend(np.mean(bucket_data, axis=0))\n",
    "        means.extend(np.std(bucket_data, axis=0))\n",
    "        medians.extend(np.median(bucket_data, axis=0))\n",
    "        max_vals.extend(np.max(bucket_data, axis=0))\n",
    "        min_vals.extend(np.min(bucket_data, axis=0))\n",
    "\n",
    "    # Combine all features\n",
    "    features = np.concatenate([means, stds, medians, max_vals, min_vals])\n",
    "    return features"
   ]
  },
  {
   "cell_type": "code",
   "execution_count": 112,
   "metadata": {},
   "outputs": [],
   "source": [
    "feature_names = []\n",
    "\n",
    "grad_feat_names = [\n",
    "    f\"grad_{fname}_top_{t}_bucket_{b}\"\n",
    "    for fname in [\"mean\", \"std\", \"median\", \"max\", \"min\"]\n",
    "    for b in range(1, 3)\n",
    "    for t in range(1, 4)\n",
    "]\n",
    "feature_names.extend(grad_feat_names)\n",
    "\n",
    "# acc_feat_names = [\n",
    "#     f\"acc_{fname}_top_{t}_bucket_{b}\"\n",
    "#     for fname in [\"mean\", \"std\", \"median\", \"max\", \"min\"]\n",
    "#     for b in range(1, 4)\n",
    "#     for t in range(1, 4)\n",
    "# ]\n",
    "# feature_names.extend(acc_feat_names)\n",
    "\n",
    "norm_feat_names = [\n",
    "    f\"norm_{fname}_bucket_{b}\"\n",
    "    for fname in [\"mean\", \"std\", \"median\", \"max\", \"min\"]\n",
    "    for b in range(1, 3)\n",
    "]\n",
    "feature_names.extend(norm_feat_names)\n",
    "feature_names.append(\"crossover_point_sens\")"
   ]
  },
  {
   "cell_type": "code",
   "execution_count": 113,
   "metadata": {},
   "outputs": [
    {
     "data": {
      "text/plain": [
       "41"
      ]
     },
     "execution_count": 113,
     "metadata": {},
     "output_type": "execute_result"
    }
   ],
   "source": [
    "len(feature_names)"
   ]
  },
  {
   "cell_type": "code",
   "execution_count": 114,
   "metadata": {},
   "outputs": [
    {
     "name": "stdout",
     "output_type": "stream",
     "text": [
      "Step 0\n",
      "Step 500\n"
     ]
    }
   ],
   "source": [
    "features = []\n",
    "labels = []\n",
    "\n",
    "n_examples = 1000\n",
    "idxs = random.sample(range(len(metadata)), n_examples)\n",
    "\n",
    "all_feature_acts = []\n",
    "\n",
    "for i, idx in enumerate(idxs):\n",
    "    steps = metadata[idx][\"steps_metadata\"]\n",
    "    step_js_dists = [s[\"js_dist\"] for s in steps]\n",
    "    js_blowup_step = find_js_dist_blowup(step_js_dists)\n",
    "    sensitivity = 1 - js_blowup_step / len(step_js_dists)\n",
    "    labels.append(sensitivity)\n",
    "\n",
    "    feature_activations = get_feature_activations(steps)\n",
    "\n",
    "    cp_point = extract_crossover_point(feature_activations)\n",
    "    cp_point_sens = 1 - cp_point / len(steps)\n",
    "\n",
    "    if cp_point == 0 or cp_point == len(steps) - 1:\n",
    "        cp_point = 50\n",
    "\n",
    "    row_indices = np.arange(feature_activations.shape[0])[:, np.newaxis]\n",
    "    top_features_per_step = np.argsort(feature_activations)[:, -3:].flip(dims=(1,))\n",
    "    top_features_acts = feature_activations[row_indices, top_features_per_step]\n",
    "\n",
    "    gradients = np.gradient(top_features_acts, axis=0)\n",
    "    grad_feats = compute_stats_in_buckets(gradients, n_buckets=2, split_point=cp_point)\n",
    "\n",
    "    # accelerations = np.gradient(gradients, axis=0)\n",
    "    # acc_feats = compute_stats_in_buckets(accelerations, n_buckets=3)\n",
    "\n",
    "    norms = (\n",
    "        torch.norm(feature_activations - feature_activations[0], dim=-1)\n",
    "        .unsqueeze(dim=1)\n",
    "        .numpy()\n",
    "    )\n",
    "    norm_feats = compute_stats_in_buckets(norms, n_buckets=2, split_point=cp_point)\n",
    "\n",
    "    pert_feats = np.concatenate([grad_feats, norm_feats, [cp_point_sens]])\n",
    "    # pert_feats = np.concatenate([grad_feats, acc_feats])\n",
    "    features.append(pert_feats)\n",
    "    all_feature_acts.append(feature_activations)\n",
    "\n",
    "    if i % 500 == 0:\n",
    "        print(f\"Step {i}\")\n",
    "\n",
    "all_feature_acts = torch.stack(all_feature_acts)"
   ]
  },
  {
   "cell_type": "code",
   "execution_count": 116,
   "metadata": {},
   "outputs": [],
   "source": [
    "# pd.DataFrame(features, columns=feature_names)"
   ]
  },
  {
   "cell_type": "code",
   "execution_count": 117,
   "metadata": {},
   "outputs": [
    {
     "name": "stdout",
     "output_type": "stream",
     "text": [
      "(1000, 41) 1000\n"
     ]
    }
   ],
   "source": [
    "X = np.vstack(features)\n",
    "y = np.array(labels)\n",
    "print(X.shape, len(y))"
   ]
  },
  {
   "cell_type": "markdown",
   "metadata": {},
   "source": [
    "### Learning Curve"
   ]
  },
  {
   "cell_type": "code",
   "execution_count": 117,
   "metadata": {},
   "outputs": [
    {
     "data": {
      "image/png": "[encoded data removed]",
      "text/plain": [
       "<Figure size 640x480 with 1 Axes>"
      ]
     },
     "metadata": {},
     "output_type": "display_data"
    }
   ],
   "source": [
    "from sklearn.model_selection import learning_curve\n",
    "import numpy as np\n",
    "\n",
    "\n",
    "def plot_learning_curve(estimator, X, y, cv=5):\n",
    "    train_sizes, train_scores, test_scores = learning_curve(\n",
    "        estimator,\n",
    "        X,\n",
    "        y,\n",
    "        cv=cv,\n",
    "        train_sizes=np.linspace(0.1, 1.0, 10),\n",
    "        scoring=\"neg_mean_squared_error\",\n",
    "    )\n",
    "\n",
    "    train_scores_mean = -train_scores.mean(axis=1)\n",
    "    test_scores_mean = -test_scores.mean(axis=1)\n",
    "\n",
    "    plt.figure()\n",
    "    plt.title(\"Learning Curve\")\n",
    "    plt.xlabel(\"Training examples\")\n",
    "    plt.ylabel(\"Mean Squared Error\")\n",
    "    plt.plot(train_sizes, train_scores_mean, \"o-\", color=\"r\", label=\"Training score\")\n",
    "    plt.plot(\n",
    "        train_sizes, test_scores_mean, \"o-\", color=\"g\", label=\"Cross-validation score\"\n",
    "    )\n",
    "    plt.legend(loc=\"best\")\n",
    "    plt.show()\n",
    "\n",
    "\n",
    "# Usage\n",
    "model = xgb.XGBRegressor(\n",
    "    random_state=42,\n",
    "    n_estimators=100,\n",
    "    max_depth=5,\n",
    "    learning_rate=0.05,\n",
    "    min_child_weight=1,\n",
    "    reg_alpha=0.5,\n",
    ")\n",
    "plot_learning_curve(model, X, y)"
   ]
  },
  {
   "cell_type": "markdown",
   "metadata": {},
   "source": [
    "### Feature Construction and Evaluation"
   ]
  },
  {
   "cell_type": "code",
   "execution_count": 120,
   "metadata": {},
   "outputs": [
    {
     "name": "stdout",
     "output_type": "stream",
     "text": [
      "Base R^2 score: 0.1887734957966647\n",
      "Feature x0 importance: 0.08140874646691909\n",
      "Feature x1 importance: 0.13460521326409802\n",
      "Feature x2 importance: 0.060840003794613295\n",
      "Feature x3 importance: 0.0005065999144799882\n",
      "Feature x4 importance: 0.04644524507989933\n",
      "Feature x5 importance: 0.07490498610856955\n",
      "Feature x6 importance: 0.06601646701949715\n",
      "Feature x7 importance: 0.07298261643662407\n",
      "Feature x8 importance: 0.04655309515130934\n",
      "Feature x9 importance: 0.06597715294253659\n",
      "Feature x10 importance: 0.11178924314551253\n",
      "Feature x11 importance: 0.04599176660191917\n",
      "Feature x12 importance: 0.0723895402753203\n",
      "Feature x13 importance: 0.10822025405877334\n",
      "Feature x14 importance: 0.0169114620847024\n",
      "Feature x15 importance: 0.06341470387099601\n",
      "Feature x16 importance: 0.11653544725706944\n",
      "Feature x17 importance: 0.06312832198684415\n",
      "Feature x18 importance: 0.024185931739609146\n",
      "Feature x19 importance: 0.08356806072336909\n",
      "Feature x20 importance: 0.07896804501496701\n",
      "Feature x21 importance: 0.07962268500569758\n",
      "Feature x22 importance: 0.09062278464954243\n",
      "Feature x23 importance: 0.10949507112860513\n",
      "Feature x24 importance: 0.07516946487646958\n",
      "Feature x25 importance: 0.046205432464954566\n",
      "Feature x26 importance: 0.02947660800458518\n",
      "Feature x27 importance: 0.06259962472026892\n",
      "Feature x28 importance: 0.10750762055035823\n",
      "Feature x29 importance: 0.08748904198830809\n",
      "Feature x30 importance: 0.10582993269184682\n",
      "Feature x31 importance: 0.06715018906545378\n",
      "Feature x32 importance: 0.05781217082845602\n",
      "Feature x33 importance: 0.053742776015272664\n",
      "Feature x34 importance: 0.03717852195564353\n",
      "Feature x35 importance: 0.03371238914768293\n",
      "Feature x36 importance: 0.08727779938539948\n",
      "Feature x37 importance: 0.06112613230807851\n",
      "Feature x38 importance: 0.06402539952677744\n",
      "Feature x39 importance: 0.08537457124566927\n",
      "Feature x40 importance: 0.03265876510889543\n",
      "Feature x41 importance: 0.09625056851601377\n",
      "Feature x42 importance: 0.09931026507425322\n",
      "Feature x43 importance: 0.08394672921605517\n",
      "Feature x44 importance: 0.07608902791168282\n",
      "Feature x45 importance: 0.00029991500626191936\n",
      "Feature x46 importance: 0.07300017814519677\n",
      "Feature x47 importance: 0.03719233749919271\n",
      "Feature x48 importance: 0.04789863085775892\n",
      "Feature x49 importance: 0.06390604085383034\n",
      "Feature x50 importance: 0.05493377085235407\n",
      "Feature x51 importance: 0.005677370182723962\n",
      "Feature x52 importance: 0.10540798910920346\n",
      "Feature x53 importance: 0.07249514282913072\n",
      "Feature x54 importance: 0.0061077548016030825\n",
      "Feature x55 importance: 0.08432736137597407\n",
      "Feature x56 importance: 0.08460045592366283\n",
      "Feature x57 importance: 0.07384544635030688\n",
      "Feature x58 importance: 0.07252469615153423\n",
      "Feature x59 importance: 0.07177138873976041\n",
      "Feature x60 importance: 0.0036083868036200784\n",
      "Feature x61 importance: 0.09368019435935881\n",
      "Feature x62 importance: 0.07012916219068144\n",
      "Feature x63 importance: 0.05623002045410086\n",
      "Feature x64 importance: 0.0684165451307428\n",
      "Feature x65 importance: 0.08234406500266545\n",
      "Feature x66 importance: 0.0007887851374697163\n",
      "Feature x67 importance: 0.08567961761574905\n",
      "Feature x68 importance: 0.027118080505550424\n",
      "Feature x69 importance: 0.0027980179317768084\n",
      "Feature x70 importance: 0.09752147377254561\n",
      "Feature x71 importance: 0.08580769291229995\n",
      "Feature x72 importance: 0.009476000756897918\n",
      "Feature x73 importance: 0.10637384207539569\n",
      "Feature x74 importance: 0.08714092673642693\n",
      "Feature x75 importance: 0.018343265081750548\n",
      "Feature x76 importance: 0.0\n",
      "Feature x77 importance: 0.029399381166392846\n",
      "Feature x78 importance: 0.008363732436796667\n",
      "Feature x79 importance: 0.030355801969398577\n",
      "Feature x80 importance: 0.0815898674190838\n",
      "Feature x81 importance: 0.0\n",
      "Feature x82 importance: 0.024822974773822892\n",
      "Feature x83 importance: 0.07298758955051943\n",
      "Feature x84 importance: 0.012670359396401931\n",
      "Feature x85 importance: 0.06019610191521352\n",
      "Feature x86 importance: 0.03995990988195741\n",
      "Feature x87 importance: 0.06477964247789636\n",
      "Feature x88 importance: 0.036115733644285886\n",
      "Feature x89 importance: 0.05905663145272255\n",
      "Feature x90 importance: 0.04604887670657698\n",
      "Feature x91 importance: 0.01527949559293118\n",
      "Feature x92 importance: 0.04400884038374375\n",
      "Feature x93 importance: 0.025073171868027266\n",
      "Feature x94 importance: 0.07597023484103094\n",
      "Feature x95 importance: 0.05162688394339243\n",
      "Feature x96 importance: 0.019831908166858092\n",
      "Feature x97 importance: 0.0\n",
      "Feature x98 importance: 0.01718364439545761\n",
      "Feature x99 importance: 0.027910868238560038\n",
      "Feature x100 importance: 0.04460261387051023\n",
      "Feature x101 importance: 0.03328530591901657\n",
      "Feature x102 importance: 0.0597331574272113\n",
      "Feature x103 importance: 0.05971052048389236\n",
      "Feature x104 importance: 0.0638667648662179\n",
      "Feature x105 importance: 0.029132331478730844\n",
      "Feature x106 importance: 0.04228938700929774\n",
      "Feature x107 importance: 0.04076408976909773\n",
      "Feature x108 importance: 0.0765056813969256\n",
      "Feature x109 importance: 0.09422440810259625\n",
      "Feature x110 importance: 0.037820779938151805\n",
      "Feature x111 importance: 0.009208062664407102\n",
      "Feature x112 importance: 0.022224594241988083\n",
      "Feature x113 importance: 0.05896750725059974\n",
      "Feature x114 importance: 0.050073362786136055\n",
      "Feature x115 importance: 0.03935730390199099\n",
      "Feature x116 importance: 0.0\n",
      "Feature x117 importance: 0.05229395151447136\n",
      "Feature x118 importance: 0.03812722212882225\n",
      "Feature x119 importance: 0.022336472063411605\n",
      "Feature x120 importance: 0.08256222255095347\n",
      "Feature x121 importance: 0.029398264159986365\n",
      "Feature x122 importance: 0.0925644349059116\n",
      "Feature x123 importance: 0.008649207449797913\n",
      "Feature x124 importance: 0.07578375001287307\n",
      "Feature x125 importance: 0.008965742955658218\n",
      "Feature x126 importance: 0.0\n",
      "Feature x127 importance: 0.0\n",
      "Feature x128 importance: 0.058420831410077145\n",
      "Feature x129 importance: 0.04636867583315318\n",
      "Feature x130 importance: 0.0480371316001742\n",
      "Feature x131 importance: 0.022205782219791637\n",
      "Feature x132 importance: 0.02042504931500355\n",
      "Feature x133 importance: 0.06350987339035497\n",
      "Feature x134 importance: 0.05885807563728651\n",
      "Feature x135 importance: 0.01728262958784832\n",
      "Feature x136 importance: 0.049400342754295945\n",
      "Feature x137 importance: 0.04026350424621228\n",
      "Feature x138 importance: 0.0\n",
      "Feature x139 importance: 0.07097063987819618\n",
      "Feature x140 importance: 0.07022934175085904\n",
      "Feature x141 importance: 0.0\n",
      "Feature x142 importance: 0.01159368376891523\n",
      "Feature x143 importance: 0.02028112515210001\n",
      "Feature x144 importance: 0.03197569847652737\n",
      "Feature x145 importance: 0.049620777673586414\n",
      "Feature x146 importance: 0.056040273000760976\n",
      "Feature x147 importance: 0.028333330438234938\n",
      "Feature x148 importance: 0.0157898038080706\n",
      "Feature x149 importance: 0.03459177133353997\n",
      "Feature x150 importance: 0.0\n",
      "Polynomial features R^2 score: 0.17808578523976765\n",
      "Custom combinations R^2 score: 0.16688901787474936\n"
     ]
    }
   ],
   "source": [
    "import numpy as np\n",
    "import pandas as pd\n",
    "from sklearn.model_selection import cross_val_score\n",
    "from sklearn.preprocessing import PolynomialFeatures\n",
    "from sklearn.feature_selection import mutual_info_regression\n",
    "import xgboost as xgb\n",
    "\n",
    "\n",
    "def evaluate_feature_set(X, y, feature_names):\n",
    "    model = xgb.XGBRegressor(random_state=42)\n",
    "    scores = cross_val_score(model, X, y, cv=5, scoring=\"r2\")\n",
    "    return np.mean(scores)\n",
    "\n",
    "\n",
    "def feature_importance(X, y):\n",
    "    return mutual_info_regression(X, y)\n",
    "\n",
    "\n",
    "def create_polynomial_features(X, degree=2):\n",
    "    poly = PolynomialFeatures(degree, include_bias=False)\n",
    "    return poly.fit_transform(X)\n",
    "\n",
    "\n",
    "def evaluate_features(X, y, feature_names):\n",
    "    base_score = evaluate_feature_set(X, y, feature_names)\n",
    "    print(f\"Base R^2 score: {base_score}\")\n",
    "\n",
    "    # Individual feature importance\n",
    "    importances = feature_importance(X, y)\n",
    "    for name, importance in zip(feature_names, importances):\n",
    "        print(f\"Feature {name} importance: {importance}\")\n",
    "\n",
    "    # Evaluate polynomial combinations\n",
    "    X_poly = create_polynomial_features(X)\n",
    "    poly_score = evaluate_feature_set(X_poly, y, feature_names)\n",
    "    print(f\"Polynomial features R^2 score: {poly_score}\")\n",
    "\n",
    "    # Evaluate custom combinations (example)\n",
    "    X_custom = np.column_stack([X, X[:, 0] * X[:, 1], np.log1p(X[:, 2])])\n",
    "    custom_names = feature_names + [\"f1*f2\", \"log(f3)\"]\n",
    "    custom_score = evaluate_feature_set(X_custom, y, custom_names)\n",
    "    print(f\"Custom combinations R^2 score: {custom_score}\")\n",
    "\n",
    "\n",
    "feature_names = [\n",
    "    f\"x{i}\" for i in range(X.shape[1])\n",
    "]  # Replace with your actual feature names\n",
    "\n",
    "evaluate_features(X, y, feature_names)"
   ]
  },
  {
   "cell_type": "markdown",
   "metadata": {},
   "source": [
    "### Feature Selection"
   ]
  },
  {
   "cell_type": "code",
   "execution_count": 92,
   "metadata": {},
   "outputs": [
    {
     "data": {
      "text/plain": [
       "(800, 76)"
      ]
     },
     "execution_count": 92,
     "metadata": {},
     "output_type": "execute_result"
    }
   ],
   "source": [
    "from sklearn.feature_selection import SelectFromModel\n",
    "\n",
    "selector = SelectFromModel(estimator=xgb.XGBRegressor(), threshold=\"median\")\n",
    "X_selected = selector.fit_transform(X, y)\n",
    "X_selected.shape"
   ]
  },
  {
   "cell_type": "markdown",
   "metadata": {},
   "source": [
    "### Training"
   ]
  },
  {
   "cell_type": "code",
   "execution_count": 118,
   "metadata": {},
   "outputs": [
    {
     "name": "stdout",
     "output_type": "stream",
     "text": [
      "(900, 41) (100, 41)\n"
     ]
    }
   ],
   "source": [
    "X_train, X_test, y_train, y_test = train_test_split(\n",
    "    X, y, test_size=0.1, random_state=325235\n",
    ")\n",
    "\n",
    "print(X_train.shape, X_test.shape)"
   ]
  },
  {
   "cell_type": "code",
   "execution_count": 119,
   "metadata": {},
   "outputs": [],
   "source": [
    "# Convert your data to GPU\n",
    "X_train_gpu = cp.array(X_train)\n",
    "y_train_gpu = cp.array(y_train)"
   ]
  },
  {
   "cell_type": "code",
   "execution_count": 124,
   "metadata": {},
   "outputs": [],
   "source": [
    "reg_model = xgb.XGBRegressor(\n",
    "    n_estimators=200,\n",
    "    max_depth=5,\n",
    "    learning_rate=0.01,\n",
    "    min_child_weight=3,\n",
    "    # subsample=0.5,\n",
    "    # colsample_bytree=0.8,\n",
    "    reg_alpha=0.5,\n",
    "    # reg_lambda=0.5,\n",
    "    # gamma=0.1,\n",
    "    random_state=3525,\n",
    "    device=\"cuda\",\n",
    ")"
   ]
  },
  {
   "cell_type": "code",
   "execution_count": 125,
   "metadata": {},
   "outputs": [
    {
     "name": "stdout",
     "output_type": "stream",
     "text": [
      "Train MAE: 0.0493\n",
      "Train R-squared: 0.4554\n"
     ]
    }
   ],
   "source": [
    "reg_model.fit(X_train_gpu, y_train_gpu)\n",
    "\n",
    "y_pred = reg_model.predict(X_train_gpu)\n",
    "mse = mean_absolute_error(y_train, y_pred, multioutput=\"raw_values\")[0]\n",
    "r2 = r2_score(y_train, y_pred, multioutput=\"raw_values\")[0]\n",
    "\n",
    "print(f\"Train MAE: {mse:.4f}\")\n",
    "print(f\"Train R-squared: {r2:.4f}\")"
   ]
  },
  {
   "cell_type": "code",
   "execution_count": 122,
   "metadata": {},
   "outputs": [],
   "source": [
    "# y_pred = [0.5] * len(y_test)\n",
    "# mse = mean_absolute_error(y_test, y_pred, multioutput=\"raw_values\")[0]\n",
    "# r2 = r2_score(y_test, y_pred, multioutput=\"raw_values\")[0]\n",
    "\n",
    "# print(f\"Baseline MAE: {mse:.4f}\")\n",
    "# print(f\"Baseline R-squared: {r2:.4f}\")"
   ]
  },
  {
   "cell_type": "code",
   "execution_count": 126,
   "metadata": {},
   "outputs": [
    {
     "name": "stdout",
     "output_type": "stream",
     "text": [
      "MAE: 0.0653\n",
      "R-squared: 0.0135\n"
     ]
    },
    {
     "ename": "",
     "evalue": "",
     "output_type": "error",
     "traceback": [
      "\u001b[1;31mThe Kernel crashed while executing code in the current cell or a previous cell. \n",
      "\u001b[1;31mPlease review the code in the cell(s) to identify a possible cause of the failure. \n",
      "\u001b[1;31mClick <a href='https://aka.ms/vscodeJupyterKernelCrash'>here</a> for more info. \n",
      "\u001b[1;31mView Jupyter <a href='command:jupyter.viewOutput'>log</a> for further details."
     ]
    }
   ],
   "source": [
    "# X_test_selected = selector.transform(X_test)\n",
    "X_test_gpu = cp.array(X_test)\n",
    "y_pred = reg_model.predict(X_test_gpu)\n",
    "\n",
    "mse = mean_absolute_error(y_test, y_pred)\n",
    "r2 = r2_score(y_test, y_pred)\n",
    "\n",
    "print(f\"MAE: {mse:.4f}\")\n",
    "print(f\"R-squared: {r2:.4f}\")"
   ]
  },
  {
   "cell_type": "code",
   "execution_count": 34,
   "metadata": {},
   "outputs": [],
   "source": [
    "# plt.scatter(y_test, y_pred)"
   ]
  },
  {
   "cell_type": "code",
   "execution_count": 43,
   "metadata": {},
   "outputs": [
    {
     "name": "stdout",
     "output_type": "stream",
     "text": [
      "Feature grad_max_top_1_bucket_2: 0.127\n",
      "Feature grad_mean_top_3_bucket_1: 0.044\n",
      "Feature crossover_point: 0.026\n",
      "Feature grad_min_top_2_bucket_3: 0.025\n",
      "Feature acc_min_top_2_bucket_2: 0.022\n",
      "Feature acc_median_top_2_bucket_1: 0.021\n",
      "Feature grad_median_top_1_bucket_1: 0.019\n",
      "Feature grad_std_top_2_bucket_1: 0.019\n",
      "Feature norm_std_bucket_1: 0.019\n",
      "Feature acc_mean_top_3_bucket_2: 0.019\n"
     ]
    }
   ],
   "source": [
    "# Get feature importance\n",
    "importance = reg_model.feature_importances_\n",
    "\n",
    "fn_with_imp = sorted(list(zip(feature_names, importance)), key=lambda t: t[1])[::-1]\n",
    "\n",
    "# Print feature importance\n",
    "for fn, v in fn_with_imp[:10]:\n",
    "    print(f\"Feature {fn}: {v:.3f}\")\n",
    "\n",
    "# plt.bar([x for x in range(len(importance))], importance)\n",
    "# plt.xlabel('Feature Index')\n",
    "# plt.ylabel('Importance')\n",
    "# plt.title('Feature Importance from XGBoost')\n",
    "# plt.show()"
   ]
  },
  {
   "cell_type": "code",
   "execution_count": null,
   "metadata": {},
   "outputs": [],
   "source": []
  }
 ],
 "metadata": {
  "kernelspec": {
   "display_name": "virtualenvs",
   "language": "python",
   "name": "python3"
  },
  "language_info": {
   "codemirror_mode": {
    "name": "ipython",
    "version": 3
   },
   "file_extension": ".py",
   "mimetype": "text/x-python",
   "name": "python",
   "nbconvert_exporter": "python",
   "pygments_lexer": "ipython3",
   "version": "3.10.14"
  }
 },
 "nbformat": 4,
 "nbformat_minor": 2
}
