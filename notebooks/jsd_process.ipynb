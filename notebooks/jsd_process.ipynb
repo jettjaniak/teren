{
 "cells": [
  {
   "cell_type": "markdown",
   "metadata": {},
   "source": [
    "# setup"
   ]
  },
  {
   "cell_type": "code",
   "execution_count": 1,
   "metadata": {},
   "outputs": [
    {
     "name": "stdout",
     "output_type": "stream",
     "text": [
      "env: CUBLAS_WORKSPACE_CONFIG=:4096:8\n"
     ]
    }
   ],
   "source": [
    "%load_ext autoreload\n",
    "%autoreload 2\n",
    "%env CUBLAS_WORKSPACE_CONFIG=:4096:8"
   ]
  },
  {
   "cell_type": "code",
   "execution_count": 2,
   "metadata": {},
   "outputs": [
    {
     "name": "stdout",
     "output_type": "stream",
     "text": [
      "device='cuda'\n"
     ]
    }
   ],
   "source": [
    "from teren import dir_act_utils as dau, metric\n",
    "from teren import utils as tu\n",
    "from teren import direction, experiment_context\n",
    "from transformer_lens import HookedTransformer\n",
    "from teren.typing import *\n",
    "\n",
    "device = tu.get_device_str()\n",
    "print(f\"{device=}\")"
   ]
  },
  {
   "cell_type": "code",
   "execution_count": 3,
   "metadata": {},
   "outputs": [
    {
     "name": "stdout",
     "output_type": "stream",
     "text": [
      "INFERENCE_BATCH_SIZE=3200\n",
      "Loaded pretrained model gpt2-small into HookedTransformer\n"
     ]
    }
   ],
   "source": [
    "LAYER = 11\n",
    "SEQ_LEN = 4\n",
    "INFERENCE_TOKENS = 12_800\n",
    "SEED = 0\n",
    "tu.setup_determinism(SEED)\n",
    "INFERENCE_BATCH_SIZE = INFERENCE_TOKENS // SEQ_LEN\n",
    "print(f\"{INFERENCE_BATCH_SIZE=}\")\n",
    "\n",
    "N_PROMPTS = INFERENCE_BATCH_SIZE\n",
    "\n",
    "\n",
    "input_ids = dau.get_input_ids(chunk=0, seq_len=SEQ_LEN)[:N_PROMPTS]\n",
    "model = HookedTransformer.from_pretrained(\"gpt2-small\", device=device)"
   ]
  },
  {
   "cell_type": "code",
   "execution_count": 4,
   "metadata": {},
   "outputs": [
    {
     "data": {
      "application/vnd.jupyter.widget-view+json": {
       "model_id": "1eb41dbfc60b467ebb0d34f1df3fb6ad",
       "version_major": 2,
       "version_minor": 0
      },
      "text/plain": [
       "  0%|          | 0/1 [00:00<?, ?it/s]"
      ]
     },
     "metadata": {},
     "output_type": "display_data"
    }
   ],
   "source": [
    "exctx = experiment_context.ExperimentContext(\n",
    "    model=model,\n",
    "    layer=LAYER,\n",
    "    input_ids=input_ids,\n",
    "    acts_q_range=(0.01, 0.95),\n",
    "    n_act=15,\n",
    "    batch_size=INFERENCE_BATCH_SIZE,\n",
    ")"
   ]
  },
  {
   "cell_type": "code",
   "execution_count": 7,
   "metadata": {},
   "outputs": [
    {
     "name": "stdout",
     "output_type": "stream",
     "text": [
      "i=0, act range: 0.027, 6.310, n_above_thresh=0\n",
      "i=1, act range: 0.092, 2.240, n_above_thresh=0\n",
      "i=2, act range: 0.083, 26.304, n_above_thresh=5772\n",
      "i=3, act range: 0.049, 6.896, n_above_thresh=4\n",
      "i=4, act range: 0.019, 3.277, n_above_thresh=0\n",
      "i=5, act range: 0.591, 13.284, n_above_thresh=182\n"
     ]
    }
   ],
   "source": [
    "dirs = []\n",
    "i = 0\n",
    "while True:\n",
    "    dir = torch.randn(model.cfg.d_model)\n",
    "    dir /= dir.norm()\n",
    "    dir = direction.Direction(dir, exctx)\n",
    "    dirs.append(dir)\n",
    "    dir.process_metric_mm(metric.jsd_metric)\n",
    "    n_above_thresh = dir.res_by_metric[metric.jsd_metric].mm_sel.shape[0]\n",
    "    dir.process_metric_cvx(metric.jsd_metric)\n",
    "    print(f\"{i=}, act range: {dir.act_min:.3f}, {dir.act_max:.3f}, {n_above_thresh=}\")\n",
    "    i += 1"
   ]
  },
  {
   "cell_type": "code",
   "execution_count": 6,
   "metadata": {},
   "outputs": [
    {
     "data": {
      "text/plain": [
       "torch.Size([1, 3])"
      ]
     },
     "execution_count": 6,
     "metadata": {},
     "output_type": "execute_result"
    }
   ],
   "source": [
    "dir.process_metric_mm(metric.jsd_metric)\n",
    "dir.res_by_metric[metric.jsd_metric].mm_sel.shape"
   ]
  },
  {
   "cell_type": "code",
   "execution_count": 12,
   "metadata": {},
   "outputs": [],
   "source": [
    "matmet = dir.process_metric_cvx(metric.jsd_metric)"
   ]
  },
  {
   "cell_type": "code",
   "execution_count": 13,
   "metadata": {},
   "outputs": [
    {
     "name": "stdout",
     "output_type": "stream",
     "text": [
      "tensor(0.8075)\n",
      "torch.Size([12037])\n"
     ]
    }
   ],
   "source": [
    "cvx_score, cvx_act = (\n",
    "    dir.res_by_metric[metric.jsd_metric].cvx_score,\n",
    "    dir.res_by_metric[metric.jsd_metric].cvx_act,\n",
    ")\n",
    "print(cvx_score.max())\n",
    "print(cvx_score.shape)"
   ]
  },
  {
   "cell_type": "code",
   "execution_count": 14,
   "metadata": {},
   "outputs": [
    {
     "data": {
      "text/plain": [
       "torch.Size([10, 12037])"
      ]
     },
     "execution_count": 14,
     "metadata": {},
     "output_type": "execute_result"
    }
   ],
   "source": [
    "max_lines = torch.gather(\n",
    "    matmet,\n",
    "    index=cvx_act.unsqueeze(0).unsqueeze(0).expand(-1, 10, -1),\n",
    "    dim=0,\n",
    ").squeeze()\n",
    "max_lines.shape"
   ]
  },
  {
   "cell_type": "code",
   "execution_count": 15,
   "metadata": {},
   "outputs": [],
   "source": [
    "sorted_i = torch.argsort(cvx_score, descending=True)[:50:5]"
   ]
  },
  {
   "cell_type": "code",
   "execution_count": 16,
   "metadata": {},
   "outputs": [
    {
     "data": {
      "text/plain": [
       "torch.Size([10, 10])"
      ]
     },
     "execution_count": 16,
     "metadata": {},
     "output_type": "execute_result"
    }
   ],
   "source": [
    "lines = max_lines[:, sorted_i]\n",
    "lines.shape"
   ]
  },
  {
   "cell_type": "code",
   "execution_count": 17,
   "metadata": {},
   "outputs": [
    {
     "data": {
      "image/png": "[encoded data removed]",
      "text/plain": [
       "<Figure size 640x480 with 1 Axes>"
      ]
     },
     "metadata": {},
     "output_type": "display_data"
    }
   ],
   "source": [
    "import matplotlib.pyplot as plt\n",
    "\n",
    "for i, line in enumerate(lines.T):\n",
    "    plt.plot(line / line.max(), color=(1 - i / 10, 0, 0))"
   ]
  },
  {
   "cell_type": "code",
   "execution_count": null,
   "metadata": {},
   "outputs": [],
   "source": []
  }
 ],
 "metadata": {
  "kernelspec": {
   "display_name": ".venv",
   "language": "python",
   "name": "python3"
  },
  "language_info": {
   "codemirror_mode": {
    "name": "ipython",
    "version": 3
   },
   "file_extension": ".py",
   "mimetype": "text/x-python",
   "name": "python",
   "nbconvert_exporter": "python",
   "pygments_lexer": "ipython3",
   "version": "3.10.14"
  }
 },
 "nbformat": 4,
 "nbformat_minor": 2
}
