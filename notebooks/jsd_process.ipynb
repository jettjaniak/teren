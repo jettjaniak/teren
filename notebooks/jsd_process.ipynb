{
 "cells": [
  {
   "cell_type": "markdown",
   "metadata": {},
   "source": [
    "# setup"
   ]
  },
  {
   "cell_type": "code",
   "execution_count": 1,
   "metadata": {},
   "outputs": [
    {
     "name": "stdout",
     "output_type": "stream",
     "text": [
      "env: CUBLAS_WORKSPACE_CONFIG=:4096:8\n"
     ]
    }
   ],
   "source": [
    "%load_ext autoreload\n",
    "%autoreload 2\n",
    "%env CUBLAS_WORKSPACE_CONFIG=:4096:8"
   ]
  },
  {
   "cell_type": "code",
   "execution_count": 2,
   "metadata": {},
   "outputs": [
    {
     "name": "stdout",
     "output_type": "stream",
     "text": [
      "device='cuda'\n"
     ]
    }
   ],
   "source": [
    "from teren import dir_act_utils as dau, metric\n",
    "from teren import utils as tu\n",
    "from teren import direction, experiment_context\n",
    "from transformer_lens import HookedTransformer\n",
    "from teren.typing import *\n",
    "\n",
    "device = tu.get_device_str()\n",
    "print(f\"{device=}\")"
   ]
  },
  {
   "cell_type": "code",
   "execution_count": 3,
   "metadata": {},
   "outputs": [
    {
     "name": "stdout",
     "output_type": "stream",
     "text": [
      "INFERENCE_BATCH_SIZE=3200\n",
      "Loaded pretrained model gpt2-small into HookedTransformer\n"
     ]
    }
   ],
   "source": [
    "LAYER = 11\n",
    "SEQ_LEN = 4\n",
    "INFERENCE_TOKENS = 12_800\n",
    "SEED = 0\n",
    "tu.setup_determinism(SEED)\n",
    "INFERENCE_BATCH_SIZE = INFERENCE_TOKENS // SEQ_LEN\n",
    "print(f\"{INFERENCE_BATCH_SIZE=}\")\n",
    "\n",
    "N_PROMPTS = INFERENCE_BATCH_SIZE\n",
    "\n",
    "\n",
    "input_ids = dau.get_input_ids(chunk=0, seq_len=SEQ_LEN)[:N_PROMPTS]\n",
    "model = HookedTransformer.from_pretrained(\"gpt2-small\", device=device)"
   ]
  },
  {
   "cell_type": "code",
   "execution_count": 4,
   "metadata": {},
   "outputs": [
    {
     "data": {
      "application/vnd.jupyter.widget-view+json": {
       "model_id": "1eb41dbfc60b467ebb0d34f1df3fb6ad",
       "version_major": 2,
       "version_minor": 0
      },
      "text/plain": [
       "  0%|          | 0/1 [00:00<?, ?it/s]"
      ]
     },
     "metadata": {},
     "output_type": "display_data"
    }
   ],
   "source": [
    "exctx = experiment_context.ExperimentContext(\n",
    "    model=model,\n",
    "    layer=LAYER,\n",
    "    input_ids=input_ids,\n",
    "    acts_q_range=(0.01, 0.95),\n",
    "    n_act=15,\n",
    "    batch_size=INFERENCE_BATCH_SIZE,\n",
    ")"
   ]
  },
  {
   "cell_type": "code",
   "execution_count": 7,
   "metadata": {},
   "outputs": [
    {
     "name": "stdout",
     "output_type": "stream",
     "text": [
      "i=0, act range: 0.027, 6.310, n_above_thresh=0\n",
      "i=1, act range: 0.092, 2.240, n_above_thresh=0\n",
      "i=2, act range: 0.083, 26.304, n_above_thresh=5772\n",
      "i=3, act range: 0.049, 6.896, n_above_thresh=4\n",
      "i=4, act range: 0.019, 3.277, n_above_thresh=0\n",
      "i=5, act range: 0.591, 13.284, n_above_thresh=182\n",
      "i=6, act range: 0.111, 93.209, n_above_thresh=12039\n",
      "i=7, act range: 0.998, 16.507, n_above_thresh=884\n",
      "i=8, act range: 1.009, 2.797, n_above_thresh=0\n",
      "i=9, act range: 0.016, 3.747, n_above_thresh=0\n",
      "i=10, act range: 0.036, 6.516, n_above_thresh=1\n",
      "i=11, act range: 0.130, 171.639, n_above_thresh=12070\n",
      "i=12, act range: 0.040, 6.056, n_above_thresh=1\n",
      "i=13, act range: 0.534, 43.867, n_above_thresh=10402\n",
      "i=14, act range: 4.979, 164.508, n_above_thresh=12005\n",
      "i=15, act range: 0.029, 5.865, n_above_thresh=1\n",
      "i=16, act range: 6.403, 31.295, n_above_thresh=5457\n",
      "i=17, act range: 0.105, 92.809, n_above_thresh=11988\n",
      "i=18, act range: 0.076, 28.590, n_above_thresh=7025\n",
      "i=19, act range: 0.116, 9.046, n_above_thresh=24\n",
      "i=20, act range: 0.023, 5.317, n_above_thresh=1\n",
      "i=21, act range: 0.074, 8.809, n_above_thresh=17\n",
      "i=22, act range: 0.060, 7.336, n_above_thresh=8\n",
      "i=23, act range: 0.040, 3.657, n_above_thresh=0\n",
      "i=24, act range: 1.457, 233.086, n_above_thresh=12128\n",
      "i=25, act range: 0.021, 5.178, n_above_thresh=0\n",
      "i=26, act range: 0.053, 7.137, n_above_thresh=2\n",
      "i=27, act range: 0.390, 24.899, n_above_thresh=3851\n",
      "i=28, act range: 2.431, 152.175, n_above_thresh=12115\n",
      "i=29, act range: 5.429, 141.942, n_above_thresh=12064\n",
      "i=30, act range: 0.052, 5.116, n_above_thresh=0\n",
      "i=31, act range: 0.074, 37.243, n_above_thresh=9296\n",
      "i=32, act range: 1.330, 18.564, n_above_thresh=904\n",
      "i=33, act range: 0.015, 4.880, n_above_thresh=0\n",
      "i=34, act range: 0.197, 9.251, n_above_thresh=28\n",
      "i=35, act range: 0.018, 5.505, n_above_thresh=1\n",
      "i=36, act range: 0.607, 21.664, n_above_thresh=2875\n",
      "i=37, act range: 0.063, 8.541, n_above_thresh=12\n",
      "i=38, act range: 0.076, 29.535, n_above_thresh=7453\n",
      "i=39, act range: 0.221, 201.916, n_above_thresh=12183\n",
      "i=40, act range: 0.156, 5.663, n_above_thresh=0\n",
      "i=41, act range: 0.036, 7.018, n_above_thresh=0\n",
      "i=42, act range: 0.521, 116.983, n_above_thresh=12066\n",
      "i=43, act range: 1.590, 1.590, n_above_thresh=0\n",
      "i=44, act range: 12.128, 86.332, n_above_thresh=11937\n",
      "i=45, act range: 0.007, 3.680, n_above_thresh=0\n",
      "i=46, act range: 7.924, 112.055, n_above_thresh=12057\n",
      "i=47, act range: 0.060, 7.856, n_above_thresh=10\n",
      "i=48, act range: 3.266, 44.820, n_above_thresh=10102\n",
      "i=49, act range: 1.932, 1.932, n_above_thresh=0\n",
      "i=50, act range: 0.108, 9.417, n_above_thresh=55\n",
      "i=51, act range: 0.035, 4.360, n_above_thresh=0\n",
      "i=52, act range: 2.948, 21.507, n_above_thresh=1796\n",
      "i=53, act range: 0.165, 10.485, n_above_thresh=61\n",
      "i=54, act range: 6.352, 156.930, n_above_thresh=12106\n",
      "i=55, act range: 4.935, 148.518, n_above_thresh=12090\n",
      "i=56, act range: 1.158, 95.779, n_above_thresh=11974\n",
      "i=57, act range: 1.180, 15.502, n_above_thresh=430\n",
      "i=58, act range: 0.108, 220.891, n_above_thresh=12181\n",
      "i=59, act range: 0.129, 11.265, n_above_thresh=157\n",
      "i=60, act range: 0.072, 271.087, n_above_thresh=12297\n",
      "i=61, act range: 0.319, 63.564, n_above_thresh=11822\n",
      "i=62, act range: 0.068, 0.497, n_above_thresh=0\n",
      "i=63, act range: 0.402, 74.383, n_above_thresh=11999\n",
      "i=64, act range: 0.359, 1.813, n_above_thresh=0\n",
      "i=65, act range: 0.027, 6.020, n_above_thresh=1\n",
      "i=66, act range: 0.030, 2.915, n_above_thresh=0\n",
      "i=67, act range: 12.556, 33.679, n_above_thresh=3325\n",
      "i=68, act range: 1.342, 140.974, n_above_thresh=11833\n",
      "i=69, act range: 0.016, 5.846, n_above_thresh=3\n",
      "i=70, act range: 1.393, 82.536, n_above_thresh=11916\n",
      "i=71, act range: 0.013, 5.925, n_above_thresh=3\n",
      "i=72, act range: 0.123, 17.108, n_above_thresh=1860\n",
      "i=73, act range: 0.109, 109.350, n_above_thresh=12077\n",
      "i=74, act range: 0.112, 24.917, n_above_thresh=4883\n",
      "i=75, act range: 0.165, 8.462, n_above_thresh=21\n",
      "i=76, act range: 1.363, 29.371, n_above_thresh=6564\n",
      "i=77, act range: 0.181, 88.968, n_above_thresh=12008\n",
      "i=78, act range: 0.087, 68.229, n_above_thresh=11934\n",
      "i=79, act range: 0.889, 120.543, n_above_thresh=12189\n",
      "i=80, act range: 0.065, 241.534, n_above_thresh=11978\n",
      "i=81, act range: 0.039, 5.902, n_above_thresh=3\n",
      "i=82, act range: 0.146, 6.233, n_above_thresh=2\n",
      "i=83, act range: 0.072, 64.859, n_above_thresh=11897\n",
      "i=84, act range: 3.927, 325.092, n_above_thresh=12291\n",
      "i=85, act range: 0.038, 5.149, n_above_thresh=0\n",
      "i=86, act range: 0.019, 4.966, n_above_thresh=0\n",
      "i=87, act range: 0.029, 6.344, n_above_thresh=2\n",
      "i=88, act range: 0.024, 5.230, n_above_thresh=1\n",
      "i=89, act range: 0.437, 11.877, n_above_thresh=179\n",
      "i=90, act range: 1.896, 265.647, n_above_thresh=12185\n",
      "i=91, act range: 0.041, 7.538, n_above_thresh=6\n",
      "i=92, act range: 0.078, 43.673, n_above_thresh=10785\n",
      "i=93, act range: 0.706, 9.667, n_above_thresh=19\n",
      "i=94, act range: 0.115, 133.431, n_above_thresh=12129\n",
      "i=95, act range: 0.046, 7.593, n_above_thresh=10\n",
      "i=96, act range: 0.058, 5.127, n_above_thresh=0\n",
      "i=97, act range: 1.182, 2.616, n_above_thresh=0\n"
     ]
    },
    {
     "ename": "KeyboardInterrupt",
     "evalue": "",
     "output_type": "error",
     "traceback": [
      "\u001b[0;31m---------------------------------------------------------------------------\u001b[0m",
      "\u001b[0;31mKeyboardInterrupt\u001b[0m                         Traceback (most recent call last)",
      "Cell \u001b[0;32mIn[7], line 10\u001b[0m\n\u001b[1;32m      8\u001b[0m \u001b[38;5;28mdir\u001b[39m\u001b[38;5;241m.\u001b[39mprocess_metric_mm(metric\u001b[38;5;241m.\u001b[39mjsd_metric)\n\u001b[1;32m      9\u001b[0m n_above_thresh \u001b[38;5;241m=\u001b[39m \u001b[38;5;28mdir\u001b[39m\u001b[38;5;241m.\u001b[39mres_by_metric[metric\u001b[38;5;241m.\u001b[39mjsd_metric]\u001b[38;5;241m.\u001b[39mmm_sel\u001b[38;5;241m.\u001b[39mshape[\u001b[38;5;241m0\u001b[39m]\n\u001b[0;32m---> 10\u001b[0m \u001b[38;5;28;43mdir\u001b[39;49m\u001b[38;5;241;43m.\u001b[39;49m\u001b[43mprocess_metric_cvx\u001b[49m\u001b[43m(\u001b[49m\u001b[43mmetric\u001b[49m\u001b[38;5;241;43m.\u001b[39;49m\u001b[43mjsd_metric\u001b[49m\u001b[43m)\u001b[49m\n\u001b[1;32m     11\u001b[0m \u001b[38;5;28mprint\u001b[39m(\u001b[38;5;124mf\u001b[39m\u001b[38;5;124m\"\u001b[39m\u001b[38;5;132;01m{\u001b[39;00mi\u001b[38;5;132;01m=}\u001b[39;00m\u001b[38;5;124m, act range: \u001b[39m\u001b[38;5;132;01m{\u001b[39;00m\u001b[38;5;28mdir\u001b[39m\u001b[38;5;241m.\u001b[39mact_min\u001b[38;5;132;01m:\u001b[39;00m\u001b[38;5;124m.3f\u001b[39m\u001b[38;5;132;01m}\u001b[39;00m\u001b[38;5;124m, \u001b[39m\u001b[38;5;132;01m{\u001b[39;00m\u001b[38;5;28mdir\u001b[39m\u001b[38;5;241m.\u001b[39mact_max\u001b[38;5;132;01m:\u001b[39;00m\u001b[38;5;124m.3f\u001b[39m\u001b[38;5;132;01m}\u001b[39;00m\u001b[38;5;124m, \u001b[39m\u001b[38;5;132;01m{\u001b[39;00mn_above_thresh\u001b[38;5;132;01m=}\u001b[39;00m\u001b[38;5;124m\"\u001b[39m)\n\u001b[1;32m     12\u001b[0m i \u001b[38;5;241m+\u001b[39m\u001b[38;5;241m=\u001b[39m \u001b[38;5;241m1\u001b[39m\n",
      "File \u001b[0;32m<@beartype(teren.direction.Direction.process_metric_cvx) at 0x7f42e3eec1f0>:32\u001b[0m, in \u001b[0;36mprocess_metric_cvx\u001b[0;34m(__beartype_object_140409184, __beartype_get_violation, __beartype_conf, __beartype_func, *args, **kwargs)\u001b[0m\n",
      "File \u001b[0;32m~/teren/teren/direction.py:80\u001b[0m, in \u001b[0;36mDirection.process_metric_cvx\u001b[0;34m(self, metric)\u001b[0m\n\u001b[1;32m     79\u001b[0m \u001b[38;5;28;01mdef\u001b[39;00m \u001b[38;5;21mprocess_metric_cvx\u001b[39m(\u001b[38;5;28mself\u001b[39m, metric: Metric):\n\u001b[0;32m---> 80\u001b[0m     matmet \u001b[38;5;241m=\u001b[39m \u001b[38;5;28;43mself\u001b[39;49m\u001b[38;5;241;43m.\u001b[39;49m\u001b[43mcompute_matmet\u001b[49m\u001b[43m(\u001b[49m\u001b[43mmetric\u001b[49m\u001b[43m)\u001b[49m\n\u001b[1;32m     81\u001b[0m     res \u001b[38;5;241m=\u001b[39m \u001b[38;5;28mself\u001b[39m\u001b[38;5;241m.\u001b[39mres_by_metric[metric]\n\u001b[1;32m     82\u001b[0m     res\u001b[38;5;241m.\u001b[39mcvx_score, res\u001b[38;5;241m.\u001b[39mcvx_act \u001b[38;5;241m=\u001b[39m compute_max_convex_scores(matmet)\n",
      "File \u001b[0;32m<@beartype(teren.direction.Direction.compute_matmet) at 0x7f42e3eec3a0>:33\u001b[0m, in \u001b[0;36mcompute_matmet\u001b[0;34m(__beartype_object_140409184, __beartype_get_violation, __beartype_conf, __beartype_object_140424592, __beartype_func, *args, **kwargs)\u001b[0m\n",
      "File \u001b[0;32m~/teren/teren/direction.py:164\u001b[0m, in \u001b[0;36mDirection.compute_matmet\u001b[0;34m(self, metric)\u001b[0m\n\u001b[1;32m    162\u001b[0m \u001b[38;5;28;01mif\u001b[39;00m metric\u001b[38;5;241m.\u001b[39msymmetric:\n\u001b[1;32m    163\u001b[0m     \u001b[38;5;28;01mfor\u001b[39;00m j \u001b[38;5;129;01min\u001b[39;00m \u001b[38;5;28mrange\u001b[39m(i):\n\u001b[0;32m--> 164\u001b[0m         ret[i, j] \u001b[38;5;241m=\u001b[39m ret[j, i] \u001b[38;5;241m=\u001b[39m \u001b[38;5;28;43mself\u001b[39;49m\u001b[38;5;241;43m.\u001b[39;49m\u001b[43mcompute_measure_sel\u001b[49m\u001b[43m(\u001b[49m\n\u001b[1;32m    165\u001b[0m \u001b[43m            \u001b[49m\u001b[43mmeasure\u001b[49m\u001b[38;5;241;43m=\u001b[39;49m\u001b[43mmetric\u001b[49m\u001b[43m,\u001b[49m\n\u001b[1;32m    166\u001b[0m \u001b[43m            \u001b[49m\u001b[43mact_vec_a\u001b[49m\u001b[38;5;241;43m=\u001b[39;49m\u001b[43mact_vecs\u001b[49m\u001b[43m[\u001b[49m\u001b[43mi\u001b[49m\u001b[43m]\u001b[49m\u001b[43m,\u001b[49m\n\u001b[1;32m    167\u001b[0m \u001b[43m            \u001b[49m\u001b[43mact_vec_b\u001b[49m\u001b[38;5;241;43m=\u001b[39;49m\u001b[43mact_vecs\u001b[49m\u001b[43m[\u001b[49m\u001b[43mj\u001b[49m\u001b[43m]\u001b[49m\u001b[43m,\u001b[49m\n\u001b[1;32m    168\u001b[0m \u001b[43m        \u001b[49m\u001b[43m)\u001b[49m\n\u001b[1;32m    169\u001b[0m \u001b[38;5;28;01melse\u001b[39;00m:\n\u001b[1;32m    170\u001b[0m     \u001b[38;5;28;01mfor\u001b[39;00m j \u001b[38;5;129;01min\u001b[39;00m \u001b[38;5;28mrange\u001b[39m(n_act):\n",
      "File \u001b[0;32m<@beartype(teren.direction.Direction.compute_measure_sel) at 0x7f42e3eec310>:61\u001b[0m, in \u001b[0;36mcompute_measure_sel\u001b[0;34m(__beartype_object_140409184, __beartype_get_violation, __beartype_conf, __beartype_object_140377104, __beartype_object_140425552, __beartype_func, *args, **kwargs)\u001b[0m\n",
      "File \u001b[0;32m~/teren/teren/direction.py:142\u001b[0m, in \u001b[0;36mDirection.compute_measure_sel\u001b[0;34m(self, measure, act_vec_a, act_vec_b)\u001b[0m\n\u001b[1;32m    140\u001b[0m b_s_seq_out \u001b[38;5;241m=\u001b[39m s_seq_out[i : i \u001b[38;5;241m+\u001b[39m bs]\n\u001b[1;32m    141\u001b[0m b_abl_resid_acts \u001b[38;5;241m=\u001b[39m \u001b[38;5;28mself\u001b[39m\u001b[38;5;241m.\u001b[39mabl_resid_acts[b_s_prompt]\n\u001b[0;32m--> 142\u001b[0m output_a \u001b[38;5;241m=\u001b[39m \u001b[43mget_model_output\u001b[49m\u001b[43m(\u001b[49m\u001b[43mact_vec_a\u001b[49m\u001b[43m)\u001b[49m\n\u001b[1;32m    143\u001b[0m output_b \u001b[38;5;241m=\u001b[39m get_model_output(act_vec_b)\n\u001b[1;32m    144\u001b[0m ret[i : i \u001b[38;5;241m+\u001b[39m bs] \u001b[38;5;241m=\u001b[39m measure\u001b[38;5;241m.\u001b[39mmeasure_fn(output_a, output_b)\n",
      "\u001b[0;31mKeyboardInterrupt\u001b[0m: "
     ]
    }
   ],
   "source": [
    "dirs = []\n",
    "i = 0\n",
    "while True:\n",
    "    dir = torch.randn(model.cfg.d_model)\n",
    "    dir /= dir.norm()\n",
    "    dir = direction.Direction(dir, exctx)\n",
    "    dirs.append(dir)\n",
    "    dir.process_metric_mm(metric.jsd_metric)\n",
    "    n_above_thresh = dir.res_by_metric[metric.jsd_metric].mm_sel.shape[0]\n",
    "    dir.process_metric_cvx(metric.jsd_metric)\n",
    "    print(f\"{i=}, act range: {dir.act_min:.3f}, {dir.act_max:.3f}, {n_above_thresh=}\")\n",
    "    i += 1"
   ]
  },
  {
   "cell_type": "code",
   "execution_count": 10,
   "metadata": {},
   "outputs": [
    {
     "data": {
      "text/plain": [
       "98"
      ]
     },
     "execution_count": 10,
     "metadata": {},
     "output_type": "execute_result"
    }
   ],
   "source": [
    "len(dirs)"
   ]
  },
  {
   "cell_type": "code",
   "execution_count": 11,
   "metadata": {},
   "outputs": [],
   "source": [
    "mm_hist = sum(dir.res_by_metric[metric.jsd_metric].mm_hist for dir in dirs)"
   ]
  },
  {
   "cell_type": "code",
   "execution_count": 12,
   "metadata": {},
   "outputs": [],
   "source": [
    "hist_by_name = {\n",
    "    \"random\": mm_hist,\n",
    "}\n",
    "\n",
    "color_by_name = {\n",
    "    \"sae\": \"255, 0, 0\",\n",
    "    \"random\": \"0, 255, 0\",\n",
    "    \"svd\": \"0, 0, 255\",\n",
    "}"
   ]
  },
  {
   "cell_type": "code",
   "execution_count": 19,
   "metadata": {},
   "outputs": [],
   "source": [
    "import numpy as np\n",
    "import plotly.graph_objects as go\n",
    "\n",
    "\n",
    "def plot_hist(hist_by_name, color_by_name, what):\n",
    "    x = np.linspace(0, 1, 100)\n",
    "    fig = go.Figure()\n",
    "    # Add traces for each line and its shaded area\n",
    "    for name, hist in hist_by_name.items():\n",
    "        color = color_by_name[name]\n",
    "        line_color = f\"rgb({color})\"\n",
    "        shade_color = f\"rgba({color}, 0.2)\"\n",
    "        fig.add_trace(\n",
    "            go.Scatter(\n",
    "                x=x,\n",
    "                y=hist / hist.sum(),\n",
    "                line=dict(color=line_color, width=2),\n",
    "                name=name,\n",
    "                fill=\"tozeroy\",  # Fill to y=0\n",
    "                fillcolor=shade_color,  # Semi-transparent color\n",
    "            )\n",
    "        )\n",
    "    title_params = f\"{exctx.acts_q_range[0]*100:.0f}% and {exctx.acts_q_range[1]*100:.0f}%<br>(layer {LAYER}, {len(dirs)} dirs per type, {N_PROMPTS*SEQ_LEN//1000}k tokens)\"\n",
    "    fig.update_layout(\n",
    "        title=f\"distribution of {what} between activations set to {title_params}\",\n",
    "        xaxis_title=what,\n",
    "        yaxis_title=\"density\",\n",
    "        legend_title=\"dirs type\",\n",
    "    )\n",
    "    fig.show()"
   ]
  },
  {
   "cell_type": "code",
   "execution_count": 20,
   "metadata": {},
   "outputs": [
    {
     "data": {
      "application/vnd.plotly.v1+json": {
       "config": {
        "plotlyServerURL": "https://plot.ly"
       },
       "data": [
        {
         "fill": "tozeroy",
         "fillcolor": "rgba(0, 255, 0, 0.2)",
         "line": {
          "color": "rgb(0, 255, 0)",
          "width": 2
         },
         "name": "random",
         "type": "scatter",
         "x": [
          0,
          0.010101010101010102,
          0.020202020202020204,
          0.030303030303030304,
          0.04040404040404041,
          0.05050505050505051,
          0.06060606060606061,
          0.07070707070707072,
          0.08080808080808081,
          0.09090909090909091,
          0.10101010101010102,
          0.11111111111111112,
          0.12121212121212122,
          0.13131313131313133,
          0.14141414141414144,
          0.15151515151515152,
          0.16161616161616163,
          0.17171717171717174,
          0.18181818181818182,
          0.19191919191919193,
          0.20202020202020204,
          0.21212121212121213,
          0.22222222222222224,
          0.23232323232323235,
          0.24242424242424243,
          0.25252525252525254,
          0.26262626262626265,
          0.27272727272727276,
          0.2828282828282829,
          0.29292929292929293,
          0.30303030303030304,
          0.31313131313131315,
          0.32323232323232326,
          0.33333333333333337,
          0.3434343434343435,
          0.3535353535353536,
          0.36363636363636365,
          0.37373737373737376,
          0.38383838383838387,
          0.393939393939394,
          0.4040404040404041,
          0.4141414141414142,
          0.42424242424242425,
          0.43434343434343436,
          0.4444444444444445,
          0.4545454545454546,
          0.4646464646464647,
          0.4747474747474748,
          0.48484848484848486,
          0.494949494949495,
          0.5050505050505051,
          0.5151515151515152,
          0.5252525252525253,
          0.5353535353535354,
          0.5454545454545455,
          0.5555555555555556,
          0.5656565656565657,
          0.5757575757575758,
          0.5858585858585859,
          0.595959595959596,
          0.6060606060606061,
          0.6161616161616162,
          0.6262626262626263,
          0.6363636363636365,
          0.6464646464646465,
          0.6565656565656566,
          0.6666666666666667,
          0.6767676767676768,
          0.686868686868687,
          0.696969696969697,
          0.7070707070707072,
          0.7171717171717172,
          0.7272727272727273,
          0.7373737373737375,
          0.7474747474747475,
          0.7575757575757577,
          0.7676767676767677,
          0.7777777777777778,
          0.787878787878788,
          0.797979797979798,
          0.8080808080808082,
          0.8181818181818182,
          0.8282828282828284,
          0.8383838383838385,
          0.8484848484848485,
          0.8585858585858587,
          0.8686868686868687,
          0.8787878787878789,
          0.888888888888889,
          0.8989898989898991,
          0.9090909090909092,
          0.9191919191919192,
          0.9292929292929294,
          0.9393939393939394,
          0.9494949494949496,
          0.9595959595959597,
          0.9696969696969697,
          0.9797979797979799,
          0.98989898989899,
          1
         ],
         "y": [
          0.032153007,
          0.01155442,
          0.017131079,
          0.01791643,
          0.019230122,
          0.024136031,
          0.028308835,
          0.03376752,
          0.03446355,
          0.03256253,
          0.033810496,
          0.03434895,
          0.028155472,
          0.025167435,
          0.024602858,
          0.022397643,
          0.019934576,
          0.01588817,
          0.013368646,
          0.011120455,
          0.0094899265,
          0.007852658,
          0.0070285457,
          0.0064917775,
          0.0062381397,
          0.005952481,
          0.0056583965,
          0.0063283034,
          0.0057569863,
          0.0056069945,
          0.004906752,
          0.0047230544,
          0.0044828993,
          0.004245272,
          0.0042949882,
          0.004155951,
          0.004122245,
          0.003893044,
          0.0039208517,
          0.0036217107,
          0.0036941785,
          0.0036486755,
          0.0035888474,
          0.0037565348,
          0.0039141104,
          0.0037834996,
          0.0036419344,
          0.0039528725,
          0.0036225533,
          0.0034396984,
          0.003534075,
          0.003331839,
          0.003213868,
          0.0033065595,
          0.0027529383,
          0.0029231536,
          0.002515311,
          0.0026821557,
          0.0026585616,
          0.0024689652,
          0.0025431183,
          0.0022422923,
          0.0023383545,
          0.002249876,
          0.002081346,
          0.0017771494,
          0.0019886545,
          0.00185046,
          0.0018150687,
          0.0017291183,
          0.0016440107,
          0.0014965468,
          0.001693727,
          0.0015302529,
          0.0015993501,
          0.0015589029,
          0.0016431679,
          0.00164064,
          0.0015024453,
          0.0016532798,
          0.0016726607,
          0.001708052,
          0.0016701327,
          0.0015555323,
          0.0016515944,
          0.0015707001,
          0.0014763232,
          0.0016128325,
          0.0015942942,
          0.0015277249,
          0.0017813626,
          0.0012909402,
          0.0013330727,
          0.0013549816,
          0.0012134163,
          0.0014409319,
          0.0012075178,
          0.0011738117,
          0.001194878,
          0.0011999339,
          0.0010988159,
          0.0011569588,
          0.0011165115,
          0.0011097704,
          0.0011822383,
          0.0011527456,
          0.0010651099,
          0.0011063998,
          0.0011114556,
          0.0010516274,
          0.0010617393,
          0.0010718511,
          0.0011072424,
          0.0010364598,
          0.0010735363,
          0.0011333646,
          0.0010895467,
          0.0011207248,
          0.0010153935,
          0.0010684805,
          0.001026348,
          0.0010465716,
          0.0010634246,
          0.0011148263,
          0.0011342072,
          0.0010423583,
          0.0010844909,
          0.0011139836,
          0.0010600539,
          0.0011434763,
          0.0010785923,
          0.0010954454,
          0.001166228,
          0.0012058325,
          0.0012563915,
          0.0012968387,
          0.0013929008,
          0.0012285841,
          0.0013136917,
          0.001508344,
          0.0014780085,
          0.0014426172,
          0.0014443025,
          0.0014813791,
          0.0013701493,
          0.0015218264,
          0.001525197,
          0.0013128491,
          0.0013987994,
          0.0017577684,
          0.0016305282,
          0.0013473977,
          0.0014055406,
          0.0014881203,
          0.0013229608,
          0.0014148097,
          0.0013971141,
          0.0014780085,
          0.0015066586,
          0.0014257642,
          0.0013473977,
          0.001382789,
          0.0015007601,
          0.001508344,
          0.0013650934,
          0.0013617228,
          0.0014325054,
          0.001609462,
          0.0013996421,
          0.0013954288,
          0.0015858677,
          0.001380261,
          0.0014249216,
          0.001424079,
          0.0014443025,
          0.0013499256,
          0.0015159277,
          0.0012555489,
          0.0014898056,
          0.0014830644,
          0.0012740871,
          0.0014291347,
          0.0012740871,
          0.0013431845,
          0.0014746379,
          0.0012917828,
          0.0013979567,
          0.0013718345,
          0.001211731,
          0.001194878,
          0.0012555489,
          0.0012336399,
          0.0011864515,
          0.001108085,
          0.0012993667,
          0.0010600539,
          0.0010364598,
          0.0009968552,
          0.0009993832,
          0.0011367352,
          0.0011712838,
          0.0009665198,
          0.0011367352,
          0.0010196068,
          0.0010280333,
          0.0011299939,
          0.0010002258,
          0.0010743791,
          0.0009682051,
          0.0009816876,
          0.000939555,
          0.0010212921,
          0.0010246626,
          0.0011603293,
          0.0011426337,
          0.0011738117,
          0.0011114556,
          0.0011443191,
          0.001124938,
          0.0010844909,
          0.0009741037,
          0.0011906648,
          0.0010027537,
          0.0011519028,
          0.0012260561,
          0.0011375778,
          0.0012184723,
          0.00096399186,
          0.0011797104,
          0.0011738117,
          0.0011620147,
          0.00095556537,
          0.0010170789,
          0.0010297186,
          0.0010676378,
          0.0011384204,
          0.001012023,
          0.00097241835,
          0.0011350499,
          0.0010482569,
          0.00099517,
          0.00092691527,
          0.00094208296,
          0.00092354463,
          0.00092101673,
          0.0009842155,
          0.0010027537,
          0.0009909567,
          0.0009800022,
          0.0010373024,
          0.0010314039,
          0.0009673625,
          0.0010078097,
          0.0009875861,
          0.0008249546,
          0.00092523,
          0.00085023406,
          0.00081568543,
          0.0008165281,
          0.0008418076,
          0.00088478276,
          0.00088562537,
          0.0008375943,
          0.00085023406,
          0.0008603459,
          0.0008746709,
          0.0008316958,
          0.000804731,
          0.00082242663,
          0.00078787794,
          0.00093702704,
          0.0008241119,
          0.0010061244,
          0.0008788842,
          0.00073647633,
          0.00072720717,
          0.00079461915,
          0.0008182134,
          0.0008881533,
          0.00099517,
          0.0007887206,
          0.0008906813,
          0.0008788842,
          0.0009075343,
          0.0007769235,
          0.00082748255,
          0.0008114722,
          0.00085697527,
          0.00086961506,
          0.0008940519,
          0.00075585727,
          0.0007474308,
          0.0007036129,
          0.00067243486,
          0.0007971471,
          0.0007743956,
          0.0009842155,
          0.0006993997,
          0.00084939145,
          0.0007550146,
          0.0008965799,
          0.0007617558,
          0.0008375943,
          0.00089826516,
          0.0008906813,
          0.0008392796,
          0.00083590904,
          0.00079377653,
          0.00080641627,
          0.00079377653,
          0.0007339484,
          0.0008401223,
          0.00071709533,
          0.0007297351,
          0.00079967506,
          0.0007583852,
          0.0007415322,
          0.00066990696,
          0.0008536047,
          0.0007145674,
          0.00080051774,
          0.00072383654,
          0.0005991243,
          0.00061597733,
          0.000732263,
          0.0005906978,
          0.0006387289,
          0.0006185053,
          0.00065052597,
          0.0006092361,
          0.0006538966,
          0.0005982817,
          0.00048620917,
          0.0006201906,
          0.00046177232,
          0.00056794623,
          0.00074321753,
          0.0005342403,
          0.00053086964,
          0.00044491934,
          0.0004845239,
          0.0007036129,
          0.00050221954,
          0.0005098034,
          0.00045334583,
          0.0005064328,
          0.0005923831,
          0.00047104148,
          0.0005519359,
          0.00044407666,
          0.0005553065,
          0.00049884897,
          0.0005055901,
          0.00044239138,
          0.0004297516,
          0.00041205596,
          0.00037160877,
          0.0003707661,
          0.0003438013,
          0.00041458392,
          0.0003707661,
          0.00048536653,
          0.00040278683,
          0.0005401388,
          0.0003876191,
          0.0002982982,
          0.00041795452,
          0.00029071432,
          0.00027723194,
          0.00030419673,
          0.00031936445,
          0.00024099796,
          0.00026712014,
          0.00024268327,
          0.00025110977,
          0.00025869362,
          0.00020729196,
          0.00019633751,
          0.00026796278,
          0.0002115052,
          0.00022835821,
          0.00020897726,
          0.00026290686,
          0.00017864184,
          0.00025953626,
          0.00016853005,
          0.00016684475,
          0.00018201245,
          0.0001474638,
          0.00017864184,
          0.00020897726,
          0.00015504764,
          0.00013987994,
          0.00015757559,
          0.0001794845,
          0.00013903729,
          0.0001474638,
          0.00016094619,
          0.00015757559,
          0.000187911,
          0.00018538305,
          0.00013650933,
          0.0001457785,
          0.00015336234,
          0.00016684475,
          0.00015926089,
          0.00014662114,
          0.00014493584,
          0.00012976813,
          0.00013819463,
          0.00014325054,
          0.00013061079,
          0.00013903729,
          0.00014156524,
          0.00011797103,
          0.000112915135,
          0.0001407226,
          0.00013566669,
          0.00010954453,
          0.00011712838,
          0.00014325054,
          0.00010617393,
          0.00010954453,
          0.00009943273,
          0.00009943273,
          0.00010785923,
          0.00010448863,
          0.00009269152,
          0.000095219475,
          0.00009774743,
          0.000094376825,
          0.00013566669,
          0.000084265026,
          0.00022330231,
          0.00012134163,
          0.00009859008,
          0.00009943273,
          0.00011628573,
          0.00019886545,
          0.00011797103,
          0.00010701658,
          0.00006825467,
          0.00013313873,
          0.00007583852,
          0.00006741202,
          0.000081737075,
          0.000064041415,
          0.00011375778,
          0.00007583852,
          0.00008595033,
          0.00016010355,
          0.000059828166,
          0.000049716364,
          0.00006235612,
          0.000052244315,
          0.000053929616,
          0.000053086966,
          0.000049716364,
          0.000066569366,
          0.000064041415,
          0.000059828166,
          0.000058985515,
          0.000056457568,
          0.000041289863,
          0.000054772267,
          0.000048031063,
          0.000043817814,
          0.000058985515,
          0.000049716364,
          0.000051401665,
          0.00006235612,
          0.000050559014,
          0.000040447212,
          0.000055614917,
          0.00004634576,
          0.000055614917,
          0.000048031063,
          0.000040447212,
          0.00003876191,
          0.000040447212,
          0.00003876191,
          0.00003539131,
          0.00004550311,
          0.000026964808,
          0.00004466046,
          0.00003707661,
          0.000026122158,
          0.000032020707,
          0.000032863358,
          0.00004466046,
          0.000041289863,
          0.00003960456,
          0.00003623396,
          0.00004466046,
          0.000040447212,
          0.00003707661,
          0.000042975164,
          0.000064884065,
          0.000080051774,
          0.00003539131
         ]
        }
       ],
       "layout": {
        "legend": {
         "title": {
          "text": "dirs type"
         }
        },
        "template": {
         "data": {
          "bar": [
           {
            "error_x": {
             "color": "#2a3f5f"
            },
            "error_y": {
             "color": "#2a3f5f"
            },
            "marker": {
             "line": {
              "color": "#E5ECF6",
              "width": 0.5
             },
             "pattern": {
              "fillmode": "overlay",
              "size": 10,
              "solidity": 0.2
             }
            },
            "type": "bar"
           }
          ],
          "barpolar": [
           {
            "marker": {
             "line": {
              "color": "#E5ECF6",
              "width": 0.5
             },
             "pattern": {
              "fillmode": "overlay",
              "size": 10,
              "solidity": 0.2
             }
            },
            "type": "barpolar"
           }
          ],
          "carpet": [
           {
            "aaxis": {
             "endlinecolor": "#2a3f5f",
             "gridcolor": "white",
             "linecolor": "white",
             "minorgridcolor": "white",
             "startlinecolor": "#2a3f5f"
            },
            "baxis": {
             "endlinecolor": "#2a3f5f",
             "gridcolor": "white",
             "linecolor": "white",
             "minorgridcolor": "white",
             "startlinecolor": "#2a3f5f"
            },
            "type": "carpet"
           }
          ],
          "choropleth": [
           {
            "colorbar": {
             "outlinewidth": 0,
             "ticks": ""
            },
            "type": "choropleth"
           }
          ],
          "contour": [
           {
            "colorbar": {
             "outlinewidth": 0,
             "ticks": ""
            },
            "colorscale": [
             [
              0,
              "#0d0887"
             ],
             [
              0.1111111111111111,
              "#46039f"
             ],
             [
              0.2222222222222222,
              "#7201a8"
             ],
             [
              0.3333333333333333,
              "#9c179e"
             ],
             [
              0.4444444444444444,
              "#bd3786"
             ],
             [
              0.5555555555555556,
              "#d8576b"
             ],
             [
              0.6666666666666666,
              "#ed7953"
             ],
             [
              0.7777777777777778,
              "#fb9f3a"
             ],
             [
              0.8888888888888888,
              "#fdca26"
             ],
             [
              1,
              "#f0f921"
             ]
            ],
            "type": "contour"
           }
          ],
          "contourcarpet": [
           {
            "colorbar": {
             "outlinewidth": 0,
             "ticks": ""
            },
            "type": "contourcarpet"
           }
          ],
          "heatmap": [
           {
            "colorbar": {
             "outlinewidth": 0,
             "ticks": ""
            },
            "colorscale": [
             [
              0,
              "#0d0887"
             ],
             [
              0.1111111111111111,
              "#46039f"
             ],
             [
              0.2222222222222222,
              "#7201a8"
             ],
             [
              0.3333333333333333,
              "#9c179e"
             ],
             [
              0.4444444444444444,
              "#bd3786"
             ],
             [
              0.5555555555555556,
              "#d8576b"
             ],
             [
              0.6666666666666666,
              "#ed7953"
             ],
             [
              0.7777777777777778,
              "#fb9f3a"
             ],
             [
              0.8888888888888888,
              "#fdca26"
             ],
             [
              1,
              "#f0f921"
             ]
            ],
            "type": "heatmap"
           }
          ],
          "heatmapgl": [
           {
            "colorbar": {
             "outlinewidth": 0,
             "ticks": ""
            },
            "colorscale": [
             [
              0,
              "#0d0887"
             ],
             [
              0.1111111111111111,
              "#46039f"
             ],
             [
              0.2222222222222222,
              "#7201a8"
             ],
             [
              0.3333333333333333,
              "#9c179e"
             ],
             [
              0.4444444444444444,
              "#bd3786"
             ],
             [
              0.5555555555555556,
              "#d8576b"
             ],
             [
              0.6666666666666666,
              "#ed7953"
             ],
             [
              0.7777777777777778,
              "#fb9f3a"
             ],
             [
              0.8888888888888888,
              "#fdca26"
             ],
             [
              1,
              "#f0f921"
             ]
            ],
            "type": "heatmapgl"
           }
          ],
          "histogram": [
           {
            "marker": {
             "pattern": {
              "fillmode": "overlay",
              "size": 10,
              "solidity": 0.2
             }
            },
            "type": "histogram"
           }
          ],
          "histogram2d": [
           {
            "colorbar": {
             "outlinewidth": 0,
             "ticks": ""
            },
            "colorscale": [
             [
              0,
              "#0d0887"
             ],
             [
              0.1111111111111111,
              "#46039f"
             ],
             [
              0.2222222222222222,
              "#7201a8"
             ],
             [
              0.3333333333333333,
              "#9c179e"
             ],
             [
              0.4444444444444444,
              "#bd3786"
             ],
             [
              0.5555555555555556,
              "#d8576b"
             ],
             [
              0.6666666666666666,
              "#ed7953"
             ],
             [
              0.7777777777777778,
              "#fb9f3a"
             ],
             [
              0.8888888888888888,
              "#fdca26"
             ],
             [
              1,
              "#f0f921"
             ]
            ],
            "type": "histogram2d"
           }
          ],
          "histogram2dcontour": [
           {
            "colorbar": {
             "outlinewidth": 0,
             "ticks": ""
            },
            "colorscale": [
             [
              0,
              "#0d0887"
             ],
             [
              0.1111111111111111,
              "#46039f"
             ],
             [
              0.2222222222222222,
              "#7201a8"
             ],
             [
              0.3333333333333333,
              "#9c179e"
             ],
             [
              0.4444444444444444,
              "#bd3786"
             ],
             [
              0.5555555555555556,
              "#d8576b"
             ],
             [
              0.6666666666666666,
              "#ed7953"
             ],
             [
              0.7777777777777778,
              "#fb9f3a"
             ],
             [
              0.8888888888888888,
              "#fdca26"
             ],
             [
              1,
              "#f0f921"
             ]
            ],
            "type": "histogram2dcontour"
           }
          ],
          "mesh3d": [
           {
            "colorbar": {
             "outlinewidth": 0,
             "ticks": ""
            },
            "type": "mesh3d"
           }
          ],
          "parcoords": [
           {
            "line": {
             "colorbar": {
              "outlinewidth": 0,
              "ticks": ""
             }
            },
            "type": "parcoords"
           }
          ],
          "pie": [
           {
            "automargin": true,
            "type": "pie"
           }
          ],
          "scatter": [
           {
            "fillpattern": {
             "fillmode": "overlay",
             "size": 10,
             "solidity": 0.2
            },
            "type": "scatter"
           }
          ],
          "scatter3d": [
           {
            "line": {
             "colorbar": {
              "outlinewidth": 0,
              "ticks": ""
             }
            },
            "marker": {
             "colorbar": {
              "outlinewidth": 0,
              "ticks": ""
             }
            },
            "type": "scatter3d"
           }
          ],
          "scattercarpet": [
           {
            "marker": {
             "colorbar": {
              "outlinewidth": 0,
              "ticks": ""
             }
            },
            "type": "scattercarpet"
           }
          ],
          "scattergeo": [
           {
            "marker": {
             "colorbar": {
              "outlinewidth": 0,
              "ticks": ""
             }
            },
            "type": "scattergeo"
           }
          ],
          "scattergl": [
           {
            "marker": {
             "colorbar": {
              "outlinewidth": 0,
              "ticks": ""
             }
            },
            "type": "scattergl"
           }
          ],
          "scattermapbox": [
           {
            "marker": {
             "colorbar": {
              "outlinewidth": 0,
              "ticks": ""
             }
            },
            "type": "scattermapbox"
           }
          ],
          "scatterpolar": [
           {
            "marker": {
             "colorbar": {
              "outlinewidth": 0,
              "ticks": ""
             }
            },
            "type": "scatterpolar"
           }
          ],
          "scatterpolargl": [
           {
            "marker": {
             "colorbar": {
              "outlinewidth": 0,
              "ticks": ""
             }
            },
            "type": "scatterpolargl"
           }
          ],
          "scatterternary": [
           {
            "marker": {
             "colorbar": {
              "outlinewidth": 0,
              "ticks": ""
             }
            },
            "type": "scatterternary"
           }
          ],
          "surface": [
           {
            "colorbar": {
             "outlinewidth": 0,
             "ticks": ""
            },
            "colorscale": [
             [
              0,
              "#0d0887"
             ],
             [
              0.1111111111111111,
              "#46039f"
             ],
             [
              0.2222222222222222,
              "#7201a8"
             ],
             [
              0.3333333333333333,
              "#9c179e"
             ],
             [
              0.4444444444444444,
              "#bd3786"
             ],
             [
              0.5555555555555556,
              "#d8576b"
             ],
             [
              0.6666666666666666,
              "#ed7953"
             ],
             [
              0.7777777777777778,
              "#fb9f3a"
             ],
             [
              0.8888888888888888,
              "#fdca26"
             ],
             [
              1,
              "#f0f921"
             ]
            ],
            "type": "surface"
           }
          ],
          "table": [
           {
            "cells": {
             "fill": {
              "color": "#EBF0F8"
             },
             "line": {
              "color": "white"
             }
            },
            "header": {
             "fill": {
              "color": "#C8D4E3"
             },
             "line": {
              "color": "white"
             }
            },
            "type": "table"
           }
          ]
         },
         "layout": {
          "annotationdefaults": {
           "arrowcolor": "#2a3f5f",
           "arrowhead": 0,
           "arrowwidth": 1
          },
          "autotypenumbers": "strict",
          "coloraxis": {
           "colorbar": {
            "outlinewidth": 0,
            "ticks": ""
           }
          },
          "colorscale": {
           "diverging": [
            [
             0,
             "#8e0152"
            ],
            [
             0.1,
             "#c51b7d"
            ],
            [
             0.2,
             "#de77ae"
            ],
            [
             0.3,
             "#f1b6da"
            ],
            [
             0.4,
             "#fde0ef"
            ],
            [
             0.5,
             "#f7f7f7"
            ],
            [
             0.6,
             "#e6f5d0"
            ],
            [
             0.7,
             "#b8e186"
            ],
            [
             0.8,
             "#7fbc41"
            ],
            [
             0.9,
             "#4d9221"
            ],
            [
             1,
             "#276419"
            ]
           ],
           "sequential": [
            [
             0,
             "#0d0887"
            ],
            [
             0.1111111111111111,
             "#46039f"
            ],
            [
             0.2222222222222222,
             "#7201a8"
            ],
            [
             0.3333333333333333,
             "#9c179e"
            ],
            [
             0.4444444444444444,
             "#bd3786"
            ],
            [
             0.5555555555555556,
             "#d8576b"
            ],
            [
             0.6666666666666666,
             "#ed7953"
            ],
            [
             0.7777777777777778,
             "#fb9f3a"
            ],
            [
             0.8888888888888888,
             "#fdca26"
            ],
            [
             1,
             "#f0f921"
            ]
           ],
           "sequentialminus": [
            [
             0,
             "#0d0887"
            ],
            [
             0.1111111111111111,
             "#46039f"
            ],
            [
             0.2222222222222222,
             "#7201a8"
            ],
            [
             0.3333333333333333,
             "#9c179e"
            ],
            [
             0.4444444444444444,
             "#bd3786"
            ],
            [
             0.5555555555555556,
             "#d8576b"
            ],
            [
             0.6666666666666666,
             "#ed7953"
            ],
            [
             0.7777777777777778,
             "#fb9f3a"
            ],
            [
             0.8888888888888888,
             "#fdca26"
            ],
            [
             1,
             "#f0f921"
            ]
           ]
          },
          "colorway": [
           "#636efa",
           "#EF553B",
           "#00cc96",
           "#ab63fa",
           "#FFA15A",
           "#19d3f3",
           "#FF6692",
           "#B6E880",
           "#FF97FF",
           "#FECB52"
          ],
          "font": {
           "color": "#2a3f5f"
          },
          "geo": {
           "bgcolor": "white",
           "lakecolor": "white",
           "landcolor": "#E5ECF6",
           "showlakes": true,
           "showland": true,
           "subunitcolor": "white"
          },
          "hoverlabel": {
           "align": "left"
          },
          "hovermode": "closest",
          "mapbox": {
           "style": "light"
          },
          "paper_bgcolor": "white",
          "plot_bgcolor": "#E5ECF6",
          "polar": {
           "angularaxis": {
            "gridcolor": "white",
            "linecolor": "white",
            "ticks": ""
           },
           "bgcolor": "#E5ECF6",
           "radialaxis": {
            "gridcolor": "white",
            "linecolor": "white",
            "ticks": ""
           }
          },
          "scene": {
           "xaxis": {
            "backgroundcolor": "#E5ECF6",
            "gridcolor": "white",
            "gridwidth": 2,
            "linecolor": "white",
            "showbackground": true,
            "ticks": "",
            "zerolinecolor": "white"
           },
           "yaxis": {
            "backgroundcolor": "#E5ECF6",
            "gridcolor": "white",
            "gridwidth": 2,
            "linecolor": "white",
            "showbackground": true,
            "ticks": "",
            "zerolinecolor": "white"
           },
           "zaxis": {
            "backgroundcolor": "#E5ECF6",
            "gridcolor": "white",
            "gridwidth": 2,
            "linecolor": "white",
            "showbackground": true,
            "ticks": "",
            "zerolinecolor": "white"
           }
          },
          "shapedefaults": {
           "line": {
            "color": "#2a3f5f"
           }
          },
          "ternary": {
           "aaxis": {
            "gridcolor": "white",
            "linecolor": "white",
            "ticks": ""
           },
           "baxis": {
            "gridcolor": "white",
            "linecolor": "white",
            "ticks": ""
           },
           "bgcolor": "#E5ECF6",
           "caxis": {
            "gridcolor": "white",
            "linecolor": "white",
            "ticks": ""
           }
          },
          "title": {
           "x": 0.05
          },
          "xaxis": {
           "automargin": true,
           "gridcolor": "white",
           "linecolor": "white",
           "ticks": "",
           "title": {
            "standoff": 15
           },
           "zerolinecolor": "white",
           "zerolinewidth": 2
          },
          "yaxis": {
           "automargin": true,
           "gridcolor": "white",
           "linecolor": "white",
           "ticks": "",
           "title": {
            "standoff": 15
           },
           "zerolinecolor": "white",
           "zerolinewidth": 2
          }
         }
        },
        "title": {
         "text": "distribution of JSD between activations set to 1% and 95%<br>(layer 11, 98 dirs per type, 12k tokens)"
        },
        "xaxis": {
         "title": {
          "text": "JSD"
         }
        },
        "yaxis": {
         "title": {
          "text": "density"
         }
        }
       }
      },
      "text/html": [
       "<div>                            <div id=\"bed72d20-e375-4a67-a660-53c5ec8c9d44\" class=\"plotly-graph-div\" style=\"height:525px; width:100%;\"></div>            <script type=\"text/javascript\">                require([\"plotly\"], function(Plotly) {                    window.PLOTLYENV=window.PLOTLYENV || {};                                    if (document.getElementById(\"bed72d20-e375-4a67-a660-53c5ec8c9d44\")) {                    Plotly.newPlot(                        \"bed72d20-e375-4a67-a660-53c5ec8c9d44\",                        [{\"fill\":\"tozeroy\",\"fillcolor\":\"rgba(0, 255, 0, 0.2)\",\"line\":{\"color\":\"rgb(0, 255, 0)\",\"width\":2},\"name\":\"random\",\"x\":[0.0,0.010101010101010102,0.020202020202020204,0.030303030303030304,0.04040404040404041,0.05050505050505051,0.06060606060606061,0.07070707070707072,0.08080808080808081,0.09090909090909091,0.10101010101010102,0.11111111111111112,0.12121212121212122,0.13131313131313133,0.14141414141414144,0.15151515151515152,0.16161616161616163,0.17171717171717174,0.18181818181818182,0.19191919191919193,0.20202020202020204,0.21212121212121213,0.22222222222222224,0.23232323232323235,0.24242424242424243,0.25252525252525254,0.26262626262626265,0.27272727272727276,0.2828282828282829,0.29292929292929293,0.30303030303030304,0.31313131313131315,0.32323232323232326,0.33333333333333337,0.3434343434343435,0.3535353535353536,0.36363636363636365,0.37373737373737376,0.38383838383838387,0.393939393939394,0.4040404040404041,0.4141414141414142,0.42424242424242425,0.43434343434343436,0.4444444444444445,0.4545454545454546,0.4646464646464647,0.4747474747474748,0.48484848484848486,0.494949494949495,0.5050505050505051,0.5151515151515152,0.5252525252525253,0.5353535353535354,0.5454545454545455,0.5555555555555556,0.5656565656565657,0.5757575757575758,0.5858585858585859,0.595959595959596,0.6060606060606061,0.6161616161616162,0.6262626262626263,0.6363636363636365,0.6464646464646465,0.6565656565656566,0.6666666666666667,0.6767676767676768,0.686868686868687,0.696969696969697,0.7070707070707072,0.7171717171717172,0.7272727272727273,0.7373737373737375,0.7474747474747475,0.7575757575757577,0.7676767676767677,0.7777777777777778,0.787878787878788,0.797979797979798,0.8080808080808082,0.8181818181818182,0.8282828282828284,0.8383838383838385,0.8484848484848485,0.8585858585858587,0.8686868686868687,0.8787878787878789,0.888888888888889,0.8989898989898991,0.9090909090909092,0.9191919191919192,0.9292929292929294,0.9393939393939394,0.9494949494949496,0.9595959595959597,0.9696969696969697,0.9797979797979799,0.98989898989899,1.0],\"y\":[0.032153007,0.01155442,0.017131079,0.01791643,0.019230122,0.024136031,0.028308835,0.03376752,0.03446355,0.03256253,0.033810496,0.03434895,0.028155472,0.025167435,0.024602858,0.022397643,0.019934576,0.01588817,0.013368646,0.011120455,0.0094899265,0.007852658,0.0070285457,0.0064917775,0.0062381397,0.005952481,0.0056583965,0.0063283034,0.0057569863,0.0056069945,0.004906752,0.0047230544,0.0044828993,0.004245272,0.0042949882,0.004155951,0.004122245,0.003893044,0.0039208517,0.0036217107,0.0036941785,0.0036486755,0.0035888474,0.0037565348,0.0039141104,0.0037834996,0.0036419344,0.0039528725,0.0036225533,0.0034396984,0.003534075,0.003331839,0.003213868,0.0033065595,0.0027529383,0.0029231536,0.002515311,0.0026821557,0.0026585616,0.0024689652,0.0025431183,0.0022422923,0.0023383545,0.002249876,0.002081346,0.0017771494,0.0019886545,0.00185046,0.0018150687,0.0017291183,0.0016440107,0.0014965468,0.001693727,0.0015302529,0.0015993501,0.0015589029,0.0016431679,0.00164064,0.0015024453,0.0016532798,0.0016726607,0.001708052,0.0016701327,0.0015555323,0.0016515944,0.0015707001,0.0014763232,0.0016128325,0.0015942942,0.0015277249,0.0017813626,0.0012909402,0.0013330727,0.0013549816,0.0012134163,0.0014409319,0.0012075178,0.0011738117,0.001194878,0.0011999339,0.0010988159,0.0011569588,0.0011165115,0.0011097704,0.0011822383,0.0011527456,0.0010651099,0.0011063998,0.0011114556,0.0010516274,0.0010617393,0.0010718511,0.0011072424,0.0010364598,0.0010735363,0.0011333646,0.0010895467,0.0011207248,0.0010153935,0.0010684805,0.001026348,0.0010465716,0.0010634246,0.0011148263,0.0011342072,0.0010423583,0.0010844909,0.0011139836,0.0010600539,0.0011434763,0.0010785923,0.0010954454,0.001166228,0.0012058325,0.0012563915,0.0012968387,0.0013929008,0.0012285841,0.0013136917,0.001508344,0.0014780085,0.0014426172,0.0014443025,0.0014813791,0.0013701493,0.0015218264,0.001525197,0.0013128491,0.0013987994,0.0017577684,0.0016305282,0.0013473977,0.0014055406,0.0014881203,0.0013229608,0.0014148097,0.0013971141,0.0014780085,0.0015066586,0.0014257642,0.0013473977,0.001382789,0.0015007601,0.001508344,0.0013650934,0.0013617228,0.0014325054,0.001609462,0.0013996421,0.0013954288,0.0015858677,0.001380261,0.0014249216,0.001424079,0.0014443025,0.0013499256,0.0015159277,0.0012555489,0.0014898056,0.0014830644,0.0012740871,0.0014291347,0.0012740871,0.0013431845,0.0014746379,0.0012917828,0.0013979567,0.0013718345,0.001211731,0.001194878,0.0012555489,0.0012336399,0.0011864515,0.001108085,0.0012993667,0.0010600539,0.0010364598,0.0009968552,0.0009993832,0.0011367352,0.0011712838,0.0009665198,0.0011367352,0.0010196068,0.0010280333,0.0011299939,0.0010002258,0.0010743791,0.0009682051,0.0009816876,0.000939555,0.0010212921,0.0010246626,0.0011603293,0.0011426337,0.0011738117,0.0011114556,0.0011443191,0.001124938,0.0010844909,0.0009741037,0.0011906648,0.0010027537,0.0011519028,0.0012260561,0.0011375778,0.0012184723,0.00096399186,0.0011797104,0.0011738117,0.0011620147,0.00095556537,0.0010170789,0.0010297186,0.0010676378,0.0011384204,0.001012023,0.00097241835,0.0011350499,0.0010482569,0.00099517,0.00092691527,0.00094208296,0.00092354463,0.00092101673,0.0009842155,0.0010027537,0.0009909567,0.0009800022,0.0010373024,0.0010314039,0.0009673625,0.0010078097,0.0009875861,0.0008249546,0.00092523,0.00085023406,0.00081568543,0.0008165281,0.0008418076,0.00088478276,0.00088562537,0.0008375943,0.00085023406,0.0008603459,0.0008746709,0.0008316958,0.000804731,0.00082242663,0.00078787794,0.00093702704,0.0008241119,0.0010061244,0.0008788842,0.00073647633,0.00072720717,0.00079461915,0.0008182134,0.0008881533,0.00099517,0.0007887206,0.0008906813,0.0008788842,0.0009075343,0.0007769235,0.00082748255,0.0008114722,0.00085697527,0.00086961506,0.0008940519,0.00075585727,0.0007474308,0.0007036129,0.00067243486,0.0007971471,0.0007743956,0.0009842155,0.0006993997,0.00084939145,0.0007550146,0.0008965799,0.0007617558,0.0008375943,0.00089826516,0.0008906813,0.0008392796,0.00083590904,0.00079377653,0.00080641627,0.00079377653,0.0007339484,0.0008401223,0.00071709533,0.0007297351,0.00079967506,0.0007583852,0.0007415322,0.00066990696,0.0008536047,0.0007145674,0.00080051774,0.00072383654,0.0005991243,0.00061597733,0.000732263,0.0005906978,0.0006387289,0.0006185053,0.00065052597,0.0006092361,0.0006538966,0.0005982817,0.00048620917,0.0006201906,0.00046177232,0.00056794623,0.00074321753,0.0005342403,0.00053086964,0.00044491934,0.0004845239,0.0007036129,0.00050221954,0.0005098034,0.00045334583,0.0005064328,0.0005923831,0.00047104148,0.0005519359,0.00044407666,0.0005553065,0.00049884897,0.0005055901,0.00044239138,0.0004297516,0.00041205596,0.00037160877,0.0003707661,0.0003438013,0.00041458392,0.0003707661,0.00048536653,0.00040278683,0.0005401388,0.0003876191,0.0002982982,0.00041795452,0.00029071432,0.00027723194,0.00030419673,0.00031936445,0.00024099796,0.00026712014,0.00024268327,0.00025110977,0.00025869362,0.00020729196,0.00019633751,0.00026796278,0.0002115052,0.00022835821,0.00020897726,0.00026290686,0.00017864184,0.00025953626,0.00016853005,0.00016684475,0.00018201245,0.0001474638,0.00017864184,0.00020897726,0.00015504764,0.00013987994,0.00015757559,0.0001794845,0.00013903729,0.0001474638,0.00016094619,0.00015757559,0.000187911,0.00018538305,0.00013650933,0.0001457785,0.00015336234,0.00016684475,0.00015926089,0.00014662114,0.00014493584,0.00012976813,0.00013819463,0.00014325054,0.00013061079,0.00013903729,0.00014156524,0.00011797103,0.000112915135,0.0001407226,0.00013566669,0.00010954453,0.00011712838,0.00014325054,0.00010617393,0.00010954453,0.00009943273,0.00009943273,0.00010785923,0.00010448863,0.00009269152,0.000095219475,0.00009774743,0.000094376825,0.00013566669,0.000084265026,0.00022330231,0.00012134163,0.00009859008,0.00009943273,0.00011628573,0.00019886545,0.00011797103,0.00010701658,0.00006825467,0.00013313873,0.00007583852,0.00006741202,0.000081737075,0.000064041415,0.00011375778,0.00007583852,0.00008595033,0.00016010355,0.000059828166,0.000049716364,0.00006235612,0.000052244315,0.000053929616,0.000053086966,0.000049716364,0.000066569366,0.000064041415,0.000059828166,0.000058985515,0.000056457568,0.000041289863,0.000054772267,0.000048031063,0.000043817814,0.000058985515,0.000049716364,0.000051401665,0.00006235612,0.000050559014,0.000040447212,0.000055614917,0.00004634576,0.000055614917,0.000048031063,0.000040447212,0.00003876191,0.000040447212,0.00003876191,0.00003539131,0.00004550311,0.000026964808,0.00004466046,0.00003707661,0.000026122158,0.000032020707,0.000032863358,0.00004466046,0.000041289863,0.00003960456,0.00003623396,0.00004466046,0.000040447212,0.00003707661,0.000042975164,0.000064884065,0.000080051774,0.00003539131],\"type\":\"scatter\"}],                        {\"template\":{\"data\":{\"histogram2dcontour\":[{\"type\":\"histogram2dcontour\",\"colorbar\":{\"outlinewidth\":0,\"ticks\":\"\"},\"colorscale\":[[0.0,\"#0d0887\"],[0.1111111111111111,\"#46039f\"],[0.2222222222222222,\"#7201a8\"],[0.3333333333333333,\"#9c179e\"],[0.4444444444444444,\"#bd3786\"],[0.5555555555555556,\"#d8576b\"],[0.6666666666666666,\"#ed7953\"],[0.7777777777777778,\"#fb9f3a\"],[0.8888888888888888,\"#fdca26\"],[1.0,\"#f0f921\"]]}],\"choropleth\":[{\"type\":\"choropleth\",\"colorbar\":{\"outlinewidth\":0,\"ticks\":\"\"}}],\"histogram2d\":[{\"type\":\"histogram2d\",\"colorbar\":{\"outlinewidth\":0,\"ticks\":\"\"},\"colorscale\":[[0.0,\"#0d0887\"],[0.1111111111111111,\"#46039f\"],[0.2222222222222222,\"#7201a8\"],[0.3333333333333333,\"#9c179e\"],[0.4444444444444444,\"#bd3786\"],[0.5555555555555556,\"#d8576b\"],[0.6666666666666666,\"#ed7953\"],[0.7777777777777778,\"#fb9f3a\"],[0.8888888888888888,\"#fdca26\"],[1.0,\"#f0f921\"]]}],\"heatmap\":[{\"type\":\"heatmap\",\"colorbar\":{\"outlinewidth\":0,\"ticks\":\"\"},\"colorscale\":[[0.0,\"#0d0887\"],[0.1111111111111111,\"#46039f\"],[0.2222222222222222,\"#7201a8\"],[0.3333333333333333,\"#9c179e\"],[0.4444444444444444,\"#bd3786\"],[0.5555555555555556,\"#d8576b\"],[0.6666666666666666,\"#ed7953\"],[0.7777777777777778,\"#fb9f3a\"],[0.8888888888888888,\"#fdca26\"],[1.0,\"#f0f921\"]]}],\"heatmapgl\":[{\"type\":\"heatmapgl\",\"colorbar\":{\"outlinewidth\":0,\"ticks\":\"\"},\"colorscale\":[[0.0,\"#0d0887\"],[0.1111111111111111,\"#46039f\"],[0.2222222222222222,\"#7201a8\"],[0.3333333333333333,\"#9c179e\"],[0.4444444444444444,\"#bd3786\"],[0.5555555555555556,\"#d8576b\"],[0.6666666666666666,\"#ed7953\"],[0.7777777777777778,\"#fb9f3a\"],[0.8888888888888888,\"#fdca26\"],[1.0,\"#f0f921\"]]}],\"contourcarpet\":[{\"type\":\"contourcarpet\",\"colorbar\":{\"outlinewidth\":0,\"ticks\":\"\"}}],\"contour\":[{\"type\":\"contour\",\"colorbar\":{\"outlinewidth\":0,\"ticks\":\"\"},\"colorscale\":[[0.0,\"#0d0887\"],[0.1111111111111111,\"#46039f\"],[0.2222222222222222,\"#7201a8\"],[0.3333333333333333,\"#9c179e\"],[0.4444444444444444,\"#bd3786\"],[0.5555555555555556,\"#d8576b\"],[0.6666666666666666,\"#ed7953\"],[0.7777777777777778,\"#fb9f3a\"],[0.8888888888888888,\"#fdca26\"],[1.0,\"#f0f921\"]]}],\"surface\":[{\"type\":\"surface\",\"colorbar\":{\"outlinewidth\":0,\"ticks\":\"\"},\"colorscale\":[[0.0,\"#0d0887\"],[0.1111111111111111,\"#46039f\"],[0.2222222222222222,\"#7201a8\"],[0.3333333333333333,\"#9c179e\"],[0.4444444444444444,\"#bd3786\"],[0.5555555555555556,\"#d8576b\"],[0.6666666666666666,\"#ed7953\"],[0.7777777777777778,\"#fb9f3a\"],[0.8888888888888888,\"#fdca26\"],[1.0,\"#f0f921\"]]}],\"mesh3d\":[{\"type\":\"mesh3d\",\"colorbar\":{\"outlinewidth\":0,\"ticks\":\"\"}}],\"scatter\":[{\"fillpattern\":{\"fillmode\":\"overlay\",\"size\":10,\"solidity\":0.2},\"type\":\"scatter\"}],\"parcoords\":[{\"type\":\"parcoords\",\"line\":{\"colorbar\":{\"outlinewidth\":0,\"ticks\":\"\"}}}],\"scatterpolargl\":[{\"type\":\"scatterpolargl\",\"marker\":{\"colorbar\":{\"outlinewidth\":0,\"ticks\":\"\"}}}],\"bar\":[{\"error_x\":{\"color\":\"#2a3f5f\"},\"error_y\":{\"color\":\"#2a3f5f\"},\"marker\":{\"line\":{\"color\":\"#E5ECF6\",\"width\":0.5},\"pattern\":{\"fillmode\":\"overlay\",\"size\":10,\"solidity\":0.2}},\"type\":\"bar\"}],\"scattergeo\":[{\"type\":\"scattergeo\",\"marker\":{\"colorbar\":{\"outlinewidth\":0,\"ticks\":\"\"}}}],\"scatterpolar\":[{\"type\":\"scatterpolar\",\"marker\":{\"colorbar\":{\"outlinewidth\":0,\"ticks\":\"\"}}}],\"histogram\":[{\"marker\":{\"pattern\":{\"fillmode\":\"overlay\",\"size\":10,\"solidity\":0.2}},\"type\":\"histogram\"}],\"scattergl\":[{\"type\":\"scattergl\",\"marker\":{\"colorbar\":{\"outlinewidth\":0,\"ticks\":\"\"}}}],\"scatter3d\":[{\"type\":\"scatter3d\",\"line\":{\"colorbar\":{\"outlinewidth\":0,\"ticks\":\"\"}},\"marker\":{\"colorbar\":{\"outlinewidth\":0,\"ticks\":\"\"}}}],\"scattermapbox\":[{\"type\":\"scattermapbox\",\"marker\":{\"colorbar\":{\"outlinewidth\":0,\"ticks\":\"\"}}}],\"scatterternary\":[{\"type\":\"scatterternary\",\"marker\":{\"colorbar\":{\"outlinewidth\":0,\"ticks\":\"\"}}}],\"scattercarpet\":[{\"type\":\"scattercarpet\",\"marker\":{\"colorbar\":{\"outlinewidth\":0,\"ticks\":\"\"}}}],\"carpet\":[{\"aaxis\":{\"endlinecolor\":\"#2a3f5f\",\"gridcolor\":\"white\",\"linecolor\":\"white\",\"minorgridcolor\":\"white\",\"startlinecolor\":\"#2a3f5f\"},\"baxis\":{\"endlinecolor\":\"#2a3f5f\",\"gridcolor\":\"white\",\"linecolor\":\"white\",\"minorgridcolor\":\"white\",\"startlinecolor\":\"#2a3f5f\"},\"type\":\"carpet\"}],\"table\":[{\"cells\":{\"fill\":{\"color\":\"#EBF0F8\"},\"line\":{\"color\":\"white\"}},\"header\":{\"fill\":{\"color\":\"#C8D4E3\"},\"line\":{\"color\":\"white\"}},\"type\":\"table\"}],\"barpolar\":[{\"marker\":{\"line\":{\"color\":\"#E5ECF6\",\"width\":0.5},\"pattern\":{\"fillmode\":\"overlay\",\"size\":10,\"solidity\":0.2}},\"type\":\"barpolar\"}],\"pie\":[{\"automargin\":true,\"type\":\"pie\"}]},\"layout\":{\"autotypenumbers\":\"strict\",\"colorway\":[\"#636efa\",\"#EF553B\",\"#00cc96\",\"#ab63fa\",\"#FFA15A\",\"#19d3f3\",\"#FF6692\",\"#B6E880\",\"#FF97FF\",\"#FECB52\"],\"font\":{\"color\":\"#2a3f5f\"},\"hovermode\":\"closest\",\"hoverlabel\":{\"align\":\"left\"},\"paper_bgcolor\":\"white\",\"plot_bgcolor\":\"#E5ECF6\",\"polar\":{\"bgcolor\":\"#E5ECF6\",\"angularaxis\":{\"gridcolor\":\"white\",\"linecolor\":\"white\",\"ticks\":\"\"},\"radialaxis\":{\"gridcolor\":\"white\",\"linecolor\":\"white\",\"ticks\":\"\"}},\"ternary\":{\"bgcolor\":\"#E5ECF6\",\"aaxis\":{\"gridcolor\":\"white\",\"linecolor\":\"white\",\"ticks\":\"\"},\"baxis\":{\"gridcolor\":\"white\",\"linecolor\":\"white\",\"ticks\":\"\"},\"caxis\":{\"gridcolor\":\"white\",\"linecolor\":\"white\",\"ticks\":\"\"}},\"coloraxis\":{\"colorbar\":{\"outlinewidth\":0,\"ticks\":\"\"}},\"colorscale\":{\"sequential\":[[0.0,\"#0d0887\"],[0.1111111111111111,\"#46039f\"],[0.2222222222222222,\"#7201a8\"],[0.3333333333333333,\"#9c179e\"],[0.4444444444444444,\"#bd3786\"],[0.5555555555555556,\"#d8576b\"],[0.6666666666666666,\"#ed7953\"],[0.7777777777777778,\"#fb9f3a\"],[0.8888888888888888,\"#fdca26\"],[1.0,\"#f0f921\"]],\"sequentialminus\":[[0.0,\"#0d0887\"],[0.1111111111111111,\"#46039f\"],[0.2222222222222222,\"#7201a8\"],[0.3333333333333333,\"#9c179e\"],[0.4444444444444444,\"#bd3786\"],[0.5555555555555556,\"#d8576b\"],[0.6666666666666666,\"#ed7953\"],[0.7777777777777778,\"#fb9f3a\"],[0.8888888888888888,\"#fdca26\"],[1.0,\"#f0f921\"]],\"diverging\":[[0,\"#8e0152\"],[0.1,\"#c51b7d\"],[0.2,\"#de77ae\"],[0.3,\"#f1b6da\"],[0.4,\"#fde0ef\"],[0.5,\"#f7f7f7\"],[0.6,\"#e6f5d0\"],[0.7,\"#b8e186\"],[0.8,\"#7fbc41\"],[0.9,\"#4d9221\"],[1,\"#276419\"]]},\"xaxis\":{\"gridcolor\":\"white\",\"linecolor\":\"white\",\"ticks\":\"\",\"title\":{\"standoff\":15},\"zerolinecolor\":\"white\",\"automargin\":true,\"zerolinewidth\":2},\"yaxis\":{\"gridcolor\":\"white\",\"linecolor\":\"white\",\"ticks\":\"\",\"title\":{\"standoff\":15},\"zerolinecolor\":\"white\",\"automargin\":true,\"zerolinewidth\":2},\"scene\":{\"xaxis\":{\"backgroundcolor\":\"#E5ECF6\",\"gridcolor\":\"white\",\"linecolor\":\"white\",\"showbackground\":true,\"ticks\":\"\",\"zerolinecolor\":\"white\",\"gridwidth\":2},\"yaxis\":{\"backgroundcolor\":\"#E5ECF6\",\"gridcolor\":\"white\",\"linecolor\":\"white\",\"showbackground\":true,\"ticks\":\"\",\"zerolinecolor\":\"white\",\"gridwidth\":2},\"zaxis\":{\"backgroundcolor\":\"#E5ECF6\",\"gridcolor\":\"white\",\"linecolor\":\"white\",\"showbackground\":true,\"ticks\":\"\",\"zerolinecolor\":\"white\",\"gridwidth\":2}},\"shapedefaults\":{\"line\":{\"color\":\"#2a3f5f\"}},\"annotationdefaults\":{\"arrowcolor\":\"#2a3f5f\",\"arrowhead\":0,\"arrowwidth\":1},\"geo\":{\"bgcolor\":\"white\",\"landcolor\":\"#E5ECF6\",\"subunitcolor\":\"white\",\"showland\":true,\"showlakes\":true,\"lakecolor\":\"white\"},\"title\":{\"x\":0.05},\"mapbox\":{\"style\":\"light\"}}},\"title\":{\"text\":\"distribution of JSD between activations set to 1% and 95%\\u003cbr\\u003e(layer 11, 98 dirs per type, 12k tokens)\"},\"xaxis\":{\"title\":{\"text\":\"JSD\"}},\"yaxis\":{\"title\":{\"text\":\"density\"}},\"legend\":{\"title\":{\"text\":\"dirs type\"}}},                        {\"responsive\": true}                    ).then(function(){\n",
       "                            \n",
       "var gd = document.getElementById('bed72d20-e375-4a67-a660-53c5ec8c9d44');\n",
       "var x = new MutationObserver(function (mutations, observer) {{\n",
       "        var display = window.getComputedStyle(gd).display;\n",
       "        if (!display || display === 'none') {{\n",
       "            console.log([gd, 'removed!']);\n",
       "            Plotly.purge(gd);\n",
       "            observer.disconnect();\n",
       "        }}\n",
       "}});\n",
       "\n",
       "// Listen for the removal of the full notebook cells\n",
       "var notebookContainer = gd.closest('#notebook-container');\n",
       "if (notebookContainer) {{\n",
       "    x.observe(notebookContainer, {childList: true});\n",
       "}}\n",
       "\n",
       "// Listen for the clearing of the current output cell\n",
       "var outputEl = gd.closest('.output');\n",
       "if (outputEl) {{\n",
       "    x.observe(outputEl, {childList: true});\n",
       "}}\n",
       "\n",
       "                        })                };                });            </script>        </div>"
      ]
     },
     "metadata": {},
     "output_type": "display_data"
    }
   ],
   "source": [
    "plot_hist(hist_by_name, color_by_name, \"JSD\")"
   ]
  },
  {
   "cell_type": "code",
   "execution_count": 21,
   "metadata": {},
   "outputs": [
    {
     "data": {
      "application/vnd.plotly.v1+json": {
       "config": {
        "plotlyServerURL": "https://plot.ly"
       },
       "data": [
        {
         "fill": "tozeroy",
         "fillcolor": "rgba(0, 255, 0, 0.2)",
         "line": {
          "color": "rgb(0, 255, 0)",
          "width": 2
         },
         "name": "random",
         "type": "scatter",
         "x": [
          0,
          0.010101010101010102,
          0.020202020202020204,
          0.030303030303030304,
          0.04040404040404041,
          0.05050505050505051,
          0.06060606060606061,
          0.07070707070707072,
          0.08080808080808081,
          0.09090909090909091,
          0.10101010101010102,
          0.11111111111111112,
          0.12121212121212122,
          0.13131313131313133,
          0.14141414141414144,
          0.15151515151515152,
          0.16161616161616163,
          0.17171717171717174,
          0.18181818181818182,
          0.19191919191919193,
          0.20202020202020204,
          0.21212121212121213,
          0.22222222222222224,
          0.23232323232323235,
          0.24242424242424243,
          0.25252525252525254,
          0.26262626262626265,
          0.27272727272727276,
          0.2828282828282829,
          0.29292929292929293,
          0.30303030303030304,
          0.31313131313131315,
          0.32323232323232326,
          0.33333333333333337,
          0.3434343434343435,
          0.3535353535353536,
          0.36363636363636365,
          0.37373737373737376,
          0.38383838383838387,
          0.393939393939394,
          0.4040404040404041,
          0.4141414141414142,
          0.42424242424242425,
          0.43434343434343436,
          0.4444444444444445,
          0.4545454545454546,
          0.4646464646464647,
          0.4747474747474748,
          0.48484848484848486,
          0.494949494949495,
          0.5050505050505051,
          0.5151515151515152,
          0.5252525252525253,
          0.5353535353535354,
          0.5454545454545455,
          0.5555555555555556,
          0.5656565656565657,
          0.5757575757575758,
          0.5858585858585859,
          0.595959595959596,
          0.6060606060606061,
          0.6161616161616162,
          0.6262626262626263,
          0.6363636363636365,
          0.6464646464646465,
          0.6565656565656566,
          0.6666666666666667,
          0.6767676767676768,
          0.686868686868687,
          0.696969696969697,
          0.7070707070707072,
          0.7171717171717172,
          0.7272727272727273,
          0.7373737373737375,
          0.7474747474747475,
          0.7575757575757577,
          0.7676767676767677,
          0.7777777777777778,
          0.787878787878788,
          0.797979797979798,
          0.8080808080808082,
          0.8181818181818182,
          0.8282828282828284,
          0.8383838383838385,
          0.8484848484848485,
          0.8585858585858587,
          0.8686868686868687,
          0.8787878787878789,
          0.888888888888889,
          0.8989898989898991,
          0.9090909090909092,
          0.9191919191919192,
          0.9292929292929294,
          0.9393939393939394,
          0.9494949494949496,
          0.9595959595959597,
          0.9696969696969697,
          0.9797979797979799,
          0.98989898989899,
          1
         ],
         "y": [
          0,
          0,
          0.0000045041293,
          0,
          0.0000067561937,
          0.000011260323,
          0.000018016517,
          0.0000045041293,
          0.000011260323,
          0.000018016517,
          0.000031528903,
          0.00005855368,
          0.00011035117,
          0.00017340897,
          0.000279256,
          0.0003175411,
          0.00032654937,
          0.0002860122,
          0.0002724998,
          0.0002860122,
          0.0003423138,
          0.0003445659,
          0.0003513221,
          0.00044365673,
          0.0005787806,
          0.0005359914,
          0.0005652682,
          0.000488698,
          0.0004774377,
          0.00062382186,
          0.0007994829,
          0.00047293355,
          0.00046167325,
          0.000558512,
          0.00072741683,
          0.0004391526,
          0.00050446246,
          0.00054725166,
          0.0005269831,
          0.00063958636,
          0.00061931775,
          0.0006463425,
          0.0006846276,
          0.00075444166,
          0.00072741683,
          0.00070039206,
          0.000871549,
          0.00081524736,
          0.0008602887,
          0.0008850614,
          0.00090082583,
          0.0009728919,
          0.00089181756,
          0.0010336976,
          0.0010899992,
          0.0010652265,
          0.0010742348,
          0.001119276,
          0.0010697307,
          0.0012003505,
          0.0012476437,
          0.0012341314,
          0.0011913421,
          0.0013219619,
          0.0012656603,
          0.001290433,
          0.001220619,
          0.0012566521,
          0.0012544,
          0.0011890901,
          0.0012949371,
          0.0013287182,
          0.0012949371,
          0.0013624991,
          0.0016192344,
          0.001466094,
          0.0014458254,
          0.0014953709,
          0.0016913005,
          0.0016462592,
          0.0019773126,
          0.0018354326,
          0.0016710319,
          0.0016980567,
          0.0018444409,
          0.0016913005,
          0.0016980567,
          0.0020516308,
          0.001637251,
          0.0019277673,
          0.001779131,
          0.0015314039,
          0.002125949,
          0.0025178082,
          0.001779131,
          0.001675536,
          0.0016935526,
          0.0020065894,
          0.0016462592,
          0.0020043375,
          0.0018962384,
          0.0021327052,
          0.0025200602,
          0.0019435317,
          0.0017273335,
          0.0017588624,
          0.0023601637,
          0.0020809076,
          0.001709317,
          0.0017250815,
          0.0021327052,
          0.001986321,
          0.0020336143,
          0.0015989658,
          0.0017250815,
          0.0017318376,
          0.0019142549,
          0.002089916,
          0.001988573,
          0.001740846,
          0.001675536,
          0.0016327468,
          0.0014525816,
          0.0017678707,
          0.0017025608,
          0.0014931188,
          0.0019975812,
          0.0016462592,
          0.0020110938,
          0.0017318376,
          0.0017025608,
          0.0017656187,
          0.0016597715,
          0.0015809493,
          0.0015584287,
          0.0016665278,
          0.0016417551,
          0.0013850197,
          0.0016124783,
          0.0013557429,
          0.0015291518,
          0.0019322714,
          0.0010562183,
          0.0011598133,
          0.0011598133,
          0.0011372926,
          0.0013985321,
          0.0010246894,
          0.0010021687,
          0.001119276,
          0.0009909084,
          0.0012116107,
          0.0009233465,
          0.0016485113,
          0.0012138628,
          0.0012341314,
          0.000941363,
          0.0018106599,
          0.001466094,
          0.0009706398,
          0.0011530571,
          0.0011463009,
          0.0011035117,
          0.0011305364,
          0.0011035117,
          0.0012048546,
          0.0012589041,
          0.0013152057,
          0.0012498959,
          0.001357995,
          0.0013467346,
          0.001357995,
          0.0016710319,
          0.0013917759,
          0.0015291518,
          0.0017611145,
          0.0019052466,
          0.0023196265,
          0.0020831598,
          0.002024606,
          0.002026858,
          0.0017566103,
          0.0015786972,
          0.0012363835,
          0.0012408876,
          0.0011215282,
          0.0010854951,
          0.0012363835,
          0.001080991,
          0.0010269415,
          0.0010854951,
          0.0011147719,
          0.0012634082,
          0.001186838,
          0.0011733257,
          0.0012183669,
          0.0014345652,
          0.0012048546,
          0.0018444409,
          0.0012161148,
          0.0014052883,
          0.0014728502,
          0.0015494204,
          0.002015598,
          0.0016349988,
          0.0018782219,
          0.0019007425,
          0.0013782636,
          0.0013670032,
          0.0009841522,
          0.0009616316,
          0.0008895655,
          0.00087380107,
          0.000837768,
          0.00072741683,
          0.00073417305,
          0.0008265077,
          0.000801735,
          0.00079723087,
          0.00090532994,
          0.0009481192,
          0.00096388365,
          0.001466094,
          0.0012836768,
          0.0013805156,
          0.0017656187,
          0.0019345235,
          0.002965969,
          0.003035783,
          0.0026236551,
          0.0029884898,
          0.0020831598,
          0.0025200602,
          0.0026777047,
          0.002297106,
          0.0031821672,
          0.0030718162,
          0.0033758448,
          0.0031191094,
          0.0027002255,
          0.0024524983,
          0.0024862792,
          0.002297106,
          0.00230161,
          0.0030492954,
          0.0025988824,
          0.002758779,
          0.0030718162,
          0.002819585,
          0.003105597,
          0.0036438406,
          0.0035605142,
          0.0038240056,
          0.004049212,
          0.0028398535,
          0.0030718162,
          0.0026236551,
          0.002407457,
          0.0023511555,
          0.0024367338,
          0.0024547505,
          0.0026033868,
          0.002511052,
          0.0025831182,
          0.0028330972,
          0.0028443576,
          0.0030267749,
          0.0029704731,
          0.0031438821,
          0.0030132623,
          0.0030065062,
          0.003247477,
          0.0041573113,
          0.0047946456,
          0.0036010512,
          0.0026934692,
          0.002614647,
          0.0024502464,
          0.0026214032,
          0.0024952875,
          0.0028803905,
          0.002965969,
          0.0037834684,
          0.0037767123,
          0.0047270837,
          0.005893653,
          0.0050333645,
          0.0045176414,
          0.0039478694,
          0.0035492538,
          0.0032001839,
          0.002754275,
          0.0023894405,
          0.0023826843,
          0.0019457838,
          0.0021169407,
          0.0016507633,
          0.0014052883,
          0.0011980984,
          0.0011305364,
          0.0010899992,
          0.0008940696,
          0.000801735,
          0.0007431813,
          0.0006868797,
          0.0012453917,
          0.0020020853,
          0.0025088,
          0.0021349571,
          0.0026214032,
          0.0037519396,
          0.0026664445,
          0.0017926435,
          0.0014030362,
          0.0021011762,
          0.0015606808,
          0.002022354,
          0.0021642342,
          0.0026574363,
          0.002720494,
          0.0033735926,
          0.0037294189,
          0.0043622493,
          0.0044906167,
          0.0046775383,
          0.005760781,
          0.0063643344,
          0.0051662363,
          0.004884728,
          0.0038465264,
          0.0036551007,
          0.0034389026,
          0.0030808244,
          0.0030222707,
          0.002790308,
          0.0028533658,
          0.003004254,
          0.003004254,
          0.0037564437,
          0.004738344,
          0.0034636753,
          0.0027047296,
          0.0026326636,
          0.0029502045,
          0.0026686965,
          0.0046595214,
          0.008087164,
          0.0063598305,
          0.0048059057,
          0.004675286,
          0.004997331,
          0.0047518564,
          0.004215865,
          0.0030628077,
          0.002297106,
          0.0018624574,
          0.0023534074,
          0.0037361751,
          0.007039954,
          0.004945534,
          0.003247477,
          0.002303862,
          0.0020043375,
          0.0024254736,
          0.0026011346,
          0.0028083245,
          0.0029569608,
          0.0036843778,
          0.004391526,
          0.003945617,
          0.0036145637,
          0.0031799152,
          0.0029907417,
          0.0024254736,
          0.0026664445,
          0.0023534074,
          0.0020516308,
          0.0018962384,
          0.0021146887,
          0.002198015,
          0.0022588207,
          0.0025763619,
          0.003096589,
          0.0042068567,
          0.0048509473,
          0.005332889,
          0.004186588,
          0.0033600803,
          0.0025290686,
          0.0022903497,
          0.0022926019,
          0.002022354,
          0.0015899576,
          0.0015043791,
          0.0014953709,
          0.0014548337,
          0.0015223956,
          0.0016822922,
          0.0015561766,
          0.0015629329,
          0.0016102262,
          0.0018782219,
          0.0017498542,
          0.0019142549,
          0.0020178498,
          0.0019457838,
          0.0022520646,
          0.0021439656,
          0.0023556596,
          0.0027407627,
          0.004159563,
          0.00607607,
          0.0036731174,
          0.0023331388,
          0.0024547505,
          0.0030537995,
          0.0035740265,
          0.004432063,
          0.0055310708,
          0.0060512973,
          0.0055580954,
          0.00467979,
          0.0033308035,
          0.0020989242,
          0.0013016934,
          0.0006868797,
          0.0009368589,
          0.0057067317,
          0.0014075404,
          0.001988573,
          0.0035830347,
          0.0066773714,
          0.007452082,
          0.0038938196,
          0.0025268164,
          0.0030200186,
          0.0032024358,
          0.004387022,
          0.0054274756,
          0.0066075576,
          0.0076840445,
          0.007711069,
          0.00879206,
          0.008967721,
          0.0033600803,
          0.0017385939,
          0.0011913421,
          0.0005089666,
          0.00023871884,
          0.00016665278,
          0.00023421472,
          0.00025223123,
          0.00063283014,
          0.0016079741,
          0.0021349571,
          0.0032542334,
          0.007075987,
          0.0050378684,
          0.00007206607,
          0.0000045041293,
          0,
          0,
          0,
          0,
          0,
          0,
          0,
          0,
          0,
          0,
          0,
          0,
          0,
          0,
          0,
          0,
          0,
          0,
          0,
          0,
          0,
          0,
          0,
          0,
          0,
          0,
          0,
          0,
          0,
          0,
          0,
          0,
          0,
          0,
          0,
          0,
          0,
          0,
          0,
          0
         ]
        }
       ],
       "layout": {
        "legend": {
         "title": {
          "text": "dirs type"
         }
        },
        "template": {
         "data": {
          "bar": [
           {
            "error_x": {
             "color": "#2a3f5f"
            },
            "error_y": {
             "color": "#2a3f5f"
            },
            "marker": {
             "line": {
              "color": "#E5ECF6",
              "width": 0.5
             },
             "pattern": {
              "fillmode": "overlay",
              "size": 10,
              "solidity": 0.2
             }
            },
            "type": "bar"
           }
          ],
          "barpolar": [
           {
            "marker": {
             "line": {
              "color": "#E5ECF6",
              "width": 0.5
             },
             "pattern": {
              "fillmode": "overlay",
              "size": 10,
              "solidity": 0.2
             }
            },
            "type": "barpolar"
           }
          ],
          "carpet": [
           {
            "aaxis": {
             "endlinecolor": "#2a3f5f",
             "gridcolor": "white",
             "linecolor": "white",
             "minorgridcolor": "white",
             "startlinecolor": "#2a3f5f"
            },
            "baxis": {
             "endlinecolor": "#2a3f5f",
             "gridcolor": "white",
             "linecolor": "white",
             "minorgridcolor": "white",
             "startlinecolor": "#2a3f5f"
            },
            "type": "carpet"
           }
          ],
          "choropleth": [
           {
            "colorbar": {
             "outlinewidth": 0,
             "ticks": ""
            },
            "type": "choropleth"
           }
          ],
          "contour": [
           {
            "colorbar": {
             "outlinewidth": 0,
             "ticks": ""
            },
            "colorscale": [
             [
              0,
              "#0d0887"
             ],
             [
              0.1111111111111111,
              "#46039f"
             ],
             [
              0.2222222222222222,
              "#7201a8"
             ],
             [
              0.3333333333333333,
              "#9c179e"
             ],
             [
              0.4444444444444444,
              "#bd3786"
             ],
             [
              0.5555555555555556,
              "#d8576b"
             ],
             [
              0.6666666666666666,
              "#ed7953"
             ],
             [
              0.7777777777777778,
              "#fb9f3a"
             ],
             [
              0.8888888888888888,
              "#fdca26"
             ],
             [
              1,
              "#f0f921"
             ]
            ],
            "type": "contour"
           }
          ],
          "contourcarpet": [
           {
            "colorbar": {
             "outlinewidth": 0,
             "ticks": ""
            },
            "type": "contourcarpet"
           }
          ],
          "heatmap": [
           {
            "colorbar": {
             "outlinewidth": 0,
             "ticks": ""
            },
            "colorscale": [
             [
              0,
              "#0d0887"
             ],
             [
              0.1111111111111111,
              "#46039f"
             ],
             [
              0.2222222222222222,
              "#7201a8"
             ],
             [
              0.3333333333333333,
              "#9c179e"
             ],
             [
              0.4444444444444444,
              "#bd3786"
             ],
             [
              0.5555555555555556,
              "#d8576b"
             ],
             [
              0.6666666666666666,
              "#ed7953"
             ],
             [
              0.7777777777777778,
              "#fb9f3a"
             ],
             [
              0.8888888888888888,
              "#fdca26"
             ],
             [
              1,
              "#f0f921"
             ]
            ],
            "type": "heatmap"
           }
          ],
          "heatmapgl": [
           {
            "colorbar": {
             "outlinewidth": 0,
             "ticks": ""
            },
            "colorscale": [
             [
              0,
              "#0d0887"
             ],
             [
              0.1111111111111111,
              "#46039f"
             ],
             [
              0.2222222222222222,
              "#7201a8"
             ],
             [
              0.3333333333333333,
              "#9c179e"
             ],
             [
              0.4444444444444444,
              "#bd3786"
             ],
             [
              0.5555555555555556,
              "#d8576b"
             ],
             [
              0.6666666666666666,
              "#ed7953"
             ],
             [
              0.7777777777777778,
              "#fb9f3a"
             ],
             [
              0.8888888888888888,
              "#fdca26"
             ],
             [
              1,
              "#f0f921"
             ]
            ],
            "type": "heatmapgl"
           }
          ],
          "histogram": [
           {
            "marker": {
             "pattern": {
              "fillmode": "overlay",
              "size": 10,
              "solidity": 0.2
             }
            },
            "type": "histogram"
           }
          ],
          "histogram2d": [
           {
            "colorbar": {
             "outlinewidth": 0,
             "ticks": ""
            },
            "colorscale": [
             [
              0,
              "#0d0887"
             ],
             [
              0.1111111111111111,
              "#46039f"
             ],
             [
              0.2222222222222222,
              "#7201a8"
             ],
             [
              0.3333333333333333,
              "#9c179e"
             ],
             [
              0.4444444444444444,
              "#bd3786"
             ],
             [
              0.5555555555555556,
              "#d8576b"
             ],
             [
              0.6666666666666666,
              "#ed7953"
             ],
             [
              0.7777777777777778,
              "#fb9f3a"
             ],
             [
              0.8888888888888888,
              "#fdca26"
             ],
             [
              1,
              "#f0f921"
             ]
            ],
            "type": "histogram2d"
           }
          ],
          "histogram2dcontour": [
           {
            "colorbar": {
             "outlinewidth": 0,
             "ticks": ""
            },
            "colorscale": [
             [
              0,
              "#0d0887"
             ],
             [
              0.1111111111111111,
              "#46039f"
             ],
             [
              0.2222222222222222,
              "#7201a8"
             ],
             [
              0.3333333333333333,
              "#9c179e"
             ],
             [
              0.4444444444444444,
              "#bd3786"
             ],
             [
              0.5555555555555556,
              "#d8576b"
             ],
             [
              0.6666666666666666,
              "#ed7953"
             ],
             [
              0.7777777777777778,
              "#fb9f3a"
             ],
             [
              0.8888888888888888,
              "#fdca26"
             ],
             [
              1,
              "#f0f921"
             ]
            ],
            "type": "histogram2dcontour"
           }
          ],
          "mesh3d": [
           {
            "colorbar": {
             "outlinewidth": 0,
             "ticks": ""
            },
            "type": "mesh3d"
           }
          ],
          "parcoords": [
           {
            "line": {
             "colorbar": {
              "outlinewidth": 0,
              "ticks": ""
             }
            },
            "type": "parcoords"
           }
          ],
          "pie": [
           {
            "automargin": true,
            "type": "pie"
           }
          ],
          "scatter": [
           {
            "fillpattern": {
             "fillmode": "overlay",
             "size": 10,
             "solidity": 0.2
            },
            "type": "scatter"
           }
          ],
          "scatter3d": [
           {
            "line": {
             "colorbar": {
              "outlinewidth": 0,
              "ticks": ""
             }
            },
            "marker": {
             "colorbar": {
              "outlinewidth": 0,
              "ticks": ""
             }
            },
            "type": "scatter3d"
           }
          ],
          "scattercarpet": [
           {
            "marker": {
             "colorbar": {
              "outlinewidth": 0,
              "ticks": ""
             }
            },
            "type": "scattercarpet"
           }
          ],
          "scattergeo": [
           {
            "marker": {
             "colorbar": {
              "outlinewidth": 0,
              "ticks": ""
             }
            },
            "type": "scattergeo"
           }
          ],
          "scattergl": [
           {
            "marker": {
             "colorbar": {
              "outlinewidth": 0,
              "ticks": ""
             }
            },
            "type": "scattergl"
           }
          ],
          "scattermapbox": [
           {
            "marker": {
             "colorbar": {
              "outlinewidth": 0,
              "ticks": ""
             }
            },
            "type": "scattermapbox"
           }
          ],
          "scatterpolar": [
           {
            "marker": {
             "colorbar": {
              "outlinewidth": 0,
              "ticks": ""
             }
            },
            "type": "scatterpolar"
           }
          ],
          "scatterpolargl": [
           {
            "marker": {
             "colorbar": {
              "outlinewidth": 0,
              "ticks": ""
             }
            },
            "type": "scatterpolargl"
           }
          ],
          "scatterternary": [
           {
            "marker": {
             "colorbar": {
              "outlinewidth": 0,
              "ticks": ""
             }
            },
            "type": "scatterternary"
           }
          ],
          "surface": [
           {
            "colorbar": {
             "outlinewidth": 0,
             "ticks": ""
            },
            "colorscale": [
             [
              0,
              "#0d0887"
             ],
             [
              0.1111111111111111,
              "#46039f"
             ],
             [
              0.2222222222222222,
              "#7201a8"
             ],
             [
              0.3333333333333333,
              "#9c179e"
             ],
             [
              0.4444444444444444,
              "#bd3786"
             ],
             [
              0.5555555555555556,
              "#d8576b"
             ],
             [
              0.6666666666666666,
              "#ed7953"
             ],
             [
              0.7777777777777778,
              "#fb9f3a"
             ],
             [
              0.8888888888888888,
              "#fdca26"
             ],
             [
              1,
              "#f0f921"
             ]
            ],
            "type": "surface"
           }
          ],
          "table": [
           {
            "cells": {
             "fill": {
              "color": "#EBF0F8"
             },
             "line": {
              "color": "white"
             }
            },
            "header": {
             "fill": {
              "color": "#C8D4E3"
             },
             "line": {
              "color": "white"
             }
            },
            "type": "table"
           }
          ]
         },
         "layout": {
          "annotationdefaults": {
           "arrowcolor": "#2a3f5f",
           "arrowhead": 0,
           "arrowwidth": 1
          },
          "autotypenumbers": "strict",
          "coloraxis": {
           "colorbar": {
            "outlinewidth": 0,
            "ticks": ""
           }
          },
          "colorscale": {
           "diverging": [
            [
             0,
             "#8e0152"
            ],
            [
             0.1,
             "#c51b7d"
            ],
            [
             0.2,
             "#de77ae"
            ],
            [
             0.3,
             "#f1b6da"
            ],
            [
             0.4,
             "#fde0ef"
            ],
            [
             0.5,
             "#f7f7f7"
            ],
            [
             0.6,
             "#e6f5d0"
            ],
            [
             0.7,
             "#b8e186"
            ],
            [
             0.8,
             "#7fbc41"
            ],
            [
             0.9,
             "#4d9221"
            ],
            [
             1,
             "#276419"
            ]
           ],
           "sequential": [
            [
             0,
             "#0d0887"
            ],
            [
             0.1111111111111111,
             "#46039f"
            ],
            [
             0.2222222222222222,
             "#7201a8"
            ],
            [
             0.3333333333333333,
             "#9c179e"
            ],
            [
             0.4444444444444444,
             "#bd3786"
            ],
            [
             0.5555555555555556,
             "#d8576b"
            ],
            [
             0.6666666666666666,
             "#ed7953"
            ],
            [
             0.7777777777777778,
             "#fb9f3a"
            ],
            [
             0.8888888888888888,
             "#fdca26"
            ],
            [
             1,
             "#f0f921"
            ]
           ],
           "sequentialminus": [
            [
             0,
             "#0d0887"
            ],
            [
             0.1111111111111111,
             "#46039f"
            ],
            [
             0.2222222222222222,
             "#7201a8"
            ],
            [
             0.3333333333333333,
             "#9c179e"
            ],
            [
             0.4444444444444444,
             "#bd3786"
            ],
            [
             0.5555555555555556,
             "#d8576b"
            ],
            [
             0.6666666666666666,
             "#ed7953"
            ],
            [
             0.7777777777777778,
             "#fb9f3a"
            ],
            [
             0.8888888888888888,
             "#fdca26"
            ],
            [
             1,
             "#f0f921"
            ]
           ]
          },
          "colorway": [
           "#636efa",
           "#EF553B",
           "#00cc96",
           "#ab63fa",
           "#FFA15A",
           "#19d3f3",
           "#FF6692",
           "#B6E880",
           "#FF97FF",
           "#FECB52"
          ],
          "font": {
           "color": "#2a3f5f"
          },
          "geo": {
           "bgcolor": "white",
           "lakecolor": "white",
           "landcolor": "#E5ECF6",
           "showlakes": true,
           "showland": true,
           "subunitcolor": "white"
          },
          "hoverlabel": {
           "align": "left"
          },
          "hovermode": "closest",
          "mapbox": {
           "style": "light"
          },
          "paper_bgcolor": "white",
          "plot_bgcolor": "#E5ECF6",
          "polar": {
           "angularaxis": {
            "gridcolor": "white",
            "linecolor": "white",
            "ticks": ""
           },
           "bgcolor": "#E5ECF6",
           "radialaxis": {
            "gridcolor": "white",
            "linecolor": "white",
            "ticks": ""
           }
          },
          "scene": {
           "xaxis": {
            "backgroundcolor": "#E5ECF6",
            "gridcolor": "white",
            "gridwidth": 2,
            "linecolor": "white",
            "showbackground": true,
            "ticks": "",
            "zerolinecolor": "white"
           },
           "yaxis": {
            "backgroundcolor": "#E5ECF6",
            "gridcolor": "white",
            "gridwidth": 2,
            "linecolor": "white",
            "showbackground": true,
            "ticks": "",
            "zerolinecolor": "white"
           },
           "zaxis": {
            "backgroundcolor": "#E5ECF6",
            "gridcolor": "white",
            "gridwidth": 2,
            "linecolor": "white",
            "showbackground": true,
            "ticks": "",
            "zerolinecolor": "white"
           }
          },
          "shapedefaults": {
           "line": {
            "color": "#2a3f5f"
           }
          },
          "ternary": {
           "aaxis": {
            "gridcolor": "white",
            "linecolor": "white",
            "ticks": ""
           },
           "baxis": {
            "gridcolor": "white",
            "linecolor": "white",
            "ticks": ""
           },
           "bgcolor": "#E5ECF6",
           "caxis": {
            "gridcolor": "white",
            "linecolor": "white",
            "ticks": ""
           }
          },
          "title": {
           "x": 0.05
          },
          "xaxis": {
           "automargin": true,
           "gridcolor": "white",
           "linecolor": "white",
           "ticks": "",
           "title": {
            "standoff": 15
           },
           "zerolinecolor": "white",
           "zerolinewidth": 2
          },
          "yaxis": {
           "automargin": true,
           "gridcolor": "white",
           "linecolor": "white",
           "ticks": "",
           "title": {
            "standoff": 15
           },
           "zerolinecolor": "white",
           "zerolinewidth": 2
          }
         }
        },
        "title": {
         "text": "distribution of convexity score between activations set to 1% and 95%<br>(layer 11, 98 dirs per type, 12k tokens)"
        },
        "xaxis": {
         "title": {
          "text": "convexity score"
         }
        },
        "yaxis": {
         "title": {
          "text": "density"
         }
        }
       }
      },
      "text/html": [
       "<div>                            <div id=\"22074ed1-485f-49ed-90a0-84cf418cb1d5\" class=\"plotly-graph-div\" style=\"height:525px; width:100%;\"></div>            <script type=\"text/javascript\">                require([\"plotly\"], function(Plotly) {                    window.PLOTLYENV=window.PLOTLYENV || {};                                    if (document.getElementById(\"22074ed1-485f-49ed-90a0-84cf418cb1d5\")) {                    Plotly.newPlot(                        \"22074ed1-485f-49ed-90a0-84cf418cb1d5\",                        [{\"fill\":\"tozeroy\",\"fillcolor\":\"rgba(0, 255, 0, 0.2)\",\"line\":{\"color\":\"rgb(0, 255, 0)\",\"width\":2},\"name\":\"random\",\"x\":[0.0,0.010101010101010102,0.020202020202020204,0.030303030303030304,0.04040404040404041,0.05050505050505051,0.06060606060606061,0.07070707070707072,0.08080808080808081,0.09090909090909091,0.10101010101010102,0.11111111111111112,0.12121212121212122,0.13131313131313133,0.14141414141414144,0.15151515151515152,0.16161616161616163,0.17171717171717174,0.18181818181818182,0.19191919191919193,0.20202020202020204,0.21212121212121213,0.22222222222222224,0.23232323232323235,0.24242424242424243,0.25252525252525254,0.26262626262626265,0.27272727272727276,0.2828282828282829,0.29292929292929293,0.30303030303030304,0.31313131313131315,0.32323232323232326,0.33333333333333337,0.3434343434343435,0.3535353535353536,0.36363636363636365,0.37373737373737376,0.38383838383838387,0.393939393939394,0.4040404040404041,0.4141414141414142,0.42424242424242425,0.43434343434343436,0.4444444444444445,0.4545454545454546,0.4646464646464647,0.4747474747474748,0.48484848484848486,0.494949494949495,0.5050505050505051,0.5151515151515152,0.5252525252525253,0.5353535353535354,0.5454545454545455,0.5555555555555556,0.5656565656565657,0.5757575757575758,0.5858585858585859,0.595959595959596,0.6060606060606061,0.6161616161616162,0.6262626262626263,0.6363636363636365,0.6464646464646465,0.6565656565656566,0.6666666666666667,0.6767676767676768,0.686868686868687,0.696969696969697,0.7070707070707072,0.7171717171717172,0.7272727272727273,0.7373737373737375,0.7474747474747475,0.7575757575757577,0.7676767676767677,0.7777777777777778,0.787878787878788,0.797979797979798,0.8080808080808082,0.8181818181818182,0.8282828282828284,0.8383838383838385,0.8484848484848485,0.8585858585858587,0.8686868686868687,0.8787878787878789,0.888888888888889,0.8989898989898991,0.9090909090909092,0.9191919191919192,0.9292929292929294,0.9393939393939394,0.9494949494949496,0.9595959595959597,0.9696969696969697,0.9797979797979799,0.98989898989899,1.0],\"y\":[0.0,0.0,0.0000045041293,0.0,0.0000067561937,0.000011260323,0.000018016517,0.0000045041293,0.000011260323,0.000018016517,0.000031528903,0.00005855368,0.00011035117,0.00017340897,0.000279256,0.0003175411,0.00032654937,0.0002860122,0.0002724998,0.0002860122,0.0003423138,0.0003445659,0.0003513221,0.00044365673,0.0005787806,0.0005359914,0.0005652682,0.000488698,0.0004774377,0.00062382186,0.0007994829,0.00047293355,0.00046167325,0.000558512,0.00072741683,0.0004391526,0.00050446246,0.00054725166,0.0005269831,0.00063958636,0.00061931775,0.0006463425,0.0006846276,0.00075444166,0.00072741683,0.00070039206,0.000871549,0.00081524736,0.0008602887,0.0008850614,0.00090082583,0.0009728919,0.00089181756,0.0010336976,0.0010899992,0.0010652265,0.0010742348,0.001119276,0.0010697307,0.0012003505,0.0012476437,0.0012341314,0.0011913421,0.0013219619,0.0012656603,0.001290433,0.001220619,0.0012566521,0.0012544,0.0011890901,0.0012949371,0.0013287182,0.0012949371,0.0013624991,0.0016192344,0.001466094,0.0014458254,0.0014953709,0.0016913005,0.0016462592,0.0019773126,0.0018354326,0.0016710319,0.0016980567,0.0018444409,0.0016913005,0.0016980567,0.0020516308,0.001637251,0.0019277673,0.001779131,0.0015314039,0.002125949,0.0025178082,0.001779131,0.001675536,0.0016935526,0.0020065894,0.0016462592,0.0020043375,0.0018962384,0.0021327052,0.0025200602,0.0019435317,0.0017273335,0.0017588624,0.0023601637,0.0020809076,0.001709317,0.0017250815,0.0021327052,0.001986321,0.0020336143,0.0015989658,0.0017250815,0.0017318376,0.0019142549,0.002089916,0.001988573,0.001740846,0.001675536,0.0016327468,0.0014525816,0.0017678707,0.0017025608,0.0014931188,0.0019975812,0.0016462592,0.0020110938,0.0017318376,0.0017025608,0.0017656187,0.0016597715,0.0015809493,0.0015584287,0.0016665278,0.0016417551,0.0013850197,0.0016124783,0.0013557429,0.0015291518,0.0019322714,0.0010562183,0.0011598133,0.0011598133,0.0011372926,0.0013985321,0.0010246894,0.0010021687,0.001119276,0.0009909084,0.0012116107,0.0009233465,0.0016485113,0.0012138628,0.0012341314,0.000941363,0.0018106599,0.001466094,0.0009706398,0.0011530571,0.0011463009,0.0011035117,0.0011305364,0.0011035117,0.0012048546,0.0012589041,0.0013152057,0.0012498959,0.001357995,0.0013467346,0.001357995,0.0016710319,0.0013917759,0.0015291518,0.0017611145,0.0019052466,0.0023196265,0.0020831598,0.002024606,0.002026858,0.0017566103,0.0015786972,0.0012363835,0.0012408876,0.0011215282,0.0010854951,0.0012363835,0.001080991,0.0010269415,0.0010854951,0.0011147719,0.0012634082,0.001186838,0.0011733257,0.0012183669,0.0014345652,0.0012048546,0.0018444409,0.0012161148,0.0014052883,0.0014728502,0.0015494204,0.002015598,0.0016349988,0.0018782219,0.0019007425,0.0013782636,0.0013670032,0.0009841522,0.0009616316,0.0008895655,0.00087380107,0.000837768,0.00072741683,0.00073417305,0.0008265077,0.000801735,0.00079723087,0.00090532994,0.0009481192,0.00096388365,0.001466094,0.0012836768,0.0013805156,0.0017656187,0.0019345235,0.002965969,0.003035783,0.0026236551,0.0029884898,0.0020831598,0.0025200602,0.0026777047,0.002297106,0.0031821672,0.0030718162,0.0033758448,0.0031191094,0.0027002255,0.0024524983,0.0024862792,0.002297106,0.00230161,0.0030492954,0.0025988824,0.002758779,0.0030718162,0.002819585,0.003105597,0.0036438406,0.0035605142,0.0038240056,0.004049212,0.0028398535,0.0030718162,0.0026236551,0.002407457,0.0023511555,0.0024367338,0.0024547505,0.0026033868,0.002511052,0.0025831182,0.0028330972,0.0028443576,0.0030267749,0.0029704731,0.0031438821,0.0030132623,0.0030065062,0.003247477,0.0041573113,0.0047946456,0.0036010512,0.0026934692,0.002614647,0.0024502464,0.0026214032,0.0024952875,0.0028803905,0.002965969,0.0037834684,0.0037767123,0.0047270837,0.005893653,0.0050333645,0.0045176414,0.0039478694,0.0035492538,0.0032001839,0.002754275,0.0023894405,0.0023826843,0.0019457838,0.0021169407,0.0016507633,0.0014052883,0.0011980984,0.0011305364,0.0010899992,0.0008940696,0.000801735,0.0007431813,0.0006868797,0.0012453917,0.0020020853,0.0025088,0.0021349571,0.0026214032,0.0037519396,0.0026664445,0.0017926435,0.0014030362,0.0021011762,0.0015606808,0.002022354,0.0021642342,0.0026574363,0.002720494,0.0033735926,0.0037294189,0.0043622493,0.0044906167,0.0046775383,0.005760781,0.0063643344,0.0051662363,0.004884728,0.0038465264,0.0036551007,0.0034389026,0.0030808244,0.0030222707,0.002790308,0.0028533658,0.003004254,0.003004254,0.0037564437,0.004738344,0.0034636753,0.0027047296,0.0026326636,0.0029502045,0.0026686965,0.0046595214,0.008087164,0.0063598305,0.0048059057,0.004675286,0.004997331,0.0047518564,0.004215865,0.0030628077,0.002297106,0.0018624574,0.0023534074,0.0037361751,0.007039954,0.004945534,0.003247477,0.002303862,0.0020043375,0.0024254736,0.0026011346,0.0028083245,0.0029569608,0.0036843778,0.004391526,0.003945617,0.0036145637,0.0031799152,0.0029907417,0.0024254736,0.0026664445,0.0023534074,0.0020516308,0.0018962384,0.0021146887,0.002198015,0.0022588207,0.0025763619,0.003096589,0.0042068567,0.0048509473,0.005332889,0.004186588,0.0033600803,0.0025290686,0.0022903497,0.0022926019,0.002022354,0.0015899576,0.0015043791,0.0014953709,0.0014548337,0.0015223956,0.0016822922,0.0015561766,0.0015629329,0.0016102262,0.0018782219,0.0017498542,0.0019142549,0.0020178498,0.0019457838,0.0022520646,0.0021439656,0.0023556596,0.0027407627,0.004159563,0.00607607,0.0036731174,0.0023331388,0.0024547505,0.0030537995,0.0035740265,0.004432063,0.0055310708,0.0060512973,0.0055580954,0.00467979,0.0033308035,0.0020989242,0.0013016934,0.0006868797,0.0009368589,0.0057067317,0.0014075404,0.001988573,0.0035830347,0.0066773714,0.007452082,0.0038938196,0.0025268164,0.0030200186,0.0032024358,0.004387022,0.0054274756,0.0066075576,0.0076840445,0.007711069,0.00879206,0.008967721,0.0033600803,0.0017385939,0.0011913421,0.0005089666,0.00023871884,0.00016665278,0.00023421472,0.00025223123,0.00063283014,0.0016079741,0.0021349571,0.0032542334,0.007075987,0.0050378684,0.00007206607,0.0000045041293,0.0,0.0,0.0,0.0,0.0,0.0,0.0,0.0,0.0,0.0,0.0,0.0,0.0,0.0,0.0,0.0,0.0,0.0,0.0,0.0,0.0,0.0,0.0,0.0,0.0,0.0,0.0,0.0,0.0,0.0,0.0,0.0,0.0,0.0,0.0,0.0,0.0,0.0,0.0,0.0],\"type\":\"scatter\"}],                        {\"template\":{\"data\":{\"histogram2dcontour\":[{\"type\":\"histogram2dcontour\",\"colorbar\":{\"outlinewidth\":0,\"ticks\":\"\"},\"colorscale\":[[0.0,\"#0d0887\"],[0.1111111111111111,\"#46039f\"],[0.2222222222222222,\"#7201a8\"],[0.3333333333333333,\"#9c179e\"],[0.4444444444444444,\"#bd3786\"],[0.5555555555555556,\"#d8576b\"],[0.6666666666666666,\"#ed7953\"],[0.7777777777777778,\"#fb9f3a\"],[0.8888888888888888,\"#fdca26\"],[1.0,\"#f0f921\"]]}],\"choropleth\":[{\"type\":\"choropleth\",\"colorbar\":{\"outlinewidth\":0,\"ticks\":\"\"}}],\"histogram2d\":[{\"type\":\"histogram2d\",\"colorbar\":{\"outlinewidth\":0,\"ticks\":\"\"},\"colorscale\":[[0.0,\"#0d0887\"],[0.1111111111111111,\"#46039f\"],[0.2222222222222222,\"#7201a8\"],[0.3333333333333333,\"#9c179e\"],[0.4444444444444444,\"#bd3786\"],[0.5555555555555556,\"#d8576b\"],[0.6666666666666666,\"#ed7953\"],[0.7777777777777778,\"#fb9f3a\"],[0.8888888888888888,\"#fdca26\"],[1.0,\"#f0f921\"]]}],\"heatmap\":[{\"type\":\"heatmap\",\"colorbar\":{\"outlinewidth\":0,\"ticks\":\"\"},\"colorscale\":[[0.0,\"#0d0887\"],[0.1111111111111111,\"#46039f\"],[0.2222222222222222,\"#7201a8\"],[0.3333333333333333,\"#9c179e\"],[0.4444444444444444,\"#bd3786\"],[0.5555555555555556,\"#d8576b\"],[0.6666666666666666,\"#ed7953\"],[0.7777777777777778,\"#fb9f3a\"],[0.8888888888888888,\"#fdca26\"],[1.0,\"#f0f921\"]]}],\"heatmapgl\":[{\"type\":\"heatmapgl\",\"colorbar\":{\"outlinewidth\":0,\"ticks\":\"\"},\"colorscale\":[[0.0,\"#0d0887\"],[0.1111111111111111,\"#46039f\"],[0.2222222222222222,\"#7201a8\"],[0.3333333333333333,\"#9c179e\"],[0.4444444444444444,\"#bd3786\"],[0.5555555555555556,\"#d8576b\"],[0.6666666666666666,\"#ed7953\"],[0.7777777777777778,\"#fb9f3a\"],[0.8888888888888888,\"#fdca26\"],[1.0,\"#f0f921\"]]}],\"contourcarpet\":[{\"type\":\"contourcarpet\",\"colorbar\":{\"outlinewidth\":0,\"ticks\":\"\"}}],\"contour\":[{\"type\":\"contour\",\"colorbar\":{\"outlinewidth\":0,\"ticks\":\"\"},\"colorscale\":[[0.0,\"#0d0887\"],[0.1111111111111111,\"#46039f\"],[0.2222222222222222,\"#7201a8\"],[0.3333333333333333,\"#9c179e\"],[0.4444444444444444,\"#bd3786\"],[0.5555555555555556,\"#d8576b\"],[0.6666666666666666,\"#ed7953\"],[0.7777777777777778,\"#fb9f3a\"],[0.8888888888888888,\"#fdca26\"],[1.0,\"#f0f921\"]]}],\"surface\":[{\"type\":\"surface\",\"colorbar\":{\"outlinewidth\":0,\"ticks\":\"\"},\"colorscale\":[[0.0,\"#0d0887\"],[0.1111111111111111,\"#46039f\"],[0.2222222222222222,\"#7201a8\"],[0.3333333333333333,\"#9c179e\"],[0.4444444444444444,\"#bd3786\"],[0.5555555555555556,\"#d8576b\"],[0.6666666666666666,\"#ed7953\"],[0.7777777777777778,\"#fb9f3a\"],[0.8888888888888888,\"#fdca26\"],[1.0,\"#f0f921\"]]}],\"mesh3d\":[{\"type\":\"mesh3d\",\"colorbar\":{\"outlinewidth\":0,\"ticks\":\"\"}}],\"scatter\":[{\"fillpattern\":{\"fillmode\":\"overlay\",\"size\":10,\"solidity\":0.2},\"type\":\"scatter\"}],\"parcoords\":[{\"type\":\"parcoords\",\"line\":{\"colorbar\":{\"outlinewidth\":0,\"ticks\":\"\"}}}],\"scatterpolargl\":[{\"type\":\"scatterpolargl\",\"marker\":{\"colorbar\":{\"outlinewidth\":0,\"ticks\":\"\"}}}],\"bar\":[{\"error_x\":{\"color\":\"#2a3f5f\"},\"error_y\":{\"color\":\"#2a3f5f\"},\"marker\":{\"line\":{\"color\":\"#E5ECF6\",\"width\":0.5},\"pattern\":{\"fillmode\":\"overlay\",\"size\":10,\"solidity\":0.2}},\"type\":\"bar\"}],\"scattergeo\":[{\"type\":\"scattergeo\",\"marker\":{\"colorbar\":{\"outlinewidth\":0,\"ticks\":\"\"}}}],\"scatterpolar\":[{\"type\":\"scatterpolar\",\"marker\":{\"colorbar\":{\"outlinewidth\":0,\"ticks\":\"\"}}}],\"histogram\":[{\"marker\":{\"pattern\":{\"fillmode\":\"overlay\",\"size\":10,\"solidity\":0.2}},\"type\":\"histogram\"}],\"scattergl\":[{\"type\":\"scattergl\",\"marker\":{\"colorbar\":{\"outlinewidth\":0,\"ticks\":\"\"}}}],\"scatter3d\":[{\"type\":\"scatter3d\",\"line\":{\"colorbar\":{\"outlinewidth\":0,\"ticks\":\"\"}},\"marker\":{\"colorbar\":{\"outlinewidth\":0,\"ticks\":\"\"}}}],\"scattermapbox\":[{\"type\":\"scattermapbox\",\"marker\":{\"colorbar\":{\"outlinewidth\":0,\"ticks\":\"\"}}}],\"scatterternary\":[{\"type\":\"scatterternary\",\"marker\":{\"colorbar\":{\"outlinewidth\":0,\"ticks\":\"\"}}}],\"scattercarpet\":[{\"type\":\"scattercarpet\",\"marker\":{\"colorbar\":{\"outlinewidth\":0,\"ticks\":\"\"}}}],\"carpet\":[{\"aaxis\":{\"endlinecolor\":\"#2a3f5f\",\"gridcolor\":\"white\",\"linecolor\":\"white\",\"minorgridcolor\":\"white\",\"startlinecolor\":\"#2a3f5f\"},\"baxis\":{\"endlinecolor\":\"#2a3f5f\",\"gridcolor\":\"white\",\"linecolor\":\"white\",\"minorgridcolor\":\"white\",\"startlinecolor\":\"#2a3f5f\"},\"type\":\"carpet\"}],\"table\":[{\"cells\":{\"fill\":{\"color\":\"#EBF0F8\"},\"line\":{\"color\":\"white\"}},\"header\":{\"fill\":{\"color\":\"#C8D4E3\"},\"line\":{\"color\":\"white\"}},\"type\":\"table\"}],\"barpolar\":[{\"marker\":{\"line\":{\"color\":\"#E5ECF6\",\"width\":0.5},\"pattern\":{\"fillmode\":\"overlay\",\"size\":10,\"solidity\":0.2}},\"type\":\"barpolar\"}],\"pie\":[{\"automargin\":true,\"type\":\"pie\"}]},\"layout\":{\"autotypenumbers\":\"strict\",\"colorway\":[\"#636efa\",\"#EF553B\",\"#00cc96\",\"#ab63fa\",\"#FFA15A\",\"#19d3f3\",\"#FF6692\",\"#B6E880\",\"#FF97FF\",\"#FECB52\"],\"font\":{\"color\":\"#2a3f5f\"},\"hovermode\":\"closest\",\"hoverlabel\":{\"align\":\"left\"},\"paper_bgcolor\":\"white\",\"plot_bgcolor\":\"#E5ECF6\",\"polar\":{\"bgcolor\":\"#E5ECF6\",\"angularaxis\":{\"gridcolor\":\"white\",\"linecolor\":\"white\",\"ticks\":\"\"},\"radialaxis\":{\"gridcolor\":\"white\",\"linecolor\":\"white\",\"ticks\":\"\"}},\"ternary\":{\"bgcolor\":\"#E5ECF6\",\"aaxis\":{\"gridcolor\":\"white\",\"linecolor\":\"white\",\"ticks\":\"\"},\"baxis\":{\"gridcolor\":\"white\",\"linecolor\":\"white\",\"ticks\":\"\"},\"caxis\":{\"gridcolor\":\"white\",\"linecolor\":\"white\",\"ticks\":\"\"}},\"coloraxis\":{\"colorbar\":{\"outlinewidth\":0,\"ticks\":\"\"}},\"colorscale\":{\"sequential\":[[0.0,\"#0d0887\"],[0.1111111111111111,\"#46039f\"],[0.2222222222222222,\"#7201a8\"],[0.3333333333333333,\"#9c179e\"],[0.4444444444444444,\"#bd3786\"],[0.5555555555555556,\"#d8576b\"],[0.6666666666666666,\"#ed7953\"],[0.7777777777777778,\"#fb9f3a\"],[0.8888888888888888,\"#fdca26\"],[1.0,\"#f0f921\"]],\"sequentialminus\":[[0.0,\"#0d0887\"],[0.1111111111111111,\"#46039f\"],[0.2222222222222222,\"#7201a8\"],[0.3333333333333333,\"#9c179e\"],[0.4444444444444444,\"#bd3786\"],[0.5555555555555556,\"#d8576b\"],[0.6666666666666666,\"#ed7953\"],[0.7777777777777778,\"#fb9f3a\"],[0.8888888888888888,\"#fdca26\"],[1.0,\"#f0f921\"]],\"diverging\":[[0,\"#8e0152\"],[0.1,\"#c51b7d\"],[0.2,\"#de77ae\"],[0.3,\"#f1b6da\"],[0.4,\"#fde0ef\"],[0.5,\"#f7f7f7\"],[0.6,\"#e6f5d0\"],[0.7,\"#b8e186\"],[0.8,\"#7fbc41\"],[0.9,\"#4d9221\"],[1,\"#276419\"]]},\"xaxis\":{\"gridcolor\":\"white\",\"linecolor\":\"white\",\"ticks\":\"\",\"title\":{\"standoff\":15},\"zerolinecolor\":\"white\",\"automargin\":true,\"zerolinewidth\":2},\"yaxis\":{\"gridcolor\":\"white\",\"linecolor\":\"white\",\"ticks\":\"\",\"title\":{\"standoff\":15},\"zerolinecolor\":\"white\",\"automargin\":true,\"zerolinewidth\":2},\"scene\":{\"xaxis\":{\"backgroundcolor\":\"#E5ECF6\",\"gridcolor\":\"white\",\"linecolor\":\"white\",\"showbackground\":true,\"ticks\":\"\",\"zerolinecolor\":\"white\",\"gridwidth\":2},\"yaxis\":{\"backgroundcolor\":\"#E5ECF6\",\"gridcolor\":\"white\",\"linecolor\":\"white\",\"showbackground\":true,\"ticks\":\"\",\"zerolinecolor\":\"white\",\"gridwidth\":2},\"zaxis\":{\"backgroundcolor\":\"#E5ECF6\",\"gridcolor\":\"white\",\"linecolor\":\"white\",\"showbackground\":true,\"ticks\":\"\",\"zerolinecolor\":\"white\",\"gridwidth\":2}},\"shapedefaults\":{\"line\":{\"color\":\"#2a3f5f\"}},\"annotationdefaults\":{\"arrowcolor\":\"#2a3f5f\",\"arrowhead\":0,\"arrowwidth\":1},\"geo\":{\"bgcolor\":\"white\",\"landcolor\":\"#E5ECF6\",\"subunitcolor\":\"white\",\"showland\":true,\"showlakes\":true,\"lakecolor\":\"white\"},\"title\":{\"x\":0.05},\"mapbox\":{\"style\":\"light\"}}},\"title\":{\"text\":\"distribution of convexity score between activations set to 1% and 95%\\u003cbr\\u003e(layer 11, 98 dirs per type, 12k tokens)\"},\"xaxis\":{\"title\":{\"text\":\"convexity score\"}},\"yaxis\":{\"title\":{\"text\":\"density\"}},\"legend\":{\"title\":{\"text\":\"dirs type\"}}},                        {\"responsive\": true}                    ).then(function(){\n",
       "                            \n",
       "var gd = document.getElementById('22074ed1-485f-49ed-90a0-84cf418cb1d5');\n",
       "var x = new MutationObserver(function (mutations, observer) {{\n",
       "        var display = window.getComputedStyle(gd).display;\n",
       "        if (!display || display === 'none') {{\n",
       "            console.log([gd, 'removed!']);\n",
       "            Plotly.purge(gd);\n",
       "            observer.disconnect();\n",
       "        }}\n",
       "}});\n",
       "\n",
       "// Listen for the removal of the full notebook cells\n",
       "var notebookContainer = gd.closest('#notebook-container');\n",
       "if (notebookContainer) {{\n",
       "    x.observe(notebookContainer, {childList: true});\n",
       "}}\n",
       "\n",
       "// Listen for the clearing of the current output cell\n",
       "var outputEl = gd.closest('.output');\n",
       "if (outputEl) {{\n",
       "    x.observe(outputEl, {childList: true});\n",
       "}}\n",
       "\n",
       "                        })                };                });            </script>        </div>"
      ]
     },
     "metadata": {},
     "output_type": "display_data"
    }
   ],
   "source": [
    "cvx_hist = sum(\n",
    "    torch.histogram(\n",
    "        dir.res_by_metric[metric.jsd_metric].cvx_score,\n",
    "        bins=exctx.mm_hist_bins,\n",
    "        range=(0.0, 1.0),\n",
    "    )[0]\n",
    "    for dir in dirs\n",
    ")\n",
    "cvx_hist_by_name = {\n",
    "    \"random\": cvx_hist,\n",
    "}\n",
    "plot_hist(cvx_hist_by_name, color_by_name, \"convexity score\")"
   ]
  },
  {
   "cell_type": "code",
   "execution_count": null,
   "metadata": {},
   "outputs": [],
   "source": []
  }
 ],
 "metadata": {
  "kernelspec": {
   "display_name": ".venv",
   "language": "python",
   "name": "python3"
  },
  "language_info": {
   "codemirror_mode": {
    "name": "ipython",
    "version": 3
   },
   "file_extension": ".py",
   "mimetype": "text/x-python",
   "name": "python",
   "nbconvert_exporter": "python",
   "pygments_lexer": "ipython3",
   "version": "3.10.14"
  }
 },
 "nbformat": 4,
 "nbformat_minor": 2
}
