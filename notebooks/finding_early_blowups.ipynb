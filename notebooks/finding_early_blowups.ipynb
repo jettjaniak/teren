{
 "cells": [
  {
   "cell_type": "code",
   "execution_count": 1,
   "metadata": {},
   "outputs": [],
   "source": [
    "import pandas as pd\n",
    "import numpy as np\n",
    "from glob import glob\n",
    "from scipy import stats\n",
    "from sae_lens.toolkit.pretrained_saes import get_gpt2_res_jb_saes\n",
    "import json\n",
    "import random\n",
    "import matplotlib.pyplot as plt\n",
    "from typing import List, Dict, Tuple\n",
    "from transformer_lens import HookedTransformer\n",
    "import torch\n",
    "from jaxtyping import Float, Int\n",
    "from collections import defaultdict\n",
    "from sklearn.decomposition import TruncatedSVD\n",
    "import itertools\n",
    "import torch.nn.functional as F\n",
    "import math\n",
    "import seaborn as sns"
   ]
  },
  {
   "cell_type": "markdown",
   "metadata": {},
   "source": [
    "## Setup"
   ]
  },
  {
   "cell_type": "code",
   "execution_count": 2,
   "metadata": {},
   "outputs": [],
   "source": [
    "def get_device_str() -> str:\n",
    "    if torch.backends.mps.is_available():\n",
    "        return \"mps\"\n",
    "    else:\n",
    "        return \"cuda\" if torch.cuda.is_available() else \"cpu\"\n",
    "\n",
    "\n",
    "def comp_js_divergence(\n",
    "    p_logit: Float[torch.Tensor, \"*batch vocab\"],\n",
    "    q_logit: Float[torch.Tensor, \"*batch vocab\"],\n",
    ") -> Float[torch.Tensor, \"*batch\"]:\n",
    "    p_logprob = torch.log_softmax(p_logit, dim=-1)\n",
    "    q_logprob = torch.log_softmax(q_logit, dim=-1)\n",
    "    p = p_logprob.exp()\n",
    "    q = q_logprob.exp()\n",
    "\n",
    "    # convert to log2\n",
    "    p_logprob *= math.log2(math.e)\n",
    "    q_logprob *= math.log2(math.e)\n",
    "\n",
    "    m = 0.5 * (p + q)\n",
    "    m_logprob = m.log2()\n",
    "\n",
    "    p_kl_div = (p * (p_logprob - m_logprob)).sum(-1)\n",
    "    q_kl_div = (q * (q_logprob - m_logprob)).sum(-1)\n",
    "\n",
    "    assert p_kl_div.isfinite().all()\n",
    "    assert q_kl_div.isfinite().all()\n",
    "    return (p_kl_div + q_kl_div) / 2\n",
    "\n",
    "\n",
    "def find_js_dist_blowup_max_slope(\n",
    "    js_dists: List[float], min_slope_threshold: float = 0.02\n",
    "):\n",
    "    steps = list(range(len(js_dists)))\n",
    "\n",
    "    slopes = []\n",
    "    for i in range(1, len(steps)):\n",
    "        dy = js_dists[i] - js_dists[i - 1]\n",
    "        dx = steps[i] - steps[i - 1]\n",
    "        slopes.append(dy / dx if dx != 0 else 0)\n",
    "\n",
    "    # Pad the beginning of slopes list to match the length of steps\n",
    "    slopes = [slopes[0]] + slopes\n",
    "\n",
    "    if not any(np.array(slopes) > min_slope_threshold):\n",
    "        return len(steps) - 1\n",
    "\n",
    "    return np.argsort(np.nan_to_num(slopes))[::-1][0]\n",
    "\n",
    "\n",
    "def find_js_dist_blowup(\n",
    "    js_dists: List[float],\n",
    "    slope_threshold: float = 1.25,\n",
    "    min_js_distance: float = 0.1,\n",
    "    min_slope_threshold: float = 0.02,\n",
    ") -> int:\n",
    "    steps = list(range(len(js_dists)))\n",
    "\n",
    "    slopes = []\n",
    "    for i in range(1, len(steps)):\n",
    "        dy = js_dists[i] - js_dists[i - 1]\n",
    "        dx = steps[i] - steps[i - 1]\n",
    "        slopes.append(dy / dx if dx != 0 else 0)\n",
    "\n",
    "    # Pad the beginning of slopes list to match the length of steps\n",
    "    slopes = [slopes[0]] + slopes\n",
    "\n",
    "    for i in range(1, len(steps)):\n",
    "        current_slope = slopes[i]\n",
    "        prev_slope = slopes[i - 1]\n",
    "\n",
    "        # print(f\"step={i}, {current_slope=} {prev_slope=}, {slope_threshold * max(prev_slope, 1e-6)}\")\n",
    "\n",
    "        # Check if we're in an increasing trend and above minimum JS distance\n",
    "        if (\n",
    "            current_slope > (slope_threshold * max(prev_slope, 1e-6))\n",
    "            or current_slope >= min_slope_threshold\n",
    "        ) and js_dists[i] >= min_js_distance:\n",
    "            return i\n",
    "\n",
    "    return len(steps) - 1\n",
    "\n",
    "\n",
    "def find_plateau_length_js(\n",
    "    js_dists: List[float], threshold: float = 5e-03, window_size: int = 5\n",
    ") -> int:\n",
    "\n",
    "    def calculate_slope(y_values, x_values):\n",
    "        slope, _, _, _, _ = stats.linregress(x_values, y_values)\n",
    "        return slope\n",
    "\n",
    "    for i in range(len(js_dists) - window_size + 1):\n",
    "        window = js_dists[i : i + window_size]\n",
    "        x_values = list(range(window_size))\n",
    "        slope = calculate_slope(window, x_values)\n",
    "\n",
    "        if abs(slope) > threshold:\n",
    "            return i\n",
    "\n",
    "    return len(js_dists) - 1\n",
    "\n",
    "\n",
    "def load_jsonl(file_path):\n",
    "    data = []\n",
    "    with open(file_path, \"r\") as file:\n",
    "        for line in file:\n",
    "            # Parse each line as a JSON object\n",
    "            json_object = json.loads(line.strip())\n",
    "            data.append(json_object)\n",
    "    return data\n",
    "\n",
    "\n",
    "def get_feature_dir(sae, feature_id, feature_act, norm=False):\n",
    "    feature_acts = torch.zeros(sae.W_enc.shape[1])\n",
    "\n",
    "    # Activate the specified feature\n",
    "    feature_acts[:] = 0\n",
    "    feature_acts[feature_id] = feature_act\n",
    "\n",
    "    # Decode back to the residual stream space\n",
    "    perturbed_act = sae.decode(feature_acts)\n",
    "\n",
    "    if norm:\n",
    "        perturbed_act /= torch.norm(perturbed_act)\n",
    "\n",
    "    return perturbed_act\n",
    "\n",
    "\n",
    "def plot_heatmap_feature_acts(feature_activations, js_dists):\n",
    "    # Assuming feature_activations is a PyTorch tensor\n",
    "    feature_acts_np = (\n",
    "        feature_activations.numpy()\n",
    "    )  # Convert to numpy if it's not already\n",
    "\n",
    "    # Identify top features from start and end\n",
    "    n_top = 10\n",
    "    start_top_features = np.argsort(feature_acts_np[0])[-n_top:][::-1]\n",
    "    end_top_features = np.argsort(feature_acts_np[-1])[-n_top:][::-1]\n",
    "\n",
    "    # Assume js_blowup_step is the time step where JS distance starts increasing rapidly\n",
    "    js_blowup_step = find_js_dist_blowup(js_dists)  # Replace with your actual step\n",
    "\n",
    "    # Combine and get unique features\n",
    "    combined_features = np.unique(\n",
    "        np.concatenate([start_top_features, end_top_features])\n",
    "    )\n",
    "\n",
    "    # Create labels for y-axis\n",
    "    y_labels = []\n",
    "\n",
    "    feature_ranks = []\n",
    "\n",
    "    for feat in combined_features:\n",
    "        start_rank = np.where(start_top_features == feat)[0]\n",
    "        end_rank = np.where(end_top_features == feat)[0]\n",
    "        feature_rank = 0\n",
    "\n",
    "        label = f\"F{feat}\"\n",
    "        if len(start_rank) > 0:\n",
    "            label += f\" (S-{start_rank[0]+1})\"\n",
    "            feature_rank += start_rank[0]\n",
    "        else:\n",
    "            feature_rank += n_top\n",
    "\n",
    "        if len(end_rank) > 0:\n",
    "            label += f\" (E-{end_rank[0]+1})\"\n",
    "            if len(start_rank) == 0:\n",
    "                feature_rank += 10 + end_rank[0]\n",
    "\n",
    "        y_labels.append(label)\n",
    "        feature_ranks.append(feature_rank)\n",
    "\n",
    "    sorted_feature_ranks = np.argsort(feature_ranks)\n",
    "    sorted_y_labels = [y_labels[idx] for idx in sorted_feature_ranks]\n",
    "\n",
    "    # Create heatmap\n",
    "    fig, ax = plt.subplots(figsize=(20, len(combined_features) / 2 + 2))\n",
    "    sns.heatmap(\n",
    "        feature_acts_np[:, combined_features[sorted_feature_ranks]].T,\n",
    "        cmap=\"coolwarm\",\n",
    "        cbar_kws={\"label\": \"Activation\"},\n",
    "        yticklabels=sorted_y_labels,\n",
    "        ax=ax,\n",
    "    )\n",
    "\n",
    "    # Add vertical line for JS distance blowup\n",
    "    ax.axvline(x=js_blowup_step, color=\"white\", linestyle=\"--\", linewidth=2)\n",
    "\n",
    "    # Add text annotation for the JS blowup line\n",
    "    ax.text(\n",
    "        js_blowup_step,\n",
    "        len(combined_features) - 0.25,\n",
    "        \"JS Dist Blowup\",\n",
    "        rotation=90,\n",
    "        va=\"bottom\",\n",
    "        ha=\"right\",\n",
    "        color=\"white\",\n",
    "        fontweight=\"normal\",\n",
    "    )\n",
    "\n",
    "    # Assuming js_distances is your array of JS distances over time\n",
    "    ax2 = ax.twinx()\n",
    "    ax2.plot(js_dists, color=\"white\", linewidth=2)\n",
    "    ax2.set_ylabel(\"JS Distance\", color=\"white\")\n",
    "    ax2.tick_params(axis=\"y\", labelcolor=\"white\")\n",
    "\n",
    "    plt.title(\"Top Feature Activations Over Time (Start and End)\")\n",
    "    plt.xlabel(\"Time Steps\")\n",
    "    plt.ylabel(\"Feature ID (Start Rank, End Rank)\")\n",
    "    plt.tight_layout()\n",
    "    plt.show()\n",
    "\n",
    "\n",
    "def get_feature_activations(steps):\n",
    "    feature_activations = []\n",
    "    for _, s in enumerate(steps):\n",
    "        active_feature_ids = s[\"active_feature_ids\"]\n",
    "        active_feature_acts = s[\"active_feature_acts\"]\n",
    "        feature_acts = torch.zeros(sae.W_enc.shape[1])\n",
    "        feature_acts[active_feature_ids] = torch.tensor(active_feature_acts)\n",
    "        feature_activations.append(feature_acts)\n",
    "    return torch.stack(feature_activations)\n",
    "\n",
    "\n",
    "def get_data_for_step(steps):\n",
    "    step_js_dists = [s[\"js_dist\"] for s in steps]\n",
    "    js_blowup_step = find_js_dist_blowup_max_slope(step_js_dists)\n",
    "    sensitivity = 1 - js_blowup_step / len(step_js_dists)\n",
    "    feature_acts = get_feature_activations(steps)\n",
    "    return feature_acts, step_js_dists, js_blowup_step, sensitivity"
   ]
  },
  {
   "cell_type": "code",
   "execution_count": 3,
   "metadata": {},
   "outputs": [
    {
     "name": "stdout",
     "output_type": "stream",
     "text": [
      "Loaded pretrained model gpt2 into HookedTransformer\n",
      "cuda\n"
     ]
    }
   ],
   "source": [
    "model = HookedTransformer.from_pretrained(\"gpt2\")\n",
    "device = get_device_str()\n",
    "\n",
    "print(device)"
   ]
  },
  {
   "cell_type": "code",
   "execution_count": 4,
   "metadata": {},
   "outputs": [
    {
     "name": "stderr",
     "output_type": "stream",
     "text": [
      "100%|██████████| 1/1 [00:00<00:00,  1.82it/s]\n"
     ]
    },
    {
     "data": {
      "text/plain": [
       "SAE(\n",
       "  (activation_fn): ReLU()\n",
       "  (hook_sae_input): HookPoint()\n",
       "  (hook_sae_acts_pre): HookPoint()\n",
       "  (hook_sae_acts_post): HookPoint()\n",
       "  (hook_sae_output): HookPoint()\n",
       "  (hook_sae_recons): HookPoint()\n",
       "  (hook_sae_error): HookPoint()\n",
       ")"
      ]
     },
     "execution_count": 4,
     "metadata": {},
     "output_type": "execute_result"
    }
   ],
   "source": [
    "perturbation_layer = \"blocks.0.hook_resid_pre\"\n",
    "saes, sparsities = get_gpt2_res_jb_saes(perturbation_layer)\n",
    "sae = saes[perturbation_layer].cpu()\n",
    "feature_sparsities = 10 ** sparsities[perturbation_layer].cpu()\n",
    "\n",
    "sae.eval()"
   ]
  },
  {
   "cell_type": "markdown",
   "metadata": {},
   "source": [
    "## Load & Clean data"
   ]
  },
  {
   "cell_type": "code",
   "execution_count": 5,
   "metadata": {},
   "outputs": [],
   "source": [
    "metadata, activations = [], []\n",
    "\n",
    "n_files = 5\n",
    "\n",
    "for path in sorted(glob(\"observations/metadata*\"))[:n_files]:\n",
    "    metadata.extend(load_jsonl(path))\n",
    "\n",
    "for path in sorted(glob(\"observations/acts*\"))[:n_files]:\n",
    "    activations.append(np.load(path))\n",
    "\n",
    "activations = np.concatenate(activations)"
   ]
  },
  {
   "cell_type": "code",
   "execution_count": 6,
   "metadata": {},
   "outputs": [
    {
     "data": {
      "text/plain": [
       "(5000, (5000, 100, 768))"
      ]
     },
     "execution_count": 6,
     "metadata": {},
     "output_type": "execute_result"
    }
   ],
   "source": [
    "len(metadata), activations.shape"
   ]
  },
  {
   "cell_type": "code",
   "execution_count": 7,
   "metadata": {},
   "outputs": [
    {
     "name": "stdout",
     "output_type": "stream",
     "text": [
      "500\n",
      "1000\n",
      "1500\n",
      "2000\n",
      "2500\n",
      "3000\n"
     ]
    }
   ],
   "source": [
    "# Clean data\n",
    "clean_metadata = []\n",
    "clean_activations = []\n",
    "\n",
    "n_examples = 5000\n",
    "idxs = random.sample(range(len(metadata)), n_examples)\n",
    "\n",
    "max_recon_error = 3.0\n",
    "c = 0\n",
    "\n",
    "for idx in idxs:\n",
    "    m = metadata[idx]\n",
    "    acts = activations[idx]\n",
    "    js_dists = [s[\"js_dist\"] for s in m[\"steps_metadata\"]]\n",
    "\n",
    "    if js_dists[-1] - js_dists[0] < 0.1:\n",
    "        continue\n",
    "\n",
    "    if np.isnan(js_dists).sum() > 1:\n",
    "        continue\n",
    "\n",
    "    act_recon = sae.decode(sae.encode(torch.tensor(acts[0])))\n",
    "    recon_error = torch.tensor(acts[0]) - act_recon\n",
    "    recon_error = recon_error.abs().sum(dim=-1).detach().numpy()\n",
    "\n",
    "    if recon_error > max_recon_error:\n",
    "        continue\n",
    "\n",
    "    clean_metadata.append(m)\n",
    "    clean_activations.append(acts)\n",
    "\n",
    "    c += 1\n",
    "\n",
    "    if c % 500 == 0:\n",
    "        print(c)\n",
    "\n",
    "clean_activations = np.stack(clean_activations)"
   ]
  },
  {
   "cell_type": "code",
   "execution_count": 8,
   "metadata": {},
   "outputs": [
    {
     "data": {
      "text/plain": [
       "(3392, (3392, 100, 768))"
      ]
     },
     "execution_count": 8,
     "metadata": {},
     "output_type": "execute_result"
    }
   ],
   "source": [
    "len(clean_metadata), clean_activations.shape"
   ]
  },
  {
   "cell_type": "code",
   "execution_count": 9,
   "metadata": {},
   "outputs": [],
   "source": [
    "metadata = clean_metadata\n",
    "activations = clean_activations"
   ]
  },
  {
   "cell_type": "code",
   "execution_count": 13,
   "metadata": {},
   "outputs": [],
   "source": [
    "data = []\n",
    "\n",
    "n_examples = len(metadata)  # min(100, len(metadata))\n",
    "# idxs = random.sample(range(len(metadata)), n_examples)\n",
    "idxs = range(n_examples)\n",
    "\n",
    "for idx in idxs:\n",
    "    steps = metadata[idx][\"steps_metadata\"]\n",
    "    feature_acts, step_js_dists, js_blowup_step, sensitivity = get_data_for_step(steps)\n",
    "    data.append({\"js_dists\": step_js_dists, \"blowup_step\": js_blowup_step, \"idx\": idx})\n",
    "\n",
    "df = pd.DataFrame(data)"
   ]
  },
  {
   "cell_type": "code",
   "execution_count": 14,
   "metadata": {},
   "outputs": [],
   "source": [
    "early_blowup_idxs = df.sort_values(by=\"blowup_step\").head(10).index.tolist()\n",
    "\n",
    "random_blowup_idxs = df.sample(10).index.tolist()"
   ]
  },
  {
   "cell_type": "code",
   "execution_count": 15,
   "metadata": {},
   "outputs": [
    {
     "data": {
      "text/html": [
       "<div>\n",
       "<style scoped>\n",
       "    .dataframe tbody tr th:only-of-type {\n",
       "        vertical-align: middle;\n",
       "    }\n",
       "\n",
       "    .dataframe tbody tr th {\n",
       "        vertical-align: top;\n",
       "    }\n",
       "\n",
       "    .dataframe thead th {\n",
       "        text-align: right;\n",
       "    }\n",
       "</style>\n",
       "<table border=\"1\" class=\"dataframe\">\n",
       "  <thead>\n",
       "    <tr style=\"text-align: right;\">\n",
       "      <th></th>\n",
       "      <th>js_dists</th>\n",
       "      <th>blowup_step</th>\n",
       "      <th>idx</th>\n",
       "    </tr>\n",
       "  </thead>\n",
       "  <tbody>\n",
       "    <tr>\n",
       "      <th>1848</th>\n",
       "      <td>[0.0004, 0.0576, 0.1223, 0.1671, 0.1958, 0.216...</td>\n",
       "      <td>2</td>\n",
       "      <td>1848</td>\n",
       "    </tr>\n",
       "    <tr>\n",
       "      <th>1044</th>\n",
       "      <td>[0.0004, 0.0048, 0.0095, 0.0141, 0.0186, 0.023...</td>\n",
       "      <td>21</td>\n",
       "      <td>1044</td>\n",
       "    </tr>\n",
       "    <tr>\n",
       "      <th>1592</th>\n",
       "      <td>[0.0003, 0.0058, 0.0117, 0.0177, 0.0239, 0.030...</td>\n",
       "      <td>29</td>\n",
       "      <td>1592</td>\n",
       "    </tr>\n",
       "    <tr>\n",
       "      <th>2196</th>\n",
       "      <td>[0.0003, 0.0062, 0.0122, 0.0181, 0.0239, 0.029...</td>\n",
       "      <td>30</td>\n",
       "      <td>2196</td>\n",
       "    </tr>\n",
       "    <tr>\n",
       "      <th>2690</th>\n",
       "      <td>[0.0004, 0.0023, 0.0044, 0.0065, 0.0086, 0.010...</td>\n",
       "      <td>31</td>\n",
       "      <td>2690</td>\n",
       "    </tr>\n",
       "    <tr>\n",
       "      <th>1296</th>\n",
       "      <td>[0.0002, 0.0017, 0.0033, 0.005, 0.0067, 0.0084...</td>\n",
       "      <td>31</td>\n",
       "      <td>1296</td>\n",
       "    </tr>\n",
       "    <tr>\n",
       "      <th>566</th>\n",
       "      <td>[0.0004, 0.0022, 0.0044, 0.0065, 0.0087, 0.010...</td>\n",
       "      <td>32</td>\n",
       "      <td>566</td>\n",
       "    </tr>\n",
       "    <tr>\n",
       "      <th>67</th>\n",
       "      <td>[0.0002, 0.0051, 0.0103, 0.0155, 0.0209, 0.026...</td>\n",
       "      <td>32</td>\n",
       "      <td>67</td>\n",
       "    </tr>\n",
       "    <tr>\n",
       "      <th>1506</th>\n",
       "      <td>[0.0004, 0.0057, 0.0116, 0.0178, 0.0242, 0.030...</td>\n",
       "      <td>32</td>\n",
       "      <td>1506</td>\n",
       "    </tr>\n",
       "    <tr>\n",
       "      <th>965</th>\n",
       "      <td>[0.0002, 0.0069, 0.0137, 0.0205, 0.0274, 0.034...</td>\n",
       "      <td>32</td>\n",
       "      <td>965</td>\n",
       "    </tr>\n",
       "  </tbody>\n",
       "</table>\n",
       "</div>"
      ],
      "text/plain": [
       "                                               js_dists  blowup_step   idx\n",
       "1848  [0.0004, 0.0576, 0.1223, 0.1671, 0.1958, 0.216...            2  1848\n",
       "1044  [0.0004, 0.0048, 0.0095, 0.0141, 0.0186, 0.023...           21  1044\n",
       "1592  [0.0003, 0.0058, 0.0117, 0.0177, 0.0239, 0.030...           29  1592\n",
       "2196  [0.0003, 0.0062, 0.0122, 0.0181, 0.0239, 0.029...           30  2196\n",
       "2690  [0.0004, 0.0023, 0.0044, 0.0065, 0.0086, 0.010...           31  2690\n",
       "1296  [0.0002, 0.0017, 0.0033, 0.005, 0.0067, 0.0084...           31  1296\n",
       "566   [0.0004, 0.0022, 0.0044, 0.0065, 0.0087, 0.010...           32   566\n",
       "67    [0.0002, 0.0051, 0.0103, 0.0155, 0.0209, 0.026...           32    67\n",
       "1506  [0.0004, 0.0057, 0.0116, 0.0178, 0.0242, 0.030...           32  1506\n",
       "965   [0.0002, 0.0069, 0.0137, 0.0205, 0.0274, 0.034...           32   965"
      ]
     },
     "execution_count": 15,
     "metadata": {},
     "output_type": "execute_result"
    }
   ],
   "source": [
    "df.sort_values(by=\"blowup_step\").head(10)"
   ]
  },
  {
   "cell_type": "code",
   "execution_count": 18,
   "metadata": {},
   "outputs": [
    {
     "data": {
      "image/png": "[encoded data removed]",
      "text/plain": [
       "<Figure size 1500x800 with 1 Axes>"
      ]
     },
     "metadata": {},
     "output_type": "display_data"
    }
   ],
   "source": [
    "plt.figure(figsize=(15, 8))\n",
    "\n",
    "# plt.axvline(x=pred, color=\"tab:green\", linestyle=\"--\", linewidth=1, label=\"pred\")\n",
    "\n",
    "for idx in early_blowup_idxs[0:1]:\n",
    "    step_js_dists = df.loc[idx].js_dists\n",
    "    js_blowup_step = df.loc[idx].blowup_step\n",
    "    plt.plot(step_js_dists)\n",
    "\n",
    "    plt.axvline(\n",
    "        x=js_blowup_step, color=\"tab:red\", linestyle=\"--\", linewidth=1, label=\"blowup\"\n",
    "    )\n",
    "\n",
    "plt.yticks(np.arange(0, 1.05, 0.05))\n",
    "plt.xticks(np.arange(0, 105, 5))\n",
    "plt.xlabel(\"Steps\")\n",
    "plt.ylabel(\"JS Distance\")\n",
    "# plt.legend(loc=\"lower right\")\n",
    "plt.grid()\n",
    "plt.show()"
   ]
  },
  {
   "cell_type": "code",
   "execution_count": 40,
   "metadata": {},
   "outputs": [],
   "source": [
    "steps = list(range(len(step_js_dists)))\n",
    "\n",
    "slopes = []\n",
    "for i in range(1, len(steps)):\n",
    "    dy = step_js_dists[i] - step_js_dists[i - 1]\n",
    "    dx = steps[i] - steps[i - 1]\n",
    "    slopes.append(dy / dx if dx != 0 else 0)\n",
    "\n",
    "# Pad the beginning of slopes list to match the length of steps\n",
    "slopes = [slopes[0]] + slopes"
   ]
  },
  {
   "cell_type": "code",
   "execution_count": 41,
   "metadata": {},
   "outputs": [
    {
     "name": "stdout",
     "output_type": "stream",
     "text": [
      "[nan, nan, 0.009, 0.0092, 0.0092, 0.009399999999999999, 0.009400000000000006, 0.009500000000000001, 0.009599999999999997, 0.009599999999999997, 0.0097, 0.0097, 0.009800000000000003, 0.009800000000000003, 0.00979999999999999, 0.009700000000000014, 0.009800000000000003, 0.009699999999999986, 0.009700000000000014, 0.009599999999999997, 0.009599999999999997, 0.00949999999999998, 0.00940000000000002, 0.009199999999999986, 0.009200000000000014, 0.009099999999999997, 0.009000000000000008, 0.008800000000000002, 0.008699999999999986, 0.008599999999999997, 0.008500000000000008, 0.008299999999999974, 0.00820000000000004, 0.008199999999999985, 0.008000000000000007, 0.007899999999999963, 0.007800000000000029, 0.007699999999999985, 0.007599999999999996, 0.007500000000000007, 0.007500000000000007, 0.007400000000000018, 0.007399999999999962, 0.007300000000000029, 0.007299999999999973, 0.00720000000000004, 0.007199999999999984, 0.007299999999999973, 0.00720000000000004, 0.007199999999999984, 0.007199999999999984, 0.00720000000000004, 0.007299999999999973, 0.007199999999999984, 0.007300000000000029, 0.007299999999999973, 0.00720000000000004, 0.007299999999999973, 0.007099999999999995, 0.007199999999999984, 0.007000000000000006, 0.007000000000000006, 0.006900000000000017, 0.006800000000000028, 0.006699999999999928, 0.006500000000000061, 0.00649999999999995, 0.006299999999999972, 0.006300000000000083, 0.006099999999999994, 0.005900000000000016, 0.005899999999999905, 0.005700000000000038, 0.005600000000000049, 0.005499999999999949, 0.005299999999999971, 0.0052000000000000934, 0.005199999999999982, 0.0050000000000000044, 0.0047999999999999154, 0.0048000000000000265, 0.0047000000000000375, 0.0044999999999999485, 0.0045000000000000595, 0.0043999999999999595, 0.0042999999999999705, 0.0042000000000000925, 0.0040999999999999925, 0.0040000000000000036, 0.0040000000000000036, 0.0037999999999999146, 0.0039000000000000146, 0.0037000000000000366, 0.0037000000000000366, 0.0035999999999999366, 0.0036000000000000476, 0.0034999999999999476, 0.0035000000000000586, 0.0034999999999999476, 0.0034000000000000696]\n"
     ]
    },
    {
     "data": {
      "text/plain": [
       "16"
      ]
     },
     "execution_count": 41,
     "metadata": {},
     "output_type": "execute_result"
    }
   ],
   "source": [
    "find_js_dist_blowup_max_slope(step_js_dists)"
   ]
  },
  {
   "cell_type": "code",
   "execution_count": 46,
   "metadata": {},
   "outputs": [
    {
     "data": {
      "text/plain": [
       "False"
      ]
     },
     "execution_count": 46,
     "metadata": {},
     "output_type": "execute_result"
    }
   ],
   "source": [
    "any(np.array(slopes) > 0.05)"
   ]
  },
  {
   "cell_type": "code",
   "execution_count": 33,
   "metadata": {},
   "outputs": [
    {
     "data": {
      "text/plain": [
       "16"
      ]
     },
     "execution_count": 33,
     "metadata": {},
     "output_type": "execute_result"
    }
   ],
   "source": [
    "np.argsort(np.nan_to_num(slopes))[::-1][0]"
   ]
  },
  {
   "cell_type": "code",
   "execution_count": null,
   "metadata": {},
   "outputs": [],
   "source": [
    "steps = list(range(len(js_dists)))\n",
    "\n",
    "slopes = []\n",
    "for i in range(1, len(steps)):\n",
    "    dy = js_dists[i] - js_dists[i - 1]\n",
    "    dx = steps[i] - steps[i - 1]\n",
    "    slopes.append(dy / dx if dx != 0 else 0)\n",
    "\n",
    "# Pad the beginning of slopes list to match the length of steps\n",
    "slopes = [slopes[0]] + slopes\n",
    "print(slopes)\n",
    "return np.argsort(np.nan_to_num(slopes))[::-1][0]"
   ]
  },
  {
   "cell_type": "code",
   "execution_count": null,
   "metadata": {},
   "outputs": [],
   "source": []
  }
 ],
 "metadata": {
  "kernelspec": {
   "display_name": "virtualenvs",
   "language": "python",
   "name": "python3"
  },
  "language_info": {
   "codemirror_mode": {
    "name": "ipython",
    "version": 3
   },
   "file_extension": ".py",
   "mimetype": "text/x-python",
   "name": "python",
   "nbconvert_exporter": "python",
   "pygments_lexer": "ipython3",
   "version": "3.10.14"
  }
 },
 "nbformat": 4,
 "nbformat_minor": 2
}
