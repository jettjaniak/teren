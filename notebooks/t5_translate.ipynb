{
 "cells": [
  {
   "cell_type": "code",
   "execution_count": 1,
   "metadata": {},
   "outputs": [
    {
     "name": "stdout",
     "output_type": "stream",
     "text": [
      "Sar stared at him in awe, as one would stare at an unbelievable\n",
      "monstrosity, born in a fertilely imaginative mind and portrayed in the\n",
      "TDs by an actor suitably deformed by the genius of make-up. But this\n",
      "was no TD image--this monster was real and he was standing only a few\n",
      "feet away, leering at her, challenging her, hurting her, condemning her.\n",
      "\n",
      "They knew that she could bring forth no witnesses in her defense. That\n",
      "was what made the challenge so cruel. They knew that she had had no\n",
      "lovers since before her first child was born, nineteen years ago. She\n",
      "had been a virtuous wife, a faithful wife. And now they were turning\n",
      "her very virtue against her!\n",
      "\n",
      "\"Do you have such a witness?\" Justice Klyutch asked her attorney.\n",
      "\n",
      "\"I ask the court's permission to confer privately with my client,\" the\n",
      "lawyer replied, rising hastily from his seat.\n",
      "\n",
      "\"Granted.\"\n",
      "\n",
      "\"No,\" Sar said abruptly. Her lawyer had hardly started across the room\n",
      "to the witness seat when her voice stopped him. \"No,\" Sar repeated, \"we\n",
      "have no witness.\"\n",
      "\n",
      "\"Your Honors,\" her lawyer said hurriedly, \"I request that my client's\n",
      "remark be stricken from the record. It was not made in reply to a\n",
      "question, nor was it on advice of counsel.\" To Sar he said, \"Please,\n",
      "Mrs. Wisson, do not volunteer information before you consult me.\"\n",
      "\n",
      "\"Why not?\" Sar asked sadly. \"There is no one. What good would it do to\n",
      "consult you?\"\n",
      "\n",
      "\"Please, Mrs. Wisson,\" the lawyer insisted. \"Perhaps there is someone\n",
      "whom you've forgotten. Perhaps you'll remember if you discuss it with\n",
      "me. Perhaps....\"\n",
      "\n",
      "\"No,\" Sar pronounced, finally. \"There has been no one. I won't invent a\n",
      "mythical lover. We have no witness.\"\n",
      "\n",
      "The lawyer returned to his seat dejectedly. Sar had ruined whatever\n",
      "chance he might have had to bring in a false witness to dispute those\n",
      "presented by her husband.\n",
      "\n",
      "If the court accepted the testimony of the four supposed lovers,\n",
      "the case was lost. Even without their testimony, it was a toss-up\n",
      "between Sar's word and her husband's. After all, records of an ability\n",
      "possessed twenty years ago really proved nothing about the present.\n",
      "So what if she had been an exceptionally apt student in school? After\n",
      "twenty years, she might be different--altogether different. She might\n",
      "very well be incompetent.\n",
      "\n",
      "Sar, too, knew that she had spoiled her own opportunity to counteract\n",
      "the fraudulent testimony of her husband's friends. Yet, although she\n",
      "was afraid of the consequences of losing the case, she could not bring\n",
      "herself to lie about her private life. She could not claim lovers she\n",
      "had not had. It was ridiculous, she knew, in this day and age, but she\n",
      "was actually proud of her fidelity.\n",
      "\n",
      "She watched the three judges lean together in conference. The million\n",
      "eyes still peered at her. They pawed at her body, probed at her\n",
      "thoughts. She fidgeted under their merciless scrutiny as the minutes\n",
      "crept by and the judges' conference continued.\n",
      "\n",
      "_Stop!_ she wanted to shout. _Stop this torture! Say\n",
      "something--anything! But don't make me sit here like a freak on\n",
      "exhibition!_\n",
      "\n",
      "Justices Jones and Schluss straightened in their seats on either side\n",
      "of the presiding judge. Chief justice Klyutch cleared his throat\n",
      "importantly.\n",
      "\n",
      "\"Mrs. Wisson,\" he said, \"the court finds it impossible to properly\n",
      "evaluate all the evidence presented in this case. It is our judgment\n",
      "that the only way to determine your competence is to have an impartial\n",
      "reliable person test you. Do you agree to submit to such a test?\"\n",
      "\n",
      "She nodded her head quickly. Of course she would agree. She'd agree to\n",
      "anything if they'd only let her get off the stand--off display.\n",
      "\n",
      "\"My colleagues and I want to select for this test a man who is\n",
      "impartial and whose judgment is valued by this court,\" Klyutch\n",
      "continued, strangely nervous. He colored slightly before adding, \"I\n",
      "have been nominated.\n",
      "\n",
      "\"Do you have any objections?\" he asked her.\n",
      "\n",
      "Sar smiled at him. She began to relax in the presence of his archaic\n",
      "modesty--the nervous shyness, the faint blush. Momentarily, she pitied\n",
      "him in his embarrassment and forgot, momentarily, to pity herself.\n",
      "\n",
      "She smiled at him. There was certainly no reason to object to him any\n",
      "more than to any other man. Less, perhaps. He had a gentleness about\n",
      "him that Sar decided was rather attractive. But she appreciated the\n",
      "humor in being tested for competence by a man whose own competence\n",
      "might be questioned.\n",
      "\n",
      "Justice Klyutch was a middle-aged widower whose first-wife had died\n",
      "three years ago--from boredom, some people said. He belonged to the\n",
      "small sect who called themselves monogamists and had no second-wives,\n",
      "and, since his wife's death, he had been living a monastic life.\n",
      "\n",
      "But, although he may not have been the best qualified man for the\n",
      "job, Sar was quite willing to have him conduct the test. In fact, she\n",
      "reflected, he would probably be easy to convince....\n",
      "\n",
      "When the court convened the next morning, every seat in the spectators'\n",
      "section was filled. The room was hushed in expectancy as the judges\n",
      "filed in and took their seats on the dais.\n",
      "\n",
      "Justice Klyutch called the court to order.\n",
      "\n",
      "Every ear in the room strained to hear his decision.\n",
      "\n",
      "\"At the close of yesterday's session,\" he began, \"it was agreed that\n",
      "the court conduct a test to determine the competence of Sar Wisson,\n",
      "accused of incompetence by her husband. The test has been completed.\n",
      "\n",
      "\"It is the opinion of the court that the charge against Mrs. Wisson\n",
      "has no basis in fact. The request for divorce on the grounds of sexual\n",
      "incompetence is, therefore, denied.\"\n",
      "\n",
      "An excited babbling swept across the room. It quickly subsided when\n",
      "the warning light indicated that the judge had not finished his\n",
      "pronouncement.\n",
      "\n",
      "\"However,\" Klyutch continued, \"Mrs. Wisson has informed the court that\n",
      "she no longer objects to the divorce and that she is willing to agree\n",
      "to the action on the usual grounds of incompatibility.\"\n"
     ]
    }
   ],
   "source": [
    "with open(\"text\") as f:\n",
    "    text = f.read()\n",
    "    print(text)"
   ]
  },
  {
   "cell_type": "code",
   "execution_count": 10,
   "metadata": {},
   "outputs": [
    {
     "data": {
      "text/plain": [
       "'That was what made the challenge so cruel'"
      ]
     },
     "metadata": {},
     "output_type": "display_data"
    },
    {
     "data": {
      "text/plain": [
       "'She had been a virtuous wife, a faithful wife'"
      ]
     },
     "metadata": {},
     "output_type": "display_data"
    },
    {
     "data": {
      "text/plain": [
       "'And now they were turning her very virtue against her!'"
      ]
     },
     "metadata": {},
     "output_type": "display_data"
    },
    {
     "data": {
      "text/plain": [
       "'No, Sar repeated, we have no witness'"
      ]
     },
     "metadata": {},
     "output_type": "display_data"
    },
    {
     "data": {
      "text/plain": [
       "'Wisson, do not volunteer information before you consult me'"
      ]
     },
     "metadata": {},
     "output_type": "display_data"
    },
    {
     "data": {
      "text/plain": [
       "'What good would it do to consult you?'"
      ]
     },
     "metadata": {},
     "output_type": "display_data"
    },
    {
     "data": {
      "text/plain": [
       "\"Perhaps there is someone whom you've forgotten\""
      ]
     },
     "metadata": {},
     "output_type": "display_data"
    },
    {
     "data": {
      "text/plain": [
       "\"Perhaps you'll remember if you discuss it with me\""
      ]
     },
     "metadata": {},
     "output_type": "display_data"
    },
    {
     "data": {
      "text/plain": [
       "\"I won't invent a mythical lover\""
      ]
     },
     "metadata": {},
     "output_type": "display_data"
    },
    {
     "data": {
      "text/plain": [
       "'The lawyer returned to his seat dejectedly'"
      ]
     },
     "metadata": {},
     "output_type": "display_data"
    },
    {
     "data": {
      "text/plain": [
       "'She might very well be incompetent'"
      ]
     },
     "metadata": {},
     "output_type": "display_data"
    },
    {
     "data": {
      "text/plain": [
       "'She could not claim lovers she had not had'"
      ]
     },
     "metadata": {},
     "output_type": "display_data"
    },
    {
     "data": {
      "text/plain": [
       "'She watched the three judges lean together in conference'"
      ]
     },
     "metadata": {},
     "output_type": "display_data"
    },
    {
     "data": {
      "text/plain": [
       "'The million eyes still peered at her'"
      ]
     },
     "metadata": {},
     "output_type": "display_data"
    },
    {
     "data": {
      "text/plain": [
       "'They pawed at her body, probed at her thoughts'"
      ]
     },
     "metadata": {},
     "output_type": "display_data"
    },
    {
     "data": {
      "text/plain": [
       "'Chief justice Klyutch cleared his throat importantly'"
      ]
     },
     "metadata": {},
     "output_type": "display_data"
    },
    {
     "data": {
      "text/plain": [
       "'Do you agree to submit to such a test?'"
      ]
     },
     "metadata": {},
     "output_type": "display_data"
    },
    {
     "data": {
      "text/plain": [
       "'He colored slightly before adding, I have been nominated'"
      ]
     },
     "metadata": {},
     "output_type": "display_data"
    },
    {
     "data": {
      "text/plain": [
       "'Do you have any objections? he asked her'"
      ]
     },
     "metadata": {},
     "output_type": "display_data"
    },
    {
     "data": {
      "text/plain": [
       "'Justice Klyutch called the court to order'"
      ]
     },
     "metadata": {},
     "output_type": "display_data"
    },
    {
     "data": {
      "text/plain": [
       "'Every ear in the room strained to hear his decision'"
      ]
     },
     "metadata": {},
     "output_type": "display_data"
    },
    {
     "data": {
      "text/plain": [
       "'It is the opinion of the court that the charge against Mrs'"
      ]
     },
     "metadata": {},
     "output_type": "display_data"
    },
    {
     "data": {
      "text/plain": [
       "'An excited babbling swept across the room'"
      ]
     },
     "metadata": {},
     "output_type": "display_data"
    },
    {
     "data": {
      "text/plain": [
       "'However, Klyutch continued, Mrs'"
      ]
     },
     "metadata": {},
     "output_type": "display_data"
    }
   ],
   "source": [
    "paragraphs = text.split(\"\\n\\n\")\n",
    "\n",
    "\n",
    "def process_paragraph(paragraph):\n",
    "    paragraph = paragraph.replace(\"\\n\", \" \")\n",
    "    paragraph = paragraph.replace(\"  \", \" \")\n",
    "    paragraph = paragraph.replace('\"', \"\")\n",
    "    paragraph = paragraph.replace(\"_\", \"\")\n",
    "    return paragraph\n",
    "\n",
    "\n",
    "for paragraph in paragraphs:\n",
    "    p = process_paragraph(paragraph)\n",
    "    for sentence in p.split(\".\"):\n",
    "        sentence = sentence.strip()\n",
    "        if 30 < len(sentence) < 60:\n",
    "            display(sentence)"
   ]
  }
 ],
 "metadata": {
  "kernelspec": {
   "display_name": ".venv",
   "language": "python",
   "name": "python3"
  },
  "language_info": {
   "codemirror_mode": {
    "name": "ipython",
    "version": 3
   },
   "file_extension": ".py",
   "mimetype": "text/x-python",
   "name": "python",
   "nbconvert_exporter": "python",
   "pygments_lexer": "ipython3",
   "version": "3.10.12"
  }
 },
 "nbformat": 4,
 "nbformat_minor": 2
}
