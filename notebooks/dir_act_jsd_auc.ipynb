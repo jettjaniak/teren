{
 "cells": [
  {
   "cell_type": "markdown",
   "metadata": {},
   "source": [
    "# setup"
   ]
  },
  {
   "cell_type": "code",
   "execution_count": 1,
   "metadata": {},
   "outputs": [],
   "source": [
    "%load_ext autoreload\n",
    "%autoreload 2"
   ]
  },
  {
   "cell_type": "code",
   "execution_count": 2,
   "metadata": {},
   "outputs": [
    {
     "name": "stdout",
     "output_type": "stream",
     "text": [
      "device='cuda'\n"
     ]
    }
   ],
   "source": [
    "from teren import dir_act_utils as dau\n",
    "from teren import utils as tu\n",
    "from teren import direction, measure, experiment_context\n",
    "from transformer_lens import HookedTransformer\n",
    "from teren.typing import *\n",
    "\n",
    "device = tu.get_device_str()\n",
    "print(f\"{device=}\")"
   ]
  },
  {
   "cell_type": "code",
   "execution_count": 3,
   "metadata": {},
   "outputs": [
    {
     "name": "stdout",
     "output_type": "stream",
     "text": [
      "INFERENCE_BATCH_SIZE=3200\n",
      "Loaded pretrained model gpt2-small into HookedTransformer\n"
     ]
    }
   ],
   "source": [
    "LAYER = 11\n",
    "SEQ_LEN = 4\n",
    "INFERENCE_TOKENS = 12_800\n",
    "INFERENCE_BATCH_SIZE = INFERENCE_TOKENS // SEQ_LEN\n",
    "print(f\"{INFERENCE_BATCH_SIZE=}\")\n",
    "\n",
    "N_PROMPTS = INFERENCE_BATCH_SIZE\n",
    "\n",
    "\n",
    "input_ids = dau.get_input_ids(chunk=0, seq_len=SEQ_LEN)[:N_PROMPTS]\n",
    "model = HookedTransformer.from_pretrained(\"gpt2-small\", device=device)"
   ]
  },
  {
   "cell_type": "code",
   "execution_count": 4,
   "metadata": {},
   "outputs": [
    {
     "data": {
      "application/vnd.jupyter.widget-view+json": {
       "model_id": "95178503a3214c79a998406d4073be53",
       "version_major": 2,
       "version_minor": 0
      },
      "text/plain": [
       "  0%|          | 0/1 [00:00<?, ?it/s]"
      ]
     },
     "metadata": {},
     "output_type": "display_data"
    }
   ],
   "source": [
    "exctx = experiment_context.ExperimentContext(\n",
    "    model=model,\n",
    "    layer=LAYER,\n",
    "    input_ids=input_ids,\n",
    "    acts_q_range=(0.01, 0.95),\n",
    "    batch_size=INFERENCE_BATCH_SIZE,\n",
    ")"
   ]
  },
  {
   "cell_type": "code",
   "execution_count": 5,
   "metadata": {},
   "outputs": [],
   "source": [
    "SEED = 0\n",
    "N_DIRS = 1"
   ]
  },
  {
   "cell_type": "code",
   "execution_count": 6,
   "metadata": {},
   "outputs": [
    {
     "data": {
      "text/plain": [
       "(0.09207618236541748, 13.4853515625)"
      ]
     },
     "execution_count": 6,
     "metadata": {},
     "output_type": "execute_result"
    }
   ],
   "source": [
    "dir = torch.randn(model.cfg.d_model)\n",
    "dir /= dir.norm()\n",
    "dir = direction.Direction(dir, exctx)\n",
    "dir.act_min, dir.act_max"
   ]
  },
  {
   "cell_type": "code",
   "execution_count": 19,
   "metadata": {},
   "outputs": [],
   "source": [
    "dir.process_measure(measure.jsd_measure)"
   ]
  },
  {
   "cell_type": "code",
   "execution_count": 20,
   "metadata": {},
   "outputs": [
    {
     "data": {
      "text/plain": [
       "torch.Size([329, 3])"
      ]
     },
     "execution_count": 20,
     "metadata": {},
     "output_type": "execute_result"
    }
   ],
   "source": [
    "dir.measurements_by_measure[measure.jsd_measure].selected.shape"
   ]
  },
  {
   "cell_type": "code",
   "execution_count": 23,
   "metadata": {},
   "outputs": [
    {
     "data": {
      "text/plain": [
       "torch.Size([10, 10, 329])"
      ]
     },
     "execution_count": 23,
     "metadata": {},
     "output_type": "execute_result"
    }
   ],
   "source": [
    "matrix_measure = dir.act_matrix_measure(n_act=10, measure=measure.jsd_measure)\n",
    "matrix_measure.shape"
   ]
  },
  {
   "cell_type": "code",
   "execution_count": 24,
   "metadata": {},
   "outputs": [],
   "source": [
    "def helper(mid, i, jsd_by_bin, prev_jsd, auc, min_ratio):\n",
    "    jsd = jsd_by_bin[mid, i]\n",
    "    auc += (jsd + prev_jsd) / 2\n",
    "    aul = abs(mid - i) * jsd / 2\n",
    "    ratio = torch.ones_like(auc)\n",
    "    mask = (auc > 0) & (aul > 0)\n",
    "    ratio[mask] = auc[mask] / aul[mask]\n",
    "    min_ratio = torch.minimum(min_ratio, ratio)\n",
    "    return auc, min_ratio, jsd\n",
    "\n",
    "\n",
    "def compute_auc_ratio(jsd):\n",
    "    n_bins = jsd.shape[0]\n",
    "    ratio_shape = jsd.shape[2:]\n",
    "    min_ratios = torch.empty(jsd.shape[1:])\n",
    "    for mid in range(n_bins):\n",
    "        min_ratio = torch.full(ratio_shape, float(\"inf\"))\n",
    "        # from mid to left\n",
    "        auc = torch.zeros(ratio_shape)\n",
    "        prev_jsd = torch.zeros(ratio_shape)\n",
    "        for i in range(mid - 1, -1, -1):\n",
    "            auc, min_ratio, prev_jsd = helper(mid, i, jsd, prev_jsd, auc, min_ratio)\n",
    "        # from mid to right\n",
    "        auc = torch.zeros(ratio_shape)\n",
    "        prev_jsd = torch.zeros(ratio_shape)\n",
    "        for i in range(mid + 1, n_bins):\n",
    "            auc, min_ratio, prev_jsd = helper(mid, i, jsd, prev_jsd, auc, min_ratio)\n",
    "        min_ratios[mid] = min_ratio\n",
    "    return min_ratios.min(0)"
   ]
  },
  {
   "cell_type": "code",
   "execution_count": 25,
   "metadata": {},
   "outputs": [
    {
     "name": "stdout",
     "output_type": "stream",
     "text": [
      "tensor(0.6881)\n",
      "torch.Size([329])\n"
     ]
    }
   ],
   "source": [
    "values, indices = compute_auc_ratio(matrix_measure)\n",
    "print(values.min())\n",
    "print(values.shape)"
   ]
  },
  {
   "cell_type": "code",
   "execution_count": 27,
   "metadata": {},
   "outputs": [
    {
     "data": {
      "text/plain": [
       "torch.Size([10, 329])"
      ]
     },
     "execution_count": 27,
     "metadata": {},
     "output_type": "execute_result"
    }
   ],
   "source": [
    "min_lines = torch.gather(\n",
    "    matrix_measure,\n",
    "    index=indices.unsqueeze(0).unsqueeze(0).expand(-1, 10, -1),\n",
    "    dim=0,\n",
    ").squeeze()\n",
    "min_lines.shape"
   ]
  },
  {
   "cell_type": "code",
   "execution_count": 28,
   "metadata": {},
   "outputs": [],
   "source": [
    "sorted_i = torch.argsort(values)[:50:5]"
   ]
  },
  {
   "cell_type": "code",
   "execution_count": 29,
   "metadata": {},
   "outputs": [
    {
     "data": {
      "text/plain": [
       "torch.Size([10, 10])"
      ]
     },
     "execution_count": 29,
     "metadata": {},
     "output_type": "execute_result"
    }
   ],
   "source": [
    "lines = min_lines[:, sorted_i]\n",
    "lines.shape"
   ]
  },
  {
   "cell_type": "code",
   "execution_count": 31,
   "metadata": {},
   "outputs": [
    {
     "data": {
      "image/png": "[encoded data removed]",
      "text/plain": [
       "<Figure size 640x480 with 1 Axes>"
      ]
     },
     "metadata": {},
     "output_type": "display_data"
    }
   ],
   "source": [
    "import matplotlib.pyplot as plt\n",
    "\n",
    "for i, line in enumerate(lines.T):\n",
    "    plt.plot(line / line.max(), color=(1 - i / 10, 0, 0))"
   ]
  },
  {
   "cell_type": "code",
   "execution_count": null,
   "metadata": {},
   "outputs": [],
   "source": []
  }
 ],
 "metadata": {
  "kernelspec": {
   "display_name": ".venv",
   "language": "python",
   "name": "python3"
  },
  "language_info": {
   "codemirror_mode": {
    "name": "ipython",
    "version": 3
   },
   "file_extension": ".py",
   "mimetype": "text/x-python",
   "name": "python",
   "nbconvert_exporter": "python",
   "pygments_lexer": "ipython3",
   "version": "3.10.14"
  }
 },
 "nbformat": 4,
 "nbformat_minor": 2
}
