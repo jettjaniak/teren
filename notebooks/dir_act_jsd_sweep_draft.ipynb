{
 "cells": [
  {
   "cell_type": "code",
   "execution_count": 1,
   "metadata": {},
   "outputs": [],
   "source": [
    "%load_ext autoreload\n",
    "%autoreload 2"
   ]
  },
  {
   "cell_type": "code",
   "execution_count": 23,
   "metadata": {},
   "outputs": [
    {
     "name": "stdout",
     "output_type": "stream",
     "text": [
      "INFERENCE_BATCH_SIZE=400\n"
     ]
    }
   ],
   "source": [
    "from teren.dir_act_utils import *\n",
    "\n",
    "SEED = 0\n",
    "LAYER = 0\n",
    "SEQ_LEN = 32\n",
    "INFERENCE_TOKENS = 12_800\n",
    "INFERENCE_BATCH_SIZE = INFERENCE_TOKENS // SEQ_LEN\n",
    "print(f\"{INFERENCE_BATCH_SIZE=}\")\n",
    "# TODO\n",
    "N_PROMPTS = INFERENCE_BATCH_SIZE * 5"
   ]
  },
  {
   "cell_type": "code",
   "execution_count": 3,
   "metadata": {},
   "outputs": [
    {
     "name": "stdout",
     "output_type": "stream",
     "text": [
      "device='cuda'\n",
      "Loaded pretrained model gpt2-small into HookedTransformer\n"
     ]
    }
   ],
   "source": [
    "from teren import utils as teren_utils\n",
    "\n",
    "device = teren_utils.get_device_str()\n",
    "print(f\"{device=}\")\n",
    "model = HookedTransformer.from_pretrained(\"gpt2-small\", device=device)\n",
    "d_model = model.cfg.d_model\n",
    "input_ids = get_input_ids(chunk=0, seq_len=SEQ_LEN)[:N_PROMPTS]"
   ]
  },
  {
   "cell_type": "code",
   "execution_count": 4,
   "metadata": {},
   "outputs": [
    {
     "data": {
      "application/vnd.jupyter.widget-view+json": {
       "model_id": "3be90fdbb2b540fb9ea824c15fb9f8e7",
       "version_major": 2,
       "version_minor": 0
      },
      "text/plain": [
       "  0%|          | 0/5 [00:00<?, ?it/s]"
      ]
     },
     "metadata": {},
     "output_type": "display_data"
    }
   ],
   "source": [
    "resid_acts = get_clean_resid_acts(model, LAYER, input_ids, INFERENCE_BATCH_SIZE)"
   ]
  },
  {
   "cell_type": "code",
   "execution_count": 5,
   "metadata": {},
   "outputs": [],
   "source": [
    "torch.manual_seed(SEED)\n",
    "dir = torch.randn(d_model)\n",
    "dir = dir / dir.norm()"
   ]
  },
  {
   "cell_type": "code",
   "execution_count": 6,
   "metadata": {},
   "outputs": [],
   "source": [
    "dir_acts = compute_dir_acts(dir, resid_acts)\n",
    "acts_range = get_act_range(dir_acts, q_min=0.03, q_max=0.97)"
   ]
  },
  {
   "cell_type": "code",
   "execution_count": 7,
   "metadata": {},
   "outputs": [
    {
     "data": {
      "image/png": "[encoded data removed]",
      "text/plain": [
       "<Figure size 640x480 with 1 Axes>"
      ]
     },
     "metadata": {},
     "output_type": "display_data"
    }
   ],
   "source": [
    "import matplotlib.pyplot as plt\n",
    "\n",
    "plt.hist(dir_acts.flatten(), bins=100)\n",
    "plt.vlines(acts_range, 0, 2000, colors=\"r\")  # type: ignore\n",
    "plt.show()"
   ]
  },
  {
   "cell_type": "code",
   "execution_count": 8,
   "metadata": {},
   "outputs": [],
   "source": [
    "abl_resid_acts = ablate_dir(resid_acts, dir, dir_acts)"
   ]
  },
  {
   "cell_type": "code",
   "execution_count": 9,
   "metadata": {},
   "outputs": [
    {
     "data": {
      "text/plain": [
       "tensor([5.1042e-08, 8.8851e-01])"
      ]
     },
     "execution_count": 9,
     "metadata": {},
     "output_type": "execute_result"
    }
   ],
   "source": [
    "comp_js_divergence(\n",
    "    torch.tensor([[5.0] + [0] * 10, [5.0] + [0] * 10]),\n",
    "    torch.tensor([[5.0] + [0] * 10, [0] * 10 + [5.0]]),\n",
    ")"
   ]
  },
  {
   "cell_type": "code",
   "execution_count": 10,
   "metadata": {},
   "outputs": [],
   "source": [
    "pert_resid_acts = compute_pert_resid_acts(\n",
    "    abl_resid_acts=abl_resid_acts,\n",
    "    act_values=torch.tensor(acts_range),\n",
    "    dir=dir,\n",
    ")"
   ]
  },
  {
   "cell_type": "code",
   "execution_count": 11,
   "metadata": {},
   "outputs": [
    {
     "data": {
      "text/plain": [
       "torch.Size([2, 2000, 32, 768])"
      ]
     },
     "execution_count": 11,
     "metadata": {},
     "output_type": "execute_result"
    }
   ],
   "source": [
    "pert_resid_acts.shape"
   ]
  },
  {
   "cell_type": "code",
   "execution_count": 12,
   "metadata": {},
   "outputs": [
    {
     "data": {
      "application/vnd.jupyter.widget-view+json": {
       "model_id": "d769dae13cb840e398095d3ba3b3661d",
       "version_major": 2,
       "version_minor": 0
      },
      "text/plain": [
       "  0%|          | 0/10 [00:00<?, ?it/s]"
      ]
     },
     "metadata": {},
     "output_type": "display_data"
    }
   ],
   "source": [
    "jsd = comp_model_js_div(\n",
    "    model,\n",
    "    LAYER,\n",
    "    resid_acts_a=pert_resid_acts[0],\n",
    "    resid_acts_b=pert_resid_acts[1],\n",
    "    batch_size=INFERENCE_BATCH_SIZE // 2,\n",
    ")"
   ]
  },
  {
   "cell_type": "code",
   "execution_count": 19,
   "metadata": {},
   "outputs": [
    {
     "data": {
      "image/png": "[encoded data removed]",
      "text/plain": [
       "<Figure size 640x480 with 1 Axes>"
      ]
     },
     "metadata": {},
     "output_type": "display_data"
    }
   ],
   "source": [
    "plt.hist(jsd.sqrt().flatten(), 100)"
   ]
  },
  {
   "cell_type": "code",
   "execution_count": 20,
   "metadata": {},
   "outputs": [],
   "source": [
    "def dir_to_hist(model, layer, dir, resid_acts, batch_size):\n",
    "    dir_acts = compute_dir_acts(dir, resid_acts)\n",
    "    acts_range = get_act_range(dir_acts, q_min=0.03, q_max=0.97)\n",
    "    abl_resid_acts = ablate_dir(resid_acts, dir, dir_acts)\n",
    "    pert_resid_acts = compute_pert_resid_acts(\n",
    "        abl_resid_acts=abl_resid_acts,\n",
    "        act_values=torch.tensor(acts_range),\n",
    "        dir=dir,\n",
    "    )\n",
    "    pert_resid_acts_min, pert_resid_acts_max = pert_resid_acts\n",
    "    js_dist = comp_model_js_div(\n",
    "        model,\n",
    "        layer,\n",
    "        pert_resid_acts_min,\n",
    "        pert_resid_acts_max,\n",
    "        batch_size=batch_size // 2,\n",
    "    ).sqrt()\n",
    "    counts, _edges = torch.histogram(js_dist, bins=100, range=(0, 1))\n",
    "    return counts"
   ]
  },
  {
   "cell_type": "code",
   "execution_count": 24,
   "metadata": {},
   "outputs": [
    {
     "data": {
      "application/vnd.jupyter.widget-view+json": {
       "model_id": "9b5b8522f2854e8788fa182b2b1d570e",
       "version_major": 2,
       "version_minor": 0
      },
      "text/plain": [
       "  0%|          | 0/10 [00:00<?, ?it/s]"
      ]
     },
     "metadata": {},
     "output_type": "display_data"
    }
   ],
   "source": [
    "counts = dir_to_hist(model, LAYER, dir, resid_acts, INFERENCE_BATCH_SIZE)"
   ]
  },
  {
   "cell_type": "code",
   "execution_count": 28,
   "metadata": {},
   "outputs": [
    {
     "data": {
      "image/png": "[encoded data removed]",
      "text/plain": [
       "<Figure size 640x480 with 1 Axes>"
      ]
     },
     "metadata": {},
     "output_type": "display_data"
    }
   ],
   "source": [
    "plt.bar(torch.arange(100), counts)"
   ]
  },
  {
   "cell_type": "code",
   "execution_count": null,
   "metadata": {},
   "outputs": [],
   "source": []
  }
 ],
 "metadata": {
  "kernelspec": {
   "display_name": ".venv",
   "language": "python",
   "name": "python3"
  },
  "language_info": {
   "codemirror_mode": {
    "name": "ipython",
    "version": 3
   },
   "file_extension": ".py",
   "mimetype": "text/x-python",
   "name": "python",
   "nbconvert_exporter": "python",
   "pygments_lexer": "ipython3",
   "version": "3.10.14"
  }
 },
 "nbformat": 4,
 "nbformat_minor": 2
}
