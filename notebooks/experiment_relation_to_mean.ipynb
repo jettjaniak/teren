{
 "cells": [
  {
   "cell_type": "code",
   "execution_count": 1,
   "metadata": {},
   "outputs": [],
   "source": [
    "import pandas as pd\n",
    "import numpy as np\n",
    "from glob import glob\n",
    "from scipy import stats\n",
    "from sae_lens.toolkit.pretrained_saes import get_gpt2_res_jb_saes\n",
    "import json\n",
    "import random\n",
    "import matplotlib.pyplot as plt\n",
    "from typing import List, Dict, Tuple\n",
    "from transformer_lens import HookedTransformer\n",
    "import torch\n",
    "from jaxtyping import Float, Int\n",
    "from collections import defaultdict, Counter\n",
    "from sklearn.decomposition import TruncatedSVD\n",
    "import itertools\n",
    "from scipy.stats import linregress\n",
    "import plotly_express as px\n",
    "import torch.nn.functional as F\n",
    "import math\n",
    "import seaborn as sns\n",
    "from scipy.signal import savgol_filter"
   ]
  },
  {
   "cell_type": "code",
   "execution_count": 2,
   "metadata": {},
   "outputs": [],
   "source": [
    "def get_device_str() -> str:\n",
    "    if torch.backends.mps.is_available():\n",
    "        return \"mps\"\n",
    "    else:\n",
    "        return \"cuda\" if torch.cuda.is_available() else \"cpu\"\n",
    "\n",
    "\n",
    "def load_jsonl(file_path):\n",
    "    data = []\n",
    "    with open(file_path, \"r\") as file:\n",
    "        for line in file:\n",
    "            # Parse each line as a JSON object\n",
    "            json_object = json.loads(line.strip())\n",
    "            data.append(json_object)\n",
    "    return data\n",
    "\n",
    "\n",
    "def find_blowup_max_slope(dists: List[float], min_slope_threshold: float = 0.02):\n",
    "    steps = list(range(len(dists)))\n",
    "\n",
    "    slopes = []\n",
    "    for i in range(1, len(steps)):\n",
    "        dy = dists[i] - dists[i - 1]\n",
    "        dx = steps[i] - steps[i - 1]\n",
    "        slopes.append(dy / dx if dx != 0 else 0)\n",
    "\n",
    "    # Pad the beginning of slopes list to match the length of steps\n",
    "    slopes = [slopes[0]] + slopes\n",
    "\n",
    "    if not any(np.array(slopes) > min_slope_threshold):\n",
    "        return len(steps) - 1\n",
    "\n",
    "    return np.argsort(np.nan_to_num(slopes))[::-1][0]\n",
    "\n",
    "\n",
    "def find_blowup_point(kl_divergences, window_length=11, polyorder=3, threshold=2):\n",
    "    \"\"\"\n",
    "    Find the blowup point using the 2nd derivative of KL divergences.\n",
    "\n",
    "    Args:\n",
    "    kl_divergences (array-like): KL divergence values at each step.\n",
    "    window_length (int): The length of the Savitzky-Golay filter window.\n",
    "    polyorder (int): The order of the polynomial used to fit the samples.\n",
    "    threshold (float): The threshold for identifying a significant change in the 2nd derivative.\n",
    "\n",
    "    Returns:\n",
    "    int: The index of the detected blowup point.\n",
    "    \"\"\"\n",
    "    # Smooth the KL divergences using Savitzky-Golay filter\n",
    "    smoothed = savgol_filter(kl_divergences, window_length, polyorder)\n",
    "\n",
    "    # Compute 1st and 2nd derivatives\n",
    "    first_derivative = np.gradient(smoothed)\n",
    "    second_derivative = np.gradient(first_derivative)\n",
    "\n",
    "    # Normalize the 2nd derivative\n",
    "    normalized_second_derivative = (\n",
    "        second_derivative - np.mean(second_derivative)\n",
    "    ) / np.std(second_derivative)\n",
    "\n",
    "    # Find points where the normalized 2nd derivative exceeds the threshold\n",
    "    potential_blowups = np.where(normalized_second_derivative > threshold)[0]\n",
    "\n",
    "    if len(potential_blowups) > 0:\n",
    "        # Return the first point that exceeds the threshold\n",
    "        return potential_blowups[0]\n",
    "    else:\n",
    "        # If no point exceeds the threshold, return the point of maximum 2nd derivative\n",
    "        return np.argmax(second_derivative)\n",
    "\n",
    "\n",
    "def euclidean_distance_tensor_vector(tensor, vector):\n",
    "    \"\"\"\n",
    "    Compute the Euclidean distance between each slice of a tensor and a vector.\n",
    "\n",
    "    Args:\n",
    "    tensor (torch.Tensor or np.ndarray): A tensor of shape (N, D) where N is the number of slices\n",
    "                                         and D is the dimensionality of each slice.\n",
    "    vector (torch.Tensor or np.ndarray): A vector of shape (D,)\n",
    "\n",
    "    Returns:\n",
    "    torch.Tensor or np.ndarray: A 1D array of Euclidean distances for each slice of the tensor\n",
    "    \"\"\"\n",
    "    if isinstance(tensor, np.ndarray) and isinstance(vector, np.ndarray):\n",
    "        return np.sqrt(np.sum((tensor - vector) ** 2, axis=1))\n",
    "    elif isinstance(tensor, torch.Tensor) and isinstance(vector, torch.Tensor):\n",
    "        return torch.sqrt(torch.sum((tensor - vector.unsqueeze(0)) ** 2, dim=1))\n",
    "    else:\n",
    "        raise TypeError(\"Both inputs must be either numpy arrays or PyTorch tensors\")"
   ]
  },
  {
   "cell_type": "code",
   "execution_count": 3,
   "metadata": {},
   "outputs": [
    {
     "name": "stdout",
     "output_type": "stream",
     "text": [
      "Loaded pretrained model gpt2 into HookedTransformer\n",
      "cuda\n"
     ]
    }
   ],
   "source": [
    "model = HookedTransformer.from_pretrained(\"gpt2\")\n",
    "device = get_device_str()\n",
    "\n",
    "print(device)"
   ]
  },
  {
   "cell_type": "code",
   "execution_count": 5,
   "metadata": {},
   "outputs": [
    {
     "name": "stderr",
     "output_type": "stream",
     "text": [
      "100%|██████████| 1/1 [00:00<00:00,  1.75it/s]\n"
     ]
    }
   ],
   "source": [
    "perturbation_layer = \"blocks.0.hook_resid_pre\"\n",
    "saes, sparsities = get_gpt2_res_jb_saes(perturbation_layer)\n",
    "sae = saes[perturbation_layer].cpu()"
   ]
  },
  {
   "cell_type": "code",
   "execution_count": 6,
   "metadata": {},
   "outputs": [],
   "source": [
    "metadata, activations = [], []\n",
    "\n",
    "n_files = 10\n",
    "\n",
    "for path in sorted(glob(\"observations/metadata*\"))[:n_files]:\n",
    "    metadata.extend(load_jsonl(path))\n",
    "\n",
    "for path in sorted(glob(\"observations/acts*\"))[:n_files]:\n",
    "    activations.append(np.load(path))\n",
    "\n",
    "activations = np.concatenate(activations)"
   ]
  },
  {
   "cell_type": "code",
   "execution_count": 8,
   "metadata": {},
   "outputs": [
    {
     "data": {
      "text/plain": [
       "(10000, 100, 768)"
      ]
     },
     "execution_count": 8,
     "metadata": {},
     "output_type": "execute_result"
    }
   ],
   "source": [
    "activations.shape"
   ]
  },
  {
   "cell_type": "code",
   "execution_count": 9,
   "metadata": {},
   "outputs": [],
   "source": [
    "resid_stream_mean = torch.tensor(activations[:, 0, :]).mean(dim=0).numpy()"
   ]
  },
  {
   "cell_type": "code",
   "execution_count": 16,
   "metadata": {},
   "outputs": [
    {
     "name": "stdout",
     "output_type": "stream",
     "text": [
      "tensor(99)\n"
     ]
    },
    {
     "data": {
      "image/png": "[encoded data removed]",
      "text/plain": [
       "<Figure size 640x480 with 1 Axes>"
      ]
     },
     "metadata": {},
     "output_type": "display_data"
    }
   ],
   "source": [
    "idx = 0\n",
    "\n",
    "m = metadata[idx]\n",
    "steps = m[\"steps_metadata\"]\n",
    "kl_div = [s[\"kl_div\"] for s in steps]\n",
    "sims = F.cosine_similarity(\n",
    "    torch.tensor(activations[idx]), torch.tensor(resid_stream_mean)\n",
    ")\n",
    "\n",
    "# sims = euclidean_distance_tensor_vector(activations[idx], resid_stream_mean)\n",
    "\n",
    "max_cosine_sim = sims.argmin()\n",
    "print(max_cosine_sim)\n",
    "bp = find_blowup_max_slope(kl_div)\n",
    "# bp = find_blowup_point(kl_div)\n",
    "\n",
    "plt.plot(kl_div)\n",
    "plt.axvline(x=bp, color=\"tab:red\", linestyle=\"--\", linewidth=1, label=\"blowup\")\n",
    "# plt.axvline(x=max_cosine_sim, color=\"tab:green\", linestyle=\"--\", linewidth=1, label=\"max_cosine_sim\")\n",
    "plt.show()\n",
    "\n",
    "# plt.plot(sims)\n",
    "# plt.axvline(x=bp, color=\"tab:red\", linestyle=\"--\", linewidth=1, label=\"blowup\")\n",
    "# plt.axvline(x=max_cosine_sim, color=\"tab:green\", linestyle=\"--\", linewidth=1, label=\"max_cosine_sim\")\n",
    "# plt.show()"
   ]
  },
  {
   "cell_type": "code",
   "execution_count": 17,
   "metadata": {},
   "outputs": [],
   "source": [
    "bps = []\n",
    "sims_to_resid_mean = []\n",
    "\n",
    "for idx, m in enumerate(metadata):\n",
    "    m = metadata[idx]\n",
    "    steps = m[\"steps_metadata\"]\n",
    "    dists = [s[\"kl_div\"] for s in steps]\n",
    "    sims = F.cosine_similarity(\n",
    "        torch.tensor(activations[idx]), torch.tensor(resid_stream_mean)\n",
    "    )\n",
    "    cosine_sim = sims.argmax()\n",
    "\n",
    "    # sims = euclidean_distance_tensor_vector(activations[idx], resid_stream_mean)\n",
    "    # cosine_sim = sims.argmin()\n",
    "\n",
    "    # bp = find_blowup_point(dists)\n",
    "    bp = find_blowup_max_slope(dists)\n",
    "\n",
    "    bps.append(bp)\n",
    "    sims_to_resid_mean.append(cosine_sim)"
   ]
  },
  {
   "cell_type": "code",
   "execution_count": 18,
   "metadata": {},
   "outputs": [
    {
     "data": {
      "text/plain": [
       "PearsonRResult(statistic=-0.3459624472929399, pvalue=3.945744156515004e-279)"
      ]
     },
     "execution_count": 18,
     "metadata": {},
     "output_type": "execute_result"
    }
   ],
   "source": [
    "stats.pearsonr(bps, sims_to_resid_mean)"
   ]
  },
  {
   "cell_type": "code",
   "execution_count": 14,
   "metadata": {},
   "outputs": [
    {
     "data": {
      "image/png": "[encoded data removed]",
      "text/plain": [
       "<Figure size 640x480 with 1 Axes>"
      ]
     },
     "metadata": {},
     "output_type": "display_data"
    }
   ],
   "source": [
    "plt.scatter(bps, sims_to_resid_mean)\n",
    "plt.xlabel(\"Blowup Steps\")\n",
    "plt.ylabel(\"Cosine Similarity to Resid Mean\")\n",
    "plt.show()"
   ]
  },
  {
   "cell_type": "code",
   "execution_count": null,
   "metadata": {},
   "outputs": [],
   "source": []
  }
 ],
 "metadata": {
  "kernelspec": {
   "display_name": "virtualenvs",
   "language": "python",
   "name": "python3"
  },
  "language_info": {
   "codemirror_mode": {
    "name": "ipython",
    "version": 3
   },
   "file_extension": ".py",
   "mimetype": "text/x-python",
   "name": "python",
   "nbconvert_exporter": "python",
   "pygments_lexer": "ipython3",
   "version": "3.10.14"
  }
 },
 "nbformat": 4,
 "nbformat_minor": 2
}
